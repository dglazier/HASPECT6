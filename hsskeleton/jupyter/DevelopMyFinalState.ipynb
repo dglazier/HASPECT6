{
 "cells": [
  {
   "cell_type": "markdown",
   "metadata": {},
   "source": [
    "# Develop the final state class\n",
    "## There are 3 parts of the class the user is primarily responsible for\n",
    "1. Calculations specific to each topology e.g. start time, missing mass,....\n",
    "2. Calculations common to all topologies, typically the Kinematics of the reaction\n",
    "3. The Data to be saved in an output tree"
   ]
  },
  {
   "cell_type": "markdown",
   "metadata": {},
   "source": [
    "## Topology Specific\n",
    "This requires defining the Topo_X functions where C is the number of the topology.\n",
    "These are saved in a seperate file ToposXXX.h. We will edit this directly in this Jupyter notebook.\n",
    "\n",
    "Here you can set the reaction start time to allow calculation of DeltaTime for PID purposes. It may be you want to take this from one particular type of particle such as scattered electron or tagger photon.\n",
    "You should also calculate the missing mass for this topology and other masses specific to a topology.\n",
    "\n",
    "Again you will need to change XXX to your class name\n",
    "\n",
    "**Note to save the file you must run the jupyter cell**\n",
    "\n",
    "You will probably want to use the reconstructed missing 4-vector as the atualll missing particle 4-vector. To do this, after calculating HSLorentzVector miss give it to the missing particle in the topology and fix its mass to the PDGMass, you can use the particle FixP4 function for this. For example, if the only particle I did not detect for a particular topology was the proton I can calculate miss and:\n",
    "\n",
    "fProton.FixP4(miss);\n",
    "\n",
    "**To edit the file I must change the name of the file, removing XXX for my own FinalState name then run the following cell**"
   ]
  },
  {
   "cell_type": "code",
   "execution_count": null,
   "metadata": {},
   "outputs": [],
   "source": [
    "%edit ToposXXX.h"
   ]
  },
  {
   "cell_type": "markdown",
   "metadata": {},
   "source": [
    "## Common Calculations : Kinematics\n",
    "The final state kinematics are common to all topologies so we only need to write one function.\n",
    "We can also make use of the Kinematics calculator HSKinematics (use as fKine) for calculating standard production and decay quantities. Remember to prefix any variable you wish to save with \"TD.\" then add them to the TreeData class in the next step."
   ]
  },
  {
   "cell_type": "code",
   "execution_count": null,
   "metadata": {},
   "outputs": [],
   "source": [
    "%edit KinematicsXXX.h"
   ]
  },
  {
   "cell_type": "markdown",
   "metadata": {},
   "source": [
    "## Tree Data\n",
    "The data you write in a tree is connected via a TreeData class which has data members which will be the tree leafs i.e. data you can perform further analysis on (e.g. histogram, event fitting). Every variable you add to the class can be accessed in your final state class with TM.var=some number;"
   ]
  },
  {
   "cell_type": "code",
   "execution_count": null,
   "metadata": {},
   "outputs": [],
   "source": [
    "%edit TreeDataXXX.h"
   ]
  },
  {
   "cell_type": "markdown",
   "metadata": {},
   "source": [
    "Compiling Now you can try and compile all of the code together. You may need to go back and fix bugs after. This is best done by removing the %edit cells and doing a restart and run whole notebook. Ore restarting and clicking through all cells apart from %edit"
   ]
  },
  {
   "cell_type": "code",
   "execution_count": null,
   "metadata": {},
   "outputs": [],
   "source": [
    "gROOT->ProcessLine(\".x LoadXXX.C+\");"
   ]
  }
 ],
 "metadata": {
  "kernelspec": {
   "display_name": "ROOT C++",
   "language": "c++",
   "name": "root"
  },
  "language_info": {
   "codemirror_mode": "text/x-c++src",
   "file_extension": ".C",
   "mimetype": " text/x-c++src",
   "name": "c++"
  }
 },
 "nbformat": 4,
 "nbformat_minor": 2
}
