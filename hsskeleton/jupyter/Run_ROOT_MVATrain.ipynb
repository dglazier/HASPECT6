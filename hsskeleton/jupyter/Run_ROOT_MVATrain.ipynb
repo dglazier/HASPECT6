{
 "cells": [
  {
   "cell_type": "markdown",
   "metadata": {},
   "source": [
    "# Run the final state algorithm on a ROOT HSDATA file"
   ]
  },
  {
   "cell_type": "markdown",
   "metadata": {},
   "source": [
    "First create an object of your final state class. You may configure it if you want to limit the number of particles in an event or set to just run on generated simulation data.\n",
    "This notebook is equivalent to the RunFSRootXXX.C macro which will be in the code directory.\n",
    "Again just change XXX for your class name.\n",
    "The string arguements set which particles you would like to use their pre-determined PID for and which you would like to be inclusive (i.e. any number of thse particles).\n",
    "**Example**, \n",
    "1. for tagged photon experiment I might want fs(\"Beam\",\"Beam\")\n",
    "This means use predetermined photon ID (i.e. I know it came from the tagger) and I will analyse events with any number of tagger photons.\n",
    "2. fs(\"e-\",\"proton:pi+:pi-\")  i.e. use predetemined electron PID and just determine hadron species based on charge and try all combinations in events with any number of proton,pi+,pi-, but with the number of electrons defined for the topology\n",
    "3. fs(\"NONE\",\"ALL\") => do not use any PID info other than charge, analyse events with any number of particles (this can be limited by SetMaxParticles)"
   ]
  },
  {
   "cell_type": "code",
   "execution_count": null,
   "metadata": {},
   "outputs": [],
   "source": [
    "gROOT->ProcessLine(\".x LoadXXX.C+\"); //Load the classes"
   ]
  },
  {
   "cell_type": "code",
   "execution_count": null,
   "metadata": {},
   "outputs": [],
   "source": [
    " XXX fs(\"NONE\",\"ALL\"); //string arguments => PID, INCLUSIVE\n",
    "  // fs.SetGenerated(); //just analyse generated branch\n",
    "  // fs.SetMaxParticles(10); //max number of particles of any 1 type\n",
    " "
   ]
  },
  {
   "cell_type": "markdown",
   "metadata": {},
   "source": [
    "Create an output tree. Here we will use a FiledTree object which is a wrapper class to a tree in a file. We will also create this as a smart pointer so we can delete it at the end by calling reset(), this will save the tree to disk. The Filed tree needs 2 strings ,1 a treename and the other the file name. You should give the full path for where you would like the files saved. It will overwrite any existing files. "
   ]
  },
  {
   "cell_type": "code",
   "execution_count": null,
   "metadata": {},
   "outputs": [],
   "source": [
    "  //strings = treename and filename (give full path)\n",
    "  auto output = new FiledTree(\"FinalTree\",\"OutPUT.root\");\n",
    "  fs.FinalStateOutTree(output->Tree()); //connect ouput tree to final state branches"
   ]
  },
  {
   "cell_type": "markdown",
   "metadata": {},
   "source": [
    "We can apply some broad delta time cuts to remove any complete junk events"
   ]
  },
  {
   "cell_type": "code",
   "execution_count": null,
   "metadata": {},
   "outputs": [],
   "source": [
    "ParticleCutsManager cutsman;\n",
    "auto otherCut=make_shared<DeltaTimeCut>(20); //20ns cut for all other particles\n",
    "cutsman.SetDefaultCut(otherCut); //assign to manager\n",
    "cutsman.ConfigureCuts(&fs);    //propogate the cuts to topologies in fs"
   ]
  },
  {
   "cell_type": "markdown",
   "metadata": {},
   "source": [
    "**Particle Data** here we are going to make seperate trees for each topology and only keep the detected particle information in each one. These trees are then used to train the classifiers"
   ]
  },
  {
   "cell_type": "code",
   "execution_count": null,
   "metadata": {},
   "outputs": [],
   "source": [
    "auto treeman=new ParticleDataManager(\"/path/to/save/particlesPD/\");\n",
    "//treeman->SetParticleVars(\"Beam\",{\"P\",\"Time\"}); //For beam only interesetef in energy and time\n",
    "treeman->ConfigureTreeParticles(&fs); //propogate through topologies\n",
    "//treeman.SetN(50000); //Number of events required for each topo. Number of train+test events must be less than this\n",
    "fs.RegisterPostWorkAction(treeman); //register post-work i.e. after kinematics is called and all calculations"
   ]
  },
  {
   "cell_type": "markdown",
   "metadata": {},
   "source": [
    "Now we configure the input data. Here we use a ROOT file presaved in HSDATA format. It is possible to analyse other dataformats via the DataManager dereived classes. \n",
    "For this TMVA training we need to load simulated events to act as signal, we may use data or simulated background as backgound. The AddParticle() function in XXX.C must be configured to read the generated truth values properly e.g.\n",
    "\n",
    "      AddParticle(\"Beam\",&fBeam,kTRUE,-1);\n",
    "      AddParticle(\"Proton\",&fProton,kTRUE,0);\n",
    "      AddParticle(\"Kp\",&fKp,kTRUE,1);\n",
    "      AddParticle(\"Km\",&fKm,kTRUE,2);\n",
    "\n",
    "Where -1 => Beam not in MCevent; 0,1,2 => Proton, Kp, Km are the first 3 particles in the generated event list."
   ]
  },
  {
   "cell_type": "code",
   "execution_count": null,
   "metadata": {},
   "outputs": [],
   "source": [
    " //create datamanager\n",
    "  auto dm=std::make_shared<DataManager>();\n",
    "\n",
    "  //And make a chain of data files\n",
    "  TChain chain(\"HSParticles\");\n",
    "  chain.Add(\"/indir/expData_*root\");  //Add background events\n",
    "  chain.Add(\"/simdir/simData_*root\")  //Add signal  events\n",
    "  dm->InitChain(&chain);\n",
    "\n",
    "  //connect FinalState to Data by moving the pointer\n",
    "  fs.SetDataManager(dm);"
   ]
  },
  {
   "cell_type": "markdown",
   "metadata": {},
   "source": [
    "Analyse all the events. Not you may prefer just looping over the data manager directly via while(dm->ReadEvent()) fs->Process();\n",
    "You can also supply a number of events to analyse e.g. fs.ProcessData(100);"
   ]
  },
  {
   "cell_type": "code",
   "execution_count": null,
   "metadata": {},
   "outputs": [],
   "source": [
    "cout<<\"Number of Events to process \"<<chain.GetEntries()<<endl;\n",
    "fs.ProcessData(); //No number give, analyse all events in chain"
   ]
  },
  {
   "cell_type": "markdown",
   "metadata": {},
   "source": [
    "Draw some variables from your tree. e.g. You will need to change to match your own particles"
   ]
  },
  {
   "cell_type": "code",
   "execution_count": null,
   "metadata": {},
   "outputs": [],
   "source": [
    "TCanvas c3;\n",
    "c3.Divide(2,2);\n",
    "c3.cd(1);\n",
    "treeman->GetParticleData(0)->GetTree()->Draw(\"BeamP:BeamTime>>h1(100,-10,10,100,0.4)\",\"\",\"col1\");\n",
    "c3.cd(2);\n",
    "treeman->GetParticleData(0)->GetTree()->Draw(\"ProtonP:ProtonTime>>h2(100,-10,10,100,0,4)\",\"\",\"col1\");\n",
    "c3.cd(3);\n",
    "treeman->GetParticleData(0)->GetTree()->Draw(\"KpP:KpTime>>h3(100,-10,10,100,0,4)\",\"\",\"col1\");\n",
    "c3.cd(4);\n",
    "treeman->GetParticleData(0)->GetTree()->Draw(\"KmP:KmTime>>h4(100,-10,10,100,0,4)\",\"\",\"col1\");\n"
   ]
  },
  {
   "cell_type": "markdown",
   "metadata": {},
   "source": [
    "Now train TMVA classifiers"
   ]
  },
  {
   "cell_type": "code",
   "execution_count": null,
   "metadata": {},
   "outputs": [],
   "source": [
    "gROOT->ProcessLine(\".x $HSCODE/hsmva/LoadHSMVA.C+\");"
   ]
  },
  {
   "cell_type": "code",
   "execution_count": null,
   "metadata": {},
   "outputs": [],
   "source": [
    " for(UInt_t ip=0;ip<treeman->NData();ip++ ){ //Loop over topologies\n",
    "   auto pd=treeman->GetParticleData(ip);\n",
    "\n",
    "   auto trainer=  new TrainSignalID(Form(\"Topo%d\",ip),\"!V:Silent:Color:DrawProgressBar:Transformations=I;D;P;G,D:AnalysisType=Classification\");\n",
    "     \n",
    "   trainer->SetOutDir(treeman->OutDir());\n",
    "   trainer->IgnoreBranches(\"Signal:Background\"); //ignore these branches for training\n",
    "   trainer->AddSignalTree(pd->GetTree(),\"Signal\"); //Use \"Signal\" branch to filter Signal events\n",
    "   trainer->AddBackgroundTree(pd->GetTree(),\"Background\"); //Use \"Background\" branch for bg events\n",
    "   trainer->SetNTrainTest(50000,50000); //set number of training and testing events, there must be sufficient number in the trees for each topo\n",
    "   trainer->PrepareTrees(); \n",
    "   //trainer->BookMethod(Meths.BDTA); //choose some classifiers\n",
    "   trainer->BookMethod(Meths.MLP); //choose some classifiers\n",
    "   trainer->DoTraining();\n",
    "   trainer->DrawROCCurve();\n",
    "   //trainer->DrawResponses();\n",
    "   delete trainer;\n",
    "  }"
   ]
  },
  {
   "cell_type": "markdown",
   "metadata": {},
   "source": [
    "And remember to save the tree!"
   ]
  },
  {
   "cell_type": "code",
   "execution_count": null,
   "metadata": {},
   "outputs": [],
   "source": [
    "delete output;"
   ]
  }
 ],
 "metadata": {
  "kernelspec": {
   "display_name": "ROOT C++",
   "language": "c++",
   "name": "root"
  },
  "language_info": {
   "codemirror_mode": "text/x-c++src",
   "file_extension": ".C",
   "mimetype": " text/x-c++src",
   "name": "c++"
  }
 },
 "nbformat": 4,
 "nbformat_minor": 2
}
