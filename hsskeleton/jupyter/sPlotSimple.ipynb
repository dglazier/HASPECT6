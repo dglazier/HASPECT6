{
 "cells": [
  {
   "cell_type": "markdown",
   "metadata": {},
   "source": [
    "## Example sPlot  with data fitting using a simple PDF\n",
    "\n",
    "First load the hs fit classes"
   ]
  },
  {
   "cell_type": "code",
   "execution_count": null,
   "metadata": {},
   "outputs": [],
   "source": [
    "gROOT->ProcessLine(\".x $HSCODE/hsfit/LoadFit.C+\")"
   ]
  },
  {
   "cell_type": "markdown",
   "metadata": {},
   "source": [
    "### Construct an sPlot object for running the fit\n",
    "\n",
    "Set an output directory for saving weights and plots and stdout"
   ]
  },
  {
   "cell_type": "code",
   "execution_count": null,
   "metadata": {},
   "outputs": [],
   "source": [
    "sPlot RF;\n",
    "RF.SetUp().SetOutDir(\"/OUTPUT/DIRECTORY\");"
   ]
  },
  {
   "cell_type": "markdown",
   "metadata": {},
   "source": [
    "### Set an observables\n",
    "\n",
    "These are the fit variables. In general you can fit in as many dimensions as you need by supplying more variables. You should chenge X to a variable in your tree with a sensible range.\n",
    "\n"
   ]
  },
  {
   "cell_type": "code",
   "execution_count": null,
   "metadata": {},
   "outputs": [],
   "source": [
    "///////////////////////////////Load Variables\n",
    "RF.SetUp().LoadVariable(\"X[-1,1]\");//should be same name as variable in tree"
   ]
  },
  {
   "cell_type": "markdown",
   "metadata": {},
   "source": [
    "IMPORTANT here we set the event ID variable. Each event in your tree should have a unique id with which to synchronise with weights.\n",
    "    This is useful as it allows us to break the data up, perform seperate fits then combine the weights afterwards.\n",
    "    The weights are not written into the input tree, rather they are stored seperately (as HS::Weights) and combined when required. This allows you to use various sets of weights when performing fits or regenerate the weights after some corrections etc."
   ]
  },
  {
   "cell_type": "code",
   "execution_count": null,
   "metadata": {},
   "outputs": [],
   "source": [
    "RF.SetUp().SetIDBranchName(\"UID\");"
   ]
  },
  {
   "cell_type": "markdown",
   "metadata": {},
   "source": [
    "### Create a signal PDF\n",
    "\n",
    "The LoadSpecies Line adds the PDF Signal to the Extended Maximum Likelihood fit and creates a corresponding yield parameter Yld_Signal which will give the number of signal events in the data after the fit.\n",
    "Note, I did not have to directly load this PDF I could have created more PDFs and combined them to make a more complicated PDF shape first.\n",
    "\n",
    "Again you should change X and the ranges of the Gaussian parameters mean and sigma."
   ]
  },
  {
   "cell_type": "code",
   "execution_count": null,
   "metadata": {},
   "outputs": [],
   "source": [
    "//////////////////////////////Make signal PDF\n",
    "RF.SetUp().FactoryPDF(\"Gaussian::Signal( X, meanX[-0.1,0.1], sigmaX[0.1,0.0001,0.5] )\");\n",
    "RF.SetUp().LoadSpeciesPDF(\"Signal\",1); "
   ]
  },
  {
   "cell_type": "markdown",
   "metadata": {},
   "source": [
    "### Create a background PDF\n",
    "\n",
    "Here we just use a quadratic Chebychev polynomial to describe a smooth background. You can add extra a2,a3,etc. to increase the degree of the polynomial"
   ]
  },
  {
   "cell_type": "code",
   "execution_count": null,
   "metadata": {},
   "outputs": [],
   "source": [
    "//////////////////////////////Make background PDF\n",
    "RF.SetUp().FactoryPDF(\"Chebychev::BG(X,{a0[-0.1,-1,1],a1[0.1,-1,1]})\");\n",
    "RF.SetUp().LoadSpeciesPDF(\"BG\",1);"
   ]
  },
  {
   "cell_type": "markdown",
   "metadata": {},
   "source": [
    "### Define Bins/Splits\n",
    "Often you wil want to split the data into distinct bins, in invariant mass or angle for example, and perform seperate fits to each bin. Here we can set as many different variables to split the data on as we like. Here we must use the Binner class accessed via RF.Bins() to propogate the splits into data and simulated events.\n",
    "\n",
    "The function LoadBinVars takes a variable to make bins out of which has to be in the data tree (\"Y\"), the number of bins to make and the limits of the variable. Alternatively you can supply the variable name, number of bins and an array of bin edges as for TAxis.\n",
    "\n",
    "Again change \"Y\" for the name of the variable you want to split in."
   ]
  },
  {
   "cell_type": "code",
   "execution_count": null,
   "metadata": {},
   "outputs": [],
   "source": [
    "RF.Bins().LoadBinVar(\"Y\",5,3,4);"
   ]
  },
  {
   "cell_type": "markdown",
   "metadata": {},
   "source": [
    "### Load Data\n",
    "\n",
    "\n",
    "The treename is FinalTree and the data files are OUTPUT.root.\n",
    "Change these to whatever your data is stored as."
   ]
  },
  {
   "cell_type": "code",
   "execution_count": null,
   "metadata": {},
   "outputs": [],
   "source": [
    "///////////////////////////Load Data\n",
    "RF.LoadData(\"FinalTree\",\"OUTPUT.root\");"
   ]
  },
  {
   "cell_type": "markdown",
   "metadata": {},
   "source": [
    "Turn on javascript root for interactive plots (even when saved as html file!)"
   ]
  },
  {
   "cell_type": "code",
   "execution_count": null,
   "metadata": {},
   "outputs": [],
   "source": [
    "%jsroot"
   ]
  },
  {
   "cell_type": "markdown",
   "metadata": {},
   "source": [
    "### Run the fit.\n",
    "The test output will be redirected to your specified output directory (see code cell 2) as file logRooFit.txt. This will give full details of the fit.\n",
    "Here we will just report the final result, the weights and the plots of fit PDF overlayed on the data as well as the fit residuals and pulls.\n",
    "\n",
    "There are different options for running. \n",
    "To just run standard use Here::Go and the fits will just be performed within this interactive session, sequentially in the case of bins.\n",
    "\n",
    "Here::One(&RF,i) will run one singal fit from the different bins produce with LoadBinVars, where i gives the index of the bin\n",
    "\n",
    "Use Proof::Go(&RF,N) and the fits will be run in parallel via PROOF with each split/bin running on a different core, where N = number of cores to use.\n",
    "    "
   ]
  },
  {
   "cell_type": "code",
   "execution_count": null,
   "metadata": {},
   "outputs": [],
   "source": [
    "Here::Go(&RF);\n",
    "//Here::One(&RF,3);\n",
    "//Proof::Go(&RF,1);"
   ]
  },
  {
   "cell_type": "markdown",
   "metadata": {},
   "source": [
    "### Draw some weighted variables\n",
    "\n",
    "I can now use the resulting weights to make sPlots of the other variables in the tree, disentangling signal from background. \n",
    "I use the DrawWeighted function which takes standard TTree::Draw option for first argument and the weight species with the second (i.e. here I could plot Signal or BG) \n",
    "\n",
    "Here V1 and V2 would be other variables in the tree."
   ]
  },
  {
   "cell_type": "code",
   "execution_count": null,
   "metadata": {
    "scrolled": false
   },
   "outputs": [],
   "source": [
    "auto* can=new TCanvas;\n",
    "can->Divide(2,1);\n",
    "can->cd(1);\n",
    "RF.DrawWeighted(\"V1>>V1(100,0,10)\",\"Signal\");\n",
    "\n",
    "can->cd(2);\n",
    "RF.DrawWeighted(\"V2>>V2(100,0,10)\",\"Signal\");\n",
    "\n",
    "can->Draw();"
   ]
  }
 ],
 "metadata": {
  "kernelspec": {
   "display_name": "ROOT C++",
   "language": "c++",
   "name": "root"
  },
  "language_info": {
   "codemirror_mode": "text/x-c++src",
   "file_extension": ".C",
   "mimetype": " text/x-c++src",
   "name": "c++"
  }
 },
 "nbformat": 4,
 "nbformat_minor": 2
}
