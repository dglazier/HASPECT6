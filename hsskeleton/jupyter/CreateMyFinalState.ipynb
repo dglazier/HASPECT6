{
 "cells": [
  {
   "cell_type": "markdown",
   "metadata": {},
   "source": [
    "# Create your own final state class\n",
    "\n",
    "First 2 lines set the environment you should have HSCODE set as an shell environment variable when you start up root --notebook"
   ]
  },
  {
   "cell_type": "code",
   "execution_count": null,
   "metadata": {},
   "outputs": [],
   "source": [
    "gROOT->ProcessLine(Form(\".x $HSCODE/hsskeleton/LoadSkeleton.C+\"));"
   ]
  },
  {
   "cell_type": "markdown",
   "metadata": {},
   "source": [
    "Create the skeleton code maker. This will be used to configure and produce the final state class.\n",
    "If you want to analyse CLAS data replace FSSkeleton with CLASSkeleton\n",
    "If you want to analyse CLAS12 data replace FSSkeleton with CLAS12Skeleton\n",
    "..."
   ]
  },
  {
   "cell_type": "code",
   "execution_count": null,
   "metadata": {},
   "outputs": [],
   "source": [
    "FSSkeleton sk;"
   ]
  },
  {
   "cell_type": "markdown",
   "metadata": {},
   "source": [
    "Give your class a name e.g. replace YourNameNotThis with Pi2, OmegaP,... Just do not start with a number"
   ]
  },
  {
   "cell_type": "code",
   "execution_count": null,
   "metadata": {},
   "outputs": [],
   "source": [
    "sk.SetFinalState(\"YourNameNotThis\");"
   ]
  },
  {
   "cell_type": "markdown",
   "metadata": {},
   "source": [
    "Set names of actual final state particles of the reaction that you will use.\n",
    "\n",
    "**First detected particles**\n",
    "\n",
    "Syntax Name1:type1, Name2:type2, ... where type corresponds to a ROOT PDG name and NameX is used to add a THSParticle data member fName1 to the final state class.\n",
    "\n",
    "e.g. sk->SetFinalStateParts(\"Electron:e-, Proton:proton, Pip:pi+, Pim:pi-, Gamma1:gamma, Gamma2:gamma\");\n",
    "\n",
    "For tagged photon beam experiments use \"Beam:Beam,...\""
   ]
  },
  {
   "cell_type": "code",
   "execution_count": null,
   "metadata": {},
   "outputs": [],
   "source": [
    "sk.SetFinalStateParts(\"\");"
   ]
  },
  {
   "cell_type": "markdown",
   "metadata": {},
   "source": [
    "Set the **DETECTED** particle combinations you will analyse in each topology.\n",
    "\n",
    "Here you must use the names you defined with SetFinalStateParts()\n",
    "\n",
    "**Syntax**: p1:p2:p3 for 1 topology, seperate with a \",\" then p1:p2 for next, etc.\n",
    "e.g. sk->SetFinalStateTopo(\"Electron:Proton:Pip:Pim:Gamma1:Gamma2 , Electron:Proton:Pip:Pim\");"
   ]
  },
  {
   "cell_type": "code",
   "execution_count": null,
   "metadata": {},
   "outputs": [],
   "source": [
    " sk.SetFinalStateTopo(\"\");"
   ]
  },
  {
   "cell_type": "markdown",
   "metadata": {},
   "source": [
    "**Second Parent particles that may have decayed**\n",
    "This information is needed to construct the iterators for the different topologies.\n",
    "You must give the parent particle name, type and decay products. \n",
    "A Parent defined here may also be a child of another parent.\n",
    "e.g. sk->SetFinalStateParents(\"Pi0:pi0;Gamma1;Gamma2, Omega:omega;Pip;Pim;Pi0\");\n",
    "This defines and omega decaying to 3pi (pi+,pi0,pi-) with the pi0 decaying to 2 gamma.\n",
    "Pip, Pim, Gamma1, Gamma2 are detected particles defined in the previous step."
   ]
  },
  {
   "cell_type": "code",
   "execution_count": null,
   "metadata": {},
   "outputs": [],
   "source": [
    "sk.SetFinalStateParents(\"\");"
   ]
  },
  {
   "cell_type": "markdown",
   "metadata": {},
   "source": [
    "Now make some code "
   ]
  },
  {
   "cell_type": "code",
   "execution_count": null,
   "metadata": {},
   "outputs": [],
   "source": [
    "sk.MakeCode();"
   ]
  },
  {
   "cell_type": "markdown",
   "metadata": {},
   "source": [
    "You should now see some new files in your current directory"
   ]
  },
  {
   "cell_type": "code",
   "execution_count": null,
   "metadata": {},
   "outputs": [],
   "source": [
    ".!ls"
   ]
  },
  {
   "cell_type": "markdown",
   "metadata": {},
   "source": [
    "You can make sure it compiles OK. A script LoadXXX.C wil have been created (where XXX is your finals state name i.e. sk.SetFinalState(\"YourNameNotThis\");). This will compile and load all the required classes. Try executing it and create an object of your class"
   ]
  },
  {
   "cell_type": "code",
   "execution_count": null,
   "metadata": {},
   "outputs": [],
   "source": [
    "gROOT->ProcessLine(\".x LoadXXX.C+\");"
   ]
  },
  {
   "cell_type": "code",
   "execution_count": null,
   "metadata": {},
   "outputs": [],
   "source": [
    "XXX finalstate;"
   ]
  },
  {
   "cell_type": "markdown",
   "metadata": {},
   "source": [
    "And now you can customise the class further\n",
    "Link to [Final State functions](DevelopMyFinalState.ipynb)"
   ]
  },
  {
   "cell_type": "code",
   "execution_count": null,
   "metadata": {},
   "outputs": [],
   "source": []
  }
 ],
 "metadata": {
  "kernelspec": {
   "display_name": "ROOT C++",
   "language": "c++",
   "name": "root"
  },
  "language_info": {
   "codemirror_mode": "text/x-c++src",
   "file_extension": ".C",
   "mimetype": " text/x-c++src",
   "name": "c++"
  }
 },
 "nbformat": 4,
 "nbformat_minor": 2
}
