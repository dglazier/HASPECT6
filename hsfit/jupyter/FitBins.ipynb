{
 "cells": [
  {
   "cell_type": "code",
   "execution_count": 1,
   "metadata": {},
   "outputs": [
    {
     "name": "stdout",
     "output_type": "stream",
     "text": [
      "^^^^^^^^^^^^^^^^^^^^^^^^^^^^^^^ FiledTree\n",
      "^^^^^^^^^^^^^^^^^^^^^^^^^^^^^^^ Bins\n",
      "^^^^^^^^^^^^^^^^^^^^^^^^^^^^^^^ Setup\n",
      "\n",
      "\u001b[1mRooFit v3.60 -- Developed by Wouter Verkerke and David Kirkby\u001b[0m \n",
      "                Copyright (C) 2000-2013 NIKHEF, University of California & Stanford University\n",
      "                All rights reserved, please read http://roofit.sourceforge.net/license.txt\n",
      "\n",
      "^^^^^^^^^^^^^^^^^^^^^^^^^^^^^^^ Data\n",
      "^^^^^^^^^^^^^^^^^^^^^^^^^^^^^^^ Binner\n",
      "(long) 0\n"
     ]
    },
    {
     "name": "stderr",
     "output_type": "stream",
     "text": [
      "Info in <ACLiC>: unmodified script has already been compiled and loaded\n",
      "Info in <ACLiC>: unmodified script has already been compiled and loaded\n"
     ]
    }
   ],
   "source": [
    "gROOT->ProcessLine(\".x $HSCODE/hsfit2/LoadFit.C+\")"
   ]
  },
  {
   "cell_type": "code",
   "execution_count": 1,
   "metadata": {},
   "outputs": [],
   "source": [
    "  TChain chain(\"bins\");\n",
    "  chain.Add(\"$HSCODE/hsfit2/BinIndices.root\");\n",
    "  chain.SetProof();\n"
   ]
  },
  {
   "cell_type": "code",
   "execution_count": 2,
   "metadata": {},
   "outputs": [
    {
     "name": "stdout",
     "output_type": "stream",
     "text": [
      " +++ Starting PROOF-Lite with 12 workers +++\n"
     ]
    },
    {
     "name": "stderr",
     "output_type": "stream",
     "text": [
      "Opening connections to workers: OK (12 workers)                 \n",
      "Setting up worker servers: 6 out of 12 (50 %)\r"
     ]
    },
    {
     "name": "stdout",
     "output_type": "stream",
     "text": [
      "PROOF set to parallel mode (12 workers)\n",
      "PROOF set to parallel mode (2 workers)\n",
      "PROOF set to parallel mode (2 workers)\n"
     ]
    },
    {
     "name": "stderr",
     "output_type": "stream",
     "text": [
      "Setting up worker servers: OK (12 workers)                 \n",
      "Info in <TUnixSystem::ACLiC>: creating shared library /work/Dropbox/HaSpect/dev/HASPECT6/hsdata/FiledTree_C.so\n",
      "Warning in cling::IncrementalParser::CheckABICompatibility():\n",
      "  Possible C++ standard library mismatch, compiled with __GLIBCXX__ '20180415'\n",
      "  Extraction of runtime standard library version was: '20180720'\n"
     ]
    },
    {
     "name": "stdout",
     "output_type": "stream",
     "text": [
      "16:40:47 27476 Wrk-0.0 | Info in <TProofServLite::HandleCache>: loading macro FiledTree.C++ ...\n",
      "16:40:47 27476 Wrk-0.0 | Info in <TUnixSystem::ACLiC>: creating shared library /home/dglazier/.proof/cache/./FiledTree_C.so\n",
      "Warning in cling::IncrementalParser::CheckABICompatibility():\n",
      "  Possible C++ standard library mismatch, compiled with __GLIBCXX__ '20180415'\n",
      "  Extraction of runtime standard library version was: '20180720'\n",
      "16:40:51 27478 Wrk-0.1 | Info in <TProofServLite::HandleCache>: loading macro FiledTree.C++ ...\n",
      "16:40:51 27478 Wrk-0.1 | Info in <TUnixSystem::ACLiC>: creating shared library /home/dglazier/.proof/cache/./FiledTree_C.so\n",
      "Warning in cling::IncrementalParser::CheckABICompatibility():\n",
      "  Possible C++ standard library mismatch, compiled with __GLIBCXX__ '20180415'\n",
      "  Extraction of runtime standard library version was: '20180720'\n"
     ]
    },
    {
     "name": "stderr",
     "output_type": "stream",
     "text": [
      "Info in <TUnixSystem::ACLiC>: creating shared library /work/Dropbox/HaSpect/dev/HASPECT6/hsdata/Bins_C.so\n",
      "Warning in cling::IncrementalParser::CheckABICompatibility():\n",
      "  Possible C++ standard library mismatch, compiled with __GLIBCXX__ '20180415'\n",
      "  Extraction of runtime standard library version was: '20180720'\n"
     ]
    },
    {
     "name": "stdout",
     "output_type": "stream",
     "text": [
      "16:40:54 27478 Wrk-0.1 | Info in <TProofServLite::HandleCache>: loading macro Bins.C++ ...\n",
      "16:40:54 27478 Wrk-0.1 | Info in <TUnixSystem::ACLiC>: creating shared library /home/dglazier/.proof/cache/./Bins_C.so\n",
      "Warning in cling::IncrementalParser::CheckABICompatibility():\n",
      "  Possible C++ standard library mismatch, compiled with __GLIBCXX__ '20180415'\n",
      "  Extraction of runtime standard library version was: '20180720'\n",
      "16:41:00 27476 Wrk-0.0 | Info in <TProofServLite::HandleCache>: loading macro Bins.C++ ...\n",
      "16:41:00 27476 Wrk-0.0 | Info in <TUnixSystem::ACLiC>: creating shared library /home/dglazier/.proof/cache/./Bins_C.so\n",
      "Warning in cling::IncrementalParser::CheckABICompatibility():\n",
      "  Possible C++ standard library mismatch, compiled with __GLIBCXX__ '20180415'\n",
      "  Extraction of runtime standard library version was: '20180720'\n"
     ]
    },
    {
     "name": "stderr",
     "output_type": "stream",
     "text": [
      "Info in <TUnixSystem::ACLiC>: creating shared library /work/Dropbox/HaSpect/dev/HASPECT6/hsfit2/Setup_C.so\n",
      "Warning in cling::IncrementalParser::CheckABICompatibility():\n",
      "  Possible C++ standard library mismatch, compiled with __GLIBCXX__ '20180415'\n",
      "  Extraction of runtime standard library version was: '20180720'\n"
     ]
    },
    {
     "name": "stdout",
     "output_type": "stream",
     "text": [
      "\n",
      "\u001b[1mRooFit v3.60 -- Developed by Wouter Verkerke and David Kirkby\u001b[0m \n",
      "                Copyright (C) 2000-2013 NIKHEF, University of California & Stanford University\n",
      "                All rights reserved, please read http://roofit.sourceforge.net/license.txt\n",
      "\n",
      "16:41:04 27476 Wrk-0.0 | Info in <TProofServLite::HandleCache>: loading macro Setup.C++ ...\n",
      "16:41:04 27476 Wrk-0.0 | Info in <TUnixSystem::ACLiC>: creating shared library /home/dglazier/.proof/cache/./Setup_C.so\n",
      "Warning in cling::IncrementalParser::CheckABICompatibility():\n",
      "  Possible C++ standard library mismatch, compiled with __GLIBCXX__ '20180415'\n",
      "  Extraction of runtime standard library version was: '20180720'\n",
      "\n",
      "\u001b[1mRooFit v3.60 -- Developed by Wouter Verkerke and David Kirkby\u001b[0m \n",
      "                Copyright (C) 2000-2013 NIKHEF, University of California & Stanford University\n",
      "                All rights reserved, please read http://roofit.sourceforge.net/license.txt\n",
      "\n",
      "16:41:09 27478 Wrk-0.1 | Info in <TProofServLite::HandleCache>: loading macro Setup.C++ ...\n",
      "16:41:09 27478 Wrk-0.1 | Info in <TUnixSystem::ACLiC>: creating shared library /home/dglazier/.proof/cache/./Setup_C.so\n",
      "Warning in cling::IncrementalParser::CheckABICompatibility():\n",
      "  Possible C++ standard library mismatch, compiled with __GLIBCXX__ '20180415'\n",
      "  Extraction of runtime standard library version was: '20180720'\n",
      "\n",
      "\u001b[1mRooFit v3.60 -- Developed by Wouter Verkerke and David Kirkby\u001b[0m \n",
      "                Copyright (C) 2000-2013 NIKHEF, University of California & Stanford University\n",
      "                All rights reserved, please read http://roofit.sourceforge.net/license.txt\n",
      "\n"
     ]
    },
    {
     "name": "stderr",
     "output_type": "stream",
     "text": [
      "Info in <TUnixSystem::ACLiC>: creating shared library /work/Dropbox/HaSpect/dev/HASPECT6/hsfit2/Binner_C.so\n",
      "Warning in cling::IncrementalParser::CheckABICompatibility():\n",
      "  Possible C++ standard library mismatch, compiled with __GLIBCXX__ '20180415'\n",
      "  Extraction of runtime standard library version was: '20180720'\n",
      "In file included from input_line_12:9:\n",
      "In file included from /work/Dropbox/HaSpect/dev/HASPECT6/hsfit2/Binner.C:1:\n",
      "/work/Dropbox/HaSpect/dev/HASPECT6/hsfit2/Binner.h:10:10: fatal error: 'Bins.h' file not found\n",
      "#include \"Bins.h\"\n",
      "         ^~~~~~~~\n",
      "Error in <ACLiC>: Dictionary generation failed!\n"
     ]
    },
    {
     "name": "stdout",
     "output_type": "stream",
     "text": [
      "16:41:13 27476 Wrk-0.0 | Info in <TProofServLite::HandleCache>: loading macro Binner.C++ ...\n",
      "16:41:14 27476 Wrk-0.0 | Info in <TUnixSystem::ACLiC>: creating shared library /home/dglazier/.proof/cache/./Binner_C.so\n",
      "Warning in cling::IncrementalParser::CheckABICompatibility():\n",
      "  Possible C++ standard library mismatch, compiled with __GLIBCXX__ '20180415'\n",
      "  Extraction of runtime standard library version was: '20180720'\n",
      "16:41:18 27478 Wrk-0.1 | Info in <TProofServLite::HandleCache>: loading macro Binner.C++ ...\n",
      "16:41:18 27478 Wrk-0.1 | Info in <TUnixSystem::ACLiC>: creating shared library /home/dglazier/.proof/cache/./Binner_C.so\n",
      "Warning in cling::IncrementalParser::CheckABICompatibility():\n",
      "  Possible C++ standard library mismatch, compiled with __GLIBCXX__ '20180415'\n",
      "  Extraction of runtime standard library version was: '20180720'\n"
     ]
    },
    {
     "name": "stderr",
     "output_type": "stream",
     "text": [
      "Info in <TUnixSystem::ACLiC>: creating shared library /work/Dropbox/HaSpect/dev/HASPECT6/hsfit2/Data_C.so\n",
      "Warning in cling::IncrementalParser::CheckABICompatibility():\n",
      "  Possible C++ standard library mismatch, compiled with __GLIBCXX__ '20180415'\n",
      "  Extraction of runtime standard library version was: '20180720'\n",
      "In file included from input_line_12:9:\n",
      "In file included from /work/Dropbox/HaSpect/dev/HASPECT6/hsfit2/Data.C:1:\n",
      "/work/Dropbox/HaSpect/dev/HASPECT6/hsfit2/Data.h:11:10: fatal error: 'FiledTree.h' file not found\n",
      "#include \"FiledTree.h\"\n",
      "         ^~~~~~~~~~~~~\n",
      "Error in <ACLiC>: Dictionary generation failed!\n"
     ]
    },
    {
     "name": "stdout",
     "output_type": "stream",
     "text": [
      "16:41:22 27476 Wrk-0.0 | Info in <TProofServLite::HandleCache>: loading macro Data.C++ ...\n",
      "16:41:22 27476 Wrk-0.0 | Info in <TUnixSystem::ACLiC>: creating shared library /home/dglazier/.proof/cache/./Data_C.so\n",
      "Warning in cling::IncrementalParser::CheckABICompatibility():\n",
      "  Possible C++ standard library mismatch, compiled with __GLIBCXX__ '20180415'\n",
      "  Extraction of runtime standard library version was: '20180720'\n",
      "16:41:26 27478 Wrk-0.1 | Info in <TProofServLite::HandleCache>: loading macro Data.C++ ...\n",
      "16:41:26 27478 Wrk-0.1 | Info in <TUnixSystem::ACLiC>: creating shared library /home/dglazier/.proof/cache/./Data_C.so\n",
      "Warning in cling::IncrementalParser::CheckABICompatibility():\n",
      "  Possible C++ standard library mismatch, compiled with __GLIBCXX__ '20180415'\n",
      "  Extraction of runtime standard library version was: '20180720'\n"
     ]
    }
   ],
   "source": [
    "TProof::Open(\"://lite\");\n",
    "gProof->SetParallel(2);\n",
    "\n",
    "gProof->Load(\"/work/Dropbox/HaSpect/dev/HASPECT6//hsdata/FiledTree.C++\");\n",
    "gProof->Load(\"/work/Dropbox/HaSpect/dev/HASPECT6//hsdata/Bins.C++\");\n",
    "gProof->Load(\"/work/Dropbox/HaSpect/dev/HASPECT6//hsfit2/Setup.C++\");\n",
    "gProof->Load(\"/work/Dropbox/HaSpect/dev/HASPECT6//hsfit2/Binner.C++\");\n",
    "gProof->Load(\"/work/Dropbox/HaSpect/dev/HASPECT6//hsfit2/Data.C++\");\n"
   ]
  },
  {
   "cell_type": "code",
   "execution_count": 4,
   "metadata": {},
   "outputs": [
    {
     "name": "stdout",
     "output_type": "stream",
     "text": [
      " \n"
     ]
    },
    {
     "name": "stderr",
     "output_type": "stream",
     "text": [
      "Info in <TProofLite::SetQueryRunning>: starting query: 1\n",
      "Info in <TProofQueryResult::SetRunning>: nwrks: 2\n"
     ]
    },
    {
     "name": "stdout",
     "output_type": "stream",
     "text": [
      "Bins::RunBinTree Running bins from 0 to 4\n",
      "Constructing Bin Tree /work/Dropbox/HaSpect/dev/HASPECT6/hsfit2/out//Eg3.12_/TreeBD\n",
      "Constructing Bin Tree /work/Dropbox/HaSpect/dev/HASPECT6/hsfit2/out//Eg3.38_/TreeBD\n",
      "Constructing Bin Tree /work/Dropbox/HaSpect/dev/HASPECT6/hsfit2/out//Eg3.62_/TreeBD\n",
      "Constructing Bin Tree /work/Dropbox/HaSpect/dev/HASPECT6/hsfit2/out//Eg3.88_/TreeBD\n",
      "On event 0 = 0%\n",
      "BinTree::Save() /work/Dropbox/HaSpect/dev/HASPECT6/hsfit2/out//Eg3.12_/TreeBD\n",
      "BinTree::Save() /work/Dropbox/HaSpect/dev/HASPECT6/hsfit2/out//Eg3.38_/TreeBD\n",
      "BinTree::Save() /work/Dropbox/HaSpect/dev/HASPECT6/hsfit2/out//Eg3.62_/TreeBD\n",
      "BinTree::Save() /work/Dropbox/HaSpect/dev/HASPECT6/hsfit2/out//Eg3.88_/TreeBD\n",
      "       tree name MyModel 100000 /work/Dropbox/HaSpect/dev/HASPECT6/hsfit2/Data.root\n"
     ]
    },
    {
     "name": "stderr",
     "output_type": "stream",
     "text": [
      "Info in <HS::Bins:: Bins::Save()>:  Saving HSBins to /work/Dropbox/HaSpect/dev/HASPECT6/hsfit2/out/BDEntries.root\n",
      "Looking up for exact location of files: OK (1 files)                 \n",
      "Looking up for exact location of files: OK (1 files)                 \n",
      "Info in <TPacketizer::TPacketizer>: Initial number of workers: 2\n",
      "Validating files: OK (1 files)                 \n",
      "Lite-0: all output objects have been merged                                                         \n"
     ]
    }
   ],
   "source": [
    "  gProof->SetParameter(\"PROOF_PacketizerCalibNum\", 1);\n",
    "  chain.Process(\"/work/Dropbox/HaSpect/dev/HASPECT6/hsfit2/FitSelector.C+\");\n"
   ]
  }
 ],
 "metadata": {
  "kernelspec": {
   "display_name": "ROOT C++",
   "language": "c++",
   "name": "root"
  },
  "language_info": {
   "codemirror_mode": "text/x-c++src",
   "file_extension": ".C",
   "mimetype": " text/x-c++src",
   "name": "c++"
  }
 },
 "nbformat": 4,
 "nbformat_minor": 2
}
