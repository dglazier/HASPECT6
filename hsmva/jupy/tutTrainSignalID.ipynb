{
 "cells": [
  {
   "cell_type": "markdown",
   "metadata": {},
   "source": [
    "# Example for running signal - background classification\n",
    "\n",
    "See $ROOTSYS/tutorials/tmva/TMVAClassification.C for more details.\n",
    "First get the path to the classes. The environment variable HSCODE must be set in your shell setup file (.bashrc or .tchsrc,....)\n",
    " Load/compile the hsmva classes via ROOTs ACLiC (clang-based compiler)\n"
   ]
  },
  {
   "cell_type": "code",
   "execution_count": null,
   "metadata": {},
   "outputs": [],
   "source": [
    "gROOT->ProcessLine(\".x $HSCODE/hsmva/LoadHSMVA.C+\");"
   ]
  },
  {
   "cell_type": "markdown",
   "metadata": {},
   "source": [
    "Get the TMVA tutorial data files and load them into signal and background trees"
   ]
  },
  {
   "cell_type": "code",
   "execution_count": null,
   "metadata": {},
   "outputs": [],
   "source": [
    "%%cpp -d\n",
    "#include \"GetTutorialFile.h\"\n"
   ]
  },
  {
   "cell_type": "code",
   "execution_count": null,
   "metadata": {},
   "outputs": [],
   "source": [
    "TFile* input = GetClassificationFile();\n",
    "\n",
    "auto *signalTree     = dynamic_cast<TTree*>(input->Get(\"TreeS\"));\n",
    "auto *background     = dynamic_cast<TTree*>(input->Get(\"TreeB\"));\n"
   ]
  },
  {
   "cell_type": "markdown",
   "metadata": {},
   "source": [
    "Create and configure the training.\n",
    "Must give an output directory for storing trees and training weight files. This will also be linked to the result"
   ]
  },
  {
   "cell_type": "code",
   "execution_count": null,
   "metadata": {},
   "outputs": [],
   "source": [
    "TrainSignalID train(\"TMVAClassificationTut\");\n",
    "\n",
    "train.SetOutDir(\"/work/dump\"); //Set this to a sensible output directory\n",
    "train.IgnoreBranches(\"\");//Any branches in tree not used must be flagged!\n",
    "train.AddSignalTree(signalTree); //Add signal tree\n",
    "train.AddBackgroundTree(background); //Add background tree, branches must be same as signal\n",
    "train.PrepareTrees(); //make test and training trees\n"
   ]
  },
  {
   "cell_type": "markdown",
   "metadata": {},
   "source": [
    "Book the MVA classifier we want to use.\n",
    "Either configuring by string or using predefined method from MethConf.h"
   ]
  },
  {
   "cell_type": "code",
   "execution_count": null,
   "metadata": {},
   "outputs": [],
   "source": [
    "  //Can Book methods either via standard TMVA::Factory interface...\n",
    "  train.BookMethod(TMVA::Types::kBDT, \"BDT\",\"!H:!V:NTrees=850:MinNodeSize=2.5%:MaxDepth=3:BoostType=AdaBoost:AdaBoostBeta=0.5:UseBaggedBoost:BaggedSampleFraction=0.5:SeparationType=GiniIndex:nCuts=20\");\n",
    "\n",
    "  //..or predefined methods (See HSMVA::MethConf.h)\n",
    "  train.BookMethod(HS::MVA::Meths.MLP);\n"
   ]
  },
  {
   "cell_type": "markdown",
   "metadata": {},
   "source": [
    "And run the training!"
   ]
  },
  {
   "cell_type": "code",
   "execution_count": null,
   "metadata": {},
   "outputs": [],
   "source": [
    "train.DoTraining();"
   ]
  },
  {
   "cell_type": "code",
   "execution_count": null,
   "metadata": {},
   "outputs": [],
   "source": [
    "%jsroot on"
   ]
  },
  {
   "cell_type": "markdown",
   "metadata": {},
   "source": [
    "Now make some plots. Note more diagnostics can be found in the Training.root file in the output directory.\n",
    "This includes the trees with the training and testing variables. This can also be analysed in standard ROOT\n",
    "running using TMVAGUI"
   ]
  },
  {
   "cell_type": "code",
   "execution_count": null,
   "metadata": {},
   "outputs": [],
   "source": [
    "train.DrawROCCurve();\n"
   ]
  },
  {
   "cell_type": "code",
   "execution_count": null,
   "metadata": {},
   "outputs": [],
   "source": [
    "train.DrawResponses();"
   ]
  },
  {
   "cell_type": "markdown",
   "metadata": {},
   "source": [
    "Now you can try filling a tree with the resulting response. \n",
    "The new tree can contain different data to the original trees, but must have the same branches.\n",
    "Link to [MVA result](tutSignalIDResult.ipynb)"
   ]
  }
 ],
 "metadata": {
  "kernelspec": {
   "display_name": "ROOT C++",
   "language": "c++",
   "name": "root"
  },
  "language_info": {
   "codemirror_mode": "text/x-c++src",
   "file_extension": ".C",
   "mimetype": " text/x-c++src",
   "name": "c++"
  }
 },
 "nbformat": 4,
 "nbformat_minor": 2
}
