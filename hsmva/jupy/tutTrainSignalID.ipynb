{
 "cells": [
  {
   "cell_type": "markdown",
   "metadata": {},
   "source": [
    "# Example for running signal - background classification\n",
    "\n",
    "See $ROOTSYS/tutorials/tmva/TMVAClassification.C for more details.\n",
    "First get the path to the classes. The environment variable HSCODE must be set in your shell setup file (.bashrc or .tchsrc,....)\n",
    " Load/compile the hsmva classes via ROOTs ACLiC (clang-based compiler)\n"
   ]
  },
  {
   "cell_type": "code",
   "execution_count": 1,
   "metadata": {},
   "outputs": [],
   "source": [
    "gROOT->ProcessLine(\".x $HSCODE/hsmva/LoadHSMVA.C+\");"
   ]
  },
  {
   "cell_type": "markdown",
   "metadata": {},
   "source": [
    "Get the TMVA tutorial data files and load them into signal and background trees"
   ]
  },
  {
   "cell_type": "code",
   "execution_count": 2,
   "metadata": {},
   "outputs": [],
   "source": [
    "%%cpp -d\n",
    "#include \"GetTutorialFile.h\"\n"
   ]
  },
  {
   "cell_type": "code",
   "execution_count": 3,
   "metadata": {},
   "outputs": [
    {
     "name": "stdout",
     "output_type": "stream",
     "text": [
      "--- TMVAClassification       : Using input file: ./files/tmva_class_example.root\n"
     ]
    },
    {
     "name": "stderr",
     "output_type": "stream",
     "text": [
      "Info in <TFile::OpenFromCache>: using local cache copy of http://root.cern.ch/files/tmva_class_example.root [./files/tmva_class_example.root]\n"
     ]
    }
   ],
   "source": [
    "TFile* input = GetClassificationFile();\n",
    "\n",
    "auto *signalTree     = dynamic_cast<TTree*>(input->Get(\"TreeS\"));\n",
    "auto *background     = dynamic_cast<TTree*>(input->Get(\"TreeB\"));\n"
   ]
  },
  {
   "cell_type": "markdown",
   "metadata": {},
   "source": [
    "Create and configure the training.\n",
    "Must give an output directory for storing trees and training weight files. This will also be linked to the result"
   ]
  },
  {
   "cell_type": "code",
   "execution_count": 4,
   "metadata": {},
   "outputs": [
    {
     "name": "stdout",
     "output_type": "stream",
     "text": [
      "DataSetInfo              : [TMVAClassificationTut] : Added class \"Signal\"\n",
      "                         : Add Tree TreeS of type Signal with 6000 events\n",
      "DataSetInfo              : [TMVAClassificationTut] : Added class \"Background\"\n",
      "                         : Add Tree TreeB of type Background with 6000 events\n"
     ]
    }
   ],
   "source": [
    "TrainSignalID train(\"TMVAClassificationTut\");\n",
    "\n",
    "train.SetOutDir(\"/work/dump\"); //Set this to a sensible output directory\n",
    "train.IgnoreBranches(\"\");//Any branches in tree not used must be flagged!\n",
    "train.AddSignalTree(signalTree); //Add signal tree\n",
    "train.AddBackgroundTree(background); //Add background tree, branches must be same as signal\n",
    "train.PrepareTrees(); //make test and training trees\n"
   ]
  },
  {
   "cell_type": "markdown",
   "metadata": {},
   "source": [
    "Book the MVA classifier we want to use.\n",
    "Either configuring by string or using predefined method from MethConf.h"
   ]
  },
  {
   "cell_type": "code",
   "execution_count": 10,
   "metadata": {},
   "outputs": [
    {
     "name": "stdout",
     "output_type": "stream",
     "text": [
      "Factory                  : Booking method: \u001b[1mBDT\u001b[0m\n",
      "                         : \n",
      "DataSetFactory           : [TMVAClassificationTut] : Number of events in input trees\n",
      "                         : \n",
      "                         : \n",
      "                         : Number of training and testing events\n",
      "                         : ---------------------------------------------------------------------------\n",
      "                         : Signal     -- training events            : 1000\n",
      "                         : Signal     -- testing events             : 1000\n",
      "                         : Signal     -- training and testing events: 2000\n",
      "                         : Background -- training events            : 1000\n",
      "                         : Background -- testing events             : 1000\n",
      "                         : Background -- training and testing events: 2000\n",
      "                         : \n",
      "DataSetInfo              : Correlation matrix (Signal):\n",
      "                         : ----------------------------------------\n",
      "                         :             var1    var2    var3    var4\n",
      "                         :    var1:  +1.000  +0.367  +0.593  +0.818\n",
      "                         :    var2:  +0.367  +1.000  +0.677  +0.702\n",
      "                         :    var3:  +0.593  +0.677  +1.000  +0.851\n",
      "                         :    var4:  +0.818  +0.702  +0.851  +1.000\n",
      "                         : ----------------------------------------\n",
      "DataSetInfo              : Correlation matrix (Background):\n",
      "                         : ----------------------------------------\n",
      "                         :             var1    var2    var3    var4\n",
      "                         :    var1:  +1.000  +0.858  +0.918  +0.967\n",
      "                         :    var2:  +0.858  +1.000  +0.926  +0.937\n",
      "                         :    var3:  +0.918  +0.926  +1.000  +0.971\n",
      "                         :    var4:  +0.967  +0.937  +0.971  +1.000\n",
      "                         : ----------------------------------------\n",
      "DataSetFactory           : [TMVAClassificationTut] :  \n",
      "                         : \n",
      "Factory                  : Booking method: \u001b[1mMLP\u001b[0m\n",
      "                         : \n",
      "MLP                      : [TMVAClassificationTut] : Create Transformation \"N\" with events from all classes.\n",
      "                         : \n",
      "                         : Transformation, Variable selection : \n",
      "                         : Input : variable 'var1' <---> Output : variable 'var1'\n",
      "                         : Input : variable 'var2' <---> Output : variable 'var2'\n",
      "                         : Input : variable 'var3' <---> Output : variable 'var3'\n",
      "                         : Input : variable 'var4' <---> Output : variable 'var4'\n",
      "MLP                      : Building Network. \n",
      "                         : Initializing weights\n"
     ]
    }
   ],
   "source": [
    "  //Can Book methods either via standard TMVA::Factory interface...\n",
    "  train.BookMethod(TMVA::Types::kBDT, \"BDT\",\"!H:!V:NTrees=850:MinNodeSize=2.5%:MaxDepth=3:BoostType=AdaBoost:AdaBoostBeta=0.5:UseBaggedBoost:BaggedSampleFraction=0.5:SeparationType=GiniIndex:nCuts=20\");\n",
    "\n",
    "  //..or predefined methods (See HSMVA::MethConf.h)\n",
    "  train.BookMethod(HS::MVA::Meths.MLP);\n"
   ]
  },
  {
   "cell_type": "markdown",
   "metadata": {},
   "source": [
    "And run the training!"
   ]
  },
  {
   "cell_type": "code",
   "execution_count": null,
   "metadata": {},
   "outputs": [],
   "source": [
    "train.DoTraining();"
   ]
  },
  {
   "cell_type": "code",
   "execution_count": 7,
   "metadata": {},
   "outputs": [],
   "source": [
    "%jsroot on"
   ]
  },
  {
   "cell_type": "markdown",
   "metadata": {},
   "source": [
    "Now make some plots. Note more diagnostics can be found in the Training.root file in the output directory.\n",
    "This includes the trees with the training and testing variables. This can also be analysed in standard ROOT\n",
    "running using TMVAGUI"
   ]
  },
  {
   "cell_type": "code",
   "execution_count": 8,
   "metadata": {},
   "outputs": [
    {
     "name": "stderr",
     "output_type": "stream",
     "text": [
      "\u001b[1minput_line_96:2:7: \u001b[0m\u001b[0;1;31merror: \u001b[0m\u001b[1mmember reference type 'HS::MVA::TrainSignalID' is not a pointer; did you mean to\n",
      "      use '.'?\u001b[0m\n",
      " train->DrawROCCurve();\n",
      "\u001b[0;1;32m ~~~~~^~\n",
      "\u001b[0m\u001b[0;32m      .\n",
      "\u001b[0m"
     ]
    }
   ],
   "source": [
    "train.DrawROCCurve();\n"
   ]
  },
  {
   "cell_type": "code",
   "execution_count": 9,
   "metadata": {},
   "outputs": [
    {
     "name": "stderr",
     "output_type": "stream",
     "text": [
      "\u001b[1minput_line_97:2:7: \u001b[0m\u001b[0;1;31merror: \u001b[0m\u001b[1mmember reference type 'HS::MVA::TrainSignalID' is not a pointer; did you mean to\n",
      "      use '.'?\u001b[0m\n",
      " train->DrawResponses();\n",
      "\u001b[0;1;32m ~~~~~^~\n",
      "\u001b[0m\u001b[0;32m      .\n",
      "\u001b[0m"
     ]
    }
   ],
   "source": [
    "train.DrawResponses();"
   ]
  },
  {
   "cell_type": "markdown",
   "metadata": {},
   "source": [
    "Now you can try filling a tree with the resulting response. \n",
    "The new tree can contain different data to the original trees, but must have the same branches.\n",
    "Link to [MVA result](tutSignalIDResult.ipynb)"
   ]
  }
 ],
 "metadata": {
  "kernelspec": {
   "display_name": "ROOT C++",
   "language": "c++",
   "name": "root"
  },
  "language_info": {
   "codemirror_mode": "text/x-c++src",
   "file_extension": ".C",
   "mimetype": " text/x-c++src",
   "name": "c++"
  }
 },
 "nbformat": 4,
 "nbformat_minor": 2
}
