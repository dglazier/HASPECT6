{
 "cells": [
  {
   "cell_type": "markdown",
   "metadata": {},
   "source": [
    "# Example for running regression results\n",
    "\n",
    "See $ROOTSYS/tutorials/tmva/TMVARegressionApplication.C for more details.\n",
    "First get the path to the classes. The environment variable HSCODE must be set in your shell setup file (.bashrc or .tchsrc,....)\n",
    " Load/compile the hsmva classes via ROOTs ACLiC (clang-based compiler)\n"
   ]
  },
  {
   "cell_type": "code",
   "execution_count": 1,
   "metadata": {},
   "outputs": [],
   "source": [
    "gROOT->ProcessLine(\".x $HSCODE/hsmva/LoadHSMVA.C+\");"
   ]
  },
  {
   "cell_type": "markdown",
   "metadata": {},
   "source": [
    "Get the TMVA tutorial data files and load the variables and target into a tree"
   ]
  },
  {
   "cell_type": "code",
   "execution_count": 3,
   "metadata": {},
   "outputs": [],
   "source": [
    "%%cpp -d\n",
    "#include \"GetTutorialFile.h\""
   ]
  },
  {
   "cell_type": "code",
   "execution_count": 4,
   "metadata": {},
   "outputs": [
    {
     "name": "stderr",
     "output_type": "stream",
     "text": [
      "Info in <TFile::OpenFromCache>: using local cache copy of http://root.cern.ch/files/tmva_reg_example.root [./files/tmva_reg_example.root]\n"
     ]
    },
    {
     "name": "stdout",
     "output_type": "stream",
     "text": [
      "--- TMVARegression           : Using input file: ./files/tmva_reg_example.root\n",
      "******************************************************************************\n",
      "*Tree    :TreeR     : TreeR                                                  *\n",
      "*Entries :    10000 : Total =          122500 bytes  File  Size =     108786 *\n",
      "*        :          : Tree compression factor =   1.11                       *\n",
      "******************************************************************************\n",
      "*Br    0 :var1      : var1/F                                                 *\n",
      "*Entries :    10000 : Total  Size=      40717 bytes  File Size  =      28684 *\n",
      "*Baskets :        1 : Basket Size=      32000 bytes  Compression=   1.12     *\n",
      "*............................................................................*\n",
      "*Br    1 :var2      : var2/F                                                 *\n",
      "*Entries :    10000 : Total  Size=      40717 bytes  File Size  =      28680 *\n",
      "*Baskets :        1 : Basket Size=      32000 bytes  Compression=   1.12     *\n",
      "*............................................................................*\n",
      "*Br    2 :fvalue    : fvalue/F                                               *\n",
      "*Entries :    10000 : Total  Size=      40731 bytes  File Size  =      28846 *\n",
      "*Baskets :        1 : Basket Size=      32000 bytes  Compression=   1.11     *\n",
      "*............................................................................*\n"
     ]
    }
   ],
   "source": [
    "TFile* infile=GetRegressionFile();\n",
    "auto tree=(TTree*)infile->Get(\"TreeR\");\n",
    "tree->Print();"
   ]
  },
  {
   "cell_type": "markdown",
   "metadata": {},
   "source": [
    "Create the MVA result and add its response to the tree"
   ]
  },
  {
   "cell_type": "code",
   "execution_count": 5,
   "metadata": {},
   "outputs": [
    {
     "name": "stdout",
     "output_type": "stream",
     "text": [
      " ResultInterface::SetBranchAddresses found branches : \n",
      "   double 0\n",
      "   float 2\n",
      "   long 0\n",
      "   int 0\n",
      "   total vars in reader are 2\n",
      "                         : Booking \"MLP\" of type \"MLP\" from /work/dump/TMVARegressionTut/weights/TMVARegressionTut_MLP.weights.xml.\n",
      "                         : Reading weight file: /work/dump/TMVARegressionTut/weights/TMVARegressionTut_MLP.weights.xml\n",
      "<HEADER> DataSetInfo              : [Default] : Added class \"Regression\"\n",
      "<HEADER> MLP                      : Building Network. \n",
      "                         : Initializing weights\n",
      "                         : Booked classifier \"MLP\" of type: \"MLP\"\n",
      "fvalue 0\n",
      "HS::MVA::ResultInterface processed 10000 events \n",
      "******************************************************************************\n",
      "*Tree    :TreeR     : TreeR                                                  *\n",
      "*Entries :    10000 : Total =          163212 bytes  File  Size =     115059 *\n",
      "*        :          : Tree compression factor =   1.11                       *\n",
      "******************************************************************************\n",
      "*Br    0 :var1      : var1/F                                                 *\n",
      "*Entries :    10000 : Total  Size=      40717 bytes  File Size  =      28684 *\n",
      "*Baskets :        1 : Basket Size=      32000 bytes  Compression=   1.12     *\n",
      "*............................................................................*\n",
      "*Br    1 :var2      : var2/F                                                 *\n",
      "*Entries :    10000 : Total  Size=      40717 bytes  File Size  =      28680 *\n",
      "*Baskets :        1 : Basket Size=      32000 bytes  Compression=   1.12     *\n",
      "*............................................................................*\n",
      "*Br    2 :fvalue    : fvalue/F                                               *\n",
      "*Entries :    10000 : Total  Size=      40731 bytes  File Size  =      28846 *\n",
      "*Baskets :        1 : Basket Size=      32000 bytes  Compression=   1.11     *\n",
      "*............................................................................*\n",
      "*Br    3 :fvalue_reg : fvalue_reg/F                                          *\n",
      "*Entries :    10000 : Total  Size=      40759 bytes  File Size  =      28849 *\n",
      "*Baskets :        1 : Basket Size=      32000 bytes  Compression=   1.11     *\n",
      "*............................................................................*\n"
     ]
    }
   ],
   "source": [
    "ResultByTree result(\"/work/dump/TMVARegressionTut\",\"MLP\",tree,kTRUE);\n",
    "result.AddToTree();\n",
    "result.Tree()->Print();"
   ]
  },
  {
   "cell_type": "code",
   "execution_count": 7,
   "metadata": {},
   "outputs": [
    {
     "data": {
      "image/png": "[encoded data removed]",
      "text/plain": [
       "<IPython.core.display.Image object>"
      ]
     },
     "metadata": {},
     "output_type": "display_data"
    }
   ],
   "source": [
    "result.Tree()->Draw(\"fvalue:fvalue_reg\");\n",
    "c1->Draw(); //default first canvas name is c1 ..."
   ]
  }
 ],
 "metadata": {
  "kernelspec": {
   "display_name": "ROOT C++",
   "language": "c++",
   "name": "root"
  },
  "language_info": {
   "codemirror_mode": "text/x-c++src",
   "file_extension": ".C",
   "mimetype": " text/x-c++src",
   "name": "c++"
  }
 },
 "nbformat": 4,
 "nbformat_minor": 2
}
