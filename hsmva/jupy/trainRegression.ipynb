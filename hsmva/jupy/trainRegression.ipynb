{
 "cells": [
  {
   "cell_type": "markdown",
   "metadata": {},
   "source": [
    "# Example for running regression training\n",
    "\n",
    "See $ROOTSYS/tutorials/tmva/TMVARegression.C for more details.\n",
    "First get the path to the classes. The environment variable HSCODE must be set in your shell setup file (.bashrc or .tchsrc,....)\n",
    " Load/compile the hsmva classes via ROOTs ACLiC (clang-based compiler)\n"
   ]
  },
  {
   "cell_type": "code",
   "execution_count": 1,
   "metadata": {},
   "outputs": [],
   "source": [
    "gROOT->ProcessLine(\".x $HSCODE/hsmva/LoadHSMVA.C+\");"
   ]
  },
  {
   "cell_type": "markdown",
   "metadata": {},
   "source": [
    "Get the TMVA tutorial data files and load the variables and target into a tree"
   ]
  },
  {
   "cell_type": "code",
   "execution_count": 2,
   "metadata": {},
   "outputs": [],
   "source": [
    "%%cpp -d\n",
    "#include \"GetTutorialFile.h\""
   ]
  },
  {
   "cell_type": "code",
   "execution_count": 3,
   "metadata": {},
   "outputs": [
    {
     "name": "stdout",
     "output_type": "stream",
     "text": [
      "--- TMVARegression           : Using input file: ./files/tmva_reg_example.root\n"
     ]
    },
    {
     "name": "stderr",
     "output_type": "stream",
     "text": [
      "Info in <TFile::OpenFromCache>: using local cache copy of http://root.cern.ch/files/tmva_reg_example.root [./files/tmva_reg_example.root]\n"
     ]
    }
   ],
   "source": [
    "TFile* infile=GetRegressionFile();\n",
    "auto tree=(TTree*)infile->Get(\"TreeR\");"
   ]
  },
  {
   "cell_type": "markdown",
   "metadata": {},
   "source": [
    "Prepare the regression training data. The tree should contain branches with the value to be fitted and \n",
    "the variables it depends on"
   ]
  },
  {
   "cell_type": "code",
   "execution_count": 4,
   "metadata": {},
   "outputs": [
    {
     "name": "stdout",
     "output_type": "stream",
     "text": [
      "HSMVA::TrainingInterface::LoadTreeVars ingoring branch fvalue\n",
      "DataSetInfo              : [TMVARegressionTut] : Added class \"Regression\"\n",
      "                         : Add Tree TreeR of type Regression with 10000 events\n",
      "                         : Dataset[TMVARegressionTut] : Class index : 0  name : Regression\n"
     ]
    }
   ],
   "source": [
    "TrainReg train(\"TMVARegressionTut\");\n",
    "\n",
    "train.SetOutDir(\"/work/dump\"); //Set this to a sensible output directory\n",
    "train.SetTarget(\"fvalue\"); //function value to \"fit\"\n",
    "train.IgnoreBranches(\"\");//Any branches in tree not used must be flagged!\n",
    "train.AddRegTree(tree); //Add tree with observables and targets\n",
    "train.SetNTrainTest(5000,5000); //Number of train and test events\n",
    "train.PrepareTrees(); //make test and training trees\n"
   ]
  },
  {
   "cell_type": "markdown",
   "metadata": {},
   "source": [
    "Prepare regression training methods. "
   ]
  },
  {
   "cell_type": "code",
   "execution_count": 5,
   "metadata": {
    "scrolled": true
   },
   "outputs": [
    {
     "name": "stdout",
     "output_type": "stream",
     "text": [
      "Factory                  : Booking method: \u001b[1mBDT\u001b[0m\n",
      "                         : \n",
      "DataSetFactory           : [TMVARegressionTut] : Number of events in input trees\n",
      "                         : \n",
      "                         : Number of training and testing events\n",
      "                         : ---------------------------------------------------------------------------\n",
      "                         : Regression -- training events            : 2000\n",
      "                         : Regression -- testing events             : 2000\n",
      "                         : Regression -- training and testing events: 4000\n",
      "                         : \n",
      "DataSetInfo              : Correlation matrix (Regression):\n",
      "                         : ------------------------\n",
      "                         :             var1    var2\n",
      "                         :    var1:  +1.000  -0.028\n",
      "                         :    var2:  -0.028  +1.000\n",
      "                         : ------------------------\n",
      "DataSetFactory           : [TMVARegressionTut] :  \n",
      "                         : \n",
      "<WARNING>                : Regression Trees do not work with Separation type other than <RegressionVariance> --> I will use it instead\n",
      "Factory                  : Booking method: \u001b[1mMLP\u001b[0m\n",
      "                         : \n",
      "MLP                      : [TMVARegressionTut] : Create Transformation \"N\" with events from all classes.\n",
      "                         : \n",
      "                         : Transformation, Variable selection : \n",
      "                         : Input : variable 'var1' <---> Output : variable 'var1'\n",
      "                         : Input : variable 'var2' <---> Output : variable 'var2'\n",
      "                         : Input : target 'fvalue' <---> Output : target 'fvalue'\n",
      "MLP                      : Building Network. \n",
      "                         : Initializing weights\n"
     ]
    }
   ],
   "source": [
    " //Can Book methods either via standard TMVA::Factory interface...\n",
    "train.BookMethod(TMVA::Types::kBDT, \"BDT\",\"!H:!V:NTrees=850:MinNodeSize=2.5%:MaxDepth=3:BoostType=AdaBoost:AdaBoostBeta=0.5:UseBaggedBoost:BaggedSampleFraction=0.5:SeparationType=GiniIndex:nCuts=20\");\n",
    "\n",
    "  //..or predefined methods (See HSMVA::MethodConfigure.h)\n",
    "train.BookMethod(HS::MVA::Meths.MLP);\n"
   ]
  },
  {
   "cell_type": "code",
   "execution_count": null,
   "metadata": {},
   "outputs": [
    {
     "name": "stdout",
     "output_type": "stream",
     "text": [
      "Factory                  : \u001b[1mTrain all methods\u001b[0m\n",
      "Factory                  : [TMVARegressionTut] : Create Transformation \"I\" with events from all classes.\n",
      "                         : \n",
      "                         : Transformation, Variable selection : \n",
      "                         : Input : variable 'var1' <---> Output : variable 'var1'\n",
      "                         : Input : variable 'var2' <---> Output : variable 'var2'\n",
      "TFHandler_Factory        : Variable        Mean        RMS   [        Min        Max ]\n",
      "                         : -----------------------------------------------------------\n",
      "                         :     var1:     2.4534     1.4627   [  0.0028798     4.9985 ]\n",
      "                         :     var2:     2.4456     1.4358   [ 0.00071490     4.9997 ]\n",
      "                         :   fvalue:     131.49     83.507   [     1.9843     391.01 ]\n",
      "                         : -----------------------------------------------------------\n",
      "                         : Ranking input variables (method unspecific)...\n",
      "IdTransformation         : Ranking result (top variable is best ranked)\n",
      "                         : --------------------------------------------\n",
      "                         : Rank : Variable  : |Correlation with target|\n",
      "                         : --------------------------------------------\n",
      "                         :    1 : var2      : 7.444e-01\n",
      "                         :    2 : var1      : 5.950e-01\n",
      "                         : --------------------------------------------\n",
      "IdTransformation         : Ranking result (top variable is best ranked)\n",
      "                         : -------------------------------------\n",
      "                         : Rank : Variable  : Mutual information\n",
      "                         : -------------------------------------\n",
      "                         :    1 : var2      : 2.472e+00\n",
      "                         :    2 : var1      : 2.397e+00\n",
      "                         : -------------------------------------\n",
      "IdTransformation         : Ranking result (top variable is best ranked)\n",
      "                         : ------------------------------------\n",
      "                         : Rank : Variable  : Correlation Ratio\n",
      "                         : ------------------------------------\n",
      "                         :    1 : var2      : 2.336e+00\n",
      "                         :    2 : var1      : 2.235e+00\n",
      "                         : ------------------------------------\n",
      "IdTransformation         : Ranking result (top variable is best ranked)\n",
      "                         : ----------------------------------------\n",
      "                         : Rank : Variable  : Correlation Ratio (T)\n",
      "                         : ----------------------------------------\n",
      "                         :    1 : var2      : 8.955e-01\n",
      "                         :    2 : var1      : 7.811e-01\n",
      "                         : ----------------------------------------\n",
      "Factory                  : Train method: BDT for Regression\n",
      "                         : \n",
      "                         : Regression Loss Function: Huber\n",
      "                         : Training 850 Decision Trees ... patience please\n"
     ]
    },
    {
     "name": "stderr",
     "output_type": "stream",
     "text": [
      "0%, time left: unknown\n",
      "6%, time left: 0 sec\n",
      "12%, time left: 0 sec\n",
      "18%, time left: 0 sec\n",
      "25%, time left: 0 sec\n",
      "31%, time left: 0 sec\n",
      "37%, time left: 0 sec\n",
      "43%, time left: 0 sec\n",
      "50%, time left: 0 sec\n",
      "56%, time left: 0 sec\n",
      "62%, time left: 0 sec\n",
      "68%, time left: 0 sec\n",
      "75%, time left: 0 sec\n",
      "81%, time left: 0 sec\n",
      "87%, time left: 0 sec\n",
      "93%, time left: 0 sec\n"
     ]
    }
   ],
   "source": [
    "train.DoTraining();"
   ]
  },
  {
   "cell_type": "code",
   "execution_count": null,
   "metadata": {},
   "outputs": [],
   "source": [
    "%jsroot on"
   ]
  },
  {
   "cell_type": "code",
   "execution_count": null,
   "metadata": {},
   "outputs": [],
   "source": [
    "train.DrawTargetDeviations();"
   ]
  },
  {
   "cell_type": "code",
   "execution_count": null,
   "metadata": {},
   "outputs": [],
   "source": [
    "train.DrawVariableDeviations();"
   ]
  }
 ],
 "metadata": {
  "kernelspec": {
   "display_name": "ROOT C++",
   "language": "c++",
   "name": "root"
  },
  "language_info": {
   "codemirror_mode": "text/x-c++src",
   "file_extension": ".C",
   "mimetype": " text/x-c++src",
   "name": "c++"
  }
 },
 "nbformat": 4,
 "nbformat_minor": 2
}
