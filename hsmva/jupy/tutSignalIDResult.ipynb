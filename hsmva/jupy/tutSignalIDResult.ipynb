{
 "cells": [
  {
   "cell_type": "markdown",
   "metadata": {},
   "source": [
    "# Example for applying signal-background classification\n",
    "\n",
    "See $ROOTSYS/tutorials/tmva/TMVAClassificationApplication.C for more details.\n",
    "First get the path to the classes. The environment variable HSCODE must be set in your shell setup file (.bashrc or .tchsrc,....)\n",
    " Load/compile the hsmva classes via ROOTs ACLiC (clang-based compiler)"
   ]
  },
  {
   "cell_type": "code",
   "execution_count": null,
   "metadata": {},
   "outputs": [],
   "source": [
    "gROOT->ProcessLine(\".x $HSCODE/hsmva/LoadHSMVA.C+\");"
   ]
  },
  {
   "cell_type": "markdown",
   "metadata": {},
   "source": [
    "Get the TMVA tutorial data files and load them into signal and background trees"
   ]
  },
  {
   "cell_type": "code",
   "execution_count": null,
   "metadata": {},
   "outputs": [],
   "source": [
    "%%cpp -d\n",
    "#include \"GetTutorialFile.h\""
   ]
  },
  {
   "cell_type": "code",
   "execution_count": null,
   "metadata": {},
   "outputs": [],
   "source": [
    "TFile* input = GetClassificationFile();\n",
    "auto tree=(TTree*)input->Get(\"TreeS\");"
   ]
  },
  {
   "cell_type": "markdown",
   "metadata": {},
   "source": [
    "Create the MVA results object.\n",
    "    The first argument is the training output directory + name. \n",
    "    The second is the tree you want to apply the result to.\n",
    "    The final kTRUE argument indicates that a new copy of the tree will be made,\n",
    "    this will be saved in the output file MLP.root when result is deleted.\n"
   ]
  },
  {
   "cell_type": "code",
   "execution_count": null,
   "metadata": {},
   "outputs": [],
   "source": [
    "ResultByTree result(\"/work/dump/TMVAClassificationTut\",\"MLP\",tree,kTRUE);\n",
    "result.AddToTree();\n",
    "result.Tree()->Print();"
   ]
  },
  {
   "cell_type": "markdown",
   "metadata": {},
   "source": [
    "Use TTree::Draw to make a plot of the response"
   ]
  },
  {
   "cell_type": "code",
   "execution_count": null,
   "metadata": {},
   "outputs": [],
   "source": [
    "%jsroot on"
   ]
  },
  {
   "cell_type": "code",
   "execution_count": null,
   "metadata": {},
   "outputs": [],
   "source": [
    "TCanvas c1;\n",
    "TH1F hist(\"hMLP\",\"MLP Response\",100,-1,1);\n",
    "result.Tree()->Draw(\"MLP>>hMLP\");\n",
    "hist.Draw();\n",
    "c1.Draw();"
   ]
  }
 ],
 "metadata": {
  "kernelspec": {
   "display_name": "ROOT C++",
   "language": "c++",
   "name": "root"
  },
  "language_info": {
   "codemirror_mode": "text/x-c++src",
   "file_extension": ".C",
   "mimetype": " text/x-c++src",
   "name": "c++"
  }
 },
 "nbformat": 4,
 "nbformat_minor": 2
}
