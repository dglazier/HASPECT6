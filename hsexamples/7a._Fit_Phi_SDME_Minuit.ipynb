{
 "cells": [
  {
   "cell_type": "markdown",
   "metadata": {},
   "source": [
    "## Fit for $\\phi$ Spin Denisty Matrix elements with linear polarisation\n",
    "\n",
    "This code performs an extended maximum likelihood fit for 9 SDMEs in $\\phi$ photoproduction.\n",
    "For this example just one large kinematic bin is selected."
   ]
  },
  {
   "cell_type": "code",
   "execution_count": 1,
   "metadata": {},
   "outputs": [
    {
     "name": "stdout",
     "output_type": "stream",
     "text": [
      "%%%%%%%%%%%%%%%%%%%%%%%%%    Weights\n",
      "%%%%%%%%%%%%%%%%%%%%%%%%%    Bins\n",
      "FFFFFFFFFFFFFFFFFFFFFFFFF RooHSEventsPDF\n",
      "\n",
      "\u001b[1mRooFit v3.60 -- Developed by Wouter Verkerke and David Kirkby\u001b[0m \n",
      "                Copyright (C) 2000-2013 NIKHEF, University of California & Stanford University\n",
      "                All rights reserved, please read http://roofit.sourceforge.net/license.txt\n",
      "\n",
      "FFFFFFFFFFFFFFFFFFFFFFFFF RooHSEventsHistPDF\n",
      "FFFFFFFFFFFFFFFFFFFFFFFFF HSMCMC\n",
      "FFFFFFFFFFFFFFFFFFFFFFFFF HSRooFit\n",
      "FFFFFFFFFFFFFFFFFFFFFFFFF HSsPlot\n"
     ]
    }
   ],
   "source": [
    "gROOT->ProcessLine(\".x $HSCODE/hsfit/LoadHSFit.C+\");"
   ]
  },
  {
   "cell_type": "markdown",
   "metadata": {},
   "source": [
    "Load predefined SDME PDF based on Schilling and Wolf. Soon it will be possible directly create this PDF within a notebook."
   ]
  },
  {
   "cell_type": "code",
   "execution_count": 2,
   "metadata": {},
   "outputs": [
    {
     "name": "stdout",
     "output_type": "stream",
     "text": [
      "(VectorSDME) Name:  Title: \n"
     ]
    }
   ],
   "source": [
    "gROOT->ProcessLine(\".x VectorSDME.cxx+\");"
   ]
  },
  {
   "cell_type": "markdown",
   "metadata": {},
   "source": [
    "Create fit class based on RooFit. Final results will be saved to outSDME"
   ]
  },
  {
   "cell_type": "code",
   "execution_count": 3,
   "metadata": {},
   "outputs": [],
   "source": [
    "  HSRooFit* RF=new HSRooFit(\"phiSDME\");\n",
    "  RF->SetOutDir(\"outSDME/\");"
   ]
  },
  {
   "cell_type": "markdown",
   "metadata": {},
   "source": [
    "Load fit observables\n",
    "\n",
    "        MesonPhi : production plane angle relative to linear polarisation\n",
    "        HelCosTh : decay angle of phi in helicit frame\n",
    "        HelPhi : azimuthal decay angle of phi in helicity frame\n",
    "        Pol : degree of linear polarisation of photon\n",
    "        PolState: parallel or perpindicular polarisation\n",
    "        \n",
    "Cut on observables, these should be the same as sPlot although they will not contribute to likelihood if there are outwith the sPlot limits.\n",
    "\n",
    "        Eg : photon beam energy range \n",
    "        MesonCosTh : CoM production angle of phi\n",
    "        MesonMass : range of M(2K) used in sPlot\n",
    "        MLP : cut on TMVA MultiLayerPeceptron \n",
    "        Topo : use topologies pK+ and pK-\n",
    "        "
   ]
  },
  {
   "cell_type": "code",
   "execution_count": 4,
   "metadata": {},
   "outputs": [],
   "source": [
    " ///////////////////////////////Load Variables\n",
    "  RF->LoadVariable(\"MesonPhi[-3.1416,3.1416]\");//should be same name as variable in tree \n",
    "  RF->LoadVariable(\"HelCosTh[-1,1]\");//should be same name as variable in tree \n",
    "  RF->LoadVariable(\"HelPhi[-3.1416,3.1416]\");//should be same name as variable in tree \n",
    "  RF->LoadVariable(\"Pol[0,1]\");//should be same name as variable in tree  \n",
    "\n",
    "  RF->LoadAuxVars(\"Eg[1.7,1.9]\");//Not to be fitted but limits applied to dataset\n",
    "  RF->LoadAuxVars(\"MesonCosTh[-0.5,0.5]\");//Not to be fitted but limits applied to dataset\n",
    "  RF->LoadAuxVars(\"MesonMass[0.99,1.05]\");//Not to be fitted but limits applied to dataset\n",
    "  RF->LoadAuxVars(\"MLP[0.98,1]\");//Not to be fitted but limits applied to dataset\n",
    "  RF->LoadAuxVars(\"Topo[0.5,2.5]\");//Not to be fitted but limits applied to dataset\n",
    "  RF->LoadVariable(\"PolState[Polp=1,Polm=-1]\");//Load a category"
   ]
  },
  {
   "cell_type": "markdown",
   "metadata": {},
   "source": [
    "Create fit function and provide some limits to parameters"
   ]
  },
  {
   "cell_type": "code",
   "execution_count": 5,
   "metadata": {},
   "outputs": [],
   "source": [
    " RF->Factory(\"VectorSDME::PhiSDME(HelCosTh,HelPhi,MesonPhi,Pol,PolState,rho000[0.3,-0.5,0.5],Rerho010[-0.1,-0.5,0.5],rho01m1[0.05,-0.5,0.5],rho111[0,-0.5,0.5],rho100[0,-0.5,0.5],Rerho110[0.02,-0.5,0.5],rho11m1[0.2,-0.5,0.5],Imrho210[-0.1,-0.5,0.5],Imrho21m1[0.2,-0.5,0.5])\");\n",
    " RooHSEventsPDF* pdf=dynamic_cast<RooHSEventsPDF*>(RF->GetWorkSpace()->pdf(\"PhiSDME\"));"
   ]
  },
  {
   "cell_type": "markdown",
   "metadata": {},
   "source": [
    "Load the simulated events to the PDF for MC integrations for acceptance corrected normalisation integrals"
   ]
  },
  {
   "cell_type": "code",
   "execution_count": 6,
   "metadata": {},
   "outputs": [
    {
     "name": "stdout",
     "output_type": "stream",
     "text": [
      "HelCosTh\n",
      "0\n",
      "HelPhi\n",
      "0\n",
      "MesonPhi\n",
      "0\n",
      "Pol\n",
      "RooHSEventsPDF::SetEvTree Ammended cut MesonPhi>=-3.141600&&MesonPhi<=3.141600&&HelCosTh>=-1.000000&&HelCosTh<=1.000000&&HelPhi>=-3.141600&&HelPhi<=3.141600&Eg>=1.700000&&Eg<=1.900000&&MesonCosTh>=-0.500000&&MesonCosTh<=0.500000&&MesonMass>=0.990000&&MesonMass<=1.050000&&MLP>=0.980000&&MLP<=1.000000&&Topo>=0.500000&&Topo<=2.500000\n"
     ]
    },
    {
     "name": "stderr",
     "output_type": "stream",
     "text": [
      "Info in <VectorSDME::RooHSEventsPDF::SetEvTree>:  with name newtree and cut MesonPhi>=-3.141600&&MesonPhi<=3.141600&&HelCosTh>=-1.000000&&HelCosTh<=1.000000&&HelPhi>=-3.141600&&HelPhi<=3.141600&&Pol>=0.000000&&Pol<=1.000000&&Eg>=1.700000&&Eg<=1.900000&&MesonCosTh>=-0.500000&&MesonCosTh<=0.500000&&MesonMass>=0.990000&&MesonMass<=1.050000&&MLP>=0.980000&&MLP<=1.000000&&Topo>=0.500000&&Topo<=2.500000\n",
      "Warning in <VectorSDME::RooHSEventsPDF::SetEvTree>: Branch Pol not found\n",
      "Warning in <VectorSDME::RooHSEventsPDF::SetEvTree>: Branch PolState not found\n"
     ]
    },
    {
     "name": "stdout",
     "output_type": "stream",
     "text": [
      "tree entries 266366 4\n"
     ]
    }
   ],
   "source": [
    "auto sfile=new TFile(\"/work/g8dump/hsexamples/converttestmvamlpinc2_sim.root\");\n",
    "auto stree=(TTree*)sfile->Get(\"newtree\");\n",
    "pdf->SetEvTree(stree,RF->GetCut());"
   ]
  },
  {
   "cell_type": "code",
   "execution_count": 7,
   "metadata": {},
   "outputs": [],
   "source": [
    " RF->LoadSpeciesPDF(\"PhiSDME\",1);"
   ]
  },
  {
   "cell_type": "markdown",
   "metadata": {},
   "source": [
    "Load the data. This should be the same file as for the sPlot fit"
   ]
  },
  {
   "cell_type": "code",
   "execution_count": 8,
   "metadata": {},
   "outputs": [
    {
     "name": "stdout",
     "output_type": "stream",
     "text": [
      "[#1] INFO:DataHandling -- RooAbsCategory::attachToTree(PolState) TTree branch PolState will be interpreted as category index\n",
      "[#1] INFO:Eval -- RooAbsReal::attachToTree(Topo) TTree Int_t branch Topo will be converted to double precision\n",
      "[#1] INFO:Eval -- RooTreeDataStore::loadValues(newtree) Ignored 18464 out of range events\n",
      "HSRooFit::LoadDataSet(TTree*) Print dataset for newtree\n",
      "RooDataSet::newtree[MesonPhi,HelCosTh,HelPhi,Pol,PolState,Eg,MesonCosTh,MesonMass,MLP,Topo,UID] = 16314 entries\n"
     ]
    }
   ],
   "source": [
    "auto dfile=new TFile(\"/work/g8dump/hsexamples/converttestmvamlpinc2b.root\");\n",
    "auto dtree=(TTree*)dfile->Get(\"newtree\");\n",
    "RF->SetIDBranchName(\"UID\");\n",
    "RF->LoadDataSet(dtree);\n"
   ]
  },
  {
   "cell_type": "markdown",
   "metadata": {},
   "source": [
    "Load the weights from the sPlot. Choose species Phi (see sPlot notebook)"
   ]
  },
  {
   "cell_type": "code",
   "execution_count": 9,
   "metadata": {},
   "outputs": [
    {
     "name": "stdout",
     "output_type": "stream",
     "text": [
      "void HSRooFit::LoadWeights out2/WeightsSF.root  HSsWeights\n",
      "TFile**\t\tout2/WeightsSF.root\t\n",
      " TFile*\t\tout2/WeightsSF.root\t\n",
      "  KEY: TTree\tHSsWeights_W;1\tTree weights for each species\n",
      "  KEY: TTree\tHSsWeights_ID;1\tevent ids for each entry\n",
      "  KEY: HS::Weights\tHSsWeights;1\tSF\n",
      "HSsWeights SF\n",
      "Weights HSsWeights contains 16314 events associated file is \n",
      "ID branch name : UID\n",
      "Species are : \n",
      "BG\n",
      "Phi\n",
      "The first ten entries are :\n",
      "271861 -0.299598 1.29956 \n",
      "275878 -0.586851 1.58681 \n",
      "277955 1.66024 -0.660263 \n",
      "285811 -0.505197 1.50516 \n",
      "291832 -0.594136 1.59409 \n",
      "299296 1.22637 -0.226392 \n",
      "300094 -0.576001 1.57596 \n",
      "301113 -0.632388 1.63235 \n",
      "305798 1.71078 -0.710797 \n",
      "309577 1.49803 -0.498051 \n",
      "RooArgList:: = (Phi)\n",
      "HSRooFit::SetDataWeight() Print data \n",
      "RooDataSet::newtree[MesonPhi,HelCosTh,HelPhi,Pol,PolState,Eg,MesonCosTh,MesonMass,MLP,Topo,UID] = 16314 entries\n",
      "Weights::BuildIndex 16314\n",
      "Done\n"
     ]
    },
    {
     "name": "stderr",
     "output_type": "stream",
     "text": [
      "Error in <TBranch::TBranch::WriteBasketImpl>: basket's WriteBuffer failed.\n",
      "\n",
      "Error in <TBranch::TBranch::Fill>: Failed to write out basket.\n",
      "\n",
      "Error in <TTree::Fill>: Failed filling branch:HSsWeights_W.Phi, nbytes=-1, entry=3990\n",
      " This error is symptomatic of a Tree created as a memory-resident Tree\n",
      " Instead of doing:\n",
      "    TTree *T = new TTree(...)\n",
      "    TFile *f = new TFile(...)\n",
      " you should do:\n",
      "    TFile *f = new TFile(...)\n",
      "    TTree *T = new TTree(...)\n",
      "\n",
      "\n",
      "Error in <TBranch::TBranch::WriteBasketImpl>: basket's WriteBuffer failed.\n",
      "\n",
      "Error in <TBranch::TBranch::Fill>: Failed to write out basket.\n",
      "\n",
      "Error in <TTree::Fill>: Failed filling branch:HSsWeights_W.BG, nbytes=-1, entry=3990\n",
      " This error is symptomatic of a Tree created as a memory-resident Tree\n",
      " Instead of doing:\n",
      "    TTree *T = new TTree(...)\n",
      "    TFile *f = new TFile(...)\n",
      " you should do:\n",
      "    TFile *f = new TFile(...)\n",
      "    TTree *T = new TTree(...)\n",
      "\n",
      "\n",
      "Error in <TBranch::TBranch::WriteBasketImpl>: basket's WriteBuffer failed.\n",
      "\n",
      "Error in <TBranch::TBranch::Fill>: Failed to write out basket.\n",
      "\n",
      "Error in <TTree::Fill>: Failed filling branch:HSsWeights_W.Phi, nbytes=-1, entry=7980\n",
      " This error is symptomatic of a Tree created as a memory-resident Tree\n",
      " Instead of doing:\n",
      "    TTree *T = new TTree(...)\n",
      "    TFile *f = new TFile(...)\n",
      " you should do:\n",
      "    TFile *f = new TFile(...)\n",
      "    TTree *T = new TTree(...)\n",
      "\n",
      "\n",
      "Error in <TBranch::TBranch::WriteBasketImpl>: basket's WriteBuffer failed.\n",
      "\n",
      "Error in <TBranch::TBranch::Fill>: Failed to write out basket.\n",
      "\n",
      "Error in <TTree::Fill>: Failed filling branch:HSsWeights_W.BG, nbytes=-1, entry=7980\n",
      " This error is symptomatic of a Tree created as a memory-resident Tree\n",
      " Instead of doing:\n",
      "    TTree *T = new TTree(...)\n",
      "    TFile *f = new TFile(...)\n",
      " you should do:\n",
      "    TFile *f = new TFile(...)\n",
      "    TTree *T = new TTree(...)\n",
      "\n",
      "\n",
      "Error in <TBranch::TBranch::WriteBasketImpl>: basket's WriteBuffer failed.\n",
      "\n",
      "Error in <TBranch::TBranch::Fill>: Failed to write out basket.\n",
      "\n",
      "Error in <TTree::Fill>: Failed filling branch:HSsWeights_W.Phi, nbytes=-1, entry=11970\n",
      " This error is symptomatic of a Tree created as a memory-resident Tree\n",
      " Instead of doing:\n",
      "    TTree *T = new TTree(...)\n",
      "    TFile *f = new TFile(...)\n",
      " you should do:\n",
      "    TFile *f = new TFile(...)\n",
      "    TTree *T = new TTree(...)\n",
      "\n",
      "\n",
      "Error in <TBranch::TBranch::WriteBasketImpl>: basket's WriteBuffer failed.\n",
      "\n",
      "Error in <TBranch::TBranch::Fill>: Failed to write out basket.\n",
      "\n",
      "Error in <TTree::Fill>: Failed filling branch:HSsWeights_W.BG, nbytes=-1, entry=11970\n",
      " This error is symptomatic of a Tree created as a memory-resident Tree\n",
      " Instead of doing:\n",
      "    TTree *T = new TTree(...)\n",
      "    TFile *f = new TFile(...)\n",
      " you should do:\n",
      "    TFile *f = new TFile(...)\n",
      "    TTree *T = new TTree(...)\n",
      "\n",
      "\n",
      "Error in <TBranch::TBranch::WriteBasketImpl>: basket's WriteBuffer failed.\n",
      "\n",
      "Error in <TBranch::TBranch::Fill>: Failed to write out basket.\n",
      "\n",
      "Error in <TTree::Fill>: Failed filling branch:HSsWeights_W.Phi, nbytes=-1, entry=15960\n",
      " This error is symptomatic of a Tree created as a memory-resident Tree\n",
      " Instead of doing:\n",
      "    TTree *T = new TTree(...)\n",
      "    TFile *f = new TFile(...)\n",
      " you should do:\n",
      "    TFile *f = new TFile(...)\n",
      "    TTree *T = new TTree(...)\n",
      "\n",
      "\n",
      "Error in <TBranch::TBranch::WriteBasketImpl>: basket's WriteBuffer failed.\n",
      "\n",
      "Error in <TBranch::TBranch::Fill>: Failed to write out basket.\n",
      "\n",
      "Error in <TTree::Fill>: Failed filling branch:HSsWeights_W.BG, nbytes=-1, entry=15960\n",
      " This error is symptomatic of a Tree created as a memory-resident Tree\n",
      " Instead of doing:\n",
      "    TTree *T = new TTree(...)\n",
      "    TFile *f = new TFile(...)\n",
      " you should do:\n",
      "    TFile *f = new TFile(...)\n",
      "    TTree *T = new TTree(...)\n",
      "\n",
      "\n",
      "Error in <TBranch::TBranch::WriteBasketImpl>: basket's WriteBuffer failed.\n",
      "\n",
      "Error in <TBranch::TBranch::Fill>: Failed to write out basket.\n",
      "\n",
      "Error in <TTree::Fill>: Failed filling branch:HSsWeights_ID.WID, nbytes=-1, entry=3990\n",
      " This error is symptomatic of a Tree created as a memory-resident Tree\n",
      " Instead of doing:\n",
      "    TTree *T = new TTree(...)\n",
      "    TFile *f = new TFile(...)\n",
      " you should do:\n",
      "    TFile *f = new TFile(...)\n",
      "    TTree *T = new TTree(...)\n",
      "\n",
      "\n",
      "Error in <TBranch::TBranch::WriteBasketImpl>: basket's WriteBuffer failed.\n",
      "\n",
      "Error in <TBranch::TBranch::Fill>: Failed to write out basket.\n",
      "\n",
      "Error in <TTree::Fill>: Failed filling branch:HSsWeights_ID.WID, nbytes=-1, entry=7980\n",
      " This error is symptomatic of a Tree created as a memory-resident Tree\n",
      " Instead of doing:\n",
      "    TTree *T = new TTree(...)\n",
      "    TFile *f = new TFile(...)\n",
      " you should do:\n",
      "    TFile *f = new TFile(...)\n",
      "    TTree *T = new TTree(...)\n",
      "\n",
      "\n",
      "Error in <TBranch::TBranch::WriteBasketImpl>: basket's WriteBuffer failed.\n",
      "\n",
      "Error in <TBranch::TBranch::Fill>: Failed to write out basket.\n",
      "\n",
      "Error in <TTree::Fill>: Failed filling branch:HSsWeights_ID.WID, nbytes=-1, entry=11970\n",
      " This error is symptomatic of a Tree created as a memory-resident Tree\n",
      " Instead of doing:\n",
      "    TTree *T = new TTree(...)\n",
      "    TFile *f = new TFile(...)\n",
      " you should do:\n",
      "    TFile *f = new TFile(...)\n",
      "    TTree *T = new TTree(...)\n",
      "\n",
      "\n",
      "Error in <TBranch::TBranch::WriteBasketImpl>: basket's WriteBuffer failed.\n",
      "\n",
      "Error in <TBranch::TBranch::Fill>: Failed to write out basket.\n",
      "\n",
      "Error in <TTree::Fill>: Failed filling branch:HSsWeights_ID.WID, nbytes=-1, entry=15960\n",
      " This error is symptomatic of a Tree created as a memory-resident Tree\n",
      " Instead of doing:\n",
      "    TTree *T = new TTree(...)\n",
      "    TFile *f = new TFile(...)\n",
      " you should do:\n",
      "    TFile *f = new TFile(...)\n",
      "    TTree *T = new TTree(...)\n",
      "\n",
      "\n",
      "Warning in <TTreeFormula::DefinedVariable>: Casting to primary types like \"Long64_t\" is not supported yet\n"
     ]
    },
    {
     "name": "stdout",
     "output_type": "stream",
     "text": [
      "RooDataSet::weights[Phi] = 16314 entries\n",
      "RooDataSet::newtree[MesonPhi,HelCosTh,HelPhi,Pol,PolState,Eg,MesonCosTh,MesonMass,MLP,Topo,UID,Phi] = 16314 entries\n",
      "RooDataSet::Weight_Phinewtree[MesonPhi,HelCosTh,HelPhi,Pol,PolState,Eg,MesonCosTh,MesonMass,MLP,Topo,UID,weight:Phi] = 16314 entries (3331.11 weighted)\n",
      "RooDataSet::Weight_Phinewtree[MesonPhi,HelCosTh,HelPhi,Pol,PolState,Eg,MesonCosTh,MesonMass,MLP,Topo,UID,weight:Phi] = 16314 entries (3331.11 weighted)\n"
     ]
    }
   ],
   "source": [
    "  RF->LoadWeights(\"out2/WeightsSF.root \",\"HSsWeights\");\n",
    "  RF->SetWeightName(\"Phi\"); //Same as Signal species in FitHSSimpleBins\n",
    "  RF->SetDataWeight();\n",
    "  RF->GetDataSet()->Print();"
   ]
  },
  {
   "cell_type": "markdown",
   "metadata": {},
   "source": [
    "To correctly calculate the normalisation integral the simulation needs values for polarisation and polarisation state that matches the experimental data. This is handled in AddProData."
   ]
  },
  {
   "cell_type": "code",
   "execution_count": 10,
   "metadata": {},
   "outputs": [
    {
     "name": "stdout",
     "output_type": "stream",
     "text": [
      "RooHSEventsPDF::AddProtoData 0x7f31ac86c3b4 0x7f31d6e923d0\n",
      "RooArgSet::VarSet_0 = (HelCosTh,HelPhi,MesonPhi,Pol,PolState)\n",
      "RooArgSet:: = (MesonPhi,HelCosTh,HelPhi,Pol,PolState,Eg,MesonCosTh,MesonMass,MLP,Topo,UID)\n",
      "16314\n",
      "Add branches 0x7f31d6e923d0\n"
     ]
    },
    {
     "name": "stderr",
     "output_type": "stream",
     "text": [
      "Info in <VectorSDME::RooHSEventsPDF::AddProtoData>: Added data branch Pol\n",
      "Info in <VectorSDME::RooHSEventsPDF::AddProtoData>: Added data branch PolState\n",
      "Info in <VectorSDME::RooHSEventsPDF::AddProtoData>: Added data branch UID\n"
     ]
    }
   ],
   "source": [
    "pdf->AddProtoData(RF->GetDataSet());"
   ]
  },
  {
   "cell_type": "markdown",
   "metadata": {},
   "source": [
    "Do a fit! "
   ]
  },
  {
   "cell_type": "code",
   "execution_count": 11,
   "metadata": {
    "scrolled": false
   },
   "outputs": [
    {
     "name": "stdout",
     "output_type": "stream",
     "text": [
      "HSRooFit::TotalPDF() 0x7f31d6ca3b90 0\n",
      "RooAddPdf::phiSDMETotalPDF[ Yld_PhiSDME * PhiSDME ] = 0.942478\n",
      "HSRooFit::TotalPDF() phiSDMETotalPDF0\n",
      "[#1] INFO:ObjectHandling -- RooWorkspace::import(wHS) importing RooAddPdf::phiSDMETotalPDF0\n",
      "[#1] INFO:ObjectHandling -- RooWorkspace::import(wHS) using existing copy of VectorSDME::PhiSDME for import of RooAddPdf::phiSDMETotalPDF0\n",
      "[#1] INFO:ObjectHandling -- RooWorkspace::import(wHS) using existing copy of RooRealVar::HelCosTh for import of RooAddPdf::phiSDMETotalPDF0\n",
      "[#1] INFO:ObjectHandling -- RooWorkspace::import(wHS) using existing copy of RooRealVar::HelPhi for import of RooAddPdf::phiSDMETotalPDF0\n",
      "[#1] INFO:ObjectHandling -- RooWorkspace::import(wHS) using existing copy of RooRealVar::MesonPhi for import of RooAddPdf::phiSDMETotalPDF0\n",
      "[#1] INFO:ObjectHandling -- RooWorkspace::import(wHS) using existing copy of RooRealVar::Pol for import of RooAddPdf::phiSDMETotalPDF0\n",
      "[#1] INFO:ObjectHandling -- RooWorkspace::import(wHS) using existing copy of RooCategory::PolState for import of RooAddPdf::phiSDMETotalPDF0\n",
      "[#1] INFO:ObjectHandling -- RooWorkspace::import(wHS) using existing copy of RooRealVar::rho000 for import of RooAddPdf::phiSDMETotalPDF0\n",
      "[#1] INFO:ObjectHandling -- RooWorkspace::import(wHS) using existing copy of RooRealVar::Rerho010 for import of RooAddPdf::phiSDMETotalPDF0\n",
      "[#1] INFO:ObjectHandling -- RooWorkspace::import(wHS) using existing copy of RooRealVar::rho01m1 for import of RooAddPdf::phiSDMETotalPDF0\n",
      "[#1] INFO:ObjectHandling -- RooWorkspace::import(wHS) using existing copy of RooRealVar::rho111 for import of RooAddPdf::phiSDMETotalPDF0\n",
      "[#1] INFO:ObjectHandling -- RooWorkspace::import(wHS) using existing copy of RooRealVar::rho100 for import of RooAddPdf::phiSDMETotalPDF0\n",
      "[#1] INFO:ObjectHandling -- RooWorkspace::import(wHS) using existing copy of RooRealVar::Rerho110 for import of RooAddPdf::phiSDMETotalPDF0\n",
      "[#1] INFO:ObjectHandling -- RooWorkspace::import(wHS) using existing copy of RooRealVar::rho11m1 for import of RooAddPdf::phiSDMETotalPDF0\n",
      "[#1] INFO:ObjectHandling -- RooWorkspace::import(wHS) using existing copy of RooRealVar::Imrho210 for import of RooAddPdf::phiSDMETotalPDF0\n",
      "[#1] INFO:ObjectHandling -- RooWorkspace::import(wHS) using existing copy of RooRealVar::Imrho21m1 for import of RooAddPdf::phiSDMETotalPDF0\n",
      "[#1] INFO:ObjectHandling -- RooWorkspace::import(wHS) using existing copy of RooRealVar::Yld_PhiSDME for import of RooAddPdf::phiSDMETotalPDF0\n",
      "RooAddPdf::phiSDMETotalPDF0[ Yld_PhiSDME * PhiSDME ] = 0.942478\n",
      "\n",
      "RooWorkspace(wHS) wHS contents\n",
      "\n",
      "variables\n",
      "---------\n",
      "(Eg,HelCosTh,HelPhi,Imrho210,Imrho21m1,MLP,MesonCosTh,MesonMass,MesonPhi,Pol,PolState,Rerho010,Rerho110,Topo,UID,Yld_PhiSDME,rho000,rho01m1,rho100,rho111,rho11m1)\n",
      "\n",
      "p.d.f.s\n",
      "-------\n",
      "VectorSDME::PhiSDME[ HelCosTh=HelCosTh HelPhi=HelPhi MesonPhi=MesonPhi Pol=Pol PolState=PolState rho000=rho000 Rerho010=Rerho010 rho01m1=rho01m1 rho111=rho111 rho100=rho100 Rerho110=Rerho110 rho11m1=rho11m1 Imrho210=Imrho210 Imrho21m1=Imrho21m1 ] = 0.942478\n",
      "RooAddPdf::phiSDMETotalPDF0[ Yld_PhiSDME * PhiSDME ] = 0.942478\n",
      "\n",
      "named sets\n",
      "----------\n",
      "ID:(UID)\n",
      "\n",
      "RooAddPdf::phiSDMETotalPDF0[ Yld_PhiSDME * PhiSDME ] = 0.942478\n",
      "RooArgList:: = ()\n",
      "0x7f31b2d5c920 : OBJ: RooCmdArg\tExtended\tExtended\n",
      "0x7f31d79af110 : OBJ: RooCmdArg\tNumCPU\tNumCPU\n",
      "0x7f31b2d87880 : OBJ: RooCmdArg\tSave\tSave\n",
      "0x7f31d79ab690 : OBJ: RooCmdArg\tWarnings\tWarnings\n",
      "[#0] WARNING:InputArguments -- RooAbsPdf::fitTo(phiSDMETotalPDF0) WARNING: a likelihood fit is request of what appears to be weighted data. \n",
      "       While the estimated values of the parameters will always be calculated taking the weights into account, \n",
      "       there are multiple ways to estimate the errors on these parameter values. You are advised to make an \n",
      "       explicit choice on the error calculation: \n",
      "           - Either provide SumW2Error(kTRUE), to calculate a sum-of-weights corrected HESSE error matrix \n",
      "             (error will be proportional to the number of events)\n",
      "           - Or provide SumW2Error(kFALSE), to return errors from original HESSE error matrix\n",
      "             (which will be proportional to the sum of the weights)\n",
      "       If you want the errors to reflect the information contained in the provided dataset, choose kTRUE. \n",
      "       If you want the errors to reflect the precision you would be able to obtain with an unweighted dataset \n",
      "       with 'sum-of-weights' events, choose kFALSE.\n"
     ]
    },
    {
     "name": "stderr",
     "output_type": "stream",
     "text": [
      "Info in <HS::FIT::HSRooFit::HSRooFit::Fit()>:  Starting\n"
     ]
    },
    {
     "name": "stdout",
     "output_type": "stream",
     "text": [
      "[#1] INFO:Minization -- createNLL: caching constraint set under name CONSTR_OF_PDF_phiSDMETotalPDF0_FOR_OBS_Eg:HelCosTh:HelPhi:MLP:MesonCosTh:MesonMass:MesonPhi:Pol:PolState:Topo:UID with 0 entries\n",
      "[#1] INFO:Minization -- RooMinimizer::optimizeConst: activating const optimization\n",
      "[#0] WARNING:Optimization -- RooAbsOptTestStatistic::optimizeConstantTerms(nll_phiSDMETotalPDF0_Weight_Phinewtree) WARNING Cache-and-track optimization (Optimize level 2) is only available for datasets implement in terms of RooVectorDataStore - ignoring this option for current dataset\n",
      " **********\n",
      " **    1 **SET PRINT           1\n",
      " **********\n",
      " **********\n",
      " **    2 **SET NOGRAD\n",
      " **********\n",
      " PARAMETER DEFINITIONS:\n",
      "    NO.   NAME         VALUE      STEP SIZE      LIMITS\n",
      "     1 Imrho210    -1.00000e-01  1.00000e-01   -5.00000e-01  5.00000e-01\n",
      "     2 Imrho21m1    2.00000e-01  1.00000e-01   -5.00000e-01  5.00000e-01\n",
      "     3 Rerho010    -1.00000e-01  1.00000e-01   -5.00000e-01  5.00000e-01\n",
      "     4 Rerho110     2.00000e-02  1.00000e-01   -5.00000e-01  5.00000e-01\n",
      "     5 Yld_PhiSDME   1.66556e+03  6.66223e+02    0.00000e+00  6.66223e+03\n",
      "     6 rho000       3.00000e-01  1.00000e-01   -5.00000e-01  5.00000e-01\n",
      "     7 rho01m1      5.00000e-02  1.00000e-01   -5.00000e-01  5.00000e-01\n",
      "     8 rho100       0.00000e+00  1.00000e-01   -5.00000e-01  5.00000e-01\n",
      "     9 rho111       0.00000e+00  1.00000e-01   -5.00000e-01  5.00000e-01\n",
      "    10 rho11m1      2.00000e-01  1.00000e-01   -5.00000e-01  5.00000e-01\n",
      " **********\n",
      " **    3 **SET ERR         0.5\n",
      " **********\n",
      " **********\n",
      " **    4 **SET PRINT           1\n",
      " **********\n",
      " **********\n",
      " **    5 **SET STR           1\n",
      " **********\n",
      " NOW USING STRATEGY  1: TRY TO BALANCE SPEED AGAINST RELIABILITY\n",
      " **********\n",
      " **    6 **MIGRAD        5000           1\n",
      " **********\n",
      " FIRST CALL TO USER FUNCTION AT NEW START POINT, WITH IFLAG=4.\n",
      " START MIGRAD MINIMIZATION.  STRATEGY  1.  CONVERGENCE WHEN EDM .LT. 1.00e-03\n",
      " FCN=-23116.2 FROM MIGRAD    STATUS=INITIATE       40 CALLS          41 TOTAL\n",
      "                     EDM= unknown      STRATEGY= 1      NO ERROR MATRIX       \n",
      "  EXT PARAMETER               CURRENT GUESS       STEP         FIRST   \n",
      "  NO.   NAME      VALUE            ERROR          SIZE      DERIVATIVE \n",
      "   1  Imrho210    -1.00000e-01   1.00000e-01   2.05758e-01  -6.19767e+02\n",
      "   2  Imrho21m1    2.00000e-01   1.00000e-01   2.21072e-01   1.24873e+02\n",
      "   3  Rerho010    -1.00000e-01   1.00000e-01   2.05758e-01  -2.61661e+02\n",
      "   4  Rerho110     2.00000e-02   1.00000e-01   2.01528e-01  -2.72542e+02\n",
      "   5  Yld_PhiSDME   1.66556e+03   6.66223e+02   2.35352e-01  -2.88484e+03\n",
      "   6  rho000       3.00000e-01   1.00000e-01   2.57889e-01  -6.99608e+01\n",
      "   7  rho01m1      5.00000e-02   1.00000e-01   2.02430e-01  -8.84943e+01\n",
      "   8  rho100       0.00000e+00   1.00000e-01   2.01358e-01   5.88623e+01\n",
      "   9  rho111       0.00000e+00   1.00000e-01   2.01358e-01  -7.63332e+01\n",
      "  10  rho11m1      2.00000e-01   1.00000e-01   2.21072e-01   4.67003e+01\n",
      "                               ERR DEF= 0.5\n",
      " MIGRAD MINIMIZATION HAS CONVERGED.\n",
      " MIGRAD WILL VERIFY CONVERGENCE AND ERROR MATRIX.\n",
      " COVARIANCE MATRIX CALCULATED SUCCESSFULLY\n",
      " FCN=-23921 FROM HESSE     STATUS=OK            102 CALLS         291 TOTAL\n",
      "                     EDM=0.000739494    STRATEGY= 1      ERROR MATRIX ACCURATE \n",
      "  EXT PARAMETER                                   STEP         FIRST   \n",
      "  NO.   NAME      VALUE            ERROR          SIZE      DERIVATIVE \n",
      "   1  Imrho210     1.14317e-01   1.53039e-02   3.27337e-03   5.42205e-01\n",
      "   2  Imrho21m1    1.69164e-01   2.28536e-02   5.07634e-03   1.23832e-01\n",
      "   3  Rerho010    -9.59862e-02   6.77525e-03   1.41338e-03   1.94306e-01\n",
      "   4  Rerho110     1.12416e-01   1.31821e-02   2.76393e-03  -6.55689e-01\n",
      "   5  Yld_PhiSDME   3.33100e+03   5.77109e+01   1.85119e-03  -1.16220e-01\n",
      "   6  rho000       3.27032e-01   1.25507e-02   3.46032e-03  -1.20932e-01\n",
      "   7  rho01m1      7.81590e-02   1.14763e-02   2.38215e-03  -1.05584e-01\n",
      "   8  rho100      -1.16239e-01   2.50747e-02   4.80273e-03  -3.14444e-01\n",
      "   9  rho111       5.65477e-02   1.79138e-02   3.28984e-03   4.33878e-01\n",
      "  10  rho11m1      1.88456e-01   2.21314e-02   4.93451e-03   7.21915e-02\n",
      "                               ERR DEF= 0.5\n",
      " MIGRAD MINIMIZATION HAS CONVERGED.\n",
      " FCN=-23921 FROM MIGRAD    STATUS=CONVERGED     321 CALLS         322 TOTAL\n",
      "                     EDM=3.04499e-05    STRATEGY= 1  ERROR MATRIX UNCERTAINTY  10.0 per cent\n",
      "  EXT PARAMETER                                   STEP         FIRST   \n",
      "  NO.   NAME      VALUE            ERROR          SIZE      DERIVATIVE \n",
      "   1  Imrho210     1.14301e-01   1.34323e-02  -3.14133e-05  -5.25455e-02\n",
      "   2  Imrho21m1    1.69153e-01   2.26207e-02  -2.45221e-05   5.52424e-02\n",
      "   3  Rerho010    -9.59871e-02   6.74766e-03  -1.99335e-06  -6.32020e-02\n",
      "   4  Rerho110     1.12431e-01   1.09585e-02   3.00265e-05   1.14287e-01\n",
      "   5  Yld_PhiSDME   3.33100e+03   5.77151e+01   1.94475e-06  -1.13392e-01\n",
      "   6  rho000       3.27033e-01   1.25482e-02   2.99557e-06  -5.49043e-02\n",
      "   7  rho01m1      7.81563e-02   1.12669e-02  -5.64571e-06  -1.36260e-01\n",
      "   8  rho100      -1.16208e-01   2.03969e-02   6.37022e-05   6.75173e-02\n",
      "   9  rho111       5.65220e-02   1.46604e-02  -5.16766e-05   1.24565e-01\n",
      "  10  rho11m1      1.88457e-01   2.20221e-02   1.99043e-06   4.15096e-02\n",
      "                               ERR DEF= 0.5\n",
      " EXTERNAL ERROR MATRIX.    NDIM=  25    NPAR= 10    ERR DEF=0.5\n",
      "  1.805e-04  3.363e-05 -2.805e-06  4.809e-05 -6.416e-04  1.464e-05 -3.013e-07  1.065e-04 -7.432e-05 -2.356e-06 \n",
      "  3.363e-05  5.121e-04 -6.455e-06  2.512e-05 -6.377e-04 -2.420e-05 -2.057e-05  6.035e-05 -2.815e-05  1.302e-05 \n",
      " -2.805e-06 -6.455e-06  4.553e-05  2.835e-06 -3.128e-05 -1.457e-06  1.379e-05  2.183e-05  3.925e-06 -7.183e-06 \n",
      "  4.809e-05  2.512e-05  2.835e-06  1.201e-04  5.925e-04  1.049e-05  3.832e-06 -1.101e-04  3.791e-05  4.191e-05 \n",
      " -6.416e-04 -6.377e-04 -3.128e-05  5.925e-04  3.331e+03  1.061e-04 -5.850e-05  1.318e-03 -1.215e-03 -8.413e-05 \n",
      "  1.464e-05 -2.420e-05 -1.457e-06  1.049e-05  1.061e-04  1.575e-04  3.693e-06 -3.290e-05  8.301e-06 -2.845e-05 \n",
      " -3.013e-07 -2.057e-05  1.379e-05  3.832e-06 -5.850e-05  3.693e-06  1.270e-04  1.444e-05  1.463e-05 -6.327e-07 \n",
      "  1.065e-04  6.035e-05  2.183e-05 -1.101e-04  1.318e-03 -3.290e-05  1.444e-05  4.163e-04 -5.465e-05 -1.563e-05 \n",
      " -7.432e-05 -2.815e-05  3.925e-06  3.791e-05 -1.215e-03  8.301e-06  1.463e-05 -5.465e-05  2.150e-04  3.325e-05 \n",
      " -2.356e-06  1.302e-05 -7.183e-06  4.191e-05 -8.413e-05 -2.845e-05 -6.327e-07 -1.563e-05  3.325e-05  4.853e-04 \n",
      " PARAMETER  CORRELATION COEFFICIENTS  \n",
      "       NO.  GLOBAL      1      2      3      4      5      6      7      8      9     10\n",
      "        1  0.86013   1.000  0.111 -0.031  0.327 -0.001  0.087 -0.002  0.389 -0.377 -0.008\n",
      "        2  0.34266   0.111  1.000 -0.042  0.101 -0.000 -0.085 -0.081  0.131 -0.085  0.026\n",
      "        3  0.40851  -0.031 -0.042  1.000  0.038 -0.000 -0.017  0.181  0.159  0.040 -0.048\n",
      "        4  0.87145   0.327  0.101  0.038  1.000  0.001  0.076  0.031 -0.492  0.236  0.174\n",
      "        5  0.00688  -0.001 -0.000 -0.000  0.001  1.000  0.000 -0.000  0.001 -0.001 -0.000\n",
      "        6  0.29538   0.087 -0.085 -0.017  0.076  0.000  1.000  0.026 -0.128  0.045 -0.103\n",
      "        7  0.22834  -0.002 -0.081  0.181  0.031 -0.000  0.026  1.000  0.063  0.089 -0.003\n",
      "        8  0.85803   0.389  0.131  0.159 -0.492  0.001 -0.128  0.063  1.000 -0.183 -0.035\n",
      "        9  0.66726  -0.377 -0.085  0.040  0.236 -0.001  0.045  0.089 -0.183  1.000  0.103\n",
      "       10  0.27289  -0.008  0.026 -0.048  0.174 -0.000 -0.103 -0.003 -0.035  0.103  1.000\n",
      " **********\n",
      " **    7 **SET ERR         0.5\n",
      " **********\n",
      " **********\n",
      " **    8 **SET PRINT           1\n",
      " **********\n",
      " **********\n",
      " **    9 **HESSE        5000\n",
      " **********\n",
      " COVARIANCE MATRIX CALCULATED SUCCESSFULLY\n",
      " FCN=-23921 FROM HESSE     STATUS=OK            102 CALLS         424 TOTAL\n",
      "                     EDM=0.00565509    STRATEGY= 1      ERROR MATRIX ACCURATE \n",
      "  EXT PARAMETER                                INTERNAL      INTERNAL  \n",
      "  NO.   NAME      VALUE            ERROR       STEP SIZE       VALUE   \n",
      "   1  Imrho210     1.14301e-01   1.54406e-02   3.09970e-03   2.30642e-01\n",
      "   2  Imrho21m1    1.69153e-01   2.21039e-02   2.03054e-03   3.45116e-01\n",
      "   3  Rerho010    -9.59871e-02   6.81660e-03   1.42884e-03  -1.93173e-01\n",
      "   4  Rerho110     1.12431e-01   1.30853e-02   2.61629e-03   2.26801e-01\n",
      "   5  Yld_PhiSDME   3.33100e+03   5.77110e+01   1.85041e-03  -3.28977e-05\n",
      "   6  rho000       3.27033e-01   1.25355e-02   3.46296e-03   7.12947e-01\n",
      "   7  rho01m1      7.81563e-02   1.14796e-02   2.38186e-03   1.56956e-01\n",
      "   8  rho100      -1.16208e-01   2.40436e-02   4.54738e-03  -2.34561e-01\n",
      "   9  rho111       5.65220e-02   1.65551e-02   1.31594e-03   1.13286e-01\n",
      "  10  rho11m1      1.88457e-01   2.21299e-02   4.93338e-03   3.86462e-01\n",
      "                               ERR DEF= 0.5\n",
      " EXTERNAL ERROR MATRIX.    NDIM=  25    NPAR= 10    ERR DEF=0.5\n",
      "  2.385e-04  7.545e-05  5.688e-06 -2.267e-06 -2.036e-11  1.871e-05  1.539e-05 -4.472e-06  6.693e-06 -1.846e-05 \n",
      "  7.545e-05  4.889e-04  1.075e-05  1.232e-05 -1.104e-10 -7.868e-06  1.250e-05  1.379e-05  5.228e-05  8.530e-06 \n",
      "  5.688e-06  1.075e-05  4.647e-05  3.852e-07  9.604e-11  9.993e-07  1.814e-05  1.446e-05  1.731e-05 -7.493e-06 \n",
      " -2.267e-06  1.232e-05  3.852e-07  1.713e-04 -4.945e-12  8.208e-06 -1.029e-05 -1.247e-05 -2.239e-05  5.806e-05 \n",
      " -2.036e-11 -1.104e-10  9.604e-11 -4.945e-12  3.331e+03 -2.888e-10 -9.037e-11  1.027e-09 -9.367e-10 -4.173e-10 \n",
      "  1.871e-05 -7.868e-06  9.993e-07  8.208e-06 -2.888e-10  1.572e-04  4.690e-06 -3.772e-05  1.567e-05 -2.904e-05 \n",
      "  1.539e-05  1.250e-05  1.814e-05 -1.029e-05 -9.037e-11  4.690e-06  1.318e-04 -8.547e-06  4.325e-05 -3.996e-06 \n",
      " -4.472e-06  1.379e-05  1.446e-05 -1.247e-05  1.027e-09 -3.772e-05 -8.547e-06  5.786e-04 -1.434e-04  1.807e-05 \n",
      "  6.693e-06  5.228e-05  1.731e-05 -2.239e-05 -9.367e-10  1.567e-05  4.325e-05 -1.434e-04  2.742e-04  1.140e-05 \n",
      " -1.846e-05  8.530e-06 -7.493e-06  5.806e-05 -4.173e-10 -2.904e-05 -3.996e-06  1.807e-05  1.140e-05  4.901e-04 \n",
      " PARAMETER  CORRELATION COEFFICIENTS  \n",
      "       NO.  GLOBAL      1      2      3      4      5      6      7      8      9     10\n",
      "        1  0.26214   1.000  0.221  0.054 -0.011 -0.000  0.097  0.087 -0.012  0.026 -0.054\n",
      "        2  0.28760   0.221  1.000  0.071  0.043 -0.000 -0.028  0.049  0.026  0.143  0.017\n",
      "        3  0.30426   0.054  0.071  1.000  0.004  0.000  0.012  0.232  0.088  0.153 -0.050\n",
      "        4  0.27306  -0.011  0.043  0.004  1.000 -0.000  0.050 -0.068 -0.040 -0.103  0.200\n",
      "        5  0.00000  -0.000 -0.000  0.000 -0.000  1.000 -0.000 -0.000  0.000 -0.000 -0.000\n",
      "        6  0.20882   0.097 -0.028  0.012  0.050 -0.000  1.000  0.033 -0.125  0.075 -0.105\n",
      "        7  0.31548   0.087  0.049  0.232 -0.068 -0.000  0.033  1.000 -0.031  0.227 -0.016\n",
      "        8  0.41875  -0.012  0.026  0.088 -0.040  0.000 -0.125 -0.031  1.000 -0.360  0.034\n",
      "        9  0.48436   0.026  0.143  0.153 -0.103 -0.000  0.075  0.227 -0.360  1.000  0.031\n",
      "       10  0.25741  -0.054  0.017 -0.050  0.200 -0.000 -0.105 -0.016  0.034  0.031  1.000\n",
      "[#1] INFO:Minization -- RooMinimizer::optimizeConst: deactivating const optimization\n",
      "4 0x7f31ac9dc750 0x7f31d710cbe0\n",
      "Plotting MesonPhi\n",
      "[#1] INFO:Plotting -- RooAbsReal::plotOn(phiSDMETotalPDF0) plot on MesonPhi integrates over variables (HelCosTh,HelPhi,Pol,PolState)\n"
     ]
    },
    {
     "name": "stdout",
     "output_type": "stream",
     "text": [
      "1 HSRooFit::PlotDataModel() chi2 = 1.27979\n",
      "[#1] INFO:Plotting -- RooAbsPdf::plotOn(phiSDMETotalPDF0) directly selected PDF components: (PhiSDME)\n",
      "[#1] INFO:Plotting -- RooAbsPdf::plotOn(phiSDMETotalPDF0) indirectly selected PDF components: ()\n",
      "[#1] INFO:Plotting -- RooAbsReal::plotOn(phiSDMETotalPDF0) plot on MesonPhi integrates over variables (HelCosTh,HelPhi,Pol,PolState)\n",
      "4 0x7f31b2d2ba90 0x7f31d62dadf0\n",
      "Plotting HelCosTh\n",
      "[#1] INFO:Plotting -- RooAbsReal::plotOn(phiSDMETotalPDF0) plot on HelCosTh integrates over variables (MesonPhi,HelPhi,Pol,PolState)\n",
      "1 HSRooFit::PlotDataModel() chi2 = 1.4014\n",
      "[#1] INFO:Plotting -- RooAbsPdf::plotOn(phiSDMETotalPDF0) directly selected PDF components: (PhiSDME)\n",
      "[#1] INFO:Plotting -- RooAbsPdf::plotOn(phiSDMETotalPDF0) indirectly selected PDF components: ()\n",
      "[#1] INFO:Plotting -- RooAbsReal::plotOn(phiSDMETotalPDF0) plot on HelCosTh integrates over variables (MesonPhi,HelPhi,Pol,PolState)\n",
      "4 0x7f31b2db75e0 0x7f31d6f52a60\n",
      "Plotting HelPhi\n",
      "[#1] INFO:Plotting -- RooAbsReal::plotOn(phiSDMETotalPDF0) plot on HelPhi integrates over variables (MesonPhi,HelCosTh,Pol,PolState)\n",
      "1 HSRooFit::PlotDataModel() chi2 = 0.97718\n",
      "[#1] INFO:Plotting -- RooAbsPdf::plotOn(phiSDMETotalPDF0) directly selected PDF components: (PhiSDME)\n",
      "[#1] INFO:Plotting -- RooAbsPdf::plotOn(phiSDMETotalPDF0) indirectly selected PDF components: ()\n",
      "[#1] INFO:Plotting -- RooAbsReal::plotOn(phiSDMETotalPDF0) plot on HelPhi integrates over variables (MesonPhi,HelCosTh,Pol,PolState)\n",
      "4 0x7f31b2d7ab00 0x7f31d6c6b010\n",
      "Plotting Pol\n",
      "[#1] INFO:Plotting -- RooAbsReal::plotOn(phiSDMETotalPDF0) plot on Pol integrates over variables (MesonPhi,HelCosTh,HelPhi,PolState)\n",
      "1 HSRooFit::PlotDataModel() chi2 = 4193.21\n",
      "[#1] INFO:Plotting -- RooAbsPdf::plotOn(phiSDMETotalPDF0) directly selected PDF components: (PhiSDME)\n",
      "[#1] INFO:Plotting -- RooAbsPdf::plotOn(phiSDMETotalPDF0) indirectly selected PDF components: ()\n",
      "[#1] INFO:Plotting -- RooAbsReal::plotOn(phiSDMETotalPDF0) plot on Pol integrates over variables (MesonPhi,HelCosTh,HelPhi,PolState)\n",
      "HSRooFit::FitMany  Likelihoods \n",
      "-23921\n",
      "HSRooFit::FitMany() Best likelihood was -23921 0 so use those parameters\n",
      "\n",
      "  RooFitResult: minimized FCN value: -23921, estimated distance to minimum: 0.00565509\n",
      "                covariance matrix quality: Full, accurate covariance matrix\n",
      "                Status : \n",
      "\n",
      "    Floating Parameter    FinalValue +/-  Error   \n",
      "  --------------------  --------------------------\n",
      "              Imrho210    1.1430e-01 +/-  1.54e-02\n",
      "             Imrho21m1    1.6915e-01 +/-  2.21e-02\n",
      "              Rerho010   -9.5987e-02 +/-  6.82e-03\n",
      "              Rerho110    1.1243e-01 +/-  1.31e-02\n",
      "           Yld_PhiSDME    3.3310e+03 +/-  5.77e+01\n",
      "                rho000    3.2703e-01 +/-  1.25e-02\n",
      "               rho01m1    7.8156e-02 +/-  1.15e-02\n",
      "                rho100   -1.1621e-01 +/-  2.40e-02\n",
      "                rho111    5.6522e-02 +/-  1.66e-02\n",
      "               rho11m1    1.8846e-01 +/-  2.21e-02\n",
      "\n",
      "Yld_PhiSDME 3331\n",
      "RooAddPdf::phiSDMETotalPDF0[ Yld_PhiSDME * PhiSDME ] = 0.764101\n",
      "0x7f31b2d5c920 : OBJ: RooCmdArg\tExtended\tExtended\n",
      "0x7f31d79af110 : OBJ: RooCmdArg\tNumCPU\tNumCPU\n",
      "0x7f31b2d87880 : OBJ: RooCmdArg\tSave\tSave\n",
      "0x7f31d79ab690 : OBJ: RooCmdArg\tWarnings\tWarnings\n",
      "0x7f31bb9afe30 : OBJ: RooCmdArg\tSumW2Error\tSumW2Error\n"
     ]
    },
    {
     "name": "stderr",
     "output_type": "stream",
     "text": [
      "Info in <HS::FIT::HSRooFit::HSRooFit::Fit()>:  Starting\n"
     ]
    },
    {
     "name": "stdout",
     "output_type": "stream",
     "text": [
      "[#1] INFO:Minization -- createNLL picked up cached consraints from workspace with 0 entries\n",
      "[#1] INFO:Minization -- RooMinimizer::optimizeConst: activating const optimization\n",
      "[#0] WARNING:Optimization -- RooAbsOptTestStatistic::optimizeConstantTerms(nll_phiSDMETotalPDF0_Weight_Phinewtree) WARNING Cache-and-track optimization (Optimize level 2) is only available for datasets implement in terms of RooVectorDataStore - ignoring this option for current dataset\n",
      " **********\n",
      " **   10 **SET PRINT           1\n",
      " **********\n",
      " **********\n",
      " **   11 **SET NOGRAD\n",
      " **********\n",
      " PARAMETER DEFINITIONS:\n",
      "    NO.   NAME         VALUE      STEP SIZE      LIMITS\n",
      "     1 Imrho210     1.14301e-01  1.54406e-02   -5.00000e-01  5.00000e-01\n",
      "     2 Imrho21m1    1.69153e-01  2.21039e-02   -5.00000e-01  5.00000e-01\n",
      "     3 Rerho010    -9.59871e-02  6.81660e-03   -5.00000e-01  5.00000e-01\n",
      "     4 Rerho110     1.12431e-01  1.30853e-02   -5.00000e-01  5.00000e-01\n",
      "     5 Yld_PhiSDME   1.66556e+03  5.77110e+01    0.00000e+00  6.66223e+03\n",
      "     6 rho000       3.27033e-01  1.25355e-02   -5.00000e-01  5.00000e-01\n",
      "     7 rho01m1      7.81563e-02  1.14796e-02   -5.00000e-01  5.00000e-01\n",
      "     8 rho100      -1.16208e-01  2.40436e-02   -5.00000e-01  5.00000e-01\n",
      "     9 rho111       5.65220e-02  1.65551e-02   -5.00000e-01  5.00000e-01\n",
      "    10 rho11m1      1.88457e-01  2.21299e-02   -5.00000e-01  5.00000e-01\n",
      " **********\n",
      " **   12 **SET ERR         0.5\n",
      " **********\n",
      " **********\n",
      " **   13 **SET PRINT           1\n",
      " **********\n",
      " **********\n",
      " **   14 **SET STR           1\n",
      " **********\n",
      " NOW USING STRATEGY  1: TRY TO BALANCE SPEED AGAINST RELIABILITY\n",
      " **********\n",
      " **   15 **MIGRAD        5000           1\n",
      " **********\n",
      " FIRST CALL TO USER FUNCTION AT NEW START POINT, WITH IFLAG=4.\n",
      " START MIGRAD MINIMIZATION.  STRATEGY  1.  CONVERGENCE WHEN EDM .LT. 1.00e-03\n",
      " FCN=-23277.6 FROM MIGRAD    STATUS=INITIATE       22 CALLS          23 TOTAL\n",
      "                     EDM= unknown      STRATEGY= 1      NO ERROR MATRIX       \n",
      "  EXT PARAMETER               CURRENT GUESS       STEP         FIRST   \n",
      "  NO.   NAME      VALUE            ERROR          SIZE      DERIVATIVE \n",
      "   1  Imrho210     1.14301e-01   1.54406e-02   3.17275e-02  -6.04335e-02\n",
      "   2  Imrho21m1    1.69153e-01   2.21039e-02   4.70019e-02   7.76168e-03\n",
      "   3  Rerho010    -9.59871e-02   6.81660e-03   1.38921e-02  -7.59593e-02\n",
      "   4  Rerho110     1.12431e-01   1.30853e-02   2.68621e-02   1.15268e-01\n",
      "   5  Yld_PhiSDME   1.66556e+03   5.77110e+01   2.00077e-02  -2.88483e+03\n",
      "   6  rho000       3.27033e-01   1.25355e-02   3.31631e-02  -5.16008e-02\n",
      "   7  rho01m1      7.81563e-02   1.14796e-02   2.32472e-02  -9.40989e-02\n",
      "   8  rho100      -1.16208e-01   2.40436e-02   4.94647e-02   6.57155e-02\n",
      "   9  rho111       5.65220e-02   1.65551e-02   3.33301e-02   1.25474e-01\n",
      "  10  rho11m1      1.88457e-01   2.21299e-02   4.78113e-02   3.93580e-02\n",
      "                               ERR DEF= 0.5\n",
      " MIGRAD MINIMIZATION HAS CONVERGED.\n",
      " MIGRAD WILL VERIFY CONVERGENCE AND ERROR MATRIX.\n",
      " COVARIANCE MATRIX CALCULATED SUCCESSFULLY\n",
      " FCN=-23921 FROM MIGRAD    STATUS=CONVERGED     196 CALLS         197 TOTAL\n",
      "                     EDM=0.000369752    STRATEGY= 1      ERROR MATRIX ACCURATE \n",
      "  EXT PARAMETER                                   STEP         FIRST   \n",
      "  NO.   NAME      VALUE            ERROR          SIZE      DERIVATIVE \n",
      "   1  Imrho210     1.14314e-01   1.52988e-02   3.31099e-03  -1.48037e-01\n",
      "   2  Imrho21m1    1.69108e-01   2.28966e-02   5.13406e-03   1.46321e-01\n",
      "   3  Rerho010    -9.59727e-02   6.74657e-03   1.44482e-03   2.74274e-01\n",
      "   4  Rerho110     1.12367e-01   1.32529e-02   2.79443e-03  -2.62721e-01\n",
      "   5  Yld_PhiSDME   3.33113e+03   5.77132e+01   1.85039e-03   1.53780e-02\n",
      "   6  rho000       3.27083e-01   1.26472e-02   3.53292e-03   3.43203e-01\n",
      "   7  rho01m1      7.82000e-02   1.14501e-02   2.40859e-03   6.29565e-02\n",
      "   8  rho100      -1.16301e-01   2.51358e-02   4.85727e-03  -1.61257e-01\n",
      "   9  rho111       5.64379e-02   1.81049e-02   3.36451e-03  -2.43560e-01\n",
      "  10  rho11m1      1.88390e-01   2.21501e-02   5.04390e-03  -1.42182e-01\n",
      "                               ERR DEF= 0.5\n",
      " EXTERNAL ERROR MATRIX.    NDIM=  25    NPAR= 10    ERR DEF=0.5\n",
      "  2.341e-04  5.838e-05  1.509e-06 -1.000e-05  2.005e-11  1.226e-05  1.557e-05 -5.142e-06 -1.223e-06 -1.937e-05 \n",
      "  5.838e-05  5.247e-04 -3.647e-06 -7.268e-07  4.799e-10 -3.129e-05 -7.278e-06  1.338e-05  6.068e-06  6.106e-06 \n",
      "  1.509e-06 -3.647e-06  4.552e-05 -2.606e-06 -2.206e-11 -1.553e-06  1.682e-05  1.029e-05  1.445e-05 -7.637e-06 \n",
      " -1.000e-05 -7.268e-07 -2.606e-06  1.757e-04 -3.612e-11  5.539e-06 -1.324e-05 -6.856e-06 -4.249e-05  5.854e-05 \n",
      "  2.005e-11  4.799e-10 -2.206e-11 -3.612e-11  3.331e+03 -2.403e-10 -2.275e-10  9.387e-11 -8.981e-11 -3.629e-10 \n",
      "  1.226e-05 -3.129e-05 -1.553e-06  5.539e-06 -2.403e-10  1.600e-04  3.251e-06 -4.288e-05  8.719e-06 -3.085e-05 \n",
      "  1.557e-05 -7.278e-06  1.682e-05 -1.324e-05 -2.275e-10  3.251e-06  1.311e-04 -2.058e-05  4.403e-05  7.624e-09 \n",
      " -5.142e-06  1.338e-05  1.029e-05 -6.856e-06  9.387e-11 -4.288e-05 -2.058e-05  6.324e-04 -2.053e-04  1.679e-05 \n",
      " -1.223e-06  6.068e-06  1.445e-05 -4.249e-05 -8.981e-11  8.719e-06  4.403e-05 -2.053e-04  3.279e-04  1.087e-05 \n",
      " -1.937e-05  6.106e-06 -7.637e-06  5.854e-05 -3.629e-10 -3.085e-05  7.624e-09  1.679e-05  1.087e-05  4.910e-04 \n",
      " PARAMETER  CORRELATION COEFFICIENTS  \n",
      "       NO.  GLOBAL      1      2      3      4      5      6      7      8      9     10\n",
      "        1  0.21956   1.000  0.167  0.015 -0.049  0.000  0.063  0.089 -0.013 -0.004 -0.057\n",
      "        2  0.21383   0.167  1.000 -0.024 -0.002  0.000 -0.108 -0.028  0.023  0.015  0.012\n",
      "        3  0.27027   0.015 -0.024  1.000 -0.029 -0.000 -0.018  0.218  0.061  0.118 -0.051\n",
      "        4  0.30829  -0.049 -0.002 -0.029  1.000 -0.000  0.033 -0.087 -0.021 -0.177  0.199\n",
      "        5  0.00000   0.000  0.000 -0.000 -0.000  1.000 -0.000 -0.000  0.000 -0.000 -0.000\n",
      "        6  0.22180   0.063 -0.108 -0.018  0.033 -0.000  1.000  0.022 -0.135  0.038 -0.110\n",
      "        7  0.30733   0.089 -0.028  0.218 -0.087 -0.000  0.022  1.000 -0.071  0.212  0.000\n",
      "        8  0.49304  -0.013  0.023  0.061 -0.021  0.000 -0.135 -0.071  1.000 -0.451  0.030\n",
      "        9  0.53426  -0.004  0.015  0.118 -0.177 -0.000  0.038  0.212 -0.451  1.000  0.027\n",
      "       10  0.25908  -0.057  0.012 -0.051  0.199 -0.000 -0.110  0.000  0.030  0.027  1.000\n",
      " **********\n",
      " **   16 **SET ERR         0.5\n",
      " **********\n",
      " **********\n",
      " **   17 **SET PRINT           1\n",
      " **********\n",
      " **********\n",
      " **   18 **HESSE        5000\n",
      " **********\n",
      " COVARIANCE MATRIX CALCULATED SUCCESSFULLY\n",
      " FCN=-23921 FROM HESSE     STATUS=OK            136 CALLS         333 TOTAL\n",
      "                     EDM=0.00157537    STRATEGY= 1      ERROR MATRIX ACCURATE \n",
      "  EXT PARAMETER                                INTERNAL      INTERNAL  \n",
      "  NO.   NAME      VALUE            ERROR       STEP SIZE       VALUE   \n",
      "   1  Imrho210     1.14314e-01   1.55435e-02   1.05805e-01   2.30669e-01\n",
      "   2  Imrho21m1    1.69108e-01   2.33198e-02   1.63982e-01   3.45020e-01\n",
      "   3  Rerho010    -9.59727e-02   6.75003e-03   4.57167e-02  -1.93144e-01\n",
      "   4  Rerho110     1.12367e-01   1.39108e-02   8.91632e-02   2.26671e-01\n",
      "   5  Yld_PhiSDME   3.33113e+03   5.77132e+01   7.40158e-05   4.61832e-06\n",
      "   6  rho000       3.27083e-01   1.27081e-02   1.12203e-01   7.13080e-01\n",
      "   7  rho01m1      7.82000e-02   1.17557e-02   7.65019e-02   1.57045e-01\n",
      "   8  rho100      -1.16301e-01   2.54924e-02   1.54683e-01  -2.34753e-01\n",
      "   9  rho111       5.64379e-02   1.85181e-02   1.06557e-01   1.13117e-01\n",
      "  10  rho11m1      1.88390e-01   2.26453e-02   2.01756e-04   3.86318e-01\n",
      "                               ERR DEF= 0.5\n",
      " EXTERNAL ERROR MATRIX.    NDIM=  25    NPAR= 10    ERR DEF=0.5\n",
      "  2.417e-04  5.878e-05  2.681e-06 -1.905e-05  2.110e-10  1.192e-05  1.623e-05 -1.460e-05 -6.693e-06 -3.637e-05 \n",
      "  5.878e-05  5.443e-04 -3.184e-06 -2.840e-06  1.131e-10 -4.317e-05 -2.112e-05  1.204e-05 -4.934e-06  8.265e-06 \n",
      "  2.681e-06 -3.184e-06  4.557e-05 -4.764e-06 -9.770e-11  3.616e-07  1.401e-05  1.298e-05  1.221e-05 -1.174e-05 \n",
      " -1.905e-05 -2.840e-06 -4.764e-06  1.936e-04 -2.119e-11  1.161e-05 -3.885e-05 -1.212e-05 -5.896e-05  7.480e-05 \n",
      "  2.110e-10  1.131e-10 -9.770e-11 -2.119e-11  3.331e+03 -1.766e-10 -6.058e-12 -3.531e-11 -1.785e-11  2.665e-11 \n",
      "  1.192e-05 -4.317e-05  3.616e-07  1.161e-05 -1.766e-10  1.616e-04 -7.902e-06 -6.102e-06 -1.319e-05 -3.076e-05 \n",
      "  1.623e-05 -2.112e-05  1.401e-05 -3.885e-05 -6.058e-12 -7.902e-06  1.382e-04 -2.091e-05  4.250e-05 -2.985e-05 \n",
      " -1.460e-05  1.204e-05  1.298e-05 -1.212e-05 -3.531e-11 -6.102e-06 -2.091e-05  6.505e-04 -2.169e-04  2.601e-05 \n",
      " -6.693e-06 -4.934e-06  1.221e-05 -5.896e-05 -1.785e-11 -1.319e-05  4.250e-05 -2.169e-04  3.431e-04 -1.529e-05 \n",
      " -3.637e-05  8.265e-06 -1.174e-05  7.480e-05  2.665e-11 -3.076e-05 -2.985e-05  2.601e-05 -1.529e-05  5.132e-04 \n",
      " PARAMETER  CORRELATION COEFFICIENTS  \n",
      "       NO.  GLOBAL      1      2      3      4      5      6      7      8      9     10\n",
      "        1  0.24832   1.000  0.162  0.026 -0.088  0.000  0.060  0.089 -0.037 -0.023 -0.103\n",
      "        2  0.24753   0.162  1.000 -0.020 -0.009  0.000 -0.146 -0.077  0.020 -0.011  0.016\n",
      "        3  0.24185   0.026 -0.020  1.000 -0.051 -0.000  0.004  0.177  0.075  0.098 -0.077\n",
      "        4  0.41231  -0.088 -0.009 -0.051  1.000 -0.000  0.066 -0.238 -0.034 -0.229  0.237\n",
      "        5  0.00000   0.000  0.000 -0.000 -0.000  1.000 -0.000 -0.000 -0.000 -0.000  0.000\n",
      "        6  0.22968   0.060 -0.146  0.004  0.066 -0.000  1.000 -0.053 -0.019 -0.056 -0.107\n",
      "        7  0.34435   0.089 -0.077  0.177 -0.238 -0.000 -0.053  1.000 -0.070  0.195 -0.112\n",
      "        8  0.50490  -0.037  0.020  0.075 -0.034 -0.000 -0.019 -0.070  1.000 -0.459  0.045\n",
      "        9  0.54954  -0.023 -0.011  0.098 -0.229 -0.000 -0.056  0.195 -0.459  1.000 -0.036\n",
      "       10  0.29711  -0.103  0.016 -0.077  0.237  0.000 -0.107 -0.112  0.045 -0.036  1.000\n",
      "[#1] INFO:Fitting -- RooAbsPdf::fitTo(phiSDMETotalPDF0) Calculating sum-of-weights-squared correction matrix for covariance matrix\n",
      " **********\n",
      " **   19 **SET ERR         0.5\n",
      " **********\n",
      " **********\n",
      " **   20 **SET PRINT           1\n",
      " **********\n",
      " **********\n",
      " **   21 **HESSE        5000\n",
      " **********\n"
     ]
    },
    {
     "name": "stdout",
     "output_type": "stream",
     "text": [
      " COVARIANCE MATRIX CALCULATED SUCCESSFULLY\n",
      " FCN=-90721.3 FROM HESSE     STATUS=OK            120 CALLS         453 TOTAL\n",
      "                     EDM=585.962    STRATEGY= 1      ERROR MATRIX ACCURATE \n",
      "  EXT PARAMETER                                INTERNAL      INTERNAL  \n",
      "  NO.   NAME      VALUE            ERROR       STEP SIZE       VALUE   \n",
      "   1  Imrho210     1.14314e-01   7.83085e-03   4.76633e-02   2.30669e-01\n",
      "   2  Imrho21m1    1.69108e-01   1.10766e-02   1.49490e-01   3.45020e-01\n",
      "   3  Rerho010    -9.59727e-02   3.34759e-03   4.28539e-02  -1.93144e-01\n",
      "   4  Rerho110     1.12367e-01   6.87129e-03   8.59778e-02   2.26671e-01\n",
      "   5  Yld_PhiSDME   3.33113e+03   2.94795e+01   1.50992e-03   4.61832e-06\n",
      "   6  rho000       3.27083e-01   6.96768e-03   1.13976e-01   7.13080e-01\n",
      "   7  rho01m1      7.82000e-02   5.48141e-03   6.66805e-02   1.57045e-01\n",
      "   8  rho100      -1.16301e-01   1.24663e-02   6.97448e-02  -2.34753e-01\n",
      "   9  rho111       5.64379e-02   8.59810e-03   4.79881e-02   1.13117e-01\n",
      "  10  rho11m1      1.88390e-01   1.06054e-02   1.41424e-01   3.86318e-01\n",
      "                               ERR DEF= 0.5\n",
      " EXTERNAL ERROR MATRIX.    NDIM=  25    NPAR= 10    ERR DEF=0.5\n",
      "  6.133e-05  1.524e-05 -7.297e-07 -3.144e-06  5.762e-12  2.418e-06  3.605e-06 -3.099e-06 -3.018e-06 -8.476e-06 \n",
      "  1.524e-05  1.227e-04 -1.110e-06 -1.292e-06  2.884e-12 -1.532e-05 -3.193e-06  4.970e-06 -6.292e-06  1.235e-06 \n",
      " -7.297e-07 -1.110e-06  1.121e-05 -1.971e-06  2.421e-13 -2.065e-06  4.634e-06  5.086e-06  4.769e-06 -1.511e-06 \n",
      " -3.144e-06 -1.292e-06 -1.971e-06  4.722e-05  1.570e-12  5.135e-06 -1.058e-05 -1.226e-05 -1.198e-05  7.425e-06 \n",
      "  5.762e-12  2.884e-12  2.421e-13  1.570e-12  8.691e+02 -3.144e-12 -4.539e-14  1.063e-11 -2.779e-12  4.849e-12 \n",
      "  2.418e-06 -1.532e-05 -2.065e-06  5.135e-06 -3.144e-12  4.855e-05 -5.610e-06 -2.986e-06 -9.583e-06 -1.722e-05 \n",
      "  3.605e-06 -3.193e-06  4.634e-06 -1.058e-05 -4.539e-14 -5.610e-06  3.005e-05 -5.909e-07  1.281e-05 -2.192e-06 \n",
      " -3.099e-06  4.970e-06  5.086e-06 -1.226e-05  1.063e-11 -2.986e-06 -5.909e-07  1.554e-04 -3.877e-05 -9.870e-09 \n",
      " -3.018e-06 -6.292e-06  4.769e-06 -1.198e-05 -2.779e-12 -9.583e-06  1.281e-05 -3.877e-05  7.393e-05  1.517e-05 \n",
      " -8.476e-06  1.235e-06 -1.511e-06  7.425e-06  4.849e-12 -1.722e-05 -2.192e-06 -9.870e-09  1.517e-05  1.125e-04 \n",
      " PARAMETER  CORRELATION COEFFICIENTS  \n",
      "       NO.  GLOBAL      1      2      3      4      5      6      7      8      9     10\n",
      "        1  0.24996   1.000  0.176 -0.028 -0.058  0.000  0.044  0.084 -0.032 -0.045 -0.102\n",
      "        2  0.29831   0.176  1.000 -0.030 -0.017  0.000 -0.198 -0.053  0.036 -0.066  0.011\n",
      "        3  0.33774  -0.028 -0.030  1.000 -0.086  0.000 -0.089  0.253  0.122  0.166 -0.043\n",
      "        4  0.40831  -0.058 -0.017 -0.086  1.000  0.000  0.107 -0.281 -0.143 -0.203  0.102\n",
      "        5  0.00000   0.000  0.000  0.000  0.000  1.000 -0.000 -0.000  0.000 -0.000  0.000\n",
      "        6  0.37867   0.044 -0.198 -0.089  0.107 -0.000  1.000 -0.147 -0.034 -0.160 -0.233\n",
      "        7  0.43359   0.084 -0.053  0.253 -0.281 -0.000 -0.147  1.000 -0.009  0.272 -0.038\n",
      "        8  0.47411  -0.032  0.036  0.122 -0.143  0.000 -0.034 -0.009  1.000 -0.362 -0.000\n",
      "        9  0.55767  -0.045 -0.066  0.166 -0.203 -0.000 -0.160  0.272 -0.362  1.000  0.166\n",
      "       10  0.34525  -0.102  0.011 -0.043  0.102  0.000 -0.233 -0.038 -0.000  0.166  1.000\n",
      "[#1] INFO:Minization -- RooMinimizer::optimizeConst: deactivating const optimization\n",
      "4 0x7f31ac9dc750 0x7f31d710cbe0\n",
      "Plotting MesonPhi\n",
      "[#1] INFO:Plotting -- RooAbsReal::plotOn(phiSDMETotalPDF0) plot on MesonPhi integrates over variables (HelCosTh,HelPhi,Pol,PolState)\n",
      "2 HSRooFit::PlotDataModel() chi2 = 1.27976\n",
      "[#1] INFO:Plotting -- RooAbsPdf::plotOn(phiSDMETotalPDF0) directly selected PDF components: (PhiSDME)\n",
      "[#1] INFO:Plotting -- RooAbsPdf::plotOn(phiSDMETotalPDF0) indirectly selected PDF components: ()\n",
      "[#1] INFO:Plotting -- RooAbsReal::plotOn(phiSDMETotalPDF0) plot on MesonPhi integrates over variables (HelCosTh,HelPhi,Pol,PolState)\n",
      "4 0x7f31b2d2ba90 0x7f31d62dadf0\n",
      "Plotting HelCosTh\n",
      "[#1] INFO:Plotting -- RooAbsReal::plotOn(phiSDMETotalPDF0) plot on HelCosTh integrates over variables (MesonPhi,HelPhi,Pol,PolState)\n",
      "2 HSRooFit::PlotDataModel() chi2 = 1.40142\n",
      "[#1] INFO:Plotting -- RooAbsPdf::plotOn(phiSDMETotalPDF0) directly selected PDF components: (PhiSDME)\n",
      "[#1] INFO:Plotting -- RooAbsPdf::plotOn(phiSDMETotalPDF0) indirectly selected PDF components: ()\n",
      "[#1] INFO:Plotting -- RooAbsReal::plotOn(phiSDMETotalPDF0) plot on HelCosTh integrates over variables (MesonPhi,HelPhi,Pol,PolState)\n",
      "4 0x7f31b2db75e0 0x7f31d6f52a60\n",
      "Plotting HelPhi\n",
      "[#1] INFO:Plotting -- RooAbsReal::plotOn(phiSDMETotalPDF0) plot on HelPhi integrates over variables (MesonPhi,HelCosTh,Pol,PolState)\n",
      "2 HSRooFit::PlotDataModel() chi2 = 0.977173\n",
      "[#1] INFO:Plotting -- RooAbsPdf::plotOn(phiSDMETotalPDF0) directly selected PDF components: (PhiSDME)\n",
      "[#1] INFO:Plotting -- RooAbsPdf::plotOn(phiSDMETotalPDF0) indirectly selected PDF components: ()\n",
      "[#1] INFO:Plotting -- RooAbsReal::plotOn(phiSDMETotalPDF0) plot on HelPhi integrates over variables (MesonPhi,HelCosTh,Pol,PolState)\n",
      "4 0x7f31b2d7ab00 0x7f31d6c6b010\n",
      "Plotting Pol\n",
      "[#1] INFO:Plotting -- RooAbsReal::plotOn(phiSDMETotalPDF0) plot on Pol integrates over variables (MesonPhi,HelCosTh,HelPhi,PolState)\n",
      "2 HSRooFit::PlotDataModel() chi2 = 4193.2\n",
      "[#1] INFO:Plotting -- RooAbsPdf::plotOn(phiSDMETotalPDF0) directly selected PDF components: (PhiSDME)\n",
      "[#1] INFO:Plotting -- RooAbsPdf::plotOn(phiSDMETotalPDF0) indirectly selected PDF components: ()\n",
      "[#1] INFO:Plotting -- RooAbsReal::plotOn(phiSDMETotalPDF0) plot on Pol integrates over variables (MesonPhi,HelCosTh,HelPhi,PolState)\n",
      "HSRooFit::SavePlots outSDME//ResultsphiSDME.root 0x7f31d6e94700 0x7f31bba96b20\n"
     ]
    },
    {
     "name": "stderr",
     "output_type": "stream",
     "text": [
      "Info in <HS::FIT::HSRooFit::HSRooFit::RunAFit>: Save to outSDME//ResultsphiSDME\n"
     ]
    }
   ],
   "source": [
    "RF->TotalPDF();\n",
    "RF->RunAFit(1);"
   ]
  },
  {
   "cell_type": "markdown",
   "metadata": {},
   "source": [
    "%jsroot"
   ]
  },
  {
   "cell_type": "code",
   "execution_count": 12,
   "metadata": {
    "scrolled": true
   },
   "outputs": [
    {
     "data": {
      "image/png": "[encoded data removed]",
      "text/plain": [
       "<IPython.core.display.Image object>"
      ]
     },
     "metadata": {},
     "output_type": "display_data"
    }
   ],
   "source": [
    " c1=((TCanvas*)RF->GetPlots()->At(0)->Clone());\n",
    "c1->Draw();"
   ]
  },
  {
   "cell_type": "code",
   "execution_count": 13,
   "metadata": {},
   "outputs": [
    {
     "data": {
      "image/png": "[encoded data removed]",
      "text/plain": [
       "<IPython.core.display.Image object>"
      ]
     },
     "metadata": {},
     "output_type": "display_data"
    }
   ],
   "source": [
    "((TCanvas*)RF->GetPlots()->At(1))->Draw()"
   ]
  },
  {
   "cell_type": "code",
   "execution_count": 14,
   "metadata": {},
   "outputs": [
    {
     "data": {
      "image/png": "[encoded data removed]",
      "text/plain": [
       "<IPython.core.display.Image object>"
      ]
     },
     "metadata": {},
     "output_type": "display_data"
    }
   ],
   "source": [
    "((TCanvas*)RF->GetPlots()->At(2))->Draw()"
   ]
  },
  {
   "cell_type": "code",
   "execution_count": 15,
   "metadata": {},
   "outputs": [
    {
     "data": {
      "image/png": "[encoded data removed]",
      "text/plain": [
       "<IPython.core.display.Image object>"
      ]
     },
     "metadata": {},
     "output_type": "display_data"
    }
   ],
   "source": [
    "((TCanvas*)RF->GetPlots()->At(3))->Draw()"
   ]
  }
 ],
 "metadata": {
  "kernelspec": {
   "display_name": "ROOT C++",
   "language": "c++",
   "name": "root"
  },
  "language_info": {
   "codemirror_mode": "text/x-c++src",
   "file_extension": ".C",
   "mimetype": " text/x-c++src",
   "name": "c++"
  }
 },
 "nbformat": 4,
 "nbformat_minor": 2
}
