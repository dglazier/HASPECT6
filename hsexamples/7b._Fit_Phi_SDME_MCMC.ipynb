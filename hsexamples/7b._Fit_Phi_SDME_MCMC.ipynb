{
 "cells": [
  {
   "cell_type": "code",
   "execution_count": 1,
   "metadata": {},
   "outputs": [
    {
     "name": "stdout",
     "output_type": "stream",
     "text": [
      "%%%%%%%%%%%%%%%%%%%%%%%%%    Weights\n",
      "%%%%%%%%%%%%%%%%%%%%%%%%%    Bins\n",
      "FFFFFFFFFFFFFFFFFFFFFFFFF RooHSEventsPDF\n",
      "\n",
      "\u001b[1mRooFit v3.60 -- Developed by Wouter Verkerke and David Kirkby\u001b[0m \n",
      "                Copyright (C) 2000-2013 NIKHEF, University of California & Stanford University\n",
      "                All rights reserved, please read http://roofit.sourceforge.net/license.txt\n",
      "\n",
      "FFFFFFFFFFFFFFFFFFFFFFFFF RooHSEventsHistPDF\n",
      "FFFFFFFFFFFFFFFFFFFFFFFFF HSMCMC\n",
      "FFFFFFFFFFFFFFFFFFFFFFFFF HSRooFit\n",
      "FFFFFFFFFFFFFFFFFFFFFFFFF HSsPlot\n"
     ]
    }
   ],
   "source": [
    "gROOT->ProcessLine(\".x $HSCODE/hsfit/LoadHSFit.C+\");"
   ]
  },
  {
   "cell_type": "code",
   "execution_count": 2,
   "metadata": {},
   "outputs": [
    {
     "name": "stdout",
     "output_type": "stream",
     "text": [
      "(VectorSDME) Name:  Title: \n"
     ]
    }
   ],
   "source": [
    "gROOT->ProcessLine(\".x VectorSDME.cxx+\");"
   ]
  },
  {
   "cell_type": "code",
   "execution_count": 3,
   "metadata": {},
   "outputs": [],
   "source": [
    "  HSRooFit* RF=new HSRooFit(\"phiSDME\");\n",
    "  RF->SetOutDir(\"out2SDMEMCMC/\");\n",
    " "
   ]
  },
  {
   "cell_type": "code",
   "execution_count": 4,
   "metadata": {},
   "outputs": [],
   "source": [
    " ///////////////////////////////Load Variables\n",
    "  RF->LoadVariable(\"MesonPhi[-3.1416,3.1416]\");//should be same name as variable in tree \n",
    "  RF->LoadVariable(\"HelCosTh[-1,1]\");//should be same name as variable in tree \n",
    "  RF->LoadVariable(\"HelPhi[-3.1416,3.1416]\");//should be same name as variable in tree \n",
    "  RF->LoadVariable(\"Pol[0,1]\");//should be same name as variable in tree  \n",
    "  RF->LoadAuxVars(\"MesonCosTh[-0.5,0.5]\");//Not to be fitted but limits applied to dataset\n",
    "  RF->LoadAuxVars(\"MesonMass[0.99,1.05]\");//Not to be fitted but limits applied to dataset\n",
    "  RF->LoadAuxVars(\"MLP[0.98,1]\");//Not to be fitted but limits applied to dataset\n",
    "  RF->LoadAuxVars(\"Topo[0.5,2.5]\");//Not to be fitted but limits applied to dataset\n",
    "  RF->LoadVariable(\"PolState[Polp=1,Polm=-1]\");//Load a category\n",
    "  //RF->AddCut(\"Topo==1&&MLP>0.98\");"
   ]
  },
  {
   "cell_type": "code",
   "execution_count": 5,
   "metadata": {},
   "outputs": [],
   "source": [
    " RF->Factory(\"VectorSDME::PhiSDME(HelCosTh,HelPhi,MesonPhi,Pol,PolState,rho000[0.3,-0.5,0.5],Rerho010[-0.1,-0.5,0.5],rho01m1[0.05,-0.5,0.5],rho111[0,-0.5,0.5],rho100[0,-0.5,0.5],Rerho110[0.02,-0.5,0.5],rho11m1[0.2,-0.5,0.5],Imrho210[-0.1,-0.5,0.5],Imrho21m1[0.2,-0.5,0.5])\");\n",
    " RooHSEventsPDF* pdf=dynamic_cast<RooHSEventsPDF*>(RF->GetWorkSpace()->pdf(\"PhiSDME\"));"
   ]
  },
  {
   "cell_type": "code",
   "execution_count": 6,
   "metadata": {},
   "outputs": [
    {
     "name": "stdout",
     "output_type": "stream",
     "text": [
      "0x7f06ef039f90\n"
     ]
    }
   ],
   "source": [
    "cout<<pdf<<endl;"
   ]
  },
  {
   "cell_type": "code",
   "execution_count": 7,
   "metadata": {},
   "outputs": [
    {
     "name": "stdout",
     "output_type": "stream",
     "text": [
      "HelCosTh\n",
      "0\n",
      "HelPhi\n",
      "0\n",
      "MesonPhi\n",
      "0\n",
      "Pol\n",
      "RooHSEventsPDF::SetEvTree Ammended cut MesonPhi>=-3.141600&&MesonPhi<=3.141600&&HelCosTh>=-1.000000&&HelCosTh<=1.000000&&HelPhi>=-3.141600&&HelPhi<=3.141600&MesonCosTh>=-0.500000&&MesonCosTh<=0.500000&&MesonMass>=0.990000&&MesonMass<=1.050000&&MLP>=0.980000&&MLP<=1.000000&&Topo>=0.500000&&Topo<=2.500000\n"
     ]
    },
    {
     "name": "stderr",
     "output_type": "stream",
     "text": [
      "Info in <VectorSDME::RooHSEventsPDF::SetEvTree>:  with name newtree and cut MesonPhi>=-3.141600&&MesonPhi<=3.141600&&HelCosTh>=-1.000000&&HelCosTh<=1.000000&&HelPhi>=-3.141600&&HelPhi<=3.141600&&Pol>=0.000000&&Pol<=1.000000&&MesonCosTh>=-0.500000&&MesonCosTh<=0.500000&&MesonMass>=0.990000&&MesonMass<=1.050000&&MLP>=0.980000&&MLP<=1.000000&&Topo>=0.500000&&Topo<=2.500000\n",
      "Warning in <VectorSDME::RooHSEventsPDF::SetEvTree>: Branch Pol not found\n",
      "Warning in <VectorSDME::RooHSEventsPDF::SetEvTree>: Branch PolState not found\n"
     ]
    },
    {
     "name": "stdout",
     "output_type": "stream",
     "text": [
      "tree entries 693835 4\n"
     ]
    }
   ],
   "source": [
    " auto sfile=new TFile(\"/work/g8dump/hsexamples/converttestmvamlpinc2_sim.root\");\n",
    " auto stree=(TTree*)sfile->Get(\"newtree\");\n",
    " //chainmc->SetEntries();\n",
    "  pdf->SetEvTree(stree,RF->GetCut());"
   ]
  },
  {
   "cell_type": "code",
   "execution_count": 8,
   "metadata": {},
   "outputs": [],
   "source": [
    " RF->LoadSpeciesPDF(\"PhiSDME\",1);"
   ]
  },
  {
   "cell_type": "code",
   "execution_count": 9,
   "metadata": {},
   "outputs": [
    {
     "name": "stdout",
     "output_type": "stream",
     "text": [
      "[#1] INFO:DataHandling -- RooAbsCategory::attachToTree(PolState) TTree branch PolState will be interpreted as category index\n",
      "[#1] INFO:Eval -- RooAbsReal::attachToTree(Topo) TTree Int_t branch Topo will be converted to double precision\n",
      "[#1] INFO:Eval -- RooTreeDataStore::loadValues(newtree) Ignored 55988 out of range events\n",
      "HSRooFit::LoadDataSet(TTree*) Print dataset for newtree\n",
      "RooDataSet::newtree[MesonPhi,HelCosTh,HelPhi,Pol,PolState,MesonCosTh,MesonMass,MLP,Topo,UID] = 17105 entries\n"
     ]
    }
   ],
   "source": [
    "auto dfile=new TFile(\"/work/g8dump/hsexamples/converttestmvamlpinc2b.root\");\n",
    "auto dtree=(TTree*)dfile->Get(\"newtree\");\n",
    "//dtree->SetEntries(1E7);\n",
    "RF->SetIDBranchName(\"UID\");\n",
    "RF->LoadDataSet(dtree);\n"
   ]
  },
  {
   "cell_type": "code",
   "execution_count": 10,
   "metadata": {},
   "outputs": [
    {
     "name": "stdout",
     "output_type": "stream",
     "text": [
      "void HSRooFit::LoadWeights out2/WeightsSF.root  HSsWeights\n",
      "TFile**\t\tout2/WeightsSF.root\t\n",
      " TFile*\t\tout2/WeightsSF.root\t\n",
      "  KEY: TTree\tHSsWeights_W;1\tTree weights for each species\n",
      "  KEY: TTree\tHSsWeights_ID;1\tevent ids for each entry\n",
      "  KEY: HS::Weights\tHSsWeights;1\tSF\n",
      "HSsWeights SF\n"
     ]
    },
    {
     "name": "stderr",
     "output_type": "stream",
     "text": [
      "Error in <TBranch::TBranch::WriteBasketImpl>: basket's WriteBuffer failed.\n",
      "\n",
      "Error in <TBranch::TBranch::Fill>: Failed to write out basket.\n",
      "\n",
      "Error in <TTree::Fill>: Failed filling branch:HSsWeights_W.Phi, nbytes=-1, entry=3990\n",
      " This error is symptomatic of a Tree created as a memory-resident Tree\n",
      " Instead of doing:\n",
      "    TTree *T = new TTree(...)\n",
      "    TFile *f = new TFile(...)\n",
      " you should do:\n",
      "    TFile *f = new TFile(...)\n",
      "    TTree *T = new TTree(...)\n",
      "\n",
      "\n",
      "Error in <TBranch::TBranch::WriteBasketImpl>: basket's WriteBuffer failed.\n",
      "\n",
      "Error in <TBranch::TBranch::Fill>: Failed to write out basket.\n",
      "\n",
      "Error in <TTree::Fill>: Failed filling branch:HSsWeights_W.BG, nbytes=-1, entry=3990\n",
      " This error is symptomatic of a Tree created as a memory-resident Tree\n",
      " Instead of doing:\n",
      "    TTree *T = new TTree(...)\n",
      "    TFile *f = new TFile(...)\n",
      " you should do:\n",
      "    TFile *f = new TFile(...)\n",
      "    TTree *T = new TTree(...)\n",
      "\n",
      "\n",
      "Error in <TBranch::TBranch::WriteBasketImpl>: basket's WriteBuffer failed.\n",
      "\n",
      "Error in <TBranch::TBranch::Fill>: Failed to write out basket.\n",
      "\n",
      "Error in <TTree::Fill>: Failed filling branch:HSsWeights_W.Phi, nbytes=-1, entry=7980\n",
      " This error is symptomatic of a Tree created as a memory-resident Tree\n",
      " Instead of doing:\n",
      "    TTree *T = new TTree(...)\n",
      "    TFile *f = new TFile(...)\n",
      " you should do:\n",
      "    TFile *f = new TFile(...)\n",
      "    TTree *T = new TTree(...)\n",
      "\n",
      "\n",
      "Error in <TBranch::TBranch::WriteBasketImpl>: basket's WriteBuffer failed.\n",
      "\n",
      "Error in <TBranch::TBranch::Fill>: Failed to write out basket.\n",
      "\n",
      "Error in <TTree::Fill>: Failed filling branch:HSsWeights_W.BG, nbytes=-1, entry=7980\n",
      " This error is symptomatic of a Tree created as a memory-resident Tree\n",
      " Instead of doing:\n",
      "    TTree *T = new TTree(...)\n",
      "    TFile *f = new TFile(...)\n",
      " you should do:\n",
      "    TFile *f = new TFile(...)\n",
      "    TTree *T = new TTree(...)\n",
      "\n",
      "\n",
      "Error in <TBranch::TBranch::WriteBasketImpl>: basket's WriteBuffer failed.\n",
      "\n",
      "Error in <TBranch::TBranch::Fill>: Failed to write out basket.\n",
      "\n",
      "Error in <TTree::Fill>: Failed filling branch:HSsWeights_W.Phi, nbytes=-1, entry=11970\n",
      " This error is symptomatic of a Tree created as a memory-resident Tree\n",
      " Instead of doing:\n",
      "    TTree *T = new TTree(...)\n",
      "    TFile *f = new TFile(...)\n",
      " you should do:\n",
      "    TFile *f = new TFile(...)\n",
      "    TTree *T = new TTree(...)\n",
      "\n",
      "\n",
      "Error in <TBranch::TBranch::WriteBasketImpl>: basket's WriteBuffer failed.\n",
      "\n",
      "Error in <TBranch::TBranch::Fill>: Failed to write out basket.\n",
      "\n",
      "Error in <TTree::Fill>: Failed filling branch:HSsWeights_W.BG, nbytes=-1, entry=11970\n",
      " This error is symptomatic of a Tree created as a memory-resident Tree\n",
      " Instead of doing:\n",
      "    TTree *T = new TTree(...)\n",
      "    TFile *f = new TFile(...)\n",
      " you should do:\n",
      "    TFile *f = new TFile(...)\n",
      "    TTree *T = new TTree(...)\n",
      "\n",
      "\n",
      "Error in <TBranch::TBranch::WriteBasketImpl>: basket's WriteBuffer failed.\n",
      "\n",
      "Error in <TBranch::TBranch::Fill>: Failed to write out basket.\n",
      "\n",
      "Error in <TTree::Fill>: Failed filling branch:HSsWeights_W.Phi, nbytes=-1, entry=15960\n",
      " This error is symptomatic of a Tree created as a memory-resident Tree\n",
      " Instead of doing:\n",
      "    TTree *T = new TTree(...)\n",
      "    TFile *f = new TFile(...)\n",
      " you should do:\n",
      "    TFile *f = new TFile(...)\n",
      "    TTree *T = new TTree(...)\n",
      "\n",
      "\n",
      "Error in <TBranch::TBranch::WriteBasketImpl>: basket's WriteBuffer failed.\n",
      "\n",
      "Error in <TBranch::TBranch::Fill>: Failed to write out basket.\n",
      "\n",
      "Error in <TTree::Fill>: Failed filling branch:HSsWeights_W.BG, nbytes=-1, entry=15960\n",
      " This error is symptomatic of a Tree created as a memory-resident Tree\n",
      " Instead of doing:\n",
      "    TTree *T = new TTree(...)\n",
      "    TFile *f = new TFile(...)\n",
      " you should do:\n",
      "    TFile *f = new TFile(...)\n",
      "    TTree *T = new TTree(...)\n",
      "\n",
      "\n"
     ]
    },
    {
     "name": "stdout",
     "output_type": "stream",
     "text": [
      "Weights HSsWeights contains 16314 events associated file is \n",
      "ID branch name : UID\n",
      "Species are : \n",
      "BG\n",
      "Phi\n",
      "The first ten entries are :\n",
      "271861 -0.299598 1.29956 \n",
      "275878 -0.586851 1.58681 \n",
      "277955 1.66024 -0.660263 \n",
      "285811 -0.505197 1.50516 \n",
      "291832 -0.594136 1.59409 \n",
      "299296 1.22637 -0.226392 \n",
      "300094 -0.576001 1.57596 \n",
      "301113 -0.632388 1.63235 \n",
      "305798 1.71078 -0.710797 \n",
      "309577 1.49803 -0.498051 \n",
      "RooArgList:: = (Phi)\n",
      "HSRooFit::SetDataWeight() Print data \n",
      "RooDataSet::newtree[MesonPhi,HelCosTh,HelPhi,Pol,PolState,MesonCosTh,MesonMass,MLP,Topo,UID] = 17105 entries\n",
      "Weights::BuildIndex 16314\n",
      "Done\n"
     ]
    },
    {
     "name": "stderr",
     "output_type": "stream",
     "text": [
      "Error in <TBranch::TBranch::WriteBasketImpl>: basket's WriteBuffer failed.\n",
      "\n",
      "Error in <TBranch::TBranch::Fill>: Failed to write out basket.\n",
      "\n",
      "Error in <TTree::Fill>: Failed filling branch:HSsWeights_ID.WID, nbytes=-1, entry=3990\n",
      " This error is symptomatic of a Tree created as a memory-resident Tree\n",
      " Instead of doing:\n",
      "    TTree *T = new TTree(...)\n",
      "    TFile *f = new TFile(...)\n",
      " you should do:\n",
      "    TFile *f = new TFile(...)\n",
      "    TTree *T = new TTree(...)\n",
      "\n",
      "\n",
      "Error in <TBranch::TBranch::WriteBasketImpl>: basket's WriteBuffer failed.\n",
      "\n",
      "Error in <TBranch::TBranch::Fill>: Failed to write out basket.\n",
      "\n",
      "Error in <TTree::Fill>: Failed filling branch:HSsWeights_ID.WID, nbytes=-1, entry=7980\n",
      " This error is symptomatic of a Tree created as a memory-resident Tree\n",
      " Instead of doing:\n",
      "    TTree *T = new TTree(...)\n",
      "    TFile *f = new TFile(...)\n",
      " you should do:\n",
      "    TFile *f = new TFile(...)\n",
      "    TTree *T = new TTree(...)\n",
      "\n",
      "\n",
      "Error in <TBranch::TBranch::WriteBasketImpl>: basket's WriteBuffer failed.\n",
      "\n",
      "Error in <TBranch::TBranch::Fill>: Failed to write out basket.\n",
      "\n",
      "Error in <TTree::Fill>: Failed filling branch:HSsWeights_ID.WID, nbytes=-1, entry=11970\n",
      " This error is symptomatic of a Tree created as a memory-resident Tree\n",
      " Instead of doing:\n",
      "    TTree *T = new TTree(...)\n",
      "    TFile *f = new TFile(...)\n",
      " you should do:\n",
      "    TFile *f = new TFile(...)\n",
      "    TTree *T = new TTree(...)\n",
      "\n",
      "\n",
      "Error in <TBranch::TBranch::WriteBasketImpl>: basket's WriteBuffer failed.\n",
      "\n",
      "Error in <TBranch::TBranch::Fill>: Failed to write out basket.\n",
      "\n",
      "Error in <TTree::Fill>: Failed filling branch:HSsWeights_ID.WID, nbytes=-1, entry=15960\n",
      " This error is symptomatic of a Tree created as a memory-resident Tree\n",
      " Instead of doing:\n",
      "    TTree *T = new TTree(...)\n",
      "    TFile *f = new TFile(...)\n",
      " you should do:\n",
      "    TFile *f = new TFile(...)\n",
      "    TTree *T = new TTree(...)\n",
      "\n",
      "\n",
      "Warning in <TTreeFormula::DefinedVariable>: Casting to primary types like \"Long64_t\" is not supported yet\n"
     ]
    },
    {
     "name": "stdout",
     "output_type": "stream",
     "text": [
      "RooDataSet::weights[Phi] = 17105 entries\n",
      "RooDataSet::newtree[MesonPhi,HelCosTh,HelPhi,Pol,PolState,MesonCosTh,MesonMass,MLP,Topo,UID,Phi] = 17105 entries\n",
      "RooDataSet::Weight_Phinewtree[MesonPhi,HelCosTh,HelPhi,Pol,PolState,MesonCosTh,MesonMass,MLP,Topo,UID,weight:Phi] = 16314 entries (3331.11 weighted)\n"
     ]
    }
   ],
   "source": [
    "RF->LoadWeights(\"out2/WeightsSF.root \",\"HSsWeights\");\n",
    "RF->SetWeightName(\"Phi\"); //Same as Signal species in FitHSSimpleBins\n",
    "RF->SetDataWeight();\n",
    "//RF->GetDataSet()->Print();"
   ]
  },
  {
   "cell_type": "code",
   "execution_count": 11,
   "metadata": {},
   "outputs": [
    {
     "name": "stdout",
     "output_type": "stream",
     "text": [
      "RooHSEventsPDF::AddProtoData 0x7f06c486c3b4 0x7f06ef3dbbc0\n",
      "RooArgSet::VarSet_0 = (HelCosTh,HelPhi,MesonPhi,Pol,PolState)\n",
      "RooArgSet:: = (MesonPhi,HelCosTh,HelPhi,Pol,PolState,MesonCosTh,MesonMass,MLP,Topo,UID)\n",
      "16314\n",
      "Add branches 0x7f06ef3dbbc0\n"
     ]
    },
    {
     "name": "stderr",
     "output_type": "stream",
     "text": [
      "Info in <VectorSDME::RooHSEventsPDF::AddProtoData>: Added data branch Pol\n",
      "Info in <VectorSDME::RooHSEventsPDF::AddProtoData>: Added data branch PolState\n",
      "Info in <VectorSDME::RooHSEventsPDF::AddProtoData>: Added data branch UID\n"
     ]
    }
   ],
   "source": [
    "pdf->AddProtoData(RF->GetDataSet());"
   ]
  },
  {
   "cell_type": "code",
   "execution_count": 12,
   "metadata": {},
   "outputs": [],
   "source": [
    "%jsroot on"
   ]
  },
  {
   "cell_type": "code",
   "execution_count": 13,
   "metadata": {
    "scrolled": false
   },
   "outputs": [
    {
     "name": "stdout",
     "output_type": "stream",
     "text": [
      "HSRooFit::TotalPDF() 0x7f06ee4cc6d0 0\n",
      "RooAddPdf::phiSDMETotalPDF[ Yld_PhiSDME * PhiSDME ] = 0.942478\n",
      "HSRooFit::TotalPDF() phiSDMETotalPDF0\n",
      "[#1] INFO:ObjectHandling -- RooWorkspace::import(wHS) importing RooAddPdf::phiSDMETotalPDF0\n",
      "[#1] INFO:ObjectHandling -- RooWorkspace::import(wHS) using existing copy of VectorSDME::PhiSDME for import of RooAddPdf::phiSDMETotalPDF0\n",
      "[#1] INFO:ObjectHandling -- RooWorkspace::import(wHS) using existing copy of RooRealVar::HelCosTh for import of RooAddPdf::phiSDMETotalPDF0\n",
      "[#1] INFO:ObjectHandling -- RooWorkspace::import(wHS) using existing copy of RooRealVar::HelPhi for import of RooAddPdf::phiSDMETotalPDF0\n",
      "[#1] INFO:ObjectHandling -- RooWorkspace::import(wHS) using existing copy of RooRealVar::MesonPhi for import of RooAddPdf::phiSDMETotalPDF0\n",
      "[#1] INFO:ObjectHandling -- RooWorkspace::import(wHS) using existing copy of RooRealVar::Pol for import of RooAddPdf::phiSDMETotalPDF0\n",
      "[#1] INFO:ObjectHandling -- RooWorkspace::import(wHS) using existing copy of RooCategory::PolState for import of RooAddPdf::phiSDMETotalPDF0\n",
      "[#1] INFO:ObjectHandling -- RooWorkspace::import(wHS) using existing copy of RooRealVar::rho000 for import of RooAddPdf::phiSDMETotalPDF0\n",
      "[#1] INFO:ObjectHandling -- RooWorkspace::import(wHS) using existing copy of RooRealVar::Rerho010 for import of RooAddPdf::phiSDMETotalPDF0\n",
      "[#1] INFO:ObjectHandling -- RooWorkspace::import(wHS) using existing copy of RooRealVar::rho01m1 for import of RooAddPdf::phiSDMETotalPDF0\n",
      "[#1] INFO:ObjectHandling -- RooWorkspace::import(wHS) using existing copy of RooRealVar::rho111 for import of RooAddPdf::phiSDMETotalPDF0\n",
      "[#1] INFO:ObjectHandling -- RooWorkspace::import(wHS) using existing copy of RooRealVar::rho100 for import of RooAddPdf::phiSDMETotalPDF0\n",
      "[#1] INFO:ObjectHandling -- RooWorkspace::import(wHS) using existing copy of RooRealVar::Rerho110 for import of RooAddPdf::phiSDMETotalPDF0\n",
      "[#1] INFO:ObjectHandling -- RooWorkspace::import(wHS) using existing copy of RooRealVar::rho11m1 for import of RooAddPdf::phiSDMETotalPDF0\n",
      "[#1] INFO:ObjectHandling -- RooWorkspace::import(wHS) using existing copy of RooRealVar::Imrho210 for import of RooAddPdf::phiSDMETotalPDF0\n",
      "[#1] INFO:ObjectHandling -- RooWorkspace::import(wHS) using existing copy of RooRealVar::Imrho21m1 for import of RooAddPdf::phiSDMETotalPDF0\n",
      "[#1] INFO:ObjectHandling -- RooWorkspace::import(wHS) using existing copy of RooRealVar::Yld_PhiSDME for import of RooAddPdf::phiSDMETotalPDF0\n",
      "RooAddPdf::phiSDMETotalPDF0[ Yld_PhiSDME * PhiSDME ] = 0.942478\n",
      "\n",
      "RooWorkspace(wHS) wHS contents\n",
      "\n",
      "variables\n",
      "---------\n",
      "(HelCosTh,HelPhi,Imrho210,Imrho21m1,MLP,MesonCosTh,MesonMass,MesonPhi,Pol,PolState,Rerho010,Rerho110,Topo,UID,Yld_PhiSDME,rho000,rho01m1,rho100,rho111,rho11m1)\n",
      "\n",
      "p.d.f.s\n",
      "-------\n",
      "VectorSDME::PhiSDME[ HelCosTh=HelCosTh HelPhi=HelPhi MesonPhi=MesonPhi Pol=Pol PolState=PolState rho000=rho000 Rerho010=Rerho010 rho01m1=rho01m1 rho111=rho111 rho100=rho100 Rerho110=Rerho110 rho11m1=rho11m1 Imrho210=Imrho210 Imrho21m1=Imrho21m1 ] = 0.942478\n",
      "RooAddPdf::phiSDMETotalPDF0[ Yld_PhiSDME * PhiSDME ] = 0.942478\n",
      "\n",
      "named sets\n",
      "----------\n",
      "ID:(UID)\n",
      "\n",
      "RooAddPdf::phiSDMETotalPDF0[ Yld_PhiSDME * PhiSDME ] = 0.942478\n",
      "RooArgList:: = ()\n",
      "0x7f06cadbcaa0 : OBJ: RooCmdArg\tExtended\tExtended\n",
      "0x7f06ef994ff0 : OBJ: RooCmdArg\tNumCPU\tNumCPU\n",
      "0x7f06cade0a50 : OBJ: RooCmdArg\tSave\tSave\n",
      "0x7f06ef9ad200 : OBJ: RooCmdArg\tWarnings\tWarnings\n",
      "ModelConfig*  HSRooFit::GetModelConfig()\n",
      "HSMCMC::MakeChain()\n",
      "[#1] INFO:Minization -- p.d.f. provides expected number of events, including extended term in likelihood.\n"
     ]
    },
    {
     "name": "stderr",
     "output_type": "stream",
     "text": [
      "Info in <HS::FIT::HSRooFit::HSRooFit::Fit()>:  Starting\n"
     ]
    },
    {
     "name": "stdout",
     "output_type": "stream",
     "text": [
      "[#1] INFO:Minization -- createNLL: caching constraint set under name CONSTR_OF_PDF_phiSDMETotalPDF0_FOR_OBS_HelCosTh:HelPhi:MLP:MesonCosTh:MesonMass:MesonPhi:Pol:PolState:Topo:UID with 0 entries\n",
      "Construct\n",
      "Metropolis-Hastings progress: ....................................................................................................\n",
      "[#1] INFO:Eval -- Proposal acceptance rate: 2.337%\n",
      "[#1] INFO:Eval -- Number of steps in chain: 2337\n",
      "DONE \n",
      "Tree\n",
      "RooFitResult* HSMCMC::Save()\n",
      "HSMCMC::Save() \n",
      "Imrho210 0.0802761 +- 0.0210213\n",
      "Imrho21m1 0.275232 +- 0.0372326\n",
      "Rerho010 -0.103386 +- 0.00384279\n",
      "Rerho110 0.153701 +- 0.0135881\n",
      "Yld_PhiSDME 3340.43 +- 124.007\n",
      "rho000 0.38135 +- 0.0103139\n",
      "rho01m1 0.085877 +- 0.00646905\n",
      "rho100 -0.0783829 +- 0.0417972\n",
      "rho111 -0.0640918 +- 0.0385659\n",
      "rho11m1 0.258129 +- 0.0249307\n",
      "\n",
      "11x11 matrix is as follows\n",
      "\n",
      "     |       0    |       1    |       2    |       3    |       4    |\n",
      "----------------------------------------------------------------------\n",
      "   0 |  0.0004419    -0.00033   2.363e-05  -0.0001135    -0.03921 \n",
      "   1 |   -0.00033    0.001386   -9.55e-05   0.0004178      0.1563 \n",
      "   2 |  2.363e-05   -9.55e-05   1.477e-05  -3.743e-05    -0.05055 \n",
      "   3 | -0.0001135   0.0004178  -3.743e-05   0.0001846      0.1706 \n",
      "   4 |   -0.03921      0.1563    -0.05055      0.1706   1.538e+04 \n",
      "   5 | -6.173e-05   0.0002293  -2.188e-05   9.001e-05     0.02344 \n",
      "   6 | -7.473e-06   1.923e-05   1.678e-06   1.161e-06    -0.05971 \n",
      "   7 | -0.0002773   0.0006911  -6.028e-05   0.0002758       0.478 \n",
      "   8 |   0.000336   -0.001297   9.875e-05  -0.0004489     -0.3144 \n",
      "   9 | -0.0002039   0.0007505  -6.031e-05   0.0002759      0.1783 \n",
      "  10 |     0.0587     -0.2527     0.02081    -0.08763      -45.44 \n",
      "\n",
      "\n",
      "     |       5    |       6    |       7    |       8    |       9    |\n",
      "----------------------------------------------------------------------\n",
      "   0 | -6.173e-05  -7.473e-06  -0.0002773    0.000336  -0.0002039 \n",
      "   1 |  0.0002293   1.923e-05   0.0006911   -0.001297   0.0007505 \n",
      "   2 | -2.188e-05   1.678e-06  -6.028e-05   9.875e-05  -6.031e-05 \n",
      "   3 |  9.001e-05   1.161e-06   0.0002758  -0.0004489   0.0002759 \n",
      "   4 |    0.02344    -0.05971       0.478     -0.3144      0.1783 \n",
      "   5 |  0.0001064   6.382e-06   0.0001439  -0.0002757   0.0001522 \n",
      "   6 |  6.382e-06   4.185e-05   1.414e-05  -1.152e-05   4.385e-06 \n",
      "   7 |  0.0001439   1.414e-05    0.001747  -0.0007945   0.0004021 \n",
      "   8 | -0.0002757  -1.152e-05  -0.0007945    0.001487  -0.0007951 \n",
      "   9 |  0.0001522   4.385e-06   0.0004021  -0.0007951   0.0006215 \n",
      "  10 |   -0.05349   -0.007301     -0.2003      0.2728     -0.1543 \n",
      "\n",
      "\n",
      "     |      10    |\n",
      "----------------------------------------------------------------------\n",
      "   0 |     0.0587 \n",
      "   1 |    -0.2527 \n",
      "   2 |    0.02081 \n",
      "   3 |   -0.08763 \n",
      "   4 |     -45.44 \n",
      "   5 |   -0.05349 \n",
      "   6 |  -0.007301 \n",
      "   7 |    -0.2003 \n",
      "   8 |     0.2728 \n",
      "   9 |    -0.1543 \n",
      "  10 |      65.46 \n",
      "\n",
      "4 0x7f06d3a39510 0x7f06eec9d330\n",
      "Plotting MesonPhi\n",
      "[#1] INFO:Plotting -- RooAbsReal::plotOn(phiSDMETotalPDF0) plot on MesonPhi integrates over variables (HelCosTh,HelPhi,Pol,PolState)\n",
      "1 HSRooFit::PlotDataModel() chi2 = 1.53887\n",
      "[#1] INFO:Plotting -- RooAbsPdf::plotOn(phiSDMETotalPDF0) directly selected PDF components: (PhiSDME)\n",
      "[#1] INFO:Plotting -- RooAbsPdf::plotOn(phiSDMETotalPDF0) indirectly selected PDF components: ()\n",
      "[#1] INFO:Plotting -- RooAbsReal::plotOn(phiSDMETotalPDF0) plot on MesonPhi integrates over variables (HelCosTh,HelPhi,Pol,PolState)\n",
      "4 0x7f06d3a399c0 0x7f06eee0d4a0\n",
      "Plotting HelCosTh\n",
      "[#1] INFO:Plotting -- RooAbsReal::plotOn(phiSDMETotalPDF0) plot on HelCosTh integrates over variables (MesonPhi,HelPhi,Pol,PolState)\n",
      "1 HSRooFit::PlotDataModel() chi2 = 1.45795\n",
      "[#1] INFO:Plotting -- RooAbsPdf::plotOn(phiSDMETotalPDF0) directly selected PDF components: (PhiSDME)\n",
      "[#1] INFO:Plotting -- RooAbsPdf::plotOn(phiSDMETotalPDF0) indirectly selected PDF components: ()\n",
      "[#1] INFO:Plotting -- RooAbsReal::plotOn(phiSDMETotalPDF0) plot on HelCosTh integrates over variables (MesonPhi,HelPhi,Pol,PolState)\n",
      "4 0x7f06d3a39f60 0x7f06eef095c0\n",
      "Plotting HelPhi\n",
      "[#1] INFO:Plotting -- RooAbsReal::plotOn(phiSDMETotalPDF0) plot on HelPhi integrates over variables (MesonPhi,HelCosTh,Pol,PolState)\n",
      "1 HSRooFit::PlotDataModel() chi2 = 1.01814\n",
      "[#1] INFO:Plotting -- RooAbsPdf::plotOn(phiSDMETotalPDF0) directly selected PDF components: (PhiSDME)\n",
      "[#1] INFO:Plotting -- RooAbsPdf::plotOn(phiSDMETotalPDF0) indirectly selected PDF components: ()\n",
      "[#1] INFO:Plotting -- RooAbsReal::plotOn(phiSDMETotalPDF0) plot on HelPhi integrates over variables (MesonPhi,HelCosTh,Pol,PolState)\n",
      "4 0x7f06d3afc050 0x7f06ee229f70\n",
      "Plotting Pol\n",
      "[#1] INFO:Plotting -- RooAbsReal::plotOn(phiSDMETotalPDF0) plot on Pol integrates over variables (MesonPhi,HelCosTh,HelPhi,PolState)\n",
      "1 HSRooFit::PlotDataModel() chi2 = 4214.44\n",
      "[#1] INFO:Plotting -- RooAbsPdf::plotOn(phiSDMETotalPDF0) directly selected PDF components: (PhiSDME)\n",
      "[#1] INFO:Plotting -- RooAbsPdf::plotOn(phiSDMETotalPDF0) indirectly selected PDF components: ()\n",
      "[#1] INFO:Plotting -- RooAbsReal::plotOn(phiSDMETotalPDF0) plot on Pol integrates over variables (MesonPhi,HelCosTh,HelPhi,PolState)\n",
      "RooAddPdf::phiSDMETotalPDF0[ Yld_PhiSDME * PhiSDME ] = 0.906094\n",
      "0x7f06cadbcaa0 : OBJ: RooCmdArg\tExtended\tExtended\n",
      "0x7f06ef994ff0 : OBJ: RooCmdArg\tNumCPU\tNumCPU\n",
      "0x7f06cade0a50 : OBJ: RooCmdArg\tSave\tSave\n",
      "0x7f06ef9ad200 : OBJ: RooCmdArg\tWarnings\tWarnings\n",
      "0x7f06d3b56470 : OBJ: RooCmdArg\tSumW2Error\tSumW2Error\n",
      "ModelConfig*  HSRooFit::GetModelConfig()\n",
      "HSMCMC::MakeChain()\n",
      "[#1] INFO:Minization -- p.d.f. provides expected number of events, including extended term in likelihood.\n"
     ]
    },
    {
     "name": "stderr",
     "output_type": "stream",
     "text": [
      "Info in <HS::FIT::HSRooFit::HSRooFit::Fit()>:  Starting\n"
     ]
    },
    {
     "name": "stdout",
     "output_type": "stream",
     "text": [
      "[#1] INFO:Minization -- createNLL picked up cached consraints from workspace with 0 entries\n",
      "Construct\n",
      "Metropolis-Hastings progress: ....................................................................................................\n",
      "[#1] INFO:Eval -- Proposal acceptance rate: 1.087%\n",
      "[#1] INFO:Eval -- Number of steps in chain: 1087\n",
      "DONE \n",
      "Tree\n",
      "RooFitResult* HSMCMC::Save()\n",
      "HSMCMC::Save() \n",
      "Imrho210 0.0974971 +- 0.01877\n",
      "Imrho21m1 0.384223 +- 0.00407396\n",
      "Rerho010 -0.0736881 +- 0.000154975\n",
      "Rerho110 0.128969 +- 0.000352142\n",
      "Yld_PhiSDME 3324.59 +- 114.003\n",
      "rho000 0.413483 +- 0.000294521\n",
      "rho01m1 0.104811 +- 1.28592e-05\n",
      "rho100 -0.153765 +- 0.0227952\n",
      "rho111 0.0696373 +- 0.00019007\n",
      "rho11m1 0.343566 +- 0.000173378\n",
      "\n",
      "11x11 matrix is as follows\n",
      "\n",
      "     |       0    |       1    |       2    |       3    |       4    |\n",
      "----------------------------------------------------------------------\n",
      "   0 |  0.0003523   6.952e-05   1.619e-06   1.043e-07     -0.1857 \n",
      "   1 |  6.952e-05    1.66e-05   2.985e-07  -3.005e-08    -0.02888 \n",
      "   2 |  1.619e-06   2.985e-07   2.402e-08  -1.675e-08  -0.0006528 \n",
      "   3 |  1.043e-07  -3.005e-08  -1.675e-08    1.24e-07   -0.004633 \n",
      "   4 |    -0.1857    -0.02888  -0.0006528   -0.004633     1.3e+04 \n",
      "   5 | -3.699e-06  -6.104e-07  -1.384e-08   7.475e-09    0.003621 \n",
      "   6 |  1.342e-07   3.233e-08  -4.206e-10   1.612e-09  -8.909e-05 \n",
      "   7 |  0.0002034   4.568e-05  -8.582e-09   4.547e-07   -0.001987 \n",
      "   8 | -1.287e-06  -2.126e-07  -5.561e-09   8.436e-09    0.001766 \n",
      "   9 |  2.712e-06     6.1e-07   2.968e-09   1.653e-08   -0.001947 \n",
      "  10 |    0.02626    0.006333   0.0002086    0.000246      -11.33 \n",
      "\n",
      "\n",
      "     |       5    |       6    |       7    |       8    |       9    |\n",
      "----------------------------------------------------------------------\n",
      "   0 | -3.699e-06   1.342e-07   0.0002034  -1.287e-06   2.712e-06 \n",
      "   1 | -6.104e-07   3.233e-08   4.568e-05  -2.126e-07     6.1e-07 \n",
      "   2 | -1.384e-08  -4.206e-10  -8.582e-09  -5.561e-09   2.968e-09 \n",
      "   3 |  7.475e-09   1.612e-09   4.547e-07   8.436e-09   1.653e-08 \n",
      "   4 |   0.003621  -8.909e-05   -0.001987    0.001766   -0.001947 \n",
      "   5 |  8.674e-08  -1.184e-09  -1.579e-06   4.005e-08  -2.936e-08 \n",
      "   6 | -1.184e-09   1.654e-10   1.619e-07  -3.614e-10   1.885e-09 \n",
      "   7 | -1.579e-06   1.619e-07   0.0005196   1.121e-07   2.095e-06 \n",
      "   8 |  4.005e-08  -3.614e-10   1.121e-07   3.613e-08  -1.093e-08 \n",
      "   9 | -2.936e-08   1.885e-09   2.095e-06  -1.093e-08   3.006e-08 \n",
      "  10 |  4.271e-05   1.101e-05    0.006606  -5.029e-05   0.0002167 \n",
      "\n",
      "\n",
      "     |      10    |\n",
      "----------------------------------------------------------------------\n",
      "   0 |    0.02626 \n",
      "   1 |   0.006333 \n",
      "   2 |  0.0002086 \n",
      "   3 |   0.000246 \n",
      "   4 |     -11.33 \n",
      "   5 |  4.271e-05 \n",
      "   6 |  1.101e-05 \n",
      "   7 |   0.006606 \n",
      "   8 | -5.029e-05 \n",
      "   9 |  0.0002167 \n",
      "  10 |      8.576 \n",
      "\n",
      "4 0x7f06d3a39510 0x7f06eec9d330\n",
      "Plotting MesonPhi\n",
      "[#1] INFO:Plotting -- RooAbsReal::plotOn(phiSDMETotalPDF0) plot on MesonPhi integrates over variables (HelCosTh,HelPhi,Pol,PolState)\n",
      "2 HSRooFit::PlotDataModel() chi2 = 1.48525\n",
      "[#1] INFO:Plotting -- RooAbsPdf::plotOn(phiSDMETotalPDF0) directly selected PDF components: (PhiSDME)\n",
      "[#1] INFO:Plotting -- RooAbsPdf::plotOn(phiSDMETotalPDF0) indirectly selected PDF components: ()\n",
      "[#1] INFO:Plotting -- RooAbsReal::plotOn(phiSDMETotalPDF0) plot on MesonPhi integrates over variables (HelCosTh,HelPhi,Pol,PolState)\n",
      "4 0x7f06d3a399c0 0x7f06eee0d4a0\n",
      "Plotting HelCosTh\n",
      "[#1] INFO:Plotting -- RooAbsReal::plotOn(phiSDMETotalPDF0) plot on HelCosTh integrates over variables (MesonPhi,HelPhi,Pol,PolState)\n",
      "2 HSRooFit::PlotDataModel() chi2 = 1.51814\n",
      "[#1] INFO:Plotting -- RooAbsPdf::plotOn(phiSDMETotalPDF0) directly selected PDF components: (PhiSDME)\n",
      "[#1] INFO:Plotting -- RooAbsPdf::plotOn(phiSDMETotalPDF0) indirectly selected PDF components: ()\n",
      "[#1] INFO:Plotting -- RooAbsReal::plotOn(phiSDMETotalPDF0) plot on HelCosTh integrates over variables (MesonPhi,HelPhi,Pol,PolState)\n",
      "4 0x7f06d3a39f60 0x7f06eef095c0\n",
      "Plotting HelPhi\n",
      "[#1] INFO:Plotting -- RooAbsReal::plotOn(phiSDMETotalPDF0) plot on HelPhi integrates over variables (MesonPhi,HelCosTh,Pol,PolState)\n",
      "2 HSRooFit::PlotDataModel() chi2 = 1.01746\n",
      "[#1] INFO:Plotting -- RooAbsPdf::plotOn(phiSDMETotalPDF0) directly selected PDF components: (PhiSDME)\n",
      "[#1] INFO:Plotting -- RooAbsPdf::plotOn(phiSDMETotalPDF0) indirectly selected PDF components: ()\n",
      "[#1] INFO:Plotting -- RooAbsReal::plotOn(phiSDMETotalPDF0) plot on HelPhi integrates over variables (MesonPhi,HelCosTh,Pol,PolState)\n",
      "4 0x7f06d3afc050 0x7f06ee229f70\n",
      "Plotting Pol\n",
      "[#1] INFO:Plotting -- RooAbsReal::plotOn(phiSDMETotalPDF0) plot on Pol integrates over variables (MesonPhi,HelCosTh,HelPhi,PolState)\n",
      "2 HSRooFit::PlotDataModel() chi2 = 4213.28\n",
      "[#1] INFO:Plotting -- RooAbsPdf::plotOn(phiSDMETotalPDF0) directly selected PDF components: (PhiSDME)\n",
      "[#1] INFO:Plotting -- RooAbsPdf::plotOn(phiSDMETotalPDF0) indirectly selected PDF components: ()\n",
      "[#1] INFO:Plotting -- RooAbsReal::plotOn(phiSDMETotalPDF0) plot on Pol integrates over variables (MesonPhi,HelCosTh,HelPhi,PolState)\n",
      "HSRooFit::SavePlots out2SDMEMCMC//ResultsphiSDME.root 0x7f06eefe90a0 0x7f06ee3047d0\n"
     ]
    },
    {
     "name": "stderr",
     "output_type": "stream",
     "text": [
      "Info in <HS::FIT::HSRooFit::HSRooFit::RunAFit>: Save to out2SDMEMCMC//ResultsphiSDME\n",
      "Error in <TBranch::TBranch::WriteBasketImpl>: basket's WriteBuffer failed.\n",
      "\n",
      "Error in <TBranch::TBranch::WriteBasketImpl>: basket's WriteBuffer failed.\n",
      "\n",
      "Error in <TBranch::TBranch::WriteBasketImpl>: basket's WriteBuffer failed.\n",
      "\n",
      "Error in <TBranch::TBranch::WriteBasketImpl>: basket's WriteBuffer failed.\n",
      "\n",
      "Error in <TBranch::TBranch::WriteBasketImpl>: basket's WriteBuffer failed.\n",
      "\n",
      "Error in <TBranch::TBranch::WriteBasketImpl>: basket's WriteBuffer failed.\n",
      "\n",
      "Error in <TBranch::TBranch::WriteBasketImpl>: basket's WriteBuffer failed.\n",
      "\n",
      "Error in <TBranch::TBranch::WriteBasketImpl>: basket's WriteBuffer failed.\n",
      "\n",
      "Error in <TBranch::TBranch::WriteBasketImpl>: basket's WriteBuffer failed.\n",
      "\n",
      "Error in <TBranch::TBranch::WriteBasketImpl>: basket's WriteBuffer failed.\n",
      "\n",
      "Error in <TBranch::TBranch::WriteBasketImpl>: basket's WriteBuffer failed.\n",
      "\n",
      "Error in <TBranch::TBranch::WriteBasketImpl>: basket's WriteBuffer failed.\n",
      "\n",
      "Error in <TBranch::TBranch::WriteBasketImpl>: basket's WriteBuffer failed.\n",
      "\n",
      "Error in <TBranch::TBranch::WriteBasketImpl>: basket's WriteBuffer failed.\n",
      "\n",
      "Error in <TBranch::TBranch::WriteBasketImpl>: basket's WriteBuffer failed.\n",
      "\n",
      "Error in <TBranch::TBranch::WriteBasketImpl>: basket's WriteBuffer failed.\n",
      "\n",
      "Error in <TBranch::TBranch::WriteBasketImpl>: basket's WriteBuffer failed.\n",
      "\n",
      "Error in <TBranch::TBranch::WriteBasketImpl>: basket's WriteBuffer failed.\n",
      "\n",
      "Error in <TBranch::TBranch::WriteBasketImpl>: basket's WriteBuffer failed.\n",
      "\n",
      "Error in <TBranch::TBranch::WriteBasketImpl>: basket's WriteBuffer failed.\n",
      "\n",
      "Error in <TBranch::TBranch::WriteBasketImpl>: basket's WriteBuffer failed.\n",
      "\n"
     ]
    }
   ],
   "source": [
    "RF->TotalPDF();\n",
    "RF->SetFitMethod(2);\n",
    "RF->SetNMCMC(100000,500);\n",
    "RF->RunAFit(1);"
   ]
  },
  {
   "cell_type": "code",
   "execution_count": 14,
   "metadata": {},
   "outputs": [
    {
     "data": {
      "text/html": [
       "\n",
       "<div id=\"root_plot_1\"\n",
       "     style=\"width: 696px; height: 472px\">\n",
       "</div>\n",
       "\n",
       "<script>\n",
       " requirejs.config({\n",
       "     paths: {\n",
       "       'JSRootCore' : 'https://root.cern.ch/js/notebook//scripts/JSRootCore',\n",
       "     }\n",
       "   });\n",
       " require(['JSRootCore'],\n",
       "     function(Core) {\n",
       "       var obj = Core.JSONR_unref({\"_typename\":\"TCanvas\",\"fUniqueID\":0,\"fBits\":53673992,\"fLineColor\":1,\"fLineStyle\":1,\"fLineWidth\":1,\"fFillColor\":0,\"fFillStyle\":1001,\"fLeftMargin\":0.1,\"fRightMargin\":0.1,\"fBottomMargin\":0.1,\"fTopMargin\":0.1,\"fXfile\":2,\"fYfile\":2,\"fAfile\":1,\"fXstat\":0.99,\"fYstat\":0.99,\"fAstat\":2,\"fFrameFillColor\":0,\"fFrameLineColor\":1,\"fFrameFillStyle\":1001,\"fFrameLineStyle\":1,\"fFrameLineWidth\":1,\"fFrameBorderSize\":1,\"fFrameBorderMode\":0,\"fX1\":-3.92700005851686,\"fY1\":-22.0847559921839,\"fX2\":3.92700005851686,\"fY2\":106.195120968338,\"fXtoAbsPixelk\":348.00005,\"fXtoPixelk\":348.00005,\"fXtoPixel\":88.6172637673531,\"fYtoAbsPixelk\":390.740190111619,\"fYtoPixelk\":390.740190111619,\"fYtoPixel\":-3.67945472963976,\"fUtoAbsPixelk\":5e-5,\"fUtoPixelk\":5e-5,\"fUtoPixel\":696,\"fVtoAbsPixelk\":472.00005,\"fVtoPixelk\":472,\"fVtoPixel\":-472,\"fAbsPixeltoXk\":-3.92700005851686,\"fPixeltoXk\":-3.92700005851686,\"fPixeltoX\":0.0112844829267726,\"fAbsPixeltoYk\":106.195120968338,\"fPixeltoYk\":-22.0847559921839,\"fPixeltoY\":-0.271779400340089,\"fXlowNDC\":0,\"fYlowNDC\":0,\"fXUpNDC\":0,\"fYUpNDC\":0,\"fWNDC\":1,\"fHNDC\":1,\"fAbsXlowNDC\":0,\"fAbsYlowNDC\":0,\"fAbsWNDC\":1,\"fAbsHNDC\":1,\"fUxmin\":-3.1416,\"fUymin\":-9.25676753152405,\"fUxmax\":3.1416,\"fUymax\":93.3671325076783,\"fTheta\":30,\"fPhi\":30,\"fAspectRatio\":0,\"fNumber\":0,\"fTickx\":0,\"fTicky\":0,\"fLogx\":0,\"fLogy\":0,\"fLogz\":0,\"fPadPaint\":0,\"fCrosshair\":0,\"fCrosshairPos\":0,\"fBorderSize\":2,\"fBorderMode\":0,\"fModified\":false,\"fGridx\":false,\"fGridy\":false,\"fAbsCoord\":false,\"fEditable\":true,\"fFixedAspectRatio\":false,\"fPrimitives\":{\"_typename\":\"TList\",\"name\":\"TList\",\"arr\":[{\"_typename\":\"TFrame\",\"fUniqueID\":0,\"fBits\":50331656,\"fLineColor\":1,\"fLineStyle\":1,\"fLineWidth\":1,\"fFillColor\":0,\"fFillStyle\":1001,\"fX1\":-3.1416,\"fY1\":-9.25676753152405,\"fX2\":3.1416,\"fY2\":93.3671325076783,\"fBorderSize\":1,\"fBorderMode\":0},{\"_typename\":\"TH1D\",\"fUniqueID\":0,\"fBits\":50332168,\"fName\":\"frame_7f06efa2c590\",\"fTitle\":\"Fit components for MesonPhi\",\"fLineColor\":602,\"fLineStyle\":1,\"fLineWidth\":1,\"fFillColor\":0,\"fFillStyle\":1001,\"fMarkerColor\":1,\"fMarkerStyle\":1,\"fMarkerSize\":1,\"fNcells\":102,\"fXaxis\":{\"_typename\":\"TAxis\",\"fUniqueID\":0,\"fBits\":50331648,\"fName\":\"xaxis\",\"fTitle\":\"MesonPhi\",\"fNdivisions\":510,\"fAxisColor\":1,\"fLabelColor\":1,\"fLabelFont\":42,\"fLabelOffset\":0.005,\"fLabelSize\":0.035,\"fTickLength\":0.03,\"fTitleOffset\":1,\"fTitleSize\":0.035,\"fTitleColor\":1,\"fTitleFont\":42,\"fNbins\":100,\"fXmin\":-3.1416,\"fXmax\":3.1416,\"fXbins\":[],\"fFirst\":0,\"fLast\":0,\"fBits2\":0,\"fTimeDisplay\":false,\"fTimeFormat\":\"\",\"fLabels\":null,\"fModLabs\":null},\"fYaxis\":{\"_typename\":\"TAxis\",\"fUniqueID\":0,\"fBits\":50331648,\"fName\":\"yaxis\",\"fTitle\":\"Events \\/ ( 0.062832 )\",\"fNdivisions\":510,\"fAxisColor\":1,\"fLabelColor\":1,\"fLabelFont\":42,\"fLabelOffset\":0.005,\"fLabelSize\":0.035,\"fTickLength\":0.03,\"fTitleOffset\":0,\"fTitleSize\":0.035,\"fTitleColor\":1,\"fTitleFont\":42,\"fNbins\":1,\"fXmin\":0,\"fXmax\":1,\"fXbins\":[],\"fFirst\":0,\"fLast\":0,\"fBits2\":0,\"fTimeDisplay\":false,\"fTimeFormat\":\"\",\"fLabels\":null,\"fModLabs\":null},\"fZaxis\":{\"_typename\":\"TAxis\",\"fUniqueID\":0,\"fBits\":50331648,\"fName\":\"zaxis\",\"fTitle\":\"\",\"fNdivisions\":510,\"fAxisColor\":1,\"fLabelColor\":1,\"fLabelFont\":42,\"fLabelOffset\":0.005,\"fLabelSize\":0.035,\"fTickLength\":0.03,\"fTitleOffset\":1,\"fTitleSize\":0.035,\"fTitleColor\":1,\"fTitleFont\":42,\"fNbins\":1,\"fXmin\":0,\"fXmax\":1,\"fXbins\":[],\"fFirst\":0,\"fLast\":0,\"fBits2\":0,\"fTimeDisplay\":false,\"fTimeFormat\":\"\",\"fLabels\":null,\"fModLabs\":null},\"fBarOffset\":0,\"fBarWidth\":1000,\"fEntries\":1,\"fTsumw\":0,\"fTsumw2\":0,\"fTsumwx\":0,\"fTsumwx2\":0,\"fMaximum\":93.3671325076783,\"fMinimum\":-9.25676753152405,\"fNormFactor\":0,\"fContour\":[],\"fSumw2\":[],\"fOption\":\"\",\"fFunctions\":{\"_typename\":\"TList\",\"name\":\"TList\",\"arr\":[],\"opt\":[]},\"fBufferSize\":0,\"fBuffer\":[],\"fBinStatErrOpt\":0,\"fStatOverflows\":2,\"fArray\":[0,93.3671325076783,0,0,0,0,0,0,0,0,0,0,0,0,0,0,0,0,0,0,0,0,0,0,0,0,0,0,0,0,0,0,0,0,0,0,0,0,0,0,0,0,0,0,0,0,0,0,0,0,0,0,0,0,0,0,0,0,0,0,0,0,0,0,0,0,0,0,0,0,0,0,0,0,0,0,0,0,0,0,0,0,0,0,0,0,0,0,0,0,0,0,0,0,0,0,0,0,0,0,0,0]},{\"_typename\":\"RooHist\",\"fUniqueID\":0,\"fBits\":50332680,\"fName\":\"h_Weight_Phinewtree\",\"fTitle\":\"Histogram of Weight_Phinewtree_plot__MesonPhi\",\"fLineColor\":1,\"fLineStyle\":1,\"fLineWidth\":1,\"fFillColor\":0,\"fFillStyle\":1000,\"fMarkerColor\":1,\"fMarkerStyle\":8,\"fMarkerSize\":1,\"fNpoints\":100,\"fX\":[-3.110184,-3.047352,-2.98452,-2.921688,-2.858856,-2.796024,-2.733192,-2.67036,-2.607528,-2.544696,-2.481864,-2.419032,-2.3562,-2.293368,-2.230536,-2.167704,-2.104872,-2.04204,-1.979208,-1.916376,-1.853544,-1.790712,-1.72788,-1.665048,-1.602216,-1.539384,-1.476552,-1.41372,-1.350888,-1.288056,-1.225224,-1.162392,-1.09956,-1.036728,-0.973896,-0.911064,-0.848232,-0.7854,-0.722568,-0.659736,-0.596904,-0.534072,-0.47124,-0.408408,-0.345576,-0.282744,-0.219912,-0.15708,-0.094248,-0.0314159999999998,0.031416,0.0942479999999998,0.15708,0.219912,0.282744,0.345576,0.408408,0.47124,0.534072,0.596904,0.659736,0.722568,0.7854,0.848232,0.911064,0.973896,1.036728,1.09956,1.162392,1.225224,1.288056,1.350888,1.41372,1.476552,1.539384,1.602216,1.665048,1.72788,1.790712,1.853544,1.916376,1.979208,2.04204,2.104872,2.167704,2.230536,2.293368,2.3562,2.419032,2.481864,2.544696,2.607528,2.67036,2.733192,2.796024,2.858856,2.921688,2.98452,3.047352,3.110184],\"fY\":[32.3364181518555,31.0581893920898,45.4737358093262,38.8483390808105,28.045747756958,45.2600555419922,25.5178489685059,1.42567312717438,-0.575284481048584,-2.10448694229126,32.7378692626953,45.3398132324219,50.2001266479492,52.0178642272949,40.7649230957031,44.9180030822754,56.6474227905273,59.4305381774902,28.9774971008301,39.9228706359863,30.2529907226562,54.9519958496094,23.910945892334,10.5565023422241,0.162753880023956,0.184862047433853,2.78542423248291,35.7275848388672,47.072826385498,35.3205413818359,39.4127578735352,28.4330558776855,39.2873954772949,11.8593101501465,40.8021278381348,35.5282249450684,55.2404518127441,65.177131652832,57.002986907959,26.9146385192871,-2.86738967895508,0.581683039665222,0.613578200340271,15.0075645446777,49.9967155456543,47.5293960571289,42.8213233947754,35.3662719726562,55.0261611938477,26.4541187286377,53.9278297424316,50.8014297485352,22.5979652404785,52.4792251586914,43.0180206298828,41.4475250244141,16.8530540466309,0.00786183774471283,0.459694027900696,1.08081698417664,22.3877696990967,29.1174335479736,26.0876522064209,49.2458343505859,38.433837890625,66.4682159423828,52.2650985717773,54.6685752868652,37.4435577392578,34.7826232910156,41.2392234802246,49.6152648925781,41.3049545288086,-0.184849143028259,1.56255316734314,0.71685779094696,-0.990979909896851,31.6377124786377,35.5266571044922,54.8615684509277,38.925163269043,37.8935585021973,40.2545127868652,32.013729095459,58.7079315185547,40.9228477478027,74.2847290039062,51.754566192627,68.3196792602539,64.4078598022461,4.1059136390686,1.38647067546844,0.209241360425949,5.05839443206787,41.3461112976074,54.0840454101562,44.2248344421387,52.861701965332,35.9555282592773,28.1770343780518],\"fFunctions\":{\"_typename\":\"TList\",\"name\":\"TList\",\"arr\":[],\"opt\":[]},\"fHistogram\":{\"_typename\":\"TH1F\",\"fUniqueID\":0,\"fBits\":50332168,\"fName\":\"h_Weight_Phinewtree\",\"fTitle\":\"Histogram of Weight_Phinewtree_plot__MesonPhi\",\"fLineColor\":602,\"fLineStyle\":1,\"fLineWidth\":1,\"fFillColor\":0,\"fFillStyle\":1001,\"fMarkerColor\":1,\"fMarkerStyle\":1,\"fMarkerSize\":1,\"fNcells\":102,\"fXaxis\":{\"_typename\":\"TAxis\",\"fUniqueID\":0,\"fBits\":50331648,\"fName\":\"xaxis\",\"fTitle\":\"\",\"fNdivisions\":510,\"fAxisColor\":1,\"fLabelColor\":1,\"fLabelFont\":42,\"fLabelOffset\":0.005,\"fLabelSize\":0.035,\"fTickLength\":0.03,\"fTitleOffset\":1,\"fTitleSize\":0.035,\"fTitleColor\":1,\"fTitleFont\":42,\"fNbins\":100,\"fXmin\":-3.76992,\"fXmax\":3.76992,\"fXbins\":[],\"fFirst\":0,\"fLast\":0,\"fBits2\":0,\"fTimeDisplay\":false,\"fTimeFormat\":\"\",\"fLabels\":null,\"fModLabs\":null},\"fYaxis\":{\"_typename\":\"TAxis\",\"fUniqueID\":0,\"fBits\":50331648,\"fName\":\"yaxis\",\"fTitle\":\"\",\"fNdivisions\":510,\"fAxisColor\":1,\"fLabelColor\":1,\"fLabelFont\":42,\"fLabelOffset\":0.005,\"fLabelSize\":0.035,\"fTickLength\":0.03,\"fTitleOffset\":0,\"fTitleSize\":0.035,\"fTitleColor\":1,\"fTitleFont\":42,\"fNbins\":1,\"fXmin\":-13.9214902605787,\"fXmax\":98.0318552367329,\"fXbins\":[],\"fFirst\":0,\"fLast\":0,\"fBits2\":0,\"fTimeDisplay\":false,\"fTimeFormat\":\"\",\"fLabels\":null,\"fModLabs\":null},\"fZaxis\":{\"_typename\":\"TAxis\",\"fUniqueID\":0,\"fBits\":50331648,\"fName\":\"zaxis\",\"fTitle\":\"\",\"fNdivisions\":510,\"fAxisColor\":1,\"fLabelColor\":1,\"fLabelFont\":42,\"fLabelOffset\":0.005,\"fLabelSize\":0.035,\"fTickLength\":0.03,\"fTitleOffset\":1,\"fTitleSize\":0.035,\"fTitleColor\":1,\"fTitleFont\":42,\"fNbins\":1,\"fXmin\":0,\"fXmax\":1,\"fXbins\":[],\"fFirst\":0,\"fLast\":0,\"fBits2\":0,\"fTimeDisplay\":false,\"fTimeFormat\":\"\",\"fLabels\":null,\"fModLabs\":null},\"fBarOffset\":0,\"fBarWidth\":1000,\"fEntries\":0,\"fTsumw\":0,\"fTsumw2\":0,\"fTsumwx\":0,\"fTsumwx2\":0,\"fMaximum\":98.0318552367329,\"fMinimum\":-13.9214902605787,\"fNormFactor\":0,\"fContour\":[],\"fSumw2\":[],\"fOption\":\"\",\"fFunctions\":{\"_typename\":\"TList\",\"name\":\"TList\",\"arr\":[],\"opt\":[]},\"fBufferSize\":0,\"fBuffer\":[],\"fBinStatErrOpt\":0,\"fStatOverflows\":2,\"fArray\":[0,0,0,0,0,0,0,0,0,0,0,0,0,0,0,0,0,0,0,0,0,0,0,0,0,0,0,0,0,0,0,0,0,0,0,0,0,0,0,0,0,0,0,0,0,0,0,0,0,0,0,0,0,0,0,0,0,0,0,0,0,0,0,0,0,0,0,0,0,0,0,0,0,0,0,0,0,0,0,0,0,0,0,0,0,0,0,0,0,0,0,0,0,0,0,0,0,0,0,0,0,0]},\"fMinimum\":-1111,\"fMaximum\":-1111,\"fEXlow\":[0.031416,0.031416,0.031416,0.031416,0.031416,0.031416,0.031416,0.031416,0.031416,0.031416,0.031416,0.031416,0.031416,0.031416,0.031416,0.031416,0.031416,0.031416,0.031416,0.031416,0.031416,0.031416,0.031416,0.031416,0.031416,0.031416,0.031416,0.031416,0.031416,0.031416,0.031416,0.031416,0.031416,0.031416,0.031416,0.031416,0.031416,0.031416,0.031416,0.031416,0.031416,0.031416,0.031416,0.031416,0.031416,0.031416,0.031416,0.031416,0.031416,0.031416,0.031416,0.031416,0.031416,0.031416,0.031416,0.031416,0.031416,0.031416,0.031416,0.031416,0.031416,0.031416,0.031416,0.031416,0.031416,0.031416,0.031416,0.031416,0.031416,0.031416,0.031416,0.031416,0.031416,0.031416,0.031416,0.031416,0.031416,0.031416,0.031416,0.031416,0.031416,0.031416,0.031416,0.031416,0.031416,0.031416,0.031416,0.031416,0.031416,0.031416,0.031416,0.031416,0.031416,0.031416,0.031416,0.031416,0.031416,0.031416,0.031416,0.031416],\"fEXhigh\":[0.031416,0.031416,0.031416,0.031416,0.031416,0.031416,0.031416,0.031416,0.031416,0.031416,0.031416,0.031416,0.031416,0.031416,0.031416,0.031416,0.031416,0.031416,0.031416,0.031416,0.031416,0.031416,0.031416,0.031416,0.031416,0.031416,0.031416,0.031416,0.031416,0.031416,0.031416,0.031416,0.031416,0.031416,0.031416,0.031416,0.031416,0.031416,0.031416,0.031416,0.031416,0.031416,0.031416,0.031416,0.031416,0.031416,0.031416,0.031416,0.031416,0.031416,0.031416,0.031416,0.031416,0.031416,0.031416,0.031416,0.031416,0.031416,0.031416,0.031416,0.031416,0.031416,0.031416,0.031416,0.031416,0.031416,0.031416,0.031416,0.031416,0.031416,0.031416,0.031416,0.031416,0.031416,0.031416,0.031416,0.031416,0.031416,0.031416,0.031416,0.031416,0.031416,0.031416,0.031416,0.031416,0.031416,0.031416,0.031416,0.031416,0.031416,0.031416,0.031416,0.031416,0.031416,0.031416,0.031416,0.031416,0.031416,0.031416,0.031416],\"fEYlow\":[13.6668879812397,11.7703764220006,12.6552579747074,13.5701923862747,11.2569328581744,11.925041376014,7.615043192091,2.17000934470056,0.575284469556439,1.08198235613985,8.32823653628254,11.9279658629833,13.8731540760489,13.9116845040378,12.7877837738091,13.3816880860278,13.4955470562249,13.7573690499558,13.3367562461861,14.3901128507104,13.008330326722,13.5690367030318,11.261944179381,5.5237215351629,2.17071502685833,1.53969404341622,3.24053700168944,10.1481794202348,13.6952005947336,13.3826034603648,13.6331509019085,13.4152730997113,13.4443613497766,12.8888602304765,13.9548009389435,13.1861521282093,14.3971737305106,14.72260604139,13.3633957190036,9.40120798520998,1.72465512351432,1.4261714574476,0.613578223251892,5.97617093618801,11.8162512074995,13.0682512369494,12.9307433411395,12.3305614601556,13.3671039882258,12.5683322282764,13.2813560638514,12.9443706586785,10.8924004501331,12.2998707202244,12.2727677256671,10.9515423078841,7.16937126158554,1.94353046066747,1.76705361874502,1.74601652153557,7.75316845222724,12.1750263154507,11.9917619863698,13.2816486912039,12.9912552815056,14.2078110319401,13.3008012510468,13.3736021580416,13.560498749903,13.1460535404597,13.4351651607617,13.5593645084954,10.9237723549607,3.72390540075024,2.45533850740819,1.74956086439451,2.85737776095187,10.0076555155824,13.2098721498926,13.7104932024531,12.8490936835429,13.181714057873,13.2629855153809,12.7133283592129,14.4795336004189,13.2568553390059,14.4176807747174,13.6538788437588,13.5596475687552,11.5047352863092,3.19518391230265,2.11641063093088,1.39683646916382,4.0835510406422,11.1441750655953,13.6933113844918,12.6335025930245,12.9929789660914,12.5725857843548,12.352753664888],\"fEYhigh\":[13.6668879812397,11.7703764220006,12.6552579747074,13.5701923862747,11.2569328581744,11.925041376014,7.615043192091,2.17000934470056,0.575284469556439,1.08198235613985,8.32823653628254,11.9279658629833,13.8731540760489,13.9116845040378,12.7877837738091,13.3816880860278,13.4955470562249,13.7573690499558,13.3367562461861,14.3901128507104,13.008330326722,13.5690367030318,11.261944179381,5.5237215351629,2.17071502685833,1.53969404341622,3.24053700168944,10.1481794202348,13.6952005947336,13.3826034603648,13.6331509019085,13.4152730997113,13.4443613497766,12.8888602304765,13.9548009389435,13.1861521282093,14.3971737305106,14.72260604139,13.3633957190036,9.40120798520998,1.72465512351432,1.4261714574476,0.613578223251892,5.97617093618801,11.8162512074995,13.0682512369494,12.9307433411395,12.3305614601556,13.3671039882258,12.5683322282764,13.2813560638514,12.9443706586785,10.8924004501331,12.2998707202244,12.2727677256671,10.9515423078841,7.16937126158554,1.94353046066747,1.76705361874502,1.74601652153557,7.75316845222724,12.1750263154507,11.9917619863698,13.2816486912039,12.9912552815056,14.2078110319401,13.3008012510468,13.3736021580416,13.560498749903,13.1460535404597,13.4351651607617,13.5593645084954,10.9237723549607,3.72390540075024,2.45533850740819,1.74956086439451,2.85737776095187,10.0076555155824,13.2098721498926,13.7104932024531,12.8490936835429,13.181714057873,13.2629855153809,12.7133283592129,14.4795336004189,13.2568553390059,14.4176807747174,13.6538788437588,13.5596475687552,11.5047352863092,3.19518391230265,2.11641063093088,1.39683646916382,4.0835510406422,11.1441750655953,13.6933113844918,12.6335025930245,12.9929789660914,12.5725857843548,12.352753664888],\"_yAxisLabel\":\"Events \\/ ( 0.062832 )\",\"_ymin\":-4.5920448024694,\"_ymax\":88.7024097786236,\"_normValue\":0,\"_nominalBinWidth\":0.062832,\"_nSigma\":1,\"_entries\":3331.1139331311,\"_rawEntries\":-1},{\"_typename\":\"RooCurve\",\"fUniqueID\":0,\"fBits\":50332680,\"fName\":\"phiSDMETotalPDF0_Int[HelCosTh,HelPhi,Pol,PolState]_Norm[HelCosTh,HelPhi,MesonPhi,Pol,PolState]\",\"fTitle\":\"Projection of total model\",\"fLineColor\":632,\"fLineStyle\":1,\"fLineWidth\":3,\"fFillColor\":0,\"fFillStyle\":1000,\"fMarkerColor\":1,\"fMarkerStyle\":1,\"fMarkerSize\":1,\"fNpoints\":106,\"fX\":[-3.204432,-3.204432,-3.1416,-3.078768,-3.015936,-2.953104,-2.890272,-2.82744,-2.764608,-2.701776,-2.638944,-2.576112,-2.51328,-2.450448,-2.387616,-2.324784,-2.261952,-2.19912,-2.136288,-2.073456,-2.010624,-1.947792,-1.88496,-1.822128,-1.759296,-1.696464,-1.633632,-1.5708,-1.507968,-1.445136,-1.382304,-1.319472,-1.25664,-1.193808,-1.130976,-1.068144,-1.005312,-0.94248,-0.879648,-0.816816,-0.753984,-0.691152,-0.62832,-0.565488,-0.502656,-0.439824,-0.376992,-0.31416,-0.251328,-0.188496,-0.125664,-0.0628319999999998,0,0.0628319999999998,0.125664,0.188496,0.251328,0.31416,0.376992,0.439824,0.502656,0.565488,0.62832,0.691152,0.753984,0.816816,0.879648,0.94248,1.005312,1.068144,1.130976,1.193808,1.25664,1.319472,1.382304,1.445136,1.507968,1.5708,1.633632,1.696464,1.759296,1.822128,1.88496,1.947792,2.010624,2.073456,2.136288,2.19912,2.261952,2.324784,2.387616,2.450448,2.51328,2.576112,2.638944,2.701776,2.764608,2.82744,2.890272,2.953104,3.015936,3.078768,3.1416,3.1416,3.204432,3.204432],\"fY\":[0,40.8509488205421,40.8509488205421,40.2811165706739,40.7621982015888,41.283068774105,42.1796381741855,39.6976484330333,23.4855909796108,1.26858532045622,0.0941829192802168,0.171925781660724,5.88910611220973,34.3223705205777,45.8545725147153,48.0281588423132,48.9800150002184,48.824755201748,48.4754910642488,50.3869483765566,48.7938495364323,49.6575574640007,47.630242044999,45.4614591798752,37.9514411823545,12.6891558294891,0.473159664425758,0.10190989331981,0.363531353722839,16.2173958291647,42.7658874696593,50.0955643972244,51.8362875645248,52.920821771012,54.9824420482366,54.009189359604,53.8123803930556,53.2257829639009,52.5629599050779,50.5778156008426,47.9777655140935,36.2591281547767,6.86532869406996,0.215244833013421,0.102920373331568,1.420118450552,24.4972811470722,39.9280972833578,41.7161705428804,41.9748221329755,41.8775715759471,41.803160935357,40.2496789258008,39.924850643412,39.6512175701933,40.0645109236847,39.8587952111645,37.0657382470566,21.9256997898723,1.24606004450064,0.124644180889751,0.138252236609103,5.48531015846351,31.2951995234594,40.6648615890438,43.8636546676366,44.1998735711366,45.7163986479117,46.4950993715006,46.0487215834767,45.6653559917029,45.1493671139487,44.5529906488125,43.2966622498175,36.7039217389716,13.8249986819638,0.437288082400637,0.100795648568442,0.375289788824889,14.871376067955,40.5616692897531,47.6979872946641,50.2404427710969,52.3128825737313,53.2233342932911,53.8259771646842,53.7440288431596,52.8605320583791,51.205211168112,49.099197979146,47.4361829433686,34.6953429529104,6.27725022991583,0.235501708775667,0.079817423744998,1.38986186874948,23.2975440293019,38.4988207656092,42.0606585992063,40.9882973367088,40.6176366684821,39.9500140587995,41.283706367251,41.283706367251,41.283706367251,0],\"fFunctions\":{\"_typename\":\"TList\",\"name\":\"TList\",\"arr\":[],\"opt\":[]},\"fHistogram\":{\"_typename\":\"TH1F\",\"fUniqueID\":0,\"fBits\":50332168,\"fName\":\"phiSDMETotalPDF0_Int[HelCosTh,HelPhi,Pol,PolState]_Norm[HelCosTh,HelPhi,MesonPhi,Pol,PolState]\",\"fTitle\":\"Projection of total model\",\"fLineColor\":602,\"fLineStyle\":1,\"fLineWidth\":1,\"fFillColor\":0,\"fFillStyle\":1001,\"fMarkerColor\":1,\"fMarkerStyle\":1,\"fMarkerSize\":1,\"fNcells\":108,\"fXaxis\":{\"_typename\":\"TAxis\",\"fUniqueID\":0,\"fBits\":50331648,\"fName\":\"xaxis\",\"fTitle\":\"\",\"fNdivisions\":510,\"fAxisColor\":1,\"fLabelColor\":1,\"fLabelFont\":42,\"fLabelOffset\":0.005,\"fLabelSize\":0.035,\"fTickLength\":0.03,\"fTitleOffset\":1,\"fTitleSize\":0.035,\"fTitleColor\":1,\"fTitleFont\":42,\"fNbins\":106,\"fXmin\":-3.8453184,\"fXmax\":3.8453184,\"fXbins\":[],\"fFirst\":0,\"fLast\":0,\"fBits2\":0,\"fTimeDisplay\":false,\"fTimeFormat\":\"\",\"fLabels\":null,\"fModLabs\":null},\"fYaxis\":{\"_typename\":\"TAxis\",\"fUniqueID\":0,\"fBits\":50331648,\"fName\":\"yaxis\",\"fTitle\":\"\",\"fNdivisions\":510,\"fAxisColor\":1,\"fLabelColor\":1,\"fLabelFont\":42,\"fLabelOffset\":0.005,\"fLabelSize\":0.035,\"fTickLength\":0.03,\"fTitleOffset\":0,\"fTitleSize\":0.035,\"fTitleColor\":1,\"fTitleFont\":42,\"fNbins\":1,\"fXmin\":0,\"fXmax\":60.4806862530603,\"fXbins\":[],\"fFirst\":0,\"fLast\":0,\"fBits2\":0,\"fTimeDisplay\":false,\"fTimeFormat\":\"\",\"fLabels\":null,\"fModLabs\":null},\"fZaxis\":{\"_typename\":\"TAxis\",\"fUniqueID\":0,\"fBits\":50331648,\"fName\":\"zaxis\",\"fTitle\":\"\",\"fNdivisions\":510,\"fAxisColor\":1,\"fLabelColor\":1,\"fLabelFont\":42,\"fLabelOffset\":0.005,\"fLabelSize\":0.035,\"fTickLength\":0.03,\"fTitleOffset\":1,\"fTitleSize\":0.035,\"fTitleColor\":1,\"fTitleFont\":42,\"fNbins\":1,\"fXmin\":0,\"fXmax\":1,\"fXbins\":[],\"fFirst\":0,\"fLast\":0,\"fBits2\":0,\"fTimeDisplay\":false,\"fTimeFormat\":\"\",\"fLabels\":null,\"fModLabs\":null},\"fBarOffset\":0,\"fBarWidth\":1000,\"fEntries\":0,\"fTsumw\":0,\"fTsumw2\":0,\"fTsumwx\":0,\"fTsumwx2\":0,\"fMaximum\":60.4806862530603,\"fMinimum\":0,\"fNormFactor\":0,\"fContour\":[],\"fSumw2\":[],\"fOption\":\"\",\"fFunctions\":{\"_typename\":\"TList\",\"name\":\"TList\",\"arr\":[],\"opt\":[]},\"fBufferSize\":0,\"fBuffer\":[],\"fBinStatErrOpt\":0,\"fStatOverflows\":2,\"fArray\":[0,0,0,0,0,0,0,0,0,0,0,0,0,0,0,0,0,0,0,0,0,0,0,0,0,0,0,0,0,0,0,0,0,0,0,0,0,0,0,0,0,0,0,0,0,0,0,0,0,0,0,0,0,0,0,0,0,0,0,0,0,0,0,0,0,0,0,0,0,0,0,0,0,0,0,0,0,0,0,0,0,0,0,0,0,0,0,0,0,0,0,0,0,0,0,0,0,0,0,0,0,0,0,0,0,0,0,0]},\"fMinimum\":-1111,\"fMaximum\":-1111,\"_yAxisLabel\":\"Projection of total model\",\"_ymin\":0,\"_ymax\":54.9824420482366,\"_normValue\":0},{\"_typename\":\"TPaveText\",\"fUniqueID\":0,\"fBits\":50331656,\"fLineColor\":1,\"fLineStyle\":1,\"fLineWidth\":1,\"fFillColor\":0,\"fFillStyle\":1001,\"fX1\":-3.14160004681349,\"fY1\":16.3992070959727,\"fX2\":-0.785400011703373,\"fY2\":93.367133272286,\"fX1NDC\":0.1,\"fY1NDC\":0.3,\"fX2NDC\":0.4,\"fY2NDC\":0.9,\"fBorderSize\":1,\"fInit\":1,\"fShadowColor\":1,\"fCornerRadius\":0,\"fOption\":\"BRNDC\",\"fName\":\"phiSDMETotalPDF0_paramBox\",\"fTextAngle\":0,\"fTextSize\":0.04,\"fTextAlign\":12,\"fTextColor\":1,\"fTextFont\":62,\"fLabel\":\"\",\"fLongest\":30,\"fMargin\":0.05,\"fLines\":{\"_typename\":\"TList\",\"name\":\"TList\",\"arr\":[{\"_typename\":\"TLatex\",\"fUniqueID\":0,\"fBits\":50331648,\"fName\":\"\",\"fTitle\":\"Imrho210 =  0.080 +\\/- 0.021\",\"fTextAngle\":0,\"fTextSize\":0,\"fTextAlign\":0,\"fTextColor\":0,\"fTextFont\":0,\"fX\":0,\"fY\":0,\"fLineColor\":1,\"fLineStyle\":1,\"fLineWidth\":2,\"fLimitFactorSize\":3,\"fOriginSize\":0.04},{\"_typename\":\"TLatex\",\"fUniqueID\":0,\"fBits\":50331648,\"fName\":\"\",\"fTitle\":\"Imrho21m1 =  0.275 +\\/- 0.037\",\"fTextAngle\":0,\"fTextSize\":0,\"fTextAlign\":0,\"fTextColor\":0,\"fTextFont\":0,\"fX\":0,\"fY\":0,\"fLineColor\":1,\"fLineStyle\":1,\"fLineWidth\":2,\"fLimitFactorSize\":3,\"fOriginSize\":0.04},{\"_typename\":\"TLatex\",\"fUniqueID\":0,\"fBits\":50331648,\"fName\":\"\",\"fTitle\":\"Rerho010 = -0.10339 +\\/- 0.0038\",\"fTextAngle\":0,\"fTextSize\":0,\"fTextAlign\":0,\"fTextColor\":0,\"fTextFont\":0,\"fX\":0,\"fY\":0,\"fLineColor\":1,\"fLineStyle\":1,\"fLineWidth\":2,\"fLimitFactorSize\":3,\"fOriginSize\":0.04},{\"_typename\":\"TLatex\",\"fUniqueID\":0,\"fBits\":50331648,\"fName\":\"\",\"fTitle\":\"Rerho110 =  0.154 +\\/- 0.014\",\"fTextAngle\":0,\"fTextSize\":0,\"fTextAlign\":0,\"fTextColor\":0,\"fTextFont\":0,\"fX\":0,\"fY\":0,\"fLineColor\":1,\"fLineStyle\":1,\"fLineWidth\":2,\"fLimitFactorSize\":3,\"fOriginSize\":0.04},{\"_typename\":\"TLatex\",\"fUniqueID\":0,\"fBits\":50331648,\"fName\":\"\",\"fTitle\":\"Yld_PhiSDME =  3340 +\\/- 124\",\"fTextAngle\":0,\"fTextSize\":0,\"fTextAlign\":0,\"fTextColor\":0,\"fTextFont\":0,\"fX\":0,\"fY\":0,\"fLineColor\":1,\"fLineStyle\":1,\"fLineWidth\":2,\"fLimitFactorSize\":3,\"fOriginSize\":0.04},{\"_typename\":\"TLatex\",\"fUniqueID\":0,\"fBits\":50331648,\"fName\":\"\",\"fTitle\":\"rho000 =  0.381 +\\/- 0.010\",\"fTextAngle\":0,\"fTextSize\":0,\"fTextAlign\":0,\"fTextColor\":0,\"fTextFont\":0,\"fX\":0,\"fY\":0,\"fLineColor\":1,\"fLineStyle\":1,\"fLineWidth\":2,\"fLimitFactorSize\":3,\"fOriginSize\":0.04},{\"_typename\":\"TLatex\",\"fUniqueID\":0,\"fBits\":50331648,\"fName\":\"\",\"fTitle\":\"rho01m1 =  0.0859 +\\/- 0.0065\",\"fTextAngle\":0,\"fTextSize\":0,\"fTextAlign\":0,\"fTextColor\":0,\"fTextFont\":0,\"fX\":0,\"fY\":0,\"fLineColor\":1,\"fLineStyle\":1,\"fLineWidth\":2,\"fLimitFactorSize\":3,\"fOriginSize\":0.04},{\"_typename\":\"TLatex\",\"fUniqueID\":0,\"fBits\":50331648,\"fName\":\"\",\"fTitle\":\"rho100 = -0.0784 +\\/- 0.042\",\"fTextAngle\":0,\"fTextSize\":0,\"fTextAlign\":0,\"fTextColor\":0,\"fTextFont\":0,\"fX\":0,\"fY\":0,\"fLineColor\":1,\"fLineStyle\":1,\"fLineWidth\":2,\"fLimitFactorSize\":3,\"fOriginSize\":0.04},{\"_typename\":\"TLatex\",\"fUniqueID\":0,\"fBits\":50331648,\"fName\":\"\",\"fTitle\":\"rho111 = -0.0641 +\\/- 0.039\",\"fTextAngle\":0,\"fTextSize\":0,\"fTextAlign\":0,\"fTextColor\":0,\"fTextFont\":0,\"fX\":0,\"fY\":0,\"fLineColor\":1,\"fLineStyle\":1,\"fLineWidth\":2,\"fLimitFactorSize\":3,\"fOriginSize\":0.04},{\"_typename\":\"TLatex\",\"fUniqueID\":0,\"fBits\":50331648,\"fName\":\"\",\"fTitle\":\"rho11m1 =  0.258 +\\/- 0.025\",\"fTextAngle\":0,\"fTextSize\":0,\"fTextAlign\":0,\"fTextColor\":0,\"fTextFont\":0,\"fX\":0,\"fY\":0,\"fLineColor\":1,\"fLineStyle\":1,\"fLineWidth\":2,\"fLimitFactorSize\":3,\"fOriginSize\":0.04}],\"opt\":[\"\",\"\",\"\",\"\",\"\",\"\",\"\",\"\",\"\",\"\"]}},{\"_typename\":\"RooCurve\",\"fUniqueID\":0,\"fBits\":50332680,\"fName\":\"phiSDMETotalPDF0_Int[HelCosTh,HelPhi,Pol,PolState]_Norm[HelCosTh,HelPhi,MesonPhi,Pol,PolState]_Comp[PhiSDME]\",\"fTitle\":\"Projection of total model\",\"fLineColor\":1,\"fLineStyle\":2,\"fLineWidth\":3,\"fFillColor\":0,\"fFillStyle\":1000,\"fMarkerColor\":1,\"fMarkerStyle\":1,\"fMarkerSize\":1,\"fNpoints\":106,\"fX\":[-3.204432,-3.204432,-3.1416,-3.078768,-3.015936,-2.953104,-2.890272,-2.82744,-2.764608,-2.701776,-2.638944,-2.576112,-2.51328,-2.450448,-2.387616,-2.324784,-2.261952,-2.19912,-2.136288,-2.073456,-2.010624,-1.947792,-1.88496,-1.822128,-1.759296,-1.696464,-1.633632,-1.5708,-1.507968,-1.445136,-1.382304,-1.319472,-1.25664,-1.193808,-1.130976,-1.068144,-1.005312,-0.94248,-0.879648,-0.816816,-0.753984,-0.691152,-0.62832,-0.565488,-0.502656,-0.439824,-0.376992,-0.31416,-0.251328,-0.188496,-0.125664,-0.0628319999999998,0,0.0628319999999998,0.125664,0.188496,0.251328,0.31416,0.376992,0.439824,0.502656,0.565488,0.62832,0.691152,0.753984,0.816816,0.879648,0.94248,1.005312,1.068144,1.130976,1.193808,1.25664,1.319472,1.382304,1.445136,1.507968,1.5708,1.633632,1.696464,1.759296,1.822128,1.88496,1.947792,2.010624,2.073456,2.136288,2.19912,2.261952,2.324784,2.387616,2.450448,2.51328,2.576112,2.638944,2.701776,2.764608,2.82744,2.890272,2.953104,3.015936,3.078768,3.1416,3.1416,3.204432,3.204432],\"fY\":[0,40.8509488205421,40.8509488205421,40.2811165706739,40.7621982015888,41.283068774105,42.1796381741855,39.6976484330333,23.4855909796108,1.26858532045622,0.0941829192802168,0.171925781660724,5.88910611220973,34.3223705205777,45.8545725147153,48.0281588423132,48.9800150002184,48.824755201748,48.4754910642488,50.3869483765566,48.7938495364323,49.6575574640007,47.630242044999,45.4614591798752,37.9514411823545,12.6891558294891,0.473159664425758,0.10190989331981,0.363531353722839,16.2173958291647,42.7658874696593,50.0955643972244,51.8362875645248,52.920821771012,54.9824420482366,54.009189359604,53.8123803930556,53.2257829639009,52.5629599050779,50.5778156008426,47.9777655140935,36.2591281547767,6.86532869406996,0.215244833013421,0.102920373331568,1.420118450552,24.4972811470722,39.9280972833578,41.7161705428804,41.9748221329755,41.8775715759471,41.803160935357,40.2496789258008,39.924850643412,39.6512175701933,40.0645109236847,39.8587952111645,37.0657382470566,21.9256997898723,1.24606004450064,0.124644180889751,0.138252236609103,5.48531015846351,31.2951995234594,40.6648615890438,43.8636546676366,44.1998735711366,45.7163986479117,46.4950993715006,46.0487215834767,45.6653559917029,45.1493671139487,44.5529906488125,43.2966622498175,36.7039217389716,13.8249986819638,0.437288082400637,0.100795648568442,0.375289788824889,14.871376067955,40.5616692897531,47.6979872946641,50.2404427710969,52.3128825737313,53.2233342932911,53.8259771646842,53.7440288431596,52.8605320583791,51.205211168112,49.099197979146,47.4361829433686,34.6953429529104,6.27725022991583,0.235501708775667,0.079817423744998,1.38986186874948,23.2975440293019,38.4988207656092,42.0606585992063,40.9882973367088,40.6176366684821,39.9500140587995,41.283706367251,41.283706367251,41.283706367251,0],\"fFunctions\":{\"_typename\":\"TList\",\"name\":\"TList\",\"arr\":[],\"opt\":[]},\"fHistogram\":{\"_typename\":\"TH1F\",\"fUniqueID\":0,\"fBits\":50332168,\"fName\":\"phiSDMETotalPDF0_Int[HelCosTh,HelPhi,Pol,PolState]_Norm[HelCosTh,HelPhi,MesonPhi,Pol,PolState]_Comp[PhiSDME]\",\"fTitle\":\"Projection of total model\",\"fLineColor\":602,\"fLineStyle\":1,\"fLineWidth\":1,\"fFillColor\":0,\"fFillStyle\":1001,\"fMarkerColor\":1,\"fMarkerStyle\":1,\"fMarkerSize\":1,\"fNcells\":108,\"fXaxis\":{\"_typename\":\"TAxis\",\"fUniqueID\":0,\"fBits\":50331648,\"fName\":\"xaxis\",\"fTitle\":\"\",\"fNdivisions\":510,\"fAxisColor\":1,\"fLabelColor\":1,\"fLabelFont\":42,\"fLabelOffset\":0.005,\"fLabelSize\":0.035,\"fTickLength\":0.03,\"fTitleOffset\":1,\"fTitleSize\":0.035,\"fTitleColor\":1,\"fTitleFont\":42,\"fNbins\":106,\"fXmin\":-3.8453184,\"fXmax\":3.8453184,\"fXbins\":[],\"fFirst\":0,\"fLast\":0,\"fBits2\":0,\"fTimeDisplay\":false,\"fTimeFormat\":\"\",\"fLabels\":null,\"fModLabs\":null},\"fYaxis\":{\"_typename\":\"TAxis\",\"fUniqueID\":0,\"fBits\":50331648,\"fName\":\"yaxis\",\"fTitle\":\"\",\"fNdivisions\":510,\"fAxisColor\":1,\"fLabelColor\":1,\"fLabelFont\":42,\"fLabelOffset\":0.005,\"fLabelSize\":0.035,\"fTickLength\":0.03,\"fTitleOffset\":0,\"fTitleSize\":0.035,\"fTitleColor\":1,\"fTitleFont\":42,\"fNbins\":1,\"fXmin\":0,\"fXmax\":60.4806862530603,\"fXbins\":[],\"fFirst\":0,\"fLast\":0,\"fBits2\":0,\"fTimeDisplay\":false,\"fTimeFormat\":\"\",\"fLabels\":null,\"fModLabs\":null},\"fZaxis\":{\"_typename\":\"TAxis\",\"fUniqueID\":0,\"fBits\":50331648,\"fName\":\"zaxis\",\"fTitle\":\"\",\"fNdivisions\":510,\"fAxisColor\":1,\"fLabelColor\":1,\"fLabelFont\":42,\"fLabelOffset\":0.005,\"fLabelSize\":0.035,\"fTickLength\":0.03,\"fTitleOffset\":1,\"fTitleSize\":0.035,\"fTitleColor\":1,\"fTitleFont\":42,\"fNbins\":1,\"fXmin\":0,\"fXmax\":1,\"fXbins\":[],\"fFirst\":0,\"fLast\":0,\"fBits2\":0,\"fTimeDisplay\":false,\"fTimeFormat\":\"\",\"fLabels\":null,\"fModLabs\":null},\"fBarOffset\":0,\"fBarWidth\":1000,\"fEntries\":0,\"fTsumw\":0,\"fTsumw2\":0,\"fTsumwx\":0,\"fTsumwx2\":0,\"fMaximum\":60.4806862530603,\"fMinimum\":0,\"fNormFactor\":0,\"fContour\":[],\"fSumw2\":[],\"fOption\":\"\",\"fFunctions\":{\"_typename\":\"TList\",\"name\":\"TList\",\"arr\":[],\"opt\":[]},\"fBufferSize\":0,\"fBuffer\":[],\"fBinStatErrOpt\":0,\"fStatOverflows\":2,\"fArray\":[0,0,0,0,0,0,0,0,0,0,0,0,0,0,0,0,0,0,0,0,0,0,0,0,0,0,0,0,0,0,0,0,0,0,0,0,0,0,0,0,0,0,0,0,0,0,0,0,0,0,0,0,0,0,0,0,0,0,0,0,0,0,0,0,0,0,0,0,0,0,0,0,0,0,0,0,0,0,0,0,0,0,0,0,0,0,0,0,0,0,0,0,0,0,0,0,0,0,0,0,0,0,0,0,0,0,0,0]},\"fMinimum\":-1111,\"fMaximum\":-1111,\"_yAxisLabel\":\"Projection of total model\",\"_ymin\":0,\"_ymax\":54.9824420482366,\"_normValue\":0},{\"$ref\":3},{\"_typename\":\"TPaveText\",\"fUniqueID\":0,\"fBits\":50331657,\"fLineColor\":1,\"fLineStyle\":1,\"fLineWidth\":1,\"fFillColor\":0,\"fFillStyle\":0,\"fX1\":-1.97433313286813,\"fY1\":97.7264754654271,\"fX2\":1.97433313286813,\"fY2\":105.553722195222,\"fX1NDC\":0.248620689655172,\"fY1NDC\":0.933983055615829,\"fX2NDC\":0.751379310344828,\"fY2NDC\":0.995000004768372,\"fBorderSize\":0,\"fInit\":1,\"fShadowColor\":1,\"fCornerRadius\":0,\"fOption\":\"blNDC\",\"fName\":\"title\",\"fTextAngle\":0,\"fTextSize\":0,\"fTextAlign\":22,\"fTextColor\":1,\"fTextFont\":42,\"fLabel\":\"\",\"fLongest\":27,\"fMargin\":0.05,\"fLines\":{\"_typename\":\"TList\",\"name\":\"TList\",\"arr\":[{\"_typename\":\"TLatex\",\"fUniqueID\":0,\"fBits\":50331648,\"fName\":\"\",\"fTitle\":\"Fit components for MesonPhi\",\"fTextAngle\":0,\"fTextSize\":0,\"fTextAlign\":0,\"fTextColor\":0,\"fTextFont\":0,\"fX\":0,\"fY\":0,\"fLineColor\":1,\"fLineStyle\":1,\"fLineWidth\":2,\"fLimitFactorSize\":3,\"fOriginSize\":0.0518644079566002}],\"opt\":[\"\"]}}],\"opt\":[\"\",\"FUNC\",\"p\",\"l\",\"BRNDC\",\"l\",\"AXISSAME\",\"blNDC\"]},\"fExecs\":null,\"fName\":\"phiSDMEMesonPhi1\",\"fTitle\":\"phiSDMEMesonPhi\",\"fNumPaletteColor\":0,\"fNextPaletteColor\":0,\"fDISPLAY\":\"$DISPLAY\",\"fDoubleBuffer\":0,\"fRetained\":true,\"fXsizeUser\":0,\"fYsizeUser\":0,\"fXsizeReal\":20,\"fYsizeReal\":14.28571,\"fWindowTopX\":0,\"fWindowTopY\":0,\"fWindowWidth\":0,\"fWindowHeight\":0,\"fCw\":696,\"fCh\":472,\"fCatt\":{\"_typename\":\"TAttCanvas\",\"fXBetween\":2,\"fYBetween\":2,\"fTitleFromTop\":1.2,\"fXdate\":0.2,\"fYdate\":0.3,\"fAdate\":1},\"kMoveOpaque\":true,\"kResizeOpaque\":true,\"fHighLightColor\":2,\"fBatch\":true,\"kShowEventStatus\":false,\"kAutoExec\":true,\"kMenuBar\":true});\n",
       "       Core.draw(\"root_plot_1\", obj, \"\");\n",
       "     }\n",
       " );\n",
       "</script>\n"
      ],
      "text/plain": [
       "<IPython.core.display.HTML object>"
      ]
     },
     "metadata": {},
     "output_type": "display_data"
    }
   ],
   "source": [
    "((TCanvas*)RF->GetPlots()->At(0))->Draw()"
   ]
  },
  {
   "cell_type": "code",
   "execution_count": 15,
   "metadata": {},
   "outputs": [
    {
     "data": {
      "text/html": [
       "\n",
       "<div id=\"root_plot_2\"\n",
       "     style=\"width: 696px; height: 472px\">\n",
       "</div>\n",
       "\n",
       "<script>\n",
       " requirejs.config({\n",
       "     paths: {\n",
       "       'JSRootCore' : 'https://root.cern.ch/js/notebook//scripts/JSRootCore',\n",
       "     }\n",
       "   });\n",
       " require(['JSRootCore'],\n",
       "     function(Core) {\n",
       "       var obj = Core.JSONR_unref({\"_typename\":\"TCanvas\",\"fUniqueID\":0,\"fBits\":53673992,\"fLineColor\":1,\"fLineStyle\":1,\"fLineWidth\":1,\"fFillColor\":0,\"fFillStyle\":1001,\"fLeftMargin\":0.1,\"fRightMargin\":0.1,\"fBottomMargin\":0.1,\"fTopMargin\":0.1,\"fXfile\":2,\"fYfile\":2,\"fAfile\":1,\"fXstat\":0.99,\"fYstat\":0.99,\"fAstat\":2,\"fFrameFillColor\":0,\"fFrameLineColor\":1,\"fFrameFillStyle\":1001,\"fFrameLineStyle\":1,\"fFrameLineWidth\":1,\"fFrameBorderSize\":1,\"fFrameBorderMode\":0,\"fX1\":-1.25000001862645,\"fY1\":-36.3849341312273,\"fX2\":1.25000001862645,\"fY2\":104.719474736575,\"fXtoAbsPixelk\":348.00005,\"fXtoPixelk\":348.00005,\"fXtoPixel\":278.399995851517,\"fYtoAbsPixelk\":350.290962043514,\"fYtoPixelk\":350.290962043514,\"fYtoPixel\":-3.34504076653061,\"fUtoAbsPixelk\":5e-5,\"fUtoPixelk\":5e-5,\"fUtoPixel\":696,\"fVtoAbsPixelk\":472.00005,\"fVtoPixelk\":472,\"fVtoPixel\":-472,\"fAbsPixeltoXk\":-1.25000001862645,\"fPixeltoXk\":-1.25000001862645,\"fPixeltoX\":0.00359195407651279,\"fAbsPixeltoYk\":104.719474736575,\"fPixeltoYk\":-36.3849341312273,\"fPixeltoY\":-0.298950018787716,\"fXlowNDC\":0,\"fYlowNDC\":0,\"fXUpNDC\":0,\"fYUpNDC\":0,\"fWNDC\":1,\"fHNDC\":1,\"fAbsXlowNDC\":0,\"fAbsYlowNDC\":0,\"fAbsWNDC\":1,\"fAbsHNDC\":1,\"fUxmin\":-1,\"fUymin\":-22.2744924033992,\"fUxmax\":1,\"fUymax\":90.6090330087465,\"fTheta\":30,\"fPhi\":30,\"fAspectRatio\":0,\"fNumber\":0,\"fTickx\":0,\"fTicky\":0,\"fLogx\":0,\"fLogy\":0,\"fLogz\":0,\"fPadPaint\":0,\"fCrosshair\":0,\"fCrosshairPos\":0,\"fBorderSize\":2,\"fBorderMode\":0,\"fModified\":false,\"fGridx\":false,\"fGridy\":false,\"fAbsCoord\":false,\"fEditable\":true,\"fFixedAspectRatio\":false,\"fPrimitives\":{\"_typename\":\"TList\",\"name\":\"TList\",\"arr\":[{\"_typename\":\"TFrame\",\"fUniqueID\":0,\"fBits\":50331656,\"fLineColor\":1,\"fLineStyle\":1,\"fLineWidth\":1,\"fFillColor\":0,\"fFillStyle\":1001,\"fX1\":-1,\"fY1\":-22.2744924033992,\"fX2\":1,\"fY2\":90.6090330087465,\"fBorderSize\":1,\"fBorderMode\":0},{\"_typename\":\"TH1D\",\"fUniqueID\":0,\"fBits\":50332168,\"fName\":\"frame_7f06d3b1f340\",\"fTitle\":\"Fit components for HelCosTh\",\"fLineColor\":602,\"fLineStyle\":1,\"fLineWidth\":1,\"fFillColor\":0,\"fFillStyle\":1001,\"fMarkerColor\":1,\"fMarkerStyle\":1,\"fMarkerSize\":1,\"fNcells\":102,\"fXaxis\":{\"_typename\":\"TAxis\",\"fUniqueID\":0,\"fBits\":50331648,\"fName\":\"xaxis\",\"fTitle\":\"HelCosTh\",\"fNdivisions\":510,\"fAxisColor\":1,\"fLabelColor\":1,\"fLabelFont\":42,\"fLabelOffset\":0.005,\"fLabelSize\":0.035,\"fTickLength\":0.03,\"fTitleOffset\":1,\"fTitleSize\":0.035,\"fTitleColor\":1,\"fTitleFont\":42,\"fNbins\":100,\"fXmin\":-1,\"fXmax\":1,\"fXbins\":[],\"fFirst\":0,\"fLast\":0,\"fBits2\":0,\"fTimeDisplay\":false,\"fTimeFormat\":\"\",\"fLabels\":null,\"fModLabs\":null},\"fYaxis\":{\"_typename\":\"TAxis\",\"fUniqueID\":0,\"fBits\":50331648,\"fName\":\"yaxis\",\"fTitle\":\"Events \\/ ( 0.02 )\",\"fNdivisions\":510,\"fAxisColor\":1,\"fLabelColor\":1,\"fLabelFont\":42,\"fLabelOffset\":0.005,\"fLabelSize\":0.035,\"fTickLength\":0.03,\"fTitleOffset\":0,\"fTitleSize\":0.035,\"fTitleColor\":1,\"fTitleFont\":42,\"fNbins\":1,\"fXmin\":0,\"fXmax\":1,\"fXbins\":[],\"fFirst\":0,\"fLast\":0,\"fBits2\":0,\"fTimeDisplay\":false,\"fTimeFormat\":\"\",\"fLabels\":null,\"fModLabs\":null},\"fZaxis\":{\"_typename\":\"TAxis\",\"fUniqueID\":0,\"fBits\":50331648,\"fName\":\"zaxis\",\"fTitle\":\"\",\"fNdivisions\":510,\"fAxisColor\":1,\"fLabelColor\":1,\"fLabelFont\":42,\"fLabelOffset\":0.005,\"fLabelSize\":0.035,\"fTickLength\":0.03,\"fTitleOffset\":1,\"fTitleSize\":0.035,\"fTitleColor\":1,\"fTitleFont\":42,\"fNbins\":1,\"fXmin\":0,\"fXmax\":1,\"fXbins\":[],\"fFirst\":0,\"fLast\":0,\"fBits2\":0,\"fTimeDisplay\":false,\"fTimeFormat\":\"\",\"fLabels\":null,\"fModLabs\":null},\"fBarOffset\":0,\"fBarWidth\":1000,\"fEntries\":1,\"fTsumw\":0,\"fTsumw2\":0,\"fTsumwx\":0,\"fTsumwx2\":0,\"fMaximum\":90.6090330087465,\"fMinimum\":-22.2744924033992,\"fNormFactor\":0,\"fContour\":[],\"fSumw2\":[],\"fOption\":\"\",\"fFunctions\":{\"_typename\":\"TList\",\"name\":\"TList\",\"arr\":[],\"opt\":[]},\"fBufferSize\":0,\"fBuffer\":[],\"fBinStatErrOpt\":0,\"fStatOverflows\":2,\"fArray\":[0,90.6090330087465,0,0,0,0,0,0,0,0,0,0,0,0,0,0,0,0,0,0,0,0,0,0,0,0,0,0,0,0,0,0,0,0,0,0,0,0,0,0,0,0,0,0,0,0,0,0,0,0,0,0,0,0,0,0,0,0,0,0,0,0,0,0,0,0,0,0,0,0,0,0,0,0,0,0,0,0,0,0,0,0,0,0,0,0,0,0,0,0,0,0,0,0,0,0,0,0,0,0,0,0]},{\"_typename\":\"RooHist\",\"fUniqueID\":0,\"fBits\":50332680,\"fName\":\"h_Weight_Phinewtree\",\"fTitle\":\"Histogram of Weight_Phinewtree_plot__HelCosTh\",\"fLineColor\":1,\"fLineStyle\":1,\"fLineWidth\":1,\"fFillColor\":0,\"fFillStyle\":1000,\"fMarkerColor\":1,\"fMarkerStyle\":8,\"fMarkerSize\":1,\"fNpoints\":100,\"fX\":[-0.99,-0.97,-0.95,-0.93,-0.91,-0.89,-0.87,-0.85,-0.83,-0.81,-0.79,-0.77,-0.75,-0.73,-0.71,-0.69,-0.67,-0.65,-0.63,-0.61,-0.59,-0.57,-0.55,-0.53,-0.51,-0.49,-0.47,-0.45,-0.43,-0.41,-0.39,-0.37,-0.35,-0.33,-0.31,-0.29,-0.27,-0.25,-0.23,-0.21,-0.19,-0.17,-0.15,-0.13,-0.11,-0.09,-0.07,-0.0499999999999999,-0.03,-0.01,0.01,0.03,0.05,0.07,0.0900000000000001,0.11,0.13,0.15,0.17,0.19,0.21,0.23,0.25,0.27,0.29,0.31,0.33,0.35,0.37,0.39,0.41,0.43,0.45,0.47,0.49,0.51,0.53,0.55,0.57,0.59,0.61,0.63,0.65,0.67,0.69,0.71,0.73,0.75,0.77,0.79,0.81,0.83,0.85,0.87,0.89,0.91,0.93,0.95,0.97,0.99],\"fY\":[57.0409927368164,38.1058120727539,54.22265625,70.297492980957,53.4677505493164,65.3591766357422,38.6740608215332,66.1580505371094,42.8210983276367,52.1000518798828,39.888973236084,36.6031074523926,68.7065658569336,26.952335357666,44.003776550293,34.0386924743652,41.6662826538086,51.2762298583984,72.1509246826172,50.1587448120117,43.9091453552246,35.5334320068359,40.2351226806641,38.6463241577148,32.0320167541504,39.7515487670898,39.5359992980957,27.3021450042725,17.0310497283936,30.0732936859131,50.1249885559082,37.3640518188477,39.2949485778809,24.0673408508301,26.4993019104004,34.9162635803223,30.6916580200195,30.5020503997803,27.4299964904785,14.1663150787354,14.9078884124756,10.5002508163452,39.848690032959,22.8948078155518,30.6265830993652,16.3731994628906,19.411828994751,32.0689353942871,-7.50586891174316,3.76862192153931,16.3133563995361,18.7100391387939,42.645881652832,34.3605194091797,32.649658203125,11.5033493041992,16.6924419403076,10.9425706863403,29.8873901367188,30.5604381561279,36.1310882568359,20.9022560119629,19.4090023040771,23.145055770874,18.1980609893799,65.1369476318359,39.1238288879395,29.9702186584473,23.5414733886719,40.4539184570312,43.2501525878906,49.8106079101562,33.0249443054199,29.7594909667969,32.8821678161621,32.8419952392578,27.3177890777588,20.7395095825195,38.3366203308105,13.1172904968262,46.1940650939941,16.065544128418,16.0115985870361,20.6172504425049,24.6038246154785,52.7170066833496,51.7233200073242,36.5256423950195,30.5364818572998,36.6094017028809,24.5242824554443,25.2795372009277,19.8286399841309,39.7331771850586,32.6704025268555,28.4534606933594,19.5631008148193,35.3116035461426,32.0003814697266,15.0924558639526],\"fFunctions\":{\"_typename\":\"TList\",\"name\":\"TList\",\"arr\":[],\"opt\":[]},\"fHistogram\":{\"_typename\":\"TH1F\",\"fUniqueID\":0,\"fBits\":50332168,\"fName\":\"h_Weight_Phinewtree\",\"fTitle\":\"Histogram of Weight_Phinewtree_plot__HelCosTh\",\"fLineColor\":602,\"fLineStyle\":1,\"fLineWidth\":1,\"fFillColor\":0,\"fFillStyle\":1001,\"fMarkerColor\":1,\"fMarkerStyle\":1,\"fMarkerSize\":1,\"fNcells\":102,\"fXaxis\":{\"_typename\":\"TAxis\",\"fUniqueID\":0,\"fBits\":50331648,\"fName\":\"xaxis\",\"fTitle\":\"\",\"fNdivisions\":510,\"fAxisColor\":1,\"fLabelColor\":1,\"fLabelFont\":42,\"fLabelOffset\":0.005,\"fLabelSize\":0.035,\"fTickLength\":0.03,\"fTitleOffset\":1,\"fTitleSize\":0.035,\"fTitleColor\":1,\"fTitleFont\":42,\"fNbins\":100,\"fXmin\":-1.2,\"fXmax\":1.2,\"fXbins\":[],\"fFirst\":0,\"fLast\":0,\"fBits2\":0,\"fTimeDisplay\":false,\"fTimeFormat\":\"\",\"fLabels\":null,\"fModLabs\":null},\"fYaxis\":{\"_typename\":\"TAxis\",\"fUniqueID\":0,\"fBits\":50331648,\"fName\":\"yaxis\",\"fTitle\":\"\",\"fNdivisions\":510,\"fAxisColor\":1,\"fLabelColor\":1,\"fLabelFont\":42,\"fLabelOffset\":0.005,\"fLabelSize\":0.035,\"fTickLength\":0.03,\"fTitleOffset\":0,\"fTitleSize\":0.035,\"fTitleColor\":1,\"fTitleFont\":42,\"fNbins\":1,\"fXmin\":-27.405561740315,\"fXmax\":95.7401023456622,\"fXbins\":[],\"fFirst\":0,\"fLast\":0,\"fBits2\":0,\"fTimeDisplay\":false,\"fTimeFormat\":\"\",\"fLabels\":null,\"fModLabs\":null},\"fZaxis\":{\"_typename\":\"TAxis\",\"fUniqueID\":0,\"fBits\":50331648,\"fName\":\"zaxis\",\"fTitle\":\"\",\"fNdivisions\":510,\"fAxisColor\":1,\"fLabelColor\":1,\"fLabelFont\":42,\"fLabelOffset\":0.005,\"fLabelSize\":0.035,\"fTickLength\":0.03,\"fTitleOffset\":1,\"fTitleSize\":0.035,\"fTitleColor\":1,\"fTitleFont\":42,\"fNbins\":1,\"fXmin\":0,\"fXmax\":1,\"fXbins\":[],\"fFirst\":0,\"fLast\":0,\"fBits2\":0,\"fTimeDisplay\":false,\"fTimeFormat\":\"\",\"fLabels\":null,\"fModLabs\":null},\"fBarOffset\":0,\"fBarWidth\":1000,\"fEntries\":0,\"fTsumw\":0,\"fTsumw2\":0,\"fTsumwx\":0,\"fTsumwx2\":0,\"fMaximum\":95.7401023456622,\"fMinimum\":-27.405561740315,\"fNormFactor\":0,\"fContour\":[],\"fSumw2\":[],\"fOption\":\"\",\"fFunctions\":{\"_typename\":\"TList\",\"name\":\"TList\",\"arr\":[],\"opt\":[]},\"fBufferSize\":0,\"fBuffer\":[],\"fBinStatErrOpt\":0,\"fStatOverflows\":2,\"fArray\":[0,0,0,0,0,0,0,0,0,0,0,0,0,0,0,0,0,0,0,0,0,0,0,0,0,0,0,0,0,0,0,0,0,0,0,0,0,0,0,0,0,0,0,0,0,0,0,0,0,0,0,0,0,0,0,0,0,0,0,0,0,0,0,0,0,0,0,0,0,0,0,0,0,0,0,0,0,0,0,0,0,0,0,0,0,0,0,0,0,0,0,0,0,0,0,0,0,0,0,0,0,0]},\"fMinimum\":-1111,\"fMaximum\":-1111,\"fEXlow\":[0.01,0.01,0.01,0.01,0.01,0.01,0.01,0.01,0.01,0.01,0.01,0.01,0.01,0.01,0.01,0.01,0.01,0.01,0.01,0.01,0.01,0.01,0.01,0.01,0.01,0.01,0.01,0.01,0.01,0.01,0.01,0.01,0.01,0.01,0.01,0.01,0.01,0.01,0.01,0.01,0.01,0.01,0.01,0.01,0.01,0.01,0.01,0.01,0.01,0.01,0.01,0.01,0.01,0.01,0.01,0.01,0.01,0.01,0.01,0.01,0.01,0.01,0.01,0.01,0.01,0.01,0.01,0.01,0.01,0.01,0.01,0.01,0.01,0.01,0.01,0.01,0.01,0.01,0.01,0.01,0.01,0.01,0.01,0.01,0.01,0.01,0.01,0.01,0.01,0.01,0.01,0.01,0.01,0.01,0.01,0.01,0.01,0.01,0.01,0.01],\"fEXhigh\":[0.01,0.01,0.01,0.01,0.01,0.01,0.01,0.01,0.01,0.01,0.01,0.01,0.01,0.01,0.01,0.01,0.01,0.01,0.01,0.01,0.01,0.01,0.01,0.01,0.01,0.01,0.01,0.01,0.01,0.01,0.01,0.01,0.01,0.01,0.01,0.01,0.01,0.01,0.01,0.01,0.01,0.01,0.01,0.01,0.01,0.01,0.01,0.01,0.01,0.01,0.01,0.01,0.01,0.01,0.01,0.01,0.01,0.01,0.01,0.01,0.01,0.01,0.01,0.01,0.01,0.01,0.01,0.01,0.01,0.01,0.01,0.01,0.01,0.01,0.01,0.01,0.01,0.01,0.01,0.01,0.01,0.01,0.01,0.01,0.01,0.01,0.01,0.01,0.01,0.01,0.01,0.01,0.01,0.01,0.01,0.01,0.01,0.01,0.01,0.01],\"fEYlow\":[12.9881781821146,11.5264268106586,12.3892489832631,13.6387744238117,11.9853512157468,13.0617745136711,11.5210933595768,13.2044401275519,11.7472913300655,12.4123094118648,12.2791891931363,11.6001180752722,13.5023268021921,11.108097873667,12.204992069067,11.9946762353284,11.3388091081703,12.4213694842121,13.3270389892136,11.1847480782628,12.2609522102566,11.4078269561632,11.9167283626609,11.5600799411663,11.8662301721223,11.3135387185047,12.3029898329993,10.8585630401141,10.6624850584858,11.2907183989267,12.9628840275228,11.6760729747327,11.5954970010473,11.2317422787972,10.8225486949205,11.3040675423722,11.6031402219052,11.5207793834433,12.4945510265342,10.8975863851077,10.2860735171863,10.9091785604149,11.9059325883262,10.6922423086021,11.2676683526075,10.9666083669819,11.0251509243981,12.332393562146,9.63755415474036,9.68494366376195,10.7876412976702,11.176298726756,11.6159169375652,10.9983936531948,10.9731286961671,10.6363396041097,11.0237548930357,10.1517057126765,10.6517555519672,10.0635865781748,11.3349929376243,10.5307302848361,10.4272979437329,10.1725981726919,9.36251624249885,12.6836918994214,10.599921502747,10.0271447378751,10.1620388623919,11.0620031592952,11.3167349106001,11.381272967796,9.85771163004237,10.6360412397447,10.5462293546694,10.9073305986287,11.2560369830799,9.85498328688986,10.5679249915803,10.1719580969227,11.9501775181709,9.7052639713339,10.348133048423,9.94852454778164,10.8929538740166,11.9517830108799,12.3794227432408,11.3132690027538,10.9234520009717,10.904846860401,10.8343249036161,10.6399178213874,10.4295682733897,11.179733419103,10.8072953524714,10.7728668880063,10.771472653751,11.5018251331079,11.3671702981824,11.1295832360824],\"fEYhigh\":[12.9881781821146,11.5264268106586,12.3892489832631,13.6387744238117,11.9853512157468,13.0617745136711,11.5210933595768,13.2044401275519,11.7472913300655,12.4123094118648,12.2791891931363,11.6001180752722,13.5023268021921,11.108097873667,12.204992069067,11.9946762353284,11.3388091081703,12.4213694842121,13.3270389892136,11.1847480782628,12.2609522102566,11.4078269561632,11.9167283626609,11.5600799411663,11.8662301721223,11.3135387185047,12.3029898329993,10.8585630401141,10.6624850584858,11.2907183989267,12.9628840275228,11.6760729747327,11.5954970010473,11.2317422787972,10.8225486949205,11.3040675423722,11.6031402219052,11.5207793834433,12.4945510265342,10.8975863851077,10.2860735171863,10.9091785604149,11.9059325883262,10.6922423086021,11.2676683526075,10.9666083669819,11.0251509243981,12.332393562146,9.63755415474036,9.68494366376195,10.7876412976702,11.176298726756,11.6159169375652,10.9983936531948,10.9731286961671,10.6363396041097,11.0237548930357,10.1517057126765,10.6517555519672,10.0635865781748,11.3349929376243,10.5307302848361,10.4272979437329,10.1725981726919,9.36251624249885,12.6836918994214,10.599921502747,10.0271447378751,10.1620388623919,11.0620031592952,11.3167349106001,11.381272967796,9.85771163004237,10.6360412397447,10.5462293546694,10.9073305986287,11.2560369830799,9.85498328688986,10.5679249915803,10.1719580969227,11.9501775181709,9.7052639713339,10.348133048423,9.94852454778164,10.8929538740166,11.9517830108799,12.3794227432408,11.3132690027538,10.9234520009717,10.904846860401,10.8343249036161,10.6399178213874,10.4295682733897,11.179733419103,10.8072953524714,10.7728668880063,10.771472653751,11.5018251331079,11.3671702981824,11.1295832360824],\"_yAxisLabel\":\"Events \\/ ( 0.02 )\",\"_ymin\":-17.1434230664835,\"_ymax\":85.4779636718308,\"_normValue\":0,\"_nominalBinWidth\":0.02,\"_nSigma\":1,\"_entries\":3331.11394643784,\"_rawEntries\":-1},{\"_typename\":\"RooCurve\",\"fUniqueID\":0,\"fBits\":50332680,\"fName\":\"phiSDMETotalPDF0_Int[HelPhi,MesonPhi,Pol,PolState]_Norm[HelCosTh,HelPhi,MesonPhi,Pol,PolState]\",\"fTitle\":\"Projection of total model\",\"fLineColor\":632,\"fLineStyle\":1,\"fLineWidth\":3,\"fFillColor\":0,\"fFillStyle\":1000,\"fMarkerColor\":1,\"fMarkerStyle\":1,\"fMarkerSize\":1,\"fNpoints\":106,\"fX\":[-1.02,-1.02,-1,-0.98,-0.96,-0.94,-0.92,-0.9,-0.88,-0.86,-0.84,-0.82,-0.8,-0.78,-0.76,-0.74,-0.72,-0.7,-0.68,-0.66,-0.64,-0.62,-0.6,-0.58,-0.56,-0.54,-0.52,-0.5,-0.48,-0.46,-0.44,-0.42,-0.4,-0.38,-0.36,-0.34,-0.32,-0.3,-0.28,-0.26,-0.24,-0.22,-0.2,-0.18,-0.16,-0.14,-0.12,-0.1,-0.08,-0.0599999999999999,-0.04,-0.02,0,0.02,0.04,0.0600000000000001,0.0800000000000001,0.1,0.12,0.14,0.16,0.18,0.2,0.22,0.24,0.26,0.28,0.3,0.32,0.34,0.36,0.38,0.4,0.42,0.44,0.46,0.48,0.5,0.52,0.54,0.56,0.58,0.6,0.62,0.64,0.66,0.68,0.7,0.72,0.74,0.76,0.78,0.8,0.82,0.84,0.86,0.88,0.9,0.92,0.94,0.96,0.98,1,1,1.02,1.02],\"fY\":[0,53.1883437593522,53.1883437593522,50.7417718847999,48.9306207037244,47.355819883428,46.0774630570269,45.7033296397122,44.1355611590445,42.6785968512235,42.3804346157051,41.3554437225629,40.5356806049732,39.8982951395533,38.5086211580238,37.0189704160787,38.1480718103531,37.3944012303292,36.3495907935945,35.5468307974584,35.9781717000034,35.9034680326799,35.1730086558001,34.6439545894127,33.4091838255191,34.1582699376761,34.0155214118701,33.0643202807242,32.7209583296957,33.0834824101304,32.66215960331,31.9748629540451,31.8943944615656,31.1920395411482,31.161078819263,30.3993748370995,30.7727636830441,30.0598901356467,30.2703348912,30.3441470650437,29.9954959180621,29.7463882357824,28.9426271771354,29.1302890448477,28.5520335031118,28.4455498363756,27.5245598753344,27.823339681755,27.627385430557,27.0782154861524,27.0681724883753,26.2992145383157,26.2420742886272,26.6200874457228,26.7097995800939,26.2302732059429,25.8492170180305,25.5847970636626,25.2440797106106,25.6729727413938,25.5504895059201,25.7201820525415,25.3183451018099,24.480500603893,25.0862654430362,24.9796597562427,25.2614140293625,25.4471808508788,24.7939427388313,26.200189036306,25.9072861142776,26.2471742289811,25.7402356754275,27.2091778705056,27.384724889672,27.7357193197948,28.130765480807,28.8853325347213,28.9368623519794,29.5761652754425,30.1737771825941,30.2320654169033,31.0671731792493,31.0118383283678,31.7070712617674,32.6416328414264,32.2910144322965,32.8838974396765,34.6926530433005,35.1074315907213,36.0114109596932,37.9240031418718,37.947363757331,38.8254175994351,39.5400093884558,42.3985035450061,43.4637187235671,45.0019234874954,45.1472020618364,48.1645289799087,49.6126929023727,51.576543469437,52.9576561253138,52.9576561253138,52.9576561253138,0],\"fFunctions\":{\"_typename\":\"TList\",\"name\":\"TList\",\"arr\":[],\"opt\":[]},\"fHistogram\":{\"_typename\":\"TH1F\",\"fUniqueID\":0,\"fBits\":50332168,\"fName\":\"phiSDMETotalPDF0_Int[HelPhi,MesonPhi,Pol,PolState]_Norm[HelCosTh,HelPhi,MesonPhi,Pol,PolState]\",\"fTitle\":\"Projection of total model\",\"fLineColor\":602,\"fLineStyle\":1,\"fLineWidth\":1,\"fFillColor\":0,\"fFillStyle\":1001,\"fMarkerColor\":1,\"fMarkerStyle\":1,\"fMarkerSize\":1,\"fNcells\":108,\"fXaxis\":{\"_typename\":\"TAxis\",\"fUniqueID\":0,\"fBits\":50331648,\"fName\":\"xaxis\",\"fTitle\":\"\",\"fNdivisions\":510,\"fAxisColor\":1,\"fLabelColor\":1,\"fLabelFont\":42,\"fLabelOffset\":0.005,\"fLabelSize\":0.035,\"fTickLength\":0.03,\"fTitleOffset\":1,\"fTitleSize\":0.035,\"fTitleColor\":1,\"fTitleFont\":42,\"fNbins\":106,\"fXmin\":-1.224,\"fXmax\":1.224,\"fXbins\":[],\"fFirst\":0,\"fLast\":0,\"fBits2\":0,\"fTimeDisplay\":false,\"fTimeFormat\":\"\",\"fLabels\":null,\"fModLabs\":null},\"fYaxis\":{\"_typename\":\"TAxis\",\"fUniqueID\":0,\"fBits\":50331648,\"fName\":\"yaxis\",\"fTitle\":\"\",\"fNdivisions\":510,\"fAxisColor\":1,\"fLabelColor\":1,\"fLabelFont\":42,\"fLabelOffset\":0.005,\"fLabelSize\":0.035,\"fTickLength\":0.03,\"fTitleOffset\":0,\"fTitleSize\":0.035,\"fTitleColor\":1,\"fTitleFont\":42,\"fNbins\":1,\"fXmin\":0,\"fXmax\":58.5071781352874,\"fXbins\":[],\"fFirst\":0,\"fLast\":0,\"fBits2\":0,\"fTimeDisplay\":false,\"fTimeFormat\":\"\",\"fLabels\":null,\"fModLabs\":null},\"fZaxis\":{\"_typename\":\"TAxis\",\"fUniqueID\":0,\"fBits\":50331648,\"fName\":\"zaxis\",\"fTitle\":\"\",\"fNdivisions\":510,\"fAxisColor\":1,\"fLabelColor\":1,\"fLabelFont\":42,\"fLabelOffset\":0.005,\"fLabelSize\":0.035,\"fTickLength\":0.03,\"fTitleOffset\":1,\"fTitleSize\":0.035,\"fTitleColor\":1,\"fTitleFont\":42,\"fNbins\":1,\"fXmin\":0,\"fXmax\":1,\"fXbins\":[],\"fFirst\":0,\"fLast\":0,\"fBits2\":0,\"fTimeDisplay\":false,\"fTimeFormat\":\"\",\"fLabels\":null,\"fModLabs\":null},\"fBarOffset\":0,\"fBarWidth\":1000,\"fEntries\":0,\"fTsumw\":0,\"fTsumw2\":0,\"fTsumwx\":0,\"fTsumwx2\":0,\"fMaximum\":58.5071781352874,\"fMinimum\":0,\"fNormFactor\":0,\"fContour\":[],\"fSumw2\":[],\"fOption\":\"\",\"fFunctions\":{\"_typename\":\"TList\",\"name\":\"TList\",\"arr\":[],\"opt\":[]},\"fBufferSize\":0,\"fBuffer\":[],\"fBinStatErrOpt\":0,\"fStatOverflows\":2,\"fArray\":[0,0,0,0,0,0,0,0,0,0,0,0,0,0,0,0,0,0,0,0,0,0,0,0,0,0,0,0,0,0,0,0,0,0,0,0,0,0,0,0,0,0,0,0,0,0,0,0,0,0,0,0,0,0,0,0,0,0,0,0,0,0,0,0,0,0,0,0,0,0,0,0,0,0,0,0,0,0,0,0,0,0,0,0,0,0,0,0,0,0,0,0,0,0,0,0,0,0,0,0,0,0,0,0,0,0,0,0]},\"fMinimum\":-1111,\"fMaximum\":-1111,\"_yAxisLabel\":\"Projection of total model\",\"_ymin\":0,\"_ymax\":53.1883437593522,\"_normValue\":0},{\"_typename\":\"TPaveText\",\"fUniqueID\":0,\"fBits\":50331656,\"fLineColor\":1,\"fLineStyle\":1,\"fLineWidth\":1,\"fFillColor\":0,\"fFillStyle\":1001,\"fX1\":-1.00000001490116,\"fY1\":5.94638852911324,\"fX2\":-0.250000003725291,\"fY2\":90.6090338497944,\"fX1NDC\":0.1,\"fY1NDC\":0.3,\"fX2NDC\":0.4,\"fY2NDC\":0.9,\"fBorderSize\":1,\"fInit\":1,\"fShadowColor\":1,\"fCornerRadius\":0,\"fOption\":\"BRNDC\",\"fName\":\"phiSDMETotalPDF0_paramBox\",\"fTextAngle\":0,\"fTextSize\":0.04,\"fTextAlign\":12,\"fTextColor\":1,\"fTextFont\":62,\"fLabel\":\"\",\"fLongest\":30,\"fMargin\":0.05,\"fLines\":{\"_typename\":\"TList\",\"name\":\"TList\",\"arr\":[{\"_typename\":\"TLatex\",\"fUniqueID\":0,\"fBits\":50331648,\"fName\":\"\",\"fTitle\":\"Imrho210 =  0.080 +\\/- 0.021\",\"fTextAngle\":0,\"fTextSize\":0,\"fTextAlign\":0,\"fTextColor\":0,\"fTextFont\":0,\"fX\":0,\"fY\":0,\"fLineColor\":1,\"fLineStyle\":1,\"fLineWidth\":2,\"fLimitFactorSize\":3,\"fOriginSize\":0.04},{\"_typename\":\"TLatex\",\"fUniqueID\":0,\"fBits\":50331648,\"fName\":\"\",\"fTitle\":\"Imrho21m1 =  0.275 +\\/- 0.037\",\"fTextAngle\":0,\"fTextSize\":0,\"fTextAlign\":0,\"fTextColor\":0,\"fTextFont\":0,\"fX\":0,\"fY\":0,\"fLineColor\":1,\"fLineStyle\":1,\"fLineWidth\":2,\"fLimitFactorSize\":3,\"fOriginSize\":0.04},{\"_typename\":\"TLatex\",\"fUniqueID\":0,\"fBits\":50331648,\"fName\":\"\",\"fTitle\":\"Rerho010 = -0.10339 +\\/- 0.0038\",\"fTextAngle\":0,\"fTextSize\":0,\"fTextAlign\":0,\"fTextColor\":0,\"fTextFont\":0,\"fX\":0,\"fY\":0,\"fLineColor\":1,\"fLineStyle\":1,\"fLineWidth\":2,\"fLimitFactorSize\":3,\"fOriginSize\":0.04},{\"_typename\":\"TLatex\",\"fUniqueID\":0,\"fBits\":50331648,\"fName\":\"\",\"fTitle\":\"Rerho110 =  0.154 +\\/- 0.014\",\"fTextAngle\":0,\"fTextSize\":0,\"fTextAlign\":0,\"fTextColor\":0,\"fTextFont\":0,\"fX\":0,\"fY\":0,\"fLineColor\":1,\"fLineStyle\":1,\"fLineWidth\":2,\"fLimitFactorSize\":3,\"fOriginSize\":0.04},{\"_typename\":\"TLatex\",\"fUniqueID\":0,\"fBits\":50331648,\"fName\":\"\",\"fTitle\":\"Yld_PhiSDME =  3340 +\\/- 124\",\"fTextAngle\":0,\"fTextSize\":0,\"fTextAlign\":0,\"fTextColor\":0,\"fTextFont\":0,\"fX\":0,\"fY\":0,\"fLineColor\":1,\"fLineStyle\":1,\"fLineWidth\":2,\"fLimitFactorSize\":3,\"fOriginSize\":0.04},{\"_typename\":\"TLatex\",\"fUniqueID\":0,\"fBits\":50331648,\"fName\":\"\",\"fTitle\":\"rho000 =  0.381 +\\/- 0.010\",\"fTextAngle\":0,\"fTextSize\":0,\"fTextAlign\":0,\"fTextColor\":0,\"fTextFont\":0,\"fX\":0,\"fY\":0,\"fLineColor\":1,\"fLineStyle\":1,\"fLineWidth\":2,\"fLimitFactorSize\":3,\"fOriginSize\":0.04},{\"_typename\":\"TLatex\",\"fUniqueID\":0,\"fBits\":50331648,\"fName\":\"\",\"fTitle\":\"rho01m1 =  0.0859 +\\/- 0.0065\",\"fTextAngle\":0,\"fTextSize\":0,\"fTextAlign\":0,\"fTextColor\":0,\"fTextFont\":0,\"fX\":0,\"fY\":0,\"fLineColor\":1,\"fLineStyle\":1,\"fLineWidth\":2,\"fLimitFactorSize\":3,\"fOriginSize\":0.04},{\"_typename\":\"TLatex\",\"fUniqueID\":0,\"fBits\":50331648,\"fName\":\"\",\"fTitle\":\"rho100 = -0.0784 +\\/- 0.042\",\"fTextAngle\":0,\"fTextSize\":0,\"fTextAlign\":0,\"fTextColor\":0,\"fTextFont\":0,\"fX\":0,\"fY\":0,\"fLineColor\":1,\"fLineStyle\":1,\"fLineWidth\":2,\"fLimitFactorSize\":3,\"fOriginSize\":0.04},{\"_typename\":\"TLatex\",\"fUniqueID\":0,\"fBits\":50331648,\"fName\":\"\",\"fTitle\":\"rho111 = -0.0641 +\\/- 0.039\",\"fTextAngle\":0,\"fTextSize\":0,\"fTextAlign\":0,\"fTextColor\":0,\"fTextFont\":0,\"fX\":0,\"fY\":0,\"fLineColor\":1,\"fLineStyle\":1,\"fLineWidth\":2,\"fLimitFactorSize\":3,\"fOriginSize\":0.04},{\"_typename\":\"TLatex\",\"fUniqueID\":0,\"fBits\":50331648,\"fName\":\"\",\"fTitle\":\"rho11m1 =  0.258 +\\/- 0.025\",\"fTextAngle\":0,\"fTextSize\":0,\"fTextAlign\":0,\"fTextColor\":0,\"fTextFont\":0,\"fX\":0,\"fY\":0,\"fLineColor\":1,\"fLineStyle\":1,\"fLineWidth\":2,\"fLimitFactorSize\":3,\"fOriginSize\":0.04}],\"opt\":[\"\",\"\",\"\",\"\",\"\",\"\",\"\",\"\",\"\",\"\"]}},{\"_typename\":\"RooCurve\",\"fUniqueID\":0,\"fBits\":50332680,\"fName\":\"phiSDMETotalPDF0_Int[HelPhi,MesonPhi,Pol,PolState]_Norm[HelCosTh,HelPhi,MesonPhi,Pol,PolState]_Comp[PhiSDME]\",\"fTitle\":\"Projection of total model\",\"fLineColor\":1,\"fLineStyle\":2,\"fLineWidth\":3,\"fFillColor\":0,\"fFillStyle\":1000,\"fMarkerColor\":1,\"fMarkerStyle\":1,\"fMarkerSize\":1,\"fNpoints\":106,\"fX\":[-1.02,-1.02,-1,-0.98,-0.96,-0.94,-0.92,-0.9,-0.88,-0.86,-0.84,-0.82,-0.8,-0.78,-0.76,-0.74,-0.72,-0.7,-0.68,-0.66,-0.64,-0.62,-0.6,-0.58,-0.56,-0.54,-0.52,-0.5,-0.48,-0.46,-0.44,-0.42,-0.4,-0.38,-0.36,-0.34,-0.32,-0.3,-0.28,-0.26,-0.24,-0.22,-0.2,-0.18,-0.16,-0.14,-0.12,-0.1,-0.08,-0.0599999999999999,-0.04,-0.02,0,0.02,0.04,0.0600000000000001,0.0800000000000001,0.1,0.12,0.14,0.16,0.18,0.2,0.22,0.24,0.26,0.28,0.3,0.32,0.34,0.36,0.38,0.4,0.42,0.44,0.46,0.48,0.5,0.52,0.54,0.56,0.58,0.6,0.62,0.64,0.66,0.68,0.7,0.72,0.74,0.76,0.78,0.8,0.82,0.84,0.86,0.88,0.9,0.92,0.94,0.96,0.98,1,1,1.02,1.02],\"fY\":[0,53.1883437593522,53.1883437593522,50.7417718847999,48.9306207037244,47.355819883428,46.0774630570269,45.7033296397122,44.1355611590445,42.6785968512235,42.3804346157051,41.3554437225629,40.5356806049732,39.8982951395533,38.5086211580238,37.0189704160787,38.1480718103531,37.3944012303292,36.3495907935945,35.5468307974584,35.9781717000034,35.9034680326799,35.1730086558001,34.6439545894127,33.4091838255191,34.1582699376761,34.0155214118701,33.0643202807242,32.7209583296957,33.0834824101304,32.66215960331,31.9748629540451,31.8943944615656,31.1920395411482,31.161078819263,30.3993748370995,30.7727636830441,30.0598901356467,30.2703348912,30.3441470650437,29.9954959180621,29.7463882357824,28.9426271771354,29.1302890448477,28.5520335031118,28.4455498363756,27.5245598753344,27.823339681755,27.627385430557,27.0782154861524,27.0681724883753,26.2992145383157,26.2420742886272,26.6200874457228,26.7097995800939,26.2302732059429,25.8492170180305,25.5847970636626,25.2440797106106,25.6729727413938,25.5504895059201,25.7201820525415,25.3183451018099,24.480500603893,25.0862654430362,24.9796597562427,25.2614140293625,25.4471808508788,24.7939427388313,26.200189036306,25.9072861142776,26.2471742289811,25.7402356754275,27.2091778705056,27.384724889672,27.7357193197948,28.130765480807,28.8853325347213,28.9368623519794,29.5761652754425,30.1737771825941,30.2320654169033,31.0671731792493,31.0118383283678,31.7070712617674,32.6416328414264,32.2910144322965,32.8838974396765,34.6926530433005,35.1074315907213,36.0114109596932,37.9240031418718,37.947363757331,38.8254175994351,39.5400093884558,42.3985035450061,43.4637187235671,45.0019234874954,45.1472020618364,48.1645289799087,49.6126929023727,51.576543469437,52.9576561253138,52.9576561253138,52.9576561253138,0],\"fFunctions\":{\"_typename\":\"TList\",\"name\":\"TList\",\"arr\":[],\"opt\":[]},\"fHistogram\":{\"_typename\":\"TH1F\",\"fUniqueID\":0,\"fBits\":50332168,\"fName\":\"phiSDMETotalPDF0_Int[HelPhi,MesonPhi,Pol,PolState]_Norm[HelCosTh,HelPhi,MesonPhi,Pol,PolState]_Comp[PhiSDME]\",\"fTitle\":\"Projection of total model\",\"fLineColor\":602,\"fLineStyle\":1,\"fLineWidth\":1,\"fFillColor\":0,\"fFillStyle\":1001,\"fMarkerColor\":1,\"fMarkerStyle\":1,\"fMarkerSize\":1,\"fNcells\":108,\"fXaxis\":{\"_typename\":\"TAxis\",\"fUniqueID\":0,\"fBits\":50331648,\"fName\":\"xaxis\",\"fTitle\":\"\",\"fNdivisions\":510,\"fAxisColor\":1,\"fLabelColor\":1,\"fLabelFont\":42,\"fLabelOffset\":0.005,\"fLabelSize\":0.035,\"fTickLength\":0.03,\"fTitleOffset\":1,\"fTitleSize\":0.035,\"fTitleColor\":1,\"fTitleFont\":42,\"fNbins\":106,\"fXmin\":-1.224,\"fXmax\":1.224,\"fXbins\":[],\"fFirst\":0,\"fLast\":0,\"fBits2\":0,\"fTimeDisplay\":false,\"fTimeFormat\":\"\",\"fLabels\":null,\"fModLabs\":null},\"fYaxis\":{\"_typename\":\"TAxis\",\"fUniqueID\":0,\"fBits\":50331648,\"fName\":\"yaxis\",\"fTitle\":\"\",\"fNdivisions\":510,\"fAxisColor\":1,\"fLabelColor\":1,\"fLabelFont\":42,\"fLabelOffset\":0.005,\"fLabelSize\":0.035,\"fTickLength\":0.03,\"fTitleOffset\":0,\"fTitleSize\":0.035,\"fTitleColor\":1,\"fTitleFont\":42,\"fNbins\":1,\"fXmin\":0,\"fXmax\":58.5071781352874,\"fXbins\":[],\"fFirst\":0,\"fLast\":0,\"fBits2\":0,\"fTimeDisplay\":false,\"fTimeFormat\":\"\",\"fLabels\":null,\"fModLabs\":null},\"fZaxis\":{\"_typename\":\"TAxis\",\"fUniqueID\":0,\"fBits\":50331648,\"fName\":\"zaxis\",\"fTitle\":\"\",\"fNdivisions\":510,\"fAxisColor\":1,\"fLabelColor\":1,\"fLabelFont\":42,\"fLabelOffset\":0.005,\"fLabelSize\":0.035,\"fTickLength\":0.03,\"fTitleOffset\":1,\"fTitleSize\":0.035,\"fTitleColor\":1,\"fTitleFont\":42,\"fNbins\":1,\"fXmin\":0,\"fXmax\":1,\"fXbins\":[],\"fFirst\":0,\"fLast\":0,\"fBits2\":0,\"fTimeDisplay\":false,\"fTimeFormat\":\"\",\"fLabels\":null,\"fModLabs\":null},\"fBarOffset\":0,\"fBarWidth\":1000,\"fEntries\":0,\"fTsumw\":0,\"fTsumw2\":0,\"fTsumwx\":0,\"fTsumwx2\":0,\"fMaximum\":58.5071781352874,\"fMinimum\":0,\"fNormFactor\":0,\"fContour\":[],\"fSumw2\":[],\"fOption\":\"\",\"fFunctions\":{\"_typename\":\"TList\",\"name\":\"TList\",\"arr\":[],\"opt\":[]},\"fBufferSize\":0,\"fBuffer\":[],\"fBinStatErrOpt\":0,\"fStatOverflows\":2,\"fArray\":[0,0,0,0,0,0,0,0,0,0,0,0,0,0,0,0,0,0,0,0,0,0,0,0,0,0,0,0,0,0,0,0,0,0,0,0,0,0,0,0,0,0,0,0,0,0,0,0,0,0,0,0,0,0,0,0,0,0,0,0,0,0,0,0,0,0,0,0,0,0,0,0,0,0,0,0,0,0,0,0,0,0,0,0,0,0,0,0,0,0,0,0,0,0,0,0,0,0,0,0,0,0,0,0,0,0,0,0]},\"fMinimum\":-1111,\"fMaximum\":-1111,\"_yAxisLabel\":\"Projection of total model\",\"_ymin\":0,\"_ymax\":53.1883437593522,\"_normValue\":0},{\"$ref\":3},{\"_typename\":\"TPaveText\",\"fUniqueID\":0,\"fBits\":50331657,\"fLineColor\":1,\"fLineStyle\":1,\"fLineWidth\":1,\"fFillColor\":0,\"fFillStyle\":0,\"fX1\":-0.626652308188422,\"fY1\":95.4041928239876,\"fX2\":0.626652308188422,\"fY2\":104.013953365074,\"fX1NDC\":0.24933908045977,\"fY1NDC\":0.933983055615829,\"fX2NDC\":0.75066091954023,\"fY2NDC\":0.995000004768372,\"fBorderSize\":0,\"fInit\":1,\"fShadowColor\":1,\"fCornerRadius\":0,\"fOption\":\"blNDC\",\"fName\":\"title\",\"fTextAngle\":0,\"fTextSize\":0,\"fTextAlign\":22,\"fTextColor\":1,\"fTextFont\":42,\"fLabel\":\"\",\"fLongest\":27,\"fMargin\":0.05,\"fLines\":{\"_typename\":\"TList\",\"name\":\"TList\",\"arr\":[{\"_typename\":\"TLatex\",\"fUniqueID\":0,\"fBits\":50331648,\"fName\":\"\",\"fTitle\":\"Fit components for HelCosTh\",\"fTextAngle\":0,\"fTextSize\":0,\"fTextAlign\":0,\"fTextColor\":0,\"fTextFont\":0,\"fX\":0,\"fY\":0,\"fLineColor\":1,\"fLineStyle\":1,\"fLineWidth\":2,\"fLimitFactorSize\":3,\"fOriginSize\":0.0518644079566002}],\"opt\":[\"\"]}}],\"opt\":[\"\",\"FUNC\",\"p\",\"l\",\"BRNDC\",\"l\",\"AXISSAME\",\"blNDC\"]},\"fExecs\":null,\"fName\":\"phiSDMEHelCosTh1\",\"fTitle\":\"phiSDMEHelCosTh\",\"fNumPaletteColor\":0,\"fNextPaletteColor\":0,\"fDISPLAY\":\"$DISPLAY\",\"fDoubleBuffer\":0,\"fRetained\":true,\"fXsizeUser\":0,\"fYsizeUser\":0,\"fXsizeReal\":20,\"fYsizeReal\":14.28571,\"fWindowTopX\":0,\"fWindowTopY\":0,\"fWindowWidth\":0,\"fWindowHeight\":0,\"fCw\":696,\"fCh\":472,\"fCatt\":{\"_typename\":\"TAttCanvas\",\"fXBetween\":2,\"fYBetween\":2,\"fTitleFromTop\":1.2,\"fXdate\":0.2,\"fYdate\":0.3,\"fAdate\":1},\"kMoveOpaque\":true,\"kResizeOpaque\":true,\"fHighLightColor\":2,\"fBatch\":true,\"kShowEventStatus\":false,\"kAutoExec\":true,\"kMenuBar\":true});\n",
       "       Core.draw(\"root_plot_2\", obj, \"\");\n",
       "     }\n",
       " );\n",
       "</script>\n"
      ],
      "text/plain": [
       "<IPython.core.display.HTML object>"
      ]
     },
     "metadata": {},
     "output_type": "display_data"
    }
   ],
   "source": [
    "((TCanvas*)RF->GetPlots()->At(1))->Draw()"
   ]
  },
  {
   "cell_type": "code",
   "execution_count": 16,
   "metadata": {},
   "outputs": [
    {
     "data": {
      "text/html": [
       "\n",
       "<div id=\"root_plot_3\"\n",
       "     style=\"width: 696px; height: 472px\">\n",
       "</div>\n",
       "\n",
       "<script>\n",
       " requirejs.config({\n",
       "     paths: {\n",
       "       'JSRootCore' : 'https://root.cern.ch/js/notebook//scripts/JSRootCore',\n",
       "     }\n",
       "   });\n",
       " require(['JSRootCore'],\n",
       "     function(Core) {\n",
       "       var obj = Core.JSONR_unref({\"_typename\":\"TCanvas\",\"fUniqueID\":0,\"fBits\":53673992,\"fLineColor\":1,\"fLineStyle\":1,\"fLineWidth\":1,\"fFillColor\":0,\"fFillStyle\":1001,\"fLeftMargin\":0.1,\"fRightMargin\":0.1,\"fBottomMargin\":0.1,\"fTopMargin\":0.1,\"fXfile\":2,\"fYfile\":2,\"fAfile\":1,\"fXstat\":0.99,\"fYstat\":0.99,\"fAstat\":2,\"fFrameFillColor\":0,\"fFrameLineColor\":1,\"fFrameFillStyle\":1001,\"fFrameLineStyle\":1,\"fFrameLineWidth\":1,\"fFrameBorderSize\":1,\"fFrameBorderMode\":0,\"fX1\":-3.92700005851686,\"fY1\":-23.5621703495905,\"fX2\":3.92700005851686,\"fY2\":96.934538836274,\"fXtoAbsPixelk\":348.00005,\"fXtoPixelk\":348.00005,\"fXtoPixel\":88.6172637673531,\"fYtoAbsPixelk\":379.704214867671,\"fYtoPixelk\":379.704214867671,\"fYtoPixel\":-3.91711942333584,\"fUtoAbsPixelk\":5e-5,\"fUtoPixelk\":5e-5,\"fUtoPixel\":696,\"fVtoAbsPixelk\":472.00005,\"fVtoPixelk\":472,\"fVtoPixel\":-472,\"fAbsPixeltoXk\":-3.92700005851686,\"fPixeltoXk\":-3.92700005851686,\"fPixeltoX\":0.0112844829267726,\"fAbsPixeltoYk\":96.934538836274,\"fPixeltoYk\":-23.5621703495905,\"fPixeltoY\":-0.255289638105645,\"fXlowNDC\":0,\"fYlowNDC\":0,\"fXUpNDC\":0,\"fYUpNDC\":0,\"fWNDC\":1,\"fHNDC\":1,\"fAbsXlowNDC\":0,\"fAbsYlowNDC\":0,\"fAbsWNDC\":1,\"fAbsHNDC\":1,\"fUxmin\":-3.1416,\"fUymin\":-11.5124987127877,\"fUxmax\":3.1416,\"fUymax\":84.8848671994711,\"fTheta\":30,\"fPhi\":30,\"fAspectRatio\":0,\"fNumber\":0,\"fTickx\":0,\"fTicky\":0,\"fLogx\":0,\"fLogy\":0,\"fLogz\":0,\"fPadPaint\":0,\"fCrosshair\":0,\"fCrosshairPos\":0,\"fBorderSize\":2,\"fBorderMode\":0,\"fModified\":false,\"fGridx\":false,\"fGridy\":false,\"fAbsCoord\":false,\"fEditable\":true,\"fFixedAspectRatio\":false,\"fPrimitives\":{\"_typename\":\"TList\",\"name\":\"TList\",\"arr\":[{\"_typename\":\"TFrame\",\"fUniqueID\":0,\"fBits\":50331656,\"fLineColor\":1,\"fLineStyle\":1,\"fLineWidth\":1,\"fFillColor\":0,\"fFillStyle\":1001,\"fX1\":-3.1416,\"fY1\":-11.5124987127877,\"fX2\":3.1416,\"fY2\":84.8848671994711,\"fBorderSize\":1,\"fBorderMode\":0},{\"_typename\":\"TH1D\",\"fUniqueID\":0,\"fBits\":50332168,\"fName\":\"frame_7f06ef968690\",\"fTitle\":\"Fit components for HelPhi\",\"fLineColor\":602,\"fLineStyle\":1,\"fLineWidth\":1,\"fFillColor\":0,\"fFillStyle\":1001,\"fMarkerColor\":1,\"fMarkerStyle\":1,\"fMarkerSize\":1,\"fNcells\":102,\"fXaxis\":{\"_typename\":\"TAxis\",\"fUniqueID\":0,\"fBits\":50331648,\"fName\":\"xaxis\",\"fTitle\":\"HelPhi\",\"fNdivisions\":510,\"fAxisColor\":1,\"fLabelColor\":1,\"fLabelFont\":42,\"fLabelOffset\":0.005,\"fLabelSize\":0.035,\"fTickLength\":0.03,\"fTitleOffset\":1,\"fTitleSize\":0.035,\"fTitleColor\":1,\"fTitleFont\":42,\"fNbins\":100,\"fXmin\":-3.1416,\"fXmax\":3.1416,\"fXbins\":[],\"fFirst\":0,\"fLast\":0,\"fBits2\":0,\"fTimeDisplay\":false,\"fTimeFormat\":\"\",\"fLabels\":null,\"fModLabs\":null},\"fYaxis\":{\"_typename\":\"TAxis\",\"fUniqueID\":0,\"fBits\":50331648,\"fName\":\"yaxis\",\"fTitle\":\"Events \\/ ( 0.062832 )\",\"fNdivisions\":510,\"fAxisColor\":1,\"fLabelColor\":1,\"fLabelFont\":42,\"fLabelOffset\":0.005,\"fLabelSize\":0.035,\"fTickLength\":0.03,\"fTitleOffset\":0,\"fTitleSize\":0.035,\"fTitleColor\":1,\"fTitleFont\":42,\"fNbins\":1,\"fXmin\":0,\"fXmax\":1,\"fXbins\":[],\"fFirst\":0,\"fLast\":0,\"fBits2\":0,\"fTimeDisplay\":false,\"fTimeFormat\":\"\",\"fLabels\":null,\"fModLabs\":null},\"fZaxis\":{\"_typename\":\"TAxis\",\"fUniqueID\":0,\"fBits\":50331648,\"fName\":\"zaxis\",\"fTitle\":\"\",\"fNdivisions\":510,\"fAxisColor\":1,\"fLabelColor\":1,\"fLabelFont\":42,\"fLabelOffset\":0.005,\"fLabelSize\":0.035,\"fTickLength\":0.03,\"fTitleOffset\":1,\"fTitleSize\":0.035,\"fTitleColor\":1,\"fTitleFont\":42,\"fNbins\":1,\"fXmin\":0,\"fXmax\":1,\"fXbins\":[],\"fFirst\":0,\"fLast\":0,\"fBits2\":0,\"fTimeDisplay\":false,\"fTimeFormat\":\"\",\"fLabels\":null,\"fModLabs\":null},\"fBarOffset\":0,\"fBarWidth\":1000,\"fEntries\":1,\"fTsumw\":0,\"fTsumw2\":0,\"fTsumwx\":0,\"fTsumwx2\":0,\"fMaximum\":84.8848671994711,\"fMinimum\":-11.5124987127877,\"fNormFactor\":0,\"fContour\":[],\"fSumw2\":[],\"fOption\":\"\",\"fFunctions\":{\"_typename\":\"TList\",\"name\":\"TList\",\"arr\":[],\"opt\":[]},\"fBufferSize\":0,\"fBuffer\":[],\"fBinStatErrOpt\":0,\"fStatOverflows\":2,\"fArray\":[0,84.8848671994711,0,0,0,0,0,0,0,0,0,0,0,0,0,0,0,0,0,0,0,0,0,0,0,0,0,0,0,0,0,0,0,0,0,0,0,0,0,0,0,0,0,0,0,0,0,0,0,0,0,0,0,0,0,0,0,0,0,0,0,0,0,0,0,0,0,0,0,0,0,0,0,0,0,0,0,0,0,0,0,0,0,0,0,0,0,0,0,0,0,0,0,0,0,0,0,0,0,0,0,0]},{\"_typename\":\"RooHist\",\"fUniqueID\":0,\"fBits\":50332680,\"fName\":\"h_Weight_Phinewtree\",\"fTitle\":\"Histogram of Weight_Phinewtree_plot__HelPhi\",\"fLineColor\":1,\"fLineStyle\":1,\"fLineWidth\":1,\"fFillColor\":0,\"fFillStyle\":1000,\"fMarkerColor\":1,\"fMarkerStyle\":8,\"fMarkerSize\":1,\"fNpoints\":100,\"fX\":[-3.110184,-3.047352,-2.98452,-2.921688,-2.858856,-2.796024,-2.733192,-2.67036,-2.607528,-2.544696,-2.481864,-2.419032,-2.3562,-2.293368,-2.230536,-2.167704,-2.104872,-2.04204,-1.979208,-1.916376,-1.853544,-1.790712,-1.72788,-1.665048,-1.602216,-1.539384,-1.476552,-1.41372,-1.350888,-1.288056,-1.225224,-1.162392,-1.09956,-1.036728,-0.973896,-0.911064,-0.848232,-0.7854,-0.722568,-0.659736,-0.596904,-0.534072,-0.47124,-0.408408,-0.345576,-0.282744,-0.219912,-0.15708,-0.094248,-0.0314159999999998,0.031416,0.0942479999999998,0.15708,0.219912,0.282744,0.345576,0.408408,0.47124,0.534072,0.596904,0.659736,0.722568,0.7854,0.848232,0.911064,0.973896,1.036728,1.09956,1.162392,1.225224,1.288056,1.350888,1.41372,1.476552,1.539384,1.602216,1.665048,1.72788,1.790712,1.853544,1.916376,1.979208,2.04204,2.104872,2.167704,2.230536,2.293368,2.3562,2.419032,2.481864,2.544696,2.607528,2.67036,2.733192,2.796024,2.858856,2.921688,2.98452,3.047352,3.110184],\"fY\":[25.1371021270752,63.9953536987305,41.4077758789062,42.2438812255859,53.844554901123,34.041015625,34.9864540100098,22.0702857971191,53.8469848632812,30.0799674987793,27.4164524078369,39.8014984130859,37.5697555541992,31.0233325958252,59.7658538818359,52.6131591796875,38.9178161621094,45.7949333190918,37.7953414916992,30.8279514312744,49.1242446899414,31.5261383056641,30.9023914337158,30.9122886657715,34.2617988586426,57.1029586791992,48.9228210449219,52.7259559631348,16.1881122589111,47.9134483337402,37.281307220459,30.0034236907959,31.7045726776123,28.9807395935059,38.6848297119141,39.7896003723145,26.3519840240479,10.9785652160645,29.4458274841309,23.4638271331787,23.1600322723389,22.0424900054932,19.9878273010254,24.9684371948242,27.8189182281494,29.1885719299316,38.7845726013184,15.6758966445923,37.5505027770996,16.5743427276611,8.07100677490234,22.268383026123,7.47291469573975,23.038064956665,6.06632328033447,15.2542028427124,24.289852142334,4.32530450820923,21.9030094146729,23.5693283081055,31.1906261444092,37.6952896118164,25.2623538970947,47.1203918457031,18.7263832092285,31.3942584991455,37.4616508483887,49.2115287780762,37.6134071350098,32.3675727844238,36.6946983337402,27.1830005645752,24.6835079193115,38.018856048584,42.1999702453613,38.5248184204102,45.6541900634766,43.517749786377,26.7193279266357,48.9322052001953,50.5581321716309,18.9673519134521,52.672981262207,46.3753051757812,28.2441596984863,39.0375061035156,37.2340965270996,41.1573448181152,32.6194648742676,38.3702163696289,26.1442108154297,21.9954566955566,30.8716430664062,32.7016487121582,17.5089530944824,44.604679107666,29.0940799713135,67.2857818603516,40.0466918945312,3.99825406074524],\"fFunctions\":{\"_typename\":\"TList\",\"name\":\"TList\",\"arr\":[],\"opt\":[]},\"fHistogram\":{\"_typename\":\"TH1F\",\"fUniqueID\":0,\"fBits\":50332168,\"fName\":\"h_Weight_Phinewtree\",\"fTitle\":\"Histogram of Weight_Phinewtree_plot__HelPhi\",\"fLineColor\":602,\"fLineStyle\":1,\"fLineWidth\":1,\"fFillColor\":0,\"fFillStyle\":1001,\"fMarkerColor\":1,\"fMarkerStyle\":1,\"fMarkerSize\":1,\"fNcells\":102,\"fXaxis\":{\"_typename\":\"TAxis\",\"fUniqueID\":0,\"fBits\":50331648,\"fName\":\"xaxis\",\"fTitle\":\"\",\"fNdivisions\":510,\"fAxisColor\":1,\"fLabelColor\":1,\"fLabelFont\":42,\"fLabelOffset\":0.005,\"fLabelSize\":0.035,\"fTickLength\":0.03,\"fTitleOffset\":1,\"fTitleSize\":0.035,\"fTitleColor\":1,\"fTitleFont\":42,\"fNbins\":100,\"fXmin\":-3.76992,\"fXmax\":3.76992,\"fXbins\":[],\"fFirst\":0,\"fLast\":0,\"fBits2\":0,\"fTimeDisplay\":false,\"fTimeFormat\":\"\",\"fLabels\":null,\"fModLabs\":null},\"fYaxis\":{\"_typename\":\"TAxis\",\"fUniqueID\":0,\"fBits\":50331648,\"fName\":\"yaxis\",\"fTitle\":\"\",\"fNdivisions\":510,\"fAxisColor\":1,\"fLabelColor\":1,\"fLabelFont\":42,\"fLabelOffset\":0.005,\"fLabelSize\":0.035,\"fTickLength\":0.03,\"fTitleOffset\":0,\"fTitleSize\":0.035,\"fTitleColor\":1,\"fTitleFont\":42,\"fNbins\":1,\"fXmin\":-15.8941971633449,\"fXmax\":89.2665656500284,\"fXbins\":[],\"fFirst\":0,\"fLast\":0,\"fBits2\":0,\"fTimeDisplay\":false,\"fTimeFormat\":\"\",\"fLabels\":null,\"fModLabs\":null},\"fZaxis\":{\"_typename\":\"TAxis\",\"fUniqueID\":0,\"fBits\":50331648,\"fName\":\"zaxis\",\"fTitle\":\"\",\"fNdivisions\":510,\"fAxisColor\":1,\"fLabelColor\":1,\"fLabelFont\":42,\"fLabelOffset\":0.005,\"fLabelSize\":0.035,\"fTickLength\":0.03,\"fTitleOffset\":1,\"fTitleSize\":0.035,\"fTitleColor\":1,\"fTitleFont\":42,\"fNbins\":1,\"fXmin\":0,\"fXmax\":1,\"fXbins\":[],\"fFirst\":0,\"fLast\":0,\"fBits2\":0,\"fTimeDisplay\":false,\"fTimeFormat\":\"\",\"fLabels\":null,\"fModLabs\":null},\"fBarOffset\":0,\"fBarWidth\":1000,\"fEntries\":0,\"fTsumw\":0,\"fTsumw2\":0,\"fTsumwx\":0,\"fTsumwx2\":0,\"fMaximum\":89.2665656500284,\"fMinimum\":-15.8941971633449,\"fNormFactor\":0,\"fContour\":[],\"fSumw2\":[],\"fOption\":\"\",\"fFunctions\":{\"_typename\":\"TList\",\"name\":\"TList\",\"arr\":[],\"opt\":[]},\"fBufferSize\":0,\"fBuffer\":[],\"fBinStatErrOpt\":0,\"fStatOverflows\":2,\"fArray\":[0,0,0,0,0,0,0,0,0,0,0,0,0,0,0,0,0,0,0,0,0,0,0,0,0,0,0,0,0,0,0,0,0,0,0,0,0,0,0,0,0,0,0,0,0,0,0,0,0,0,0,0,0,0,0,0,0,0,0,0,0,0,0,0,0,0,0,0,0,0,0,0,0,0,0,0,0,0,0,0,0,0,0,0,0,0,0,0,0,0,0,0,0,0,0,0,0,0,0,0,0,0]},\"fMinimum\":-1111,\"fMaximum\":-1111,\"fEXlow\":[0.031416,0.031416,0.031416,0.031416,0.031416,0.031416,0.031416,0.031416,0.031416,0.031416,0.031416,0.031416,0.031416,0.031416,0.031416,0.031416,0.031416,0.031416,0.031416,0.031416,0.031416,0.031416,0.031416,0.031416,0.031416,0.031416,0.031416,0.031416,0.031416,0.031416,0.031416,0.031416,0.031416,0.031416,0.031416,0.031416,0.031416,0.031416,0.031416,0.031416,0.031416,0.031416,0.031416,0.031416,0.031416,0.031416,0.031416,0.031416,0.031416,0.031416,0.031416,0.031416,0.031416,0.031416,0.031416,0.031416,0.031416,0.031416,0.031416,0.031416,0.031416,0.031416,0.031416,0.031416,0.031416,0.031416,0.031416,0.031416,0.031416,0.031416,0.031416,0.031416,0.031416,0.031416,0.031416,0.031416,0.031416,0.031416,0.031416,0.031416,0.031416,0.031416,0.031416,0.031416,0.031416,0.031416,0.031416,0.031416,0.031416,0.031416,0.031416,0.031416,0.031416,0.031416,0.031416,0.031416,0.031416,0.031416,0.031416,0.031416],\"fEXhigh\":[0.031416,0.031416,0.031416,0.031416,0.031416,0.031416,0.031416,0.031416,0.031416,0.031416,0.031416,0.031416,0.031416,0.031416,0.031416,0.031416,0.031416,0.031416,0.031416,0.031416,0.031416,0.031416,0.031416,0.031416,0.031416,0.031416,0.031416,0.031416,0.031416,0.031416,0.031416,0.031416,0.031416,0.031416,0.031416,0.031416,0.031416,0.031416,0.031416,0.031416,0.031416,0.031416,0.031416,0.031416,0.031416,0.031416,0.031416,0.031416,0.031416,0.031416,0.031416,0.031416,0.031416,0.031416,0.031416,0.031416,0.031416,0.031416,0.031416,0.031416,0.031416,0.031416,0.031416,0.031416,0.031416,0.031416,0.031416,0.031416,0.031416,0.031416,0.031416,0.031416,0.031416,0.031416,0.031416,0.031416,0.031416,0.031416,0.031416,0.031416,0.031416,0.031416,0.031416,0.031416,0.031416,0.031416,0.031416,0.031416,0.031416,0.031416,0.031416,0.031416,0.031416,0.031416,0.031416,0.031416,0.031416,0.031416,0.031416,0.031416],\"fEYlow\":[11.6632744227639,13.2154299744365,12.4941503039085,12.0854049735155,13.0996368901108,11.2332293310395,11.4520166792616,11.3907745645017,12.6823147403638,10.8534956215438,12.3204633418215,12.0205321509511,11.9062737951716,11.9540101251771,12.8061886764443,12.5013723695571,12.2512935646046,12.9967294520413,12.2341386237838,12.0589740736587,12.7291868810048,11.4286780462989,11.9645835378779,11.2181074901184,12.0422911109477,13.3982101688729,11.9963249311736,12.2318796049191,10.6610697901964,12.1757359637753,10.788387760588,10.5371844125348,11.1423652576595,10.1826299074959,11.6539099005773,10.3845444100991,10.1394038381703,9.46011300377953,9.61206957184543,9.92008664964973,9.14249829277126,9.03942079797467,10.0190380995707,8.90413534474052,10.4091075700954,9.85458248545914,10.6745458728353,9.30904809587222,10.7198837328092,9.91962287921726,8.05728911001288,10.0015613932958,8.95419898509214,9.54532631526595,9.03169184859191,8.84040376112696,8.73092309987041,8.48850346107012,9.30953384128176,9.8822376122372,10.2129807404174,11.1119082931716,9.32541153379657,11.0719593141123,9.30934856888546,10.8053542218448,11.5220344947806,11.0560333687681,11.7154888012273,10.3581333645684,11.1836611230566,11.2377182609805,11.4648697837106,12.0878496950564,12.1068942254694,11.9023725119296,12.7457776211929,12.5236702981371,11.2425181399393,13.0712684414258,12.653512198631,11.9306407922668,13.2367186246186,12.5261172561098,12.4182830715819,12.6535419004065,12.0327875032773,12.307907206007,12.2860234689239,11.4237254428394,11.2357172420828,11.3082330638687,11.4714338691838,11.7186924570743,10.5003954092175,12.3026109070268,11.6086395065759,13.2173868885624,12.9464820616097,11.1290543229757],\"fEYhigh\":[11.6632744227639,13.2154299744365,12.4941503039085,12.0854049735155,13.0996368901108,11.2332293310395,11.4520166792616,11.3907745645017,12.6823147403638,10.8534956215438,12.3204633418215,12.0205321509511,11.9062737951716,11.9540101251771,12.8061886764443,12.5013723695571,12.2512935646046,12.9967294520413,12.2341386237838,12.0589740736587,12.7291868810048,11.4286780462989,11.9645835378779,11.2181074901184,12.0422911109477,13.3982101688729,11.9963249311736,12.2318796049191,10.6610697901964,12.1757359637753,10.788387760588,10.5371844125348,11.1423652576595,10.1826299074959,11.6539099005773,10.3845444100991,10.1394038381703,9.46011300377953,9.61206957184543,9.92008664964973,9.14249829277126,9.03942079797467,10.0190380995707,8.90413534474052,10.4091075700954,9.85458248545914,10.6745458728353,9.30904809587222,10.7198837328092,9.91962287921726,8.05728911001288,10.0015613932958,8.95419898509214,9.54532631526595,9.03169184859191,8.84040376112696,8.73092309987041,8.48850346107012,9.30953384128176,9.8822376122372,10.2129807404174,11.1119082931716,9.32541153379657,11.0719593141123,9.30934856888546,10.8053542218448,11.5220344947806,11.0560333687681,11.7154888012273,10.3581333645684,11.1836611230566,11.2377182609805,11.4648697837106,12.0878496950564,12.1068942254694,11.9023725119296,12.7457776211929,12.5236702981371,11.2425181399393,13.0712684414258,12.653512198631,11.9306407922668,13.2367186246186,12.5261172561098,12.4182830715819,12.6535419004065,12.0327875032773,12.307907206007,12.2860234689239,11.4237254428394,11.2357172420828,11.3082330638687,11.4714338691838,11.7186924570743,10.5003954092175,12.3026109070268,11.6086395065759,13.2173868885624,12.9464820616097,11.1290543229757],\"_yAxisLabel\":\"Events \\/ ( 0.062832 )\",\"_ymin\":-7.13080026223044,\"_ymax\":80.5031687489139,\"_normValue\":0,\"_nominalBinWidth\":0.062832,\"_nSigma\":1,\"_entries\":3331.11403250694,\"_rawEntries\":-1},{\"_typename\":\"RooCurve\",\"fUniqueID\":0,\"fBits\":50332680,\"fName\":\"phiSDMETotalPDF0_Int[HelCosTh,MesonPhi,Pol,PolState]_Norm[HelCosTh,HelPhi,MesonPhi,Pol,PolState]\",\"fTitle\":\"Projection of total model\",\"fLineColor\":632,\"fLineStyle\":1,\"fLineWidth\":3,\"fFillColor\":0,\"fFillStyle\":1000,\"fMarkerColor\":1,\"fMarkerStyle\":1,\"fMarkerSize\":1,\"fNpoints\":106,\"fX\":[-3.204432,-3.204432,-3.1416,-3.078768,-3.015936,-2.953104,-2.890272,-2.82744,-2.764608,-2.701776,-2.638944,-2.576112,-2.51328,-2.450448,-2.387616,-2.324784,-2.261952,-2.19912,-2.136288,-2.073456,-2.010624,-1.947792,-1.88496,-1.822128,-1.759296,-1.696464,-1.633632,-1.5708,-1.507968,-1.445136,-1.382304,-1.319472,-1.25664,-1.193808,-1.130976,-1.068144,-1.005312,-0.94248,-0.879648,-0.816816,-0.753984,-0.691152,-0.62832,-0.565488,-0.502656,-0.439824,-0.376992,-0.31416,-0.251328,-0.188496,-0.125664,-0.0628319999999998,0,0.0628319999999998,0.125664,0.188496,0.251328,0.31416,0.376992,0.439824,0.502656,0.565488,0.62832,0.691152,0.753984,0.816816,0.879648,0.94248,1.005312,1.068144,1.130976,1.193808,1.25664,1.319472,1.382304,1.445136,1.507968,1.5708,1.633632,1.696464,1.759296,1.822128,1.88496,1.947792,2.010624,2.073456,2.136288,2.19912,2.261952,2.324784,2.387616,2.450448,2.51328,2.576112,2.638944,2.701776,2.764608,2.82744,2.890272,2.953104,3.015936,3.078768,3.1416,3.1416,3.204432,3.204432],\"fY\":[0,32.77168433717,32.77168433717,32.9563888184907,32.6784725192212,32.9403433757737,31.5758392400451,31.243062547283,30.4852087499906,30.4781639322594,30.5178042336964,31.2592683661949,32.0992562891457,33.3123809433653,33.9583175821255,35.0436849948577,36.5327623178632,37.5122345026003,38.697332438861,39.8223127717286,40.2207693837159,40.7643938333715,42.3909917876796,41.7818321485356,41.8251258979243,42.0096876053154,41.9670314490918,40.3559899856871,41.1493436404583,40.4197101860432,38.3374013181755,38.2222746799385,37.8193079764219,36.4010426108779,35.1321344221415,33.5973146790645,32.37340765945,31.1919749059846,30.6464494116775,29.460254267547,28.6983089214779,28.0430196124261,26.9815991037197,27.0515035666149,26.7810760533234,26.7466147294967,26.7495856007165,26.4105640153903,26.1791529010216,26.4712018635131,26.7988250041593,26.8755787040603,26.6129978894744,26.7366929192939,26.2831138356419,25.7278249515196,25.5634432633818,25.1051976236202,25.0458877686233,25.7104163111461,25.8358637442658,26.8371783844227,27.0134983200428,27.3690621231287,28.4118046725533,29.0783574755846,30.481870187007,30.7682375294238,31.5541786746999,32.7795916659005,34.0742969523255,35.1493181446807,36.0435014866575,37.2556717069369,38.1172947697385,38.4763927165336,40.9026615830454,40.4469193765697,41.0628656668873,40.7402904647654,41.9752067234162,40.8777289521633,40.0875789096751,39.8976700252498,39.6372347312222,38.8177632263725,37.4980509883897,37.6096610851828,36.2800016115029,35.7957202655675,33.7854946298767,33.6971938439443,31.7560434088729,31.1618750323357,30.9253983771774,29.4745805556872,30.7974651130371,31.0631537053506,31.5325689603434,30.9552146587744,32.5638524350631,32.5365982609698,31.7027809099073,31.7027809099073,31.7027809099073,0],\"fFunctions\":{\"_typename\":\"TList\",\"name\":\"TList\",\"arr\":[],\"opt\":[]},\"fHistogram\":{\"_typename\":\"TH1F\",\"fUniqueID\":0,\"fBits\":50332168,\"fName\":\"phiSDMETotalPDF0_Int[HelCosTh,MesonPhi,Pol,PolState]_Norm[HelCosTh,HelPhi,MesonPhi,Pol,PolState]\",\"fTitle\":\"Projection of total model\",\"fLineColor\":602,\"fLineStyle\":1,\"fLineWidth\":1,\"fFillColor\":0,\"fFillStyle\":1001,\"fMarkerColor\":1,\"fMarkerStyle\":1,\"fMarkerSize\":1,\"fNcells\":108,\"fXaxis\":{\"_typename\":\"TAxis\",\"fUniqueID\":0,\"fBits\":50331648,\"fName\":\"xaxis\",\"fTitle\":\"\",\"fNdivisions\":510,\"fAxisColor\":1,\"fLabelColor\":1,\"fLabelFont\":42,\"fLabelOffset\":0.005,\"fLabelSize\":0.035,\"fTickLength\":0.03,\"fTitleOffset\":1,\"fTitleSize\":0.035,\"fTitleColor\":1,\"fTitleFont\":42,\"fNbins\":106,\"fXmin\":-3.8453184,\"fXmax\":3.8453184,\"fXbins\":[],\"fFirst\":0,\"fLast\":0,\"fBits2\":0,\"fTimeDisplay\":false,\"fTimeFormat\":\"\",\"fLabels\":null,\"fModLabs\":null},\"fYaxis\":{\"_typename\":\"TAxis\",\"fUniqueID\":0,\"fBits\":50331648,\"fName\":\"yaxis\",\"fTitle\":\"\",\"fNdivisions\":510,\"fAxisColor\":1,\"fLabelColor\":1,\"fLabelFont\":42,\"fLabelOffset\":0.005,\"fLabelSize\":0.035,\"fTickLength\":0.03,\"fTitleOffset\":0,\"fTitleSize\":0.035,\"fTitleColor\":1,\"fTitleFont\":42,\"fNbins\":1,\"fXmin\":0,\"fXmax\":46.6300909664476,\"fXbins\":[],\"fFirst\":0,\"fLast\":0,\"fBits2\":0,\"fTimeDisplay\":false,\"fTimeFormat\":\"\",\"fLabels\":null,\"fModLabs\":null},\"fZaxis\":{\"_typename\":\"TAxis\",\"fUniqueID\":0,\"fBits\":50331648,\"fName\":\"zaxis\",\"fTitle\":\"\",\"fNdivisions\":510,\"fAxisColor\":1,\"fLabelColor\":1,\"fLabelFont\":42,\"fLabelOffset\":0.005,\"fLabelSize\":0.035,\"fTickLength\":0.03,\"fTitleOffset\":1,\"fTitleSize\":0.035,\"fTitleColor\":1,\"fTitleFont\":42,\"fNbins\":1,\"fXmin\":0,\"fXmax\":1,\"fXbins\":[],\"fFirst\":0,\"fLast\":0,\"fBits2\":0,\"fTimeDisplay\":false,\"fTimeFormat\":\"\",\"fLabels\":null,\"fModLabs\":null},\"fBarOffset\":0,\"fBarWidth\":1000,\"fEntries\":0,\"fTsumw\":0,\"fTsumw2\":0,\"fTsumwx\":0,\"fTsumwx2\":0,\"fMaximum\":46.6300909664476,\"fMinimum\":0,\"fNormFactor\":0,\"fContour\":[],\"fSumw2\":[],\"fOption\":\"\",\"fFunctions\":{\"_typename\":\"TList\",\"name\":\"TList\",\"arr\":[],\"opt\":[]},\"fBufferSize\":0,\"fBuffer\":[],\"fBinStatErrOpt\":0,\"fStatOverflows\":2,\"fArray\":[0,0,0,0,0,0,0,0,0,0,0,0,0,0,0,0,0,0,0,0,0,0,0,0,0,0,0,0,0,0,0,0,0,0,0,0,0,0,0,0,0,0,0,0,0,0,0,0,0,0,0,0,0,0,0,0,0,0,0,0,0,0,0,0,0,0,0,0,0,0,0,0,0,0,0,0,0,0,0,0,0,0,0,0,0,0,0,0,0,0,0,0,0,0,0,0,0,0,0,0,0,0,0,0,0,0,0,0]},\"fMinimum\":-1111,\"fMaximum\":-1111,\"_yAxisLabel\":\"Projection of total model\",\"_ymin\":0,\"_ymax\":42.3909917876796,\"_normValue\":0},{\"_typename\":\"TPaveText\",\"fUniqueID\":0,\"fBits\":50331656,\"fLineColor\":1,\"fLineStyle\":1,\"fLineWidth\":1,\"fFillColor\":0,\"fFillStyle\":1001,\"fX1\":-3.14160004681349,\"fY1\":12.5868424061688,\"fX2\":-0.785400011703373,\"fY2\":84.8848679176875,\"fX1NDC\":0.1,\"fY1NDC\":0.3,\"fX2NDC\":0.4,\"fY2NDC\":0.9,\"fBorderSize\":1,\"fInit\":1,\"fShadowColor\":1,\"fCornerRadius\":0,\"fOption\":\"BRNDC\",\"fName\":\"phiSDMETotalPDF0_paramBox\",\"fTextAngle\":0,\"fTextSize\":0.04,\"fTextAlign\":12,\"fTextColor\":1,\"fTextFont\":62,\"fLabel\":\"\",\"fLongest\":30,\"fMargin\":0.05,\"fLines\":{\"_typename\":\"TList\",\"name\":\"TList\",\"arr\":[{\"_typename\":\"TLatex\",\"fUniqueID\":0,\"fBits\":50331648,\"fName\":\"\",\"fTitle\":\"Imrho210 =  0.080 +\\/- 0.021\",\"fTextAngle\":0,\"fTextSize\":0,\"fTextAlign\":0,\"fTextColor\":0,\"fTextFont\":0,\"fX\":0,\"fY\":0,\"fLineColor\":1,\"fLineStyle\":1,\"fLineWidth\":2,\"fLimitFactorSize\":3,\"fOriginSize\":0.04},{\"_typename\":\"TLatex\",\"fUniqueID\":0,\"fBits\":50331648,\"fName\":\"\",\"fTitle\":\"Imrho21m1 =  0.275 +\\/- 0.037\",\"fTextAngle\":0,\"fTextSize\":0,\"fTextAlign\":0,\"fTextColor\":0,\"fTextFont\":0,\"fX\":0,\"fY\":0,\"fLineColor\":1,\"fLineStyle\":1,\"fLineWidth\":2,\"fLimitFactorSize\":3,\"fOriginSize\":0.04},{\"_typename\":\"TLatex\",\"fUniqueID\":0,\"fBits\":50331648,\"fName\":\"\",\"fTitle\":\"Rerho010 = -0.10339 +\\/- 0.0038\",\"fTextAngle\":0,\"fTextSize\":0,\"fTextAlign\":0,\"fTextColor\":0,\"fTextFont\":0,\"fX\":0,\"fY\":0,\"fLineColor\":1,\"fLineStyle\":1,\"fLineWidth\":2,\"fLimitFactorSize\":3,\"fOriginSize\":0.04},{\"_typename\":\"TLatex\",\"fUniqueID\":0,\"fBits\":50331648,\"fName\":\"\",\"fTitle\":\"Rerho110 =  0.154 +\\/- 0.014\",\"fTextAngle\":0,\"fTextSize\":0,\"fTextAlign\":0,\"fTextColor\":0,\"fTextFont\":0,\"fX\":0,\"fY\":0,\"fLineColor\":1,\"fLineStyle\":1,\"fLineWidth\":2,\"fLimitFactorSize\":3,\"fOriginSize\":0.04},{\"_typename\":\"TLatex\",\"fUniqueID\":0,\"fBits\":50331648,\"fName\":\"\",\"fTitle\":\"Yld_PhiSDME =  3340 +\\/- 124\",\"fTextAngle\":0,\"fTextSize\":0,\"fTextAlign\":0,\"fTextColor\":0,\"fTextFont\":0,\"fX\":0,\"fY\":0,\"fLineColor\":1,\"fLineStyle\":1,\"fLineWidth\":2,\"fLimitFactorSize\":3,\"fOriginSize\":0.04},{\"_typename\":\"TLatex\",\"fUniqueID\":0,\"fBits\":50331648,\"fName\":\"\",\"fTitle\":\"rho000 =  0.381 +\\/- 0.010\",\"fTextAngle\":0,\"fTextSize\":0,\"fTextAlign\":0,\"fTextColor\":0,\"fTextFont\":0,\"fX\":0,\"fY\":0,\"fLineColor\":1,\"fLineStyle\":1,\"fLineWidth\":2,\"fLimitFactorSize\":3,\"fOriginSize\":0.04},{\"_typename\":\"TLatex\",\"fUniqueID\":0,\"fBits\":50331648,\"fName\":\"\",\"fTitle\":\"rho01m1 =  0.0859 +\\/- 0.0065\",\"fTextAngle\":0,\"fTextSize\":0,\"fTextAlign\":0,\"fTextColor\":0,\"fTextFont\":0,\"fX\":0,\"fY\":0,\"fLineColor\":1,\"fLineStyle\":1,\"fLineWidth\":2,\"fLimitFactorSize\":3,\"fOriginSize\":0.04},{\"_typename\":\"TLatex\",\"fUniqueID\":0,\"fBits\":50331648,\"fName\":\"\",\"fTitle\":\"rho100 = -0.0784 +\\/- 0.042\",\"fTextAngle\":0,\"fTextSize\":0,\"fTextAlign\":0,\"fTextColor\":0,\"fTextFont\":0,\"fX\":0,\"fY\":0,\"fLineColor\":1,\"fLineStyle\":1,\"fLineWidth\":2,\"fLimitFactorSize\":3,\"fOriginSize\":0.04},{\"_typename\":\"TLatex\",\"fUniqueID\":0,\"fBits\":50331648,\"fName\":\"\",\"fTitle\":\"rho111 = -0.0641 +\\/- 0.039\",\"fTextAngle\":0,\"fTextSize\":0,\"fTextAlign\":0,\"fTextColor\":0,\"fTextFont\":0,\"fX\":0,\"fY\":0,\"fLineColor\":1,\"fLineStyle\":1,\"fLineWidth\":2,\"fLimitFactorSize\":3,\"fOriginSize\":0.04},{\"_typename\":\"TLatex\",\"fUniqueID\":0,\"fBits\":50331648,\"fName\":\"\",\"fTitle\":\"rho11m1 =  0.258 +\\/- 0.025\",\"fTextAngle\":0,\"fTextSize\":0,\"fTextAlign\":0,\"fTextColor\":0,\"fTextFont\":0,\"fX\":0,\"fY\":0,\"fLineColor\":1,\"fLineStyle\":1,\"fLineWidth\":2,\"fLimitFactorSize\":3,\"fOriginSize\":0.04}],\"opt\":[\"\",\"\",\"\",\"\",\"\",\"\",\"\",\"\",\"\",\"\"]}},{\"_typename\":\"RooCurve\",\"fUniqueID\":0,\"fBits\":50332680,\"fName\":\"phiSDMETotalPDF0_Int[HelCosTh,MesonPhi,Pol,PolState]_Norm[HelCosTh,HelPhi,MesonPhi,Pol,PolState]_Comp[PhiSDME]\",\"fTitle\":\"Projection of total model\",\"fLineColor\":1,\"fLineStyle\":2,\"fLineWidth\":3,\"fFillColor\":0,\"fFillStyle\":1000,\"fMarkerColor\":1,\"fMarkerStyle\":1,\"fMarkerSize\":1,\"fNpoints\":106,\"fX\":[-3.204432,-3.204432,-3.1416,-3.078768,-3.015936,-2.953104,-2.890272,-2.82744,-2.764608,-2.701776,-2.638944,-2.576112,-2.51328,-2.450448,-2.387616,-2.324784,-2.261952,-2.19912,-2.136288,-2.073456,-2.010624,-1.947792,-1.88496,-1.822128,-1.759296,-1.696464,-1.633632,-1.5708,-1.507968,-1.445136,-1.382304,-1.319472,-1.25664,-1.193808,-1.130976,-1.068144,-1.005312,-0.94248,-0.879648,-0.816816,-0.753984,-0.691152,-0.62832,-0.565488,-0.502656,-0.439824,-0.376992,-0.31416,-0.251328,-0.188496,-0.125664,-0.0628319999999998,0,0.0628319999999998,0.125664,0.188496,0.251328,0.31416,0.376992,0.439824,0.502656,0.565488,0.62832,0.691152,0.753984,0.816816,0.879648,0.94248,1.005312,1.068144,1.130976,1.193808,1.25664,1.319472,1.382304,1.445136,1.507968,1.5708,1.633632,1.696464,1.759296,1.822128,1.88496,1.947792,2.010624,2.073456,2.136288,2.19912,2.261952,2.324784,2.387616,2.450448,2.51328,2.576112,2.638944,2.701776,2.764608,2.82744,2.890272,2.953104,3.015936,3.078768,3.1416,3.1416,3.204432,3.204432],\"fY\":[0,32.77168433717,32.77168433717,32.9563888184907,32.6784725192212,32.9403433757737,31.5758392400451,31.243062547283,30.4852087499906,30.4781639322594,30.5178042336964,31.2592683661949,32.0992562891457,33.3123809433653,33.9583175821255,35.0436849948577,36.5327623178632,37.5122345026003,38.697332438861,39.8223127717286,40.2207693837159,40.7643938333715,42.3909917876796,41.7818321485356,41.8251258979243,42.0096876053154,41.9670314490918,40.3559899856871,41.1493436404583,40.4197101860432,38.3374013181755,38.2222746799385,37.8193079764219,36.4010426108779,35.1321344221415,33.5973146790645,32.37340765945,31.1919749059846,30.6464494116775,29.460254267547,28.6983089214779,28.0430196124261,26.9815991037197,27.0515035666149,26.7810760533234,26.7466147294967,26.7495856007165,26.4105640153903,26.1791529010216,26.4712018635131,26.7988250041593,26.8755787040603,26.6129978894744,26.7366929192939,26.2831138356419,25.7278249515196,25.5634432633818,25.1051976236202,25.0458877686233,25.7104163111461,25.8358637442658,26.8371783844227,27.0134983200428,27.3690621231287,28.4118046725533,29.0783574755846,30.481870187007,30.7682375294238,31.5541786746999,32.7795916659005,34.0742969523255,35.1493181446807,36.0435014866575,37.2556717069369,38.1172947697385,38.4763927165336,40.9026615830454,40.4469193765697,41.0628656668873,40.7402904647654,41.9752067234162,40.8777289521633,40.0875789096751,39.8976700252498,39.6372347312222,38.8177632263725,37.4980509883897,37.6096610851828,36.2800016115029,35.7957202655675,33.7854946298767,33.6971938439443,31.7560434088729,31.1618750323357,30.9253983771774,29.4745805556872,30.7974651130371,31.0631537053506,31.5325689603434,30.9552146587744,32.5638524350631,32.5365982609698,31.7027809099073,31.7027809099073,31.7027809099073,0],\"fFunctions\":{\"_typename\":\"TList\",\"name\":\"TList\",\"arr\":[],\"opt\":[]},\"fHistogram\":{\"_typename\":\"TH1F\",\"fUniqueID\":0,\"fBits\":50332168,\"fName\":\"phiSDMETotalPDF0_Int[HelCosTh,MesonPhi,Pol,PolState]_Norm[HelCosTh,HelPhi,MesonPhi,Pol,PolState]_Comp[PhiSDME]\",\"fTitle\":\"Projection of total model\",\"fLineColor\":602,\"fLineStyle\":1,\"fLineWidth\":1,\"fFillColor\":0,\"fFillStyle\":1001,\"fMarkerColor\":1,\"fMarkerStyle\":1,\"fMarkerSize\":1,\"fNcells\":108,\"fXaxis\":{\"_typename\":\"TAxis\",\"fUniqueID\":0,\"fBits\":50331648,\"fName\":\"xaxis\",\"fTitle\":\"\",\"fNdivisions\":510,\"fAxisColor\":1,\"fLabelColor\":1,\"fLabelFont\":42,\"fLabelOffset\":0.005,\"fLabelSize\":0.035,\"fTickLength\":0.03,\"fTitleOffset\":1,\"fTitleSize\":0.035,\"fTitleColor\":1,\"fTitleFont\":42,\"fNbins\":106,\"fXmin\":-3.8453184,\"fXmax\":3.8453184,\"fXbins\":[],\"fFirst\":0,\"fLast\":0,\"fBits2\":0,\"fTimeDisplay\":false,\"fTimeFormat\":\"\",\"fLabels\":null,\"fModLabs\":null},\"fYaxis\":{\"_typename\":\"TAxis\",\"fUniqueID\":0,\"fBits\":50331648,\"fName\":\"yaxis\",\"fTitle\":\"\",\"fNdivisions\":510,\"fAxisColor\":1,\"fLabelColor\":1,\"fLabelFont\":42,\"fLabelOffset\":0.005,\"fLabelSize\":0.035,\"fTickLength\":0.03,\"fTitleOffset\":0,\"fTitleSize\":0.035,\"fTitleColor\":1,\"fTitleFont\":42,\"fNbins\":1,\"fXmin\":0,\"fXmax\":46.6300909664476,\"fXbins\":[],\"fFirst\":0,\"fLast\":0,\"fBits2\":0,\"fTimeDisplay\":false,\"fTimeFormat\":\"\",\"fLabels\":null,\"fModLabs\":null},\"fZaxis\":{\"_typename\":\"TAxis\",\"fUniqueID\":0,\"fBits\":50331648,\"fName\":\"zaxis\",\"fTitle\":\"\",\"fNdivisions\":510,\"fAxisColor\":1,\"fLabelColor\":1,\"fLabelFont\":42,\"fLabelOffset\":0.005,\"fLabelSize\":0.035,\"fTickLength\":0.03,\"fTitleOffset\":1,\"fTitleSize\":0.035,\"fTitleColor\":1,\"fTitleFont\":42,\"fNbins\":1,\"fXmin\":0,\"fXmax\":1,\"fXbins\":[],\"fFirst\":0,\"fLast\":0,\"fBits2\":0,\"fTimeDisplay\":false,\"fTimeFormat\":\"\",\"fLabels\":null,\"fModLabs\":null},\"fBarOffset\":0,\"fBarWidth\":1000,\"fEntries\":0,\"fTsumw\":0,\"fTsumw2\":0,\"fTsumwx\":0,\"fTsumwx2\":0,\"fMaximum\":46.6300909664476,\"fMinimum\":0,\"fNormFactor\":0,\"fContour\":[],\"fSumw2\":[],\"fOption\":\"\",\"fFunctions\":{\"_typename\":\"TList\",\"name\":\"TList\",\"arr\":[],\"opt\":[]},\"fBufferSize\":0,\"fBuffer\":[],\"fBinStatErrOpt\":0,\"fStatOverflows\":2,\"fArray\":[0,0,0,0,0,0,0,0,0,0,0,0,0,0,0,0,0,0,0,0,0,0,0,0,0,0,0,0,0,0,0,0,0,0,0,0,0,0,0,0,0,0,0,0,0,0,0,0,0,0,0,0,0,0,0,0,0,0,0,0,0,0,0,0,0,0,0,0,0,0,0,0,0,0,0,0,0,0,0,0,0,0,0,0,0,0,0,0,0,0,0,0,0,0,0,0,0,0,0,0,0,0,0,0,0,0,0,0]},\"fMinimum\":-1111,\"fMaximum\":-1111,\"_yAxisLabel\":\"Projection of total model\",\"_ymin\":0,\"_ymax\":42.3909917876796,\"_normValue\":0},{\"$ref\":3},{\"_typename\":\"TPaveText\",\"fUniqueID\":0,\"fBits\":50331657,\"fLineColor\":1,\"fLineStyle\":1,\"fLineWidth\":1,\"fFillColor\":0,\"fFillStyle\":0,\"fX1\":-1.75992795725945,\"fY1\":88.9797142874752,\"fX2\":1.75992795725945,\"fY2\":96.3320558649177,\"fX1NDC\":0.275919540229885,\"fY1NDC\":0.933983055615829,\"fX2NDC\":0.724080459770115,\"fY2NDC\":0.995000004768372,\"fBorderSize\":0,\"fInit\":1,\"fShadowColor\":1,\"fCornerRadius\":0,\"fOption\":\"blNDC\",\"fName\":\"title\",\"fTextAngle\":0,\"fTextSize\":0,\"fTextAlign\":22,\"fTextColor\":1,\"fTextFont\":42,\"fLabel\":\"\",\"fLongest\":25,\"fMargin\":0.05,\"fLines\":{\"_typename\":\"TList\",\"name\":\"TList\",\"arr\":[{\"_typename\":\"TLatex\",\"fUniqueID\":0,\"fBits\":50331648,\"fName\":\"\",\"fTitle\":\"Fit components for HelPhi\",\"fTextAngle\":0,\"fTextSize\":0,\"fTextAlign\":0,\"fTextColor\":0,\"fTextFont\":0,\"fX\":0,\"fY\":0,\"fLineColor\":1,\"fLineStyle\":1,\"fLineWidth\":2,\"fLimitFactorSize\":3,\"fOriginSize\":0.0518644079566002}],\"opt\":[\"\"]}}],\"opt\":[\"\",\"FUNC\",\"p\",\"l\",\"BRNDC\",\"l\",\"AXISSAME\",\"blNDC\"]},\"fExecs\":null,\"fName\":\"phiSDMEHelPhi1\",\"fTitle\":\"phiSDMEHelPhi\",\"fNumPaletteColor\":0,\"fNextPaletteColor\":0,\"fDISPLAY\":\"$DISPLAY\",\"fDoubleBuffer\":0,\"fRetained\":true,\"fXsizeUser\":0,\"fYsizeUser\":0,\"fXsizeReal\":20,\"fYsizeReal\":14.28571,\"fWindowTopX\":0,\"fWindowTopY\":0,\"fWindowWidth\":0,\"fWindowHeight\":0,\"fCw\":696,\"fCh\":472,\"fCatt\":{\"_typename\":\"TAttCanvas\",\"fXBetween\":2,\"fYBetween\":2,\"fTitleFromTop\":1.2,\"fXdate\":0.2,\"fYdate\":0.3,\"fAdate\":1},\"kMoveOpaque\":true,\"kResizeOpaque\":true,\"fHighLightColor\":2,\"fBatch\":true,\"kShowEventStatus\":false,\"kAutoExec\":true,\"kMenuBar\":true});\n",
       "       Core.draw(\"root_plot_3\", obj, \"\");\n",
       "     }\n",
       " );\n",
       "</script>\n"
      ],
      "text/plain": [
       "<IPython.core.display.HTML object>"
      ]
     },
     "metadata": {},
     "output_type": "display_data"
    }
   ],
   "source": [
    "((TCanvas*)RF->GetPlots()->At(2))->Draw()"
   ]
  }
 ],
 "metadata": {
  "kernelspec": {
   "display_name": "ROOT C++",
   "language": "c++",
   "name": "root"
  },
  "language_info": {
   "codemirror_mode": "text/x-c++src",
   "file_extension": ".C",
   "mimetype": " text/x-c++src",
   "name": "c++"
  }
 },
 "nbformat": 4,
 "nbformat_minor": 2
}
