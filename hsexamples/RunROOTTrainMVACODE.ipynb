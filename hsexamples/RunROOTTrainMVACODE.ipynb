{
 "cells": [
  {
   "cell_type": "code",
   "execution_count": null,
   "metadata": {
    "scrolled": true
   },
   "outputs": [],
   "source": [
    "gROOT->ProcessLine(\".x LoadK2.C+\");"
   ]
  },
  {
   "cell_type": "code",
   "execution_count": null,
   "metadata": {
    "scrolled": false
   },
   "outputs": [],
   "source": [
    " K2 fs(\"Beam\",\"Beam\");\n",
    "  // fs.SetGenerated(); //just analyse generated branch\n",
    "  // fs.SetMaxParticles(10); //max number of particles of any 1 type\n",
    " "
   ]
  },
  {
   "cell_type": "code",
   "execution_count": null,
   "metadata": {},
   "outputs": [],
   "source": [
    "auto output = new HS::FiledTree(\"tt\",\"testcuts.root\");\n",
    "fs.FinalStateOutTree(output->Tree()); //connect ouput tree to final state branches"
   ]
  },
  {
   "cell_type": "code",
   "execution_count": null,
   "metadata": {},
   "outputs": [],
   "source": [
    "ParticleCutsManager cutsman;\n",
    "auto beamCut=make_shared<DeltaTimePCut>(20,3); //7ns delta time cut\n",
    "auto otherCut=make_shared<DeltaTimePCut>(20,3); //10ns cut for all other particles\n",
    "cutsman.AddParticleCut(\"Beam\",beamCut); //assign to manager\n",
    "cutsman.SetDefaultCut(otherCut); //assign to manager\n",
    "cutsman.ConfigureCuts(&fs);    //propogate the cuts to topologies in fs"
   ]
  },
  {
   "cell_type": "code",
   "execution_count": null,
   "metadata": {},
   "outputs": [],
   "source": [
    "fs.RegisterPostTopoAction(&cutsman);"
   ]
  },
  {
   "cell_type": "code",
   "execution_count": null,
   "metadata": {
    "scrolled": true
   },
   "outputs": [],
   "source": [
    "auto treeman=new TreePrepManager(\"/scratch/dglazier/g8/particles/t3MVAMLP\");\n",
    "treeman->SetParticleVars(\"Beam\",{\"P\",\"Time\"}); //For beam only interesetef in energy and time\n",
    "treeman->ConfigureTreeParticles(&fs); //propogate through topologies\n",
    "//treeman.SetN(50000); //Number of events required for each topo. Number of train+test events must be less than this\n",
    "fs.RegisterPostWorkAction(treeman); //register post-work i.e. after kinematics is called and all calculations"
   ]
  },
  {
   "cell_type": "code",
   "execution_count": null,
   "metadata": {},
   "outputs": [],
   "source": [
    " //create datamanager\n",
    "  auto dm=std::make_shared<DataManager>();\n",
    "\n",
    "  //And make a chain of data files\n",
    "  TChain chain(\"HSParticles\");\n",
    "  chain.Add(\"/w/work1/jlab/hallb/HS_g8/1_9_list/flist_048088.dat.root\");\n",
    "  chain.Add(\"/w/work1/jlab/hallb/HS_g8/1_9_list/flist_048089.dat.root\");\n",
    "//  chain.Add(\"/w/work1/jlab/hallb/HS_g8/1_9_list/flist_048090.dat.root\");\n",
    "\n",
    "  chain.Add(\"/w/work1/jlab/hallb/HSg8/g8sim_2k_b/rec_edgen_.root\");\n",
    "   dm->InitChain(&chain);\n",
    "\n",
    "  //connect FinalState to Data by moving the pointer\n",
    "  fs.SetDataManager(dm);"
   ]
  },
  {
   "cell_type": "code",
   "execution_count": null,
   "metadata": {
    "scrolled": true
   },
   "outputs": [],
   "source": [
    "cout<<\"Number of Events to process \"<<chain.GetEntries()<<endl;\n",
    "\n",
    "fs.ProcessData(); //No number give, analyse all events in chain\n",
    "cout<<\"Done \"<<dm->GetEntry()<< \" events \"<<endl;"
   ]
  },
  {
   "cell_type": "markdown",
   "metadata": {},
   "source": [
    "And remember to save the tree!"
   ]
  },
  {
   "cell_type": "code",
   "execution_count": null,
   "metadata": {},
   "outputs": [],
   "source": [
    "//delete output;"
   ]
  },
  {
   "cell_type": "code",
   "execution_count": null,
   "metadata": {},
   "outputs": [],
   "source": [
    "%jsroot on"
   ]
  },
  {
   "cell_type": "code",
   "execution_count": null,
   "metadata": {},
   "outputs": [],
   "source": [
    "TCanvas c3;\n",
    "c3.Divide(2,2);\n",
    "c3.cd(1);\n",
    "treeman->GetPrep(0)->Tree()->Draw(\"BeamP:BeamTime>>h1(100,-10,10,100,0.4)\",\"\",\"col1\");\n",
    "c3.cd(2);\n",
    "treeman->GetPrep(0)->Tree()->Draw(\"ProtonP:ProtonTime>>h2(100,-10,10,100,0,4)\",\"\",\"col1\");\n",
    "c3.cd(3);\n",
    "treeman->GetPrep(0)->Tree()->Draw(\"KpP:KpTime>>h3(100,-10,10,100,0,4)\",\"\",\"col1\");\n",
    "c3.cd(4);\n",
    "treeman->GetPrep(0)->Tree()->Draw(\"KmP:KmTime>>h4(100,-10,10,100,0,4)\",\"\",\"col1\");\n"
   ]
  },
  {
   "cell_type": "code",
   "execution_count": null,
   "metadata": {
    "scrolled": false
   },
   "outputs": [],
   "source": [
    "c3.Draw();"
   ]
  },
  {
   "cell_type": "markdown",
   "metadata": {},
   "source": [
    "Now train the MVA classifiers"
   ]
  },
  {
   "cell_type": "code",
   "execution_count": null,
   "metadata": {},
   "outputs": [],
   "source": [
    "gROOT->ProcessLine(\".x $HSCODE/hsmva/LoadHSMVA.C\");"
   ]
  },
  {
   "cell_type": "code",
   "execution_count": null,
   "metadata": {
    "scrolled": true
   },
   "outputs": [],
   "source": [
    " for(UInt_t ip=0;ip<treeman->NPreps();ip++ ){ //Loop over topologies\n",
    "   auto prep=treeman->GetPrep(ip);\n",
    "   cout<<prep<<endl;\n",
    "   auto trainer=  new TrainSignalID(Form(\"Topo%d\",ip));\n",
    "     \n",
    "   trainer->SetOutDir(treeman->OutDir());\n",
    "   trainer->IgnoreBranches(\"Signal:Background\"); //ignore these branches for training\n",
    "   trainer->AddSignalTree(prep->Tree(),\"Signal\"); //Use \"Signal\" branch to filter Signal events\n",
    "   trainer->AddBackgroundTree(prep->Tree(),\"Background\"); //Use \"Background\" branch for bg events\n",
    "   trainer->SetNTrainTest(50000,50000); //set number of training and testing events, there must be sufficient number in the trees for each topo\n",
    "   trainer->PrepareTrees(); \n",
    "   //trainer->BookMethod(Meths.BDTA); //choose some classifiers\n",
    "   trainer->BookMethod(Meths.MLP); //choose some classifiers\n",
    "   trainer->DoTraining();\n",
    "   trainer->DrawROCCurve();\n",
    "   //trainer->DrawResponses();\n",
    "   delete trainer;\n",
    "  }"
   ]
  },
  {
   "cell_type": "markdown",
   "metadata": {},
   "source": [
    "**When ready delete the treeman so trees as saved to the output directory**"
   ]
  },
  {
   "cell_type": "code",
   "execution_count": null,
   "metadata": {},
   "outputs": [],
   "source": [
    "delete treeman;"
   ]
  }
 ],
 "metadata": {
  "kernelspec": {
   "display_name": "ROOT C++",
   "language": "c++",
   "name": "root"
  },
  "language_info": {
   "codemirror_mode": "text/x-c++src",
   "file_extension": ".C",
   "mimetype": " text/x-c++src",
   "name": "c++"
  }
 },
 "nbformat": 4,
 "nbformat_minor": 2
}
