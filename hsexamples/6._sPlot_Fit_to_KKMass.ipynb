{
 "cells": [
  {
   "cell_type": "markdown",
   "metadata": {},
   "source": [
    "## SPlot fit to invariant mass of 2 kaons\n",
    "\n",
    "The sPlot technique is used to perform background subtraction. Here we assume signal is just phi photoproduction, while background can be other 2 kaon final states or mis-identified events.\n",
    "\n",
    "We use simulated data to provide a good approximation of the phi PDF including experimental resultions and acceptances.\n",
    "\n",
    "The background is assumed to be smooth under the phi peak and is paramterised by a 2 parameter Chebychev.\n",
    "\n",
    "The classes used here are wrappers to the RooStats sPlot implementation, which uses a RooFit extended maximum likelihood fit to the data to determine signal and background yeilds and covariances."
   ]
  },
  {
   "cell_type": "code",
   "execution_count": 1,
   "metadata": {},
   "outputs": [
    {
     "name": "stdout",
     "output_type": "stream",
     "text": [
      "%%%%%%%%%%%%%%%%%%%%%%%%%    Weights\n",
      "%%%%%%%%%%%%%%%%%%%%%%%%%    Bins\n",
      "FFFFFFFFFFFFFFFFFFFFFFFFF RooHSEventsPDF\n",
      "\n",
      "\u001b[1mRooFit v3.60 -- Developed by Wouter Verkerke and David Kirkby\u001b[0m \n",
      "                Copyright (C) 2000-2013 NIKHEF, University of California & Stanford University\n",
      "                All rights reserved, please read http://roofit.sourceforge.net/license.txt\n",
      "\n",
      "FFFFFFFFFFFFFFFFFFFFFFFFF RooHSEventsHistPDF\n",
      "FFFFFFFFFFFFFFFFFFFFFFFFF HSMCMC\n",
      "FFFFFFFFFFFFFFFFFFFFFFFFF HSRooFit\n",
      "FFFFFFFFFFFFFFFFFFFFFFFFF HSsPlot\n"
     ]
    }
   ],
   "source": [
    "gROOT->ProcessLine(\".x $HSCODE/hsfit/LoadHSFit.C+\");"
   ]
  },
  {
   "cell_type": "markdown",
   "metadata": {},
   "source": [
    "Create the sPlot class. All output will be saved in directory \"out2\""
   ]
  },
  {
   "cell_type": "code",
   "execution_count": 2,
   "metadata": {},
   "outputs": [],
   "source": [
    "  HSsPlot* RF=new HSsPlot(\"SF\");\n",
    "  RF->SetOutDir(\"outNov/\");\n",
    " "
   ]
  },
  {
   "cell_type": "markdown",
   "metadata": {},
   "source": [
    "Load variables, \n",
    "Fit variable\n",
    "\n",
    "        MesonMass = M(2K) discriminatory variable used to assess signal and background \n",
    "Cut variables (just used to filter events)\n",
    "\n",
    "        Eg = tagged photon energy, coherent peak region 1.7-1.9 GeV\n",
    "        MLP = result of MultiLayerPerceptron classifier > 0.98\n",
    "        Topo = which final state topolgies to use, pK+ and pK-\n",
    "        MesonCosPhi = CoM production angle of the $\\phi$\n"
   ]
  },
  {
   "cell_type": "code",
   "execution_count": 3,
   "metadata": {},
   "outputs": [],
   "source": [
    " ///////////////////////////////Load Variables\n",
    "  RF->LoadVariable(\"MesonMass[0.99,1.05]\");//should be same name as variable in tree \n",
    "  RF->LoadAuxVars(\"Eg[1.7,1.9]\");//Not to be fitted but limits applied to dataset\n",
    "  RF->LoadAuxVars(\"MLP[0.98,1]\");//Not to be fitted but limits applied to dataset\n",
    "  RF->LoadAuxVars(\"Topo[0.5,2.5]\");//Not to be fitted but limits applied to dataset\n",
    "  RF->LoadAuxVars(\"MesonCosTh[-0.5,0.5]\");//Not to be fitted but limits applied to dataset"
   ]
  },
  {
   "cell_type": "markdown",
   "metadata": {},
   "source": [
    "Define the signal MesonMass PDF\n",
    "\n",
    "Use custom RooHSEventsPDF class to base PDF shape on simulated data.\n",
    "Additional parameters will be constrained in fit :\n",
    "\n",
    "        alpha = Gaussian convolution width:  >0, MLV = 0, sigma = 0.1/5 GeV\n",
    "        off = MesonMass peak offset: MLV = 0, sigma 0.1/10 GeV\n",
    "        scale = MesonMass scale factor : MLV= 1, sigma 0.1/5, limits 0.9 and 1.1"
   ]
  },
  {
   "cell_type": "code",
   "execution_count": 4,
   "metadata": {},
   "outputs": [
    {
     "name": "stdout",
     "output_type": "stream",
     "text": [
      "RooGaussian::AlphaConstrPhi[ x=alpha mean=0 sigma=0.02 ] = 1\n",
      "RooGaussian::OffConstrPhi[ x=off mean=0 sigma=0.01 ] = 1\n",
      "RooGaussian::ScConstrPhi[ x=scale mean=1 sigma=0.02 ] = 1\n",
      "COPYNG 0x7fb1c70ed4e0 0\n",
      "COPYNG 0x7fb1c7104f50 0\n"
     ]
    }
   ],
   "source": [
    " RF->Factory(\"RooHSEventsHistPDF::Phi(MesonMass,alpha[0,0,0.1],off[0,-0.05,0.05],scale[1,0.9,1.1])\");\n",
    " RooHSEventsHistPDF* pdf=dynamic_cast<RooHSEventsHistPDF*>(RF->GetWorkSpace()->pdf(\"Phi\"));"
   ]
  },
  {
   "cell_type": "markdown",
   "metadata": {},
   "source": [
    "Give the simulated data tree to the PDF"
   ]
  },
  {
   "cell_type": "code",
   "execution_count": 5,
   "metadata": {},
   "outputs": [
    {
     "name": "stdout",
     "output_type": "stream",
     "text": [
      "MesonMass\n",
      "0\n"
     ]
    },
    {
     "name": "stderr",
     "output_type": "stream",
     "text": [
      "Info in <HS::FIT::RooHSEventsHistPDF::RooHSEventsPDF::SetEvTree>:  with name tt and cut MesonMass>=0.990000&&MesonMass<=1.050000&&Eg>=1.700000&&Eg<=1.900000&&MLP>=0.980000&&MLP<=1.000000&&Topo>=0.500000&&Topo<=2.500000&&MesonCosTh>=-0.500000&&MesonCosTh<=0.500000\n"
     ]
    },
    {
     "name": "stdout",
     "output_type": "stream",
     "text": [
      "tree entries 80332 1\n",
      "      RooHSEventsHistPDF::CreateHistPdf()  \n",
      "[#1] INFO:DataHandling -- RooDataHist::adjustBinning(hmc_model_MesonMassPhi): fit range of variable offMesonMass expanded to nearest bin boundaries: [0.936667,1.10333] --> [0.936667,1.10333]\n",
      "[#1] INFO:DataHandling -- RooDataHist::adjustBinning(hmc_model_MesonMassPhi): fit range of variable Valpha expanded to nearest bin boundaries: [0,0.1] --> [-0.0001,0.1001]\n"
     ]
    }
   ],
   "source": [
    "auto sfile=new TFile(\"Simtestmvamlpinc.root\");\n",
    "auto stree=(TTree*)sfile->Get(\"tt\");\n",
    "pdf->SetEvTree(stree,RF->GetCut());"
   ]
  },
  {
   "cell_type": "markdown",
   "metadata": {},
   "source": [
    "Register signal PDF to the Extended Maximimum Likelihood fit"
   ]
  },
  {
   "cell_type": "code",
   "execution_count": 6,
   "metadata": {},
   "outputs": [],
   "source": [
    " RF->LoadSpeciesPDF(\"Phi\",1);"
   ]
  },
  {
   "cell_type": "markdown",
   "metadata": {},
   "source": [
    "Apply Gaussian constraints to the signal PDF"
   ]
  },
  {
   "cell_type": "code",
   "execution_count": 7,
   "metadata": {},
   "outputs": [
    {
     "name": "stdout",
     "output_type": "stream",
     "text": [
      "[#1] INFO:ObjectHandling -- RooWorkspace::import(wHS) importing RooGaussian::AlphaConstrPhi\n",
      "[#1] INFO:ObjectHandling -- RooWorkspace::import(wHS) importing RooConstVar::0\n",
      "[#1] INFO:ObjectHandling -- RooWorkspace::import(wHS) importing RooConstVar::0.02\n",
      "[#1] INFO:ObjectHandling -- RooWorkspace::import(wHS) importing RooGaussian::OffConstrPhi\n",
      "[#1] INFO:ObjectHandling -- RooWorkspace::import(wHS) importing RooConstVar::0.01\n",
      "[#1] INFO:ObjectHandling -- RooWorkspace::import(wHS) importing RooGaussian::ScConstrPhi\n",
      "[#1] INFO:ObjectHandling -- RooWorkspace::import(wHS) importing RooConstVar::1\n"
     ]
    }
   ],
   "source": [
    "  RF->AddGausConstraint(pdf->AlphaConstraint());\n",
    "  RF->AddGausConstraint(pdf->OffConstraint());\n",
    "  RF->AddGausConstraint(pdf->ScaleConstraint());"
   ]
  },
  {
   "cell_type": "markdown",
   "metadata": {},
   "source": [
    "Register a 2 parameter Chebychev polynomial as the background PDF"
   ]
  },
  {
   "cell_type": "code",
   "execution_count": 8,
   "metadata": {},
   "outputs": [],
   "source": [
    " RF->Factory(\"Chebychev::BG(MesonMass,{a0[0.15,-1,1],a1[-0.25,-1,1]})\");\n",
    " RF->LoadSpeciesPDF(\"BG\");"
   ]
  },
  {
   "cell_type": "markdown",
   "metadata": {},
   "source": [
    "Apply additional filter to the real data, but not the simulated data. Here the linear polarisation is not simulated and so we can not apply these cuts on polarisation state and degree to simulated data.\n",
    "\n",
    "Load the data to be fitted. Here we take the output of the MLP finalstate analysis"
   ]
  },
  {
   "cell_type": "code",
   "execution_count": 9,
   "metadata": {},
   "outputs": [
    {
     "name": "stdout",
     "output_type": "stream",
     "text": [
      "[#1] INFO:Eval -- RooAbsReal::attachToTree(MLP) TTree Float_t branch MLP will be converted to double precision\n",
      "[#1] INFO:Eval -- RooAbsReal::attachToTree(Topo) TTree Int_t branch Topo will be converted to double precision\n",
      "[#1] INFO:DataHandling -- RooAbsCategory::attachToTree(PolState) TTree branch PolState will be interpreted as category index\n",
      "[#1] INFO:Eval -- RooTreeDataStore::loadValues(tt) Ignored 437 out of range events\n",
      "HSRooFit::LoadDataSet(TTree*) Print dataset for tt\n",
      "RooDataSet::tt[MesonMass,Eg,MLP,Topo,MesonCosTh,Pol,PolState,UID] = 363 entries\n"
     ]
    }
   ],
   "source": [
    "RF->LoadAuxVars(\"Pol[0,1]\");//Not to be fitted but limits applied to dataset\n",
    "RF->LoadAuxVars(\"PolState[Polp=1,Polm=-1]\");//Load a category\n",
    "auto dfile=new TFile(\"testmvamlpinc.root\");\n",
    "auto dtree=(TTree*)dfile->Get(\"tt\");\n",
    "RF->SetIDBranchName(\"UID\");\n",
    "RF->LoadDataSet(dtree);"
   ]
  },
  {
   "cell_type": "markdown",
   "metadata": {},
   "source": [
    "Turn on ROOT javascript magic for plotting"
   ]
  },
  {
   "cell_type": "code",
   "execution_count": 10,
   "metadata": {},
   "outputs": [],
   "source": [
    "%jsroot on"
   ]
  },
  {
   "cell_type": "markdown",
   "metadata": {},
   "source": [
    "Now just perform a single Maximum Likelihhod fit with Minuit2 minimiser. And draw the result"
   ]
  },
  {
   "cell_type": "code",
   "execution_count": 11,
   "metadata": {
    "scrolled": false
   },
   "outputs": [
    {
     "name": "stdout",
     "output_type": "stream",
     "text": [
      "HSRooFit::TotalPDF() 0x7fb1c6981540 0\n",
      "RooAddPdf::SFTotalPDF[ Yld_Phi * Phi + Yld_BG * BG ] = 3.55595e+06\n",
      "HSRooFit::TotalPDF() SFTotalPDF0\n",
      "COPYNG 0x7fb1c70e93c0 0x7fb1c4f5e980\n",
      "COPYNG 0x7fb1b4348ba0 0x7fb1c7bf28d0\n",
      "[#1] INFO:ObjectHandling -- RooWorkspace::import(wHS) importing RooAddPdf::SFTotalPDF0\n",
      "[#1] INFO:ObjectHandling -- RooWorkspace::import(wHS) using existing copy of HS::FIT::RooHSEventsHistPDF::Phi for import of RooAddPdf::SFTotalPDF0\n",
      "[#1] INFO:ObjectHandling -- RooWorkspace::import(wHS) using existing copy of RooRealVar::MesonMass for import of RooAddPdf::SFTotalPDF0\n",
      "[#1] INFO:ObjectHandling -- RooWorkspace::import(wHS) using existing copy of RooRealVar::off for import of RooAddPdf::SFTotalPDF0\n",
      "[#1] INFO:ObjectHandling -- RooWorkspace::import(wHS) using existing copy of RooRealVar::scale for import of RooAddPdf::SFTotalPDF0\n",
      "[#1] INFO:ObjectHandling -- RooWorkspace::import(wHS) using existing copy of RooRealVar::alpha for import of RooAddPdf::SFTotalPDF0\n",
      "[#1] INFO:ObjectHandling -- RooWorkspace::import(wHS) using existing copy of RooRealVar::Yld_Phi for import of RooAddPdf::SFTotalPDF0\n",
      "[#1] INFO:ObjectHandling -- RooWorkspace::import(wHS) using existing copy of RooChebychev::BG for import of RooAddPdf::SFTotalPDF0\n",
      "[#1] INFO:ObjectHandling -- RooWorkspace::import(wHS) using existing copy of RooRealVar::a0 for import of RooAddPdf::SFTotalPDF0\n",
      "[#1] INFO:ObjectHandling -- RooWorkspace::import(wHS) using existing copy of RooRealVar::a1 for import of RooAddPdf::SFTotalPDF0\n",
      "[#1] INFO:ObjectHandling -- RooWorkspace::import(wHS) using existing copy of RooRealVar::Yld_BG for import of RooAddPdf::SFTotalPDF0\n",
      "RooAddPdf::SFTotalPDF0[ Yld_Phi * Phi + Yld_BG * BG ] = 3.55595e+06\n",
      "\n",
      "RooWorkspace(wHS) wHS contents\n",
      "\n",
      "variables\n",
      "---------\n",
      "(Eg,MLP,MesonCosTh,MesonMass,Pol,PolState,Topo,UID,Yld_BG,Yld_Phi,a0,a1,alpha,off,scale)\n",
      "\n",
      "p.d.f.s\n",
      "-------\n",
      "RooGaussian::AlphaConstrPhi[ x=alpha mean=0 sigma=0.02 ] = 1\n",
      "RooChebychev::BG[ x=MesonMass coefList=(a0,a1) ] = 1.25\n",
      "RooGaussian::OffConstrPhi[ x=off mean=0 sigma=0.01 ] = 1\n",
      "HS::FIT::RooHSEventsHistPDF::Phi[ MesonMass=MesonMass off=off scale=scale alpha=alpha ] = 7.1119e+06\n",
      "RooAddPdf::SFTotalPDF0[ Yld_Phi * Phi + Yld_BG * BG ] = 3.55595e+06\n",
      "RooGaussian::ScConstrPhi[ x=scale mean=1 sigma=0.02 ] = 1\n",
      "\n",
      "named sets\n",
      "----------\n",
      "ID:(UID)\n",
      "SFAuxVars:(Eg,MLP,Topo,MesonCosTh,Pol,PolState)\n",
      "SFBinVars:()\n",
      "SFConstraints:(AlphaConstrPhi,OffConstrPhi,ScConstrPhi)\n",
      "SFPDFs:(Phi,BG)\n",
      "SFParameters:(alpha,off,scale,a0,a1)\n",
      "SFVariables:(MesonMass)\n",
      "SFYields:(Yld_Phi,Yld_BG)\n",
      "\n",
      "RooAddPdf::SFTotalPDF0[ Yld_Phi * Phi + Yld_BG * BG ] = 3.55595e+06\n",
      "RooArgList:: = (AlphaConstrPhi,OffConstrPhi,ScConstrPhi)\n",
      "0x7fb1c7899aa0 : OBJ: RooCmdArg\tExtended\tExtended\n",
      "0x7fb1b43884a0 : OBJ: RooCmdArg\tNumCPU\tNumCPU\n",
      "0x7fb1b435d380 : OBJ: RooCmdArg\tSave\tSave\n",
      "0x7fb1c7104f50 : OBJ: RooCmdArg\tWarnings\tWarnings\n",
      "0x7fb1c7a71060 : OBJ: RooCmdArg\tExternalConstraints\tExternalConstraints\n",
      "COPYNG 0x7fb1c70e93c0 0x7fb1c4f5e980\n",
      "[#1] INFO:Minization -- createNLL: caching constraint set under name CONSTR_OF_PDF_SFTotalPDF0_FOR_OBS_Eg:MLP:MesonCosTh:MesonMass:Pol:PolState:Topo:UID with 3 entries\n",
      "[#1] INFO:Minization --  Including the following contraint terms in minimization: (AlphaConstrPhi,OffConstrPhi,ScConstrPhi)\n",
      "[#1] INFO:Fitting -- RooAddition::defaultErrorLevel(nll_SFTotalPDF0_tt_with_constr) Summation contains a RooNLLVar, using its error level\n",
      "[#1] INFO:Minization -- RooMinimizer::optimizeConst: activating const optimization\n",
      "[#0] WARNING:Optimization -- RooAbsOptTestStatistic::optimizeConstantTerms(nll_SFTotalPDF0_tt) WARNING Cache-and-track optimization (Optimize level 2) is only available for datasets implement in terms of RooVectorDataStore - ignoring this option for current dataset\n"
     ]
    },
    {
     "name": "stderr",
     "output_type": "stream",
     "text": [
      "Info in <HS::FIT::HSsPlot::HSRooFit::Fit()>:  Starting\n"
     ]
    },
    {
     "name": "stdout",
     "output_type": "stream",
     "text": [
      " **********\n",
      " **    1 **SET PRINT           1\n",
      " **********\n",
      " **********\n",
      " **    2 **SET NOGRAD\n",
      " **********\n",
      " PARAMETER DEFINITIONS:\n",
      "    NO.   NAME         VALUE      STEP SIZE      LIMITS\n",
      "     1 Yld_BG       1.81500e+02  7.26000e+01    0.00000e+00  7.26000e+02\n",
      "     2 Yld_Phi      1.81500e+02  7.26000e+01    0.00000e+00  7.26000e+02\n",
      "     3 a0           1.50000e-01  2.00000e-01   -1.00000e+00  1.00000e+00\n",
      "     4 a1          -2.50000e-01  2.00000e-01   -1.00000e+00  1.00000e+00\n",
      "     5 alpha        0.00000e+00  1.00000e-02    0.00000e+00  1.00000e-01\n",
      " MINUIT WARNING IN PARAM DEF\n",
      " ============== STARTING VALUE IS AT LIMIT.\n",
      " MINUIT WARNING IN PARAMETR\n",
      " ============== VARIABLE5 IS AT ITS LOWER ALLOWED LIMIT.\n",
      " MINUIT WARNING IN PARAMETR\n",
      " ============== VARIABLE5 BROUGHT BACK INSIDE LIMITS.\n",
      "     6 off          0.00000e+00  1.00000e-02   -5.00000e-02  5.00000e-02\n",
      "     7 scale        1.00000e+00  2.00000e-02    9.00000e-01  1.10000e+00\n",
      " **********\n",
      " **    3 **SET ERR         0.5\n",
      " **********\n",
      " **********\n",
      " **    4 **SET PRINT           1\n",
      " **********\n",
      " **********\n",
      " **    5 **SET STR           1\n",
      " **********\n",
      " NOW USING STRATEGY  1: TRY TO BALANCE SPEED AGAINST RELIABILITY\n",
      " **********\n",
      " **    6 **MIGRAD        3500           1\n",
      " **********\n",
      " FIRST CALL TO USER FUNCTION AT NEW START POINT, WITH IFLAG=4.\n",
      " MINUIT WARNING IN MIGrad    \n",
      " ============== VARIABLE5 IS AT ITS LOWER ALLOWED LIMIT.\n",
      " START MIGRAD MINIMIZATION.  STRATEGY  1.  CONVERGENCE WHEN EDM .LT. 1.00e-03\n",
      " FCN=-2810.06 FROM MIGRAD    STATUS=INITIATE       55 CALLS          56 TOTAL\n",
      "                     EDM= unknown      STRATEGY= 1      NO ERROR MATRIX       \n",
      "  EXT PARAMETER               CURRENT GUESS       STEP         FIRST   \n",
      "  NO.   NAME      VALUE            ERROR          SIZE      DERIVATIVE \n",
      "   1  Yld_BG       1.81500e+02   7.26000e+01   0.00000e+00  -2.44242e+00\n",
      "   2  Yld_Phi      1.81500e+02   7.26000e+01   0.00000e+00   2.44242e+00\n",
      "   3  a0           1.50000e-01   2.00000e-01   0.00000e+00  -2.26101e+01\n",
      "   4  a1          -2.50000e-01   2.00000e-01   0.00000e+00  -8.04654e+00\n",
      "   5  alpha        3.34855e-02   1.00000e-02   1.23223e+00   6.92743e-01\n",
      "   6  off          0.00000e+00   1.00000e-02   0.00000e+00  -2.79513e+01\n",
      "   7  scale        1.00000e+00   2.00000e-02   0.00000e+00   2.55936e-01\n",
      "                               ERR DEF= 0.5\n",
      " MIGRAD MINIMIZATION HAS CONVERGED.\n",
      " MIGRAD WILL VERIFY CONVERGENCE AND ERROR MATRIX.\n",
      " COVARIANCE MATRIX CALCULATED SUCCESSFULLY\n",
      " FCN=-2822.28 FROM MIGRAD    STATUS=CONVERGED     817 CALLS         818 TOTAL\n",
      "                     EDM=0.00017404    STRATEGY= 1      ERROR MATRIX ACCURATE \n",
      "  EXT PARAMETER                                   STEP         FIRST   \n",
      "  NO.   NAME      VALUE            ERROR          SIZE      DERIVATIVE \n",
      "   1  Yld_BG       3.34161e+02   2.50026e+01   1.91941e-03  -1.08213e-01\n",
      "   2  Yld_Phi      2.87319e+01   1.78779e+01   3.02922e-03  -3.60698e-02\n",
      "   3  a0           5.04864e-01   9.60886e-02   3.73885e-03  -9.15505e-03\n",
      "   4  a1           3.86376e-02   1.13661e-01   3.22676e-03  -4.60157e-02\n",
      "   5  alpha        4.55477e-04   3.44189e-03   1.31699e-02   2.10964e-02\n",
      "   6  off         -5.03295e-03   1.32213e-03   9.67557e-04  -2.77772e-01\n",
      "   7  scale        1.00011e+00   2.00030e-02   7.37039e-03   3.25023e-03\n",
      "                               ERR DEF= 0.5\n",
      " EXTERNAL ERROR MATRIX.    NDIM=  25    NPAR=  7    ERR DEF=0.5\n",
      "  6.261e+02 -2.923e+02 -6.304e-01 -1.271e+00  4.765e-04  7.644e-04  8.213e-03 \n",
      " -2.923e+02  3.213e+02  6.311e-01  1.272e+00 -4.772e-04 -7.639e-04 -8.237e-03 \n",
      " -6.304e-01  6.311e-01  9.271e-03  3.704e-03 -1.335e-06 -1.498e-05 -1.517e-05 \n",
      " -1.271e+00  1.272e+00  3.704e-03  1.297e-02 -2.152e-06 -2.549e-06 -1.655e-05 \n",
      "  4.765e-04 -4.772e-04 -1.335e-06 -2.152e-06  6.374e-06  2.662e-08  1.156e-08 \n",
      "  7.644e-04 -7.639e-04 -1.498e-05 -2.549e-06  2.662e-08  1.748e-06 -2.194e-06 \n",
      "  8.213e-03 -8.237e-03 -1.517e-05 -1.655e-05  1.156e-08 -2.194e-06  4.056e-04 \n",
      " PARAMETER  CORRELATION COEFFICIENTS  \n",
      "       NO.  GLOBAL      1      2      3      4      5      6      7\n",
      "        1  0.65391   1.000 -0.652 -0.262 -0.446  0.008  0.023  0.016\n",
      "        2  0.75831  -0.652  1.000  0.366  0.623 -0.011 -0.032 -0.023\n",
      "        3  0.40658  -0.262  0.366  1.000  0.338 -0.005 -0.118 -0.008\n",
      "        4  0.63617  -0.446  0.623  0.338  1.000 -0.007 -0.017 -0.007\n",
      "        5  0.01313   0.008 -0.011 -0.005 -0.007  1.000  0.008  0.000\n",
      "        6  0.14641   0.023 -0.032 -0.118 -0.017  0.008  1.000 -0.082\n",
      "        7  0.08741   0.016 -0.023 -0.008 -0.007  0.000 -0.082  1.000\n",
      " **********\n",
      " **    7 **SET ERR         0.5\n",
      " **********\n",
      " **********\n",
      " **    8 **SET PRINT           1\n",
      " **********\n",
      " **********\n",
      " **    9 **HESSE        3500\n",
      " **********\n",
      " COVARIANCE MATRIX CALCULATED SUCCESSFULLY\n",
      " FCN=-2822.28 FROM HESSE     STATUS=OK             70 CALLS         888 TOTAL\n",
      "                     EDM=0.000303637    STRATEGY= 1      ERROR MATRIX ACCURATE \n",
      "  EXT PARAMETER                                INTERNAL      INTERNAL  \n",
      "  NO.   NAME      VALUE            ERROR       STEP SIZE       VALUE   \n",
      "   1  Yld_BG       3.34161e+02   2.67348e+01   3.83882e-04  -7.95304e-02\n",
      "   2  Yld_Phi      2.87319e+01   2.02010e+01   6.05844e-04  -1.17025e+00\n",
      "   3  a0           5.04864e-01   1.05714e-01   7.47769e-04   5.29224e-01\n",
      "   4  a1           3.86376e-02   1.37122e-01   6.45352e-04   3.86472e-02\n",
      "   5  alpha        4.55477e-04   1.25226e-02   4.44852e-01  -1.43572e+00\n",
      "   6  off         -5.03295e-03   3.84220e-03   5.06020e-02  -1.00830e-01\n",
      "   7  scale        1.00011e+00   1.99686e-02   2.33560e-01   1.07449e-03\n",
      "                               ERR DEF= 0.5\n",
      " EXTERNAL ERROR MATRIX.    NDIM=  25    NPAR=  7    ERR DEF=0.5\n",
      "  7.161e+02 -3.821e+02 -1.050e+00 -1.875e+00  2.000e-02  3.312e-02  7.274e-03 \n",
      " -3.821e+02  4.109e+02  1.050e+00  1.875e+00 -1.997e-02 -3.311e-02 -7.279e-03 \n",
      " -1.050e+00  1.050e+00  1.123e-02  6.923e-03 -1.328e-04 -1.706e-04 -2.325e-05 \n",
      " -1.875e+00  1.875e+00  6.923e-03  1.892e-02 -3.263e-04 -2.938e-04 -1.746e-05 \n",
      "  2.000e-02 -1.997e-02 -1.328e-04 -3.263e-04  2.396e-05  1.454e-05  6.124e-07 \n",
      "  3.312e-02 -3.311e-02 -1.706e-04 -2.938e-04  1.454e-05  1.479e-05 -7.745e-07 \n",
      "  7.274e-03 -7.279e-03 -2.325e-05 -1.746e-05  6.124e-07 -7.745e-07  4.042e-04 \n",
      " PARAMETER  CORRELATION COEFFICIENTS  \n",
      "       NO.  GLOBAL      1      2      3      4      5      6      7\n",
      "        1  0.70674   1.000 -0.704 -0.370 -0.509  0.153  0.322  0.014\n",
      "        2  0.81711  -0.704  1.000  0.489  0.672 -0.201 -0.425 -0.018\n",
      "        3  0.55767  -0.370  0.489  1.000  0.475 -0.256 -0.419 -0.011\n",
      "        4  0.76928  -0.509  0.672  0.475  1.000 -0.485 -0.555 -0.006\n",
      "        5  0.80754   0.153 -0.201 -0.256 -0.485  1.000  0.772  0.006\n",
      "        6  0.82818   0.322 -0.425 -0.419 -0.555  0.772  1.000 -0.010\n",
      "        7  0.04089   0.014 -0.018 -0.011 -0.006  0.006 -0.010  1.000\n",
      "[#1] INFO:Minization -- RooMinimizer::optimizeConst: deactivating const optimization\n",
      "1 0x7fb1b433db40 0x7fb1c67e8c50\n",
      "Plotting MesonMass\n",
      "COPYNG 0x7fb1c70e93c0 0x7fb1c4f5e980\n",
      "1 HSRooFit::PlotDataModel() chi2 = 0.968922\n",
      "[#1] INFO:Plotting -- RooAbsPdf::plotOn(SFTotalPDF0) directly selected PDF components: (Phi)\n",
      "[#1] INFO:Plotting -- RooAbsPdf::plotOn(SFTotalPDF0) indirectly selected PDF components: ()\n",
      "COPYNG 0x7fb1c70e93c0 0x7fb1c4f5e980\n",
      "[#1] INFO:Plotting -- RooAbsPdf::plotOn(SFTotalPDF0) directly selected PDF components: (BG)\n",
      "[#1] INFO:Plotting -- RooAbsPdf::plotOn(SFTotalPDF0) indirectly selected PDF components: ()\n",
      "COPYNG 0x7fb1c70e93c0 0x7fb1c4f5e980\n",
      "HSRooFit::FitMany  Likelihoods \n",
      "-2822.28\n",
      "HSRooFit::FitMany() Best likelihood was -2822.28 0 so use those parameters\n",
      "\n",
      "  RooFitResult: minimized FCN value: -2822.28, estimated distance to minimum: 0.000303637\n",
      "                covariance matrix quality: Full, accurate covariance matrix\n",
      "                Status : \n",
      "\n",
      "    Floating Parameter    FinalValue +/-  Error   \n",
      "  --------------------  --------------------------\n",
      "                Yld_BG    3.3416e+02 +/-  2.67e+01\n",
      "               Yld_Phi    2.8732e+01 +/-  2.02e+01\n",
      "                    a0    5.0486e-01 +/-  1.06e-01\n",
      "                    a1    3.8638e-02 +/-  1.37e-01\n",
      "                 alpha    4.5548e-04 +/-  1.25e-02\n",
      "                   off   -5.0329e-03 +/-  3.84e-03\n",
      "                 scale    1.0001e+00 +/-  2.00e-02\n",
      "\n",
      "Yld_Phi 28.7319\n",
      "Yld_BG 334.161\n",
      "HSsPlot::sPlot() weights will be synchronised to branch UID 0x7fb1c7159c10 0x7fb1c7d50a40\n",
      "HSsPlot::sPlot Loading ID branch data UID\n"
     ]
    },
    {
     "name": "stderr",
     "output_type": "stream",
     "text": [
      "Info in <HS::FIT::HSsPlot::HSsPlot::sPlot()>:  about to start\n"
     ]
    },
    {
     "name": "stdout",
     "output_type": "stream",
     "text": [
      "COPYNG 0x7fb1c70e93c0 0x7fb1c4f5e980\n",
      "[#1] INFO:Minization -- createNLL picked up cached consraints from workspace with 3 entries\n",
      "[#1] INFO:Minization --  Including the following contraint terms in minimization: (AlphaConstrPhi,OffConstrPhi,ScConstrPhi)\n",
      "[#1] INFO:Fitting -- RooAddition::defaultErrorLevel(nll_SFTotalPDF0_tt_with_constr) Summation contains a RooNLLVar, using its error level\n",
      "[#1] INFO:Minization -- RooMinimizer::optimizeConst: activating const optimization\n",
      "[#0] WARNING:Optimization -- RooAbsOptTestStatistic::optimizeConstantTerms(nll_SFTotalPDF0_tt) WARNING Cache-and-track optimization (Optimize level 2) is only available for datasets implement in terms of RooVectorDataStore - ignoring this option for current dataset\n",
      "[#1] INFO:Minization --  The following expressions have been identified as constant and will be precalculated and cached: (Phi,BG)\n",
      "[#1] INFO:Fitting -- RooAbsPdf::fitTo(SFTotalPDF0) Calculating sum-of-weights-squared correction matrix for covariance matrix\n",
      "[#1] INFO:Minization -- RooMinimizer::optimizeConst: deactivating const optimization\n",
      "[#1] INFO:InputArguments -- Printing Yields\n",
      "RooArgList:: = (Yld_Phi,Yld_BG)\n",
      "[#1] INFO:InputArguments -- yield in pdf: Yld_Phi 28.7558\n",
      "[#1] INFO:InputArguments -- yield in pdf: Yld_BG 334.237\n",
      "[#1] INFO:Eval -- Checking Likelihood normalization:  \n",
      "[#1] INFO:Eval -- Yield of specie  Sum of Row in Matrix   Norm\n",
      "[#1] INFO:Eval -- 28.7558 28.7793 0.999901\n",
      "[#1] INFO:Eval -- 334.237 334.206 1.00003\n",
      "[#1] INFO:Eval -- Calculating sWeight\n",
      "Weights::SetFile outNov//WeightsSF.root\n",
      "HSsPlot:ExportWeights \n",
      "Insert species Phi 0 0\n",
      "Insert species BG 1 0\n",
      "1 0x7fb1b433db40 0x7fb1c67e8c50\n",
      "Plotting MesonMass\n",
      "COPYNG 0x7fb1c70e93c0 0x7fb1c4f5e980\n",
      "2 HSRooFit::PlotDataModel() chi2 = 0.968948\n",
      "[#1] INFO:Plotting -- RooAbsPdf::plotOn(SFTotalPDF0) directly selected PDF components: (Phi)\n",
      "[#1] INFO:Plotting -- RooAbsPdf::plotOn(SFTotalPDF0) indirectly selected PDF components: ()\n",
      "COPYNG 0x7fb1c70e93c0 0x7fb1c4f5e980\n",
      "[#1] INFO:Plotting -- RooAbsPdf::plotOn(SFTotalPDF0) directly selected PDF components: (BG)\n",
      "[#1] INFO:Plotting -- RooAbsPdf::plotOn(SFTotalPDF0) indirectly selected PDF components: ()\n",
      "COPYNG 0x7fb1c70e93c0 0x7fb1c4f5e980\n",
      "HSRooFit::SavePlots outNov//ResultsSF.root 0x7fb1c6e3e260 0x7fb1c4012620\n"
     ]
    },
    {
     "name": "stderr",
     "output_type": "stream",
     "text": [
      "Info in <HS::FIT::HSsPlot::HSsPlot::FitAndStudy>: Save to outNov//ResultsSF\n"
     ]
    },
    {
     "name": "stdout",
     "output_type": "stream",
     "text": [
      "Weights HSsWeights contains 363 events associated file is outNov//WeightsSF.root \n",
      "ID branch name : UID\n",
      "Species are : \n",
      "BG\n",
      "Phi\n",
      "The first ten entries are :\n",
      "4632096 -0.318176 1.3181 \n",
      "4634708 -0.258714 1.25865 \n",
      "4710865 1.79848 -0.798275 \n",
      "4734701 -0.395596 1.39551 \n",
      "4771418 0.248769 0.751233 \n",
      "4806768 1.56984 -0.569666 \n",
      "4864104 -0.413964 1.41388 \n",
      "4867712 1.79804 -0.797837 \n",
      "4914637 -0.317027 1.31696 \n",
      "4929736 -0.361977 1.3619 \n",
      "Weights::BuildIndex 363\n",
      "Done\n",
      "Weights::SortWeights() reordering trees 0x7fb1b655f5a0\n",
      "Weights::SortWeights() reordering trees\n",
      "Weights::SortWeights() entries 363 363\n",
      "Weights::SortWeights Print new ordering\n",
      "Weights HSsWeights contains 363 events associated file is outNov//WeightsSF.root \n",
      "ID branch name : UID\n",
      "Species are : \n",
      "BG\n",
      "Phi\n",
      "The first ten entries are :\n",
      "4632096 -0.318176 1.3181 \n",
      "4634708 -0.258714 1.25865 \n",
      "4710865 1.79848 -0.798275 \n",
      "4734701 -0.395596 1.39551 \n",
      "4771418 0.248769 0.751233 \n",
      "4806768 1.56984 -0.569666 \n",
      "4864104 -0.413964 1.41388 \n",
      "4867712 1.79804 -0.797837 \n",
      "4914637 -0.317027 1.31696 \n",
      "4929736 -0.361977 1.3619 \n",
      "void Weights::Save() 0x7fb1b655f5a0\n",
      "0x7fb1b655e710 0x7fb1c7ba7610\n",
      " Weights::Save() outNov//WeightsSF.root \n",
      "******************************************************************************\n",
      "*Tree    :HSsWeights_W: Tree weights for each species                          *\n",
      "*Entries :      363 : Total =            7441 bytes  File  Size =          0 *\n",
      "*        :          : Tree compression factor =   1.00                       *\n",
      "******************************************************************************\n",
      "*Br    0 :Phi       : Phi/D                                                  *\n",
      "*Entries :      363 : Total  Size=       3561 bytes  One basket in memory    *\n",
      "*Baskets :        0 : Basket Size=      32000 bytes  Compression=   1.00     *\n",
      "*............................................................................*\n",
      "*Br    1 :BG        : BG/D                                                   *\n",
      "*Entries :      363 : Total  Size=       3555 bytes  One basket in memory    *\n",
      "*Baskets :        0 : Basket Size=      32000 bytes  Compression=   1.00     *\n",
      "*............................................................................*\n",
      "******************************************************************************\n",
      "*Tree    :HSsWeights_ID: event ids for each entry                               *\n",
      "*Entries :      363 : Total =            3887 bytes  File  Size =          0 *\n",
      "*        :          : Tree compression factor =   1.00                       *\n",
      "******************************************************************************\n",
      "*Br    0 :WID       : WID/L                                                  *\n",
      "*Entries :      363 : Total  Size=       3563 bytes  One basket in memory    *\n",
      "*Baskets :        0 : Basket Size=      32000 bytes  Compression=   1.00     *\n",
      "*............................................................................*\n",
      "Weights::Save() Saved weights to file\n"
     ]
    },
    {
     "name": "stderr",
     "output_type": "stream",
     "text": [
      "Warning in <TTreeFormula::DefinedVariable>: Casting to primary types like \"Long64_t\" is not supported yet\n"
     ]
    }
   ],
   "source": [
    "RF->RunAFit(1);"
   ]
  },
  {
   "cell_type": "code",
   "execution_count": 12,
   "metadata": {},
   "outputs": [
    {
     "data": {
      "text/html": [
       "\n",
       "<div id=\"root_plot_1\"\n",
       "     style=\"width: 696px; height: 472px\">\n",
       "</div>\n",
       "\n",
       "<script>\n",
       " requirejs.config({\n",
       "     paths: {\n",
       "       'JSRootCore' : 'https://root.cern.ch/js/notebook//scripts/JSRootCore',\n",
       "     }\n",
       "   });\n",
       " require(['JSRootCore'],\n",
       "     function(Core) {\n",
       "       var obj = Core.JSONR_unref({\"_typename\":\"TCanvas\",\"fUniqueID\":0,\"fBits\":53673992,\"fLineColor\":1,\"fLineStyle\":1,\"fLineWidth\":1,\"fFillColor\":0,\"fFillStyle\":1001,\"fLeftMargin\":0.1,\"fRightMargin\":0.1,\"fBottomMargin\":0.1,\"fTopMargin\":0.1,\"fXfile\":2,\"fYfile\":2,\"fAfile\":1,\"fXstat\":0.99,\"fYstat\":0.99,\"fAstat\":2,\"fFrameFillColor\":0,\"fFrameLineColor\":1,\"fFrameFillStyle\":1001,\"fFrameLineStyle\":1,\"fFrameLineWidth\":1,\"fFrameBorderSize\":1,\"fFrameBorderMode\":0,\"fX1\":0.982499999441206,\"fY1\":-1.57500011734665,\"fX2\":1.05750000055879,\"fY2\":14.1750001173467,\"fXtoAbsPixelk\":-9117.59980895156,\"fXtoPixelk\":-9117.59980895156,\"fXtoPixel\":9279.99986171721,\"fYtoAbsPixelk\":424.800047186661,\"fYtoPixelk\":424.800047186661,\"fYtoPixel\":-29.9682535216922,\"fUtoAbsPixelk\":5e-5,\"fUtoPixelk\":5e-5,\"fUtoPixel\":696,\"fVtoAbsPixelk\":472.00005,\"fVtoPixelk\":472,\"fVtoPixel\":-472,\"fAbsPixeltoXk\":0.982499999441206,\"fPixeltoXk\":0.982499999441206,\"fPixeltoX\":1.07758622295384e-4,\"fAbsPixeltoYk\":14.1750001173467,\"fPixeltoYk\":-1.57500011734665,\"fPixeltoY\":-0.0333686445650282,\"fXlowNDC\":0,\"fYlowNDC\":0,\"fXUpNDC\":0,\"fYUpNDC\":0,\"fWNDC\":1,\"fHNDC\":1,\"fAbsXlowNDC\":0,\"fAbsYlowNDC\":0,\"fAbsWNDC\":1,\"fAbsHNDC\":1,\"fUxmin\":0.99,\"fUymin\":0,\"fUxmax\":1.05,\"fUymax\":12.6,\"fTheta\":30,\"fPhi\":30,\"fAspectRatio\":0,\"fNumber\":0,\"fTickx\":0,\"fTicky\":0,\"fLogx\":0,\"fLogy\":0,\"fLogz\":0,\"fPadPaint\":0,\"fCrosshair\":0,\"fCrosshairPos\":0,\"fBorderSize\":2,\"fBorderMode\":0,\"fModified\":false,\"fGridx\":false,\"fGridy\":false,\"fAbsCoord\":false,\"fEditable\":true,\"fFixedAspectRatio\":false,\"fPrimitives\":{\"_typename\":\"TList\",\"name\":\"TList\",\"arr\":[{\"_typename\":\"TFrame\",\"fUniqueID\":0,\"fBits\":50331656,\"fLineColor\":1,\"fLineStyle\":1,\"fLineWidth\":1,\"fFillColor\":0,\"fFillStyle\":1001,\"fX1\":0.99,\"fY1\":0,\"fX2\":1.05,\"fY2\":12.6,\"fBorderSize\":1,\"fBorderMode\":0},{\"_typename\":\"TH1D\",\"fUniqueID\":0,\"fBits\":50332168,\"fName\":\"frame_7fb1c7b976c0\",\"fTitle\":\"Fit components for MesonMass\",\"fLineColor\":602,\"fLineStyle\":1,\"fLineWidth\":1,\"fFillColor\":0,\"fFillStyle\":1001,\"fMarkerColor\":1,\"fMarkerStyle\":1,\"fMarkerSize\":1,\"fNcells\":102,\"fXaxis\":{\"_typename\":\"TAxis\",\"fUniqueID\":0,\"fBits\":50331648,\"fName\":\"xaxis\",\"fTitle\":\"MesonMass\",\"fNdivisions\":510,\"fAxisColor\":1,\"fLabelColor\":1,\"fLabelFont\":42,\"fLabelOffset\":0.005,\"fLabelSize\":0.035,\"fTickLength\":0.03,\"fTitleOffset\":1,\"fTitleSize\":0.035,\"fTitleColor\":1,\"fTitleFont\":42,\"fNbins\":100,\"fXmin\":0.99,\"fXmax\":1.05,\"fXbins\":[],\"fFirst\":0,\"fLast\":0,\"fBits2\":0,\"fTimeDisplay\":false,\"fTimeFormat\":\"\",\"fLabels\":null,\"fModLabs\":null},\"fYaxis\":{\"_typename\":\"TAxis\",\"fUniqueID\":0,\"fBits\":50331648,\"fName\":\"yaxis\",\"fTitle\":\"Events \\/ ( 0.0006 )\",\"fNdivisions\":510,\"fAxisColor\":1,\"fLabelColor\":1,\"fLabelFont\":42,\"fLabelOffset\":0.005,\"fLabelSize\":0.035,\"fTickLength\":0.03,\"fTitleOffset\":0,\"fTitleSize\":0.035,\"fTitleColor\":1,\"fTitleFont\":42,\"fNbins\":1,\"fXmin\":0,\"fXmax\":1,\"fXbins\":[],\"fFirst\":0,\"fLast\":0,\"fBits2\":0,\"fTimeDisplay\":false,\"fTimeFormat\":\"\",\"fLabels\":null,\"fModLabs\":null},\"fZaxis\":{\"_typename\":\"TAxis\",\"fUniqueID\":0,\"fBits\":50331648,\"fName\":\"zaxis\",\"fTitle\":\"\",\"fNdivisions\":510,\"fAxisColor\":1,\"fLabelColor\":1,\"fLabelFont\":42,\"fLabelOffset\":0.005,\"fLabelSize\":0.035,\"fTickLength\":0.03,\"fTitleOffset\":1,\"fTitleSize\":0.035,\"fTitleColor\":1,\"fTitleFont\":42,\"fNbins\":1,\"fXmin\":0,\"fXmax\":1,\"fXbins\":[],\"fFirst\":0,\"fLast\":0,\"fBits2\":0,\"fTimeDisplay\":false,\"fTimeFormat\":\"\",\"fLabels\":null,\"fModLabs\":null},\"fBarOffset\":0,\"fBarWidth\":1000,\"fEntries\":1,\"fTsumw\":0,\"fTsumw2\":0,\"fTsumwx\":0,\"fTsumwx2\":0,\"fMaximum\":12.6,\"fMinimum\":-1111,\"fNormFactor\":0,\"fContour\":[],\"fSumw2\":[],\"fOption\":\"\",\"fFunctions\":{\"_typename\":\"TList\",\"name\":\"TList\",\"arr\":[],\"opt\":[]},\"fBufferSize\":0,\"fBuffer\":[],\"fBinStatErrOpt\":0,\"fStatOverflows\":2,\"fArray\":[0,12.6,0,0,0,0,0,0,0,0,0,0,0,0,0,0,0,0,0,0,0,0,0,0,0,0,0,0,0,0,0,0,0,0,0,0,0,0,0,0,0,0,0,0,0,0,0,0,0,0,0,0,0,0,0,0,0,0,0,0,0,0,0,0,0,0,0,0,0,0,0,0,0,0,0,0,0,0,0,0,0,0,0,0,0,0,0,0,0,0,0,0,0,0,0,0,0,0,0,0,0,0]},{\"_typename\":\"RooHist\",\"fUniqueID\":0,\"fBits\":50332680,\"fName\":\"h_tt\",\"fTitle\":\"Histogram of tt_plot__MesonMass\",\"fLineColor\":1,\"fLineStyle\":1,\"fLineWidth\":1,\"fFillColor\":0,\"fFillStyle\":1000,\"fMarkerColor\":1,\"fMarkerStyle\":8,\"fMarkerSize\":1,\"fNpoints\":100,\"fX\":[0.9903,0.9909,0.9915,0.9921,0.9927,0.9933,0.9939,0.9945,0.9951,0.9957,0.9963,0.9969,0.9975,0.9981,0.9987,0.9993,0.9999,1.0005,1.0011,1.0017,1.0023,1.0029,1.0035,1.0041,1.0047,1.0053,1.0059,1.0065,1.0071,1.0077,1.0083,1.0089,1.0095,1.0101,1.0107,1.0113,1.0119,1.0125,1.0131,1.0137,1.0143,1.0149,1.0155,1.0161,1.0167,1.0173,1.0179,1.0185,1.0191,1.0197,1.0203,1.0209,1.0215,1.0221,1.0227,1.0233,1.0239,1.0245,1.0251,1.0257,1.0263,1.0269,1.0275,1.0281,1.0287,1.0293,1.0299,1.0305,1.0311,1.0317,1.0323,1.0329,1.0335,1.0341,1.0347,1.0353,1.0359,1.0365,1.0371,1.0377,1.0383,1.0389,1.0395,1.0401,1.0407,1.0413,1.0419,1.0425,1.0431,1.0437,1.0443,1.0449,1.0455,1.0461,1.0467,1.0473,1.0479,1.0485,1.0491,1.0497],\"fY\":[5,2,0,3,2,1,1,1,1,1,1,2,2,2,1,6,4,5,2,2,3,4,2,1,2,0,2,3,2,2,5,6,2,4,3,7,4,1,0,8,3,9,4,5,4,3,3,1,6,5,5,1,1,3,4,5,5,3,6,5,2,5,3,5,6,2,4,4,7,5,3,4,2,4,5,3,4,4,2,3,6,3,5,6,8,5,5,3,6,6,4,2,7,7,4,4,4,4,3,8],\"fFunctions\":{\"_typename\":\"TList\",\"name\":\"TList\",\"arr\":[],\"opt\":[]},\"fHistogram\":{\"_typename\":\"TH1F\",\"fUniqueID\":0,\"fBits\":50332168,\"fName\":\"h_tt\",\"fTitle\":\"Histogram of tt_plot__MesonMass\",\"fLineColor\":602,\"fLineStyle\":1,\"fLineWidth\":1,\"fFillColor\":0,\"fFillStyle\":1001,\"fMarkerColor\":1,\"fMarkerStyle\":1,\"fMarkerSize\":1,\"fNcells\":102,\"fXaxis\":{\"_typename\":\"TAxis\",\"fUniqueID\":0,\"fBits\":50331648,\"fName\":\"xaxis\",\"fTitle\":\"\",\"fNdivisions\":510,\"fAxisColor\":1,\"fLabelColor\":1,\"fLabelFont\":42,\"fLabelOffset\":0.005,\"fLabelSize\":0.035,\"fTickLength\":0.03,\"fTitleOffset\":1,\"fTitleSize\":0.035,\"fTitleColor\":1,\"fTitleFont\":42,\"fNbins\":100,\"fXmin\":0.984,\"fXmax\":1.056,\"fXbins\":[],\"fFirst\":0,\"fLast\":0,\"fBits2\":0,\"fTimeDisplay\":false,\"fTimeFormat\":\"\",\"fLabels\":null,\"fModLabs\":null},\"fYaxis\":{\"_typename\":\"TAxis\",\"fUniqueID\":0,\"fBits\":50331648,\"fName\":\"yaxis\",\"fTitle\":\"\",\"fNdivisions\":510,\"fAxisColor\":1,\"fLabelColor\":1,\"fLabelFont\":42,\"fLabelOffset\":0.005,\"fLabelSize\":0.035,\"fTickLength\":0.03,\"fTitleOffset\":0,\"fTitleSize\":0.035,\"fTitleColor\":1,\"fTitleFont\":42,\"fNbins\":1,\"fXmin\":0,\"fXmax\":13.2,\"fXbins\":[],\"fFirst\":0,\"fLast\":0,\"fBits2\":0,\"fTimeDisplay\":false,\"fTimeFormat\":\"\",\"fLabels\":null,\"fModLabs\":null},\"fZaxis\":{\"_typename\":\"TAxis\",\"fUniqueID\":0,\"fBits\":50331648,\"fName\":\"zaxis\",\"fTitle\":\"\",\"fNdivisions\":510,\"fAxisColor\":1,\"fLabelColor\":1,\"fLabelFont\":42,\"fLabelOffset\":0.005,\"fLabelSize\":0.035,\"fTickLength\":0.03,\"fTitleOffset\":1,\"fTitleSize\":0.035,\"fTitleColor\":1,\"fTitleFont\":42,\"fNbins\":1,\"fXmin\":0,\"fXmax\":1,\"fXbins\":[],\"fFirst\":0,\"fLast\":0,\"fBits2\":0,\"fTimeDisplay\":false,\"fTimeFormat\":\"\",\"fLabels\":null,\"fModLabs\":null},\"fBarOffset\":0,\"fBarWidth\":1000,\"fEntries\":0,\"fTsumw\":0,\"fTsumw2\":0,\"fTsumwx\":0,\"fTsumwx2\":0,\"fMaximum\":13.2,\"fMinimum\":0,\"fNormFactor\":0,\"fContour\":[],\"fSumw2\":[],\"fOption\":\"\",\"fFunctions\":{\"_typename\":\"TList\",\"name\":\"TList\",\"arr\":[],\"opt\":[]},\"fBufferSize\":0,\"fBuffer\":[],\"fBinStatErrOpt\":0,\"fStatOverflows\":2,\"fArray\":[0,0,0,0,0,0,0,0,0,0,0,0,0,0,0,0,0,0,0,0,0,0,0,0,0,0,0,0,0,0,0,0,0,0,0,0,0,0,0,0,0,0,0,0,0,0,0,0,0,0,0,0,0,0,0,0,0,0,0,0,0,0,0,0,0,0,0,0,0,0,0,0,0,0,0,0,0,0,0,0,0,0,0,0,0,0,0,0,0,0,0,0,0,0,0,0,0,0,0,0,0,0]},\"fMinimum\":-1111,\"fMaximum\":-1111,\"fEXlow\":[3e-4,3e-4,3e-4,3e-4,3e-4,3e-4,3e-4,3e-4,3e-4,3e-4,3e-4,3e-4,3e-4,3e-4,3e-4,3e-4,3e-4,3e-4,3e-4,3e-4,3e-4,3e-4,3e-4,3e-4,3e-4,3e-4,3e-4,3e-4,3e-4,3e-4,3e-4,3e-4,3e-4,3e-4,3e-4,3e-4,3e-4,3e-4,3e-4,3e-4,3e-4,3e-4,3e-4,3e-4,3e-4,3e-4,3e-4,3e-4,3e-4,3e-4,3e-4,3e-4,3e-4,3e-4,3e-4,3e-4,3e-4,3e-4,3e-4,3e-4,3e-4,3e-4,3e-4,3e-4,3e-4,3e-4,3e-4,3e-4,3e-4,3e-4,3e-4,3e-4,3e-4,3e-4,3e-4,3e-4,3e-4,3e-4,3e-4,3e-4,3e-4,3e-4,3e-4,3e-4,3e-4,3e-4,3e-4,3e-4,3e-4,3e-4,3e-4,3e-4,3e-4,3e-4,3e-4,3e-4,3e-4,3e-4,3e-4,3e-4],\"fEXhigh\":[3e-4,3e-4,3e-4,3e-4,3e-4,3e-4,3e-4,3e-4,3e-4,3e-4,3e-4,3e-4,3e-4,3e-4,3e-4,3e-4,3e-4,3e-4,3e-4,3e-4,3e-4,3e-4,3e-4,3e-4,3e-4,3e-4,3e-4,3e-4,3e-4,3e-4,3e-4,3e-4,3e-4,3e-4,3e-4,3e-4,3e-4,3e-4,3e-4,3e-4,3e-4,3e-4,3e-4,3e-4,3e-4,3e-4,3e-4,3e-4,3e-4,3e-4,3e-4,3e-4,3e-4,3e-4,3e-4,3e-4,3e-4,3e-4,3e-4,3e-4,3e-4,3e-4,3e-4,3e-4,3e-4,3e-4,3e-4,3e-4,3e-4,3e-4,3e-4,3e-4,3e-4,3e-4,3e-4,3e-4,3e-4,3e-4,3e-4,3e-4,3e-4,3e-4,3e-4,3e-4,3e-4,3e-4,3e-4,3e-4,3e-4,3e-4,3e-4,3e-4,3e-4,3e-4,3e-4,3e-4,3e-4,3e-4,3e-4,3e-4],\"fEYlow\":[2.23606797749979,1.4142135623731,0,1.73205080756888,1.4142135623731,1,1,1,1,1,1,1.4142135623731,1.4142135623731,1.4142135623731,1,2.44948974278318,2,2.23606797749979,1.4142135623731,1.4142135623731,1.73205080756888,2,1.4142135623731,1,1.4142135623731,0,1.4142135623731,1.73205080756888,1.4142135623731,1.4142135623731,2.23606797749979,2.44948974278318,1.4142135623731,2,1.73205080756888,2.64575131106459,2,1,0,2.82842712474619,1.73205080756888,3,2,2.23606797749979,2,1.73205080756888,1.73205080756888,1,2.44948974278318,2.23606797749979,2.23606797749979,1,1,1.73205080756888,2,2.23606797749979,2.23606797749979,1.73205080756888,2.44948974278318,2.23606797749979,1.4142135623731,2.23606797749979,1.73205080756888,2.23606797749979,2.44948974278318,1.4142135623731,2,2,2.64575131106459,2.23606797749979,1.73205080756888,2,1.4142135623731,2,2.23606797749979,1.73205080756888,2,2,1.4142135623731,1.73205080756888,2.44948974278318,1.73205080756888,2.23606797749979,2.44948974278318,2.82842712474619,2.23606797749979,2.23606797749979,1.73205080756888,2.44948974278318,2.44948974278318,2,1.4142135623731,2.64575131106459,2.64575131106459,2,2,2,2,1.73205080756888,2.82842712474619],\"fEYhigh\":[2.23606797749979,1.4142135623731,0,1.73205080756888,1.4142135623731,1,1,1,1,1,1,1.4142135623731,1.4142135623731,1.4142135623731,1,2.44948974278318,2,2.23606797749979,1.4142135623731,1.4142135623731,1.73205080756888,2,1.4142135623731,1,1.4142135623731,0,1.4142135623731,1.73205080756888,1.4142135623731,1.4142135623731,2.23606797749979,2.44948974278318,1.4142135623731,2,1.73205080756888,2.64575131106459,2,1,0,2.82842712474619,1.73205080756888,3,2,2.23606797749979,2,1.73205080756888,1.73205080756888,1,2.44948974278318,2.23606797749979,2.23606797749979,1,1,1.73205080756888,2,2.23606797749979,2.23606797749979,1.73205080756888,2.44948974278318,2.23606797749979,1.4142135623731,2.23606797749979,1.73205080756888,2.23606797749979,2.44948974278318,1.4142135623731,2,2,2.64575131106459,2.23606797749979,1.73205080756888,2,1.4142135623731,2,2.23606797749979,1.73205080756888,2,2,1.4142135623731,1.73205080756888,2.44948974278318,1.73205080756888,2.23606797749979,2.44948974278318,2.82842712474619,2.23606797749979,2.23606797749979,1.73205080756888,2.44948974278318,2.44948974278318,2,1.4142135623731,2.64575131106459,2.64575131106459,2,2,2,2,1.73205080756888,2.82842712474619],\"_yAxisLabel\":\"Events \\/ ( 0.0006 )\",\"_ymin\":0,\"_ymax\":12,\"_normValue\":0,\"_nominalBinWidth\":6e-4,\"_nSigma\":1,\"_entries\":363,\"_rawEntries\":-1},{\"_typename\":\"RooCurve\",\"fUniqueID\":0,\"fBits\":50332680,\"fName\":\"SFTotalPDF0_Norm[MesonMass]\",\"fTitle\":\"Projection of total model\",\"fLineColor\":632,\"fLineStyle\":1,\"fLineWidth\":3,\"fFillColor\":0,\"fFillStyle\":1000,\"fMarkerColor\":1,\"fMarkerStyle\":1,\"fMarkerSize\":1,\"fNpoints\":106,\"fX\":[0.9894,0.9894,0.99,0.9906,0.9912,0.9918,0.9924,0.993,0.9936,0.9942,0.9948,0.9954,0.996,0.9966,0.9972,0.9978,0.9984,0.999,0.9996,1.0002,1.0008,1.0014,1.002,1.0026,1.0032,1.0038,1.0044,1.005,1.0056,1.0062,1.0068,1.0074,1.008,1.0086,1.0092,1.0098,1.0104,1.011,1.0116,1.0122,1.0128,1.0134,1.014,1.0146,1.0152,1.0158,1.0164,1.017,1.0176,1.0182,1.0188,1.0194,1.02,1.0206,1.0212,1.0218,1.0224,1.023,1.0236,1.0242,1.0248,1.0254,1.026,1.0266,1.0272,1.0278,1.0284,1.029,1.0296,1.0302,1.0308,1.0314,1.032,1.0326,1.0332,1.0338,1.0344,1.035,1.0356,1.0362,1.0368,1.0374,1.038,1.0386,1.0392,1.0398,1.0404,1.041,1.0416,1.0422,1.0428,1.0434,1.044,1.0446,1.0452,1.0458,1.0464,1.047,1.0476,1.0482,1.0488,1.0494,1.05,1.05,1.0506,1.0506],\"fY\":[0,1.82327573316709,1.82327573316709,1.84898661720592,1.87518920080879,1.90198614959994,1.92899242431389,1.9567832166111,1.98483277219718,2.01314211432588,2.04173086226782,2.07052893613255,2.09935447915466,2.12837275489543,2.1577221895945,2.18745329164288,2.21739371961405,2.24898911243941,2.28093346401788,2.3144397085608,2.35010419216832,2.38597800169866,2.42610244911313,2.46684838530529,2.50983694166074,2.55601931132617,2.60241100691439,2.65659198240948,2.71179666789869,2.77470458532643,2.84902760319857,2.92355994699353,3.02833058635894,3.1367021793308,3.26021057827778,3.40666954046921,3.55333782858343,3.71232298945453,3.87295229585109,4.02002129472843,4.14592613472725,4.27204030064892,4.32795101491341,4.37533120276965,4.38888506503829,4.34881564534088,4.30895555156626,4.22339487041192,4.13208456079044,4.04239326832477,3.95518340690564,3.86818287140928,3.81396477159946,3.76437056034603,3.72829705338856,3.71429824523989,3.70050876301401,3.70428375744023,3.7107206626485,3.72091149192549,3.7372459321267,3.75378969825072,3.77536897877682,3.79786783765725,3.82200392562097,3.84878607031386,3.87577754092956,3.90513140000275,3.93502416613575,3.96580972189564,3.99799358029769,4.03038676462254,4.0645700175434,4.09921400699339,4.13450248418015,4.17077208116884,4.20725100408033,4.24423901956653,4.28148584597428,4.31903133514984,4.35694770483806,4.3950734004491,4.43378200807401,4.47276388986312,4.51198674559647,4.55147728800085,4.59117715632803,4.63030662261357,4.66950714269407,4.70820755770434,4.74578310293836,4.78356797409518,4.82026194342082,4.85692657054375,4.89413637254983,4.93219972918065,4.97047241173428,5.01116484394565,5.05248625054737,5.09464148610837,5.13822804716342,5.18202393414128,5.22644623977894,5.22644623977894,5.22644623977894,0],\"fFunctions\":{\"_typename\":\"TList\",\"name\":\"TList\",\"arr\":[],\"opt\":[]},\"fHistogram\":{\"_typename\":\"TH1F\",\"fUniqueID\":0,\"fBits\":50332168,\"fName\":\"SFTotalPDF0_Norm[MesonMass]\",\"fTitle\":\"Projection of total model\",\"fLineColor\":602,\"fLineStyle\":1,\"fLineWidth\":1,\"fFillColor\":0,\"fFillStyle\":1001,\"fMarkerColor\":1,\"fMarkerStyle\":1,\"fMarkerSize\":1,\"fNcells\":108,\"fXaxis\":{\"_typename\":\"TAxis\",\"fUniqueID\":0,\"fBits\":50331648,\"fName\":\"xaxis\",\"fTitle\":\"\",\"fNdivisions\":510,\"fAxisColor\":1,\"fLabelColor\":1,\"fLabelFont\":42,\"fLabelOffset\":0.005,\"fLabelSize\":0.035,\"fTickLength\":0.03,\"fTitleOffset\":1,\"fTitleSize\":0.035,\"fTitleColor\":1,\"fTitleFont\":42,\"fNbins\":106,\"fXmin\":0.98328,\"fXmax\":1.05672,\"fXbins\":[],\"fFirst\":0,\"fLast\":0,\"fBits2\":0,\"fTimeDisplay\":false,\"fTimeFormat\":\"\",\"fLabels\":null,\"fModLabs\":null},\"fYaxis\":{\"_typename\":\"TAxis\",\"fUniqueID\":0,\"fBits\":50331648,\"fName\":\"yaxis\",\"fTitle\":\"\",\"fNdivisions\":510,\"fAxisColor\":1,\"fLabelColor\":1,\"fLabelFont\":42,\"fLabelOffset\":0.005,\"fLabelSize\":0.035,\"fTickLength\":0.03,\"fTitleOffset\":0,\"fTitleSize\":0.035,\"fTitleColor\":1,\"fTitleFont\":42,\"fNbins\":1,\"fXmin\":0,\"fXmax\":5.74909086375683,\"fXbins\":[],\"fFirst\":0,\"fLast\":0,\"fBits2\":0,\"fTimeDisplay\":false,\"fTimeFormat\":\"\",\"fLabels\":null,\"fModLabs\":null},\"fZaxis\":{\"_typename\":\"TAxis\",\"fUniqueID\":0,\"fBits\":50331648,\"fName\":\"zaxis\",\"fTitle\":\"\",\"fNdivisions\":510,\"fAxisColor\":1,\"fLabelColor\":1,\"fLabelFont\":42,\"fLabelOffset\":0.005,\"fLabelSize\":0.035,\"fTickLength\":0.03,\"fTitleOffset\":1,\"fTitleSize\":0.035,\"fTitleColor\":1,\"fTitleFont\":42,\"fNbins\":1,\"fXmin\":0,\"fXmax\":1,\"fXbins\":[],\"fFirst\":0,\"fLast\":0,\"fBits2\":0,\"fTimeDisplay\":false,\"fTimeFormat\":\"\",\"fLabels\":null,\"fModLabs\":null},\"fBarOffset\":0,\"fBarWidth\":1000,\"fEntries\":0,\"fTsumw\":0,\"fTsumw2\":0,\"fTsumwx\":0,\"fTsumwx2\":0,\"fMaximum\":5.74909086375683,\"fMinimum\":0,\"fNormFactor\":0,\"fContour\":[],\"fSumw2\":[],\"fOption\":\"\",\"fFunctions\":{\"_typename\":\"TList\",\"name\":\"TList\",\"arr\":[],\"opt\":[]},\"fBufferSize\":0,\"fBuffer\":[],\"fBinStatErrOpt\":0,\"fStatOverflows\":2,\"fArray\":[0,0,0,0,0,0,0,0,0,0,0,0,0,0,0,0,0,0,0,0,0,0,0,0,0,0,0,0,0,0,0,0,0,0,0,0,0,0,0,0,0,0,0,0,0,0,0,0,0,0,0,0,0,0,0,0,0,0,0,0,0,0,0,0,0,0,0,0,0,0,0,0,0,0,0,0,0,0,0,0,0,0,0,0,0,0,0,0,0,0,0,0,0,0,0,0,0,0,0,0,0,0,0,0,0,0,0,0]},\"fMinimum\":-1111,\"fMaximum\":-1111,\"_yAxisLabel\":\"Projection of total model\",\"_ymin\":0,\"_ymax\":5.22644623977894,\"_normValue\":0},{\"_typename\":\"TPaveText\",\"fUniqueID\":0,\"fBits\":50331656,\"fLineColor\":1,\"fLineStyle\":1,\"fLineWidth\":1,\"fFillColor\":0,\"fFillStyle\":1001,\"fX1\":0.989999999552965,\"fY1\":5.98499999530613,\"fX2\":1.01249999988824,\"fY2\":12.6000000938773,\"fX1NDC\":0.1,\"fY1NDC\":0.48,\"fX2NDC\":0.4,\"fY2NDC\":0.9,\"fBorderSize\":1,\"fInit\":1,\"fShadowColor\":1,\"fCornerRadius\":0,\"fOption\":\"BRNDC\",\"fName\":\"SFTotalPDF0_paramBox\",\"fTextAngle\":0,\"fTextSize\":0.04,\"fTextAlign\":12,\"fTextColor\":1,\"fTextFont\":62,\"fLabel\":\"\",\"fLongest\":25,\"fMargin\":0.05,\"fLines\":{\"_typename\":\"TList\",\"name\":\"TList\",\"arr\":[{\"_typename\":\"TLatex\",\"fUniqueID\":0,\"fBits\":50331648,\"fName\":\"\",\"fTitle\":\"Yld_BG =  334 +\\/- 22\",\"fTextAngle\":0,\"fTextSize\":0,\"fTextAlign\":0,\"fTextColor\":0,\"fTextFont\":0,\"fX\":0,\"fY\":0,\"fLineColor\":1,\"fLineStyle\":1,\"fLineWidth\":2,\"fLimitFactorSize\":3,\"fOriginSize\":0.04},{\"_typename\":\"TLatex\",\"fUniqueID\":0,\"fBits\":50331648,\"fName\":\"\",\"fTitle\":\"Yld_Phi =  29 +\\/- 14\",\"fTextAngle\":0,\"fTextSize\":0,\"fTextAlign\":0,\"fTextColor\":0,\"fTextFont\":0,\"fX\":0,\"fY\":0,\"fLineColor\":1,\"fLineStyle\":1,\"fLineWidth\":2,\"fLimitFactorSize\":3,\"fOriginSize\":0.04},{\"_typename\":\"TLatex\",\"fUniqueID\":0,\"fBits\":50331648,\"fName\":\"\",\"fTitle\":\"a0 =  0.50 +\\/- 0.11\",\"fTextAngle\":0,\"fTextSize\":0,\"fTextAlign\":0,\"fTextColor\":0,\"fTextFont\":0,\"fX\":0,\"fY\":0,\"fLineColor\":1,\"fLineStyle\":1,\"fLineWidth\":2,\"fLimitFactorSize\":3,\"fOriginSize\":0.04},{\"_typename\":\"TLatex\",\"fUniqueID\":0,\"fBits\":50331648,\"fName\":\"\",\"fTitle\":\"a1 =  0.04 +\\/- 0.14\",\"fTextAngle\":0,\"fTextSize\":0,\"fTextAlign\":0,\"fTextColor\":0,\"fTextFont\":0,\"fX\":0,\"fY\":0,\"fLineColor\":1,\"fLineStyle\":1,\"fLineWidth\":2,\"fLimitFactorSize\":3,\"fOriginSize\":0.04},{\"_typename\":\"TLatex\",\"fUniqueID\":0,\"fBits\":50331648,\"fName\":\"\",\"fTitle\":\"alpha =  0.000 +\\/- 0.013\",\"fTextAngle\":0,\"fTextSize\":0,\"fTextAlign\":0,\"fTextColor\":0,\"fTextFont\":0,\"fX\":0,\"fY\":0,\"fLineColor\":1,\"fLineStyle\":1,\"fLineWidth\":2,\"fLimitFactorSize\":3,\"fOriginSize\":0.04},{\"_typename\":\"TLatex\",\"fUniqueID\":0,\"fBits\":50331648,\"fName\":\"\",\"fTitle\":\"off = -0.00503 +\\/- 0.0038\",\"fTextAngle\":0,\"fTextSize\":0,\"fTextAlign\":0,\"fTextColor\":0,\"fTextFont\":0,\"fX\":0,\"fY\":0,\"fLineColor\":1,\"fLineStyle\":1,\"fLineWidth\":2,\"fLimitFactorSize\":3,\"fOriginSize\":0.04},{\"_typename\":\"TLatex\",\"fUniqueID\":0,\"fBits\":50331648,\"fName\":\"\",\"fTitle\":\"scale =  1.000 +\\/- 0.020\",\"fTextAngle\":0,\"fTextSize\":0,\"fTextAlign\":0,\"fTextColor\":0,\"fTextFont\":0,\"fX\":0,\"fY\":0,\"fLineColor\":1,\"fLineStyle\":1,\"fLineWidth\":2,\"fLimitFactorSize\":3,\"fOriginSize\":0.04}],\"opt\":[\"\",\"\",\"\",\"\",\"\",\"\",\"\"]}},{\"_typename\":\"RooCurve\",\"fUniqueID\":0,\"fBits\":50332680,\"fName\":\"SFTotalPDF0_Norm[MesonMass]_Comp[Phi]\",\"fTitle\":\"Projection of total model\",\"fLineColor\":1,\"fLineStyle\":2,\"fLineWidth\":3,\"fFillColor\":0,\"fFillStyle\":1000,\"fMarkerColor\":1,\"fMarkerStyle\":1,\"fMarkerSize\":1,\"fNpoints\":106,\"fX\":[0.9894,0.9894,0.99,0.9906,0.9912,0.9918,0.9924,0.993,0.9936,0.9942,0.9948,0.9954,0.996,0.9966,0.9972,0.9978,0.9984,0.999,0.9996,1.0002,1.0008,1.0014,1.002,1.0026,1.0032,1.0038,1.0044,1.005,1.0056,1.0062,1.0068,1.0074,1.008,1.0086,1.0092,1.0098,1.0104,1.011,1.0116,1.0122,1.0128,1.0134,1.014,1.0146,1.0152,1.0158,1.0164,1.017,1.0176,1.0182,1.0188,1.0194,1.02,1.0206,1.0212,1.0218,1.0224,1.023,1.0236,1.0242,1.0248,1.0254,1.026,1.0266,1.0272,1.0278,1.0284,1.029,1.0296,1.0302,1.0308,1.0314,1.032,1.0326,1.0332,1.0338,1.0344,1.035,1.0356,1.0362,1.0368,1.0374,1.038,1.0386,1.0392,1.0398,1.0404,1.041,1.0416,1.0422,1.0428,1.0434,1.044,1.0446,1.0452,1.0458,1.0464,1.047,1.0476,1.0482,1.0488,1.0494,1.05,1.05,1.0506,1.0506],\"fY\":[0,0.0158928111653882,0.0158928111653882,0.0177754937249217,0.0199405499257025,0.022490645391969,0.0250407408582346,0.0281660279849531,0.0313407524777471,0.0345659375903604,0.0378612025934157,0.0411564675964697,0.0442698758340972,0.0473666908675832,0.0505853389365746,0.0539763284320761,0.057367317927575,0.0622039463544544,0.0671802076116461,0.0735090359104973,0.0817867773511519,0.0900645187918096,0.102383572193812,0.115114788450702,0.129879298948081,0.147628296832645,0.165377294717209,0.190706246585832,0.216849582525771,0.250486824481452,0.295329840958732,0.340172857436028,0.415044843560981,0.493308457369588,0.586499551230508,0.702431882413079,0.81836421359565,0.946404091612293,1.0758787892316,1.1915838534089,1.28591543278487,1.38024701216088,1.40416581395693,1.41934476342192,1.40048806137651,1.32779875144226,1.255109441508,1.13651021827122,1.01195204064449,0.888803554250785,0.767927172980823,0.647050791710817,0.558747520204562,0.4748588113319,0.404281480832388,0.355569523218881,0.306857565605373,0.275500758721157,0.246596536696198,0.221236912817165,0.201811573939557,0.182386235061941,0.167787084663615,0.153898186696829,0.141437191890514,0.131412927890588,0.121388663890663,0.113517462425443,0.105975842097215,0.0991176854730958,0.0934485055683268,0.0877793256635557,0.0836908884320028,0.0798538618067816,0.0764519969955201,0.0738219260634057,0.0711918551312913,0.0688615508510753,0.0665807315696162,0.0643892491331757,0.0623593212865973,0.060329393440018,0.0586730516845298,0.057080658170443,0.0555199126777874,0.054017527933372,0.0525151431889567,0.0502330304801021,0.0478126456433973,0.0446828298136759,0.0402188182849006,0.0357548067561237,0.0299905674733774,0.0239876600651145,0.0183206016171911,0.0132977718712342,0.00827494212527729,0.00546253611426915,0.00306977857078987,0.00130152406381361,7.55269128082317e-4,2.09014192350818e-4,7.98519937154441e-5,7.98519937154441e-5,7.98519937154441e-5,0],\"fFunctions\":{\"_typename\":\"TList\",\"name\":\"TList\",\"arr\":[],\"opt\":[]},\"fHistogram\":{\"_typename\":\"TH1F\",\"fUniqueID\":0,\"fBits\":50332168,\"fName\":\"SFTotalPDF0_Norm[MesonMass]_Comp[Phi]\",\"fTitle\":\"Projection of total model\",\"fLineColor\":602,\"fLineStyle\":1,\"fLineWidth\":1,\"fFillColor\":0,\"fFillStyle\":1001,\"fMarkerColor\":1,\"fMarkerStyle\":1,\"fMarkerSize\":1,\"fNcells\":108,\"fXaxis\":{\"_typename\":\"TAxis\",\"fUniqueID\":0,\"fBits\":50331648,\"fName\":\"xaxis\",\"fTitle\":\"\",\"fNdivisions\":510,\"fAxisColor\":1,\"fLabelColor\":1,\"fLabelFont\":42,\"fLabelOffset\":0.005,\"fLabelSize\":0.035,\"fTickLength\":0.03,\"fTitleOffset\":1,\"fTitleSize\":0.035,\"fTitleColor\":1,\"fTitleFont\":42,\"fNbins\":106,\"fXmin\":0.98328,\"fXmax\":1.05672,\"fXbins\":[],\"fFirst\":0,\"fLast\":0,\"fBits2\":0,\"fTimeDisplay\":false,\"fTimeFormat\":\"\",\"fLabels\":null,\"fModLabs\":null},\"fYaxis\":{\"_typename\":\"TAxis\",\"fUniqueID\":0,\"fBits\":50331648,\"fName\":\"yaxis\",\"fTitle\":\"\",\"fNdivisions\":510,\"fAxisColor\":1,\"fLabelColor\":1,\"fLabelFont\":42,\"fLabelOffset\":0.005,\"fLabelSize\":0.035,\"fTickLength\":0.03,\"fTitleOffset\":0,\"fTitleSize\":0.035,\"fTitleColor\":1,\"fTitleFont\":42,\"fNbins\":1,\"fXmin\":0,\"fXmax\":1.56127923976411,\"fXbins\":[],\"fFirst\":0,\"fLast\":0,\"fBits2\":0,\"fTimeDisplay\":false,\"fTimeFormat\":\"\",\"fLabels\":null,\"fModLabs\":null},\"fZaxis\":{\"_typename\":\"TAxis\",\"fUniqueID\":0,\"fBits\":50331648,\"fName\":\"zaxis\",\"fTitle\":\"\",\"fNdivisions\":510,\"fAxisColor\":1,\"fLabelColor\":1,\"fLabelFont\":42,\"fLabelOffset\":0.005,\"fLabelSize\":0.035,\"fTickLength\":0.03,\"fTitleOffset\":1,\"fTitleSize\":0.035,\"fTitleColor\":1,\"fTitleFont\":42,\"fNbins\":1,\"fXmin\":0,\"fXmax\":1,\"fXbins\":[],\"fFirst\":0,\"fLast\":0,\"fBits2\":0,\"fTimeDisplay\":false,\"fTimeFormat\":\"\",\"fLabels\":null,\"fModLabs\":null},\"fBarOffset\":0,\"fBarWidth\":1000,\"fEntries\":0,\"fTsumw\":0,\"fTsumw2\":0,\"fTsumwx\":0,\"fTsumwx2\":0,\"fMaximum\":1.56127923976411,\"fMinimum\":0,\"fNormFactor\":0,\"fContour\":[],\"fSumw2\":[],\"fOption\":\"\",\"fFunctions\":{\"_typename\":\"TList\",\"name\":\"TList\",\"arr\":[],\"opt\":[]},\"fBufferSize\":0,\"fBuffer\":[],\"fBinStatErrOpt\":0,\"fStatOverflows\":2,\"fArray\":[0,0,0,0,0,0,0,0,0,0,0,0,0,0,0,0,0,0,0,0,0,0,0,0,0,0,0,0,0,0,0,0,0,0,0,0,0,0,0,0,0,0,0,0,0,0,0,0,0,0,0,0,0,0,0,0,0,0,0,0,0,0,0,0,0,0,0,0,0,0,0,0,0,0,0,0,0,0,0,0,0,0,0,0,0,0,0,0,0,0,0,0,0,0,0,0,0,0,0,0,0,0,0,0,0,0,0,0]},\"fMinimum\":-1111,\"fMaximum\":-1111,\"_yAxisLabel\":\"Projection of total model\",\"_ymin\":0,\"_ymax\":1.41934476342192,\"_normValue\":0},{\"_typename\":\"RooCurve\",\"fUniqueID\":0,\"fBits\":50332680,\"fName\":\"SFTotalPDF0_Norm[MesonMass]_Comp[BG]\",\"fTitle\":\"Projection of total model\",\"fLineColor\":2,\"fLineStyle\":2,\"fLineWidth\":3,\"fFillColor\":0,\"fFillStyle\":1000,\"fMarkerColor\":1,\"fMarkerStyle\":1,\"fMarkerSize\":1,\"fNpoints\":106,\"fX\":[0.9894,0.9894,0.99,0.9906,0.9912,0.9918,0.9924,0.993,0.9936,0.9942,0.9948,0.9954,0.996,0.9966,0.9972,0.9978,0.9984,0.999,0.9996,1.0002,1.0008,1.0014,1.002,1.0026,1.0032,1.0038,1.0044,1.005,1.0056,1.0062,1.0068,1.0074,1.008,1.0086,1.0092,1.0098,1.0104,1.011,1.0116,1.0122,1.0128,1.0134,1.014,1.0146,1.0152,1.0158,1.0164,1.017,1.0176,1.0182,1.0188,1.0194,1.02,1.0206,1.0212,1.0218,1.0224,1.023,1.0236,1.0242,1.0248,1.0254,1.026,1.0266,1.0272,1.0278,1.0284,1.029,1.0296,1.0302,1.0308,1.0314,1.032,1.0326,1.0332,1.0338,1.0344,1.035,1.0356,1.0362,1.0368,1.0374,1.038,1.0386,1.0392,1.0398,1.0404,1.041,1.0416,1.0422,1.0428,1.0434,1.044,1.0446,1.0452,1.0458,1.0464,1.047,1.0476,1.0482,1.0488,1.0494,1.05,1.05,1.0506,1.0506],\"fY\":[0,1.8073829220017,1.8073829220017,1.831211123481,1.85524865088308,1.87949550420797,1.90395168345566,1.92861718862615,1.95349201971944,1.97857617673552,2.0038696596744,2.02937246853608,2.05508460332057,2.08100606402785,2.10713685065792,2.1334769632108,2.16002640168648,2.18678516608496,2.21375325640623,2.2409306726503,2.26831741481717,2.29591348290685,2.32371887691932,2.35173359685458,2.37995764271266,2.40839101449352,2.43703371219718,2.46588573582365,2.49494708537292,2.52421776084498,2.55369776223983,2.5833870895575,2.61328574279796,2.64339372196121,2.67371102704728,2.70423765805613,2.73497361498778,2.76591889784224,2.79707350661949,2.82843744131954,2.86001070194238,2.89179328848804,2.92378520095648,2.95598643934773,2.98839700366178,3.02101689389862,3.05384611005826,3.0868846521407,3.12013252014595,3.15358971407399,3.18725623392482,3.22113207969847,3.2552172513949,3.28951174901413,3.32401557255617,3.358728722021,3.39365119740863,3.42878299871907,3.4641241259523,3.49967457910832,3.53543435818715,3.57140346318878,3.6075818941132,3.64396965096042,3.68056673373046,3.71737314242328,3.75438887703889,3.79161393757731,3.82904832403854,3.86669203642255,3.90454507472936,3.94260743895899,3.9808791291114,4.01936014518661,4.05805048718463,4.09695015510543,4.13605914894904,4.17537746871546,4.21490511440466,4.25464208601666,4.29458838355147,4.33474400700908,4.37510895638948,4.41568323169268,4.45646683291869,4.49745976006748,4.53866201313908,4.58007359213347,4.62169449705068,4.66352472789067,4.70556428465346,4.74781316733906,4.79027137594745,4.83293891047863,4.87581577093263,4.91890195730942,4.962197469609,5.00570230783138,5.04941647197658,5.09333996204456,5.13747277803534,5.18181491994893,5.22636638778522,5.22636638778522,5.22636638778522,0],\"fFunctions\":{\"_typename\":\"TList\",\"name\":\"TList\",\"arr\":[],\"opt\":[]},\"fHistogram\":{\"_typename\":\"TH1F\",\"fUniqueID\":0,\"fBits\":50332168,\"fName\":\"SFTotalPDF0_Norm[MesonMass]_Comp[BG]\",\"fTitle\":\"Projection of total model\",\"fLineColor\":602,\"fLineStyle\":1,\"fLineWidth\":1,\"fFillColor\":0,\"fFillStyle\":1001,\"fMarkerColor\":1,\"fMarkerStyle\":1,\"fMarkerSize\":1,\"fNcells\":108,\"fXaxis\":{\"_typename\":\"TAxis\",\"fUniqueID\":0,\"fBits\":50331648,\"fName\":\"xaxis\",\"fTitle\":\"\",\"fNdivisions\":510,\"fAxisColor\":1,\"fLabelColor\":1,\"fLabelFont\":42,\"fLabelOffset\":0.005,\"fLabelSize\":0.035,\"fTickLength\":0.03,\"fTitleOffset\":1,\"fTitleSize\":0.035,\"fTitleColor\":1,\"fTitleFont\":42,\"fNbins\":106,\"fXmin\":0.98328,\"fXmax\":1.05672,\"fXbins\":[],\"fFirst\":0,\"fLast\":0,\"fBits2\":0,\"fTimeDisplay\":false,\"fTimeFormat\":\"\",\"fLabels\":null,\"fModLabs\":null},\"fYaxis\":{\"_typename\":\"TAxis\",\"fUniqueID\":0,\"fBits\":50331648,\"fName\":\"yaxis\",\"fTitle\":\"\",\"fNdivisions\":510,\"fAxisColor\":1,\"fLabelColor\":1,\"fLabelFont\":42,\"fLabelOffset\":0.005,\"fLabelSize\":0.035,\"fTickLength\":0.03,\"fTitleOffset\":0,\"fTitleSize\":0.035,\"fTitleColor\":1,\"fTitleFont\":42,\"fNbins\":1,\"fXmin\":0,\"fXmax\":5.74900302656374,\"fXbins\":[],\"fFirst\":0,\"fLast\":0,\"fBits2\":0,\"fTimeDisplay\":false,\"fTimeFormat\":\"\",\"fLabels\":null,\"fModLabs\":null},\"fZaxis\":{\"_typename\":\"TAxis\",\"fUniqueID\":0,\"fBits\":50331648,\"fName\":\"zaxis\",\"fTitle\":\"\",\"fNdivisions\":510,\"fAxisColor\":1,\"fLabelColor\":1,\"fLabelFont\":42,\"fLabelOffset\":0.005,\"fLabelSize\":0.035,\"fTickLength\":0.03,\"fTitleOffset\":1,\"fTitleSize\":0.035,\"fTitleColor\":1,\"fTitleFont\":42,\"fNbins\":1,\"fXmin\":0,\"fXmax\":1,\"fXbins\":[],\"fFirst\":0,\"fLast\":0,\"fBits2\":0,\"fTimeDisplay\":false,\"fTimeFormat\":\"\",\"fLabels\":null,\"fModLabs\":null},\"fBarOffset\":0,\"fBarWidth\":1000,\"fEntries\":0,\"fTsumw\":0,\"fTsumw2\":0,\"fTsumwx\":0,\"fTsumwx2\":0,\"fMaximum\":5.74900302656374,\"fMinimum\":0,\"fNormFactor\":0,\"fContour\":[],\"fSumw2\":[],\"fOption\":\"\",\"fFunctions\":{\"_typename\":\"TList\",\"name\":\"TList\",\"arr\":[],\"opt\":[]},\"fBufferSize\":0,\"fBuffer\":[],\"fBinStatErrOpt\":0,\"fStatOverflows\":2,\"fArray\":[0,0,0,0,0,0,0,0,0,0,0,0,0,0,0,0,0,0,0,0,0,0,0,0,0,0,0,0,0,0,0,0,0,0,0,0,0,0,0,0,0,0,0,0,0,0,0,0,0,0,0,0,0,0,0,0,0,0,0,0,0,0,0,0,0,0,0,0,0,0,0,0,0,0,0,0,0,0,0,0,0,0,0,0,0,0,0,0,0,0,0,0,0,0,0,0,0,0,0,0,0,0,0,0,0,0,0,0]},\"fMinimum\":-1111,\"fMaximum\":-1111,\"_yAxisLabel\":\"Projection of total model\",\"_ymin\":0,\"_ymax\":5.22636638778522,\"_normValue\":0},{\"$ref\":3},{\"_typename\":\"TPaveText\",\"fUniqueID\":0,\"fBits\":50331657,\"fLineColor\":1,\"fLineStyle\":1,\"fLineWidth\":1,\"fFillColor\":0,\"fFillStyle\":0,\"fX1\":0.999853447975655,\"fY1\":13.1352332278022,\"fX2\":1.04014655202434,\"fY2\":14.096250191275,\"fX1NDC\":0.231379310344828,\"fY1NDC\":0.933983055615829,\"fX2NDC\":0.768620689655172,\"fY2NDC\":0.995000004768372,\"fBorderSize\":0,\"fInit\":1,\"fShadowColor\":1,\"fCornerRadius\":0,\"fOption\":\"blNDC\",\"fName\":\"title\",\"fTextAngle\":0,\"fTextSize\":0,\"fTextAlign\":22,\"fTextColor\":1,\"fTextFont\":42,\"fLabel\":\"\",\"fLongest\":28,\"fMargin\":0.05,\"fLines\":{\"_typename\":\"TList\",\"name\":\"TList\",\"arr\":[{\"_typename\":\"TLatex\",\"fUniqueID\":0,\"fBits\":50331648,\"fName\":\"\",\"fTitle\":\"Fit components for MesonMass\",\"fTextAngle\":0,\"fTextSize\":0,\"fTextAlign\":0,\"fTextColor\":0,\"fTextFont\":0,\"fX\":0,\"fY\":0,\"fLineColor\":1,\"fLineStyle\":1,\"fLineWidth\":2,\"fLimitFactorSize\":3,\"fOriginSize\":0.0518644079566002}],\"opt\":[\"\"]}}],\"opt\":[\"\",\"FUNC\",\"p\",\"l\",\"BRNDC\",\"l\",\"l\",\"AXISSAME\",\"blNDC\"]},\"fExecs\":null,\"fName\":\"SFMesonMass2\",\"fTitle\":\"SF sWeights Fit chi2 = 0.968948\",\"fNumPaletteColor\":0,\"fNextPaletteColor\":0,\"fDISPLAY\":\"$DISPLAY\",\"fDoubleBuffer\":0,\"fRetained\":true,\"fXsizeUser\":0,\"fYsizeUser\":0,\"fXsizeReal\":20,\"fYsizeReal\":14.28571,\"fWindowTopX\":0,\"fWindowTopY\":0,\"fWindowWidth\":0,\"fWindowHeight\":0,\"fCw\":696,\"fCh\":472,\"fCatt\":{\"_typename\":\"TAttCanvas\",\"fXBetween\":2,\"fYBetween\":2,\"fTitleFromTop\":1.2,\"fXdate\":0.2,\"fYdate\":0.3,\"fAdate\":1},\"kMoveOpaque\":true,\"kResizeOpaque\":true,\"fHighLightColor\":2,\"fBatch\":true,\"kShowEventStatus\":false,\"kAutoExec\":true,\"kMenuBar\":true});\n",
       "       Core.draw(\"root_plot_1\", obj, \"\");\n",
       "     }\n",
       " );\n",
       "</script>\n"
      ],
      "text/plain": [
       "<IPython.core.display.HTML object>"
      ]
     },
     "metadata": {},
     "output_type": "display_data"
    }
   ],
   "source": [
    "((TCanvas*)RF->GetPlots()->At(1))->Draw()"
   ]
  },
  {
   "cell_type": "code",
   "execution_count": null,
   "metadata": {},
   "outputs": [],
   "source": []
  }
 ],
 "metadata": {
  "kernelspec": {
   "display_name": "ROOT C++",
   "language": "c++",
   "name": "root"
  },
  "language_info": {
   "codemirror_mode": "text/x-c++src",
   "file_extension": ".C",
   "mimetype": " text/x-c++src",
   "name": "c++"
  }
 },
 "nbformat": 4,
 "nbformat_minor": 2
}
