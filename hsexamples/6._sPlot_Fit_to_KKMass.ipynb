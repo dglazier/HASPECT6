{
 "cells": [
  {
   "cell_type": "markdown",
   "metadata": {},
   "source": [
    "## SPlot fit to invariant mass of 2 kaons\n",
    "\n",
    "The sPlot technique is used to perform background subtraction. Here we assume signal is just phi photoproduction, while background can be other 2 kaon final states or mis-identified events.\n",
    "\n",
    "We use simulated data to provide a good approximation of the phi PDF including experimental resultions and acceptances.\n",
    "\n",
    "The background is assumed to be smooth under the phi peak and is paramterised by a 2 parameter Chebychev.\n",
    "\n",
    "The classes used here are wrappers to the RooStats sPlot implementation, which uses a RooFit extended maximum likelihood fit to the data to determine signal and background yeilds and covariances."
   ]
  },
  {
   "cell_type": "code",
   "execution_count": 1,
   "metadata": {},
   "outputs": [
    {
     "name": "stdout",
     "output_type": "stream",
     "text": [
      "%%%%%%%%%%%%%%%%%%%%%%%%%    Weights\n",
      "%%%%%%%%%%%%%%%%%%%%%%%%%    Bins\n",
      "FFFFFFFFFFFFFFFFFFFFFFFFF RooHSEventsPDF\n",
      "\n",
      "\u001b[1mRooFit v3.60 -- Developed by Wouter Verkerke and David Kirkby\u001b[0m \n",
      "                Copyright (C) 2000-2013 NIKHEF, University of California & Stanford University\n",
      "                All rights reserved, please read http://roofit.sourceforge.net/license.txt\n",
      "\n",
      "FFFFFFFFFFFFFFFFFFFFFFFFF RooHSEventsHistPDF\n",
      "FFFFFFFFFFFFFFFFFFFFFFFFF HSMCMC\n",
      "FFFFFFFFFFFFFFFFFFFFFFFFF HSRooFit\n",
      "FFFFFFFFFFFFFFFFFFFFFFFFF HSsPlot\n"
     ]
    }
   ],
   "source": [
    "gROOT->ProcessLine(\".x $HSCODE/hsfit/LoadHSFit.C+\");"
   ]
  },
  {
   "cell_type": "markdown",
   "metadata": {},
   "source": [
    "Create the sPlot class. All output will be saved in directory \"out2\""
   ]
  },
  {
   "cell_type": "code",
   "execution_count": 2,
   "metadata": {},
   "outputs": [],
   "source": [
    "  HSsPlot* RF=new HSsPlot(\"SF\");\n",
    "  RF->SetOutDir(\"out2/\");\n",
    " "
   ]
  },
  {
   "cell_type": "markdown",
   "metadata": {},
   "source": [
    "Load variables, \n",
    "Fit variable\n",
    "\n",
    "        MesonMass = M(2K) discriminatory variable used to assess signal and background \n",
    "Cut variables (just used to filter events)\n",
    "\n",
    "        Eg = tagged photon energy, coherent peak region 1.7-1.9 GeV\n",
    "        MLP = result of MultiLayerPerceptron classifier > 0.98\n",
    "        Topo = which final state topolgies to use, pK+ and pK-\n",
    "        MesonCosPhi = CoM production angle of the $\\phi$\n"
   ]
  },
  {
   "cell_type": "code",
   "execution_count": 3,
   "metadata": {},
   "outputs": [],
   "source": [
    " ///////////////////////////////Load Variables\n",
    "  RF->LoadVariable(\"MesonMass[0.99,1.05]\");//should be same name as variable in tree \n",
    "  RF->LoadAuxVars(\"Eg[1.7,1.9]\");//Not to be fitted but limits applied to dataset\n",
    "  RF->LoadAuxVars(\"MLP[0.98,1]\");//Not to be fitted but limits applied to dataset\n",
    "  RF->LoadAuxVars(\"Topo[0.5,2.5]\");//Not to be fitted but limits applied to dataset\n",
    "  RF->LoadAuxVars(\"MesonCosTh[-0.5,0.5]\");//Not to be fitted but limits applied to dataset"
   ]
  },
  {
   "cell_type": "markdown",
   "metadata": {},
   "source": [
    "Define the signal MesonMass PDF\n",
    "\n",
    "Use custom RooHSEventsPDF class to base PDF shape on simulated data.\n",
    "Additional parameters will be constrained in fit :\n",
    "\n",
    "        alpha = Gaussian convolution width:  >0, MLV = 0, sigma = 0.1/5 GeV\n",
    "        off = MesonMass peak offset: MLV = 0, sigma 0.1/10 GeV\n",
    "        scale = MesonMass scale factor : MLV= 1, sigma 0.1/5, limits 0.9 and 1.1"
   ]
  },
  {
   "cell_type": "code",
   "execution_count": 4,
   "metadata": {},
   "outputs": [
    {
     "name": "stdout",
     "output_type": "stream",
     "text": [
      "RooGaussian::AlphaConstrPhi[ x=alpha mean=0 sigma=0.02 ] = 1\n",
      "RooGaussian::OffConstrPhi[ x=off mean=0 sigma=0.01 ] = 1\n",
      "RooGaussian::ScConstrPhi[ x=scale mean=1 sigma=0.02 ] = 1\n",
      "COPYNG 0x7fabea77e700 0\n",
      "COPYNG 0x7fabeb107c00 0\n"
     ]
    }
   ],
   "source": [
    " RF->Factory(\"RooHSEventsHistPDF::Phi(MesonMass,alpha[0,0,0.1],off[0,-0.05,0.05],scale[1,0.9,1.1])\");\n",
    " RooHSEventsHistPDF* pdf=dynamic_cast<RooHSEventsHistPDF*>(RF->GetWorkSpace()->pdf(\"Phi\"));"
   ]
  },
  {
   "cell_type": "markdown",
   "metadata": {},
   "source": [
    "Give the simulated data tree to the PDF"
   ]
  },
  {
   "cell_type": "code",
   "execution_count": 5,
   "metadata": {},
   "outputs": [
    {
     "name": "stdout",
     "output_type": "stream",
     "text": [
      "MesonMass\n",
      "0\n"
     ]
    },
    {
     "name": "stderr",
     "output_type": "stream",
     "text": [
      "Info in <HS::FIT::RooHSEventsHistPDF::RooHSEventsPDF::SetEvTree>:  with name newtree and cut MesonMass>=0.990000&&MesonMass<=1.050000&&Eg>=1.700000&&Eg<=1.900000&&MLP>=0.980000&&MLP<=1.000000&&Topo>=0.500000&&Topo<=2.500000&&MesonCosTh>=-0.500000&&MesonCosTh<=0.500000\n"
     ]
    },
    {
     "name": "stdout",
     "output_type": "stream",
     "text": [
      "tree entries 266366 1\n",
      "      RooHSEventsHistPDF::CreateHistPdf()  \n",
      "[#1] INFO:DataHandling -- RooDataHist::adjustBinning(hmc_model_MesonMassPhi): fit range of variable offMesonMass expanded to nearest bin boundaries: [0.936667,1.10333] --> [0.936667,1.10333]\n",
      "[#1] INFO:DataHandling -- RooDataHist::adjustBinning(hmc_model_MesonMassPhi): fit range of variable Valpha expanded to nearest bin boundaries: [0,0.1] --> [-0.0001,0.1001]\n"
     ]
    }
   ],
   "source": [
    "auto sfile=new TFile(\"/work/g8dump/hsexamples/converttestmvamlpinc2_sim.root\");\n",
    "auto stree=(TTree*)sfile->Get(\"newtree\");\n",
    "pdf->SetEvTree(stree,RF->GetCut());"
   ]
  },
  {
   "cell_type": "markdown",
   "metadata": {},
   "source": [
    "Register signal PDF to the Extended Maximimum Likelihood fit"
   ]
  },
  {
   "cell_type": "code",
   "execution_count": 6,
   "metadata": {},
   "outputs": [],
   "source": [
    " RF->LoadSpeciesPDF(\"Phi\",1);"
   ]
  },
  {
   "cell_type": "markdown",
   "metadata": {},
   "source": [
    "Apply Gaussian constraints to the signal PDF"
   ]
  },
  {
   "cell_type": "code",
   "execution_count": 7,
   "metadata": {},
   "outputs": [
    {
     "name": "stdout",
     "output_type": "stream",
     "text": [
      "[#1] INFO:ObjectHandling -- RooWorkspace::import(wHS) importing RooGaussian::AlphaConstrPhi\n",
      "[#1] INFO:ObjectHandling -- RooWorkspace::import(wHS) importing RooConstVar::0\n",
      "[#1] INFO:ObjectHandling -- RooWorkspace::import(wHS) importing RooConstVar::0.02\n",
      "[#1] INFO:ObjectHandling -- RooWorkspace::import(wHS) importing RooGaussian::OffConstrPhi\n",
      "[#1] INFO:ObjectHandling -- RooWorkspace::import(wHS) importing RooConstVar::0.01\n",
      "[#1] INFO:ObjectHandling -- RooWorkspace::import(wHS) importing RooGaussian::ScConstrPhi\n",
      "[#1] INFO:ObjectHandling -- RooWorkspace::import(wHS) importing RooConstVar::1\n"
     ]
    }
   ],
   "source": [
    "  RF->AddGausConstraint(pdf->AlphaConstraint());\n",
    "  RF->AddGausConstraint(pdf->OffConstraint());\n",
    "  RF->AddGausConstraint(pdf->ScaleConstraint());"
   ]
  },
  {
   "cell_type": "markdown",
   "metadata": {},
   "source": [
    "Register a 2 parameter Chebychev polynomial as the background PDF"
   ]
  },
  {
   "cell_type": "code",
   "execution_count": 8,
   "metadata": {},
   "outputs": [],
   "source": [
    " RF->Factory(\"Chebychev::BG(MesonMass,{a0[0.15,-1,1],a1[-0.25,-1,1]})\");\n",
    " RF->LoadSpeciesPDF(\"BG\");"
   ]
  },
  {
   "cell_type": "markdown",
   "metadata": {},
   "source": [
    "Apply additional filter to the real data, but not the simulated data. Here the linear polarisation is not simulated and so we can not apply these cuts on polarisation state and degree to simulated data.\n",
    "\n",
    "Load the data to be fitted. Here we take the output of the MLP finalstate analysis"
   ]
  },
  {
   "cell_type": "code",
   "execution_count": 9,
   "metadata": {},
   "outputs": [
    {
     "name": "stdout",
     "output_type": "stream",
     "text": [
      "[#1] INFO:Eval -- RooAbsReal::attachToTree(Topo) TTree Int_t branch Topo will be converted to double precision\n",
      "[#1] INFO:DataHandling -- RooAbsCategory::attachToTree(PolState) TTree branch PolState will be interpreted as category index\n",
      "[#1] INFO:Eval -- RooTreeDataStore::loadValues(newtree) Ignored 18464 out of range events\n",
      "HSRooFit::LoadDataSet(TTree*) Print dataset for newtree\n",
      "RooDataSet::newtree[MesonMass,Eg,MLP,Topo,MesonCosTh,Pol,PolState,UID] = 16314 entries\n"
     ]
    }
   ],
   "source": [
    "RF->LoadAuxVars(\"Pol[0,1]\");//Not to be fitted but limits applied to dataset\n",
    "RF->LoadAuxVars(\"PolState[Polp=1,Polm=-1]\");//Load a category\n",
    "auto dfile=new TFile(\"/work/g8dump/hsexamples/converttestmvamlpinc2b.root\");\n",
    "auto dtree=(TTree*)dfile->Get(\"newtree\");\n",
    "RF->SetIDBranchName(\"UID\");\n",
    "RF->LoadDataSet(dtree);"
   ]
  },
  {
   "cell_type": "markdown",
   "metadata": {},
   "source": [
    "Turn on ROOT javascript magic for plotting"
   ]
  },
  {
   "cell_type": "code",
   "execution_count": 10,
   "metadata": {},
   "outputs": [],
   "source": [
    "%jsroot on"
   ]
  },
  {
   "cell_type": "markdown",
   "metadata": {},
   "source": [
    "Now just perform a single Maximum Likelihhod fit with Minuit2 minimiser. And draw the result"
   ]
  },
  {
   "cell_type": "code",
   "execution_count": 11,
   "metadata": {
    "scrolled": false
   },
   "outputs": [
    {
     "name": "stdout",
     "output_type": "stream",
     "text": [
      "HSRooFit::TotalPDF() 0x7fabe8028fc0 0\n",
      "RooAddPdf::SFTotalPDF[ Yld_Phi * Phi + Yld_BG * BG ] = 1.18398e+07\n",
      "HSRooFit::TotalPDF() SFTotalPDF0\n",
      "COPYNG 0x7fabeb0e7020 0x7fabea5aeac0\n",
      "COPYNG 0x7fabebc31340 0x7fabebcce030\n",
      "[#1] INFO:ObjectHandling -- RooWorkspace::import(wHS) importing RooAddPdf::SFTotalPDF0\n",
      "[#1] INFO:ObjectHandling -- RooWorkspace::import(wHS) using existing copy of HS::FIT::RooHSEventsHistPDF::Phi for import of RooAddPdf::SFTotalPDF0\n",
      "[#1] INFO:ObjectHandling -- RooWorkspace::import(wHS) using existing copy of RooRealVar::MesonMass for import of RooAddPdf::SFTotalPDF0\n",
      "[#1] INFO:ObjectHandling -- RooWorkspace::import(wHS) using existing copy of RooRealVar::off for import of RooAddPdf::SFTotalPDF0\n",
      "[#1] INFO:ObjectHandling -- RooWorkspace::import(wHS) using existing copy of RooRealVar::scale for import of RooAddPdf::SFTotalPDF0\n",
      "[#1] INFO:ObjectHandling -- RooWorkspace::import(wHS) using existing copy of RooRealVar::alpha for import of RooAddPdf::SFTotalPDF0\n",
      "[#1] INFO:ObjectHandling -- RooWorkspace::import(wHS) using existing copy of RooRealVar::Yld_Phi for import of RooAddPdf::SFTotalPDF0\n",
      "[#1] INFO:ObjectHandling -- RooWorkspace::import(wHS) using existing copy of RooChebychev::BG for import of RooAddPdf::SFTotalPDF0\n",
      "[#1] INFO:ObjectHandling -- RooWorkspace::import(wHS) using existing copy of RooRealVar::a0 for import of RooAddPdf::SFTotalPDF0\n",
      "[#1] INFO:ObjectHandling -- RooWorkspace::import(wHS) using existing copy of RooRealVar::a1 for import of RooAddPdf::SFTotalPDF0\n",
      "[#1] INFO:ObjectHandling -- RooWorkspace::import(wHS) using existing copy of RooRealVar::Yld_BG for import of RooAddPdf::SFTotalPDF0\n",
      "RooAddPdf::SFTotalPDF0[ Yld_Phi * Phi + Yld_BG * BG ] = 1.18398e+07\n",
      "\n",
      "RooWorkspace(wHS) wHS contents\n",
      "\n",
      "variables\n",
      "---------\n",
      "(Eg,MLP,MesonCosTh,MesonMass,Pol,PolState,Topo,UID,Yld_BG,Yld_Phi,a0,a1,alpha,off,scale)\n",
      "\n",
      "p.d.f.s\n",
      "-------\n",
      "RooGaussian::AlphaConstrPhi[ x=alpha mean=0 sigma=0.02 ] = 1\n",
      "RooChebychev::BG[ x=MesonMass coefList=(a0,a1) ] = 1.25\n",
      "RooGaussian::OffConstrPhi[ x=off mean=0 sigma=0.01 ] = 1\n",
      "HS::FIT::RooHSEventsHistPDF::Phi[ MesonMass=MesonMass off=off scale=scale alpha=alpha ] = 2.36796e+07\n",
      "RooAddPdf::SFTotalPDF0[ Yld_Phi * Phi + Yld_BG * BG ] = 1.18398e+07\n",
      "RooGaussian::ScConstrPhi[ x=scale mean=1 sigma=0.02 ] = 1\n",
      "\n",
      "named sets\n",
      "----------\n",
      "ID:(UID)\n",
      "SFAuxVars:(Eg,MLP,Topo,MesonCosTh,Pol,PolState)\n",
      "SFBinVars:()\n",
      "SFConstraints:(AlphaConstrPhi,OffConstrPhi,ScConstrPhi)\n",
      "SFPDFs:(Phi,BG)\n",
      "SFParameters:(alpha,off,scale,a0,a1)\n",
      "SFVariables:(MesonMass)\n",
      "SFYields:(Yld_Phi,Yld_BG)\n",
      "\n",
      "RooAddPdf::SFTotalPDF0[ Yld_Phi * Phi + Yld_BG * BG ] = 1.18398e+07\n",
      "RooArgList:: = (AlphaConstrPhi,OffConstrPhi,ScConstrPhi)\n",
      "0x7fabebc716e0 : OBJ: RooCmdArg\tExtended\tExtended\n",
      "0x7fabebc92d30 : OBJ: RooCmdArg\tNumCPU\tNumCPU\n",
      "0x7fabea77e060 : OBJ: RooCmdArg\tSave\tSave\n",
      "0x7fabeb918040 : OBJ: RooCmdArg\tWarnings\tWarnings\n",
      "0x7fabeb187dd0 : OBJ: RooCmdArg\tExternalConstraints\tExternalConstraints\n"
     ]
    },
    {
     "name": "stderr",
     "output_type": "stream",
     "text": [
      "Info in <HS::FIT::HSsPlot::HSRooFit::Fit()>:  Starting\n"
     ]
    },
    {
     "name": "stdout",
     "output_type": "stream",
     "text": [
      "COPYNG 0x7fabeb0e7020 0x7fabea5aeac0\n",
      "[#1] INFO:Minization -- createNLL: caching constraint set under name CONSTR_OF_PDF_SFTotalPDF0_FOR_OBS_Eg:MLP:MesonCosTh:MesonMass:Pol:PolState:Topo:UID with 3 entries\n",
      "[#1] INFO:Minization --  Including the following contraint terms in minimization: (AlphaConstrPhi,OffConstrPhi,ScConstrPhi)\n",
      "[#1] INFO:Fitting -- RooAddition::defaultErrorLevel(nll_SFTotalPDF0_newtree_with_constr) Summation contains a RooNLLVar, using its error level\n",
      "[#1] INFO:Minization -- RooMinimizer::optimizeConst: activating const optimization\n",
      "[#0] WARNING:Optimization -- RooAbsOptTestStatistic::optimizeConstantTerms(nll_SFTotalPDF0_newtree) WARNING Cache-and-track optimization (Optimize level 2) is only available for datasets implement in terms of RooVectorDataStore - ignoring this option for current dataset\n",
      " **********\n",
      " **    1 **SET PRINT           1\n",
      " **********\n",
      " **********\n",
      " **    2 **SET NOGRAD\n",
      " **********\n",
      " PARAMETER DEFINITIONS:\n",
      "    NO.   NAME         VALUE      STEP SIZE      LIMITS\n",
      "     1 Yld_BG       8.15700e+03  3.26280e+03    0.00000e+00  3.26280e+04\n",
      "     2 Yld_Phi      8.15700e+03  3.26280e+03    0.00000e+00  3.26280e+04\n",
      "     3 a0           1.50000e-01  2.00000e-01   -1.00000e+00  1.00000e+00\n",
      "     4 a1          -2.50000e-01  2.00000e-01   -1.00000e+00  1.00000e+00\n",
      "     5 alpha        0.00000e+00  1.00000e-02    0.00000e+00  1.00000e-01\n",
      " MINUIT WARNING IN PARAM DEF\n",
      " ============== STARTING VALUE IS AT LIMIT.\n",
      " MINUIT WARNING IN PARAMETR\n",
      " ============== VARIABLE5 IS AT ITS LOWER ALLOWED LIMIT.\n",
      " MINUIT WARNING IN PARAMETR\n",
      " ============== VARIABLE5 BROUGHT BACK INSIDE LIMITS.\n",
      "     6 off          0.00000e+00  1.00000e-02   -5.00000e-02  5.00000e-02\n",
      "     7 scale        1.00000e+00  2.00000e-02    9.00000e-01  1.10000e+00\n",
      " **********\n",
      " **    3 **SET ERR         0.5\n",
      " **********\n",
      " **********\n",
      " **    4 **SET PRINT           1\n",
      " **********\n",
      " **********\n",
      " **    5 **SET STR           1\n",
      " **********\n",
      " NOW USING STRATEGY  1: TRY TO BALANCE SPEED AGAINST RELIABILITY\n",
      " **********\n",
      " **    6 **MIGRAD        3500           1\n",
      " **********\n",
      " FIRST CALL TO USER FUNCTION AT NEW START POINT, WITH IFLAG=4.\n",
      " MINUIT WARNING IN MIGrad    \n",
      " ============== VARIABLE5 IS AT ITS LOWER ALLOWED LIMIT.\n",
      " START MIGRAD MINIMIZATION.  STRATEGY  1.  CONVERGENCE WHEN EDM .LT. 1.00e-03\n",
      " FCN=-188056 FROM MIGRAD    STATUS=INITIATE       57 CALLS          58 TOTAL\n",
      "                     EDM= unknown      STRATEGY= 1      NO ERROR MATRIX       \n",
      "  EXT PARAMETER               CURRENT GUESS       STEP         FIRST   \n",
      "  NO.   NAME      VALUE            ERROR          SIZE      DERIVATIVE \n",
      "   1  Yld_BG       8.15700e+03   3.26280e+03   0.00000e+00  -2.60009e+03\n",
      "   2  Yld_Phi      8.15700e+03   3.26280e+03   0.00000e+00   2.60007e+03\n",
      "   3  a0           1.50000e-01   2.00000e-01   0.00000e+00  -1.31430e+03\n",
      "   4  a1          -2.50000e-01   2.00000e-01   0.00000e+00  -1.06831e+03\n",
      "   5  alpha        2.26411e-04   1.00000e-02   9.32482e-02   2.18942e+02\n",
      "   6  off          0.00000e+00   1.00000e-02   0.00000e+00  -2.22278e+03\n",
      "   7  scale        1.00000e+00   2.00000e-02   0.00000e+00   1.53993e+02\n",
      "                               ERR DEF= 0.5\n",
      " MIGRAD FAILS TO FIND IMPROVEMENT\n",
      " MACHINE ACCURACY LIMITS FURTHER IMPROVEMENT.\n",
      " MIGRAD MINIMIZATION HAS CONVERGED.\n",
      " MIGRAD WILL VERIFY CONVERGENCE AND ERROR MATRIX.\n",
      " COVARIANCE MATRIX CALCULATED SUCCESSFULLY\n",
      " FCN=-189270 FROM HESSE     STATUS=OK             56 CALLS         377 TOTAL\n",
      "                     EDM=0.0074663    STRATEGY= 1      ERROR MATRIX ACCURATE \n",
      "  EXT PARAMETER                                   STEP         FIRST   \n",
      "  NO.   NAME      VALUE            ERROR          SIZE      DERIVATIVE \n",
      "   1  Yld_BG       1.29808e+04   1.83609e+02   2.33784e-03   6.93881e-01\n",
      "   2  Yld_Phi      3.33482e+03   1.55355e+02   2.85120e-03   3.12354e+00\n",
      "   3  a0           5.13227e-01   1.49147e-02   4.87108e-03   1.64611e+00\n",
      "   4  a1          -1.79434e-01   2.04837e-02   4.80256e-03  -6.29055e-01\n",
      "   5  alpha        5.17164e-04   6.66592e-04   2.47249e-02  -1.25998e+00\n",
      "   6  off         -4.47857e-04   1.44474e-04   8.35580e-04   1.99688e+01\n",
      "   7  scale        1.00255e+00   1.81419e-02   4.98815e-02  -5.69919e-02\n",
      "                               ERR DEF= 0.5\n",
      " MIGRAD FAILS TO FIND IMPROVEMENT\n",
      " MACHINE ACCURACY LIMITS FURTHER IMPROVEMENT.\n",
      " MIGRAD MINIMIZATION HAS CONVERGED.\n",
      " MIGRAD WILL VERIFY CONVERGENCE AND ERROR MATRIX.\n",
      " COVARIANCE MATRIX CALCULATED SUCCESSFULLY\n",
      " MIGRAD TERMINATED WITHOUT CONVERGENCE.\n",
      " FCN=-189270 FROM MIGRAD    STATUS=FAILED        520 CALLS         521 TOTAL\n",
      "                     EDM=0.0147162    STRATEGY= 1      ERR MATRIX APPROXIMATE\n",
      "  EXT PARAMETER                APPROXIMATE        STEP         FIRST   \n",
      "  NO.   NAME      VALUE            ERROR          SIZE      DERIVATIVE \n",
      "   1  Yld_BG       1.29814e+04   1.82544e+02   2.33773e-03  -5.23916e-01\n",
      "   2  Yld_Phi      3.33246e+03   1.54072e+02   2.85180e-03   8.12130e-01\n",
      "   3  a0           5.12867e-01   1.49168e-02   4.87097e-03  -1.14868e-01\n",
      "   4  a1          -1.79489e-01   2.04073e-02   4.80347e-03   1.65494e-01\n",
      "   5  alpha        5.85190e-04   4.24023e-04   1.49802e-02  -1.83736e+00\n",
      "   6  off         -4.51241e-04   1.46659e-04   8.71654e-04  -1.80523e+01\n",
      "   7  scale        1.00236e+00   1.83179e-02   5.06402e-02   2.18493e-01\n",
      "                               ERR DEF= 0.5\n",
      " EXTERNAL ERROR MATRIX.    NDIM=  25    NPAR=  7    ERR DEF=0.5\n",
      "  3.332e+04 -2.037e+04 -5.451e-01 -1.875e+00 -2.386e-02 -1.309e-03 -7.078e-01 \n",
      " -2.037e+04  2.374e+04  5.460e-01  1.878e+00  2.392e-02  1.314e-03  7.098e-01 \n",
      " -5.451e-01  5.460e-01  2.225e-04  9.789e-05  6.538e-07 -3.141e-07  1.860e-05 \n",
      " -1.875e+00  1.878e+00  9.789e-05  4.165e-04  2.306e-06 -7.650e-08  3.257e-05 \n",
      " -2.386e-02  2.392e-02  6.538e-07  2.306e-06  1.800e-07  1.035e-09 -1.182e-06 \n",
      " -1.309e-03  1.314e-03 -3.141e-07 -7.650e-08  1.035e-09  2.151e-08  4.571e-07 \n",
      " -7.078e-01  7.098e-01  1.860e-05  3.257e-05 -1.182e-06  4.571e-07  3.394e-04 \n",
      "ERR MATRIX APPROXIMATE\n",
      " PARAMETER  CORRELATION COEFFICIENTS  \n",
      "       NO.  GLOBAL      1      2      3      4      5      6      7\n",
      "        1  0.73250   1.000 -0.724 -0.200 -0.503 -0.308 -0.049 -0.210\n",
      "        2  0.79336  -0.724  1.000  0.238  0.597  0.366  0.058  0.250\n",
      "        3  0.35968  -0.200  0.238  1.000  0.322  0.103 -0.144  0.068\n",
      "        4  0.63716  -0.503  0.597  0.322  1.000  0.266 -0.026  0.087\n",
      "        5  0.45247  -0.308  0.366  0.103  0.266  1.000  0.017 -0.151\n",
      "        6  0.24139  -0.049  0.058 -0.144 -0.026  0.017  1.000  0.169\n",
      "        7  0.40433  -0.210  0.250  0.068  0.087 -0.151  0.169  1.000\n",
      " ERR MATRIX APPROXIMATE\n",
      " **********\n",
      " **    7 **SET ERR         0.5\n",
      " **********\n",
      " **********\n",
      " **    8 **SET PRINT           1\n",
      " **********\n",
      " **********\n",
      " **    9 **HESSE        3500\n",
      " **********\n",
      " COVARIANCE MATRIX CALCULATED SUCCESSFULLY\n",
      " FCN=-189270 FROM HESSE     STATUS=OK             70 CALLS         591 TOTAL\n",
      "                     EDM=0.00677606    STRATEGY= 1      ERROR MATRIX ACCURATE \n",
      "  EXT PARAMETER                                INTERNAL      INTERNAL  \n",
      "  NO.   NAME      VALUE            ERROR       STEP SIZE       VALUE   \n",
      "   1  Yld_BG       1.29814e+04   1.95180e+02   4.67546e-04  -2.05727e-01\n",
      "   2  Yld_Phi      3.33246e+03   1.68729e+02   5.70359e-04  -9.20212e-01\n",
      "   3  a0           5.12867e-01   1.51323e-02   9.74195e-04   5.38522e-01\n",
      "   4  a1          -1.79489e-01   2.07682e-02   9.60695e-04  -1.80467e-01\n",
      "   5  alpha        5.85190e-04   3.97780e-04   2.91340e-01  -1.41765e+00\n",
      "   6  off         -4.51241e-04   1.75806e-04   2.76293e-02  -9.02494e-03\n",
      "   7  scale        1.00236e+00   2.18991e-02   5.00000e-01  -3.16524e+00\n",
      "                               ERR DEF= 0.5\n",
      " EXTERNAL ERROR MATRIX.    NDIM=  25    NPAR=  7    ERR DEF=0.5\n",
      "  3.810e+04 -2.513e+04 -6.860e-01 -2.146e+00 -3.438e-02 -1.851e-03 -2.064e-02 \n",
      " -2.513e+04  2.847e+04  6.863e-01  2.147e+00  3.440e-02  1.854e-03  2.052e-02 \n",
      " -6.860e-01  6.863e-01  2.290e-04  1.089e-04  6.505e-07 -4.445e-07  1.404e-05 \n",
      " -2.146e+00  2.147e+00  1.089e-04  4.314e-04  2.286e-06 -2.222e-07 -6.362e-06 \n",
      " -3.438e-02  3.440e-02  6.505e-07  2.286e-06  1.584e-07  2.317e-08 -4.125e-06 \n",
      " -1.851e-03  1.854e-03 -4.445e-07 -2.222e-07  2.317e-08  3.091e-08 -4.325e-07 \n",
      " -2.064e-02  2.052e-02  1.404e-05 -6.362e-06 -4.125e-06 -4.325e-07  4.874e-04 \n",
      " PARAMETER  CORRELATION COEFFICIENTS  \n",
      "       NO.  GLOBAL      1      2      3      4      5      6      7\n",
      "        1  0.77112   1.000 -0.763 -0.232 -0.529 -0.443 -0.054 -0.005\n",
      "        2  0.83127  -0.763  1.000  0.269  0.613  0.512  0.062  0.006\n",
      "        3  0.39242  -0.232  0.269  1.000  0.346  0.108 -0.167  0.042\n",
      "        4  0.65302  -0.529  0.613  0.346  1.000  0.277 -0.061 -0.014\n",
      "        5  0.74590  -0.443  0.512  0.108  0.277  1.000  0.331 -0.470\n",
      "        6  0.41340  -0.054  0.062 -0.167 -0.061  0.331  1.000 -0.111\n",
      "        7  0.56363  -0.005  0.006  0.042 -0.014 -0.470 -0.111  1.000\n",
      "[#1] INFO:Minization -- RooMinimizer::optimizeConst: deactivating const optimization\n",
      "1 0x7fabc5a7a590 0x7fabeae9dbe0\n",
      "Plotting MesonMass\n",
      "COPYNG 0x7fabeb0e7020 0x7fabea5aeac0\n",
      "1 HSRooFit::PlotDataModel() chi2 = 0.965593\n",
      "[#1] INFO:Plotting -- RooAbsPdf::plotOn(SFTotalPDF0) directly selected PDF components: (Phi)\n",
      "[#1] INFO:Plotting -- RooAbsPdf::plotOn(SFTotalPDF0) indirectly selected PDF components: ()\n",
      "COPYNG 0x7fabeb0e7020 0x7fabea5aeac0\n",
      "[#1] INFO:Plotting -- RooAbsPdf::plotOn(SFTotalPDF0) directly selected PDF components: (BG)\n",
      "[#1] INFO:Plotting -- RooAbsPdf::plotOn(SFTotalPDF0) indirectly selected PDF components: ()\n",
      "COPYNG 0x7fabeb0e7020 0x7fabea5aeac0\n",
      "HSRooFit::FitMany  Likelihoods \n",
      "-189270\n",
      "HSRooFit::FitMany() Best likelihood was -189270 0 so use those parameters\n",
      "\n",
      "  RooFitResult: minimized FCN value: -189270, estimated distance to minimum: 0.00677606\n",
      "                covariance matrix quality: Full, accurate covariance matrix\n",
      "                Status : \n",
      "\n",
      "    Floating Parameter    FinalValue +/-  Error   \n",
      "  --------------------  --------------------------\n",
      "                Yld_BG    1.2981e+04 +/-  1.95e+02\n",
      "               Yld_Phi    3.3325e+03 +/-  1.69e+02\n",
      "                    a0    5.1287e-01 +/-  1.51e-02\n",
      "                    a1   -1.7949e-01 +/-  2.08e-02\n",
      "                 alpha    5.8519e-04 +/-  3.98e-04\n",
      "                   off   -4.5124e-04 +/-  1.76e-04\n",
      "                 scale    1.0024e+00 +/-  2.19e-02\n",
      "\n",
      "Yld_Phi 3332.46\n",
      "Yld_BG 12981.4\n",
      "HSsPlot::sPlot() weights will be synchronised to branch UID 0x7fabeb8e7040 0x7fabebc4c240\n",
      "HSsPlot::sPlot Loading ID branch data UID\n",
      "COPYNG 0x7fabeb0e7020 0x7fabea5aeac0\n"
     ]
    },
    {
     "name": "stderr",
     "output_type": "stream",
     "text": [
      "Info in <HS::FIT::HSsPlot::HSsPlot::sPlot()>:  about to start\n"
     ]
    },
    {
     "name": "stdout",
     "output_type": "stream",
     "text": [
      "[#1] INFO:Minization -- createNLL picked up cached consraints from workspace with 3 entries\n",
      "[#1] INFO:Minization --  Including the following contraint terms in minimization: (AlphaConstrPhi,OffConstrPhi,ScConstrPhi)\n",
      "[#1] INFO:Fitting -- RooAddition::defaultErrorLevel(nll_SFTotalPDF0_newtree_with_constr) Summation contains a RooNLLVar, using its error level\n",
      "[#1] INFO:Minization -- RooMinimizer::optimizeConst: activating const optimization\n",
      "[#0] WARNING:Optimization -- RooAbsOptTestStatistic::optimizeConstantTerms(nll_SFTotalPDF0_newtree) WARNING Cache-and-track optimization (Optimize level 2) is only available for datasets implement in terms of RooVectorDataStore - ignoring this option for current dataset\n",
      "[#1] INFO:Minization --  The following expressions have been identified as constant and will be precalculated and cached: (Phi,BG)\n",
      "[#1] INFO:Fitting -- RooAbsPdf::fitTo(SFTotalPDF0) Calculating sum-of-weights-squared correction matrix for covariance matrix\n",
      "[#1] INFO:Minization -- RooMinimizer::optimizeConst: deactivating const optimization\n",
      "[#1] INFO:InputArguments -- Printing Yields\n",
      "RooArgList:: = (Yld_Phi,Yld_BG)\n",
      "[#1] INFO:InputArguments -- yield in pdf: Yld_Phi 3331.11\n",
      "[#1] INFO:InputArguments -- yield in pdf: Yld_BG 12982.3\n",
      "[#1] INFO:Eval -- Checking Likelihood normalization:  \n",
      "[#1] INFO:Eval -- Yield of specie  Sum of Row in Matrix   Norm\n",
      "[#1] INFO:Eval -- 3331.11 3331.13 1.00003\n",
      "[#1] INFO:Eval -- 12982.3 12981.8 1.00004\n",
      "[#1] INFO:Eval -- Calculating sWeight\n",
      "Weights::SetFile out2//WeightsSF.root\n",
      "HSsPlot:ExportWeights \n",
      "Insert species Phi 0 0\n",
      "Insert species BG 1 0\n",
      "1 0x7fabc5a7a590 0x7fabeae9dbe0\n",
      "Plotting MesonMass\n",
      "COPYNG 0x7fabeb0e7020 0x7fabea5aeac0\n",
      "2 HSRooFit::PlotDataModel() chi2 = 0.965639\n",
      "[#1] INFO:Plotting -- RooAbsPdf::plotOn(SFTotalPDF0) directly selected PDF components: (Phi)\n",
      "[#1] INFO:Plotting -- RooAbsPdf::plotOn(SFTotalPDF0) indirectly selected PDF components: ()\n",
      "COPYNG 0x7fabeb0e7020 0x7fabea5aeac0\n",
      "[#1] INFO:Plotting -- RooAbsPdf::plotOn(SFTotalPDF0) directly selected PDF components: (BG)\n",
      "[#1] INFO:Plotting -- RooAbsPdf::plotOn(SFTotalPDF0) indirectly selected PDF components: ()\n",
      "COPYNG 0x7fabeb0e7020 0x7fabea5aeac0\n",
      "HSRooFit::SavePlots out2//ResultsSF.root 0x7fabe911ef40 0x7fabe8034da0\n"
     ]
    },
    {
     "name": "stderr",
     "output_type": "stream",
     "text": [
      "Info in <HS::FIT::HSsPlot::HSsPlot::FitAndStudy>: Save to out2//ResultsSF\n"
     ]
    },
    {
     "name": "stdout",
     "output_type": "stream",
     "text": [
      "Weights HSsWeights contains 16314 events associated file is out2//WeightsSF.root \n",
      "ID branch name : UID\n",
      "Species are : \n",
      "BG\n",
      "Phi\n",
      "The first ten entries are :\n",
      "271861 -0.299598 1.29956 \n",
      "275878 -0.586851 1.58681 \n",
      "277955 1.66024 -0.660263 \n",
      "285811 -0.505197 1.50516 \n",
      "291832 -0.594136 1.59409 \n",
      "299296 1.22637 -0.226392 \n",
      "300094 -0.576001 1.57596 \n",
      "301113 -0.632388 1.63235 \n",
      "305798 1.71078 -0.710797 \n",
      "309577 1.49803 -0.498051 \n",
      "Weights::BuildIndex 16314\n",
      "Done\n",
      "Weights::SortWeights() reordering trees 0x7fabcf75d640\n"
     ]
    },
    {
     "name": "stderr",
     "output_type": "stream",
     "text": [
      "Warning in <TTreeFormula::DefinedVariable>: Casting to primary types like \"Long64_t\" is not supported yet\n"
     ]
    },
    {
     "name": "stdout",
     "output_type": "stream",
     "text": [
      "Weights::SortWeights() reordering trees\n",
      "Weights::SortWeights() entries 16314 16314\n",
      "Weights::SortWeights Print new ordering\n",
      "Weights HSsWeights contains 16314 events associated file is out2//WeightsSF.root \n",
      "ID branch name : UID\n",
      "Species are : \n",
      "BG\n",
      "Phi\n",
      "The first ten entries are :\n",
      "271861 -0.299598 1.29956 \n",
      "275878 -0.586851 1.58681 \n",
      "277955 1.66024 -0.660263 \n",
      "285811 -0.505197 1.50516 \n",
      "291832 -0.594136 1.59409 \n",
      "299296 1.22637 -0.226392 \n",
      "300094 -0.576001 1.57596 \n",
      "301113 -0.632388 1.63235 \n",
      "305798 1.71078 -0.710797 \n",
      "309577 1.49803 -0.498051 \n",
      "void Weights::Save() 0x7fabcf75d640\n",
      "0x7fabcf6721a0 0x7fabebc67060\n",
      " Weights::Save() out2//WeightsSF.root \n",
      "******************************************************************************\n",
      "*Tree    :HSsWeights_W: Tree weights for each species                          *\n",
      "*Entries :    16314 : Total =          263309 bytes  File  Size =     244454 *\n",
      "*        :          : Tree compression factor =   1.05                       *\n",
      "******************************************************************************\n",
      "*Br    0 :Phi       : Phi/D                                                  *\n",
      "*Entries :    16314 : Total  Size=     131497 bytes  File Size  =     122545 *\n",
      "*Baskets :        4 : Basket Size=      32000 bytes  Compression=   1.04     *\n",
      "*............................................................................*\n",
      "*Br    1 :BG        : BG/D                                                   *\n",
      "*Entries :    16314 : Total  Size=     131487 bytes  File Size  =     121909 *\n",
      "*Baskets :        4 : Basket Size=      32000 bytes  Compression=   1.05     *\n",
      "*............................................................................*\n",
      "******************************************************************************\n",
      "*Tree    :HSsWeights_ID: event ids for each entry                               *\n",
      "*Entries :    16314 : Total =          131827 bytes  File  Size =      53782 *\n",
      "*        :          : Tree compression factor =   2.38                       *\n",
      "******************************************************************************\n",
      "*Br    0 :WID       : WID/L                                                  *\n",
      "*Entries :    16314 : Total  Size=     131503 bytes  File Size  =      53782 *\n",
      "*Baskets :        4 : Basket Size=      32000 bytes  Compression=   2.38     *\n",
      "*............................................................................*\n",
      "Weights::Save() Saved weights to file\n"
     ]
    }
   ],
   "source": [
    "RF->RunAFit(1);"
   ]
  },
  {
   "cell_type": "code",
   "execution_count": 12,
   "metadata": {},
   "outputs": [
    {
     "data": {
      "text/html": [
       "\n",
       "<div id=\"root_plot_1\"\n",
       "     style=\"width: 696px; height: 472px\">\n",
       "</div>\n",
       "\n",
       "<script>\n",
       " requirejs.config({\n",
       "     paths: {\n",
       "       'JSRootCore' : 'https://root.cern.ch/js/notebook//scripts/JSRootCore',\n",
       "     }\n",
       "   });\n",
       " require(['JSRootCore'],\n",
       "     function(Core) {\n",
       "       var obj = Core.JSONR_unref({\"_typename\":\"TCanvas\",\"fUniqueID\":0,\"fBits\":53673992,\"fLineColor\":1,\"fLineStyle\":1,\"fLineWidth\":1,\"fFillColor\":0,\"fFillStyle\":1001,\"fLeftMargin\":0.1,\"fRightMargin\":0.1,\"fBottomMargin\":0.1,\"fTopMargin\":0.1,\"fXfile\":2,\"fYfile\":2,\"fAfile\":1,\"fXstat\":0.99,\"fYstat\":0.99,\"fAstat\":2,\"fFrameFillColor\":0,\"fFrameLineColor\":1,\"fFrameFillStyle\":1001,\"fFrameLineStyle\":1,\"fFrameLineWidth\":1,\"fFrameBorderSize\":1,\"fFrameBorderMode\":0,\"fX1\":0.982499999441206,\"fY1\":-44.21295325093,\"fX2\":1.05750000055879,\"fY2\":397.916552905396,\"fXtoAbsPixelk\":-9117.59980895156,\"fXtoPixelk\":-9117.59980895156,\"fXtoPixel\":9279.99986171721,\"fYtoAbsPixelk\":424.800047186661,\"fYtoPixelk\":424.800047186661,\"fYtoPixel\":-1.06756050756113,\"fUtoAbsPixelk\":5e-5,\"fUtoPixelk\":5e-5,\"fUtoPixel\":696,\"fVtoAbsPixelk\":472.00005,\"fVtoPixelk\":472,\"fVtoPixel\":-472,\"fAbsPixeltoXk\":0.982499999441206,\"fPixeltoXk\":0.982499999441206,\"fPixeltoX\":1.07758622295384e-4,\"fAbsPixeltoYk\":397.916552905396,\"fPixeltoYk\":-44.21295325093,\"fPixeltoY\":-0.936715055415945,\"fXlowNDC\":0,\"fYlowNDC\":0,\"fXUpNDC\":0,\"fYUpNDC\":0,\"fWNDC\":1,\"fHNDC\":1,\"fAbsXlowNDC\":0,\"fAbsYlowNDC\":0,\"fAbsWNDC\":1,\"fAbsHNDC\":1,\"fUxmin\":0.99,\"fUymin\":0,\"fUxmax\":1.05,\"fUymax\":353.703599654466,\"fTheta\":30,\"fPhi\":30,\"fAspectRatio\":0,\"fNumber\":0,\"fTickx\":0,\"fTicky\":0,\"fLogx\":0,\"fLogy\":0,\"fLogz\":0,\"fPadPaint\":0,\"fCrosshair\":0,\"fCrosshairPos\":0,\"fBorderSize\":2,\"fBorderMode\":0,\"fModified\":false,\"fGridx\":false,\"fGridy\":false,\"fAbsCoord\":false,\"fEditable\":true,\"fFixedAspectRatio\":false,\"fPrimitives\":{\"_typename\":\"TList\",\"name\":\"TList\",\"arr\":[{\"_typename\":\"TFrame\",\"fUniqueID\":0,\"fBits\":50331656,\"fLineColor\":1,\"fLineStyle\":1,\"fLineWidth\":1,\"fFillColor\":0,\"fFillStyle\":1001,\"fX1\":0.99,\"fY1\":0,\"fX2\":1.05,\"fY2\":353.703599654466,\"fBorderSize\":1,\"fBorderMode\":0},{\"_typename\":\"TH1D\",\"fUniqueID\":0,\"fBits\":50332168,\"fName\":\"frame_7fabc59a1490\",\"fTitle\":\"Fit components for MesonMass\",\"fLineColor\":602,\"fLineStyle\":1,\"fLineWidth\":1,\"fFillColor\":0,\"fFillStyle\":1001,\"fMarkerColor\":1,\"fMarkerStyle\":1,\"fMarkerSize\":1,\"fNcells\":102,\"fXaxis\":{\"_typename\":\"TAxis\",\"fUniqueID\":0,\"fBits\":50331648,\"fName\":\"xaxis\",\"fTitle\":\"MesonMass\",\"fNdivisions\":510,\"fAxisColor\":1,\"fLabelColor\":1,\"fLabelFont\":42,\"fLabelOffset\":0.005,\"fLabelSize\":0.035,\"fTickLength\":0.03,\"fTitleOffset\":1,\"fTitleSize\":0.035,\"fTitleColor\":1,\"fTitleFont\":42,\"fNbins\":100,\"fXmin\":0.99,\"fXmax\":1.05,\"fXbins\":[],\"fFirst\":0,\"fLast\":0,\"fBits2\":0,\"fTimeDisplay\":false,\"fTimeFormat\":\"\",\"fLabels\":null,\"fModLabs\":null},\"fYaxis\":{\"_typename\":\"TAxis\",\"fUniqueID\":0,\"fBits\":50331648,\"fName\":\"yaxis\",\"fTitle\":\"Events \\/ ( 0.0006 )\",\"fNdivisions\":510,\"fAxisColor\":1,\"fLabelColor\":1,\"fLabelFont\":42,\"fLabelOffset\":0.005,\"fLabelSize\":0.035,\"fTickLength\":0.03,\"fTitleOffset\":0,\"fTitleSize\":0.035,\"fTitleColor\":1,\"fTitleFont\":42,\"fNbins\":1,\"fXmin\":0,\"fXmax\":1,\"fXbins\":[],\"fFirst\":0,\"fLast\":0,\"fBits2\":0,\"fTimeDisplay\":false,\"fTimeFormat\":\"\",\"fLabels\":null,\"fModLabs\":null},\"fZaxis\":{\"_typename\":\"TAxis\",\"fUniqueID\":0,\"fBits\":50331648,\"fName\":\"zaxis\",\"fTitle\":\"\",\"fNdivisions\":510,\"fAxisColor\":1,\"fLabelColor\":1,\"fLabelFont\":42,\"fLabelOffset\":0.005,\"fLabelSize\":0.035,\"fTickLength\":0.03,\"fTitleOffset\":1,\"fTitleSize\":0.035,\"fTitleColor\":1,\"fTitleFont\":42,\"fNbins\":1,\"fXmin\":0,\"fXmax\":1,\"fXbins\":[],\"fFirst\":0,\"fLast\":0,\"fBits2\":0,\"fTimeDisplay\":false,\"fTimeFormat\":\"\",\"fLabels\":null,\"fModLabs\":null},\"fBarOffset\":0,\"fBarWidth\":1000,\"fEntries\":1,\"fTsumw\":0,\"fTsumw2\":0,\"fTsumwx\":0,\"fTsumwx2\":0,\"fMaximum\":353.703599654466,\"fMinimum\":-1111,\"fNormFactor\":0,\"fContour\":[],\"fSumw2\":[],\"fOption\":\"\",\"fFunctions\":{\"_typename\":\"TList\",\"name\":\"TList\",\"arr\":[],\"opt\":[]},\"fBufferSize\":0,\"fBuffer\":[],\"fBinStatErrOpt\":0,\"fStatOverflows\":2,\"fArray\":[0,353.703599654466,0,0,0,0,0,0,0,0,0,0,0,0,0,0,0,0,0,0,0,0,0,0,0,0,0,0,0,0,0,0,0,0,0,0,0,0,0,0,0,0,0,0,0,0,0,0,0,0,0,0,0,0,0,0,0,0,0,0,0,0,0,0,0,0,0,0,0,0,0,0,0,0,0,0,0,0,0,0,0,0,0,0,0,0,0,0,0,0,0,0,0,0,0,0,0,0,0,0,0,0]},{\"_typename\":\"RooHist\",\"fUniqueID\":0,\"fBits\":50332680,\"fName\":\"h_newtree\",\"fTitle\":\"Histogram of newtree_plot__MesonMass\",\"fLineColor\":1,\"fLineStyle\":1,\"fLineWidth\":1,\"fFillColor\":0,\"fFillStyle\":1000,\"fMarkerColor\":1,\"fMarkerStyle\":8,\"fMarkerSize\":1,\"fNpoints\":100,\"fX\":[0.9903,0.9909,0.9915,0.9921,0.9927,0.9933,0.9939,0.9945,0.9951,0.9957,0.9963,0.9969,0.9975,0.9981,0.9987,0.9993,0.9999,1.0005,1.0011,1.0017,1.0023,1.0029,1.0035,1.0041,1.0047,1.0053,1.0059,1.0065,1.0071,1.0077,1.0083,1.0089,1.0095,1.0101,1.0107,1.0113,1.0119,1.0125,1.0131,1.0137,1.0143,1.0149,1.0155,1.0161,1.0167,1.0173,1.0179,1.0185,1.0191,1.0197,1.0203,1.0209,1.0215,1.0221,1.0227,1.0233,1.0239,1.0245,1.0251,1.0257,1.0263,1.0269,1.0275,1.0281,1.0287,1.0293,1.0299,1.0305,1.0311,1.0317,1.0323,1.0329,1.0335,1.0341,1.0347,1.0353,1.0359,1.0365,1.0371,1.0377,1.0383,1.0389,1.0395,1.0401,1.0407,1.0413,1.0419,1.0425,1.0431,1.0437,1.0443,1.0449,1.0455,1.0461,1.0467,1.0473,1.0479,1.0485,1.0491,1.0497],\"fY\":[34,43,46,43,52,65,55,51,67,66,80,84,86,87,78,79,95,72,104,105,95,110,120,87,96,105,121,123,114,123,147,134,129,144,139,172,164,181,178,177,223,259,255,240,268,303,300,305,318,319,283,318,294,235,254,243,213,192,216,207,216,204,180,210,173,170,172,198,192,167,186,165,186,169,171,168,152,187,162,168,167,183,169,175,187,167,165,182,153,164,161,166,168,188,143,177,161,194,183,169],\"fFunctions\":{\"_typename\":\"TList\",\"name\":\"TList\",\"arr\":[],\"opt\":[]},\"fHistogram\":{\"_typename\":\"TH1F\",\"fUniqueID\":0,\"fBits\":50332168,\"fName\":\"h_newtree\",\"fTitle\":\"Histogram of newtree_plot__MesonMass\",\"fLineColor\":602,\"fLineStyle\":1,\"fLineWidth\":1,\"fFillColor\":0,\"fFillStyle\":1001,\"fMarkerColor\":1,\"fMarkerStyle\":1,\"fMarkerSize\":1,\"fNcells\":102,\"fXaxis\":{\"_typename\":\"TAxis\",\"fUniqueID\":0,\"fBits\":50331648,\"fName\":\"xaxis\",\"fTitle\":\"\",\"fNdivisions\":510,\"fAxisColor\":1,\"fLabelColor\":1,\"fLabelFont\":42,\"fLabelOffset\":0.005,\"fLabelSize\":0.035,\"fTickLength\":0.03,\"fTitleOffset\":1,\"fTitleSize\":0.035,\"fTitleColor\":1,\"fTitleFont\":42,\"fNbins\":100,\"fXmin\":0.984,\"fXmax\":1.056,\"fXbins\":[],\"fFirst\":0,\"fLast\":0,\"fBits2\":0,\"fTimeDisplay\":false,\"fTimeFormat\":\"\",\"fLabels\":null,\"fModLabs\":null},\"fYaxis\":{\"_typename\":\"TAxis\",\"fUniqueID\":0,\"fBits\":50331648,\"fName\":\"yaxis\",\"fTitle\":\"\",\"fNdivisions\":510,\"fAxisColor\":1,\"fLabelColor\":1,\"fLabelFont\":42,\"fLabelOffset\":0.005,\"fLabelSize\":0.035,\"fTickLength\":0.03,\"fTitleOffset\":0,\"fTitleSize\":0.035,\"fTitleColor\":1,\"fTitleFont\":42,\"fNbins\":1,\"fXmin\":25.3521432946392,\"fXmax\":367.729723398926,\"fXbins\":[],\"fFirst\":0,\"fLast\":0,\"fBits2\":0,\"fTimeDisplay\":false,\"fTimeFormat\":\"\",\"fLabels\":null,\"fModLabs\":null},\"fZaxis\":{\"_typename\":\"TAxis\",\"fUniqueID\":0,\"fBits\":50331648,\"fName\":\"zaxis\",\"fTitle\":\"\",\"fNdivisions\":510,\"fAxisColor\":1,\"fLabelColor\":1,\"fLabelFont\":42,\"fLabelOffset\":0.005,\"fLabelSize\":0.035,\"fTickLength\":0.03,\"fTitleOffset\":1,\"fTitleSize\":0.035,\"fTitleColor\":1,\"fTitleFont\":42,\"fNbins\":1,\"fXmin\":0,\"fXmax\":1,\"fXbins\":[],\"fFirst\":0,\"fLast\":0,\"fBits2\":0,\"fTimeDisplay\":false,\"fTimeFormat\":\"\",\"fLabels\":null,\"fModLabs\":null},\"fBarOffset\":0,\"fBarWidth\":1000,\"fEntries\":0,\"fTsumw\":0,\"fTsumw2\":0,\"fTsumwx\":0,\"fTsumwx2\":0,\"fMaximum\":367.729723398926,\"fMinimum\":25.3521432946392,\"fNormFactor\":0,\"fContour\":[],\"fSumw2\":[],\"fOption\":\"\",\"fFunctions\":{\"_typename\":\"TList\",\"name\":\"TList\",\"arr\":[],\"opt\":[]},\"fBufferSize\":0,\"fBuffer\":[],\"fBinStatErrOpt\":0,\"fStatOverflows\":2,\"fArray\":[0,0,0,0,0,0,0,0,0,0,0,0,0,0,0,0,0,0,0,0,0,0,0,0,0,0,0,0,0,0,0,0,0,0,0,0,0,0,0,0,0,0,0,0,0,0,0,0,0,0,0,0,0,0,0,0,0,0,0,0,0,0,0,0,0,0,0,0,0,0,0,0,0,0,0,0,0,0,0,0,0,0,0,0,0,0,0,0,0,0,0,0,0,0,0,0,0,0,0,0,0,0]},\"fMinimum\":-1111,\"fMaximum\":-1111,\"fEXlow\":[3e-4,3e-4,3e-4,3e-4,3e-4,3e-4,3e-4,3e-4,3e-4,3e-4,3e-4,3e-4,3e-4,3e-4,3e-4,3e-4,3e-4,3e-4,3e-4,3e-4,3e-4,3e-4,3e-4,3e-4,3e-4,3e-4,3e-4,3e-4,3e-4,3e-4,3e-4,3e-4,3e-4,3e-4,3e-4,3e-4,3e-4,3e-4,3e-4,3e-4,3e-4,3e-4,3e-4,3e-4,3e-4,3e-4,3e-4,3e-4,3e-4,3e-4,3e-4,3e-4,3e-4,3e-4,3e-4,3e-4,3e-4,3e-4,3e-4,3e-4,3e-4,3e-4,3e-4,3e-4,3e-4,3e-4,3e-4,3e-4,3e-4,3e-4,3e-4,3e-4,3e-4,3e-4,3e-4,3e-4,3e-4,3e-4,3e-4,3e-4,3e-4,3e-4,3e-4,3e-4,3e-4,3e-4,3e-4,3e-4,3e-4,3e-4,3e-4,3e-4,3e-4,3e-4,3e-4,3e-4,3e-4,3e-4,3e-4,3e-4],\"fEXhigh\":[3e-4,3e-4,3e-4,3e-4,3e-4,3e-4,3e-4,3e-4,3e-4,3e-4,3e-4,3e-4,3e-4,3e-4,3e-4,3e-4,3e-4,3e-4,3e-4,3e-4,3e-4,3e-4,3e-4,3e-4,3e-4,3e-4,3e-4,3e-4,3e-4,3e-4,3e-4,3e-4,3e-4,3e-4,3e-4,3e-4,3e-4,3e-4,3e-4,3e-4,3e-4,3e-4,3e-4,3e-4,3e-4,3e-4,3e-4,3e-4,3e-4,3e-4,3e-4,3e-4,3e-4,3e-4,3e-4,3e-4,3e-4,3e-4,3e-4,3e-4,3e-4,3e-4,3e-4,3e-4,3e-4,3e-4,3e-4,3e-4,3e-4,3e-4,3e-4,3e-4,3e-4,3e-4,3e-4,3e-4,3e-4,3e-4,3e-4,3e-4,3e-4,3e-4,3e-4,3e-4,3e-4,3e-4,3e-4,3e-4,3e-4,3e-4,3e-4,3e-4,3e-4,3e-4,3e-4,3e-4,3e-4,3e-4,3e-4,3e-4],\"fEYlow\":[5.8309518948453,6.557438524302,6.78232998312527,6.557438524302,7.21110255092798,8.06225774829855,7.41619848709566,7.14142842854285,8.18535277187245,8.12403840463596,8.94427190999916,9.16515138991168,9.2736184954957,9.32737905308882,8.83176086632785,8.88819441731559,9.74679434480896,8.48528137423857,10.1980390271856,10.2469507659596,9.74679434480896,10.4880884817015,10.9544511501033,9.32737905308882,9.79795897113271,10.2469507659596,11,11.0905365064094,10.6770782520313,11.0905365064094,12.1243556529821,11.5758369027902,11.3578166916005,12,11.7898261225516,13.114877048604,12.8062484748657,13.4536240470737,13.3416640641263,13.3041346956501,14.9331845230681,16.0934769394311,15.9687194226713,15.4919333848297,16.3707055437449,17.4068951855292,17.3205080756888,17.464249196573,17.832554500127,17.8605710994918,16.8226038412607,17.832554500127,17.1464281994822,15.3297097167559,15.9373774505092,15.5884572681199,14.5945195193264,13.856406460551,14.6969384566991,14.3874945699382,14.6969384566991,14.2828568570857,13.4164078649987,14.4913767461894,13.1529464379659,13.0384048104053,13.114877048604,14.0712472794703,13.856406460551,12.9228479833201,13.6381816969859,12.8452325786651,13.6381816969859,13,13.076696830622,12.9614813968157,12.328828005938,13.6747943311773,12.7279220613579,12.9614813968157,12.9228479833201,13.5277492584687,13,13.228756555323,13.6747943311773,12.9228479833201,12.8452325786651,13.490737563232,12.369316876853,12.8062484748657,12.6885775404495,12.8840987267251,12.9614813968157,13.7113092008021,11.9582607431014,13.3041346956501,12.6885775404495,13.9283882771841,13.5277492584687,13],\"fEYhigh\":[5.8309518948453,6.557438524302,6.78232998312527,6.557438524302,7.21110255092798,8.06225774829855,7.41619848709566,7.14142842854285,8.18535277187245,8.12403840463596,8.94427190999916,9.16515138991168,9.2736184954957,9.32737905308882,8.83176086632785,8.88819441731559,9.74679434480896,8.48528137423857,10.1980390271856,10.2469507659596,9.74679434480896,10.4880884817015,10.9544511501033,9.32737905308882,9.79795897113271,10.2469507659596,11,11.0905365064094,10.6770782520313,11.0905365064094,12.1243556529821,11.5758369027902,11.3578166916005,12,11.7898261225516,13.114877048604,12.8062484748657,13.4536240470737,13.3416640641263,13.3041346956501,14.9331845230681,16.0934769394311,15.9687194226713,15.4919333848297,16.3707055437449,17.4068951855292,17.3205080756888,17.464249196573,17.832554500127,17.8605710994918,16.8226038412607,17.832554500127,17.1464281994822,15.3297097167559,15.9373774505092,15.5884572681199,14.5945195193264,13.856406460551,14.6969384566991,14.3874945699382,14.6969384566991,14.2828568570857,13.4164078649987,14.4913767461894,13.1529464379659,13.0384048104053,13.114877048604,14.0712472794703,13.856406460551,12.9228479833201,13.6381816969859,12.8452325786651,13.6381816969859,13,13.076696830622,12.9614813968157,12.328828005938,13.6747943311773,12.7279220613579,12.9614813968157,12.9228479833201,13.5277492584687,13,13.228756555323,13.6747943311773,12.9228479833201,12.8452325786651,13.490737563232,12.369316876853,12.8062484748657,12.6885775404495,12.8840987267251,12.9614813968157,13.7113092008021,11.9582607431014,13.3041346956501,12.6885775404495,13.9283882771841,13.5277492584687,13],\"_yAxisLabel\":\"Events \\/ ( 0.0006 )\",\"_ymin\":0,\"_ymax\":336.860571099492,\"_normValue\":0,\"_nominalBinWidth\":6e-4,\"_nSigma\":1,\"_entries\":16314,\"_rawEntries\":-1},{\"_typename\":\"RooCurve\",\"fUniqueID\":0,\"fBits\":50332680,\"fName\":\"SFTotalPDF0_Norm[MesonMass]\",\"fTitle\":\"Projection of total model\",\"fLineColor\":632,\"fLineStyle\":1,\"fLineWidth\":3,\"fFillColor\":0,\"fFillStyle\":1000,\"fMarkerColor\":1,\"fMarkerStyle\":1,\"fMarkerSize\":1,\"fNpoints\":106,\"fX\":[0.9894,0.9894,0.99,0.9906,0.9912,0.9918,0.9924,0.993,0.9936,0.9942,0.9948,0.9954,0.996,0.9966,0.9972,0.9978,0.9984,0.999,0.9996,1.0002,1.0008,1.0014,1.002,1.0026,1.0032,1.0038,1.0044,1.005,1.0056,1.0062,1.0068,1.0074,1.008,1.0086,1.0092,1.0098,1.0104,1.011,1.0116,1.0122,1.0128,1.0134,1.014,1.0146,1.0152,1.0158,1.0164,1.017,1.0176,1.0182,1.0188,1.0194,1.02,1.0206,1.0212,1.0218,1.0224,1.023,1.0236,1.0242,1.0248,1.0254,1.026,1.0266,1.0272,1.0278,1.0284,1.029,1.0296,1.0302,1.0308,1.0314,1.032,1.0326,1.0332,1.0338,1.0344,1.035,1.0356,1.0362,1.0368,1.0374,1.038,1.0386,1.0392,1.0398,1.0404,1.041,1.0416,1.0422,1.0428,1.0434,1.044,1.0446,1.0452,1.0458,1.0464,1.047,1.0476,1.0482,1.0488,1.0494,1.05,1.05,1.0506,1.0506],\"fY\":[0,38.520674084918,38.520674084918,41.7253010301076,44.8890738582947,47.9927771734025,51.0613010071697,54.0725343721414,57.0386107016572,59.9731943308443,62.8880674321262,65.7677610520676,68.6563073210982,71.528918774272,74.3838541505213,77.2739455252819,80.128857418702,83.0059045119023,85.8720245610964,88.712883780498,91.5567771328938,94.3654910039504,97.1698735101098,99.9517087720287,102.725021359541,105.561720873181,108.363240905481,111.340225616341,114.365469031486,117.464509676868,120.915469101009,124.331249043811,128.223931601749,132.277548506665,136.562635000589,141.723247737823,146.848680993718,153.690556511443,161.14549634659,169.531316240104,181.057008728082,192.547521734728,207.264634682239,223.112422176225,239.159673413357,255.91442100446,272.633989114223,285.562918645403,297.161008332591,306.372876151243,308.378062412124,310.348069191665,304.903099864758,296.966875008463,287.555829807585,273.874573048514,260.158136808109,246.845401193927,233.638293595797,221.533699046255,212.623584059853,203.678289592112,197.877581303414,193.024463067634,188.770871959809,186.221878438478,183.637705435806,181.919427918068,180.434053035658,179.105722415044,178.251262286917,177.361622677449,176.765282011907,176.227759177891,175.722442985861,175.354446144598,174.951269821994,174.679282666933,174.417867886154,174.179354229863,174.049449897004,173.884366082805,173.771034204627,173.645476030354,173.494027576895,173.329650865422,173.13009467261,172.925442641617,172.693230107874,172.440165329997,172.185141933046,171.894939054755,171.573813209991,171.218540787087,170.808848207409,170.320772339232,169.797516989715,169.127740165507,168.396925132395,167.59226776321,166.668326520789,165.709205797029,164.771664882491,164.771664882491,164.771664882491,0],\"fFunctions\":{\"_typename\":\"TList\",\"name\":\"TList\",\"arr\":[],\"opt\":[]},\"fHistogram\":{\"_typename\":\"TH1F\",\"fUniqueID\":0,\"fBits\":50332168,\"fName\":\"SFTotalPDF0_Norm[MesonMass]\",\"fTitle\":\"Projection of total model\",\"fLineColor\":602,\"fLineStyle\":1,\"fLineWidth\":1,\"fFillColor\":0,\"fFillStyle\":1001,\"fMarkerColor\":1,\"fMarkerStyle\":1,\"fMarkerSize\":1,\"fNcells\":108,\"fXaxis\":{\"_typename\":\"TAxis\",\"fUniqueID\":0,\"fBits\":50331648,\"fName\":\"xaxis\",\"fTitle\":\"\",\"fNdivisions\":510,\"fAxisColor\":1,\"fLabelColor\":1,\"fLabelFont\":42,\"fLabelOffset\":0.005,\"fLabelSize\":0.035,\"fTickLength\":0.03,\"fTitleOffset\":1,\"fTitleSize\":0.035,\"fTitleColor\":1,\"fTitleFont\":42,\"fNbins\":106,\"fXmin\":0.98328,\"fXmax\":1.05672,\"fXbins\":[],\"fFirst\":0,\"fLast\":0,\"fBits2\":0,\"fTimeDisplay\":false,\"fTimeFormat\":\"\",\"fLabels\":null,\"fModLabs\":null},\"fYaxis\":{\"_typename\":\"TAxis\",\"fUniqueID\":0,\"fBits\":50331648,\"fName\":\"yaxis\",\"fTitle\":\"\",\"fNdivisions\":510,\"fAxisColor\":1,\"fLabelColor\":1,\"fLabelFont\":42,\"fLabelOffset\":0.005,\"fLabelSize\":0.035,\"fTickLength\":0.03,\"fTitleOffset\":0,\"fTitleSize\":0.035,\"fTitleColor\":1,\"fTitleFont\":42,\"fNbins\":1,\"fXmin\":0,\"fXmax\":341.382876110832,\"fXbins\":[],\"fFirst\":0,\"fLast\":0,\"fBits2\":0,\"fTimeDisplay\":false,\"fTimeFormat\":\"\",\"fLabels\":null,\"fModLabs\":null},\"fZaxis\":{\"_typename\":\"TAxis\",\"fUniqueID\":0,\"fBits\":50331648,\"fName\":\"zaxis\",\"fTitle\":\"\",\"fNdivisions\":510,\"fAxisColor\":1,\"fLabelColor\":1,\"fLabelFont\":42,\"fLabelOffset\":0.005,\"fLabelSize\":0.035,\"fTickLength\":0.03,\"fTitleOffset\":1,\"fTitleSize\":0.035,\"fTitleColor\":1,\"fTitleFont\":42,\"fNbins\":1,\"fXmin\":0,\"fXmax\":1,\"fXbins\":[],\"fFirst\":0,\"fLast\":0,\"fBits2\":0,\"fTimeDisplay\":false,\"fTimeFormat\":\"\",\"fLabels\":null,\"fModLabs\":null},\"fBarOffset\":0,\"fBarWidth\":1000,\"fEntries\":0,\"fTsumw\":0,\"fTsumw2\":0,\"fTsumwx\":0,\"fTsumwx2\":0,\"fMaximum\":341.382876110832,\"fMinimum\":0,\"fNormFactor\":0,\"fContour\":[],\"fSumw2\":[],\"fOption\":\"\",\"fFunctions\":{\"_typename\":\"TList\",\"name\":\"TList\",\"arr\":[],\"opt\":[]},\"fBufferSize\":0,\"fBuffer\":[],\"fBinStatErrOpt\":0,\"fStatOverflows\":2,\"fArray\":[0,0,0,0,0,0,0,0,0,0,0,0,0,0,0,0,0,0,0,0,0,0,0,0,0,0,0,0,0,0,0,0,0,0,0,0,0,0,0,0,0,0,0,0,0,0,0,0,0,0,0,0,0,0,0,0,0,0,0,0,0,0,0,0,0,0,0,0,0,0,0,0,0,0,0,0,0,0,0,0,0,0,0,0,0,0,0,0,0,0,0,0,0,0,0,0,0,0,0,0,0,0,0,0,0,0,0,0]},\"fMinimum\":-1111,\"fMaximum\":-1111,\"_yAxisLabel\":\"Projection of total model\",\"_ymin\":0,\"_ymax\":310.348069191665,\"_normValue\":0},{\"_typename\":\"TPaveText\",\"fUniqueID\":0,\"fBits\":50331656,\"fLineColor\":1,\"fLineStyle\":1,\"fLineWidth\":1,\"fFillColor\":0,\"fFillStyle\":1001,\"fX1\":0.989999999552965,\"fY1\":168.009209704107,\"fX2\":1.01249999988824,\"fY2\":353.703602289764,\"fX1NDC\":0.1,\"fY1NDC\":0.48,\"fX2NDC\":0.4,\"fY2NDC\":0.9,\"fBorderSize\":1,\"fInit\":1,\"fShadowColor\":1,\"fCornerRadius\":0,\"fOption\":\"BRNDC\",\"fName\":\"SFTotalPDF0_paramBox\",\"fTextAngle\":0,\"fTextSize\":0.04,\"fTextAlign\":12,\"fTextColor\":1,\"fTextFont\":62,\"fLabel\":\"\",\"fLongest\":28,\"fMargin\":0.05,\"fLines\":{\"_typename\":\"TList\",\"name\":\"TList\",\"arr\":[{\"_typename\":\"TLatex\",\"fUniqueID\":0,\"fBits\":50331648,\"fName\":\"\",\"fTitle\":\"Yld_BG =  12982 +\\/- 150\",\"fTextAngle\":0,\"fTextSize\":0,\"fTextAlign\":0,\"fTextColor\":0,\"fTextFont\":0,\"fX\":0,\"fY\":0,\"fLineColor\":1,\"fLineStyle\":1,\"fLineWidth\":2,\"fLimitFactorSize\":3,\"fOriginSize\":0.04},{\"_typename\":\"TLatex\",\"fUniqueID\":0,\"fBits\":50331648,\"fName\":\"\",\"fTitle\":\"Yld_Phi =  3331 +\\/- 113\",\"fTextAngle\":0,\"fTextSize\":0,\"fTextAlign\":0,\"fTextColor\":0,\"fTextFont\":0,\"fX\":0,\"fY\":0,\"fLineColor\":1,\"fLineStyle\":1,\"fLineWidth\":2,\"fLimitFactorSize\":3,\"fOriginSize\":0.04},{\"_typename\":\"TLatex\",\"fUniqueID\":0,\"fBits\":50331648,\"fName\":\"\",\"fTitle\":\"a0 =  0.513 +\\/- 0.015\",\"fTextAngle\":0,\"fTextSize\":0,\"fTextAlign\":0,\"fTextColor\":0,\"fTextFont\":0,\"fX\":0,\"fY\":0,\"fLineColor\":1,\"fLineStyle\":1,\"fLineWidth\":2,\"fLimitFactorSize\":3,\"fOriginSize\":0.04},{\"_typename\":\"TLatex\",\"fUniqueID\":0,\"fBits\":50331648,\"fName\":\"\",\"fTitle\":\"a1 = -0.1795 +\\/- 0.021\",\"fTextAngle\":0,\"fTextSize\":0,\"fTextAlign\":0,\"fTextColor\":0,\"fTextFont\":0,\"fX\":0,\"fY\":0,\"fLineColor\":1,\"fLineStyle\":1,\"fLineWidth\":2,\"fLimitFactorSize\":3,\"fOriginSize\":0.04},{\"_typename\":\"TLatex\",\"fUniqueID\":0,\"fBits\":50331648,\"fName\":\"\",\"fTitle\":\"alpha =  0.00059 +\\/- 0.00040\",\"fTextAngle\":0,\"fTextSize\":0,\"fTextAlign\":0,\"fTextColor\":0,\"fTextFont\":0,\"fX\":0,\"fY\":0,\"fLineColor\":1,\"fLineStyle\":1,\"fLineWidth\":2,\"fLimitFactorSize\":3,\"fOriginSize\":0.04},{\"_typename\":\"TLatex\",\"fUniqueID\":0,\"fBits\":50331648,\"fName\":\"\",\"fTitle\":\"off = -0.000451 +\\/- 0.00018\",\"fTextAngle\":0,\"fTextSize\":0,\"fTextAlign\":0,\"fTextColor\":0,\"fTextFont\":0,\"fX\":0,\"fY\":0,\"fLineColor\":1,\"fLineStyle\":1,\"fLineWidth\":2,\"fLimitFactorSize\":3,\"fOriginSize\":0.04},{\"_typename\":\"TLatex\",\"fUniqueID\":0,\"fBits\":50331648,\"fName\":\"\",\"fTitle\":\"scale =  1.002 +\\/- 0.022\",\"fTextAngle\":0,\"fTextSize\":0,\"fTextAlign\":0,\"fTextColor\":0,\"fTextFont\":0,\"fX\":0,\"fY\":0,\"fLineColor\":1,\"fLineStyle\":1,\"fLineWidth\":2,\"fLimitFactorSize\":3,\"fOriginSize\":0.04}],\"opt\":[\"\",\"\",\"\",\"\",\"\",\"\",\"\"]}},{\"_typename\":\"RooCurve\",\"fUniqueID\":0,\"fBits\":50332680,\"fName\":\"SFTotalPDF0_Norm[MesonMass]_Comp[Phi]\",\"fTitle\":\"Projection of total model\",\"fLineColor\":1,\"fLineStyle\":2,\"fLineWidth\":3,\"fFillColor\":0,\"fFillStyle\":1000,\"fMarkerColor\":1,\"fMarkerStyle\":1,\"fMarkerSize\":1,\"fNpoints\":106,\"fX\":[0.9894,0.9894,0.99,0.9906,0.9912,0.9918,0.9924,0.993,0.9936,0.9942,0.9948,0.9954,0.996,0.9966,0.9972,0.9978,0.9984,0.999,0.9996,1.0002,1.0008,1.0014,1.002,1.0026,1.0032,1.0038,1.0044,1.005,1.0056,1.0062,1.0068,1.0074,1.008,1.0086,1.0092,1.0098,1.0104,1.011,1.0116,1.0122,1.0128,1.0134,1.014,1.0146,1.0152,1.0158,1.0164,1.017,1.0176,1.0182,1.0188,1.0194,1.02,1.0206,1.0212,1.0218,1.0224,1.023,1.0236,1.0242,1.0248,1.0254,1.026,1.0266,1.0272,1.0278,1.0284,1.029,1.0296,1.0302,1.0308,1.0314,1.032,1.0326,1.0332,1.0338,1.0344,1.035,1.0356,1.0362,1.0368,1.0374,1.038,1.0386,1.0392,1.0398,1.0404,1.041,1.0416,1.0422,1.0428,1.0434,1.044,1.0446,1.0452,1.0458,1.0464,1.047,1.0476,1.0482,1.0488,1.0494,1.05,1.05,1.0506,1.0506],\"fY\":[0,0.834731334586316,0.834731334586316,1.0414623621033,1.24251875395834,1.41868511407354,1.59485147418871,1.74890684684783,1.89298466539098,2.04074926494598,2.20398281793527,2.36721637092452,2.57448205434244,2.80099240324354,3.04500615656068,3.3593553897286,3.67370462289646,4.04536853718404,4.44128488880547,4.84711989197483,5.29116850947828,5.73521712698173,6.21011386092883,6.69764283197535,7.21182860995464,7.82458079540247,8.43733298085007,9.26072932619786,10.1675638571696,11.183375099719,12.586284602367,13.9891941050161,15.9041857041416,18.0152911315849,20.3930456293763,23.6815058518175,26.9699660742599,32.0100480398719,37.6983738042465,44.352759108328,54.1821964882131,64.0116338681054,77.1028506702047,91.3599215001172,105.851635554516,121.086025444226,136.320415333937,147.799346126404,157.982616556219,165.814844598839,166.475570565027,167.136296531215,160.417225872295,151.242079165327,140.627291595116,125.777471948052,110.927652300994,96.5167127614984,82.2465807193962,69.1141412072209,59.2113607395266,49.3085802718323,42.5855654645209,36.8453201914682,31.7397815277099,28.3740199317861,25.008258335861,22.5435717062095,20.3469671932268,18.3425864233792,16.8472556273595,15.3519248313386,14.185072460583,13.1122174026941,12.1067484681306,11.2737783656744,10.4408082632179,9.77420680964357,9.15335721169092,8.59058821956665,8.17160803221456,7.75262784486231,7.42057907487081,7.11148349012486,6.81167710753269,6.53412194826669,6.25656678900079,6.00909527289465,5.76924273537873,5.54371743506795,5.35141299702353,5.15910855897911,4.97106063580211,4.78404561582445,4.57778992041304,4.32833041784271,4.07887091527246,3.71806941935136,3.3314091958662,2.90608611764696,2.39665864753343,1.88723117741952,1.43456299786732,1.43456299786732,1.43456299786732,0],\"fFunctions\":{\"_typename\":\"TList\",\"name\":\"TList\",\"arr\":[],\"opt\":[]},\"fHistogram\":{\"_typename\":\"TH1F\",\"fUniqueID\":0,\"fBits\":50332168,\"fName\":\"SFTotalPDF0_Norm[MesonMass]_Comp[Phi]\",\"fTitle\":\"Projection of total model\",\"fLineColor\":602,\"fLineStyle\":1,\"fLineWidth\":1,\"fFillColor\":0,\"fFillStyle\":1001,\"fMarkerColor\":1,\"fMarkerStyle\":1,\"fMarkerSize\":1,\"fNcells\":108,\"fXaxis\":{\"_typename\":\"TAxis\",\"fUniqueID\":0,\"fBits\":50331648,\"fName\":\"xaxis\",\"fTitle\":\"\",\"fNdivisions\":510,\"fAxisColor\":1,\"fLabelColor\":1,\"fLabelFont\":42,\"fLabelOffset\":0.005,\"fLabelSize\":0.035,\"fTickLength\":0.03,\"fTitleOffset\":1,\"fTitleSize\":0.035,\"fTitleColor\":1,\"fTitleFont\":42,\"fNbins\":106,\"fXmin\":0.98328,\"fXmax\":1.05672,\"fXbins\":[],\"fFirst\":0,\"fLast\":0,\"fBits2\":0,\"fTimeDisplay\":false,\"fTimeFormat\":\"\",\"fLabels\":null,\"fModLabs\":null},\"fYaxis\":{\"_typename\":\"TAxis\",\"fUniqueID\":0,\"fBits\":50331648,\"fName\":\"yaxis\",\"fTitle\":\"\",\"fNdivisions\":510,\"fAxisColor\":1,\"fLabelColor\":1,\"fLabelFont\":42,\"fLabelOffset\":0.005,\"fLabelSize\":0.035,\"fTickLength\":0.03,\"fTitleOffset\":0,\"fTitleSize\":0.035,\"fTitleColor\":1,\"fTitleFont\":42,\"fNbins\":1,\"fXmin\":0,\"fXmax\":183.849926184336,\"fXbins\":[],\"fFirst\":0,\"fLast\":0,\"fBits2\":0,\"fTimeDisplay\":false,\"fTimeFormat\":\"\",\"fLabels\":null,\"fModLabs\":null},\"fZaxis\":{\"_typename\":\"TAxis\",\"fUniqueID\":0,\"fBits\":50331648,\"fName\":\"zaxis\",\"fTitle\":\"\",\"fNdivisions\":510,\"fAxisColor\":1,\"fLabelColor\":1,\"fLabelFont\":42,\"fLabelOffset\":0.005,\"fLabelSize\":0.035,\"fTickLength\":0.03,\"fTitleOffset\":1,\"fTitleSize\":0.035,\"fTitleColor\":1,\"fTitleFont\":42,\"fNbins\":1,\"fXmin\":0,\"fXmax\":1,\"fXbins\":[],\"fFirst\":0,\"fLast\":0,\"fBits2\":0,\"fTimeDisplay\":false,\"fTimeFormat\":\"\",\"fLabels\":null,\"fModLabs\":null},\"fBarOffset\":0,\"fBarWidth\":1000,\"fEntries\":0,\"fTsumw\":0,\"fTsumw2\":0,\"fTsumwx\":0,\"fTsumwx2\":0,\"fMaximum\":183.849926184336,\"fMinimum\":0,\"fNormFactor\":0,\"fContour\":[],\"fSumw2\":[],\"fOption\":\"\",\"fFunctions\":{\"_typename\":\"TList\",\"name\":\"TList\",\"arr\":[],\"opt\":[]},\"fBufferSize\":0,\"fBuffer\":[],\"fBinStatErrOpt\":0,\"fStatOverflows\":2,\"fArray\":[0,0,0,0,0,0,0,0,0,0,0,0,0,0,0,0,0,0,0,0,0,0,0,0,0,0,0,0,0,0,0,0,0,0,0,0,0,0,0,0,0,0,0,0,0,0,0,0,0,0,0,0,0,0,0,0,0,0,0,0,0,0,0,0,0,0,0,0,0,0,0,0,0,0,0,0,0,0,0,0,0,0,0,0,0,0,0,0,0,0,0,0,0,0,0,0,0,0,0,0,0,0,0,0,0,0,0,0]},\"fMinimum\":-1111,\"fMaximum\":-1111,\"_yAxisLabel\":\"Projection of total model\",\"_ymin\":0,\"_ymax\":167.136296531215,\"_normValue\":0},{\"_typename\":\"RooCurve\",\"fUniqueID\":0,\"fBits\":50332680,\"fName\":\"SFTotalPDF0_Norm[MesonMass]_Comp[BG]\",\"fTitle\":\"Projection of total model\",\"fLineColor\":2,\"fLineStyle\":2,\"fLineWidth\":3,\"fFillColor\":0,\"fFillStyle\":1000,\"fMarkerColor\":1,\"fMarkerStyle\":1,\"fMarkerSize\":1,\"fNpoints\":106,\"fX\":[0.9894,0.9894,0.99,0.9906,0.9912,0.9918,0.9924,0.993,0.9936,0.9942,0.9948,0.9954,0.996,0.9966,0.9972,0.9978,0.9984,0.999,0.9996,1.0002,1.0008,1.0014,1.002,1.0026,1.0032,1.0038,1.0044,1.005,1.0056,1.0062,1.0068,1.0074,1.008,1.0086,1.0092,1.0098,1.0104,1.011,1.0116,1.0122,1.0128,1.0134,1.014,1.0146,1.0152,1.0158,1.0164,1.017,1.0176,1.0182,1.0188,1.0194,1.02,1.0206,1.0212,1.0218,1.0224,1.023,1.0236,1.0242,1.0248,1.0254,1.026,1.0266,1.0272,1.0278,1.0284,1.029,1.0296,1.0302,1.0308,1.0314,1.032,1.0326,1.0332,1.0338,1.0344,1.035,1.0356,1.0362,1.0368,1.0374,1.038,1.0386,1.0392,1.0398,1.0404,1.041,1.0416,1.0422,1.0428,1.0434,1.044,1.0446,1.0452,1.0458,1.0464,1.047,1.0476,1.0482,1.0488,1.0494,1.05,1.05,1.0506,1.0506],\"fY\":[0,37.6859427503317,37.6859427503317,40.6838386680043,43.6465551043363,46.5740920593289,49.466449532981,52.3236275252936,55.1456260362662,57.9324450658983,60.684084614191,63.4005446811431,66.0818252667558,68.7279263710284,71.3388479939606,73.9145901355533,76.4551527958055,78.9605359747183,81.430739672291,83.8657638885232,86.2656086234155,88.6302738769687,90.959759649181,93.2540659400533,95.5131927495865,97.7371400777788,99.9259079246312,102.079496290144,104.197905174317,106.281134577149,108.329184498642,110.342054938795,112.319745897607,114.26225737508,116.169589371213,118.041741886005,119.878714919458,121.680508471571,123.447122542344,125.178557131776,126.874812239869,128.535887866622,130.161784012035,131.752500676107,133.308037858841,134.828395560233,136.313573780286,137.763572518999,139.178391776372,140.558031552405,141.902491847097,143.211772660451,144.485873992463,145.724795843136,146.928538212469,148.097101100462,149.230484507115,150.328688432428,151.391712876401,152.419557839034,153.412223320327,154.36970932028,155.292015838893,156.179142876166,157.031090432099,157.847858506692,158.629447099945,159.375856211858,160.087085842431,160.763135991664,161.404006659557,162.009697846111,162.580209551324,163.115541775197,163.61569451773,164.080667778923,164.510461558776,164.90507585729,165.264510674463,165.588766010296,165.877841864789,166.131738237942,166.350455129756,166.533992540229,166.682350469362,166.795528917156,166.873527883609,166.916347368722,166.923987372495,166.896447894929,166.833728936022,166.735830495775,166.602752574189,166.434495171262,166.231058286995,165.992441921389,165.718646074442,165.409670746156,165.065515936529,164.686181645563,164.271667873256,163.821974619609,163.337101884624,163.337101884624,163.337101884624,0],\"fFunctions\":{\"_typename\":\"TList\",\"name\":\"TList\",\"arr\":[],\"opt\":[]},\"fHistogram\":{\"_typename\":\"TH1F\",\"fUniqueID\":0,\"fBits\":50332168,\"fName\":\"SFTotalPDF0_Norm[MesonMass]_Comp[BG]\",\"fTitle\":\"Projection of total model\",\"fLineColor\":602,\"fLineStyle\":1,\"fLineWidth\":1,\"fFillColor\":0,\"fFillStyle\":1001,\"fMarkerColor\":1,\"fMarkerStyle\":1,\"fMarkerSize\":1,\"fNcells\":108,\"fXaxis\":{\"_typename\":\"TAxis\",\"fUniqueID\":0,\"fBits\":50331648,\"fName\":\"xaxis\",\"fTitle\":\"\",\"fNdivisions\":510,\"fAxisColor\":1,\"fLabelColor\":1,\"fLabelFont\":42,\"fLabelOffset\":0.005,\"fLabelSize\":0.035,\"fTickLength\":0.03,\"fTitleOffset\":1,\"fTitleSize\":0.035,\"fTitleColor\":1,\"fTitleFont\":42,\"fNbins\":106,\"fXmin\":0.98328,\"fXmax\":1.05672,\"fXbins\":[],\"fFirst\":0,\"fLast\":0,\"fBits2\":0,\"fTimeDisplay\":false,\"fTimeFormat\":\"\",\"fLabels\":null,\"fModLabs\":null},\"fYaxis\":{\"_typename\":\"TAxis\",\"fUniqueID\":0,\"fBits\":50331648,\"fName\":\"yaxis\",\"fTitle\":\"\",\"fNdivisions\":510,\"fAxisColor\":1,\"fLabelColor\":1,\"fLabelFont\":42,\"fLabelOffset\":0.005,\"fLabelSize\":0.035,\"fTickLength\":0.03,\"fTitleOffset\":0,\"fTitleSize\":0.035,\"fTitleColor\":1,\"fTitleFont\":42,\"fNbins\":1,\"fXmin\":0,\"fXmax\":183.616386109745,\"fXbins\":[],\"fFirst\":0,\"fLast\":0,\"fBits2\":0,\"fTimeDisplay\":false,\"fTimeFormat\":\"\",\"fLabels\":null,\"fModLabs\":null},\"fZaxis\":{\"_typename\":\"TAxis\",\"fUniqueID\":0,\"fBits\":50331648,\"fName\":\"zaxis\",\"fTitle\":\"\",\"fNdivisions\":510,\"fAxisColor\":1,\"fLabelColor\":1,\"fLabelFont\":42,\"fLabelOffset\":0.005,\"fLabelSize\":0.035,\"fTickLength\":0.03,\"fTitleOffset\":1,\"fTitleSize\":0.035,\"fTitleColor\":1,\"fTitleFont\":42,\"fNbins\":1,\"fXmin\":0,\"fXmax\":1,\"fXbins\":[],\"fFirst\":0,\"fLast\":0,\"fBits2\":0,\"fTimeDisplay\":false,\"fTimeFormat\":\"\",\"fLabels\":null,\"fModLabs\":null},\"fBarOffset\":0,\"fBarWidth\":1000,\"fEntries\":0,\"fTsumw\":0,\"fTsumw2\":0,\"fTsumwx\":0,\"fTsumwx2\":0,\"fMaximum\":183.616386109745,\"fMinimum\":0,\"fNormFactor\":0,\"fContour\":[],\"fSumw2\":[],\"fOption\":\"\",\"fFunctions\":{\"_typename\":\"TList\",\"name\":\"TList\",\"arr\":[],\"opt\":[]},\"fBufferSize\":0,\"fBuffer\":[],\"fBinStatErrOpt\":0,\"fStatOverflows\":2,\"fArray\":[0,0,0,0,0,0,0,0,0,0,0,0,0,0,0,0,0,0,0,0,0,0,0,0,0,0,0,0,0,0,0,0,0,0,0,0,0,0,0,0,0,0,0,0,0,0,0,0,0,0,0,0,0,0,0,0,0,0,0,0,0,0,0,0,0,0,0,0,0,0,0,0,0,0,0,0,0,0,0,0,0,0,0,0,0,0,0,0,0,0,0,0,0,0,0,0,0,0,0,0,0,0,0,0,0,0,0,0]},\"fMinimum\":-1111,\"fMaximum\":-1111,\"_yAxisLabel\":\"Projection of total model\",\"_ymin\":0,\"_ymax\":166.923987372495,\"_normValue\":0},{\"$ref\":3},{\"_typename\":\"TPaveText\",\"fUniqueID\":0,\"fBits\":50331657,\"fLineColor\":1,\"fLineStyle\":1,\"fLineWidth\":1,\"fFillColor\":0,\"fFillStyle\":0,\"fX1\":0.999853447975655,\"fY1\":368.728513886873,\"fX2\":1.04014655202434,\"fY2\":395.705907482852,\"fX1NDC\":0.231379310344828,\"fY1NDC\":0.933983055615829,\"fX2NDC\":0.768620689655172,\"fY2NDC\":0.995000004768372,\"fBorderSize\":0,\"fInit\":1,\"fShadowColor\":1,\"fCornerRadius\":0,\"fOption\":\"blNDC\",\"fName\":\"title\",\"fTextAngle\":0,\"fTextSize\":0,\"fTextAlign\":22,\"fTextColor\":1,\"fTextFont\":42,\"fLabel\":\"\",\"fLongest\":28,\"fMargin\":0.05,\"fLines\":{\"_typename\":\"TList\",\"name\":\"TList\",\"arr\":[{\"_typename\":\"TLatex\",\"fUniqueID\":0,\"fBits\":50331648,\"fName\":\"\",\"fTitle\":\"Fit components for MesonMass\",\"fTextAngle\":0,\"fTextSize\":0,\"fTextAlign\":0,\"fTextColor\":0,\"fTextFont\":0,\"fX\":0,\"fY\":0,\"fLineColor\":1,\"fLineStyle\":1,\"fLineWidth\":2,\"fLimitFactorSize\":3,\"fOriginSize\":0.0518644079566002}],\"opt\":[\"\"]}}],\"opt\":[\"\",\"FUNC\",\"p\",\"l\",\"BRNDC\",\"l\",\"l\",\"AXISSAME\",\"blNDC\"]},\"fExecs\":null,\"fName\":\"SFMesonMass2\",\"fTitle\":\"SF sWeights Fit chi2 = 0.965639\",\"fNumPaletteColor\":0,\"fNextPaletteColor\":0,\"fDISPLAY\":\"$DISPLAY\",\"fDoubleBuffer\":0,\"fRetained\":true,\"fXsizeUser\":0,\"fYsizeUser\":0,\"fXsizeReal\":20,\"fYsizeReal\":14.28571,\"fWindowTopX\":0,\"fWindowTopY\":0,\"fWindowWidth\":0,\"fWindowHeight\":0,\"fCw\":696,\"fCh\":472,\"fCatt\":{\"_typename\":\"TAttCanvas\",\"fXBetween\":2,\"fYBetween\":2,\"fTitleFromTop\":1.2,\"fXdate\":0.2,\"fYdate\":0.3,\"fAdate\":1},\"kMoveOpaque\":true,\"kResizeOpaque\":true,\"fHighLightColor\":2,\"fBatch\":true,\"kShowEventStatus\":false,\"kAutoExec\":true,\"kMenuBar\":true});\n",
       "       Core.draw(\"root_plot_1\", obj, \"\");\n",
       "     }\n",
       " );\n",
       "</script>\n"
      ],
      "text/plain": [
       "<IPython.core.display.HTML object>"
      ]
     },
     "metadata": {},
     "output_type": "display_data"
    }
   ],
   "source": [
    "((TCanvas*)RF->GetPlots()->At(1))->Draw()"
   ]
  },
  {
   "cell_type": "code",
   "execution_count": null,
   "metadata": {},
   "outputs": [],
   "source": []
  }
 ],
 "metadata": {
  "kernelspec": {
   "display_name": "ROOT C++",
   "language": "c++",
   "name": "root"
  },
  "language_info": {
   "codemirror_mode": "text/x-c++src",
   "file_extension": ".C",
   "mimetype": " text/x-c++src",
   "name": "c++"
  }
 },
 "nbformat": 4,
 "nbformat_minor": 2
}
