{
 "cells": [
  {
   "cell_type": "markdown",
   "metadata": {},
   "source": [
    "This shows an example of how to make your own HS::Cuts class for use with HS::FinalState\n",
    "\n",
    "It needs to inherit from HS::Cuts and to define a ParticleCut function returning true or false depending on whether the cut criteria are met.\n",
    "\n",
    "Here we just add an additional condition on the particle momentum. \n",
    "You should chekc out the THSParticle class header file to see what data and functions it can access."
   ]
  },
  {
   "cell_type": "code",
   "execution_count": 5,
   "metadata": {},
   "outputs": [
    {
     "name": "stdout",
     "output_type": "stream",
     "text": [
      "Created file '/scratch/dglazier/testg8/HASPECT6/hsexamples/DeltaTimePCut.h'.\n"
     ]
    }
   ],
   "source": [
    "%%file DeltaTimePCut.h\n",
    "\n",
    "#include \"Cuts.h\"\n",
    "\n",
    "class DeltaTimePCut : public Cuts{\n",
    "  \n",
    " public:\n",
    " //Define consructor taking cut value arguments\n",
    "  DeltaTimePCut(Float_t cutT=FLT_MAX,Float_t cutP=FLT_MAX){\n",
    "    fTimeCut=cutT; fPCut=cutP;\n",
    "    }\n",
    "//Define function to test cut\n",
    "  Bool_t ParticleCut(THSParticle* part) const{\n",
    "    if(TMath::Abs(part->DeltaTime())<fTimeCut\n",
    "        &&TMath::Abs(part->P4p()->P())<fPCut) return kTRUE;\n",
    "    return kFALSE;\n",
    "  }\n",
    "\n",
    " private:\n",
    "  Float_t fTimeCut=FLT_MAX;\n",
    "  Float_t fPCut=FLT_MAX;\n",
    "};\n"
   ]
  },
  {
   "cell_type": "markdown",
   "metadata": {},
   "source": [
    "We need a .C file to compile it, but this will just call the header file above"
   ]
  },
  {
   "cell_type": "code",
   "execution_count": 2,
   "metadata": {},
   "outputs": [
    {
     "name": "stdout",
     "output_type": "stream",
     "text": [
      "Created file '/scratch/dglazier/testg8/HASPECT6/hsexamples/DeltaTimePCut.C'.\n"
     ]
    }
   ],
   "source": [
    "%%file DeltaTimePCut.C\n",
    "\n",
    "#include \"DeltaTimePCut.h\""
   ]
  },
  {
   "cell_type": "markdown",
   "metadata": {},
   "source": [
    "Now add to the Loader for your final state class"
   ]
  },
  {
   "cell_type": "code",
   "execution_count": null,
   "metadata": {},
   "outputs": [],
   "source": [
    "%edit LoadK2.C"
   ]
  },
  {
   "cell_type": "code",
   "execution_count": 3,
   "metadata": {},
   "outputs": [
    {
     "name": "stdout",
     "output_type": "stream",
     "text": [
      "Created file '/scratch/dglazier/testg8/HASPECT6/hsexamples/LoadK2.C'.\n"
     ]
    }
   ],
   "source": [
    "%%file LoadK2.C\n",
    "#include <TROOT.h>\n",
    "\n",
    "void LoadK2(){\n",
    "  //HSCODE=gSystem->Getenv(\"HSCODE\");\n",
    "gROOT->ProcessLine(\".x $HSCODE/hsfinalstate/LoadFinalState.C+\");\n",
    "/////////////////////////////////////////////////////////////\n",
    "gROOT->LoadMacro(\"DeltaTimePCut.C+\"); //ADD MY NEW CUT HERE\n",
    "////////////////////////////////////////////////////////////\n",
    "gROOT->LoadMacro(\"TreeDataK2.C+\");\n",
    "gROOT->LoadMacro(\"K2.C+\");\n",
    "}\n"
   ]
  },
  {
   "cell_type": "markdown",
   "metadata": {},
   "source": [
    "And try loading to see if it compiles. You may have to go back and edit your cut code id it does not compile. If this is the case you do not want to rerun the edit LoadK2.C cell each time, just edit the %%file LoadK2.C cell. You will need to restart the kernel each time (unfortunately)"
   ]
  },
  {
   "cell_type": "code",
   "execution_count": 1,
   "metadata": {},
   "outputs": [
    {
     "name": "stdout",
     "output_type": "stream",
     "text": [
      "%%%%%%%%%%%%%%%%%%%%%%%%%    THSParticle\n"
     ]
    },
    {
     "name": "stderr",
     "output_type": "stream",
     "text": [
      "In file included from LoadFinalState_C_ACLiC_dict dictionary payload:10:\n",
      "\u001b[1m/scratch/dglazier/tesths/HASPECT6/hsfinalstate/LoadFinalState.C:11:6: \u001b[0m\u001b[0;1;31merror: \u001b[0m\u001b[1mredefinition of 'LoadFinalState'\u001b[0m\n",
      "void LoadFinalState(){\n",
      "\u001b[0;1;32m     ^\n",
      "\u001b[0m\u001b[1m/scratch/dglazier/testg8/HASPECT6/hsfinalstate/LoadFinalState.C:11:6: \u001b[0m\u001b[0;1;30mnote: \u001b[0mprevious definition is here\u001b[0m\n",
      "void LoadFinalState(){\n",
      "\u001b[0;1;32m     ^\n",
      "\u001b[0mWarning in <TInterpreter::TCling::RegisterModule>: Problems declaring payload for module LoadFinalState_C_ACLiC_dict.\n"
     ]
    },
    {
     "name": "stdout",
     "output_type": "stream",
     "text": [
      "%%%%%%%%%%%%%%%%%%%%%%%%%    EventInfo\n",
      "%%%%%%%%%%%%%%%%%%%%%%%%%    RunInfo\n",
      "%%%%%%%%%%%%%%%%%%%%%%%%%    THSWeights\n",
      "%%%%%%%%%%%%%%%%%%%%%%%%%    DataManager\n",
      "%%%%%%%%%%%%%%%%%%%%%%%%%    LundReader\n",
      "&&&&&&&&&&&&&&&&&&&&&&&&&&&& HSKinematics\n",
      "&&&&&&&&&&&&&&&&&&&&&&&&&&&& Cuts\n",
      "&&&&&&&&&&&&&&&&&&&&&&&&&&&& Combitorial\n",
      "&&&&&&&&&&&&&&&&&&&&&&&&&&&& ParticleIter\n",
      "&&&&&&&&&&&&&&&&&&&&&&&&&&&& Topology\n",
      "&&&&&&&&&&&&&&&&&&&&&&&&&&&& FinalState\n",
      "&&&&&&&&&&&&&&&&&&&&&&&&&&&& FiledTree\n",
      "&&&&&&&&&&&&&&&&&&&&&&&&&&&& TreeData\n",
      "&&&&&&&&&&&&&&&&&&&&&&&&&&&& TopoActionManager\n",
      "&&&&&&&&&&&&&&&&&&&&&&&&&&&& ParticleCuts\n",
      "&&&&&&&&&&&&&&&&&&&&&&&&&&&& VarsParticle\n",
      "&&&&&&&&&&&&&&&&&&&&&&&&&&&& TreePrepParticle\n",
      "&&&&&&&&&&&&&&&&&&&&&&&&&&&& MVASignalID\n",
      "&&&&&&&&&&&&&&&&&&&&&&&&&&&& ParticleCutsManager\n",
      "&&&&&&&&&&&&&&&&&&&&&&&&&&&& TreePrepManager\n",
      "&&&&&&&&&&&&&&&&&&&&&&&&&&&& MVASignalIDManager\n",
      "&&&&&&&&&&&&&&&&&&&&&&&&&&&& CLAS/CLASTrigger\n",
      "&&&&&&&&&&&&&&&&&&&&&&&&&&&& CLAS12/CLAS12Trigger\n",
      "&&&&&&&&&&&&&&&&&&&&&&&&&&&& CLAS12/CLAS12DeltaTime\n"
     ]
    },
    {
     "name": "stderr",
     "output_type": "stream",
     "text": [
      "Info in <TUnixSystem::ACLiC>: creating shared library /scratch/dglazier/testg8/HASPECT6/hsexamples/./DeltaTimePCut_C.so\n"
     ]
    },
    {
     "name": "stdout",
     "output_type": "stream",
     "text": [
      "(long) 0\n"
     ]
    }
   ],
   "source": [
    "gROOT->ProcessLine(\".x LoadK2.C+\")"
   ]
  },
  {
   "cell_type": "code",
   "execution_count": 2,
   "metadata": {},
   "outputs": [],
   "source": [
    "DeltaTimePCut mycut(10,5);//If this cell runs with no complaints it worked!"
   ]
  }
 ],
 "metadata": {
  "kernelspec": {
   "display_name": "ROOT C++",
   "language": "c++",
   "name": "root"
  },
  "language_info": {
   "codemirror_mode": "text/x-c++src",
   "file_extension": ".C",
   "mimetype": " text/x-c++src",
   "name": "c++"
  }
 },
 "nbformat": 4,
 "nbformat_minor": 2
}
