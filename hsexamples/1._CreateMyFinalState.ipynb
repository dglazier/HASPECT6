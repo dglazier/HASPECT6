{
 "cells": [
  {
   "cell_type": "markdown",
   "metadata": {},
   "source": [
    "# Create final state analysis for CLAS g8 \\phi production\n",
    "\n",
    "First 2 lines set the environment you should have HSCODE set as a shell environment variable when you start up root --notebook\n",
    "Standard Load skeleton code maker and create an object for building CLAS analysis."
   ]
  },
  {
   "cell_type": "code",
   "execution_count": 1,
   "metadata": {},
   "outputs": [
    {
     "name": "stdout",
     "output_type": "stream",
     "text": [
      "$$$$$$$$$$$$$$$$$$$$$$$$$ Skeleton\n",
      "$$$$$$$$$$$$$$$$$$$$$$$$$ FSSkeleton\n",
      "$$$$$$$$$$$$$$$$$$$$$$$$$ CLAS12Skeleton\n",
      "$$$$$$$$$$$$$$$$$$$$$$$$$ CLASSkeleton\n"
     ]
    }
   ],
   "source": [
    "gROOT->ProcessLine(\".x $HSCODE/hsskeleton/LoadSkeleton.C+\");"
   ]
  },
  {
   "cell_type": "markdown",
   "metadata": {},
   "source": [
    "Create the skeleton code maker. This will be used to configure and produce the final state class."
   ]
  },
  {
   "cell_type": "code",
   "execution_count": 2,
   "metadata": {},
   "outputs": [],
   "source": [
    "CLASSkeleton sk;"
   ]
  },
  {
   "cell_type": "markdown",
   "metadata": {},
   "source": [
    "Call my finalstate analysis class K2"
   ]
  },
  {
   "cell_type": "code",
   "execution_count": 3,
   "metadata": {},
   "outputs": [],
   "source": [
    "sk.SetFinalState(\"K2\");"
   ]
  },
  {
   "cell_type": "markdown",
   "metadata": {},
   "source": [
    "Set names of actual final state particles of the reaction that you will use.\n",
    "\n",
    "**First detected particles**\n",
    "\n",
    "I consider final states with the possible detection of tagger beam photon, proton , K+ and K-."
   ]
  },
  {
   "cell_type": "code",
   "execution_count": 4,
   "metadata": {},
   "outputs": [],
   "source": [
    "sk.SetFinalStateParts(\"Beam:Beam, Proton:proton, Kp:K+, Km:K-\");"
   ]
  },
  {
   "cell_type": "markdown",
   "metadata": {},
   "source": [
    "I am going to analyse final states with the following topologies :\n",
    "\n",
    "        gamma, proton, K+, K-\n",
    "        gamma, proton, K+\n",
    "        gamma, proton, K-\n",
    "        gamma, K+, K-"
   ]
  },
  {
   "cell_type": "code",
   "execution_count": 5,
   "metadata": {},
   "outputs": [],
   "source": [
    " sk.SetFinalStateTopo(\"Beam:Proton:Kp:Km, Beam:Proton:Kp, Beam:Proton:Km, Beam:Kp:Km\");"
   ]
  },
  {
   "cell_type": "markdown",
   "metadata": {},
   "source": [
    "I am not considering any parents, although i should hae include the phi here. It would have looked like\n",
    "\n",
    "        sk.SetFinalStateParents(\"Phi:Kp,Km\");"
   ]
  },
  {
   "cell_type": "code",
   "execution_count": 6,
   "metadata": {},
   "outputs": [],
   "source": [
    "sk.SetFinalStateParents(\"\");"
   ]
  },
  {
   "cell_type": "markdown",
   "metadata": {},
   "source": [
    "Now make some code "
   ]
  },
  {
   "cell_type": "code",
   "execution_count": 7,
   "metadata": {},
   "outputs": [
    {
     "name": "stdout",
     "output_type": "stream",
     "text": [
      " Create Topo Beam:Proton:Kp:Km 4\n",
      "Beam\n",
      "Proton\n",
      "Kp\n",
      "Km\n",
      " Create Topo Beam:Proton:Kp 3\n",
      "Beam\n",
      "Proton\n",
      "Kp\n",
      " Create Topo Beam:Proton:Km 3\n",
      "Beam\n",
      "Proton\n",
      "Km\n",
      " Create Topo Beam:Kp:Km 3\n",
      "Beam\n",
      "Kp\n",
      "Km\n"
     ]
    }
   ],
   "source": [
    "sk.MakeCode();"
   ]
  },
  {
   "cell_type": "markdown",
   "metadata": {},
   "source": [
    "You should now see some new files in your current directory"
   ]
  },
  {
   "cell_type": "code",
   "execution_count": 8,
   "metadata": {},
   "outputs": [
    {
     "name": "stdout",
     "output_type": "stream",
     "text": [
      "CreateMyFinalState.ipynb\n",
      "DevelopMyFinalState.ipynb\n",
      "K2.C\n",
      "K2.h\n",
      "KinematicsK2.h\n",
      "LoadK2.C\n",
      "MakeDeltaTimePCut.ipynb\n",
      "RunFSLundK2.C\n",
      "RunFSRootK2.C\n",
      "RunROOTCuts.ipynb\n",
      "RunROOT.ipynb\n",
      "RunROOTParticles.ipynb\n",
      "ToposK2.h\n",
      "TreeDataK2.C\n",
      "TreeDataK2.h\n"
     ]
    }
   ],
   "source": [
    ".!ls"
   ]
  },
  {
   "cell_type": "markdown",
   "metadata": {},
   "source": [
    "You can make sure it compiles OK. A script LoadXXX.C wil have been created (where XXX is your finals state name i.e. sk.SetFinalState(\"YourNameNotThis\");). This will compile and load all the required classes. Try executing it and create an object of your class"
   ]
  },
  {
   "cell_type": "code",
   "execution_count": null,
   "metadata": {},
   "outputs": [],
   "source": [
    "gROOT->ProcessLine(\".x LoadK2.C+\");"
   ]
  },
  {
   "cell_type": "code",
   "execution_count": 10,
   "metadata": {},
   "outputs": [
    {
     "name": "stdout",
     "output_type": "stream",
     "text": [
      " WARNING running HS::FinalState::AutoIter() you  should check the topology print output and make sure the displayed iterator is waht you want ..\n",
      " WARNING running HS::FinalState::AutoIter() you  should check the topology print output and make sure the displayed iterator is waht you want ..\n",
      " WARNING running HS::FinalState::AutoIter() you  should check the topology print output and make sure the displayed iterator is waht you want ..\n",
      " WARNING running HS::FinalState::AutoIter() you  should check the topology print output and make sure the displayed iterator is waht you want ..\n",
      " Topology::Print() : 0\n",
      "    particles = -10000 0 10000 10000 \n",
      "You can have any number of the following particles : \n",
      " ALL \n",
      "The following particle are identified by pdg code : \n",
      " ALL \n",
      " ParticleIter::Print() \n",
      "     Type : 2 number chosen 1 of id  -321 and number used here = 1\n",
      " ParticleIter::Print() \n",
      "     Type : 2 number chosen 1 of id  -22 and number used here = 1\n",
      " ParticleIter::Print() \n",
      "     Type : 2 number chosen 1 of id  2212 and number used here = 1\n",
      " ParticleIter::Print() \n",
      "     Type : 2 number chosen 1 of id  321 and number used here = 1\n",
      "\n",
      " Topology::Print() : 1\n",
      "    particles = 0 10000 10000 \n",
      "You can have any number of the following particles : \n",
      " ALL \n",
      "The following particle are identified by pdg code : \n",
      " ALL \n",
      " ParticleIter::Print() \n",
      "     Type : 2 number chosen 1 of id  -22 and number used here = 1\n",
      " ParticleIter::Print() \n",
      "     Type : 2 number chosen 1 of id  2212 and number used here = 1\n",
      " ParticleIter::Print() \n",
      "     Type : 2 number chosen 1 of id  321 and number used here = 1\n",
      "\n",
      " Topology::Print() : 2\n",
      "    particles = -10000 0 10000 \n",
      "You can have any number of the following particles : \n",
      " ALL \n",
      "The following particle are identified by pdg code : \n",
      " ALL \n",
      " ParticleIter::Print() \n",
      "     Type : 2 number chosen 1 of id  -321 and number used here = 1\n",
      " ParticleIter::Print() \n",
      "     Type : 2 number chosen 1 of id  -22 and number used here = 1\n",
      " ParticleIter::Print() \n",
      "     Type : 2 number chosen 1 of id  2212 and number used here = 1\n",
      "\n",
      " Topology::Print() : 3\n",
      "    particles = -10000 0 10000 \n",
      "You can have any number of the following particles : \n",
      " ALL \n",
      "The following particle are identified by pdg code : \n",
      " ALL \n",
      " ParticleIter::Print() \n",
      "     Type : 2 number chosen 1 of id  -321 and number used here = 1\n",
      " ParticleIter::Print() \n",
      "     Type : 2 number chosen 1 of id  -22 and number used here = 1\n",
      " ParticleIter::Print() \n",
      "     Type : 2 number chosen 1 of id  321 and number used here = 1\n",
      "\n"
     ]
    }
   ],
   "source": [
    "K2 finalstate;"
   ]
  },
  {
   "cell_type": "markdown",
   "metadata": {},
   "source": [
    "And now you can customise the class further\n",
    "Link to [Final State functions](DevelopMyFinalState.ipynb)"
   ]
  }
 ],
 "metadata": {
  "kernelspec": {
   "display_name": "ROOT C++",
   "language": "c++",
   "name": "root"
  },
  "language_info": {
   "codemirror_mode": "text/x-c++src",
   "file_extension": ".C",
   "mimetype": " text/x-c++src",
   "name": "c++"
  }
 },
 "nbformat": 4,
 "nbformat_minor": 2
}
