{
 "cells": [
  {
   "cell_type": "markdown",
   "metadata": {},
   "source": [
    "# Create final state analysis for CLAS g8 $\\phi$ production\n",
    "\n",
    "First 2 lines set the environment you should have HSCODE set as a shell environment variable when you start up root --notebook\n",
    "Standard Load skeleton code maker and create an object for building CLAS analysis."
   ]
  },
  {
   "cell_type": "code",
   "execution_count": null,
   "metadata": {},
   "outputs": [],
   "source": [
    "gROOT->ProcessLine(\".x $HSCODE/hsskeleton/LoadSkeleton.C+\");"
   ]
  },
  {
   "cell_type": "markdown",
   "metadata": {},
   "source": [
    "Create the skeleton code maker. This will be used to configure and produce the final state class."
   ]
  },
  {
   "cell_type": "code",
   "execution_count": null,
   "metadata": {},
   "outputs": [],
   "source": [
    "CLASSkeleton sk;"
   ]
  },
  {
   "cell_type": "markdown",
   "metadata": {},
   "source": [
    "Call my finalstate analysis class K2"
   ]
  },
  {
   "cell_type": "code",
   "execution_count": null,
   "metadata": {},
   "outputs": [],
   "source": [
    "sk.SetFinalState(\"K2\");"
   ]
  },
  {
   "cell_type": "markdown",
   "metadata": {},
   "source": [
    "Set names of actual final state particles of the reaction that you will use.\n",
    "\n",
    "**First detected particles**\n",
    "\n",
    "I consider final states with the possible detection of tagger beam photon, proton , K+ and K-."
   ]
  },
  {
   "cell_type": "code",
   "execution_count": null,
   "metadata": {},
   "outputs": [],
   "source": [
    "sk.SetFinalStateParts(\"Beam:Beam, Proton:proton, Kp:K+, Km:K-\");"
   ]
  },
  {
   "cell_type": "markdown",
   "metadata": {},
   "source": [
    "I am going to analyse final states with the following topologies :\n",
    "\n",
    "        gamma, proton, K+, K-\n",
    "        gamma, proton, K+\n",
    "        gamma, proton, K-\n",
    "        gamma, K+, K-"
   ]
  },
  {
   "cell_type": "code",
   "execution_count": null,
   "metadata": {},
   "outputs": [],
   "source": [
    " sk.SetFinalStateTopo(\"Beam:Proton:Kp:Km, Beam:Proton:Kp, Beam:Proton:Km, Beam:Kp:Km\");"
   ]
  },
  {
   "cell_type": "markdown",
   "metadata": {},
   "source": [
    "I am not considering any parents, although i should hae include the phi here. It would have looked like\n",
    "\n",
    "        sk.SetFinalStateParents(\"Phi:Kp,Km\");"
   ]
  },
  {
   "cell_type": "code",
   "execution_count": null,
   "metadata": {},
   "outputs": [],
   "source": [
    "sk.SetFinalStateParents(\"\");"
   ]
  },
  {
   "cell_type": "markdown",
   "metadata": {},
   "source": [
    "Now make some code "
   ]
  },
  {
   "cell_type": "code",
   "execution_count": null,
   "metadata": {},
   "outputs": [],
   "source": [
    "sk.MakeCode();"
   ]
  },
  {
   "cell_type": "markdown",
   "metadata": {},
   "source": [
    "You should now see some new files in your current directory"
   ]
  },
  {
   "cell_type": "code",
   "execution_count": null,
   "metadata": {},
   "outputs": [],
   "source": [
    ".!ls"
   ]
  },
  {
   "cell_type": "markdown",
   "metadata": {},
   "source": [
    "You can make sure it compiles OK. A script LoadXXX.C wil have been created (where XXX is your finals state name i.e. sk.SetFinalState(\"YourNameNotThis\");). This will compile and load all the required classes. Try executing it and create an object of your class"
   ]
  },
  {
   "cell_type": "code",
   "execution_count": null,
   "metadata": {},
   "outputs": [],
   "source": [
    "gROOT->ProcessLine(\".x LoadK2.C+\");"
   ]
  },
  {
   "cell_type": "code",
   "execution_count": null,
   "metadata": {},
   "outputs": [],
   "source": [
    "K2 finalstate;"
   ]
  },
  {
   "cell_type": "markdown",
   "metadata": {},
   "source": [
    "And now you can customise the class further\n",
    "Link to [Final State functions](DevelopMyFinalState.ipynb)"
   ]
  }
 ],
 "metadata": {
  "kernelspec": {
   "display_name": "ROOT C++",
   "language": "c++",
   "name": "root"
  },
  "language_info": {
   "codemirror_mode": "text/x-c++src",
   "file_extension": ".C",
   "mimetype": " text/x-c++src",
   "name": "c++"
  }
 },
 "nbformat": 4,
 "nbformat_minor": 2
}
