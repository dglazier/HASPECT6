{
 "cells": [
  {
   "cell_type": "markdown",
   "metadata": {},
   "source": [
    "# Develop the final state class\n",
    "## There are 3 parts of the class the user is primarily responsible for\n",
    "1. Calculations specific to each topology e.g. start time, missing mass,....\n",
    "2. Calculations common to all topologies, typically the Kinematics of the reaction\n",
    "3. The Data to be saved in an output tree"
   ]
  },
  {
   "cell_type": "markdown",
   "metadata": {},
   "source": [
    "## Topology Specific\n",
    "\n",
    "In my Topology specific functions I :\n",
    "\n",
    "        Subtract the start time from all the particles\n",
    "        Apply energy loss correction previously calculated via eloss\n",
    "        Reconstruct the missing particle and save mass and missing mass squared for each topology\n",
    "        For topologies where 1 particle is missing, give it the missing 4-vector and fix its mass to PDG\n",
    "        \n",
    "This is defined for the 4 topologies declared in 1."
   ]
  },
  {
   "cell_type": "markdown",
   "metadata": {},
   "source": [
    "%edit ToposK2.h"
   ]
  },
  {
   "cell_type": "code",
   "execution_count": 2,
   "metadata": {},
   "outputs": [
    {
     "name": "stdout",
     "output_type": "stream",
     "text": [
      "Created file '/scratch/dglazier/tesths/HASPECT6/hsexamples/ToposK2.h'.\n"
     ]
    }
   ],
   "source": [
    "%%file ToposK2.h\n",
    "#include \"K2.h\"\n",
    "void K2::Topo_0(){\n",
    "  //For topology Beam:Proton:Kp:Km\n",
    "\n",
    "  //Subtract starttime from all particles\n",
    "  //This has been predetermined from the tagger time\n",
    "  fTrigger.SubtractStartTime(&fProton,&fKp,&fKm);\n",
    "  fTrigger.SubtractStartTimeBeam(&fProton,&fBeam);\n",
    "\n",
    "  fProton.TakeCorrectedP();//Apply eloss\n",
    "  fKp.TakeCorrectedP();//Apply eloss\n",
    "  fKm.TakeCorrectedP();//Apply eloss\n",
    "\n",
    "  //Reconstruct missing or combined particles\n",
    "  HSLorentzVector miss= fBeam.P4() + fTarget -fProton.P4() -fKp.P4() -fKm.P4();\n",
    "  TD.MissMass2=miss.M2();\n",
    "  TD.MissMass=miss.M();\n",
    "}\n",
    "void K2::Topo_1(){\n",
    "  //For topology Beam:Proton:Kp\n",
    "\n",
    "  //Subtract starttime from all particles\n",
    "  //This has been predetermined from the tagger time\n",
    "  fTrigger.SubtractStartTime(&fProton,&fKp);\n",
    "  fTrigger.SubtractStartTimeBeam(&fProton,&fBeam);\n",
    "\n",
    "  fProton.TakeCorrectedP();//Apply eloss\n",
    "  fKp.TakeCorrectedP();//Apply eloss\n",
    "  \n",
    "  //Reconstruct missing or combined particles\n",
    "  HSLorentzVector miss= fBeam.P4() + fTarget -fProton.P4() -fKp.P4();\n",
    "  TD.MissMass2=miss.M2();\n",
    "  TD.MissMass=miss.M();\n",
    "  fKm.FixP4(miss);\n",
    "}\n",
    "void K2::Topo_2(){\n",
    "  //For topology Beam:Proton:Km\n",
    "\n",
    "  //Subtract starttime from all particles\n",
    "  //This has been predetermined from the tagger time\n",
    "  fTrigger.SubtractStartTime(&fProton,&fKm);\n",
    "  fTrigger.SubtractStartTimeBeam(&fProton,&fBeam);\n",
    "\n",
    "  fProton.TakeCorrectedP();//Apply eloss\n",
    "  fKm.TakeCorrectedP();//Apply eloss\n",
    "\n",
    "  //Reconstruct missing or combined particles\n",
    "  HSLorentzVector miss= fBeam.P4() + fTarget -fProton.P4() -fKm.P4();\n",
    "  TD.MissMass2=miss.M2();\n",
    "  TD.MissMass=miss.M();\n",
    "  fKp.FixP4(miss);\n",
    "}\n",
    "void K2::Topo_3(){\n",
    "  //For topology Beam:Kp:Km\n",
    "\n",
    "  //Subtract starttime from all particles\n",
    "  //This has been predetermined from the tagger time\n",
    "  fTrigger.SubtractStartTime(&fKp,&fKm);\n",
    "  fTrigger.SubtractStartTimeBeam(&fKp,&fBeam);\n",
    "\n",
    "  fKp.TakeCorrectedP();//Apply eloss\n",
    "  fKm.TakeCorrectedP();//Apply eloss\n",
    "\n",
    "//Reconstruct missing or combined particles\n",
    "  HSLorentzVector miss= fBeam.P4() + fTarget -fKp.P4() -fKm.P4();\n",
    "  TD.MissMass2=miss.M2();\n",
    "  TD.MissMass=miss.M();\n",
    "  \n",
    "  fProton.FixP4(miss);\n",
    "}"
   ]
  },
  {
   "cell_type": "markdown",
   "metadata": {},
   "source": [
    "## Common Calculations : Kinematics\n",
    "For this reaction the kinematic quantities are caclulated via the HSKinematics calculator.\n",
    "Here I calculate :\n",
    "\n",
    "        MesonMass = invariant mass of K+ and K-\n",
    "        HyperonMass = invariant mass of proton and K-\n",
    "        Eg = Photon beam energy\n",
    "        \n",
    "        "
   ]
  },
  {
   "cell_type": "markdown",
   "metadata": {},
   "source": [
    "%edit KinematicsK2.h"
   ]
  },
  {
   "cell_type": "code",
   "execution_count": 3,
   "metadata": {},
   "outputs": [
    {
     "name": "stdout",
     "output_type": "stream",
     "text": [
      "Created file '/scratch/dglazier/tesths/HASPECT6/hsexamples/KinematicsK2.h'.\n"
     ]
    }
   ],
   "source": [
    "%%file KinematicsK2.h\n",
    "#include \"K2.h\"\n",
    "void K2::Kinematics(){\n",
    "\n",
    "  //Calculate possible resonances\n",
    "  HSLorentzVector pMeson=fKp.P4()+fKm.P4();\n",
    "  HSLorentzVector pHyperon=fProton.P4()+fKm.P4();\n",
    "  //invariant masses\n",
    "  TD.MesonMass=pMeson.M();\n",
    "  TD.HyperonMass=pHyperon.M();\n",
    "  \n",
    "  fKine.SetGammaTarget(fBeam.P4(),fTarget);\n",
    "  TD.Eg=fBeam.P4().E(); //photon bem energy\n",
    "\n",
    "  //calculate CM production kinematics for meson\n",
    "  fKine.SetMesonBaryon(pMeson,fProton.P4());\n",
    "  fKine.PhotoCMDecay();\n",
    "  TD.MesonCosTh=fKine.CosTheta();//prefix all variables to be saved wiht TM.\n",
    "  TD.MesonPhi=fKine.Phi();\n",
    "  \n",
    "  //calculate CM production kinematics for hyperon\n",
    "  fKine.SetMesonBaryon(fKp.P4(),pHyperon);\n",
    "  fKine.PhotoCMDecay();\n",
    "  TD.HyperonCosTh=fKine.CosTheta();//prefix all variables to be saved wiht TM.\n",
    "  TD.HyperonPhi=fKine.Phi();\n",
    "\n",
    "}"
   ]
  },
  {
   "cell_type": "markdown",
   "metadata": {},
   "source": [
    "## Tree Data\n",
    "The data you write in a tree is connected via a TreeData class which has data members which will be the tree leafs i.e. data you can perform further analysis on (e.g. histogram, event fitting) "
   ]
  },
  {
   "cell_type": "markdown",
   "metadata": {},
   "source": [
    "%edit TreeDataK2.h"
   ]
  },
  {
   "cell_type": "code",
   "execution_count": 4,
   "metadata": {},
   "outputs": [
    {
     "name": "stdout",
     "output_type": "stream",
     "text": [
      "Created file '/scratch/dglazier/tesths/HASPECT6/hsexamples/TreeDataK2.h'.\n"
     ]
    }
   ],
   "source": [
    "%%file TreeDataK2.h\n",
    "#ifndef TREEDATAK2_h\n",
    "#define TREEDATAK2_h \n",
    "#include \"TreeData.h\"\n",
    "\n",
    "class TreeDataK2: public HS::TreeData{\n",
    " public:\n",
    "  //data member for tree branches below here\n",
    "  Double_t MissMass=0;\n",
    "  Double_t MissMass2=0;\n",
    "  \n",
    "  Double_t MesonMass=0;\n",
    "  Double_t HyperonMass=0;\n",
    "  \n",
    "  Double_t MesonCosTh=0;\n",
    "  Double_t MesonPhi=0;\n",
    "  Double_t HyperonCosTh=0;\n",
    "  Double_t HyperonPhi=0;\n",
    "  Double_t Eg=0;\n",
    "  \n",
    "  \n",
    "  ClassDef(TreeDataK2,1);\n",
    "};\n",
    "#endif"
   ]
  },
  {
   "cell_type": "markdown",
   "metadata": {},
   "source": [
    "Now you can try and compile all of the code together. You may need to go back and fix bugs after. This is best done by removing the %edit cells and doing a restart and run whole notebook."
   ]
  },
  {
   "cell_type": "code",
   "execution_count": 5,
   "metadata": {
    "scrolled": false
   },
   "outputs": [
    {
     "name": "stdout",
     "output_type": "stream",
     "text": [
      "%%%%%%%%%%%%%%%%%%%%%%%%%    THSParticle\n",
      "%%%%%%%%%%%%%%%%%%%%%%%%%    EventInfo\n",
      "%%%%%%%%%%%%%%%%%%%%%%%%%    RunInfo\n",
      "%%%%%%%%%%%%%%%%%%%%%%%%%    THSWeights\n",
      "%%%%%%%%%%%%%%%%%%%%%%%%%    DataManager\n",
      "%%%%%%%%%%%%%%%%%%%%%%%%%    LundReader\n",
      "&&&&&&&&&&&&&&&&&&&&&&&&&&&& HSKinematics\n",
      "&&&&&&&&&&&&&&&&&&&&&&&&&&&& Cuts\n",
      "&&&&&&&&&&&&&&&&&&&&&&&&&&&& Combitorial\n",
      "&&&&&&&&&&&&&&&&&&&&&&&&&&&& ParticleIter\n",
      "&&&&&&&&&&&&&&&&&&&&&&&&&&&& Topology\n",
      "&&&&&&&&&&&&&&&&&&&&&&&&&&&& FinalState\n",
      "&&&&&&&&&&&&&&&&&&&&&&&&&&&& FiledTree\n",
      "&&&&&&&&&&&&&&&&&&&&&&&&&&&& TreeData\n",
      "&&&&&&&&&&&&&&&&&&&&&&&&&&&& TopoActionManager\n",
      "&&&&&&&&&&&&&&&&&&&&&&&&&&&& ParticleCuts\n",
      "&&&&&&&&&&&&&&&&&&&&&&&&&&&& VarsParticle\n",
      "&&&&&&&&&&&&&&&&&&&&&&&&&&&& TreePrepParticle\n",
      "&&&&&&&&&&&&&&&&&&&&&&&&&&&& MVASignalID\n",
      "&&&&&&&&&&&&&&&&&&&&&&&&&&&& ParticleCutsManager\n",
      "&&&&&&&&&&&&&&&&&&&&&&&&&&&& TreePrepManager\n",
      "&&&&&&&&&&&&&&&&&&&&&&&&&&&& MVASignalIDManager\n",
      "&&&&&&&&&&&&&&&&&&&&&&&&&&&& CLAS/CLASTrigger\n",
      "&&&&&&&&&&&&&&&&&&&&&&&&&&&& CLAS12/CLAS12Trigger\n",
      "&&&&&&&&&&&&&&&&&&&&&&&&&&&& CLAS12/CLAS12DeltaTime\n"
     ]
    },
    {
     "name": "stderr",
     "output_type": "stream",
     "text": [
      "Info in <TUnixSystem::ACLiC>: creating shared library /scratch/dglazier/tesths/HASPECT6/hsexamples/./TreeDataK2_C.so\n",
      "Info in <TUnixSystem::ACLiC>: creating shared library /scratch/dglazier/tesths/HASPECT6/hsexamples/./K2_C.so\n"
     ]
    }
   ],
   "source": [
    "gROOT->ProcessLine(\".x LoadK2.C+\");"
   ]
  },
  {
   "cell_type": "code",
   "execution_count": 6,
   "metadata": {},
   "outputs": [
    {
     "name": "stdout",
     "output_type": "stream",
     "text": [
      " WARNING running HS::FinalState::AutoIter() you  should check the topology print output and make sure the displayed iterator is waht you want ..\n",
      " WARNING running HS::FinalState::AutoIter() you  should check the topology print output and make sure the displayed iterator is waht you want ..\n",
      " WARNING running HS::FinalState::AutoIter() you  should check the topology print output and make sure the displayed iterator is waht you want ..\n",
      " WARNING running HS::FinalState::AutoIter() you  should check the topology print output and make sure the displayed iterator is waht you want ..\n",
      " Topology::Print() : 0\n",
      "    particles = -10000 0 10000 10000 \n",
      "You can have any number of the following particles : \n",
      " ALL \n",
      "The following particle are identified by pdg code : \n",
      " ALL \n",
      " ParticleIter::Print() \n",
      "     Type : 2 number chosen 1 of id  -321 and number used here = 1\n",
      " ParticleIter::Print() \n",
      "     Type : 2 number chosen 1 of id  -22 and number used here = 1\n",
      " ParticleIter::Print() \n",
      "     Type : 2 number chosen 1 of id  2212 and number used here = 1\n",
      " ParticleIter::Print() \n",
      "     Type : 2 number chosen 1 of id  321 and number used here = 1\n",
      "\n",
      " Topology::Print() : 1\n",
      "    particles = 0 10000 10000 \n",
      "You can have any number of the following particles : \n",
      " ALL \n",
      "The following particle are identified by pdg code : \n",
      " ALL \n",
      " ParticleIter::Print() \n",
      "     Type : 2 number chosen 1 of id  -22 and number used here = 1\n",
      " ParticleIter::Print() \n",
      "     Type : 2 number chosen 1 of id  2212 and number used here = 1\n",
      " ParticleIter::Print() \n",
      "     Type : 2 number chosen 1 of id  321 and number used here = 1\n",
      "\n",
      " Topology::Print() : 2\n",
      "    particles = -10000 0 10000 \n",
      "You can have any number of the following particles : \n",
      " ALL \n",
      "The following particle are identified by pdg code : \n",
      " ALL \n",
      " ParticleIter::Print() \n",
      "     Type : 2 number chosen 1 of id  -321 and number used here = 1\n",
      " ParticleIter::Print() \n",
      "     Type : 2 number chosen 1 of id  -22 and number used here = 1\n",
      " ParticleIter::Print() \n",
      "     Type : 2 number chosen 1 of id  2212 and number used here = 1\n",
      "\n",
      " Topology::Print() : 3\n",
      "    particles = -10000 0 10000 \n",
      "You can have any number of the following particles : \n",
      " ALL \n",
      "The following particle are identified by pdg code : \n",
      " ALL \n",
      " ParticleIter::Print() \n",
      "     Type : 2 number chosen 1 of id  -321 and number used here = 1\n",
      " ParticleIter::Print() \n",
      "     Type : 2 number chosen 1 of id  -22 and number used here = 1\n",
      " ParticleIter::Print() \n",
      "     Type : 2 number chosen 1 of id  321 and number used here = 1\n",
      "\n"
     ]
    }
   ],
   "source": [
    "K2 kk;"
   ]
  }
 ],
 "metadata": {
  "kernelspec": {
   "display_name": "ROOT C++",
   "language": "c++",
   "name": "root"
  },
  "language_info": {
   "codemirror_mode": "text/x-c++src",
   "file_extension": ".C",
   "mimetype": " text/x-c++src",
   "name": "c++"
  }
 },
 "nbformat": 4,
 "nbformat_minor": 2
}
