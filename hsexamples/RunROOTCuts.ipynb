{
 "cells": [
  {
   "cell_type": "markdown",
   "metadata": {},
   "source": [
    "# Run the final state algorithm on a ROOT HSDATA file"
   ]
  },
  {
   "cell_type": "code",
   "execution_count": 1,
   "metadata": {
    "scrolled": false
   },
   "outputs": [
    {
     "name": "stdout",
     "output_type": "stream",
     "text": [
      "%%%%%%%%%%%%%%%%%%%%%%%%%    THSParticle\n",
      "%%%%%%%%%%%%%%%%%%%%%%%%%    EventInfo\n",
      "%%%%%%%%%%%%%%%%%%%%%%%%%    RunInfo\n",
      "%%%%%%%%%%%%%%%%%%%%%%%%%    THSWeights\n",
      "%%%%%%%%%%%%%%%%%%%%%%%%%    DataManager\n",
      "%%%%%%%%%%%%%%%%%%%%%%%%%    LundReader\n",
      "&&&&&&&&&&&&&&&&&&&&&&&&&&&& HSKinematics\n",
      "&&&&&&&&&&&&&&&&&&&&&&&&&&&& Cuts\n",
      "&&&&&&&&&&&&&&&&&&&&&&&&&&&& Combitorial\n",
      "&&&&&&&&&&&&&&&&&&&&&&&&&&&& ParticleIter\n",
      "&&&&&&&&&&&&&&&&&&&&&&&&&&&& Topology\n",
      "&&&&&&&&&&&&&&&&&&&&&&&&&&&& FinalState\n",
      "&&&&&&&&&&&&&&&&&&&&&&&&&&&& FiledTree\n",
      "&&&&&&&&&&&&&&&&&&&&&&&&&&&& TreeData\n",
      "&&&&&&&&&&&&&&&&&&&&&&&&&&&& TopoActionManager\n",
      "&&&&&&&&&&&&&&&&&&&&&&&&&&&& ParticleCuts\n",
      "&&&&&&&&&&&&&&&&&&&&&&&&&&&& VarsParticle\n",
      "&&&&&&&&&&&&&&&&&&&&&&&&&&&& TreePrepParticle\n",
      "&&&&&&&&&&&&&&&&&&&&&&&&&&&& MVASignalID\n",
      "&&&&&&&&&&&&&&&&&&&&&&&&&&&& ParticleCutsManager\n",
      "&&&&&&&&&&&&&&&&&&&&&&&&&&&& TreePrepManager\n",
      "&&&&&&&&&&&&&&&&&&&&&&&&&&&& MVASignalIDManager\n",
      "&&&&&&&&&&&&&&&&&&&&&&&&&&&& CLAS/CLASTrigger\n",
      "&&&&&&&&&&&&&&&&&&&&&&&&&&&& CLAS12/CLAS12Trigger\n",
      "&&&&&&&&&&&&&&&&&&&&&&&&&&&& CLAS12/CLAS12DeltaTime\n"
     ]
    }
   ],
   "source": [
    "gROOT->ProcessLine(\".x LoadK2.C+\");"
   ]
  },
  {
   "cell_type": "markdown",
   "metadata": {},
   "source": [
    "First create an object of your final state class. You may configure it if you want to limit the number of particles in an event or set to just run on generated simulation data.\n",
    "This notebook is equivalent to the RunFSRootXXX.C macro which will be in the code directory.\n",
    "Again just change XXX for your class name."
   ]
  },
  {
   "cell_type": "code",
   "execution_count": 2,
   "metadata": {},
   "outputs": [
    {
     "name": "stdout",
     "output_type": "stream",
     "text": [
      "Charge ID particle are  -22 \n",
      "Incusive particle are  -22 \n",
      " WARNING running HS::FinalState::AutoIter() you  should check the topology print output and make sure the displayed iterator is waht you want ..\n",
      "Charge ID particle are  -22 \n",
      "Incusive particle are  -22 \n",
      " WARNING running HS::FinalState::AutoIter() you  should check the topology print output and make sure the displayed iterator is waht you want ..\n",
      "Charge ID particle are  -22 \n",
      "Incusive particle are  -22 \n",
      " WARNING running HS::FinalState::AutoIter() you  should check the topology print output and make sure the displayed iterator is waht you want ..\n",
      "Charge ID particle are  -22 \n",
      "Incusive particle are  -22 \n",
      " WARNING running HS::FinalState::AutoIter() you  should check the topology print output and make sure the displayed iterator is waht you want ..\n",
      " Topology::Print() : 0\n",
      "    particles = -10000 -22 10000 10000 \n",
      "You can have any number of the following particles : \n",
      "-22 \n",
      "The following particle are identified by pdg code : \n",
      "-22 \n",
      " ParticleIter::Print() \n",
      "     Type : 2 number chosen 1 of id  -321 and number used here = 1\n",
      " ParticleIter::Print() \n",
      "     Type : 2 number chosen 1 of id  -22 and number used here = 1\n",
      " ParticleIter::Print() \n",
      "     Type : 2 number chosen 1 of id  2212 and number used here = 1\n",
      " ParticleIter::Print() \n",
      "     Type : 2 number chosen 1 of id  321 and number used here = 1\n",
      "\n",
      " Topology::Print() : 1\n",
      "    particles = -22 10000 10000 \n",
      "You can have any number of the following particles : \n",
      "-22 \n",
      "The following particle are identified by pdg code : \n",
      "-22 \n",
      " ParticleIter::Print() \n",
      "     Type : 2 number chosen 1 of id  -22 and number used here = 1\n",
      " ParticleIter::Print() \n",
      "     Type : 2 number chosen 1 of id  2212 and number used here = 1\n",
      " ParticleIter::Print() \n",
      "     Type : 2 number chosen 1 of id  321 and number used here = 1\n",
      "\n",
      " Topology::Print() : 2\n",
      "    particles = -10000 -22 10000 \n",
      "You can have any number of the following particles : \n",
      "-22 \n",
      "The following particle are identified by pdg code : \n",
      "-22 \n",
      " ParticleIter::Print() \n",
      "     Type : 2 number chosen 1 of id  -321 and number used here = 1\n",
      " ParticleIter::Print() \n",
      "     Type : 2 number chosen 1 of id  -22 and number used here = 1\n",
      " ParticleIter::Print() \n",
      "     Type : 2 number chosen 1 of id  2212 and number used here = 1\n",
      "\n",
      " Topology::Print() : 3\n",
      "    particles = -10000 -22 10000 \n",
      "You can have any number of the following particles : \n",
      "-22 \n",
      "The following particle are identified by pdg code : \n",
      "-22 \n",
      " ParticleIter::Print() \n",
      "     Type : 2 number chosen 1 of id  -321 and number used here = 1\n",
      " ParticleIter::Print() \n",
      "     Type : 2 number chosen 1 of id  -22 and number used here = 1\n",
      " ParticleIter::Print() \n",
      "     Type : 2 number chosen 1 of id  321 and number used here = 1\n",
      "\n"
     ]
    }
   ],
   "source": [
    " K2 fs(\"Beam\",\"Beam\");\n",
    "  // fs.SetGenerated(); //just analyse generated branch\n",
    "  // fs.SetMaxParticles(10); //max number of particles of any 1 type\n",
    " "
   ]
  },
  {
   "cell_type": "markdown",
   "metadata": {},
   "source": [
    "Create an output tree. Here we will use a FiledTree object which is a wrapper class to a tree in a file. We will also create this as a smart pointer so we can delete it at the end by calling reset(), this will save the tree to disk. The Filed tree needs 2 strings ,1 a treename and the other the file name. You should give the full path for where you would like the files saved. It will overwrite any existing files. "
   ]
  },
  {
   "cell_type": "code",
   "execution_count": 3,
   "metadata": {},
   "outputs": [],
   "source": [
    "auto output = new HS::FiledTree(\"tt\",\"testcuts.root\");\n",
    "fs.FinalStateOutTree(output->Tree()); //connect ouput tree to final state branches"
   ]
  },
  {
   "cell_type": "markdown",
   "metadata": {},
   "source": [
    "Here we add the cuts for each particle. This is done via a HS::Cuts object which gets propogated to each particle in each topology. To specify any type of cut behaviour you need to generate your own Cuts Method. Here we just use a predefined delta time cut but you could make your won class which has momentum dependence as well."
   ]
  },
  {
   "cell_type": "code",
   "execution_count": 4,
   "metadata": {},
   "outputs": [
    {
     "name": "stdout",
     "output_type": "stream",
     "text": [
      "Info ParticleCutsManager AddParticleCut set cut for 0\n",
      "Info ParticleCutsManager AddParticleCut set cut for -22\n"
     ]
    }
   ],
   "source": [
    "ParticleCutsManager cutsman;\n",
    "auto beamCut=make_shared<DeltaTimeCut>(2); //7ns delta time cut\n",
    "auto otherCut=make_shared<DeltaTimeCut>(1); //10ns cut for all other particles\n",
    "cutsman.AddParticleCut(\"Beam\",beamCut); //assign to manager\n",
    "cutsman.SetDefaultCut(otherCut); //assign to manager\n",
    "cutsman.ConfigureCuts(&fs);    //propogate the cuts to topologies in fs"
   ]
  },
  {
   "cell_type": "markdown",
   "metadata": {},
   "source": [
    "Now register the cuts manager as a post topology function action. This will be applied after the Topo_0 etc functions when start times etc have been determined. "
   ]
  },
  {
   "cell_type": "code",
   "execution_count": 5,
   "metadata": {},
   "outputs": [],
   "source": [
    "fs.RegisterPostTopoAction(&cutsman);"
   ]
  },
  {
   "cell_type": "markdown",
   "metadata": {},
   "source": [
    "Now we configure the input data. Here we use a ROOT file presaved in HSDATA format. It is possible to analyse other dataformats via the DataManager class."
   ]
  },
  {
   "cell_type": "code",
   "execution_count": 6,
   "metadata": {},
   "outputs": [
    {
     "name": "stderr",
     "output_type": "stream",
     "text": [
      "Info in <DataManager::InitChain>:  Will proceess all 1 files in chain\n"
     ]
    },
    {
     "name": "stdout",
     "output_type": "stream",
     "text": [
      "DataManager::InitReader set branch 0x7fd0c408cd48 0x7fd0c408cd48\n"
     ]
    }
   ],
   "source": [
    " //create datamanager\n",
    "  auto dm=std::make_shared<DataManager>();\n",
    "\n",
    "  //And make a chain of data files\n",
    "  TChain chain(\"HSParticles\");\n",
    "  chain.Add(\"/w/work1/jlab/hallb/HS_g8/1_9_list/flist_048088.dat.root\");\n",
    "  dm->InitChain(&chain);\n",
    "\n",
    "  //connect FinalState to Data by moving the pointer\n",
    "  fs.SetDataManager(dm);"
   ]
  },
  {
   "cell_type": "markdown",
   "metadata": {},
   "source": [
    "Analyse all the events. Not you may prefer just looping over the data manager directly via while(dm->ReadEvent()) fs->Process();\n",
    "You can also supply a number of events to analyse e.g. fs.ProcessData(100);"
   ]
  },
  {
   "cell_type": "code",
   "execution_count": null,
   "metadata": {
    "scrolled": true
   },
   "outputs": [
    {
     "name": "stdout",
     "output_type": "stream",
     "text": [
      "Number of Events to process 1111760\n"
     ]
    },
    {
     "name": "stderr",
     "output_type": "stream",
     "text": [
      "\n",
      " *** Break *** segmentation violation\n",
      "\n",
      "\n",
      "\n",
      "===========================================================\n",
      "There was a crash.\n",
      "This is the entire stack trace of all threads:\n",
      "===========================================================\n",
      "\n",
      "Thread 9 (Thread 0x7fd0eab39700 (LWP 14072)):\n",
      "#0  0x00007fd10a904183 in epoll_wait () from /lib64/libc.so.6\n",
      "#1  0x00007fd0ed2f9c21 in ?? () from /usr/lib64/python2.7/site-packages/zmq/backend/cython/../../.libs/libzmq-f7ef747e.so.5.1.5\n",
      "#2  0x00007fd0ed316391 in ?? () from /usr/lib64/python2.7/site-packages/zmq/backend/cython/../../.libs/libzmq-f7ef747e.so.5.1.5\n",
      "#3  0x00007fd0ed33df84 in ?? () from /usr/lib64/python2.7/site-packages/zmq/backend/cython/../../.libs/libzmq-f7ef747e.so.5.1.5\n",
      "#4  0x00007fd10b2e2e25 in start_thread () from /lib64/libpthread.so.0\n",
      "#5  0x00007fd10a903bad in clone () from /lib64/libc.so.6\n",
      "\n",
      "Thread 8 (Thread 0x7fd0ea338700 (LWP 14073)):\n",
      "#0  0x00007fd10a904183 in epoll_wait () from /lib64/libc.so.6\n",
      "#1  0x00007fd0ed2f9c21 in ?? () from /usr/lib64/python2.7/site-packages/zmq/backend/cython/../../.libs/libzmq-f7ef747e.so.5.1.5\n",
      "#2  0x00007fd0ed316391 in ?? () from /usr/lib64/python2.7/site-packages/zmq/backend/cython/../../.libs/libzmq-f7ef747e.so.5.1.5\n",
      "#3  0x00007fd0ed33df84 in ?? () from /usr/lib64/python2.7/site-packages/zmq/backend/cython/../../.libs/libzmq-f7ef747e.so.5.1.5\n",
      "#4  0x00007fd10b2e2e25 in start_thread () from /lib64/libpthread.so.0\n",
      "#5  0x00007fd10a903bad in clone () from /lib64/libc.so.6\n",
      "\n",
      "Thread 7 (Thread 0x7fd0e9b37700 (LWP 14074)):\n",
      "#0  0x00007fd10a904183 in epoll_wait () from /lib64/libc.so.6\n",
      "#1  0x00007fd1040d70d3 in pyepoll_poll () from /usr/lib64/python2.7/lib-dynload/selectmodule.so\n",
      "#2  0x00007fd10b5dbcf0 in PyEval_EvalFrameEx () from /lib64/libpython2.7.so.1.0\n",
      "#3  0x00007fd10b5de03d in PyEval_EvalCodeEx () from /lib64/libpython2.7.so.1.0\n",
      "#4  0x00007fd10b5db53c in PyEval_EvalFrameEx () from /lib64/libpython2.7.so.1.0\n",
      "#5  0x00007fd10b5de03d in PyEval_EvalCodeEx () from /lib64/libpython2.7.so.1.0\n",
      "#6  0x00007fd10b567a6d in function_call () from /lib64/libpython2.7.so.1.0\n",
      "#7  0x00007fd10b542a63 in PyObject_Call () from /lib64/libpython2.7.so.1.0\n",
      "#8  0x00007fd10b5d66fd in PyEval_EvalFrameEx () from /lib64/libpython2.7.so.1.0\n",
      "#9  0x00007fd10b5db6bd in PyEval_EvalFrameEx () from /lib64/libpython2.7.so.1.0\n",
      "#10 0x00007fd10b5db6bd in PyEval_EvalFrameEx () from /lib64/libpython2.7.so.1.0\n",
      "#11 0x00007fd10b5de03d in PyEval_EvalCodeEx () from /lib64/libpython2.7.so.1.0\n",
      "#12 0x00007fd10b567978 in function_call () from /lib64/libpython2.7.so.1.0\n",
      "#13 0x00007fd10b542a63 in PyObject_Call () from /lib64/libpython2.7.so.1.0\n",
      "#14 0x00007fd10b551a55 in instancemethod_call () from /lib64/libpython2.7.so.1.0\n",
      "#15 0x00007fd10b542a63 in PyObject_Call () from /lib64/libpython2.7.so.1.0\n",
      "#16 0x00007fd10b5d48f7 in PyEval_CallObjectWithKeywords () from /lib64/libpython2.7.so.1.0\n",
      "#17 0x00007fd10b60c822 in t_bootstrap () from /lib64/libpython2.7.so.1.0\n",
      "#18 0x00007fd10b2e2e25 in start_thread () from /lib64/libpthread.so.0\n",
      "#19 0x00007fd10a903bad in clone () from /lib64/libc.so.6\n",
      "\n",
      "Thread 6 (Thread 0x7fd0e92f6700 (LWP 14075)):\n",
      "#0  0x00007fd10a8f8f0d in poll () from /lib64/libc.so.6\n",
      "#1  0x00007fd0ed351b51 in zmq_poll () from /usr/lib64/python2.7/site-packages/zmq/backend/cython/../../.libs/libzmq-f7ef747e.so.5.1.5\n",
      "#2  0x00007fd0ed317425 in ?? () from /usr/lib64/python2.7/site-packages/zmq/backend/cython/../../.libs/libzmq-f7ef747e.so.5.1.5\n",
      "#3  0x00007fd0ed352a34 in zmq_proxy () from /usr/lib64/python2.7/site-packages/zmq/backend/cython/../../.libs/libzmq-f7ef747e.so.5.1.5\n",
      "#4  0x00007fd0ebee6ac0 in ?? () from /usr/lib64/python2.7/site-packages/zmq/backend/cython/_device.so\n",
      "#5  0x00007fd0ebee624f in ?? () from /usr/lib64/python2.7/site-packages/zmq/backend/cython/_device.so\n",
      "#6  0x00007fd10b542a63 in PyObject_Call () from /lib64/libpython2.7.so.1.0\n",
      "#7  0x00007fd10b5d7236 in PyEval_EvalFrameEx () from /lib64/libpython2.7.so.1.0\n",
      "#8  0x00007fd10b5db6bd in PyEval_EvalFrameEx () from /lib64/libpython2.7.so.1.0\n",
      "#9  0x00007fd10b5db6bd in PyEval_EvalFrameEx () from /lib64/libpython2.7.so.1.0\n",
      "#10 0x00007fd10b5de03d in PyEval_EvalCodeEx () from /lib64/libpython2.7.so.1.0\n",
      "#11 0x00007fd10b567978 in function_call () from /lib64/libpython2.7.so.1.0\n",
      "#12 0x00007fd10b542a63 in PyObject_Call () from /lib64/libpython2.7.so.1.0\n",
      "#13 0x00007fd10b551a55 in instancemethod_call () from /lib64/libpython2.7.so.1.0\n",
      "#14 0x00007fd10b542a63 in PyObject_Call () from /lib64/libpython2.7.so.1.0\n",
      "#15 0x00007fd10b5d48f7 in PyEval_CallObjectWithKeywords () from /lib64/libpython2.7.so.1.0\n",
      "#16 0x00007fd10b60c822 in t_bootstrap () from /lib64/libpython2.7.so.1.0\n",
      "#17 0x00007fd10b2e2e25 in start_thread () from /lib64/libpthread.so.0\n",
      "#18 0x00007fd10a903bad in clone () from /lib64/libc.so.6\n",
      "\n",
      "Thread 5 (Thread 0x7fd0e8af5700 (LWP 14076)):\n",
      "#0  0x00007fd10a904183 in epoll_wait () from /lib64/libc.so.6\n",
      "#1  0x00007fd0ed2f9c21 in ?? () from /usr/lib64/python2.7/site-packages/zmq/backend/cython/../../.libs/libzmq-f7ef747e.so.5.1.5\n",
      "#2  0x00007fd0ed316391 in ?? () from /usr/lib64/python2.7/site-packages/zmq/backend/cython/../../.libs/libzmq-f7ef747e.so.5.1.5\n",
      "#3  0x00007fd0ed33df84 in ?? () from /usr/lib64/python2.7/site-packages/zmq/backend/cython/../../.libs/libzmq-f7ef747e.so.5.1.5\n",
      "#4  0x00007fd10b2e2e25 in start_thread () from /lib64/libpthread.so.0\n",
      "#5  0x00007fd10a903bad in clone () from /lib64/libc.so.6\n",
      "\n",
      "Thread 4 (Thread 0x7fd0dbfff700 (LWP 14077)):\n",
      "#0  0x00007fd10a904183 in epoll_wait () from /lib64/libc.so.6\n",
      "#1  0x00007fd0ed2f9c21 in ?? () from /usr/lib64/python2.7/site-packages/zmq/backend/cython/../../.libs/libzmq-f7ef747e.so.5.1.5\n",
      "#2  0x00007fd0ed316391 in ?? () from /usr/lib64/python2.7/site-packages/zmq/backend/cython/../../.libs/libzmq-f7ef747e.so.5.1.5\n",
      "#3  0x00007fd0ed33df84 in ?? () from /usr/lib64/python2.7/site-packages/zmq/backend/cython/../../.libs/libzmq-f7ef747e.so.5.1.5\n",
      "#4  0x00007fd10b2e2e25 in start_thread () from /lib64/libpthread.so.0\n",
      "#5  0x00007fd10a903bad in clone () from /lib64/libc.so.6\n",
      "\n",
      "Thread 3 (Thread 0x7fd0db7fe700 (LWP 14121)):\n",
      "#0  0x00007fd10a8fac73 in select () from /lib64/libc.so.6\n",
      "#1  0x00007fd100f2a000 in time_sleep () from /usr/lib64/python2.7/lib-dynload/timemodule.so\n",
      "#2  0x00007fd10b5dbcf0 in PyEval_EvalFrameEx () from /lib64/libpython2.7.so.1.0\n",
      "#3  0x00007fd10b5db6bd in PyEval_EvalFrameEx () from /lib64/libpython2.7.so.1.0\n",
      "#4  0x00007fd10b5db6bd in PyEval_EvalFrameEx () from /lib64/libpython2.7.so.1.0\n",
      "#5  0x00007fd10b5de03d in PyEval_EvalCodeEx () from /lib64/libpython2.7.so.1.0\n",
      "#6  0x00007fd10b567978 in function_call () from /lib64/libpython2.7.so.1.0\n",
      "#7  0x00007fd10b542a63 in PyObject_Call () from /lib64/libpython2.7.so.1.0\n",
      "#8  0x00007fd10b551a55 in instancemethod_call () from /lib64/libpython2.7.so.1.0\n",
      "#9  0x00007fd10b542a63 in PyObject_Call () from /lib64/libpython2.7.so.1.0\n",
      "#10 0x00007fd10b5d48f7 in PyEval_CallObjectWithKeywords () from /lib64/libpython2.7.so.1.0\n",
      "#11 0x00007fd10b60c822 in t_bootstrap () from /lib64/libpython2.7.so.1.0\n",
      "#12 0x00007fd10b2e2e25 in start_thread () from /lib64/libpthread.so.0\n",
      "#13 0x00007fd10a903bad in clone () from /lib64/libc.so.6\n",
      "\n",
      "Thread 2 (Thread 0x7fd0daffd700 (LWP 14227)):\n",
      "#0  0x00007fd10a8ca1c9 in waitpid () from /lib64/libc.so.6\n",
      "#1  0x00007fd10a847e52 in do_system () from /lib64/libc.so.6\n",
      "#2  0x00007fd10a848201 in system () from /lib64/libc.so.6\n",
      "#3  0x00007fd0f9a5c834 in TUnixSystem::StackTrace (this=0x13ac610) at /scratch/root/core/unix/src/TUnixSystem.cxx:2413\n",
      "#4  0x00007fd0f9a5ef6c in TUnixSystem::DispatchSignals (this=0x13ac610, sig=kSigSegmentationViolation) at /scratch/root/core/unix/src/TUnixSystem.cxx:3644\n",
      "#5  <signal handler called>\n",
      "#6  0x00007fd0d946427b in HS::DataManager::ReadEvent(long long) () from /scratch/dglazier/testg8/HASPECT6/hsdata/DataManager_C.so\n",
      "#7  0x00007fd0cabbf701 in HS::FinalState::ProcessData(long long) () from /scratch/dglazier/testg8/HASPECT6/hsfinalstate/FinalState_C.so\n",
      "#8  0x00007fd0e80140b1 in ?? ()\n",
      "#9  0x00007fd0daffb990 in ?? ()\n",
      "#10 0x00007fd0daffb990 in ?? ()\n",
      "#11 0x00007fd0b4f4e328 in ?? ()\n",
      "#12 0x0000000001971ba0 in ?? ()\n",
      "#13 0x0000000001969a10 in ?? ()\n",
      "#14 0x00007fd0f4f69371 in std::_Function_base::_Base_manager<llvm::orc::LazyEmittingLayer<llvm::orc::IRCompileLayer<cling::IncrementalJIT::RemovableObjectLinkingLayer, llvm::orc::SimpleCompiler> >::EmissionDeferredModule::find(llvm::StringRef, bool, llvm::orc::IRCompileLayer<cling::IncrementalJIT::RemovableObjectLinkingLayer, llvm::orc::SimpleCompiler>&)::{lambda()#1}>::_M_manager(std::_Any_data&, std::_Function_base::_Base_manager<llvm::orc::LazyEmittingLayer<llvm::orc::IRCompileLayer<cling::IncrementalJIT::RemovableObjectLinkingLayer, llvm::orc::SimpleCompiler> >::EmissionDeferredModule::find(llvm::StringRef, bool, llvm::orc::IRCompileLayer<cling::IncrementalJIT::RemovableObjectLinkingLayer, llvm::orc::SimpleCompiler>&)::{lambda()#1}> const&, std::_Manager_operation) () from /mnt/share/cern_CentOS7/root/v6.14.04/lib/libCling.so\n",
      "#15 0x00007fd0cabbf5c0 in ?? () from /scratch/dglazier/testg8/HASPECT6/hsfinalstate/FinalState_C.so\n",
      "#16 0x00007fd0f94bbae0 in ?? () from //lib64/libstdc++.so.6\n",
      "#17 0x00007fd0f94bd5e0 in ?? () from //lib64/libstdc++.so.6\n",
      "#18 0x00007fd0f972a640 in ?? () from //lib64/libstdc++.so.6\n",
      "#19 0x00007fd0daffbda0 in ?? ()\n",
      "#20 0x00007fd0daffb9b0 in ?? ()\n",
      "#21 0x00007fd0f4f10d59 in cling::Interpreter::RunFunction(clang::FunctionDecl const*, cling::Value*) () from /mnt/share/cern_CentOS7/root/v6.14.04/lib/libCling.so\n",
      "#22 0x00007fd0f4f11829 in cling::Interpreter::EvaluateInternal(std::string const&, cling::CompilationOptions, cling::Value*, cling::Transaction**, unsigned long) () from /mnt/share/cern_CentOS7/root/v6.14.04/lib/libCling.so\n",
      "#23 0x00007fd0f4f119fe in cling::Interpreter::process(std::string const&, cling::Value*, cling::Transaction**, bool) () from /mnt/share/cern_CentOS7/root/v6.14.04/lib/libCling.so\n",
      "#24 0x00007fd0f4fa5138 in cling::MetaProcessor::process(llvm::StringRef, cling::Interpreter::CompilationResult&, cling::Value*, bool) () from /mnt/share/cern_CentOS7/root/v6.14.04/lib/libCling.so\n",
      "#25 0x00007fd0f4e8a4da in HandleInterpreterException (metaProcessor=0x1b76130, input_line=0x7fd0c4b930a0 \"cout<<\\\"Number of Events to process \\\"<<chain.GetEntries()<<endl;\\n\\nfs.ProcessData(); //No number give, analyse all events in chain\\ncout<<\\\"Done \\\"<<dm->GetEntry()<< \\\" events \\\"<<endl;\", compRes=\n",
      "0x7fd0daffbc70: cling::Interpreter::kSuccess, result=0x7fd0daffbda0) at /scratch/root/core/metacling/src/TCling.cxx:2060\n",
      "#26 0x00007fd0f4e9fea7 in TCling::ProcessLine (this=0x19609c0, line=<optimized out>, error=0x7fd0daffc020) at /scratch/root/core/metacling/src/TCling.cxx:2218\n",
      "#27 0x00007fd0ed7a5906 in JupyROOTExecutorImpl (code=0x7fd0e82dd054 \"cout<<\\\"Number of Events to process \\\"<<chain.GetEntries()<<endl;\\n\\nfs.ProcessData(); //No number give, analyse all events in chain\\ncout<<\\\"Done \\\"<<dm->GetEntry()<< \\\" events \\\"<<endl;\") at /scratch/root/bindings/pyroot/JupyROOT/src/IOHandler.cxx:139\n",
      "#28 0x00007fd0ed7a59a9 in JupyROOTExecutor (code=<optimized out>) at /scratch/root/bindings/pyroot/JupyROOT/src/IOHandler.cxx:171\n",
      "#29 0x00007fd0ff306dcc in ffi_call_unix64 () from /lib64/libffi.so.6\n",
      "#30 0x00007fd0ff3066f5 in ffi_call () from /lib64/libffi.so.6\n",
      "#31 0x00007fd0ff519beb in _ctypes_callproc () from /usr/lib64/python2.7/lib-dynload/_ctypes.so\n",
      "#32 0x00007fd0ff5139e5 in PyCFuncPtr_call () from /usr/lib64/python2.7/lib-dynload/_ctypes.so\n",
      "#33 0x00007fd10b542a63 in PyObject_Call () from /lib64/libpython2.7.so.1.0\n",
      "#34 0x00007fd10b5d7236 in PyEval_EvalFrameEx () from /lib64/libpython2.7.so.1.0\n",
      "#35 0x00007fd10b5de03d in PyEval_EvalCodeEx () from /lib64/libpython2.7.so.1.0\n",
      "#36 0x00007fd10b567a6d in function_call () from /lib64/libpython2.7.so.1.0\n",
      "#37 0x00007fd10b542a63 in PyObject_Call () from /lib64/libpython2.7.so.1.0\n",
      "#38 0x00007fd10b5d66fd in PyEval_EvalFrameEx () from /lib64/libpython2.7.so.1.0\n",
      "#39 0x00007fd10b5db6bd in PyEval_EvalFrameEx () from /lib64/libpython2.7.so.1.0\n",
      "#40 0x00007fd10b5db6bd in PyEval_EvalFrameEx () from /lib64/libpython2.7.so.1.0\n",
      "#41 0x00007fd10b5de03d in PyEval_EvalCodeEx () from /lib64/libpython2.7.so.1.0\n",
      "#42 0x00007fd10b567978 in function_call () from /lib64/libpython2.7.so.1.0\n",
      "#43 0x00007fd10b542a63 in PyObject_Call () from /lib64/libpython2.7.so.1.0\n",
      "#44 0x00007fd10b551a55 in instancemethod_call () from /lib64/libpython2.7.so.1.0\n",
      "#45 0x00007fd10b542a63 in PyObject_Call () from /lib64/libpython2.7.so.1.0\n",
      "#46 0x00007fd10b5d48f7 in PyEval_CallObjectWithKeywords () from /lib64/libpython2.7.so.1.0\n",
      "#47 0x00007fd10b60c822 in t_bootstrap () from /lib64/libpython2.7.so.1.0\n",
      "#48 0x00007fd10b2e2e25 in start_thread () from /lib64/libpthread.so.0\n",
      "#49 0x00007fd10a903bad in clone () from /lib64/libc.so.6\n",
      "\n",
      "Thread 1 (Thread 0x7fd10babb740 (LWP 14039)):\n",
      "#0  0x00007fd10a8fac73 in select () from /lib64/libc.so.6\n",
      "#1  0x00007fd100f2a000 in time_sleep () from /usr/lib64/python2.7/lib-dynload/timemodule.so\n",
      "#2  0x00007fd10b5dbcf0 in PyEval_EvalFrameEx () from /lib64/libpython2.7.so.1.0\n",
      "#3  0x00007fd10b5de03d in PyEval_EvalCodeEx () from /lib64/libpython2.7.so.1.0\n",
      "#4  0x00007fd10b5db53c in PyEval_EvalFrameEx () from /lib64/libpython2.7.so.1.0\n",
      "#5  0x00007fd10b5de03d in PyEval_EvalCodeEx () from /lib64/libpython2.7.so.1.0\n",
      "#6  0x00007fd10b5db53c in PyEval_EvalFrameEx () from /lib64/libpython2.7.so.1.0\n",
      "#7  0x00007fd10b5de03d in PyEval_EvalCodeEx () from /lib64/libpython2.7.so.1.0\n",
      "#8  0x00007fd10b5db53c in PyEval_EvalFrameEx () from /lib64/libpython2.7.so.1.0\n",
      "#9  0x00007fd10b5de03d in PyEval_EvalCodeEx () from /lib64/libpython2.7.so.1.0\n",
      "#10 0x00007fd10b5db53c in PyEval_EvalFrameEx () from /lib64/libpython2.7.so.1.0\n",
      "#11 0x00007fd10b5de03d in PyEval_EvalCodeEx () from /lib64/libpython2.7.so.1.0\n",
      "#12 0x00007fd10b5db53c in PyEval_EvalFrameEx () from /lib64/libpython2.7.so.1.0\n",
      "#13 0x00007fd10b5de03d in PyEval_EvalCodeEx () from /lib64/libpython2.7.so.1.0\n",
      "#14 0x00007fd10b567a6d in function_call () from /lib64/libpython2.7.so.1.0\n",
      "#15 0x00007fd10b542a63 in PyObject_Call () from /lib64/libpython2.7.so.1.0\n",
      "#16 0x00007fd10b5d66fd in PyEval_EvalFrameEx () from /lib64/libpython2.7.so.1.0\n",
      "#17 0x00007fd10b5de03d in PyEval_EvalCodeEx () from /lib64/libpython2.7.so.1.0\n",
      "#18 0x00007fd10b567a6d in function_call () from /lib64/libpython2.7.so.1.0\n",
      "#19 0x00007fd10b542a63 in PyObject_Call () from /lib64/libpython2.7.so.1.0\n",
      "#20 0x00007fd10b5d66fd in PyEval_EvalFrameEx () from /lib64/libpython2.7.so.1.0\n",
      "#21 0x00007fd10b5de03d in PyEval_EvalCodeEx () from /lib64/libpython2.7.so.1.0\n",
      "#22 0x00007fd10b5db53c in PyEval_EvalFrameEx () from /lib64/libpython2.7.so.1.0\n",
      "#23 0x00007fd10b5de03d in PyEval_EvalCodeEx () from /lib64/libpython2.7.so.1.0\n",
      "#24 0x00007fd10b5db53c in PyEval_EvalFrameEx () from /lib64/libpython2.7.so.1.0\n",
      "#25 0x00007fd10b5de03d in PyEval_EvalCodeEx () from /lib64/libpython2.7.so.1.0\n",
      "#26 0x00007fd10b567a6d in function_call () from /lib64/libpython2.7.so.1.0\n",
      "#27 0x00007fd10b542a63 in PyObject_Call () from /lib64/libpython2.7.so.1.0\n",
      "#28 0x00007fd10b5d66fd in PyEval_EvalFrameEx () from /lib64/libpython2.7.so.1.0\n",
      "#29 0x00007fd10b5de03d in PyEval_EvalCodeEx () from /lib64/libpython2.7.so.1.0\n",
      "#30 0x00007fd10b5db53c in PyEval_EvalFrameEx () from /lib64/libpython2.7.so.1.0\n",
      "#31 0x00007fd10b5de03d in PyEval_EvalCodeEx () from /lib64/libpython2.7.so.1.0\n",
      "#32 0x00007fd10b5db53c in PyEval_EvalFrameEx () from /lib64/libpython2.7.so.1.0\n",
      "#33 0x00007fd10b5de03d in PyEval_EvalCodeEx () from /lib64/libpython2.7.so.1.0\n",
      "#34 0x00007fd10b5db53c in PyEval_EvalFrameEx () from /lib64/libpython2.7.so.1.0\n",
      "#35 0x00007fd10b5de03d in PyEval_EvalCodeEx () from /lib64/libpython2.7.so.1.0\n",
      "#36 0x00007fd10b5db53c in PyEval_EvalFrameEx () from /lib64/libpython2.7.so.1.0\n",
      "#37 0x00007fd10b5de03d in PyEval_EvalCodeEx () from /lib64/libpython2.7.so.1.0\n",
      "#38 0x00007fd10b5db53c in PyEval_EvalFrameEx () from /lib64/libpython2.7.so.1.0\n",
      "#39 0x00007fd10b5de03d in PyEval_EvalCodeEx () from /lib64/libpython2.7.so.1.0\n",
      "#40 0x00007fd10b5de142 in PyEval_EvalCode () from /lib64/libpython2.7.so.1.0\n",
      "#41 0x00007fd10b5da413 in PyEval_EvalFrameEx () from /lib64/libpython2.7.so.1.0\n",
      "#42 0x00007fd10b5de03d in PyEval_EvalCodeEx () from /lib64/libpython2.7.so.1.0\n",
      "#43 0x00007fd10b5db53c in PyEval_EvalFrameEx () from /lib64/libpython2.7.so.1.0\n",
      "#44 0x00007fd10b5de03d in PyEval_EvalCodeEx () from /lib64/libpython2.7.so.1.0\n",
      "#45 0x00007fd10b567978 in function_call () from /lib64/libpython2.7.so.1.0\n",
      "#46 0x00007fd10b542a63 in PyObject_Call () from /lib64/libpython2.7.so.1.0\n",
      "#47 0x00007fd10b609d70 in RunModule () from /lib64/libpython2.7.so.1.0\n",
      "#48 0x00007fd10b60a554 in Py_Main () from /lib64/libpython2.7.so.1.0\n",
      "#49 0x00007fd10a827445 in __libc_start_main () from /lib64/libc.so.6\n",
      "#50 0x000000000040066e in _start ()\n",
      "===========================================================\n",
      "\n",
      "\n",
      "The lines below might hint at the cause of the crash.\n",
      "You may get help by asking at the ROOT forum http://root.cern.ch/forum\n",
      "Only if you are really convinced it is a bug in ROOT then please submit a\n",
      "report at http://root.cern.ch/bugs Please post the ENTIRE stack trace\n",
      "from above as an attachment in addition to anything else\n",
      "that might help us fixing this issue.\n",
      "===========================================================\n",
      "#6  0x00007fd0d946427b in HS::DataManager::ReadEvent(long long) () from /scratch/dglazier/testg8/HASPECT6/hsdata/DataManager_C.so\n",
      "#7  0x00007fd0cabbf701 in HS::FinalState::ProcessData(long long) () from /scratch/dglazier/testg8/HASPECT6/hsfinalstate/FinalState_C.so\n",
      "#8  0x00007fd0e80140b1 in ?? ()\n",
      "#9  0x00007fd0daffb990 in ?? ()\n",
      "#10 0x00007fd0daffb990 in ?? ()\n",
      "#11 0x00007fd0b4f4e328 in ?? ()\n",
      "#12 0x0000000001971ba0 in ?? ()\n",
      "#13 0x0000000001969a10 in ?? ()\n",
      "#14 0x00007fd0f4f69371 in std::_Function_base::_Base_manager<llvm::orc::LazyEmittingLayer<llvm::orc::IRCompileLayer<cling::IncrementalJIT::RemovableObjectLinkingLayer, llvm::orc::SimpleCompiler> >::EmissionDeferredModule::find(llvm::StringRef, bool, llvm::orc::IRCompileLayer<cling::IncrementalJIT::RemovableObjectLinkingLayer, llvm::orc::SimpleCompiler>&)::{lambda()#1}>::_M_manager(std::_Any_data&, std::_Function_base::_Base_manager<llvm::orc::LazyEmittingLayer<llvm::orc::IRCompileLayer<cling::IncrementalJIT::RemovableObjectLinkingLayer, llvm::orc::SimpleCompiler> >::EmissionDeferredModule::find(llvm::StringRef, bool, llvm::orc::IRCompileLayer<cling::IncrementalJIT::RemovableObjectLinkingLayer, llvm::orc::SimpleCompiler>&)::{lambda()#1}> const&, std::_Manager_operation) () from /mnt/share/cern_CentOS7/root/v6.14.04/lib/libCling.so\n",
      "#15 0x00007fd0cabbf5c0 in ?? () from /scratch/dglazier/testg8/HASPECT6/hsfinalstate/FinalState_C.so\n",
      "#16 0x00007fd0f94bbae0 in ?? () from //lib64/libstdc++.so.6\n",
      "#17 0x00007fd0f94bd5e0 in ?? () from //lib64/libstdc++.so.6\n",
      "#18 0x00007fd0f972a640 in ?? () from //lib64/libstdc++.so.6\n",
      "#19 0x00007fd0daffbda0 in ?? ()\n",
      "#20 0x00007fd0daffb9b0 in ?? ()\n",
      "#21 0x00007fd0f4f10d59 in cling::Interpreter::RunFunction(clang::FunctionDecl const*, cling::Value*) () from /mnt/share/cern_CentOS7/root/v6.14.04/lib/libCling.so\n",
      "#22 0x00007fd0f4f11829 in cling::Interpreter::EvaluateInternal(std::string const&, cling::CompilationOptions, cling::Value*, cling::Transaction**, unsigned long) () from /mnt/share/cern_CentOS7/root/v6.14.04/lib/libCling.so\n",
      "#23 0x00007fd0f4f119fe in cling::Interpreter::process(std::string const&, cling::Value*, cling::Transaction**, bool) () from /mnt/share/cern_CentOS7/root/v6.14.04/lib/libCling.so\n",
      "#24 0x00007fd0f4fa5138 in cling::MetaProcessor::process(llvm::StringRef, cling::Interpreter::CompilationResult&, cling::Value*, bool) () from /mnt/share/cern_CentOS7/root/v6.14.04/lib/libCling.so\n",
      "#25 0x00007fd0f4e8a4da in HandleInterpreterException (metaProcessor=0x1b76130, input_line=0x7fd0c4b930a0 \"cout<<\"Number of Events to process \"<<chain.GetEntries()<<endl;nnfs.ProcessData(); //No number give, analyse all events in chainncout<<\"Done \"<<dm->GetEntry()<< \" events \"<<endl;\", compRes=\n",
      "0x7fd0daffbc70: cling::Interpreter::kSuccess, result=0x7fd0daffbda0) at /scratch/root/core/metacling/src/TCling.cxx:2060\n",
      "===========================================================\n",
      "\n",
      "\n"
     ]
    }
   ],
   "source": [
    "cout<<\"Number of Events to process \"<<chain.GetEntries()<<endl;\n",
    "\n",
    "fs.ProcessData(); //No number give, analyse all events in chain\n",
    "cout<<\"Done \"<<dm->GetEntry()<< \" events \"<<endl;"
   ]
  },
  {
   "cell_type": "markdown",
   "metadata": {},
   "source": [
    "And remember to save the tree!"
   ]
  },
  {
   "cell_type": "code",
   "execution_count": null,
   "metadata": {},
   "outputs": [],
   "source": [
    "//delete output;"
   ]
  },
  {
   "cell_type": "code",
   "execution_count": 8,
   "metadata": {},
   "outputs": [],
   "source": [
    "%jsroot on"
   ]
  },
  {
   "cell_type": "code",
   "execution_count": 9,
   "metadata": {},
   "outputs": [],
   "source": [
    "TCanvas c2;\n",
    "output->Tree()->Draw(\"MissMass>>(100,-1,2)\",\"Topo==1\");\n",
    "output->Tree()->Draw(\"MissMass\",\"Topo==0\",\"same\");\n",
    "output->Tree()->Draw(\"MissMass\",\"Topo==2\",\"same\");\n",
    "output->Tree()->Draw(\"MissMass\",\"Topo==3\",\"same\");\n"
   ]
  },
  {
   "cell_type": "code",
   "execution_count": 10,
   "metadata": {},
   "outputs": [
    {
     "data": {
      "text/html": [
       "\n",
       "<div id=\"root_plot_1\"\n",
       "     style=\"width: 696px; height: 472px\">\n",
       "</div>\n",
       "\n",
       "<script>\n",
       " requirejs.config({\n",
       "     paths: {\n",
       "       'JSRootCore' : 'https://root.cern.ch/js/notebook//scripts/JSRootCore',\n",
       "     }\n",
       "   });\n",
       " require(['JSRootCore'],\n",
       "     function(Core) {\n",
       "       var obj = Core.JSONR_unref({\"_typename\":\"TCanvas\",\"fUniqueID\":0,\"fBits\":36896776,\"fLineColor\":1,\"fLineStyle\":1,\"fLineWidth\":1,\"fFillColor\":0,\"fFillStyle\":1001,\"fLeftMargin\":0.1,\"fRightMargin\":0.1,\"fBottomMargin\":0.1,\"fTopMargin\":0.1,\"fXfile\":2,\"fYfile\":2,\"fAfile\":1,\"fXstat\":0.99,\"fYstat\":0.99,\"fAstat\":2,\"fFrameFillColor\":0,\"fFrameLineColor\":1,\"fFrameFillStyle\":1001,\"fFrameLineStyle\":1,\"fFrameLineWidth\":1,\"fFrameBorderSize\":1,\"fFrameBorderMode\":0,\"fX1\":-1.37500002793968,\"fY1\":-133.218759925571,\"fX2\":2.37500002793968,\"fY2\":1198.96875992557,\"fXtoAbsPixelk\":255.200051382828,\"fXtoPixelk\":255.200051382828,\"fXtoPixel\":185.599997234344,\"fYtoAbsPixelk\":424.800047186661,\"fYtoPixelk\":424.800047186661,\"fYtoPixel\":-0.354304475133306,\"fUtoAbsPixelk\":5e-5,\"fUtoPixelk\":5e-5,\"fUtoPixel\":696,\"fVtoAbsPixelk\":472.00005,\"fVtoPixelk\":472,\"fVtoPixel\":-472,\"fAbsPixeltoXk\":-1.37500002793968,\"fPixeltoXk\":-1.37500002793968,\"fPixeltoX\":0.00538793111476919,\"fAbsPixeltoYk\":1198.96875992557,\"fPixeltoYk\":-133.218759925571,\"fPixeltoY\":-2.8224311861253,\"fXlowNDC\":0,\"fYlowNDC\":0,\"fXUpNDC\":0,\"fYUpNDC\":0,\"fWNDC\":1,\"fHNDC\":1,\"fAbsXlowNDC\":0,\"fAbsYlowNDC\":0,\"fAbsWNDC\":1,\"fAbsHNDC\":1,\"fUxmin\":-1,\"fUymin\":0,\"fUxmax\":2,\"fUymax\":1065.75,\"fTheta\":30,\"fPhi\":30,\"fAspectRatio\":0,\"fNumber\":0,\"fTickx\":0,\"fTicky\":0,\"fLogx\":0,\"fLogy\":0,\"fLogz\":0,\"fPadPaint\":0,\"fCrosshair\":0,\"fCrosshairPos\":0,\"fBorderSize\":2,\"fBorderMode\":0,\"fModified\":false,\"fGridx\":false,\"fGridy\":false,\"fAbsCoord\":false,\"fEditable\":true,\"fFixedAspectRatio\":false,\"fPrimitives\":{\"_typename\":\"TList\",\"name\":\"TList\",\"arr\":[{\"_typename\":\"TFrame\",\"fUniqueID\":0,\"fBits\":50331656,\"fLineColor\":1,\"fLineStyle\":1,\"fLineWidth\":1,\"fFillColor\":0,\"fFillStyle\":1001,\"fX1\":-1,\"fY1\":0,\"fX2\":2,\"fY2\":1065.75,\"fBorderSize\":1,\"fBorderMode\":0},{\"_typename\":\"TH1F\",\"fUniqueID\":0,\"fBits\":50331656,\"fName\":\"\",\"fTitle\":\"MissMass {Topo==1}\",\"fLineColor\":602,\"fLineStyle\":1,\"fLineWidth\":1,\"fFillColor\":0,\"fFillStyle\":1001,\"fMarkerColor\":1,\"fMarkerStyle\":1,\"fMarkerSize\":1,\"fNcells\":102,\"fXaxis\":{\"_typename\":\"TAxis\",\"fUniqueID\":0,\"fBits\":50331648,\"fName\":\"xaxis\",\"fTitle\":\"\",\"fNdivisions\":510,\"fAxisColor\":1,\"fLabelColor\":1,\"fLabelFont\":42,\"fLabelOffset\":0.005,\"fLabelSize\":0.035,\"fTickLength\":0.03,\"fTitleOffset\":1,\"fTitleSize\":0.035,\"fTitleColor\":1,\"fTitleFont\":42,\"fNbins\":100,\"fXmin\":-1,\"fXmax\":2,\"fXbins\":[],\"fFirst\":0,\"fLast\":0,\"fBits2\":0,\"fTimeDisplay\":false,\"fTimeFormat\":\"\",\"fLabels\":null,\"fModLabs\":null},\"fYaxis\":{\"_typename\":\"TAxis\",\"fUniqueID\":0,\"fBits\":50331648,\"fName\":\"yaxis\",\"fTitle\":\"\",\"fNdivisions\":510,\"fAxisColor\":1,\"fLabelColor\":1,\"fLabelFont\":42,\"fLabelOffset\":0.005,\"fLabelSize\":0.035,\"fTickLength\":0.03,\"fTitleOffset\":0,\"fTitleSize\":0.035,\"fTitleColor\":1,\"fTitleFont\":42,\"fNbins\":1,\"fXmin\":0,\"fXmax\":1,\"fXbins\":[],\"fFirst\":0,\"fLast\":0,\"fBits2\":0,\"fTimeDisplay\":false,\"fTimeFormat\":\"\",\"fLabels\":null,\"fModLabs\":null},\"fZaxis\":{\"_typename\":\"TAxis\",\"fUniqueID\":0,\"fBits\":50331648,\"fName\":\"zaxis\",\"fTitle\":\"\",\"fNdivisions\":510,\"fAxisColor\":1,\"fLabelColor\":1,\"fLabelFont\":42,\"fLabelOffset\":0.005,\"fLabelSize\":0.035,\"fTickLength\":0.03,\"fTitleOffset\":1,\"fTitleSize\":0.035,\"fTitleColor\":1,\"fTitleFont\":42,\"fNbins\":1,\"fXmin\":0,\"fXmax\":1,\"fXbins\":[],\"fFirst\":0,\"fLast\":0,\"fBits2\":0,\"fTimeDisplay\":false,\"fTimeFormat\":\"\",\"fLabels\":null,\"fModLabs\":null},\"fBarOffset\":0,\"fBarWidth\":1000,\"fEntries\":23356,\"fTsumw\":22208,\"fTsumw2\":22208,\"fTsumwx\":-209.502504715964,\"fTsumwx2\":3986.63335723294,\"fMaximum\":-1111,\"fMinimum\":-1111,\"fNormFactor\":0,\"fContour\":[],\"fSumw2\":[],\"fOption\":\"\",\"fFunctions\":{\"_typename\":\"TList\",\"name\":\"TList\",\"arr\":[{\"_typename\":\"TPaveStats\",\"fUniqueID\":0,\"fBits\":50331657,\"fLineColor\":1,\"fLineStyle\":1,\"fLineWidth\":1,\"fFillColor\":0,\"fFillStyle\":1001,\"fX1\":1.55000007599592,\"fY1\":899.226575899521,\"fX2\":2.30000009834767,\"fY2\":1112.37657431143,\"fX1NDC\":0.780000016093254,\"fY1NDC\":0.775000005960464,\"fX2NDC\":0.980000019073486,\"fY2NDC\":0.935000002384186,\"fBorderSize\":1,\"fInit\":1,\"fShadowColor\":1,\"fCornerRadius\":0,\"fOption\":\"brNDC\",\"fName\":\"stats\",\"fTextAngle\":0,\"fTextSize\":0,\"fTextAlign\":12,\"fTextColor\":1,\"fTextFont\":42,\"fLabel\":\"\",\"fLongest\":18,\"fMargin\":0.05,\"fLines\":{\"_typename\":\"TList\",\"name\":\"TList\",\"arr\":[{\"_typename\":\"TLatex\",\"fUniqueID\":0,\"fBits\":50331648,\"fName\":\"\",\"fTitle\":\"\",\"fTextAngle\":0,\"fTextSize\":0.0368,\"fTextAlign\":0,\"fTextColor\":0,\"fTextFont\":0,\"fX\":0,\"fY\":0,\"fLineColor\":1,\"fLineStyle\":1,\"fLineWidth\":2,\"fLimitFactorSize\":3,\"fOriginSize\":0.04},{\"_typename\":\"TLatex\",\"fUniqueID\":0,\"fBits\":50331648,\"fName\":\"\",\"fTitle\":\"Entries = 23356  \",\"fTextAngle\":0,\"fTextSize\":0,\"fTextAlign\":0,\"fTextColor\":0,\"fTextFont\":0,\"fX\":0,\"fY\":0,\"fLineColor\":1,\"fLineStyle\":1,\"fLineWidth\":2,\"fLimitFactorSize\":3,\"fOriginSize\":0.04},{\"_typename\":\"TLatex\",\"fUniqueID\":0,\"fBits\":50331648,\"fName\":\"\",\"fTitle\":\"Mean  = -0.009434\",\"fTextAngle\":0,\"fTextSize\":0,\"fTextAlign\":0,\"fTextColor\":0,\"fTextFont\":0,\"fX\":0,\"fY\":0,\"fLineColor\":1,\"fLineStyle\":1,\"fLineWidth\":2,\"fLimitFactorSize\":3,\"fOriginSize\":0.04},{\"_typename\":\"TLatex\",\"fUniqueID\":0,\"fBits\":50331648,\"fName\":\"\",\"fTitle\":\"Std Dev   = 0.4236\",\"fTextAngle\":0,\"fTextSize\":0,\"fTextAlign\":0,\"fTextColor\":0,\"fTextFont\":0,\"fX\":0,\"fY\":0,\"fLineColor\":1,\"fLineStyle\":1,\"fLineWidth\":2,\"fLimitFactorSize\":3,\"fOriginSize\":0.04}],\"opt\":[\"\",\"\",\"\",\"\"]},\"fOptFit\":0,\"fOptStat\":1111,\"fFitFormat\":\"5.4g\",\"fStatFormat\":\"6.4g\",\"fParent\":{\"$ref\":3}}],\"opt\":[\"brNDC\"]},\"fBufferSize\":0,\"fBuffer\":[],\"fBinStatErrOpt\":0,\"fStatOverflows\":2,\"fArray\":[1148,68,73,77,78,91,91,93,93,118,120,146,147,154,188,209,255,322,367,397,517,557,690,735,859,889,874,825,769,718,624,444,273,120,27,171,190,245,1015,871,605,754,583,285,367,374,342,390,402,355,686,317,231,184,166,177,154,130,129,142,102,100,116,92,90,72,56,58,56,40,38,33,26,17,11,14,8,0,2,3,1,0,0,0,0,0,0,0,0,0,0,0,0,0,0,0,0,0,0,0,0,0]},{\"_typename\":\"TH1F\",\"fUniqueID\":0,\"fBits\":50331657,\"fName\":\"htemp\",\"fTitle\":\"MissMass {Topo==0}\",\"fLineColor\":602,\"fLineStyle\":1,\"fLineWidth\":1,\"fFillColor\":0,\"fFillStyle\":1001,\"fMarkerColor\":1,\"fMarkerStyle\":1,\"fMarkerSize\":1,\"fNcells\":102,\"fXaxis\":{\"_typename\":\"TAxis\",\"fUniqueID\":0,\"fBits\":50331648,\"fName\":\"xaxis\",\"fTitle\":\"MissMass\",\"fNdivisions\":510,\"fAxisColor\":1,\"fLabelColor\":1,\"fLabelFont\":42,\"fLabelOffset\":0.005,\"fLabelSize\":0.035,\"fTickLength\":0.03,\"fTitleOffset\":1,\"fTitleSize\":0.035,\"fTitleColor\":1,\"fTitleFont\":42,\"fNbins\":100,\"fXmin\":-1,\"fXmax\":2,\"fXbins\":[],\"fFirst\":0,\"fLast\":0,\"fBits2\":0,\"fTimeDisplay\":false,\"fTimeFormat\":\"\",\"fLabels\":null,\"fModLabs\":null},\"fYaxis\":{\"_typename\":\"TAxis\",\"fUniqueID\":0,\"fBits\":50331648,\"fName\":\"yaxis\",\"fTitle\":\"\",\"fNdivisions\":510,\"fAxisColor\":1,\"fLabelColor\":1,\"fLabelFont\":42,\"fLabelOffset\":0.005,\"fLabelSize\":0.035,\"fTickLength\":0.03,\"fTitleOffset\":0,\"fTitleSize\":0.035,\"fTitleColor\":1,\"fTitleFont\":42,\"fNbins\":1,\"fXmin\":0,\"fXmax\":1,\"fXbins\":[],\"fFirst\":0,\"fLast\":0,\"fBits2\":0,\"fTimeDisplay\":false,\"fTimeFormat\":\"\",\"fLabels\":null,\"fModLabs\":null},\"fZaxis\":{\"_typename\":\"TAxis\",\"fUniqueID\":0,\"fBits\":50331648,\"fName\":\"zaxis\",\"fTitle\":\"\",\"fNdivisions\":510,\"fAxisColor\":1,\"fLabelColor\":1,\"fLabelFont\":42,\"fLabelOffset\":0.005,\"fLabelSize\":0.035,\"fTickLength\":0.03,\"fTitleOffset\":1,\"fTitleSize\":0.035,\"fTitleColor\":1,\"fTitleFont\":42,\"fNbins\":1,\"fXmin\":0,\"fXmax\":1,\"fXbins\":[],\"fFirst\":0,\"fLast\":0,\"fBits2\":0,\"fTimeDisplay\":false,\"fTimeFormat\":\"\",\"fLabels\":null,\"fModLabs\":null},\"fBarOffset\":0,\"fBarWidth\":1000,\"fEntries\":455,\"fTsumw\":421,\"fTsumw2\":421,\"fTsumwx\":10.5886782900542,\"fTsumwx2\":57.7647483860183,\"fMaximum\":-1111,\"fMinimum\":-1111,\"fNormFactor\":0,\"fContour\":[],\"fSumw2\":[],\"fOption\":\"\",\"fFunctions\":{\"_typename\":\"TList\",\"name\":\"TList\",\"arr\":[],\"opt\":[]},\"fBufferSize\":0,\"fBuffer\":[],\"fBinStatErrOpt\":0,\"fStatOverflows\":2,\"fArray\":[32,1,2,3,4,1,3,1,2,1,3,0,4,3,2,3,3,2,4,6,5,8,3,4,7,5,8,7,6,9,10,6,10,47,8,5,5,16,40,43,33,20,5,2,5,3,3,2,2,5,4,3,5,3,2,0,3,1,1,2,2,3,4,4,0,0,0,0,1,1,1,0,0,0,1,0,0,0,0,0,0,0,0,0,0,0,0,0,0,0,0,0,0,0,0,0,0,0,0,0,0,2]},{\"_typename\":\"TH1F\",\"fUniqueID\":0,\"fBits\":50331657,\"fName\":\"htemp\",\"fTitle\":\"MissMass {Topo==2}\",\"fLineColor\":602,\"fLineStyle\":1,\"fLineWidth\":1,\"fFillColor\":0,\"fFillStyle\":1001,\"fMarkerColor\":1,\"fMarkerStyle\":1,\"fMarkerSize\":1,\"fNcells\":102,\"fXaxis\":{\"_typename\":\"TAxis\",\"fUniqueID\":0,\"fBits\":50331648,\"fName\":\"xaxis\",\"fTitle\":\"MissMass\",\"fNdivisions\":510,\"fAxisColor\":1,\"fLabelColor\":1,\"fLabelFont\":42,\"fLabelOffset\":0.005,\"fLabelSize\":0.035,\"fTickLength\":0.03,\"fTitleOffset\":1,\"fTitleSize\":0.035,\"fTitleColor\":1,\"fTitleFont\":42,\"fNbins\":100,\"fXmin\":-1,\"fXmax\":2,\"fXbins\":[],\"fFirst\":0,\"fLast\":0,\"fBits2\":0,\"fTimeDisplay\":false,\"fTimeFormat\":\"\",\"fLabels\":null,\"fModLabs\":null},\"fYaxis\":{\"_typename\":\"TAxis\",\"fUniqueID\":0,\"fBits\":50331648,\"fName\":\"yaxis\",\"fTitle\":\"\",\"fNdivisions\":510,\"fAxisColor\":1,\"fLabelColor\":1,\"fLabelFont\":42,\"fLabelOffset\":0.005,\"fLabelSize\":0.035,\"fTickLength\":0.03,\"fTitleOffset\":0,\"fTitleSize\":0.035,\"fTitleColor\":1,\"fTitleFont\":42,\"fNbins\":1,\"fXmin\":0,\"fXmax\":1,\"fXbins\":[],\"fFirst\":0,\"fLast\":0,\"fBits2\":0,\"fTimeDisplay\":false,\"fTimeFormat\":\"\",\"fLabels\":null,\"fModLabs\":null},\"fZaxis\":{\"_typename\":\"TAxis\",\"fUniqueID\":0,\"fBits\":50331648,\"fName\":\"zaxis\",\"fTitle\":\"\",\"fNdivisions\":510,\"fAxisColor\":1,\"fLabelColor\":1,\"fLabelFont\":42,\"fLabelOffset\":0.005,\"fLabelSize\":0.035,\"fTickLength\":0.03,\"fTitleOffset\":1,\"fTitleSize\":0.035,\"fTitleColor\":1,\"fTitleFont\":42,\"fNbins\":1,\"fXmin\":0,\"fXmax\":1,\"fXbins\":[],\"fFirst\":0,\"fLast\":0,\"fBits2\":0,\"fTimeDisplay\":false,\"fTimeFormat\":\"\",\"fLabels\":null,\"fModLabs\":null},\"fBarOffset\":0,\"fBarWidth\":1000,\"fEntries\":3644,\"fTsumw\":3503,\"fTsumw2\":3503,\"fTsumwx\":-366.16748345756,\"fTsumwx2\":569.255385902715,\"fMaximum\":-1111,\"fMinimum\":-1111,\"fNormFactor\":0,\"fContour\":[],\"fSumw2\":[],\"fOption\":\"\",\"fFunctions\":{\"_typename\":\"TList\",\"name\":\"TList\",\"arr\":[],\"opt\":[]},\"fBufferSize\":0,\"fBuffer\":[],\"fBinStatErrOpt\":0,\"fStatOverflows\":2,\"fArray\":[141,15,7,11,9,11,8,15,13,22,23,23,13,34,35,53,63,78,81,94,104,97,106,118,148,157,166,164,180,149,150,161,120,56,15,62,85,59,41,24,28,34,31,38,33,29,32,37,21,32,90,45,16,26,16,26,18,26,25,19,14,18,18,13,12,14,6,3,4,3,2,1,2,1,0,0,0,0,0,0,0,0,0,0,0,0,0,0,0,0,0,0,0,0,0,0,0,0,0,0,0,0]},{\"_typename\":\"TH1F\",\"fUniqueID\":0,\"fBits\":50331657,\"fName\":\"htemp\",\"fTitle\":\"MissMass {Topo==3}\",\"fLineColor\":602,\"fLineStyle\":1,\"fLineWidth\":1,\"fFillColor\":0,\"fFillStyle\":1001,\"fMarkerColor\":1,\"fMarkerStyle\":1,\"fMarkerSize\":1,\"fNcells\":102,\"fXaxis\":{\"_typename\":\"TAxis\",\"fUniqueID\":0,\"fBits\":50331648,\"fName\":\"xaxis\",\"fTitle\":\"MissMass\",\"fNdivisions\":510,\"fAxisColor\":1,\"fLabelColor\":1,\"fLabelFont\":42,\"fLabelOffset\":0.005,\"fLabelSize\":0.035,\"fTickLength\":0.03,\"fTitleOffset\":1,\"fTitleSize\":0.035,\"fTitleColor\":1,\"fTitleFont\":42,\"fNbins\":100,\"fXmin\":-1,\"fXmax\":2,\"fXbins\":[],\"fFirst\":0,\"fLast\":0,\"fBits2\":0,\"fTimeDisplay\":false,\"fTimeFormat\":\"\",\"fLabels\":null,\"fModLabs\":null},\"fYaxis\":{\"_typename\":\"TAxis\",\"fUniqueID\":0,\"fBits\":50331648,\"fName\":\"yaxis\",\"fTitle\":\"\",\"fNdivisions\":510,\"fAxisColor\":1,\"fLabelColor\":1,\"fLabelFont\":42,\"fLabelOffset\":0.005,\"fLabelSize\":0.035,\"fTickLength\":0.03,\"fTitleOffset\":0,\"fTitleSize\":0.035,\"fTitleColor\":1,\"fTitleFont\":42,\"fNbins\":1,\"fXmin\":0,\"fXmax\":1,\"fXbins\":[],\"fFirst\":0,\"fLast\":0,\"fBits2\":0,\"fTimeDisplay\":false,\"fTimeFormat\":\"\",\"fLabels\":null,\"fModLabs\":null},\"fZaxis\":{\"_typename\":\"TAxis\",\"fUniqueID\":0,\"fBits\":50331648,\"fName\":\"zaxis\",\"fTitle\":\"\",\"fNdivisions\":510,\"fAxisColor\":1,\"fLabelColor\":1,\"fLabelFont\":42,\"fLabelOffset\":0.005,\"fLabelSize\":0.035,\"fTickLength\":0.03,\"fTitleOffset\":1,\"fTitleSize\":0.035,\"fTitleColor\":1,\"fTitleFont\":42,\"fNbins\":1,\"fXmin\":0,\"fXmax\":1,\"fXbins\":[],\"fFirst\":0,\"fLast\":0,\"fBits2\":0,\"fTimeDisplay\":false,\"fTimeFormat\":\"\",\"fLabels\":null,\"fModLabs\":null},\"fBarOffset\":0,\"fBarWidth\":1000,\"fEntries\":633,\"fTsumw\":545,\"fTsumw2\":545,\"fTsumwx\":323.541990812032,\"fTsumwx2\":386.896452502599,\"fMaximum\":-1111,\"fMinimum\":-1111,\"fNormFactor\":0,\"fContour\":[],\"fSumw2\":[],\"fOption\":\"\",\"fFunctions\":{\"_typename\":\"TList\",\"name\":\"TList\",\"arr\":[],\"opt\":[]},\"fBufferSize\":0,\"fBuffer\":[],\"fBinStatErrOpt\":0,\"fStatOverflows\":2,\"fArray\":[88,2,1,3,3,1,6,3,4,4,6,1,3,3,6,4,3,4,3,0,2,4,6,2,1,4,4,2,2,2,0,2,1,1,0,0,2,1,2,1,1,5,5,3,8,6,2,3,6,5,7,4,4,11,10,10,18,32,25,43,30,16,13,10,13,31,11,9,12,8,10,4,6,2,6,7,7,8,4,5,3,4,4,1,4,1,2,2,1,2,1,0,1,0,0,0,0,0,0,0,0,0]},{\"_typename\":\"TPaveText\",\"fUniqueID\":0,\"fBits\":50331657,\"fLineColor\":1,\"fLineStyle\":1,\"fLineWidth\":1,\"fFillColor\":0,\"fFillStyle\":0,\"fX1\":-0.178663803216328,\"fY1\":1111.02181051827,\"fX2\":1.17866380321633,\"fY2\":1192.30782867868,\"fX1NDC\":0.319022988505747,\"fY1NDC\":0.933983055615829,\"fX2NDC\":0.680977011494253,\"fY2NDC\":0.995000004768372,\"fBorderSize\":0,\"fInit\":1,\"fShadowColor\":1,\"fCornerRadius\":0,\"fOption\":\"blNDC\",\"fName\":\"title\",\"fTextAngle\":0,\"fTextSize\":0,\"fTextAlign\":22,\"fTextColor\":1,\"fTextFont\":42,\"fLabel\":\"\",\"fLongest\":18,\"fMargin\":0.05,\"fLines\":{\"_typename\":\"TList\",\"name\":\"TList\",\"arr\":[{\"_typename\":\"TLatex\",\"fUniqueID\":0,\"fBits\":50331648,\"fName\":\"\",\"fTitle\":\"MissMass {Topo==1}\",\"fTextAngle\":0,\"fTextSize\":0,\"fTextAlign\":0,\"fTextColor\":0,\"fTextFont\":0,\"fX\":0,\"fY\":0,\"fLineColor\":1,\"fLineStyle\":1,\"fLineWidth\":2,\"fLimitFactorSize\":3,\"fOriginSize\":0.0518644079566002}],\"opt\":[\"\"]}}],\"opt\":[\"\",\"\",\"same\",\"same\",\"same\",\"blNDC\"]},\"fExecs\":null,\"fName\":\"c1\",\"fTitle\":\"c1\",\"fNumPaletteColor\":0,\"fNextPaletteColor\":0,\"fDISPLAY\":\"$DISPLAY\",\"fDoubleBuffer\":0,\"fRetained\":true,\"fXsizeUser\":0,\"fYsizeUser\":0,\"fXsizeReal\":20,\"fYsizeReal\":14.28571,\"fWindowTopX\":0,\"fWindowTopY\":0,\"fWindowWidth\":0,\"fWindowHeight\":0,\"fCw\":696,\"fCh\":472,\"fCatt\":{\"_typename\":\"TAttCanvas\",\"fXBetween\":2,\"fYBetween\":2,\"fTitleFromTop\":1.2,\"fXdate\":0.2,\"fYdate\":0.3,\"fAdate\":1},\"kMoveOpaque\":true,\"kResizeOpaque\":true,\"fHighLightColor\":2,\"fBatch\":true,\"kShowEventStatus\":false,\"kAutoExec\":true,\"kMenuBar\":true});\n",
       "       Core.draw(\"root_plot_1\", obj, \"\");\n",
       "     }\n",
       " );\n",
       "</script>\n"
      ],
      "text/plain": [
       "<IPython.core.display.HTML object>"
      ]
     },
     "metadata": {},
     "output_type": "display_data"
    }
   ],
   "source": [
    "c2.Draw();"
   ]
  }
 ],
 "metadata": {
  "kernelspec": {
   "display_name": "ROOT C++",
   "language": "c++",
   "name": "root"
  },
  "language_info": {
   "codemirror_mode": "text/x-c++src",
   "file_extension": ".C",
   "mimetype": " text/x-c++src",
   "name": "c++"
  }
 },
 "nbformat": 4,
 "nbformat_minor": 2
}
