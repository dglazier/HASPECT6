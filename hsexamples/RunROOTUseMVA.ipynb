{
 "cells": [
  {
   "cell_type": "markdown",
   "metadata": {},
   "source": [
    "# Run the final state algorithm on a ROOT HSDATA file\n",
    "\n",
    "Here we use the results of the trained TMVA to classifier on our data. This is done via the SignalID"
   ]
  },
  {
   "cell_type": "code",
   "execution_count": 1,
   "metadata": {
    "scrolled": true
   },
   "outputs": [
    {
     "name": "stdout",
     "output_type": "stream",
     "text": [
      "%%%%%%%%%%%%%%%%%%%%%%%%%    THSParticle\n",
      "%%%%%%%%%%%%%%%%%%%%%%%%%    EventInfo\n",
      "%%%%%%%%%%%%%%%%%%%%%%%%%    RunInfo\n",
      "%%%%%%%%%%%%%%%%%%%%%%%%%    THSWeights\n"
     ]
    },
    {
     "name": "stderr",
     "output_type": "stream",
     "text": [
      "In file included from LoadFinalState_C_ACLiC_dict dictionary payload:10:\n",
      "\u001b[1m/scratch/dglazier/tesths/HASPECT6/hsfinalstate/LoadFinalState.C:11:6: \u001b[0m\u001b[0;1;31merror: \u001b[0m\u001b[1mredefinition of 'LoadFinalState'\u001b[0m\n",
      "void LoadFinalState(){\n",
      "\u001b[0;1;32m     ^\n",
      "\u001b[0m\u001b[1m/scratch/dglazier/testg8/HASPECT6/hsfinalstate/LoadFinalState.C:11:6: \u001b[0m\u001b[0;1;30mnote: \u001b[0mprevious definition is here\u001b[0m\n",
      "void LoadFinalState(){\n",
      "\u001b[0;1;32m     ^\n",
      "\u001b[0mWarning in <TInterpreter::TCling::RegisterModule>: Problems declaring payload for module LoadFinalState_C_ACLiC_dict.\n"
     ]
    },
    {
     "name": "stdout",
     "output_type": "stream",
     "text": [
      "%%%%%%%%%%%%%%%%%%%%%%%%%    DataManager\n",
      "%%%%%%%%%%%%%%%%%%%%%%%%%    LundReader\n",
      "&&&&&&&&&&&&&&&&&&&&&&&&&&&& HSKinematics\n",
      "&&&&&&&&&&&&&&&&&&&&&&&&&&&& Cuts\n",
      "&&&&&&&&&&&&&&&&&&&&&&&&&&&& Combitorial\n",
      "&&&&&&&&&&&&&&&&&&&&&&&&&&&& ParticleIter\n",
      "&&&&&&&&&&&&&&&&&&&&&&&&&&&& Topology\n",
      "&&&&&&&&&&&&&&&&&&&&&&&&&&&& FinalState\n",
      "&&&&&&&&&&&&&&&&&&&&&&&&&&&& FiledTree\n",
      "&&&&&&&&&&&&&&&&&&&&&&&&&&&& TreeData\n",
      "&&&&&&&&&&&&&&&&&&&&&&&&&&&& TopoActionManager\n",
      "&&&&&&&&&&&&&&&&&&&&&&&&&&&& ParticleCuts\n",
      "&&&&&&&&&&&&&&&&&&&&&&&&&&&& VarsParticle\n",
      "&&&&&&&&&&&&&&&&&&&&&&&&&&&& TreePrepParticle\n",
      "&&&&&&&&&&&&&&&&&&&&&&&&&&&& MVASignalID\n",
      "&&&&&&&&&&&&&&&&&&&&&&&&&&&& ParticleCutsManager\n",
      "&&&&&&&&&&&&&&&&&&&&&&&&&&&& TreePrepManager\n",
      "&&&&&&&&&&&&&&&&&&&&&&&&&&&& MVASignalIDManager\n",
      "&&&&&&&&&&&&&&&&&&&&&&&&&&&& CLAS/CLASTrigger\n",
      "&&&&&&&&&&&&&&&&&&&&&&&&&&&& CLAS12/CLAS12Trigger\n",
      "&&&&&&&&&&&&&&&&&&&&&&&&&&&& CLAS12/CLAS12DeltaTime\n"
     ]
    }
   ],
   "source": [
    "gROOT->ProcessLine(\".x LoadK2.C+\");"
   ]
  },
  {
   "cell_type": "markdown",
   "metadata": {},
   "source": [
    "First create an object of your final state class. You may configure it if you want to limit the number of particles in an event or set to just run on generated simulation data.\n",
    "This notebook is equivalent to the RunFSRootXXX.C macro which will be in the code directory.\n",
    "Again just change XXX for your class name."
   ]
  },
  {
   "cell_type": "code",
   "execution_count": 2,
   "metadata": {
    "scrolled": false
   },
   "outputs": [
    {
     "name": "stdout",
     "output_type": "stream",
     "text": [
      "Charge ID particle are  -22 \n",
      " WARNING running HS::FinalState::AutoIter() you  should check the topology print output and make sure the displayed iterator is waht you want ..\n",
      "Charge ID particle are  -22 \n",
      " WARNING running HS::FinalState::AutoIter() you  should check the topology print output and make sure the displayed iterator is waht you want ..\n",
      "Charge ID particle are  -22 \n",
      " WARNING running HS::FinalState::AutoIter() you  should check the topology print output and make sure the displayed iterator is waht you want ..\n",
      "Charge ID particle are  -22 \n",
      " WARNING running HS::FinalState::AutoIter() you  should check the topology print output and make sure the displayed iterator is waht you want ..\n",
      " Topology::Print() : 0\n",
      "    particles = -10000 -22 10000 10000 \n",
      "You can have any number of the following particles : \n",
      " ALL \n",
      "The following particle are identified by pdg code : \n",
      "-22 \n",
      " ParticleIter::Print() \n",
      "     Type : 2 number chosen 1 of id  -321 and number used here = 1\n",
      " ParticleIter::Print() \n",
      "     Type : 2 number chosen 1 of id  -22 and number used here = 1\n",
      " ParticleIter::Print() \n",
      "     Type : 2 number chosen 1 of id  2212 and number used here = 1\n",
      " ParticleIter::Print() \n",
      "     Type : 2 number chosen 1 of id  321 and number used here = 1\n",
      "\n",
      " Topology::Print() : 1\n",
      "    particles = -22 10000 10000 \n",
      "You can have any number of the following particles : \n",
      " ALL \n",
      "The following particle are identified by pdg code : \n",
      "-22 \n",
      " ParticleIter::Print() \n",
      "     Type : 2 number chosen 1 of id  -22 and number used here = 1\n",
      " ParticleIter::Print() \n",
      "     Type : 2 number chosen 1 of id  2212 and number used here = 1\n",
      " ParticleIter::Print() \n",
      "     Type : 2 number chosen 1 of id  321 and number used here = 1\n",
      "\n",
      " Topology::Print() : 2\n",
      "    particles = -10000 -22 10000 \n",
      "You can have any number of the following particles : \n",
      " ALL \n",
      "The following particle are identified by pdg code : \n",
      "-22 \n",
      " ParticleIter::Print() \n",
      "     Type : 2 number chosen 1 of id  -321 and number used here = 1\n",
      " ParticleIter::Print() \n",
      "     Type : 2 number chosen 1 of id  -22 and number used here = 1\n",
      " ParticleIter::Print() \n",
      "     Type : 2 number chosen 1 of id  2212 and number used here = 1\n",
      "\n",
      " Topology::Print() : 3\n",
      "    particles = -10000 -22 10000 \n",
      "You can have any number of the following particles : \n",
      " ALL \n",
      "The following particle are identified by pdg code : \n",
      "-22 \n",
      " ParticleIter::Print() \n",
      "     Type : 2 number chosen 1 of id  -321 and number used here = 1\n",
      " ParticleIter::Print() \n",
      "     Type : 2 number chosen 1 of id  -22 and number used here = 1\n",
      " ParticleIter::Print() \n",
      "     Type : 2 number chosen 1 of id  321 and number used here = 1\n",
      "\n"
     ]
    }
   ],
   "source": [
    " K2 fs(\"Beam\",\"ALL\");\n",
    "  // fs.SetGenerated(); //just analyse generated branch\n",
    "  // fs.SetMaxParticles(10); //max number of particles of any 1 type\n",
    " "
   ]
  },
  {
   "cell_type": "markdown",
   "metadata": {},
   "source": [
    "Create an output tree. Here we will use a FiledTree object which is a wrapper class to a tree in a file. We will also create this as a smart pointer so we can delete it at the end by calling reset(), this will save the tree to disk. The Filed tree needs 2 strings ,1 a treename and the other the file name. You should give the full path for where you would like the files saved. It will overwrite any existing files. "
   ]
  },
  {
   "cell_type": "code",
   "execution_count": 3,
   "metadata": {},
   "outputs": [],
   "source": [
    "auto output = new HS::FiledTree(\"tt\",\"testmvamlpinc2_sim.root\");\n",
    "fs.FinalStateOutTree(output->Tree()); //connect ouput tree to final state branches"
   ]
  },
  {
   "cell_type": "markdown",
   "metadata": {},
   "source": [
    "Here we add the cuts for each particle. This is done via a HS::Cuts object which gets propogated to each particle in each topology. To specify any type of cut behaviour you need to generate your own Cuts Method. Here we just use a predefined delta time cut but you could make your won class which has momentum dependence as well."
   ]
  },
  {
   "cell_type": "markdown",
   "metadata": {},
   "source": [
    "**Making your own cuts class** Here I use a new cuts class DeltaTimePCut. You can make your own cuts follwing the example notebook [DeltaTimePCut](MakeDeltaTimePCut.ipynb)"
   ]
  },
  {
   "cell_type": "code",
   "execution_count": 4,
   "metadata": {},
   "outputs": [
    {
     "name": "stdout",
     "output_type": "stream",
     "text": [
      "Info ParticleCutsManager AddParticleCut set cut for 0\n",
      "Info ParticleCutsManager AddParticleCut set cut for -22\n"
     ]
    }
   ],
   "source": [
    "ParticleCutsManager cutsman;\n",
    "auto beamCut=make_shared<DeltaTimePCut>(20,3); //7ns delta time cut\n",
    "auto otherCut=make_shared<DeltaTimePCut>(20,3); //10ns cut for all other particles\n",
    "cutsman.AddParticleCut(\"Beam\",beamCut); //assign to manager\n",
    "cutsman.SetDefaultCut(otherCut); //assign to manager\n",
    "cutsman.ConfigureCuts(&fs);    //propogate the cuts to topologies in fs"
   ]
  },
  {
   "cell_type": "markdown",
   "metadata": {},
   "source": [
    "Now register the cuts manager as a post topology function action. This will be applied after the Topo_0 etc functions when start times etc have been determined. "
   ]
  },
  {
   "cell_type": "code",
   "execution_count": 5,
   "metadata": {},
   "outputs": [],
   "source": [
    "fs.RegisterPostTopoAction(&cutsman);"
   ]
  },
  {
   "cell_type": "markdown",
   "metadata": {},
   "source": [
    "**Particle Monitoring** here we are going to make seperate trees for each topology and only keep the detected particle information in each one."
   ]
  },
  {
   "cell_type": "code",
   "execution_count": 6,
   "metadata": {
    "scrolled": true
   },
   "outputs": [],
   "source": [
    "//auto treeman=new TreePrepManager(\"/scratch/dglazier/g8/particles/t3UseMVAMLPINC\");\n",
    "//treeman->SetParticleVars(\"Beam\",{\"P\",\"Time\"}); //For beam only interesetef in energy and time\n",
    "//treeman->ConfigureTreeParticles(&fs); //propogate through topologies\n",
    "//treeman.SetN(50000); //Number of events required for each topo. Number of train+test events must be less than this\n",
    "//fs.RegisterPostWorkAction(treeman); //register post-work i.e. after kinematics is called and all calculations"
   ]
  },
  {
   "cell_type": "code",
   "execution_count": 7,
   "metadata": {},
   "outputs": [
    {
     "name": "stdout",
     "output_type": "stream",
     "text": [
      "Adding Beam\n",
      "    Current number of particles: 0\n",
      " Resized vectors to fill: 1, 1\n",
      "Added 2 (Float_t) / \n",
      "Current particles: Beam  \n",
      "Adding Proton\n",
      "    Current number of particles: 1\n",
      " Resized vectors to fill: 2, 2\n",
      "Added 6 (Float_t) / \n",
      "Current particles: Beam Proton  \n",
      "Adding Kp\n",
      "    Current number of particles: 2\n",
      " Resized vectors to fill: 3, 3\n",
      "Added 6 (Float_t) / \n",
      "Current particles: Beam Proton Kp  \n",
      "Adding Km\n",
      "    Current number of particles: 3\n",
      " Resized vectors to fill: 4, 4\n",
      "Added 6 (Float_t) / \n",
      "Current particles: Beam Proton Kp Km  \n",
      "Setting variable links...\n",
      "Printing variables:  4\n",
      "   number of vars 2\n",
      "            BeamP   0 / 0\n",
      "            BeamTime   0 / 1\n",
      "   number of vars 6\n",
      "            ProtonP   1 / 0\n",
      "            ProtonTh   1 / 1\n",
      "            ProtonPhi   1 / 2\n",
      "            ProtonTime   1 / 3\n",
      "            ProtonEdep   1 / 4\n",
      "            ProtonDeltaE   1 / 5\n",
      "   number of vars 6\n",
      "            KpP   2 / 0\n",
      "            KpTh   2 / 1\n",
      "            KpPhi   2 / 2\n",
      "            KpTime   2 / 3\n",
      "            KpEdep   2 / 4\n",
      "            KpDeltaE   2 / 5\n",
      "   number of vars 6\n",
      "            KmP   3 / 0\n",
      "            KmTh   3 / 1\n",
      "            KmPhi   3 / 2\n",
      "            KmTime   3 / 3\n",
      "            KmEdep   3 / 4\n",
      "            KmDeltaE   3 / 5\n",
      "                         : Booking \"MLP\" of type \"MLP\" from /scratch/dglazier/g8/particles/t3MVAMLP/Topo0/weights/Topo0_MLP.weights.xml.\n",
      "                         : Reading weight file: /scratch/dglazier/g8/particles/t3MVAMLP/Topo0/weights/Topo0_MLP.weights.xml\n",
      "<HEADER> DataSetInfo              : [Default] : Added class \"Signal\"\n",
      "<HEADER> DataSetInfo              : [Default] : Added class \"Background\"\n",
      "<HEADER> MLP                      : Building Network. \n",
      "                         : Initializing weights\n",
      "                         : Booked classifier \"MLP\" of type: \"MLP\"\n",
      "Adding Beam\n",
      "    Current number of particles: 0\n",
      " Resized vectors to fill: 1, 1\n",
      "Added 2 (Float_t) / \n",
      "Current particles: Beam  \n",
      "Adding Proton\n",
      "    Current number of particles: 1\n",
      " Resized vectors to fill: 2, 2\n",
      "Added 6 (Float_t) / \n",
      "Current particles: Beam Proton  \n",
      "Adding Kp\n",
      "    Current number of particles: 2\n",
      " Resized vectors to fill: 3, 3\n",
      "Added 6 (Float_t) / \n",
      "Current particles: Beam Proton Kp  \n",
      "Setting variable links...\n",
      "Printing variables:  3\n",
      "   number of vars 2\n",
      "            BeamP   0 / 0\n",
      "            BeamTime   0 / 1\n",
      "   number of vars 6\n",
      "            ProtonP   1 / 0\n",
      "            ProtonTh   1 / 1\n",
      "            ProtonPhi   1 / 2\n",
      "            ProtonTime   1 / 3\n",
      "            ProtonEdep   1 / 4\n",
      "            ProtonDeltaE   1 / 5\n",
      "   number of vars 6\n",
      "            KpP   2 / 0\n",
      "            KpTh   2 / 1\n",
      "            KpPhi   2 / 2\n",
      "            KpTime   2 / 3\n",
      "            KpEdep   2 / 4\n",
      "            KpDeltaE   2 / 5\n",
      "                         : Booking \"MLP\" of type \"MLP\" from /scratch/dglazier/g8/particles/t3MVAMLP/Topo1/weights/Topo1_MLP.weights.xml.\n",
      "                         : Reading weight file: /scratch/dglazier/g8/particles/t3MVAMLP/Topo1/weights/Topo1_MLP.weights.xml\n",
      "<HEADER> DataSetInfo              : [Default] : Added class \"Signal\"\n",
      "<HEADER> DataSetInfo              : [Default] : Added class \"Background\"\n",
      "<HEADER> MLP                      : Building Network. \n",
      "                         : Initializing weights\n",
      "                         : Booked classifier \"MLP\" of type: \"MLP\"\n",
      "Adding Beam\n",
      "    Current number of particles: 0\n",
      " Resized vectors to fill: 1, 1\n",
      "Added 2 (Float_t) / \n",
      "Current particles: Beam  \n",
      "Adding Proton\n",
      "    Current number of particles: 1\n",
      " Resized vectors to fill: 2, 2\n",
      "Added 6 (Float_t) / \n",
      "Current particles: Beam Proton  \n",
      "Adding Km\n",
      "    Current number of particles: 2\n",
      " Resized vectors to fill: 3, 3\n",
      "Added 6 (Float_t) / \n",
      "Current particles: Beam Proton Km  \n",
      "Setting variable links...\n",
      "Printing variables:  3\n",
      "   number of vars 2\n",
      "            BeamP   0 / 0\n",
      "            BeamTime   0 / 1\n",
      "   number of vars 6\n",
      "            ProtonP   1 / 0\n",
      "            ProtonTh   1 / 1\n",
      "            ProtonPhi   1 / 2\n",
      "            ProtonTime   1 / 3\n",
      "            ProtonEdep   1 / 4\n",
      "            ProtonDeltaE   1 / 5\n",
      "   number of vars 6\n",
      "            KmP   2 / 0\n",
      "            KmTh   2 / 1\n",
      "            KmPhi   2 / 2\n",
      "            KmTime   2 / 3\n",
      "            KmEdep   2 / 4\n",
      "            KmDeltaE   2 / 5\n",
      "                         : Booking \"MLP\" of type \"MLP\" from /scratch/dglazier/g8/particles/t3MVAMLP/Topo2/weights/Topo2_MLP.weights.xml.\n",
      "                         : Reading weight file: /scratch/dglazier/g8/particles/t3MVAMLP/Topo2/weights/Topo2_MLP.weights.xml\n",
      "<HEADER> DataSetInfo              : [Default] : Added class \"Signal\"\n",
      "<HEADER> DataSetInfo              : [Default] : Added class \"Background\"\n",
      "<HEADER> MLP                      : Building Network. \n",
      "                         : Initializing weights\n",
      "                         : Booked classifier \"MLP\" of type: \"MLP\"\n",
      "Adding Beam\n",
      "    Current number of particles: 0\n",
      " Resized vectors to fill: 1, 1\n",
      "Added 2 (Float_t) / \n",
      "Current particles: Beam  \n",
      "Adding Kp\n",
      "    Current number of particles: 1\n",
      " Resized vectors to fill: 2, 2\n",
      "Added 6 (Float_t) / \n",
      "Current particles: Beam Kp  \n",
      "Adding Km\n",
      "    Current number of particles: 2\n",
      " Resized vectors to fill: 3, 3\n",
      "Added 6 (Float_t) / \n",
      "Current particles: Beam Kp Km  \n",
      "Setting variable links...\n",
      "Printing variables:  3\n",
      "   number of vars 2\n",
      "            BeamP   0 / 0\n",
      "            BeamTime   0 / 1\n",
      "   number of vars 6\n",
      "            KpP   1 / 0\n",
      "            KpTh   1 / 1\n",
      "            KpPhi   1 / 2\n",
      "            KpTime   1 / 3\n",
      "            KpEdep   1 / 4\n",
      "            KpDeltaE   1 / 5\n",
      "   number of vars 6\n",
      "            KmP   2 / 0\n",
      "            KmTh   2 / 1\n",
      "            KmPhi   2 / 2\n",
      "            KmTime   2 / 3\n",
      "            KmEdep   2 / 4\n",
      "            KmDeltaE   2 / 5\n",
      "                         : Booking \"MLP\" of type \"MLP\" from /scratch/dglazier/g8/particles/t3MVAMLP/Topo3/weights/Topo3_MLP.weights.xml.\n",
      "                         : Reading weight file: /scratch/dglazier/g8/particles/t3MVAMLP/Topo3/weights/Topo3_MLP.weights.xml\n",
      "<HEADER> DataSetInfo              : [Default] : Added class \"Signal\"\n",
      "<HEADER> DataSetInfo              : [Default] : Added class \"Background\"\n",
      "<HEADER> MLP                      : Building Network. \n",
      "                         : Initializing weights\n",
      "                         : Booked classifier \"MLP\" of type: \"MLP\"\n"
     ]
    }
   ],
   "source": [
    "MVASignalIDManager sid(\"/scratch/dglazier/g8/particles/t3MVAMLP\"); //directory from training\n",
    "sid.SetParticleVars(\"Beam\",{\"P\",\"Time\"});\n",
    "sid.ConfigureResults(\"MLP\",&fs);\n",
    "sid.SetCut(0.1); //Set classifier cut value, this will be applied to all events\n",
    "fs.RegisterPostTopoAction(&sid);"
   ]
  },
  {
   "cell_type": "markdown",
   "metadata": {},
   "source": [
    "Now we configure the input data. Here we use a ROOT file presaved in HSDATA format. It is possible to analyse other dataformats via the DataManager class."
   ]
  },
  {
   "cell_type": "code",
   "execution_count": 8,
   "metadata": {},
   "outputs": [
    {
     "name": "stderr",
     "output_type": "stream",
     "text": [
      "Info in <DataManager::InitChain>:  Will proceess all 1 files in chain\n"
     ]
    },
    {
     "name": "stdout",
     "output_type": "stream",
     "text": [
      "DataManager::InitReader set branch 0x7fa624dff0f8 0x7fa624dff0f8\n",
      "DataManager::InitReader set branch Generated 0x7fa624dff118 \n"
     ]
    }
   ],
   "source": [
    " //create datamanager\n",
    "  auto dm=std::make_shared<DataManager>();\n",
    "\n",
    "  //And make a chain of data files\n",
    "  TChain chain(\"HSParticles\");\n",
    "  //chain.Add(\"/w/work1/jlab/hallb/HS_g8/1_9_list/flist_048088.dat.root\");\n",
    "  //chain.Add(\"/w/work1/jlab/hallb/HS_g8/1_9_list/flist_048089.dat.root\");\n",
    "  //chain.Add(\"/w/work1/jlab/hallb/HS_g8/1_9_list/flist_048090.dat.root\");\n",
    "  // chain.Add(\"/w/work1/jlab/hallb/HS_g8/1_9_list/flist_*.dat.root\");\n",
    "\n",
    "  chain.Add(\"/w/work1/jlab/hallb/HSg8/g8sim_2k_b/rec_edgen_.root\");\n",
    "   dm->InitChain(&chain);\n",
    "\n",
    "  //connect FinalState to Data by moving the pointer\n",
    "  fs.SetDataManager(dm);"
   ]
  },
  {
   "cell_type": "markdown",
   "metadata": {},
   "source": [
    "Analyse all the events. Not you may prefer just looping over the data manager directly via while(dm->ReadEvent()) fs->Process();\n",
    "You can also supply a number of events to analyse e.g. fs.ProcessData(100);"
   ]
  },
  {
   "cell_type": "code",
   "execution_count": 9,
   "metadata": {
    "scrolled": false
   },
   "outputs": [
    {
     "name": "stdout",
     "output_type": "stream",
     "text": [
      "Number of Events to process 9895530\n",
      " ProcessData event 100000\n",
      " ProcessData event 200000\n",
      " ProcessData event 300000\n",
      " ProcessData event 400000\n",
      " ProcessData event 500000\n",
      " ProcessData event 600000\n",
      " ProcessData event 700000\n",
      " ProcessData event 800000\n",
      " ProcessData event 900000\n",
      " ProcessData event 1000000\n",
      " ProcessData event 1100000\n",
      " ProcessData event 1200000\n",
      " ProcessData event 1300000\n",
      " ProcessData event 1400000\n",
      " ProcessData event 1500000\n",
      " ProcessData event 1600000\n",
      " ProcessData event 1700000\n",
      " ProcessData event 1800000\n",
      " ProcessData event 1900000\n",
      " ProcessData event 2000000\n",
      " ProcessData event 2100000\n",
      " ProcessData event 2200000\n",
      " ProcessData event 2300000\n",
      " ProcessData event 2400000\n",
      " ProcessData event 2500000\n",
      " ProcessData event 2600000\n",
      " ProcessData event 2700000\n",
      " ProcessData event 2800000\n",
      " ProcessData event 2900000\n",
      " ProcessData event 3000000\n",
      " ProcessData event 3100000\n",
      " ProcessData event 3200000\n",
      " ProcessData event 3300000\n",
      " ProcessData event 3400000\n",
      " ProcessData event 3500000\n",
      " ProcessData event 3600000\n",
      " ProcessData event 3700000\n",
      " ProcessData event 3800000\n",
      " ProcessData event 3900000\n",
      " ProcessData event 4000000\n",
      " ProcessData event 4100000\n",
      " ProcessData event 4200000\n",
      " ProcessData event 4300000\n",
      " ProcessData event 4400000\n",
      " ProcessData event 4500000\n",
      " ProcessData event 4600000\n",
      " ProcessData event 4700000\n",
      " ProcessData event 4800000\n",
      " ProcessData event 4900000\n",
      " ProcessData event 5000000\n",
      " ProcessData event 5100000\n",
      " ProcessData event 5200000\n",
      " ProcessData event 5300000\n",
      " ProcessData event 5400000\n",
      " ProcessData event 5500000\n",
      " ProcessData event 5600000\n",
      " ProcessData event 5700000\n",
      " ProcessData event 5800000\n",
      " ProcessData event 5900000\n",
      " ProcessData event 6000000\n",
      " ProcessData event 6100000\n",
      " ProcessData event 6200000\n",
      " ProcessData event 6300000\n",
      " ProcessData event 6400000\n",
      " ProcessData event 6500000\n",
      " ProcessData event 6600000\n",
      " ProcessData event 6700000\n",
      " ProcessData event 6800000\n",
      " ProcessData event 6900000\n",
      " ProcessData event 7000000\n",
      " ProcessData event 7100000\n",
      " ProcessData event 7200000\n",
      " ProcessData event 7300000\n",
      " ProcessData event 7400000\n",
      " ProcessData event 7500000\n",
      " ProcessData event 7600000\n",
      " ProcessData event 7700000\n",
      " ProcessData event 7800000\n",
      " ProcessData event 7900000\n",
      " ProcessData event 8000000\n",
      " ProcessData event 8100000\n",
      " ProcessData event 8200000\n",
      " ProcessData event 8300000\n",
      " ProcessData event 8400000\n",
      " ProcessData event 8500000\n",
      " ProcessData event 8600000\n",
      " ProcessData event 8700000\n",
      " ProcessData event 8800000\n",
      " ProcessData event 8900000\n",
      " ProcessData event 9000000\n",
      " ProcessData event 9100000\n",
      " ProcessData event 9200000\n",
      " ProcessData event 9300000\n",
      " ProcessData event 9400000\n",
      " ProcessData event 9500000\n",
      " ProcessData event 9600000\n",
      " ProcessData event 9700000\n",
      " ProcessData event 9800000\n",
      "9895530 1 1\n",
      "DataManager::NextChainFile() Finished all files \n",
      "******TreeCache statistics for tree: HSParticles in file: /w/work1/jlab/hallb/HSg8/g8sim_2k_b/rec_edgen_.root ******\n",
      "TreeCache = 50 MBytes\n",
      "N leaves  = 51\n",
      "ReadTotal = 806.091 MBytes\n",
      "ReadUnZip = 3550.93 MBytes\n",
      "ReadCalls = 9884\n",
      "ReadSize  =  81.555 KBytes/read\n",
      "Readahead = 256 KBytes\n",
      "Readextra =  0.00 per cent\n",
      "Real Time = 137.828 seconds\n",
      "CPU  Time = 125.910 seconds\n",
      "Disk Time =  10.907 seconds\n",
      "Disk IO   =  73.907 MBytes/s\n",
      "ReadUZRT  =  25.764 MBytes/s\n",
      "ReadUZCP  =  28.202 MBytes/s\n",
      "ReadRT    =   5.849 MBytes/s\n",
      "ReadCP    =   6.402 MBytes/s\n",
      "Done 9895530 events \n"
     ]
    }
   ],
   "source": [
    "cout<<\"Number of Events to process \"<<chain.GetEntries()<<endl;\n",
    "\n",
    "fs.ProcessData(); //No number give, analyse all events in chain\n",
    "cout<<\"Done \"<<dm->GetEntry()<< \" events \"<<endl;"
   ]
  },
  {
   "cell_type": "markdown",
   "metadata": {},
   "source": [
    "And remember to save the tree!"
   ]
  },
  {
   "cell_type": "code",
   "execution_count": 10,
   "metadata": {},
   "outputs": [],
   "source": [
    "delete output;"
   ]
  },
  {
   "cell_type": "code",
   "execution_count": 11,
   "metadata": {},
   "outputs": [],
   "source": [
    "//%jsroot on"
   ]
  },
  {
   "cell_type": "code",
   "execution_count": 12,
   "metadata": {},
   "outputs": [],
   "source": [
    "//TCanvas c3;\n",
    "//c3.Divide(2,2);\n",
    "//c3.cd(1);\n",
    "//treeman->GetPrep(0)->Tree()->Draw(\"BeamP:BeamTime>>h1(100,-10,10,100,0.4)\",\"\",\"col1\");\n",
    "//c3.cd(2);\n",
    "//treeman->GetPrep(0)->Tree()->Draw(\"ProtonP:ProtonTime>>h2(100,-10,10,100,0,4)\",\"\",\"col1\");\n",
    "//c3.cd(3);\n",
    "//treeman->GetPrep(0)->Tree()->Draw(\"KpP:KpTime>>h3(100,-10,10,100,0,4)\",\"\",\"col1\");\n",
    "//c3.cd(4);\n",
    "//treeman->GetPrep(0)->Tree()->Draw(\"KmP:KmTime>>h4(100,-10,10,100,0,4)\",\"\",\"col1\");\n"
   ]
  },
  {
   "cell_type": "code",
   "execution_count": 13,
   "metadata": {
    "scrolled": true
   },
   "outputs": [],
   "source": [
    "//c3.Draw();"
   ]
  },
  {
   "cell_type": "markdown",
   "metadata": {},
   "source": [
    "**When ready delete the treeman so trees as saved to the output directory**"
   ]
  },
  {
   "cell_type": "code",
   "execution_count": 14,
   "metadata": {},
   "outputs": [],
   "source": [
    "//delete  treeman;"
   ]
  },
  {
   "cell_type": "code",
   "execution_count": null,
   "metadata": {},
   "outputs": [],
   "source": []
  }
 ],
 "metadata": {
  "kernelspec": {
   "display_name": "ROOT C++",
   "language": "c++",
   "name": "root"
  },
  "language_info": {
   "codemirror_mode": "text/x-c++src",
   "file_extension": ".C",
   "mimetype": " text/x-c++src",
   "name": "c++"
  }
 },
 "nbformat": 4,
 "nbformat_minor": 2
}
