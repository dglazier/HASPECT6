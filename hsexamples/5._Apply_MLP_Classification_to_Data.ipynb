{
 "cells": [
  {
   "cell_type": "markdown",
   "metadata": {},
   "source": [
    "# Produce output data tree including MLP classifier \n",
    "\n",
    "Here we use the results of the trained MLP to classifier on our data. This is done via the SignalID class. The output is now defined by the tree data class and includes the observables and discriminatory variables needed for fitting."
   ]
  },
  {
   "cell_type": "code",
   "execution_count": 1,
   "metadata": {
    "scrolled": true
   },
   "outputs": [
    {
     "name": "stdout",
     "output_type": "stream",
     "text": [
      "%%%%%%%%%%%%%%%%%%%%%%%%%    TreeData\n"
     ]
    },
    {
     "name": "stderr",
     "output_type": "stream",
     "text": [
      "Info in <ACLiC>: unmodified script has already been compiled and loaded\n"
     ]
    },
    {
     "name": "stdout",
     "output_type": "stream",
     "text": [
      "%%%%%%%%%%%%%%%%%%%%%%%%%    BaseEventInfo\n",
      "%%%%%%%%%%%%%%%%%%%%%%%%%    BaseRunInfo\n",
      "%%%%%%%%%%%%%%%%%%%%%%%%%    Weights\n",
      "%%%%%%%%%%%%%%%%%%%%%%%%%    Bins\n",
      "%%%%%%%%%%%%%%%%%%%%%%%%%    DataManager\n",
      "%%%%%%%%%%%%%%%%%%%%%%%%%    LundReader\n",
      "12121212121212121212121212 EventInfo\n",
      "12121212121212121212121212 RunInfo\n",
      "12121212121212121212121212 ParticleData\n",
      "&&&&&&&&&&&&&&&&&&&&&&&&&&&& HSKinematics\n",
      "&&&&&&&&&&&&&&&&&&&&&&&&&&&& Cuts\n",
      "&&&&&&&&&&&&&&&&&&&&&&&&&&&& Combitorial\n",
      "&&&&&&&&&&&&&&&&&&&&&&&&&&&& ParticleIter\n",
      "&&&&&&&&&&&&&&&&&&&&&&&&&&&& Topology\n",
      "&&&&&&&&&&&&&&&&&&&&&&&&&&&& FinalState\n",
      "&&&&&&&&&&&&&&&&&&&&&&&&&&&& FiledTree\n",
      "&&&&&&&&&&&&&&&&&&&&&&&&&&&& TopoActionManager\n",
      "&&&&&&&&&&&&&&&&&&&&&&&&&&&& ParticleCuts\n",
      "&&&&&&&&&&&&&&&&&&&&&&&&&&&& TreeParticleData\n",
      "&&&&&&&&&&&&&&&&&&&&&&&&&&&& MVASignalID\n",
      "&&&&&&&&&&&&&&&&&&&&&&&&&&&& ParticleCutsManager\n",
      "&&&&&&&&&&&&&&&&&&&&&&&&&&&& ParticleDataManager\n",
      "&&&&&&&&&&&&&&&&&&&&&&&&&&&& MVASignalIDManager\n",
      "12121212121212121212121212 CLASTrigger\n"
     ]
    },
    {
     "name": "stderr",
     "output_type": "stream",
     "text": [
      "Info in <TUnixSystem::ACLiC>: creating shared library /work/Dropbox/HaSpect/dev/HASPECT6/hsexamples/./K2_C.so\n",
      "Warning in cling::IncrementalParser::CheckABICompatibility():\n",
      "  Possible C++ standard library mismatch, compiled with __GLIBCXX__ '20180415'\n",
      "  Extraction of runtime standard library version was: '20180720'\n"
     ]
    }
   ],
   "source": [
    "gROOT->ProcessLine(\".x LoadK2.C+\");"
   ]
  },
  {
   "cell_type": "markdown",
   "metadata": {},
   "source": [
    "First create an object of your final state class. You may configure it if you want to limit the number of particles in an event or set to just run on generated simulation data.\n",
    "This notebook is equivalent to the RunFSRootXXX.C macro which will be in the code directory.\n",
    "Again just change XXX for your class name."
   ]
  },
  {
   "cell_type": "code",
   "execution_count": 2,
   "metadata": {
    "scrolled": false
   },
   "outputs": [
    {
     "name": "stdout",
     "output_type": "stream",
     "text": [
      "THSParticle::THSParticle, sorry particle -22 does not exist in ROOT PDG table\n",
      "Charge ID particle are  -22 \n",
      " WARNING running HS::FinalState::AutoIter() you  should check the topology print output and make sure the displayed iterator is waht you want ..\n",
      "Charge ID particle are  -22 \n",
      " WARNING running HS::FinalState::AutoIter() you  should check the topology print output and make sure the displayed iterator is waht you want ..\n",
      "Charge ID particle are  -22 \n",
      " WARNING running HS::FinalState::AutoIter() you  should check the topology print output and make sure the displayed iterator is waht you want ..\n",
      "Charge ID particle are  -22 \n",
      " WARNING running HS::FinalState::AutoIter() you  should check the topology print output and make sure the displayed iterator is waht you want ..\n",
      " Topology::Print() : 0\n",
      "    particles = -10000 -22 10000 10000 \n",
      "You can have any number of the following particles : \n",
      " ALL \n",
      "The following particle are identified by pdg code : \n",
      "-22 \n",
      " ParticleIter::Print() \n",
      "     Type : 2 number chosen 1 of id  -321 and number used here = 1\n",
      " ParticleIter::Print() \n",
      "     Type : 2 number chosen 1 of id  -22 and number used here = 1\n",
      " ParticleIter::Print() \n",
      "     Type : 2 number chosen 1 of id  2212 and number used here = 1\n",
      " ParticleIter::Print() \n",
      "     Type : 2 number chosen 1 of id  321 and number used here = 1\n",
      "\n",
      " Topology::Print() : 1\n",
      "    particles = -22 10000 10000 \n",
      "You can have any number of the following particles : \n",
      " ALL \n",
      "The following particle are identified by pdg code : \n",
      "-22 \n",
      " ParticleIter::Print() \n",
      "     Type : 2 number chosen 1 of id  -22 and number used here = 1\n",
      " ParticleIter::Print() \n",
      "     Type : 2 number chosen 1 of id  2212 and number used here = 1\n",
      " ParticleIter::Print() \n",
      "     Type : 2 number chosen 1 of id  321 and number used here = 1\n",
      "\n",
      " Topology::Print() : 2\n",
      "    particles = -10000 -22 10000 \n",
      "You can have any number of the following particles : \n",
      " ALL \n",
      "The following particle are identified by pdg code : \n",
      "-22 \n",
      " ParticleIter::Print() \n",
      "     Type : 2 number chosen 1 of id  -321 and number used here = 1\n",
      " ParticleIter::Print() \n",
      "     Type : 2 number chosen 1 of id  -22 and number used here = 1\n",
      " ParticleIter::Print() \n",
      "     Type : 2 number chosen 1 of id  2212 and number used here = 1\n",
      "\n",
      " Topology::Print() : 3\n",
      "    particles = -10000 -22 10000 \n",
      "You can have any number of the following particles : \n",
      " ALL \n",
      "The following particle are identified by pdg code : \n",
      "-22 \n",
      " ParticleIter::Print() \n",
      "     Type : 2 number chosen 1 of id  -321 and number used here = 1\n",
      " ParticleIter::Print() \n",
      "     Type : 2 number chosen 1 of id  -22 and number used here = 1\n",
      " ParticleIter::Print() \n",
      "     Type : 2 number chosen 1 of id  321 and number used here = 1\n",
      "\n"
     ]
    }
   ],
   "source": [
    " K2 fs(\"Beam\",\"ALL\");\n",
    "  // fs.SetGenerated(); //just analyse generated branch\n",
    "  // fs.SetMaxParticles(10); //max number of particles of any 1 type\n",
    " "
   ]
  },
  {
   "cell_type": "markdown",
   "metadata": {},
   "source": [
    "Create an output tree. Here we will use a FiledTree object which is a wrapper class to a tree in a file. We will also create this as a smart pointer so we can delete it at the end by calling reset(), this will save the tree to disk. The Filed tree needs 2 strings ,1 a treename and the other the file name. You should give the full path for where you would like the files saved. It will overwrite any existing files. "
   ]
  },
  {
   "cell_type": "code",
   "execution_count": 3,
   "metadata": {},
   "outputs": [],
   "source": [
    "auto output = new HS::FiledTree(\"tt\",\"/work/g8dump/SimPD.root\");\n",
    "fs.FinalStateOutTree(output->Tree()); //connect ouput tree to final state branches"
   ]
  },
  {
   "cell_type": "markdown",
   "metadata": {},
   "source": [
    "Here we add the cuts for each particle. This is done via a HS::Cuts object which gets propogated to each particle in each topology. To specify any type of cut behaviour you need to generate your own Cuts Method. Here we just use a predefined delta time cut but you could make your won class which has momentum dependence as well."
   ]
  },
  {
   "cell_type": "markdown",
   "metadata": {},
   "source": [
    "**Making your own cuts class** Here I use a new cuts class DeltaTimePCut. You can make your own cuts follwing the example notebook [DeltaTimePCut](MakeDeltaTimePCut.ipynb)"
   ]
  },
  {
   "cell_type": "code",
   "execution_count": 4,
   "metadata": {},
   "outputs": [
    {
     "name": "stdout",
     "output_type": "stream",
     "text": [
      "Info ParticleCutsManager AddParticleCut set cut for 0\n",
      "Info ParticleCutsManager AddParticleCut set cut for -22\n"
     ]
    }
   ],
   "source": [
    "ParticleCutsManager cutsman;\n",
    "auto beamCut=make_shared<DeltaTimePCut>(20,3); //7ns delta time cut\n",
    "auto otherCut=make_shared<DeltaTimePCut>(20,3); //10ns cut for all other particles\n",
    "cutsman.AddParticleCut(\"Beam\",beamCut); //assign to manager\n",
    "cutsman.SetDefaultCut(otherCut); //assign to manager\n",
    "cutsman.ConfigureCuts(&fs);    //propogate the cuts to topologies in fs"
   ]
  },
  {
   "cell_type": "markdown",
   "metadata": {},
   "source": [
    "Now register the cuts manager as a post topology function action. This will be applied after the Topo_0 etc functions when start times etc have been determined. "
   ]
  },
  {
   "cell_type": "code",
   "execution_count": 5,
   "metadata": {},
   "outputs": [],
   "source": [
    "fs.RegisterPostTopoAction(&cutsman);"
   ]
  },
  {
   "cell_type": "markdown",
   "metadata": {},
   "source": [
    "**Particle Monitoring** here we are going to make seperate trees for each topology and only keep the detected particle information in each one."
   ]
  },
  {
   "cell_type": "code",
   "execution_count": 6,
   "metadata": {
    "scrolled": true
   },
   "outputs": [
    {
     "name": "stdout",
     "output_type": "stream",
     "text": [
      "NExt topo \n",
      "Adding Beam\n",
      "Adding Proton\n",
      "Adding Kp\n",
      "Adding Km\n",
      "HS::TreeParticleData::SetBranches() Setting branches...\n",
      "Register\n",
      "done \n",
      "NExt topo \n",
      "Adding Beam\n",
      "Adding Proton\n",
      "Adding Kp\n",
      "HS::TreeParticleData::SetBranches() Setting branches...\n",
      "Register\n",
      "done \n",
      "NExt topo \n",
      "Adding Beam\n",
      "Adding Proton\n",
      "Adding Km\n",
      "HS::TreeParticleData::SetBranches() Setting branches...\n",
      "Register\n",
      "done \n",
      "NExt topo \n",
      "Adding Beam\n",
      "Adding Kp\n",
      "Adding Km\n",
      "HS::TreeParticleData::SetBranches() Setting branches...\n",
      "Register\n",
      "done \n"
     ]
    }
   ],
   "source": [
    "auto treeman=new ParticleDataManager(\"/work/g8dump/particlesPD/MLPData\");\n",
    "treeman->SetParticleVars(\"Beam\",{\"P\",\"Time\"}); //For beam only interesetef in energy and time\n",
    "treeman->ConfigureTreeParticles(&fs); //propogate through topologies\n",
    "//treeman.SetN(50000); //Number of events required for each topo. Number of train+test events must be less than this\n",
    "fs.RegisterPostWorkAction(treeman); //register post-work i.e. after kinematics is called and all calculations"
   ]
  },
  {
   "cell_type": "markdown",
   "metadata": {},
   "source": [
    "Add the MLP respnose to the data stream. This just needs the directory created in the training routine.\n",
    "Also apply a rough cut at MLP=0.1 to get rid of most of the background."
   ]
  },
  {
   "cell_type": "code",
   "execution_count": 7,
   "metadata": {},
   "outputs": [
    {
     "name": "stdout",
     "output_type": "stream",
     "text": [
      "Adding Beam\n",
      "Adding Proton\n",
      "Adding Kp\n",
      "Adding Km\n"
     ]
    }
   ],
   "source": [
    "MVASignalIDManager sid(\"/work/g8dump/particlesPD\"); //directory from training\n",
    "//sid.SetParticleVars(\"Beam\",{\"P\",\"Time\"});\n",
    "sid.ConfigureResults(\"MLP\",&fs);\n",
    "sid.SetCut(0.9); //Set classifier cut value, this will be applied to all events\n",
    "fs.RegisterPostTopoAction(&sid);"
   ]
  },
  {
   "cell_type": "markdown",
   "metadata": {},
   "source": [
    "Now we configure the input data. Here we use a ROOT file presaved in HSDATA format. It is possible to analyse other dataformats via the DataManager class.\n",
    "Now analyse all the data in the 1.9GeV peak setting ~ 530M events."
   ]
  },
  {
   "cell_type": "code",
   "execution_count": 8,
   "metadata": {},
   "outputs": [
    {
     "name": "stderr",
     "output_type": "stream",
     "text": [
      "Info in <DataManager::InitChain>:  Will proceess all 1 files in chain\n"
     ]
    },
    {
     "name": "stdout",
     "output_type": "stream",
     "text": [
      "DataManager::InitReader set branch 0x7f276c013470 0x7f276c013470\n",
      "DataManager::InitReader EventInfo\n",
      "DataManager::InitReader RunInfo\n"
     ]
    }
   ],
   "source": [
    " //create datamanager\n",
    "  auto dm=std::make_shared<DataManager>();\n",
    "\n",
    "  //And make a chain of data files\n",
    "  TChain chain(\"HSParticles\");\n",
    " chain.Add(\"/home/dglazier/fastdata/g8/flist_048200.dat.root\");\n",
    " // chain.Add(\"/home/dglazier/fastdata/g8/rec_edgen_.root\");\n",
    "\n",
    " // chain.Add(\"/w/work1/jlab/hallb/HSg8/g8sim_2k_b/rec_edgen_.root\");\n",
    "   dm->InitChain(&chain);\n",
    "\n",
    "  //connect FinalState to Data by moving the pointer\n",
    "  fs.SetDataManager(dm);"
   ]
  },
  {
   "cell_type": "markdown",
   "metadata": {},
   "source": [
    "Analyse all the events. This took around 8 hours with the call to MLP. BDT 5-10 x slower"
   ]
  },
  {
   "cell_type": "code",
   "execution_count": null,
   "metadata": {
    "scrolled": false
   },
   "outputs": [
    {
     "name": "stdout",
     "output_type": "stream",
     "text": [
      "Number of Events to process 9406661\n",
      "                         : Booking \"MLP\" of type \"MLP\" from /work/g8dump/particlesPD/Topo0/weights/Topo0_MLP.weights.xml.\n",
      "                         : Reading weight file: /work/g8dump/particlesPD/Topo0/weights/Topo0_MLP.weights.xml\n",
      "<HEADER> DataSetInfo              : [Default] : Added class \"Signal\"\n",
      "<HEADER> DataSetInfo              : [Default] : Added class \"Background\"\n",
      "<HEADER> MLP                      : Building Network. \n",
      "                         : Initializing weights\n",
      "                         : Booked classifier \"MLP\" of type: \"MLP\"\n",
      "Adding Beam\n",
      "Adding Proton\n",
      "Adding Kp\n",
      "                         : Booking \"MLP\" of type \"MLP\" from /work/g8dump/particlesPD/Topo1/weights/Topo1_MLP.weights.xml.\n",
      "                         : Reading weight file: /work/g8dump/particlesPD/Topo1/weights/Topo1_MLP.weights.xml\n",
      "<HEADER> DataSetInfo              : [Default] : Added class \"Signal\"\n",
      "<HEADER> DataSetInfo              : [Default] : Added class \"Background\"\n",
      "<HEADER> MLP                      : Building Network. \n",
      "                         : Initializing weights\n",
      "                         : Booked classifier \"MLP\" of type: \"MLP\"\n",
      "Adding Beam\n",
      "Adding Proton\n",
      "Adding Km\n",
      "                         : Booking \"MLP\" of type \"MLP\" from /work/g8dump/particlesPD/Topo2/weights/Topo2_MLP.weights.xml.\n",
      "                         : Reading weight file: /work/g8dump/particlesPD/Topo2/weights/Topo2_MLP.weights.xml\n",
      "<HEADER> DataSetInfo              : [Default] : Added class \"Signal\"\n",
      "<HEADER> DataSetInfo              : [Default] : Added class \"Background\"\n",
      "<HEADER> MLP                      : Building Network. \n",
      "                         : Initializing weights\n",
      "                         : Booked classifier \"MLP\" of type: \"MLP\"\n",
      "Adding Beam\n",
      "Adding Kp\n",
      "Adding Km\n"
     ]
    },
    {
     "name": "stderr",
     "output_type": "stream",
     "text": [
      "Error in <TFile::TFile>: file /work/g8dump/particlesPD/Topo3/Training.root does not exist\n"
     ]
    },
    {
     "name": "stdout",
     "output_type": "stream",
     "text": [
      " ProcessData event 100000\n"
     ]
    }
   ],
   "source": [
    "cout<<\"Number of Events to process \"<<chain.GetEntries()<<endl;\n",
    "\n",
    "fs.ProcessData(); //No number give, analyse all events in chain\n",
    "cout<<\"Done \"<<dm->GetEntry()<< \" events \"<<endl;"
   ]
  },
  {
   "cell_type": "markdown",
   "metadata": {},
   "source": [
    "And remember to save the tree!"
   ]
  },
  {
   "cell_type": "code",
   "execution_count": null,
   "metadata": {},
   "outputs": [],
   "source": [
    "delete output;"
   ]
  },
  {
   "cell_type": "code",
   "execution_count": null,
   "metadata": {},
   "outputs": [],
   "source": [
    "%jsroot on"
   ]
  },
  {
   "cell_type": "code",
   "execution_count": null,
   "metadata": {},
   "outputs": [],
   "source": [
    "TCanvas c3;\n",
    "c3.Divide(2,2);\n",
    "c3.cd(1);\n",
    "treeman->GetParticleData(0)->GetTree()->Draw(\"BeamP:BeamTime>>h1(100,-10,10,100,0.4)\",\"\",\"col1\");\n",
    "c3.cd(2);\n",
    "treeman->GetParticleData(0)->GetTree()->Draw(\"ProtonP:ProtonTime>>h2(100,-10,10,100,0,4)\",\"\",\"col1\");\n",
    "c3.cd(3);\n",
    "treeman->GetParticleData(0)->GetTree()->Draw(\"KpP:KpTime>>h3(100,-10,10,100,0,4)\",\"\",\"col1\");\n",
    "c3.cd(4);\n",
    "treeman->GetParticleData(0)->GetTree()->Draw(\"KmP:KmTime>>h4(100,-10,10,100,0,4)\",\"\",\"col1\");\n"
   ]
  },
  {
   "cell_type": "code",
   "execution_count": null,
   "metadata": {
    "scrolled": true
   },
   "outputs": [],
   "source": [
    "c3.Draw();"
   ]
  },
  {
   "cell_type": "markdown",
   "metadata": {},
   "source": [
    "**When ready delete the treeman so trees as saved to the output directory**"
   ]
  },
  {
   "cell_type": "code",
   "execution_count": null,
   "metadata": {},
   "outputs": [],
   "source": [
    "delete treeman;"
   ]
  },
  {
   "cell_type": "code",
   "execution_count": null,
   "metadata": {},
   "outputs": [],
   "source": []
  }
 ],
 "metadata": {
  "kernelspec": {
   "display_name": "ROOT C++",
   "language": "c++",
   "name": "root"
  },
  "language_info": {
   "codemirror_mode": "text/x-c++src",
   "file_extension": ".C",
   "mimetype": " text/x-c++src",
   "name": "c++"
  }
 },
 "nbformat": 4,
 "nbformat_minor": 2
}
