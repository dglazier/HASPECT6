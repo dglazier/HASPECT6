{
 "cells": [
  {
   "cell_type": "markdown",
   "metadata": {},
   "source": [
    "This shows an example of how to make your own HS::Cuts class for use with HS::FinalState\n",
    "\n",
    "It needs to inherit from HS::Cuts and to define a ParticleCut function returning true or false depending on whether the cut criteria are met.\n",
    "\n",
    "Here we just add an additional condition on the particle momentum. \n",
    "You should chekc out the THSParticle class header file to see what data and functions it can access."
   ]
  },
  {
   "cell_type": "code",
   "execution_count": 1,
   "metadata": {},
   "outputs": [
    {
     "name": "stdout",
     "output_type": "stream",
     "text": [
      "Created file '/work/Dropbox/HaSpect/dev/HASPECT6/hsexamples/DeltaTimePCut.h'.\n"
     ]
    }
   ],
   "source": [
    "%%file DeltaTimePCut.h\n",
    "\n",
    "#include \"Cuts.h\"\n",
    "\n",
    "class DeltaTimePCut : public HS::Cuts{\n",
    "  \n",
    " public:\n",
    " //Define consructor taking cut value arguments\n",
    "  DeltaTimePCut(Float_t cutT=FLT_MAX,Float_t cutP=FLT_MAX){\n",
    "    fTimeCut=cutT; fPCut=cutP;\n",
    "    }\n",
    "//Define function to test cut\n",
    "  Bool_t ParticleCut(HS::THSParticle* part) const{\n",
    "    if(TMath::Abs(part->DeltaTime())<fTimeCut\n",
    "        &&TMath::Abs(part->P4p()->P())<fPCut) return kTRUE;\n",
    "    return kFALSE;\n",
    "  }\n",
    "\n",
    " private:\n",
    "  Float_t fTimeCut=FLT_MAX;\n",
    "  Float_t fPCut=FLT_MAX;\n",
    "};\n"
   ]
  },
  {
   "cell_type": "markdown",
   "metadata": {},
   "source": [
    "We need a .C file to compile it, but this will just call the header file above"
   ]
  },
  {
   "cell_type": "code",
   "execution_count": 2,
   "metadata": {},
   "outputs": [
    {
     "name": "stdout",
     "output_type": "stream",
     "text": [
      "Created file '/work/Dropbox/HaSpect/dev/HASPECT6/hsexamples/DeltaTimePCut.C'.\n"
     ]
    }
   ],
   "source": [
    "%%file DeltaTimePCut.C\n",
    "\n",
    "#include \"DeltaTimePCut.h\""
   ]
  },
  {
   "cell_type": "markdown",
   "metadata": {},
   "source": [
    "Now add to the Loader for your final state class"
   ]
  },
  {
   "cell_type": "code",
   "execution_count": 3,
   "metadata": {},
   "outputs": [],
   "source": [
    "%edit LoadK2.C"
   ]
  },
  {
   "cell_type": "code",
   "execution_count": null,
   "metadata": {},
   "outputs": [],
   "source": [
    "%%file LoadK2.C\n",
    "{\n",
    "gSystem->Setenv(\"HSFINAL\",\"1\");\n",
    "gROOT->ProcessLine(\".x $HSEXP/LoadExperiment.C+\");\n",
    "/////////////////////////////////////////////////////////////\n",
    "gROOT->LoadMacro(\"DeltaTimePCut.C+\"); //ADD MY NEW CUT HERE\n",
    "////////////////////////////////////////////////////////////\n",
    "gROOT->LoadMacro(\"TreeDataK2.C+\");\n",
    "gROOT->LoadMacro(\"K2.C+\");\n",
    "}"
   ]
  },
  {
   "cell_type": "code",
   "execution_count": 4,
   "metadata": {},
   "outputs": [
    {
     "name": "stdout",
     "output_type": "stream",
     "text": [
      "Created file '/work/Dropbox/HaSpect/dev/HASPECT6/hsexamples/LoadK2.C'.\n"
     ]
    }
   ],
   "source": [
    "%%file LoadK2.C\n",
    "{\n",
    "gSystem->Setenv(\"HSFINAL\",\"1\");\n",
    "gROOT->ProcessLine(\".x $HSEXP/LoadExperiment.C+\");\n",
    "/////////////////////////////////////////////////////////////\n",
    "gROOT->LoadMacro(\"DeltaTimePCut.C+\"); //ADD MY NEW CUT HERE\n",
    "////////////////////////////////////////////////////////////\n",
    "gROOT->LoadMacro(\"TreeDataK2.C+\");\n",
    "gROOT->LoadMacro(\"K2.C+\");\n",
    "}\n"
   ]
  },
  {
   "cell_type": "markdown",
   "metadata": {},
   "source": [
    "And try loading to see if it compiles. You may have to go back and edit your cut code id it does not compile. If this is the case you do not want to rerun the edit LoadK2.C cell each time, just edit the %%file LoadK2.C cell. You will need to restart the kernel each time (unfortunately)"
   ]
  },
  {
   "cell_type": "code",
   "execution_count": 5,
   "metadata": {},
   "outputs": [
    {
     "name": "stderr",
     "output_type": "stream",
     "text": [
      "Info in <TUnixSystem::ACLiC>: creating shared library /work/Dropbox/HaSpect/dev/HASPECT6/hsexperiments/clasg8/THSParticle_C.so\n",
      "Warning in cling::IncrementalParser::CheckABICompatibility():\n",
      "  Possible C++ standard library mismatch, compiled with __GLIBCXX__ '20180415'\n",
      "  Extraction of runtime standard library version was: '20180720'\n"
     ]
    },
    {
     "name": "stdout",
     "output_type": "stream",
     "text": [
      "%%%%%%%%%%%%%%%%%%%%%%%%%    BaseEventInfo\n",
      "%%%%%%%%%%%%%%%%%%%%%%%%%    BaseRunInfo\n"
     ]
    },
    {
     "name": "stderr",
     "output_type": "stream",
     "text": [
      "Info in <ACLiC>: unmodified script has already been compiled and loaded\n"
     ]
    },
    {
     "name": "stdout",
     "output_type": "stream",
     "text": [
      "%%%%%%%%%%%%%%%%%%%%%%%%%    Weights\n",
      "%%%%%%%%%%%%%%%%%%%%%%%%%    Bins\n",
      "%%%%%%%%%%%%%%%%%%%%%%%%%    DataManager\n"
     ]
    },
    {
     "name": "stderr",
     "output_type": "stream",
     "text": [
      "Info in <TUnixSystem::ACLiC>: creating shared library /work/Dropbox/HaSpect/dev/HASPECT6/hsdata/DataManager_C.so\n",
      "Warning in cling::IncrementalParser::CheckABICompatibility():\n",
      "  Possible C++ standard library mismatch, compiled with __GLIBCXX__ '20180415'\n",
      "  Extraction of runtime standard library version was: '20180720'\n"
     ]
    },
    {
     "name": "stdout",
     "output_type": "stream",
     "text": [
      "%%%%%%%%%%%%%%%%%%%%%%%%%    LundReader\n"
     ]
    },
    {
     "name": "stderr",
     "output_type": "stream",
     "text": [
      "Info in <TUnixSystem::ACLiC>: creating shared library /work/Dropbox/HaSpect/dev/HASPECT6/hsdata/LundReader_C.so\n",
      "Warning in cling::IncrementalParser::CheckABICompatibility():\n",
      "  Possible C++ standard library mismatch, compiled with __GLIBCXX__ '20180415'\n",
      "  Extraction of runtime standard library version was: '20180720'\n"
     ]
    },
    {
     "name": "stdout",
     "output_type": "stream",
     "text": [
      "12121212121212121212121212 EventInfo\n",
      "12121212121212121212121212 RunInfo\n",
      "&&&&&&&&&&&&&&&&&&&&&&&&&&&& HSKinematics\n"
     ]
    },
    {
     "name": "stderr",
     "output_type": "stream",
     "text": [
      "Info in <TUnixSystem::ACLiC>: creating shared library /work/Dropbox/HaSpect/dev/HASPECT6/hsfinalstate/HSKinematics_C.so\n",
      "Warning in cling::IncrementalParser::CheckABICompatibility():\n",
      "  Possible C++ standard library mismatch, compiled with __GLIBCXX__ '20180415'\n",
      "  Extraction of runtime standard library version was: '20180720'\n"
     ]
    },
    {
     "name": "stdout",
     "output_type": "stream",
     "text": [
      "&&&&&&&&&&&&&&&&&&&&&&&&&&&& Cuts\n"
     ]
    },
    {
     "name": "stderr",
     "output_type": "stream",
     "text": [
      "Info in <TUnixSystem::ACLiC>: creating shared library /work/Dropbox/HaSpect/dev/HASPECT6/hsfinalstate/Cuts_C.so\n",
      "Warning in cling::IncrementalParser::CheckABICompatibility():\n",
      "  Possible C++ standard library mismatch, compiled with __GLIBCXX__ '20180415'\n",
      "  Extraction of runtime standard library version was: '20180720'\n"
     ]
    },
    {
     "name": "stdout",
     "output_type": "stream",
     "text": [
      "&&&&&&&&&&&&&&&&&&&&&&&&&&&& Combitorial\n",
      "&&&&&&&&&&&&&&&&&&&&&&&&&&&& ParticleIter\n"
     ]
    },
    {
     "name": "stderr",
     "output_type": "stream",
     "text": [
      "Info in <TUnixSystem::ACLiC>: creating shared library /work/Dropbox/HaSpect/dev/HASPECT6/hsfinalstate/ParticleIter_C.so\n",
      "Warning in cling::IncrementalParser::CheckABICompatibility():\n",
      "  Possible C++ standard library mismatch, compiled with __GLIBCXX__ '20180415'\n",
      "  Extraction of runtime standard library version was: '20180720'\n"
     ]
    },
    {
     "name": "stdout",
     "output_type": "stream",
     "text": [
      "&&&&&&&&&&&&&&&&&&&&&&&&&&&& Topology\n"
     ]
    },
    {
     "name": "stderr",
     "output_type": "stream",
     "text": [
      "Info in <TUnixSystem::ACLiC>: creating shared library /work/Dropbox/HaSpect/dev/HASPECT6/hsfinalstate/Topology_C.so\n",
      "Warning in cling::IncrementalParser::CheckABICompatibility():\n",
      "  Possible C++ standard library mismatch, compiled with __GLIBCXX__ '20180415'\n",
      "  Extraction of runtime standard library version was: '20180720'\n",
      "cling::DynamicLibraryManager::loadLibrary(): /HaSpect/dev/HASPECT6/hsexperiments/clasg8/THSParticle_C.so: cannot open shared object file: No such file or directory\n",
      "c++: error: /work/Dropbox/HaSpect/dev/HASPECT6/hsfinalstate/Topology_C_ACLiC_dict.o: No such file or directory\n"
     ]
    },
    {
     "name": "stdout",
     "output_type": "stream",
     "text": [
      "&&&&&&&&&&&&&&&&&&&&&&&&&&&& FinalState\n"
     ]
    },
    {
     "name": "stderr",
     "output_type": "stream",
     "text": [
      "Info in <TUnixSystem::ACLiC>: creating shared library /work/Dropbox/HaSpect/dev/HASPECT6/hsfinalstate/FinalState_C.so\n",
      "Warning in cling::IncrementalParser::CheckABICompatibility():\n",
      "  Possible C++ standard library mismatch, compiled with __GLIBCXX__ '20180415'\n",
      "  Extraction of runtime standard library version was: '20180720'\n",
      "/work/Dropbox/HaSpect/dev/HASPECT6/hsfinalstate/FinalState_C_ACLiC_dict.o: file not recognised: File truncated\n",
      "collect2: error: ld returned 1 exit status\n",
      "Error in <ACLiC>: Compilation failed!\n"
     ]
    },
    {
     "name": "stdout",
     "output_type": "stream",
     "text": [
      "&&&&&&&&&&&&&&&&&&&&&&&&&&&& FiledTree\n",
      "&&&&&&&&&&&&&&&&&&&&&&&&&&&& TreeData\n",
      "&&&&&&&&&&&&&&&&&&&&&&&&&&&& TopoActionManager\n",
      "&&&&&&&&&&&&&&&&&&&&&&&&&&&& ParticleCuts\n"
     ]
    },
    {
     "name": "stderr",
     "output_type": "stream",
     "text": [
      "Info in <TUnixSystem::ACLiC>: creating shared library /work/Dropbox/HaSpect/dev/HASPECT6/hsfinalstate/ParticleCuts_C.so\n",
      "Warning in cling::IncrementalParser::CheckABICompatibility():\n",
      "  Possible C++ standard library mismatch, compiled with __GLIBCXX__ '20180415'\n",
      "  Extraction of runtime standard library version was: '20180720'\n"
     ]
    },
    {
     "name": "stdout",
     "output_type": "stream",
     "text": [
      "&&&&&&&&&&&&&&&&&&&&&&&&&&&& VarsParticle\n"
     ]
    },
    {
     "name": "stderr",
     "output_type": "stream",
     "text": [
      "Info in <TUnixSystem::ACLiC>: creating shared library /work/Dropbox/HaSpect/dev/HASPECT6/hsfinalstate/VarsParticle_C.so\n",
      "Warning in cling::IncrementalParser::CheckABICompatibility():\n",
      "  Possible C++ standard library mismatch, compiled with __GLIBCXX__ '20180415'\n",
      "  Extraction of runtime standard library version was: '20180720'\n"
     ]
    },
    {
     "name": "stdout",
     "output_type": "stream",
     "text": [
      "&&&&&&&&&&&&&&&&&&&&&&&&&&&& TreePrepParticle\n",
      "&&&&&&&&&&&&&&&&&&&&&&&&&&&& MVASignalID\n"
     ]
    },
    {
     "name": "stderr",
     "output_type": "stream",
     "text": [
      "Info in <TUnixSystem::ACLiC>: creating shared library /work/Dropbox/HaSpect/dev/HASPECT6/hsfinalstate/MVASignalID_C.so\n",
      "Warning in cling::IncrementalParser::CheckABICompatibility():\n",
      "  Possible C++ standard library mismatch, compiled with __GLIBCXX__ '20180415'\n",
      "  Extraction of runtime standard library version was: '20180720'\n"
     ]
    },
    {
     "name": "stdout",
     "output_type": "stream",
     "text": [
      "&&&&&&&&&&&&&&&&&&&&&&&&&&&& ParticleCutsManager\n"
     ]
    },
    {
     "name": "stderr",
     "output_type": "stream",
     "text": [
      "Info in <TUnixSystem::ACLiC>: creating shared library /work/Dropbox/HaSpect/dev/HASPECT6/hsfinalstate/ParticleCutsManager_C.so\n",
      "Warning in cling::IncrementalParser::CheckABICompatibility():\n",
      "  Possible C++ standard library mismatch, compiled with __GLIBCXX__ '20180415'\n",
      "  Extraction of runtime standard library version was: '20180720'\n"
     ]
    },
    {
     "name": "stdout",
     "output_type": "stream",
     "text": [
      "&&&&&&&&&&&&&&&&&&&&&&&&&&&& TreePrepManager\n"
     ]
    },
    {
     "name": "stderr",
     "output_type": "stream",
     "text": [
      "Info in <TUnixSystem::ACLiC>: creating shared library /work/Dropbox/HaSpect/dev/HASPECT6/hsfinalstate/TreePrepManager_C.so\n",
      "Warning in cling::IncrementalParser::CheckABICompatibility():\n",
      "  Possible C++ standard library mismatch, compiled with __GLIBCXX__ '20180415'\n",
      "  Extraction of runtime standard library version was: '20180720'\n"
     ]
    },
    {
     "name": "stdout",
     "output_type": "stream",
     "text": [
      "&&&&&&&&&&&&&&&&&&&&&&&&&&&& MVASignalIDManager\n"
     ]
    },
    {
     "name": "stderr",
     "output_type": "stream",
     "text": [
      "Info in <TUnixSystem::ACLiC>: creating shared library /work/Dropbox/HaSpect/dev/HASPECT6/hsfinalstate/MVASignalIDManager_C.so\n",
      "Warning in cling::IncrementalParser::CheckABICompatibility():\n",
      "  Possible C++ standard library mismatch, compiled with __GLIBCXX__ '20180415'\n",
      "  Extraction of runtime standard library version was: '20180720'\n"
     ]
    },
    {
     "name": "stdout",
     "output_type": "stream",
     "text": [
      "12121212121212121212121212 CLASTrigger\n"
     ]
    },
    {
     "name": "stderr",
     "output_type": "stream",
     "text": [
      "Info in <TUnixSystem::ACLiC>: creating shared library /work/Dropbox/HaSpect/dev/HASPECT6/hsexperiments/clasg8/CLASTrigger_C.so\n",
      "Warning in cling::IncrementalParser::CheckABICompatibility():\n",
      "  Possible C++ standard library mismatch, compiled with __GLIBCXX__ '20180415'\n",
      "  Extraction of runtime standard library version was: '20180720'\n",
      "Info in <TUnixSystem::ACLiC>: creating shared library /work/Dropbox/HaSpect/dev/HASPECT6/hsexamples/./DeltaTimePCut_C.so\n",
      "Warning in cling::IncrementalParser::CheckABICompatibility():\n",
      "  Possible C++ standard library mismatch, compiled with __GLIBCXX__ '20180415'\n",
      "  Extraction of runtime standard library version was: '20180720'\n",
      "Info in <TUnixSystem::ACLiC>: creating shared library /work/Dropbox/HaSpect/dev/HASPECT6/hsexamples/./K2_C.so\n",
      "Warning in cling::IncrementalParser::CheckABICompatibility():\n",
      "  Possible C++ standard library mismatch, compiled with __GLIBCXX__ '20180415'\n",
      "  Extraction of runtime standard library version was: '20180720'\n",
      "cling::DynamicLibraryManager::loadLibrary(): /work/Dropbox/HaSpect/dev/HASPECT6/hsexamples/K2_C.so: undefined symbol: _ZTIN2HS10FinalStateE\n",
      "/usr/lib/gcc/x86_64-linux-gnu/7/../../../x86_64-linux-gnu/Scrt1.o: In function `_start':\n",
      "(.text+0x20): undefined reference to `main'\n",
      "/work/Dropbox/HaSpect/dev/HASPECT6/hsexamples/K2_C_ACLiC_dict.o: In function `K2::K2(TString, TString)':\n",
      "K2_C_ACLiC_dict.cxx:(.text+0x1731): undefined reference to `HS::FinalState::FinalState()'\n",
      "K2_C_ACLiC_dict.cxx:(.text+0x193c): undefined reference to `HS::FinalState::AddParticle(TString, HS::THSParticle*, bool, int)'\n",
      "K2_C_ACLiC_dict.cxx:(.text+0x198d): undefined reference to `HS::FinalState::AddParticle(TString, HS::THSParticle*, bool, int)'\n",
      "K2_C_ACLiC_dict.cxx:(.text+0x19de): undefined reference to `HS::FinalState::AddParticle(TString, HS::THSParticle*, bool, int)'\n",
      "K2_C_ACLiC_dict.cxx:(.text+0x1a2f): undefined reference to `HS::FinalState::AddParticle(TString, HS::THSParticle*, bool, int)'\n",
      "K2_C_ACLiC_dict.cxx:(.text+0x1b7a): undefined reference to `HS::FinalState::AddNamesTopology(TString, std::function<void ()>, std::function<void ()>, TString, TString)'\n",
      "K2_C_ACLiC_dict.cxx:(.text+0x1cfb): undefined reference to `HS::FinalState::AddNamesTopology(TString, std::function<void ()>, std::function<void ()>, TString, TString)'\n",
      "K2_C_ACLiC_dict.cxx:(.text+0x1e7c): undefined reference to `HS::FinalState::AddNamesTopology(TString, std::function<void ()>, std::function<void ()>, TString, TString)'\n",
      "K2_C_ACLiC_dict.cxx:(.text+0x1ffd): undefined reference to `HS::FinalState::AddNamesTopology(TString, std::function<void ()>, std::function<void ()>, TString, TString)'\n",
      "K2_C_ACLiC_dict.cxx:(.text+0x204e): undefined reference to `HS::FinalState::InitFS()'\n",
      "/work/Dropbox/HaSpect/dev/HASPECT6/hsexamples/K2_C_ACLiC_dict.o: In function `K2::Init_Iter0()':\n",
      "K2_C_ACLiC_dict.cxx:(.text+0x256e): undefined reference to `HS::FinalState::AutoIter()'\n",
      "/work/Dropbox/HaSpect/dev/HASPECT6/hsexamples/K2_C_ACLiC_dict.o: In function `K2::Init_Iter1()':\n",
      "K2_C_ACLiC_dict.cxx:(.text+0x258a): undefined reference to `HS::FinalState::AutoIter()'\n",
      "/work/Dropbox/HaSpect/dev/HASPECT6/hsexamples/K2_C_ACLiC_dict.o: In function `K2::Init_Iter2()':\n",
      "K2_C_ACLiC_dict.cxx:(.text+0x25a6): undefined reference to `HS::FinalState::AutoIter()'\n",
      "/work/Dropbox/HaSpect/dev/HASPECT6/hsexamples/K2_C_ACLiC_dict.o: In function `K2::Init_Iter3()':\n",
      "K2_C_ACLiC_dict.cxx:(.text+0x25c2): undefined reference to `HS::FinalState::AutoIter()'\n",
      "/work/Dropbox/HaSpect/dev/HASPECT6/hsexamples/K2_C_ACLiC_dict.o: In function `HS::FinalState::~FinalState()':\n",
      "K2_C_ACLiC_dict.cxx:(.text._ZN2HS10FinalStateD2Ev[_ZN2HS10FinalStateD5Ev]+0xf): undefined reference to `vtable for HS::FinalState'\n",
      "/work/Dropbox/HaSpect/dev/HASPECT6/hsexamples/K2_C_ACLiC_dict.o:(.data.rel.ro._ZTV2K2[_ZTV2K2]+0x20): undefined reference to `HS::FinalState::WorkOnEvent()'\n",
      "/work/Dropbox/HaSpect/dev/HASPECT6/hsexamples/K2_C_ACLiC_dict.o:(.data.rel.ro._ZTV2K2[_ZTV2K2]+0x38): undefined reference to `HS::FinalState::InitFS()'\n",
      "/work/Dropbox/HaSpect/dev/HASPECT6/hsexamples/K2_C_ACLiC_dict.o:(.data.rel.ro._ZTV2K2[_ZTV2K2]+0x60): undefined reference to `HS::FinalState::UserProcess()'\n",
      "/work/Dropbox/HaSpect/dev/HASPECT6/hsexamples/K2_C_ACLiC_dict.o:(.data.rel.ro._ZTV2K2[_ZTV2K2]+0x68): undefined reference to `HS::FinalState::ProcessData(long long)'\n",
      "/work/Dropbox/HaSpect/dev/HASPECT6/hsexamples/K2_C_ACLiC_dict.o:(.data.rel.ro._ZTV2K2[_ZTV2K2]+0x70): undefined reference to `HS::FinalState::MatchWithGen(HS::THSParticle*)'\n",
      "/work/Dropbox/HaSpect/dev/HASPECT6/hsexamples/K2_C_ACLiC_dict.o:(.data.rel.ro._ZTV2K2[_ZTV2K2]+0x78): undefined reference to `HS::FinalState::IsCorrectTruth(HS::THSParticle*)'\n",
      "/work/Dropbox/HaSpect/dev/HASPECT6/hsexamples/K2_C_ACLiC_dict.o:(.data.rel.ro._ZTV2K2[_ZTV2K2]+0x88): undefined reference to `HS::FinalState::CheckTruth()'\n",
      "/work/Dropbox/HaSpect/dev/HASPECT6/hsexamples/K2_C_ACLiC_dict.o:(.data.rel.ro._ZTI2K2[_ZTI2K2]+0x10): undefined reference to `typeinfo for HS::FinalState'\n",
      "collect2: error: ld returned 1 exit status\n"
     ]
    },
    {
     "name": "stdout",
     "output_type": "stream",
     "text": [
      "(long) -1\n"
     ]
    }
   ],
   "source": [
    "gROOT->ProcessLine(\".x LoadK2.C+\")"
   ]
  },
  {
   "cell_type": "code",
   "execution_count": 6,
   "metadata": {},
   "outputs": [],
   "source": [
    "DeltaTimePCut mycut(10,5);//If this cell runs with no complaints it worked!"
   ]
  }
 ],
 "metadata": {
  "kernelspec": {
   "display_name": "ROOT C++",
   "language": "c++",
   "name": "root"
  },
  "language_info": {
   "codemirror_mode": "text/x-c++src",
   "file_extension": ".C",
   "mimetype": " text/x-c++src",
   "name": "c++"
  }
 },
 "nbformat": 4,
 "nbformat_minor": 2
}
