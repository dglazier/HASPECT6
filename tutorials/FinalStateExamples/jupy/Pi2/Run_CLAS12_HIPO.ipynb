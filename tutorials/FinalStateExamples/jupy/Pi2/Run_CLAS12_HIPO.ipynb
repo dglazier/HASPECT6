{
 "cells": [
  {
   "cell_type": "markdown",
   "metadata": {},
   "source": [
    "# Run the final state algorithm on a HIPO file"
   ]
  },
  {
   "cell_type": "markdown",
   "metadata": {},
   "source": [
    "First create an object of your final state class. You may configure it if you want to limit the number of particles in an event or set to just run on generated simulation data.\n",
    "This notebook is equivalent to the RunFSRootXXX.C macro which will be in the code directory.\n",
    "Again just change XXX for your class name.\n",
    "The string arguements set which particles you would like to use their pre-determined PID for and which you would like to be inclusive (i.e. any number of thse particles).\n",
    "**Example**, \n",
    "1. for tagged photon experiment I might want fs(\"Beam\",\"Beam\")\n",
    "This means use predetermined photon ID (i.e. I know it came from the tagger) and I will analyse events with any number of tagger photons.\n",
    "2. fs(\"e-\",\"proton:pi+:pi-\")  i.e. use predetemined electron PID and just determine hadron species based on charge and try all combinations in events with any number of proton,pi+,pi-, but with the number of electrons defined for the topology\n",
    "3. fs(\"NONE\",\"ALL\") => do not use any PID info other than charge, analyse events with any number of particles (this can be limited by SetMaxParticles)"
   ]
  },
  {
   "cell_type": "code",
   "execution_count": 1,
   "metadata": {
    "scrolled": true
   },
   "outputs": [
    {
     "name": "stdout",
     "output_type": "stream",
     "text": [
      "C12C12C12C12C12C12C12C12C12    utils\n",
      "C12C12C12C12C12C12C12C12C12    dictionary\n",
      "C12C12C12C12C12C12C12C12C12    node\n",
      "C12C12C12C12C12C12C12C12C12    event\n",
      "C12C12C12C12C12C12C12C12C12    record\n",
      "C12C12C12C12C12C12C12C12C12    reader\n",
      "C12C12C12C12C12C12C12C12C12    bank\n",
      "C12C12C12C12C12C12C12C12C12    header\n",
      "C12C12C12C12C12C12C12C12C12    particle\n",
      "C12C12C12C12C12C12C12C12C12    mcparticle\n",
      "C12C12C12C12C12C12C12C12C12    particle_detector\n",
      "C12C12C12C12C12C12C12C12C12    scintillator\n",
      "C12C12C12C12C12C12C12C12C12    calorimeter\n",
      "C12C12C12C12C12C12C12C12C12    cherenkov\n",
      "C12C12C12C12C12C12C12C12C12    forwardtagger\n",
      "C12C12C12C12C12C12C12C12C12    tracker\n",
      "C12C12C12C12C12C12C12C12C12    covmatrix\n",
      "C12C12C12C12C12C12C12C12C12    scaler\n",
      "C12C12C12C12C12C12C12C12C12    vtp\n",
      "C12C12C12C12C12C12C12C12C12    region_particle\n",
      "C12C12C12C12C12C12C12C12C12    region_ft\n",
      "C12C12C12C12C12C12C12C12C12    region_fdet\n",
      "C12C12C12C12C12C12C12C12C12    region_cdet\n",
      "C12C12C12C12C12C12C12C12C12    hallB_event\n",
      "%%%%%%%%%%%%%%%%%%%%%%%%%    FiledTree\n",
      "%%%%%%%%%%%%%%%%%%%%%%%%%    TreeData\n",
      "%%%%%%%%%%%%%%%%%%%%%%%%%    BaseParticleData\n"
     ]
    },
    {
     "name": "stderr",
     "output_type": "stream",
     "text": [
      "Info in <ACLiC>: unmodified script has already been compiled and loaded\n"
     ]
    },
    {
     "name": "stdout",
     "output_type": "stream",
     "text": [
      "%%%%%%%%%%%%%%%%%%%%%%%%%    BaseEventInfo\n",
      "%%%%%%%%%%%%%%%%%%%%%%%%%    BaseRunInfo\n",
      "%%%%%%%%%%%%%%%%%%%%%%%%%    Weights\n",
      "%%%%%%%%%%%%%%%%%%%%%%%%%    Bins\n",
      "%%%%%%%%%%%%%%%%%%%%%%%%%    DataManager\n",
      "%%%%%%%%%%%%%%%%%%%%%%%%%    LundReader\n",
      "12121212121212121212121212 EventInfo\n",
      "12121212121212121212121212 RunInfo\n",
      "12121212121212121212121212 HipoToolsReader\n",
      "12121212121212121212121212 ParticleData\n",
      "&&&&&&&&&&&&&&&&&&&&&&&&&&&& HSKinematics\n",
      "&&&&&&&&&&&&&&&&&&&&&&&&&&&& Cuts\n",
      "&&&&&&&&&&&&&&&&&&&&&&&&&&&& Combitorial\n",
      "&&&&&&&&&&&&&&&&&&&&&&&&&&&& ParticleIter\n",
      "&&&&&&&&&&&&&&&&&&&&&&&&&&&& Topology\n",
      "&&&&&&&&&&&&&&&&&&&&&&&&&&&& FinalState\n",
      "&&&&&&&&&&&&&&&&&&&&&&&&&&&& FiledTree\n",
      "&&&&&&&&&&&&&&&&&&&&&&&&&&&& TopoActionManager\n"
     ]
    },
    {
     "name": "stderr",
     "output_type": "stream",
     "text": [
      "Info in <ACLiC>: unmodified script has already been compiled and loaded\n"
     ]
    },
    {
     "name": "stdout",
     "output_type": "stream",
     "text": [
      "&&&&&&&&&&&&&&&&&&&&&&&&&&&& ParticleCuts\n",
      "&&&&&&&&&&&&&&&&&&&&&&&&&&&& TreeParticleData\n",
      "&&&&&&&&&&&&&&&&&&&&&&&&&&&& MVASignalID\n",
      "&&&&&&&&&&&&&&&&&&&&&&&&&&&& ParticleCutsManager\n",
      "&&&&&&&&&&&&&&&&&&&&&&&&&&&& ParticleDataManager\n",
      "&&&&&&&&&&&&&&&&&&&&&&&&&&&& MVASignalIDManager\n",
      "12121212121212121212121212 CLAS12Trigger\n",
      "12121212121212121212121212 CLAS12DeltaTime\n"
     ]
    }
   ],
   "source": [
    "gROOT->ProcessLine(\".x LoadPi2.C+\"); //Load the classes"
   ]
  },
  {
   "cell_type": "code",
   "execution_count": 2,
   "metadata": {},
   "outputs": [
    {
     "name": "stdout",
     "output_type": "stream",
     "text": [
      " WARNING running HS::FinalState::AutoIter() you  should check the topology print output and make sure the displayed iterator is waht you want ..\n",
      " WARNING running HS::FinalState::AutoIter() you  should check the topology print output and make sure the displayed iterator is waht you want ..\n",
      " WARNING running HS::FinalState::AutoIter() you  should check the topology print output and make sure the displayed iterator is waht you want ..\n",
      " WARNING running HS::FinalState::AutoIter() you  should check the topology print output and make sure the displayed iterator is waht you want ..\n",
      " Topology::Print() : 0\n",
      "    particles = -10000 -10000 10000 10000 \n",
      "You can have any number of the following particles : \n",
      " ALL \n",
      "The following particle are identified by pdg code : \n",
      " ALL \n",
      " ParticleIter::Print() \n",
      "     Type : 2 number chosen 1 of id  11 and number used here = 1\n",
      " ParticleIter::Print() \n",
      "     Type : 2 number chosen 1 of id  2212 and number used here = 1\n",
      " ParticleIter::Print() \n",
      "     Type : 2 number chosen 1 of id  -211 and number used here = 1\n",
      " ParticleIter::Print() \n",
      "     Type : 2 number chosen 1 of id  211 and number used here = 1\n",
      "\n",
      " Topology::Print() : 1\n",
      "    particles = -10000 10000 10000 \n",
      "You can have any number of the following particles : \n",
      " ALL \n",
      "The following particle are identified by pdg code : \n",
      " ALL \n",
      " ParticleIter::Print() \n",
      "     Type : 2 number chosen 1 of id  11 and number used here = 1\n",
      " ParticleIter::Print() \n",
      "     Type : 2 number chosen 1 of id  2212 and number used here = 1\n",
      " ParticleIter::Print() \n",
      "     Type : 2 number chosen 1 of id  211 and number used here = 1\n",
      "\n",
      " Topology::Print() : 2\n",
      "    particles = -10000 -10000 10000 \n",
      "You can have any number of the following particles : \n",
      " ALL \n",
      "The following particle are identified by pdg code : \n",
      " ALL \n",
      " ParticleIter::Print() \n",
      "     Type : 2 number chosen 1 of id  11 and number used here = 1\n",
      " ParticleIter::Print() \n",
      "     Type : 2 number chosen 1 of id  2212 and number used here = 1\n",
      " ParticleIter::Print() \n",
      "     Type : 2 number chosen 1 of id  -211 and number used here = 1\n",
      "\n",
      " Topology::Print() : 3\n",
      "    particles = -10000 -10000 10000 \n",
      "You can have any number of the following particles : \n",
      " ALL \n",
      "The following particle are identified by pdg code : \n",
      " ALL \n",
      " ParticleIter::Print() \n",
      "     Type : 2 number chosen 1 of id  11 and number used here = 1\n",
      " ParticleIter::Print() \n",
      "     Type : 2 number chosen 1 of id  211 and number used here = 1\n",
      " ParticleIter::Print() \n",
      "     Type : 2 number chosen 1 of id  -211 and number used here = 1\n",
      "\n"
     ]
    }
   ],
   "source": [
    " Pi2 fs(\"NONE\",\"ALL\"); //string arguments => PID, INCLUSIVE "
   ]
  },
  {
   "cell_type": "markdown",
   "metadata": {},
   "source": [
    "Create an output tree. The Filed tree needs 2 strings ,1 a treename and the other the file name. You should give the full path for where you would like the files saved. It will overwrite any existing files. "
   ]
  },
  {
   "cell_type": "code",
   "execution_count": 3,
   "metadata": {},
   "outputs": [],
   "source": [
    "  //strings = treename and filename (give full path)\n",
    " fs.CreateFinalTree(\"FinalTree\",\"OUTPUT.root\");"
   ]
  },
  {
   "cell_type": "markdown",
   "metadata": {},
   "source": [
    "Here we add the cuts for each particle. This is done via a HS::Cuts object which gets propogated to each particle in each topology. To specify any type of cut behaviour you need to generate your own Cuts Method. Here we just use a predefined delta time cut but you could make your won class which has momentum dependence as well."
   ]
  },
  {
   "cell_type": "markdown",
   "metadata": {},
   "source": [
    "Here I use a predefined CLAS12DeltaTime cuts class for PID. It takes 4 arguments which are cuts centred on zero for FT, FD, CD, FDCAL (for neutra) respectively.\n",
    "\n",
    "I define specific cuts for proton and electron, while restrict other particles (here just pions) to only be in CD."
   ]
  },
  {
   "cell_type": "code",
   "execution_count": 4,
   "metadata": {},
   "outputs": [
    {
     "name": "stdout",
     "output_type": "stream",
     "text": [
      "Info ParticleCutsManager AddParticleCut set cut for 0\n",
      "Info ParticleCutsManager AddParticleCut set cut for 11\n",
      "Info ParticleCutsManager AddParticleCut set cut for 2212\n"
     ]
    }
   ],
   "source": [
    "auto cutsman=make_shared<ParticleCutsManager>();\n",
    "auto eCut=make_shared<CLAS12DeltaTime>(4,4,0,0); //4ns FT,FD,\n",
    "auto protCut=make_shared<CLAS12DeltaTime>(0,5,5,0); //5ns FD,CD\n",
    "auto otherCut=make_shared<CLAS12DeltaTime>(0,5,0,0); //5ns FD\n",
    "cutsman->AddParticleCut(\"e-\",eCut); //assign to manager\n",
    "cutsman->AddParticleCut(\"proton\",protCut); //assign to manager\n",
    "cutsman->SetDefaultCut(otherCut); //assign to manager\n",
    "cutsman->ConfigureCuts(&fs);   "
   ]
  },
  {
   "cell_type": "markdown",
   "metadata": {},
   "source": [
    "Now register the cuts manager as a post topology function action. This will be applied after the Topo_0 etc functions when start times etc have been determined."
   ]
  },
  {
   "cell_type": "code",
   "execution_count": 5,
   "metadata": {},
   "outputs": [],
   "source": [
    "fs.RegisterPostTopoAction(cutsman);"
   ]
  },
  {
   "cell_type": "markdown",
   "metadata": {},
   "source": [
    "Now we configure the input data. Here we use a ROOT file presaved in HSDATA format. It is possible to analyse other dataformats via the DataManager class."
   ]
  },
  {
   "cell_type": "markdown",
   "metadata": {},
   "source": [
    "**Particle Monitoring** here we are going to make seperate trees for each topology and only keep the detected particle information in each one. The string given to TreePrepManager should be the full path to the output file directory. \n",
    "Note as this is registered as a post work action all cuts, including any in Pi2::Kinematics, will be applied."
   ]
  },
  {
   "cell_type": "code",
   "execution_count": 6,
   "metadata": {},
   "outputs": [
    {
     "name": "stdout",
     "output_type": "stream",
     "text": [
      "ParticleDataManager OutDir particleTrees cannot make this directory, you may need to delete it first or make sure its parent directory exists\n",
      "NExt topo \n",
      "TreeParticleData:: Adding Electron\n",
      "TreeParticleData:: Adding Proton\n",
      "TreeParticleData:: Adding Pip\n",
      "TreeParticleData:: Adding Pim\n",
      "HS::TreeParticleData::SetBranches() Setting branches...\n",
      "Register\n",
      "done \n",
      "NExt topo \n",
      "TreeParticleData:: Adding Electron\n",
      "TreeParticleData:: Adding Proton\n",
      "TreeParticleData:: Adding Pip\n",
      "HS::TreeParticleData::SetBranches() Setting branches...\n",
      "Register\n",
      "done \n",
      "NExt topo \n",
      "TreeParticleData:: Adding Electron\n",
      "TreeParticleData:: Adding Proton\n",
      "TreeParticleData:: Adding Pim\n",
      "HS::TreeParticleData::SetBranches() Setting branches...\n",
      "Register\n",
      "done \n",
      "NExt topo \n",
      "TreeParticleData:: Adding Electron\n",
      "TreeParticleData:: Adding Pip\n",
      "TreeParticleData:: Adding Pim\n",
      "HS::TreeParticleData::SetBranches() Setting branches...\n",
      "Register\n",
      "done \n"
     ]
    }
   ],
   "source": [
    "auto treeman=make_shared<ParticleDataManager>(\"particleTrees\");\n",
    "treeman->ConfigureTreeParticles(&fs); //propogate through topologies\n",
    "treeman->AddFinal(); //if you want the final tree branches included with particles\n",
    "fs.RegisterPostWorkAction(treeman); //register post-work i.e. after"
   ]
  },
  {
   "cell_type": "markdown",
   "metadata": {},
   "source": [
    "Now I want to analyse a hipo file so I am going to use the datamanager HipoToolsReader for CLAS12 DSTs."
   ]
  },
  {
   "cell_type": "code",
   "execution_count": 7,
   "metadata": {},
   "outputs": [
    {
     "name": "stdout",
     "output_type": "stream",
     "text": [
      "\n",
      "*****>>>>> compiled with c++11 support.\n",
      "************************************************\n",
      "*         >=<         ---------------------    *\n",
      "*    ,.--'  ''-.      HIPO 3.0 I/O Library     *\n",
      "*    (  )  ',_.'      Jefferson National Lab   *\n",
      "*     Xx'xX           Date: 10/27/2017         *\n",
      "************************************************\n",
      "\n",
      "---> resizing internal compressed buffer size to from 0 to 4735980\n",
      " resizing internal buffer from 0 to 8379472\n",
      " read record =        28388 next      4759304  nevenets = 1845 length = 4730916\n",
      "\n",
      "*****>>>>> compiled with c++11 support.\n",
      "---> resizing internal compressed buffer size to from 0 to 33396\n",
      " resizing internal buffer from 0 to 27801\n",
      "compression type = 0 data length = 28273\n",
      "** error ** entry DETECTOR::Hits int schema hitPosition has undefined type.\n",
      "** error ** entry DETECTOR::Hits int schema matchPosition has undefined type.\n",
      "  covmatrix::init REC::CovMat\n",
      " calorimeter::init REC::Calorimeter\n",
      " scintilator::init REC::Scintillator\n",
      " cherenkov::init REC::Cherenkov\n",
      " forwardtagger::init REC::ForwardTagger\n"
     ]
    },
    {
     "name": "stderr",
     "output_type": "stream",
     "text": [
      "Info in <DataManager::InitChain>:  Will proceess all 1 files in chain\n"
     ]
    }
   ],
   "source": [
    " //create datamanager\n",
    "  auto dm=std::make_shared<HipoToolsReader>();\n",
    "\n",
    "  //And make a chain of data files\n",
    "  TChain chain(\"HSParticles\");\n",
    "  chain.Add(\"/work/jlab/clas12data/trains/v1/5bp6p2/skim3_mesonx_vs/skim3_3933.hipo\");\n",
    "  dm->InitChain(&chain);\n",
    "\n",
    "  //connect FinalState to Data by moving the pointer\n",
    "  fs.SetDataManager(dm);"
   ]
  },
  {
   "cell_type": "markdown",
   "metadata": {},
   "source": [
    "Analyse all the events. Not you may prefer just looping over the data manager directly via while(dm->ReadEvent()) fs->Process();\n",
    "You can also supply a number of events to analyse e.g. fs.ProcessData(100);"
   ]
  },
  {
   "cell_type": "code",
   "execution_count": 8,
   "metadata": {},
   "outputs": [
    {
     "name": "stdout",
     "output_type": "stream",
     "text": [
      "0 0\n",
      "---> resizing internal compressed buffer size to from 4735980 to 4745980\n",
      " resizing internal buffer from 8387876 to 8380705\n",
      "100000\n",
      " ProcessData event 100000\n",
      "200000\n",
      " ProcessData event 200000\n",
      "---> resizing internal compressed buffer size to from 4745980 to 4756676\n",
      "300000\n",
      " ProcessData event 300000\n",
      "400000\n",
      " ProcessData event 400000\n",
      "500000\n",
      " ProcessData event 500000\n",
      "600000\n",
      " ProcessData event 600000\n",
      "700000\n",
      " ProcessData event 700000\n",
      "800000\n",
      " ProcessData event 800000\n",
      "900000\n",
      " ProcessData event 900000\n",
      "1000000\n",
      " ProcessData event 1000000\n",
      "1100000\n",
      " ProcessData event 1100000\n",
      "1200000\n",
      " ProcessData event 1200000\n",
      "1300000\n",
      " ProcessData event 1300000\n",
      "1400000\n",
      " ProcessData event 1400000\n",
      "1500000\n",
      " ProcessData event 1500000\n",
      "1600000\n",
      " ProcessData event 1600000\n",
      "1700000\n",
      " ProcessData event 1700000\n",
      "1800000\n",
      " ProcessData event 1800000\n",
      "1900000\n",
      " ProcessData event 1900000\n",
      "2000000\n",
      " ProcessData event 2000000\n",
      "2100000\n",
      " ProcessData event 2100000\n",
      "2200000\n",
      " ProcessData event 2200000\n",
      "2300000\n",
      " ProcessData event 2300000\n",
      "2400000\n",
      " ProcessData event 2400000\n",
      "2500000\n",
      " ProcessData event 2500000\n",
      "2600000\n",
      " ProcessData event 2600000\n",
      "2700000\n",
      " ProcessData event 2700000\n",
      "2800000\n",
      " ProcessData event 2800000\n",
      "2900000\n",
      " ProcessData event 2900000\n",
      "3000000\n",
      " ProcessData event 3000000\n",
      "3100000\n",
      " ProcessData event 3100000\n",
      "3200000\n",
      " ProcessData event 3200000\n",
      "3300000\n",
      " ProcessData event 3300000\n",
      "3400000\n",
      " ProcessData event 3400000\n",
      "3500000\n",
      " ProcessData event 3500000\n",
      "3600000\n",
      " ProcessData event 3600000\n",
      "3700000\n",
      " ProcessData event 3700000\n",
      "3800000\n",
      " ProcessData event 3800000\n",
      "3900000\n",
      " ProcessData event 3900000\n",
      "4000000\n",
      " ProcessData event 4000000\n",
      "4100000\n",
      " ProcessData event 4100000\n",
      "4200000\n",
      " ProcessData event 4200000\n",
      "4300000\n",
      " ProcessData event 4300000\n",
      "4400000\n",
      " ProcessData event 4400000\n",
      "4500000\n",
      " ProcessData event 4500000\n",
      "4600000\n",
      " ProcessData event 4600000\n",
      "4700000\n",
      " ProcessData event 4700000\n",
      "4800000\n",
      " ProcessData event 4800000\n",
      "4900000\n",
      " ProcessData event 4900000\n",
      "5000000\n",
      " ProcessData event 5000000\n",
      "5100000\n",
      " ProcessData event 5100000\n",
      "5200000\n",
      " ProcessData event 5200000\n",
      "5300000\n",
      " ProcessData event 5300000\n",
      "5400000\n",
      " ProcessData event 5400000\n",
      "5500000\n",
      " ProcessData event 5500000\n",
      "5600000\n",
      " ProcessData event 5600000\n",
      "5700000\n",
      " ProcessData event 5700000\n",
      "5800000\n",
      " ProcessData event 5800000\n",
      "5900000\n",
      " ProcessData event 5900000\n",
      "6000000\n",
      " ProcessData event 6000000\n",
      "6100000\n",
      " ProcessData event 6100000\n",
      "---> resizing internal compressed buffer size to from 4756676 to 4762744\n",
      "6200000\n",
      " ProcessData event 6200000\n",
      "6300000\n",
      " ProcessData event 6300000\n",
      "6400000\n",
      " ProcessData event 6400000\n",
      "6500000\n",
      " ProcessData event 6500000\n",
      "6600000\n",
      " ProcessData event 6600000\n",
      "6700000\n",
      " ProcessData event 6700000\n",
      "6800000\n",
      " ProcessData event 6800000\n",
      "6900000\n",
      " ProcessData event 6900000\n",
      "7000000\n",
      " ProcessData event 7000000\n",
      "7100000\n",
      " ProcessData event 7100000\n",
      "**** reached the end of file : records = 3895 , events = 7189806\n",
      "DataManager::NextChainFile() Finished all files \n"
     ]
    }
   ],
   "source": [
    "fs.ProcessData(); //No number given, analyse all events in chain"
   ]
  },
  {
   "cell_type": "code",
   "execution_count": 9,
   "metadata": {},
   "outputs": [],
   "source": [
    "%jsroot"
   ]
  },
  {
   "cell_type": "markdown",
   "metadata": {},
   "source": [
    "Draw some variables from your final tree."
   ]
  },
  {
   "cell_type": "code",
   "execution_count": 10,
   "metadata": {},
   "outputs": [
    {
     "data": {
      "text/html": [
       "\n",
       "<div id=\"root_plot_1\"\n",
       "     style=\"width: 696px; height: 472px\">\n",
       "</div>\n",
       "\n",
       "<script>\n",
       " requirejs.config({\n",
       "     paths: {\n",
       "       'JSRootCore' : 'https://root.cern.ch/js/notebook//scripts/JSRootCore',\n",
       "     }\n",
       "   });\n",
       " require(['JSRootCore'],\n",
       "     function(Core) {\n",
       "       var obj = Core.JSONR_unref({\"_typename\":\"TCanvas\",\"fUniqueID\":0,\"fBits\":36896776,\"fLineColor\":1,\"fLineStyle\":1,\"fLineWidth\":1,\"fFillColor\":0,\"fFillStyle\":1001,\"fLeftMargin\":0.1,\"fRightMargin\":0.1,\"fBottomMargin\":0.1,\"fTopMargin\":0.1,\"fXfile\":2,\"fYfile\":2,\"fAfile\":1,\"fXstat\":0.99,\"fYstat\":0.99,\"fAstat\":2,\"fFrameFillColor\":0,\"fFrameLineColor\":1,\"fFrameFillStyle\":1001,\"fFrameLineStyle\":1,\"fFrameLineWidth\":1,\"fFrameBorderSize\":1,\"fFrameBorderMode\":0,\"fX1\":-0.625000009313226,\"fY1\":78.410303392433,\"fX2\":0.625000009313226,\"fY2\":1300.80719660757,\"fXtoAbsPixelk\":348.00005,\"fXtoPixelk\":348.00005,\"fXtoPixel\":556.799991703033,\"fYtoAbsPixelk\":502.276356661649,\"fYtoPixelk\":502.276356661649,\"fYtoPixel\":-0.386126635808564,\"fUtoAbsPixelk\":5e-5,\"fUtoPixelk\":5e-5,\"fUtoPixel\":696,\"fVtoAbsPixelk\":472.00005,\"fVtoPixelk\":472,\"fVtoPixel\":-472,\"fAbsPixeltoXk\":-0.625000009313226,\"fPixeltoXk\":-0.625000009313226,\"fPixeltoX\":0.0017959770382564,\"fAbsPixeltoYk\":1300.80719660757,\"fPixeltoYk\":78.410303392433,\"fPixeltoY\":-2.58982392630325,\"fXlowNDC\":0,\"fYlowNDC\":0,\"fXUpNDC\":0,\"fYUpNDC\":0,\"fWNDC\":1,\"fHNDC\":1,\"fAbsXlowNDC\":0,\"fAbsYlowNDC\":0,\"fAbsWNDC\":1,\"fAbsHNDC\":1,\"fUxmin\":-0.5,\"fUymin\":200.65,\"fUxmax\":0.5,\"fUymax\":1178.5675,\"fTheta\":30,\"fPhi\":30,\"fAspectRatio\":0,\"fNumber\":0,\"fTickx\":0,\"fTicky\":0,\"fLogx\":0,\"fLogy\":0,\"fLogz\":0,\"fPadPaint\":0,\"fCrosshair\":0,\"fCrosshairPos\":0,\"fBorderSize\":2,\"fBorderMode\":0,\"fModified\":false,\"fGridx\":false,\"fGridy\":false,\"fAbsCoord\":false,\"fEditable\":true,\"fFixedAspectRatio\":false,\"fPrimitives\":{\"_typename\":\"TList\",\"name\":\"TList\",\"arr\":[{\"_typename\":\"TFrame\",\"fUniqueID\":0,\"fBits\":50331656,\"fLineColor\":1,\"fLineStyle\":1,\"fLineWidth\":1,\"fFillColor\":0,\"fFillStyle\":1001,\"fX1\":-0.5,\"fY1\":200.65,\"fX2\":0.5,\"fY2\":1178.5675,\"fBorderSize\":1,\"fBorderMode\":0},{\"_typename\":\"TH1F\",\"fUniqueID\":0,\"fBits\":50331656,\"fName\":\"h1\",\"fTitle\":\"MissMass2 {Topo==0}\",\"fLineColor\":602,\"fLineStyle\":1,\"fLineWidth\":1,\"fFillColor\":0,\"fFillStyle\":1001,\"fMarkerColor\":1,\"fMarkerStyle\":1,\"fMarkerSize\":1,\"fNcells\":102,\"fXaxis\":{\"_typename\":\"TAxis\",\"fUniqueID\":0,\"fBits\":50331648,\"fName\":\"xaxis\",\"fTitle\":\"\",\"fNdivisions\":510,\"fAxisColor\":1,\"fLabelColor\":1,\"fLabelFont\":42,\"fLabelOffset\":0.005,\"fLabelSize\":0.035,\"fTickLength\":0.03,\"fTitleOffset\":1,\"fTitleSize\":0.035,\"fTitleColor\":1,\"fTitleFont\":42,\"fNbins\":100,\"fXmin\":-0.5,\"fXmax\":0.5,\"fXbins\":[],\"fFirst\":0,\"fLast\":0,\"fBits2\":0,\"fTimeDisplay\":false,\"fTimeFormat\":\"\",\"fLabels\":null,\"fModLabs\":null},\"fYaxis\":{\"_typename\":\"TAxis\",\"fUniqueID\":0,\"fBits\":50331648,\"fName\":\"yaxis\",\"fTitle\":\"\",\"fNdivisions\":510,\"fAxisColor\":1,\"fLabelColor\":1,\"fLabelFont\":42,\"fLabelOffset\":0.005,\"fLabelSize\":0.035,\"fTickLength\":0.03,\"fTitleOffset\":0,\"fTitleSize\":0.035,\"fTitleColor\":1,\"fTitleFont\":42,\"fNbins\":1,\"fXmin\":0,\"fXmax\":1,\"fXbins\":[],\"fFirst\":0,\"fLast\":0,\"fBits2\":0,\"fTimeDisplay\":false,\"fTimeFormat\":\"\",\"fLabels\":null,\"fModLabs\":null},\"fZaxis\":{\"_typename\":\"TAxis\",\"fUniqueID\":0,\"fBits\":50331648,\"fName\":\"zaxis\",\"fTitle\":\"\",\"fNdivisions\":510,\"fAxisColor\":1,\"fLabelColor\":1,\"fLabelFont\":42,\"fLabelOffset\":0.005,\"fLabelSize\":0.035,\"fTickLength\":0.03,\"fTitleOffset\":1,\"fTitleSize\":0.035,\"fTitleColor\":1,\"fTitleFont\":42,\"fNbins\":1,\"fXmin\":0,\"fXmax\":1,\"fXbins\":[],\"fFirst\":0,\"fLast\":0,\"fBits2\":0,\"fTimeDisplay\":false,\"fTimeFormat\":\"\",\"fLabels\":null,\"fModLabs\":null},\"fBarOffset\":0,\"fBarWidth\":1000,\"fEntries\":166132,\"fTsumw\":41657,\"fTsumw2\":41657,\"fTsumwx\":1278.1169055096,\"fTsumwx2\":2896.80182494987,\"fMaximum\":-1111,\"fMinimum\":-1111,\"fNormFactor\":0,\"fContour\":[],\"fSumw2\":[],\"fOption\":\"\",\"fFunctions\":{\"_typename\":\"TList\",\"name\":\"TList\",\"arr\":[{\"_typename\":\"TPaveStats\",\"fUniqueID\":0,\"fBits\":50331657,\"fLineColor\":1,\"fLineStyle\":1,\"fLineWidth\":1,\"fFillColor\":0,\"fFillStyle\":1001,\"fX1\":0.350000025331975,\"fY1\":1025.76790292022,\"fX2\":0.600000032782556,\"fY2\":1221.351401463,\"fX1NDC\":0.780000016093254,\"fY1NDC\":0.775000005960464,\"fX2NDC\":0.980000019073486,\"fY2NDC\":0.935000002384186,\"fBorderSize\":1,\"fInit\":1,\"fShadowColor\":1,\"fCornerRadius\":0,\"fOption\":\"brNDC\",\"fName\":\"stats\",\"fTextAngle\":0,\"fTextSize\":0,\"fTextAlign\":12,\"fTextColor\":1,\"fTextFont\":42,\"fLabel\":\"\",\"fLongest\":18,\"fMargin\":0.05,\"fLines\":{\"_typename\":\"TList\",\"name\":\"TList\",\"arr\":[{\"_typename\":\"TLatex\",\"fUniqueID\":0,\"fBits\":50331648,\"fName\":\"\",\"fTitle\":\"h1\",\"fTextAngle\":0,\"fTextSize\":0.0368,\"fTextAlign\":0,\"fTextColor\":0,\"fTextFont\":0,\"fX\":0,\"fY\":0,\"fLineColor\":1,\"fLineStyle\":1,\"fLineWidth\":2,\"fLimitFactorSize\":3,\"fOriginSize\":0.0368000008165836},{\"_typename\":\"TLatex\",\"fUniqueID\":0,\"fBits\":50331648,\"fName\":\"\",\"fTitle\":\"Entries = 166132 \",\"fTextAngle\":0,\"fTextSize\":0,\"fTextAlign\":0,\"fTextColor\":0,\"fTextFont\":0,\"fX\":0,\"fY\":0,\"fLineColor\":1,\"fLineStyle\":1,\"fLineWidth\":2,\"fLimitFactorSize\":3,\"fOriginSize\":0.04},{\"_typename\":\"TLatex\",\"fUniqueID\":0,\"fBits\":50331648,\"fName\":\"\",\"fTitle\":\"Mean  = 0.03068\",\"fTextAngle\":0,\"fTextSize\":0,\"fTextAlign\":0,\"fTextColor\":0,\"fTextFont\":0,\"fX\":0,\"fY\":0,\"fLineColor\":1,\"fLineStyle\":1,\"fLineWidth\":2,\"fLimitFactorSize\":3,\"fOriginSize\":0.04},{\"_typename\":\"TLatex\",\"fUniqueID\":0,\"fBits\":50331648,\"fName\":\"\",\"fTitle\":\"Std Dev   = 0.2619\",\"fTextAngle\":0,\"fTextSize\":0,\"fTextAlign\":0,\"fTextColor\":0,\"fTextFont\":0,\"fX\":0,\"fY\":0,\"fLineColor\":1,\"fLineStyle\":1,\"fLineWidth\":2,\"fLimitFactorSize\":3,\"fOriginSize\":0.04}],\"opt\":[\"\",\"\",\"\",\"\"]},\"fOptFit\":0,\"fOptStat\":1111,\"fFitFormat\":\"5.4g\",\"fStatFormat\":\"6.4g\",\"fParent\":{\"$ref\":3}}],\"opt\":[\"brNDC\"]},\"fBufferSize\":0,\"fBuffer\":[],\"fBinStatErrOpt\":0,\"fStatOverflows\":2,\"fArray\":[51380,263,245,261,264,290,267,286,298,307,277,279,271,301,286,304,301,256,314,282,302,317,284,317,312,305,301,294,309,341,379,405,362,349,396,389,335,393,408,416,421,445,486,491,500,568,589,669,873,984,1132,770,593,565,519,534,496,515,509,511,470,484,413,485,469,441,460,481,396,438,406,445,416,422,464,431,472,418,447,383,435,405,417,387,406,419,440,436,406,376,408,391,382,385,413,392,413,369,339,360,401,73095]},{\"_typename\":\"TPaveText\",\"fUniqueID\":0,\"fBits\":50331657,\"fLineColor\":1,\"fLineStyle\":1,\"fLineWidth\":1,\"fFillColor\":0,\"fFillStyle\":0,\"fX1\":-0.238793107006571,\"fY1\":1220.1082888928,\"fX2\":0.238793107006571,\"fY2\":1294.69521797033,\"fX1NDC\":0.308965517241379,\"fY1NDC\":0.933983055615829,\"fX2NDC\":0.691034482758621,\"fY2NDC\":0.995000004768372,\"fBorderSize\":0,\"fInit\":1,\"fShadowColor\":1,\"fCornerRadius\":0,\"fOption\":\"blNDC\",\"fName\":\"title\",\"fTextAngle\":0,\"fTextSize\":0,\"fTextAlign\":22,\"fTextColor\":1,\"fTextFont\":42,\"fLabel\":\"\",\"fLongest\":19,\"fMargin\":0.05,\"fLines\":{\"_typename\":\"TList\",\"name\":\"TList\",\"arr\":[{\"_typename\":\"TLatex\",\"fUniqueID\":0,\"fBits\":50331648,\"fName\":\"\",\"fTitle\":\"MissMass2 {Topo==0}\",\"fTextAngle\":0,\"fTextSize\":0,\"fTextAlign\":0,\"fTextColor\":0,\"fTextFont\":0,\"fX\":0,\"fY\":0,\"fLineColor\":1,\"fLineStyle\":1,\"fLineWidth\":2,\"fLimitFactorSize\":3,\"fOriginSize\":0.0518644079566002}],\"opt\":[\"\"]}}],\"opt\":[\"\",\"\",\"blNDC\"]},\"fExecs\":null,\"fName\":\"c1\",\"fTitle\":\"c1\",\"fNumPaletteColor\":0,\"fNextPaletteColor\":0,\"fDISPLAY\":\"$DISPLAY\",\"fDoubleBuffer\":0,\"fRetained\":true,\"fXsizeUser\":0,\"fYsizeUser\":0,\"fXsizeReal\":20,\"fYsizeReal\":14.28571,\"fWindowTopX\":0,\"fWindowTopY\":0,\"fWindowWidth\":0,\"fWindowHeight\":0,\"fCw\":696,\"fCh\":472,\"fCatt\":{\"_typename\":\"TAttCanvas\",\"fXBetween\":2,\"fYBetween\":2,\"fTitleFromTop\":1.2,\"fXdate\":0.2,\"fYdate\":0.3,\"fAdate\":1},\"kMoveOpaque\":true,\"kResizeOpaque\":true,\"fHighLightColor\":2,\"fBatch\":true,\"kShowEventStatus\":false,\"kAutoExec\":true,\"kMenuBar\":true});\n",
       "       Core.draw(\"root_plot_1\", obj, \"\");\n",
       "     }\n",
       " );\n",
       "</script>\n"
      ],
      "text/plain": [
       "<IPython.core.display.HTML object>"
      ]
     },
     "metadata": {},
     "output_type": "display_data"
    }
   ],
   "source": [
    "TCanvas c1;\n",
    "fs.FinalTree()->Draw(\"MissMass2>>h1(100,-0.5,0.5)\",\"Topo==0\");\n",
    "//fs.FinalTree()->Draw(\"MissMass2\",\"Topo==1\",\"same\");\n",
    "//fs.FinalTree()->Draw(\"MissMass2\",\"Topo==2\",\"same\");\n",
    "//fs.FinalTree()->Draw(\"MissMass2\",\"Topo==3\",\"same\");\n",
    "//h1->SetMinimum(0);\n",
    "c1.Draw();"
   ]
  },
  {
   "cell_type": "markdown",
   "metadata": {},
   "source": [
    "Draw some variables from the saved particle information"
   ]
  },
  {
   "cell_type": "code",
   "execution_count": 13,
   "metadata": {},
   "outputs": [
    {
     "name": "stderr",
     "output_type": "stream",
     "text": [
      "\n",
      "Thread 9 (Thread 0x7ffb267fc700 (LWP 15200)):\n",
      "#0  0x00007ffb4c7606c2 in __GI___waitpid (pid=15203, stat_loc=stat_loc\n",
      "entry=0x7ffb267f84b8, options=options\n",
      "entry=0) at ../sysdeps/unix/sysv/linux/waitpid.c:30\n",
      "#1  0x00007ffb4c6cb067 in do_system (line=<optimised out>) at ../sysdeps/posix/system.c:149\n",
      "#2  0x00007ffb469ad05b in TUnixSystem::Exec (shellcmd=<optimised out>, this=0x56424b3e9140) at /work/root/v6.14.04/core/unix/src/TUnixSystem.cxx:2119\n",
      "#3  TUnixSystem::StackTrace (this=0x56424b3e9140) at /work/root/v6.14.04/core/unix/src/TUnixSystem.cxx:2413\n",
      "#4  0x00007ffb41c22f45 in cling::MultiplexInterpreterCallbacks::PrintStackTrace() () from /work/root/v6.14.04/lib/libCling.so\n",
      "#5  0x00007ffb41c229cb in cling_runtime_internal_throwIfInvalidPointer () from /work/root/v6.14.04/lib/libCling.so\n",
      "#6  0x00007ffb482954cb in ?? ()\n",
      "#7  0x000056424b444330 in ?? ()\n",
      "#8  0x00007ffb0f158070 in ?? ()\n",
      "#9  0x00007ffb41c22980 in ?? () from /work/root/v6.14.04/lib/libCling.so\n",
      "#10 0x00007ffb267fa9e8 in ?? ()\n",
      "#11 0x00007ffb267fa9e8 in ?? ()\n",
      "#12 0x00007ffb00561510 in ?? ()\n",
      "#13 0x00007ffb267faa00 in ?? ()\n",
      "#14 0x00007ffb482910fb in ?? ()\n",
      "#15 0x0000000000000012 in ?? ()\n",
      "#16 0x0000000000000000 in ?? ()\n",
      "\n",
      "Thread 8 (Thread 0x7ffb26ffd700 (LWP 7956)):\n",
      "#0  0x00007ffb4c79303f in __GI___select (nfds=0, readfds=0x0, writefds=0x0, exceptfds=0x0, timeout=0x7ffb26ffc790) at ../sysdeps/unix/sysv/linux/select.c:41\n",
      "#1  0x0000564248e4b841 in ?? ()\n",
      "#2  0x0000564248dab4ca in PyEval_EvalFrameEx ()\n",
      "#3  0x0000564248db0232 in PyEval_EvalFrameEx ()\n",
      "#4  0x0000564248db0232 in PyEval_EvalFrameEx ()\n",
      "#5  0x0000564248da8d0a in PyEval_EvalCodeEx ()\n",
      "#6  0x0000564248dc4619 in ?? ()\n",
      "#7  0x0000564248ddd0de in ?? ()\n",
      "#8  0x0000564248d9477e in PyObject_Call ()\n",
      "#9  0x0000564248db4800 in PyEval_CallObjectWithKeywords ()\n",
      "#10 0x0000564248e48ba2 in ?? ()\n",
      "#11 0x00007ffb4c4646db in start_thread (arg=0x7ffb26ffd700) at pthread_create.c:463\n",
      "#12 0x00007ffb4c79d88f in clone () at ../sysdeps/unix/sysv/linux/x86_64/clone.S:95\n",
      "\n",
      "Thread 7 (Thread 0x7ffb277fe700 (LWP 7946)):\n",
      "#0  0x00007ffb4c79dbb7 in epoll_wait (epfd=46, events=0x7ffb277fd1d0, maxevents=256, timeout=-1) at ../sysdeps/unix/sysv/linux/epoll_wait.c:30\n",
      "#1  0x00007ffb387e1c21 in ?? () from /usr/local/lib/python2.7/dist-packages/zmq/backend/cython/../../.libs/libzmq-f7ef747e.so.5.1.5\n",
      "#2  0x00007ffb387fe391 in ?? () from /usr/local/lib/python2.7/dist-packages/zmq/backend/cython/../../.libs/libzmq-f7ef747e.so.5.1.5\n",
      "#3  0x00007ffb38825f84 in ?? () from /usr/local/lib/python2.7/dist-packages/zmq/backend/cython/../../.libs/libzmq-f7ef747e.so.5.1.5\n",
      "#4  0x00007ffb4c4646db in start_thread (arg=0x7ffb277fe700) at pthread_create.c:463\n",
      "#5  0x00007ffb4c79d88f in clone () at ../sysdeps/unix/sysv/linux/x86_64/clone.S:95\n",
      "\n",
      "Thread 6 (Thread 0x7ffb27fff700 (LWP 7945)):\n",
      "#0  0x00007ffb4c79dbb7 in epoll_wait (epfd=43, events=0x7ffb27ffe1d0, maxevents=256, timeout=-1) at ../sysdeps/unix/sysv/linux/epoll_wait.c:30\n",
      "#1  0x00007ffb387e1c21 in ?? () from /usr/local/lib/python2.7/dist-packages/zmq/backend/cython/../../.libs/libzmq-f7ef747e.so.5.1.5\n",
      "#2  0x00007ffb387fe391 in ?? () from /usr/local/lib/python2.7/dist-packages/zmq/backend/cython/../../.libs/libzmq-f7ef747e.so.5.1.5\n",
      "#3  0x00007ffb38825f84 in ?? () from /usr/local/lib/python2.7/dist-packages/zmq/backend/cython/../../.libs/libzmq-f7ef747e.so.5.1.5\n",
      "#4  0x00007ffb4c4646db in start_thread (arg=0x7ffb27fff700) at pthread_create.c:463\n",
      "#5  0x00007ffb4c79d88f in clone () at ../sysdeps/unix/sysv/linux/x86_64/clone.S:95\n",
      "\n",
      "Thread 5 (Thread 0x7ffb34b60700 (LWP 7944)):\n",
      "#0  0x00007ffb4c790bf9 in __GI___poll (fds=0x7ffb34b5f3f0, nfds=2, timeout=-1) at ../sysdeps/unix/sysv/linux/poll.c:29\n",
      "#1  0x00007ffb38839b51 in zmq_poll () from /usr/local/lib/python2.7/dist-packages/zmq/backend/cython/../../.libs/libzmq-f7ef747e.so.5.1.5\n",
      "#2  0x00007ffb387ff425 in ?? () from /usr/local/lib/python2.7/dist-packages/zmq/backend/cython/../../.libs/libzmq-f7ef747e.so.5.1.5\n",
      "#3  0x00007ffb3883aa34 in zmq_proxy () from /usr/local/lib/python2.7/dist-packages/zmq/backend/cython/../../.libs/libzmq-f7ef747e.so.5.1.5\n",
      "#4  0x00007ffb37206ac0 in ?? () from /usr/local/lib/python2.7/dist-packages/zmq/backend/cython/_device.so\n",
      "#5  0x00007ffb3720624f in ?? () from /usr/local/lib/python2.7/dist-packages/zmq/backend/cython/_device.so\n",
      "#6  0x0000564248db0420 in PyEval_EvalFrameEx ()\n",
      "#7  0x0000564248db0232 in PyEval_EvalFrameEx ()\n",
      "#8  0x0000564248db0232 in PyEval_EvalFrameEx ()\n",
      "#9  0x0000564248da8d0a in PyEval_EvalCodeEx ()\n",
      "#10 0x0000564248dc4619 in ?? ()\n",
      "#11 0x0000564248ddd0de in ?? ()\n",
      "#12 0x0000564248d9477e in PyObject_Call ()\n",
      "#13 0x0000564248db4800 in PyEval_CallObjectWithKeywords ()\n",
      "#14 0x0000564248e48ba2 in ?? ()\n",
      "#15 0x00007ffb4c4646db in start_thread (arg=0x7ffb34b60700) at pthread_create.c:463\n",
      "#16 0x00007ffb4c79d88f in clone () at ../sysdeps/unix/sysv/linux/x86_64/clone.S:95\n",
      "\n",
      "Thread 4 (Thread 0x7ffb35361700 (LWP 7943)):\n",
      "#0  0x00007ffb4c79dbb7 in epoll_wait (epfd=31, events=0x7ffb2800c760, maxevents=1023, timeout=3600000) at ../sysdeps/unix/sysv/linux/epoll_wait.c:30\n",
      "#1  0x0000564248e9a84d in ?? ()\n",
      "#2  0x0000564248dab4ca in PyEval_EvalFrameEx ()\n",
      "#3  0x0000564248da8d0a in PyEval_EvalCodeEx ()\n",
      "#4  0x0000564248db0c38 in PyEval_EvalFrameEx ()\n",
      "#5  0x0000564248da8d0a in PyEval_EvalCodeEx ()\n",
      "#6  0x0000564248dc48bc in ?? ()\n",
      "#7  0x0000564248d9477e in PyObject_Call ()\n",
      "#8  0x0000564248dada21 in PyEval_EvalFrameEx ()\n",
      "#9  0x0000564248db0232 in PyEval_EvalFrameEx ()\n",
      "#10 0x0000564248db0232 in PyEval_EvalFrameEx ()\n",
      "#11 0x0000564248da8d0a in PyEval_EvalCodeEx ()\n",
      "#12 0x0000564248dc4619 in ?? ()\n",
      "#13 0x0000564248ddd0de in ?? ()\n",
      "#14 0x0000564248d9477e in PyObject_Call ()\n",
      "#15 0x0000564248db4800 in PyEval_CallObjectWithKeywords ()\n",
      "#16 0x0000564248e48ba2 in ?? ()\n",
      "#17 0x00007ffb4c4646db in start_thread (arg=0x7ffb35361700) at pthread_create.c:463\n",
      "#18 0x00007ffb4c79d88f in clone () at ../sysdeps/unix/sysv/linux/x86_64/clone.S:95\n",
      "\n",
      "Thread 3 (Thread 0x7ffb35b62700 (LWP 7942)):\n",
      "#0  0x00007ffb4c79dbb7 in epoll_wait (epfd=15, events=0x7ffb35b611d0, maxevents=256, timeout=-1) at ../sysdeps/unix/sysv/linux/epoll_wait.c:30\n",
      "#1  0x00007ffb387e1c21 in ?? () from /usr/local/lib/python2.7/dist-packages/zmq/backend/cython/../../.libs/libzmq-f7ef747e.so.5.1.5\n",
      "#2  0x00007ffb387fe391 in ?? () from /usr/local/lib/python2.7/dist-packages/zmq/backend/cython/../../.libs/libzmq-f7ef747e.so.5.1.5\n",
      "#3  0x00007ffb38825f84 in ?? () from /usr/local/lib/python2.7/dist-packages/zmq/backend/cython/../../.libs/libzmq-f7ef747e.so.5.1.5\n",
      "#4  0x00007ffb4c4646db in start_thread (arg=0x7ffb35b62700) at pthread_create.c:463\n",
      "#5  0x00007ffb4c79d88f in clone () at ../sysdeps/unix/sysv/linux/x86_64/clone.S:95\n",
      "\n",
      "Thread 2 (Thread 0x7ffb36363700 (LWP 7941)):\n",
      "#0  0x00007ffb4c79dbb7 in epoll_wait (epfd=10, events=0x7ffb363621d0, maxevents=256, timeout=-1) at ../sysdeps/unix/sysv/linux/epoll_wait.c:30\n",
      "#1  0x00007ffb387e1c21 in ?? () from /usr/local/lib/python2.7/dist-packages/zmq/backend/cython/../../.libs/libzmq-f7ef747e.so.5.1.5\n",
      "#2  0x00007ffb387fe391 in ?? () from /usr/local/lib/python2.7/dist-packages/zmq/backend/cython/../../.libs/libzmq-f7ef747e.so.5.1.5\n",
      "#3  0x00007ffb38825f84 in ?? () from /usr/local/lib/python2.7/dist-packages/zmq/backend/cython/../../.libs/libzmq-f7ef747e.so.5.1.5\n",
      "#4  0x00007ffb4c4646db in start_thread (arg=0x7ffb36363700) at pthread_create.c:463\n",
      "#5  0x00007ffb4c79d88f in clone () at ../sysdeps/unix/sysv/linux/x86_64/clone.S:95\n",
      "\n",
      "Thread 1 (Thread 0x7ffb4cc6d740 (LWP 7909)):\n",
      "#0  0x00007ffb4c79303f in __GI___select (nfds=0, readfds=0x0, writefds=0x0, exceptfds=0x0, timeout=0x7fff1fde05e0) at ../sysdeps/unix/sysv/linux/select.c:41\n",
      "#1  0x0000564248e4b841 in ?? ()\n",
      "#2  0x0000564248dab4ca in PyEval_EvalFrameEx ()\n",
      "#3  0x0000564248da8d0a in PyEval_EvalCodeEx ()\n",
      "#4  0x0000564248db05fe in PyEval_EvalFrameEx ()\n",
      "#5  0x0000564248da8d0a in PyEval_EvalCodeEx ()\n",
      "#6  0x0000564248db05fe in PyEval_EvalFrameEx ()\n",
      "#7  0x0000564248da8d0a in PyEval_EvalCodeEx ()\n",
      "#8  0x0000564248db05fe in PyEval_EvalFrameEx ()\n",
      "#9  0x0000564248da8d0a in PyEval_EvalCodeEx ()\n",
      "#10 0x0000564248db0c38 in PyEval_EvalFrameEx ()\n",
      "#11 0x0000564248da8d0a in PyEval_EvalCodeEx ()\n",
      "#12 0x0000564248db0c38 in PyEval_EvalFrameEx ()\n",
      "#13 0x0000564248da8d0a in PyEval_EvalCodeEx ()\n",
      "#14 0x0000564248dc48bc in ?? ()\n",
      "#15 0x0000564248d9477e in PyObject_Call ()\n",
      "#16 0x0000564248dada21 in PyEval_EvalFrameEx ()\n",
      "#17 0x0000564248da8d0a in PyEval_EvalCodeEx ()\n",
      "#18 0x0000564248dc48bc in ?? ()\n",
      "#19 0x0000564248d9477e in PyObject_Call ()\n",
      "#20 0x0000564248dada21 in PyEval_EvalFrameEx ()\n",
      "#21 0x0000564248da8d0a in PyEval_EvalCodeEx ()\n",
      "#22 0x0000564248db0c38 in PyEval_EvalFrameEx ()\n",
      "#23 0x0000564248da8d0a in PyEval_EvalCodeEx ()\n",
      "#24 0x0000564248db0c38 in PyEval_EvalFrameEx ()\n",
      "#25 0x0000564248da8d0a in PyEval_EvalCodeEx ()\n",
      "#26 0x0000564248dc48bc in ?? ()\n",
      "#27 0x0000564248d9477e in PyObject_Call ()\n",
      "#28 0x0000564248dada21 in PyEval_EvalFrameEx ()\n",
      "#29 0x0000564248da8d0a in PyEval_EvalCodeEx ()\n",
      "#30 0x0000564248db0c38 in PyEval_EvalFrameEx ()\n",
      "#31 0x0000564248da8d0a in PyEval_EvalCodeEx ()\n",
      "#32 0x0000564248db0c38 in PyEval_EvalFrameEx ()\n",
      "#33 0x0000564248da8d0a in PyEval_EvalCodeEx ()\n",
      "#34 0x0000564248db0c38 in PyEval_EvalFrameEx ()\n",
      "#35 0x0000564248da8d0a in PyEval_EvalCodeEx ()\n",
      "#36 0x0000564248db05fe in PyEval_EvalFrameEx ()\n",
      "#37 0x0000564248da8d0a in PyEval_EvalCodeEx ()\n",
      "#38 0x0000564248db0c38 in PyEval_EvalFrameEx ()\n",
      "#39 0x0000564248da8d0a in PyEval_EvalCodeEx ()\n",
      "#40 0x0000564248daf39d in PyEval_EvalFrameEx ()\n",
      "#41 0x0000564248da8d0a in PyEval_EvalCodeEx ()\n",
      "#42 0x0000564248db05fe in PyEval_EvalFrameEx ()\n",
      "#43 0x0000564248da8d0a in PyEval_EvalCodeEx ()\n",
      "#44 0x0000564248dc4619 in ?? ()\n",
      "#45 0x0000564248d9477e in PyObject_Call ()\n",
      "#46 0x0000564248e06b80 in ?? ()\n",
      "#47 0x0000564248d82026 in Py_Main ()\n",
      "#48 0x00007ffb4c69db97 in __libc_start_main (main=0x564248d81b10 <main>, argc=5, argv=0x7fff1fde2c18, init=<optimised out>, fini=<optimised out>, rtld_fini=<optimised out>, stack_end=0x7fff1fde2c08) at ../csu/libc-start.c:310\n",
      "#49 0x0000564248d81a2a in _start ()\n"
     ]
    },
    {
     "name": "stderr",
     "output_type": "stream",
     "text": [
      "Error in <HandleInterpreterException>: Trying to dereference null pointer or trying to call routine taking non-null arguments.\n",
      "Execution of your code was aborted.\n",
      "In file included from TreeParticleData_C_ACLiC_dict dictionary payload:10:\n",
      "In file included from /work/Dropbox/HaSpect/dev/HASPECT6/hsfinalstate/TreeParticleData.C:1:\n",
      "\u001b[1m/work/Dropbox/HaSpect/dev/HASPECT6//hsfinalstate/TreeParticleData.h:81:32: \u001b[0m\u001b[0;1;35mwarning: \u001b[0m\u001b[1mnull passed to a callee that requires a non-null argument [-Wnonnull]\u001b[0m\n",
      "    ttree_ptr GetTree(){return fTree->Tree();}\n",
      "\u001b[0;1;32m                               ^~~~~\n",
      "\u001b[0m"
     ]
    }
   ],
   "source": [
    "TCanvas c3;\n",
    "c3.Divide(2,1);\n",
    "c3.cd(1);\n",
    "treeman->GetParticleData(0)->GetTree()->Draw(\"ElectronP:ElectronTime>>h2(100,-10,10,100,0,12)\",\"\",\"col1\");\n",
    "c3.cd(2);\n",
    "treeman->GetParticleData(0)->GetTree()->Draw(\"ProtonP:ProtonTime>>h3(100,-10,10,100,0,10)\",\"\",\"col1\");\n",
    "c3.Draw()"
   ]
  },
  {
   "cell_type": "markdown",
   "metadata": {},
   "source": [
    "And remember to save the tree!"
   ]
  },
  {
   "cell_type": "code",
   "execution_count": 12,
   "metadata": {},
   "outputs": [
    {
     "name": "stdout",
     "output_type": "stream",
     "text": [
      "FiledTree::~FiledTree()  tree name FinalTree 3279940 OUTPUT.root\n",
      "FiledTree::~FiledTree()  tree name ParticleVars 166132 particleTrees/ParticleVariables_0.root\n",
      "FiledTree::~FiledTree()  tree name ParticleVars 999581 particleTrees/ParticleVariables_1.root\n",
      "FiledTree::~FiledTree()  tree name ParticleVars 1492336 particleTrees/ParticleVariables_2.root\n",
      "FiledTree::~FiledTree()  tree name ParticleVars 621891 particleTrees/ParticleVariables_3.root\n"
     ]
    }
   ],
   "source": [
    "fs.EndAndWrite();"
   ]
  }
 ],
 "metadata": {
  "kernelspec": {
   "display_name": "ROOT C++",
   "language": "c++",
   "name": "root"
  },
  "language_info": {
   "codemirror_mode": "text/x-c++src",
   "file_extension": ".C",
   "mimetype": " text/x-c++src",
   "name": "c++"
  }
 },
 "nbformat": 4,
 "nbformat_minor": 2
}
