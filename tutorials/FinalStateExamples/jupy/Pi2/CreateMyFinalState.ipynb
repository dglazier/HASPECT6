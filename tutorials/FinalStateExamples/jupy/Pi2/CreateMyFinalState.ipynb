{
 "cells": [
  {
   "cell_type": "markdown",
   "metadata": {},
   "source": [
    "# Create your own final state class\n",
    "\n",
    "First 2 lines set the environment you should have HSCODE set as an shell environment variable when you start up root --notebook"
   ]
  },
  {
   "cell_type": "code",
   "execution_count": 1,
   "metadata": {},
   "outputs": [
    {
     "name": "stdout",
     "output_type": "stream",
     "text": [
      "$$$$$$$$$$$$$$$$$$$$$$$$$ Skeleton\n",
      "$$$$$$$$$$$$$$$$$$$$$$$$$ FSSkeleton\n",
      "$$$$$$$$$$$$$$$$$$$$$$$$$ CLAS12Skeleton\n",
      "$$$$$$$$$$$$$$$$$$$$$$$$$ CLASSkeleton\n"
     ]
    }
   ],
   "source": [
    "gROOT->ProcessLine(Form(\".x $HSCODE/hsskeleton/LoadSkeleton.C+\"));"
   ]
  },
  {
   "cell_type": "markdown",
   "metadata": {},
   "source": [
    "Create the skeleton code maker. This will be used to configure and produce the final state class.\n",
    "If you want to analyse CLAS data replace FSSkeleton with CLASSkeleton\n",
    "If you want to analyse CLAS12 data replace FSSkeleton with CLAS12Skeleton\n",
    "..."
   ]
  },
  {
   "cell_type": "code",
   "execution_count": 2,
   "metadata": {},
   "outputs": [],
   "source": [
    "CLAS12Skeleton sk;"
   ]
  },
  {
   "cell_type": "markdown",
   "metadata": {},
   "source": [
    "Give your class a name e.g. replace YourNameNotThis with Pi2, OmegaP,... Just do not start with a number"
   ]
  },
  {
   "cell_type": "code",
   "execution_count": 3,
   "metadata": {},
   "outputs": [],
   "source": [
    "sk.SetFinalState(\"Pi2\");"
   ]
  },
  {
   "cell_type": "markdown",
   "metadata": {},
   "source": [
    "Set names of actual final state particles of the reaction that you will use.\n",
    "\n",
    "**First detected particles**\n",
    "\n",
    "Syntax Name1:type1, Name2:type2, ... where type corresponds to a ROOT PDG name and NameX is used to add a THSParticle data member fName1 to the final state class.\n",
    "\n",
    "e.g. sk->SetFinalStateParts(\"Electron:e-, Proton:proton, Pip:pi+, Pim:pi-, Gamma1:gamma, Gamma2:gamma\");\n",
    "\n",
    "For tagged photon beam experiments use \"Beam:Beam,...\""
   ]
  },
  {
   "cell_type": "code",
   "execution_count": 4,
   "metadata": {},
   "outputs": [],
   "source": [
    "sk.SetFinalStateParts(\"Electron:e-, Proton:proton, Pip:pi+, Pim:pi-\");"
   ]
  },
  {
   "cell_type": "markdown",
   "metadata": {},
   "source": [
    "Set the **DETECTED** particle combinations you will analyse in each topology.\n",
    "\n",
    "Here you must use the names you defined with SetFinalStateParts()\n",
    "\n",
    "**Syntax**: p1:p2:p3 for 1 topology, seperate with a \",\" then p1:p2 for next, etc.\n",
    "e.g. sk->SetFinalStateTopo(\"Electron:Proton:Pip:Pim:Gamma1:Gamma2 , Electron:Proton:Pip:Pim\");"
   ]
  },
  {
   "cell_type": "code",
   "execution_count": 5,
   "metadata": {},
   "outputs": [],
   "source": [
    " sk.SetFinalStateTopo(\"Electron:Proton:Pip:Pim,Electron:Proton:Pip,Electron:Proton:Pim,Electron:Pip:Pim\");"
   ]
  },
  {
   "cell_type": "markdown",
   "metadata": {},
   "source": [
    "**Second Parent particles that may have decayed**\n",
    "This information is needed to construct the iterators for the different topologies.\n",
    "You must give the parent particle name, type and decay products. \n",
    "A Parent defined here may also be a child of another parent.\n",
    "e.g. sk->SetFinalStateParents(\"Pi0:pi0;Gamma1;Gamma2, Omega:omega;Pip;Pim;Pi0\");\n",
    "This defines and omega decaying to 3pi (pi+,pi0,pi-) with the pi0 decaying to 2 gamma.\n",
    "Pip, Pim, Gamma1, Gamma2 are detected particles defined in the previous step."
   ]
  },
  {
   "cell_type": "code",
   "execution_count": 6,
   "metadata": {},
   "outputs": [],
   "source": [
    "sk.SetFinalStateParents(\"\");"
   ]
  },
  {
   "cell_type": "markdown",
   "metadata": {},
   "source": [
    "Now make some code "
   ]
  },
  {
   "cell_type": "code",
   "execution_count": 7,
   "metadata": {},
   "outputs": [
    {
     "name": "stdout",
     "output_type": "stream",
     "text": [
      " Create Topo Electron:Proton:Pip:Pim 4\n",
      " Create Topo Electron:Proton:Pip 3\n",
      " Create Topo Electron:Proton:Pim 3\n",
      " Create Topo Electron:Pip:Pim 3\n"
     ]
    }
   ],
   "source": [
    "sk.MakeCode();"
   ]
  },
  {
   "cell_type": "markdown",
   "metadata": {},
   "source": [
    "You should now see some new files in your current directory"
   ]
  },
  {
   "cell_type": "code",
   "execution_count": 8,
   "metadata": {},
   "outputs": [
    {
     "name": "stdout",
     "output_type": "stream",
     "text": [
      "CreateMyFinalState.ipynb\n",
      "DevelopMyFinalState.ipynb\n",
      "KinematicsPi2.h\n",
      "LoadPi2.C\n",
      "Pi2.C\n",
      "Pi2_C_ACLiC_dict_rdict.pcm\n",
      "Pi2_C.d\n",
      "Pi2_C.so\n",
      "Pi2.h\n",
      "Run_CLAS12_HIPO.ipynb\n",
      "RunFSHipoPi2.C\n",
      "RunFSLundPi2.C\n",
      "RunFSRootPi2.C\n",
      "ToposPi2.h\n",
      "TreeDataPi2.C\n",
      "TreeDataPi2_C_ACLiC_dict_rdict.pcm\n",
      "TreeDataPi2_C.d\n",
      "TreeDataPi2_C.so\n",
      "TreeDataPi2.h\n"
     ]
    }
   ],
   "source": [
    ".!ls"
   ]
  },
  {
   "cell_type": "markdown",
   "metadata": {},
   "source": [
    "You can make sure it compiles OK. A script LoadXXX.C wil have been created (where XXX is your finals state name i.e. sk.SetFinalState(\"YourNameNotThis\");). This will compile and load all the required classes. Try executing it and create an object of your class"
   ]
  },
  {
   "cell_type": "code",
   "execution_count": 9,
   "metadata": {},
   "outputs": [
    {
     "name": "stdout",
     "output_type": "stream",
     "text": [
      "C12C12C12C12C12C12C12C12C12    utils\n"
     ]
    },
    {
     "name": "stderr",
     "output_type": "stream",
     "text": [
      "Info in <TUnixSystem::ACLiC>: creating shared library /work/dump/testtool/Clas12Tool/Hipo/utils_cpp.so\n",
      "Warning in cling::IncrementalParser::CheckABICompatibility():\n",
      "  Possible C++ standard library mismatch, compiled with __GLIBCXX__ '20180415'\n",
      "  Extraction of runtime standard library version was: '20180720'\n"
     ]
    },
    {
     "name": "stdout",
     "output_type": "stream",
     "text": [
      "C12C12C12C12C12C12C12C12C12    dictionary\n"
     ]
    },
    {
     "name": "stderr",
     "output_type": "stream",
     "text": [
      "Info in <TUnixSystem::ACLiC>: creating shared library /work/dump/testtool/Clas12Tool/Hipo/dictionary_cpp.so\n",
      "Warning in cling::IncrementalParser::CheckABICompatibility():\n",
      "  Possible C++ standard library mismatch, compiled with __GLIBCXX__ '20180415'\n",
      "  Extraction of runtime standard library version was: '20180720'\n",
      "In file included from /work/dump/testtool/Clas12Tool/Hipo/dictionary_cpp_ACLiC_dict.cxx:40:0:\n",
      "/work/dump/testtool/Clas12Tool/Hipo/dictionary.cpp: In member function ‘int hipo::schema::getMaxStringLength()’:\n",
      "/work/dump/testtool/Clas12Tool/Hipo/dictionary.cpp:25:32: warning: comparison between signed and unsigned integer expressions [-Wsign-compare]\n",
      "            if(it->first.size() > length) length = it->first.size();\n",
      "               ~~~~~~~~~~~~~~~~~^~~~~~~~\n",
      "/work/dump/testtool/Clas12Tool/Hipo/dictionary.cpp: In member function ‘std::vector<std::__cxx11::basic_string<char> > hipo::schema::getEntryList()’:\n",
      "/work/dump/testtool/Clas12Tool/Hipo/dictionary.cpp:37:25: warning: comparison between signed and unsigned integer expressions [-Wsign-compare]\n",
      "        for(int i = 0; i < entryNames.size(); i++){\n",
      "                       ~~^~~~~~~~~~~~~~~~~~~\n",
      "/work/dump/testtool/Clas12Tool/Hipo/dictionary.cpp: In member function ‘std::__cxx11::string hipo::schema::getBranchVariable(const char*, int)’:\n",
      "/work/dump/testtool/Clas12Tool/Hipo/dictionary.cpp:98:26: warning: comparison between signed and unsigned integer expressions [-Wsign-compare]\n",
      "        while(c_var.size()<max){\n",
      "              ~~~~~~~~~~~~^~~~\n"
     ]
    },
    {
     "name": "stdout",
     "output_type": "stream",
     "text": [
      "C12C12C12C12C12C12C12C12C12    node\n"
     ]
    },
    {
     "name": "stderr",
     "output_type": "stream",
     "text": [
      "Info in <TUnixSystem::ACLiC>: creating shared library /work/dump/testtool/Clas12Tool/Hipo/node_cpp.so\n",
      "Warning in cling::IncrementalParser::CheckABICompatibility():\n",
      "  Possible C++ standard library mismatch, compiled with __GLIBCXX__ '20180415'\n",
      "  Extraction of runtime standard library version was: '20180720'\n"
     ]
    },
    {
     "name": "stdout",
     "output_type": "stream",
     "text": [
      "C12C12C12C12C12C12C12C12C12    event\n"
     ]
    },
    {
     "name": "stderr",
     "output_type": "stream",
     "text": [
      "Info in <TUnixSystem::ACLiC>: creating shared library /work/dump/testtool/Clas12Tool/Hipo/event_cpp.so\n",
      "Warning in cling::IncrementalParser::CheckABICompatibility():\n",
      "  Possible C++ standard library mismatch, compiled with __GLIBCXX__ '20180415'\n",
      "  Extraction of runtime standard library version was: '20180720'\n",
      "In file included from /work/dump/testtool/Clas12Tool/Hipo/event_cpp_ACLiC_dict.cxx:40:0:\n",
      "/work/dump/testtool/Clas12Tool/Hipo/event.cpp: In member function ‘void hipo::event::init(const char*, int)’:\n",
      "/work/dump/testtool/Clas12Tool/Hipo/event.cpp:51:29: warning: comparison between signed and unsigned integer expressions [-Wsign-compare]\n",
      "         if(dataBuffer.size()<=size){\n",
      "            ~~~~~~~~~~~~~~~~~^~~~~~\n",
      "/work/dump/testtool/Clas12Tool/Hipo/event.cpp: In member function ‘void hipo::event::resetNodes()’:\n",
      "/work/dump/testtool/Clas12Tool/Hipo/event.cpp:75:24: warning: comparison between signed and unsigned integer expressions [-Wsign-compare]\n",
      "       for(int i = 0; i < nodes.size(); i++){\n",
      "                      ~~^~~~~~~~~~~~~~\n"
     ]
    },
    {
     "name": "stdout",
     "output_type": "stream",
     "text": [
      "C12C12C12C12C12C12C12C12C12    record\n"
     ]
    },
    {
     "name": "stderr",
     "output_type": "stream",
     "text": [
      "Info in <TUnixSystem::ACLiC>: creating shared library /work/dump/testtool/Clas12Tool/Hipo/record_cpp.so\n",
      "Warning in cling::IncrementalParser::CheckABICompatibility():\n",
      "  Possible C++ standard library mismatch, compiled with __GLIBCXX__ '20180415'\n",
      "  Extraction of runtime standard library version was: '20180720'\n",
      "In file included from /work/dump/testtool/Clas12Tool/Hipo/record_cpp_ACLiC_dict.cxx:40:0:\n",
      "/work/dump/testtool/Clas12Tool/Hipo/record.cpp: In member function ‘void hipo::record::readRecord(std::ifstream&, long int, int)’:\n",
      "/work/dump/testtool/Clas12Tool/Hipo/record.cpp:41:40: warning: comparison between signed and unsigned integer expressions [-Wsign-compare]\n",
      "         if(recordHeader.signatureString==0xc0da0100) recordHeader.dataEndianness = 0;\n",
      "            ~~~~~~~~~~~~~~~~~~~~~~~~~~~~^~~~~~~~~~~~\n",
      "/work/dump/testtool/Clas12Tool/Hipo/record.cpp:70:33: warning: comparison between signed and unsigned integer expressions [-Wsign-compare]\n",
      "         if(dataBufferLengthBytes>recordCompressedBuffer.size()){\n",
      "            ~~~~~~~~~~~~~~~~~~~~~^~~~~~~~~~~~~~~~~~~~~~~~~~~~~~\n",
      "/work/dump/testtool/Clas12Tool/Hipo/record.cpp:89:31: warning: comparison between signed and unsigned integer expressions [-Wsign-compare]\n",
      "         if(recordBuffer.size()<decompressedLength){\n",
      "            ~~~~~~~~~~~~~~~~~~~^~~~~~~~~~~~~~~~~~~\n",
      "/work/dump/testtool/Clas12Tool/Hipo/record.cpp: In member function ‘bool hipo::record::readRecord(std::ifstream&, long int, int, long int)’:\n",
      "/work/dump/testtool/Clas12Tool/Hipo/record.cpp:147:38: warning: comparison between signed and unsigned integer expressions [-Wsign-compare]\n",
      "       if(recordHeader.signatureString==0xc0da0100) recordHeader.dataEndianness = 0;\n",
      "          ~~~~~~~~~~~~~~~~~~~~~~~~~~~~^~~~~~~~~~~~\n",
      "/work/dump/testtool/Clas12Tool/Hipo/record.cpp:176:31: warning: comparison between signed and unsigned integer expressions [-Wsign-compare]\n",
      "       if(dataBufferLengthBytes>recordCompressedBuffer.size()){\n",
      "          ~~~~~~~~~~~~~~~~~~~~~^~~~~~~~~~~~~~~~~~~~~~~~~~~~~~\n",
      "/work/dump/testtool/Clas12Tool/Hipo/record.cpp:199:29: warning: comparison between signed and unsigned integer expressions [-Wsign-compare]\n",
      "       if(recordBuffer.size()<decompressedLength){\n",
      "          ~~~~~~~~~~~~~~~~~~~^~~~~~~~~~~~~~~~~~~\n",
      "/work/dump/testtool/Clas12Tool/Hipo/record.cpp: In member function ‘void hipo::record::readRecord__(std::ifstream&, long int, long int)’:\n",
      "/work/dump/testtool/Clas12Tool/Hipo/record.cpp:247:22: warning: comparison between signed and unsigned integer expressions [-Wsign-compare]\n",
      "       if(recordLength>recordCompressedBuffer.size()){\n",
      "          ~~~~~~~~~~~~^~~~~~~~~~~~~~~~~~~~~~~~~~~~~~\n",
      "/work/dump/testtool/Clas12Tool/Hipo/record.cpp:269:38: warning: comparison between signed and unsigned integer expressions [-Wsign-compare]\n",
      "       if(recordHeader.signatureString==0xc0da0100) recordHeader.dataEndianness = 0;\n",
      "          ~~~~~~~~~~~~~~~~~~~~~~~~~~~~^~~~~~~~~~~~\n",
      "/work/dump/testtool/Clas12Tool/Hipo/record.cpp:313:29: warning: comparison between signed and unsigned integer expressions [-Wsign-compare]\n",
      "       if(recordBuffer.size()<decompressedLength){\n",
      "          ~~~~~~~~~~~~~~~~~~~^~~~~~~~~~~~~~~~~~~\n"
     ]
    },
    {
     "name": "stdout",
     "output_type": "stream",
     "text": [
      "C12C12C12C12C12C12C12C12C12    reader\n"
     ]
    },
    {
     "name": "stderr",
     "output_type": "stream",
     "text": [
      "Info in <TUnixSystem::ACLiC>: creating shared library /work/dump/testtool/Clas12Tool/Hipo/reader_cpp.so\n",
      "Warning in cling::IncrementalParser::CheckABICompatibility():\n",
      "  Possible C++ standard library mismatch, compiled with __GLIBCXX__ '20180415'\n",
      "  Extraction of runtime standard library version was: '20180720'\n",
      "In file included from /work/dump/testtool/Clas12Tool/Hipo/reader_cpp_ACLiC_dict.cxx:40:0:\n",
      "/work/dump/testtool/Clas12Tool/Hipo/reader.cpp: In member function ‘void hipo::reader::readRecordIndex()’:\n",
      "/work/dump/testtool/Clas12Tool/Hipo/reader.cpp:301:24: warning: comparison between signed and unsigned integer expressions [-Wsign-compare]\n",
      "         if(magic_number!=0xc0da0100&&magic_number!=0x0001dac0) {\n",
      "            ~~~~~~~~~~~~^~~~~~~~~~~~\n",
      "/work/dump/testtool/Clas12Tool/Hipo/reader.cpp: In member function ‘bool hipo::reader_index::advance()’:\n",
      "/work/dump/testtool/Clas12Tool/Hipo/reader.cpp:412:28: warning: comparison between signed and unsigned integer expressions [-Wsign-compare]\n",
      "     if(recordEvents.size() < currentRecord + 2 + 1){\n",
      "        ~~~~~~~~~~~~~~~~~~~~^~~~~~~~~~~~~~~~~~~~~~~\n"
     ]
    },
    {
     "name": "stdout",
     "output_type": "stream",
     "text": [
      "C12C12C12C12C12C12C12C12C12    bank\n"
     ]
    },
    {
     "name": "stderr",
     "output_type": "stream",
     "text": [
      "Info in <TUnixSystem::ACLiC>: creating shared library /work/dump/testtool/Clas12Tool/Hipo/bank_cpp.so\n",
      "Warning in cling::IncrementalParser::CheckABICompatibility():\n",
      "  Possible C++ standard library mismatch, compiled with __GLIBCXX__ '20180415'\n",
      "  Extraction of runtime standard library version was: '20180720'\n",
      "In file included from /work/dump/testtool/Clas12Tool/Hipo/bank_cpp_ACLiC_dict.cxx:40:0:\n",
      "/work/dump/testtool/Clas12Tool/Hipo/bank.cpp: In member function ‘void hipo::bank::initBranches(const char*, hipo::reader&)’:\n",
      "/work/dump/testtool/Clas12Tool/Hipo/bank.cpp:34:24: warning: comparison between signed and unsigned integer expressions [-Wsign-compare]\n",
      "       for(int i = 0; i < entries.size(); i++){\n",
      "                      ~~^~~~~~~~~~~~~~~~\n",
      "/work/dump/testtool/Clas12Tool/Hipo/bank.cpp: In member function ‘void hipo::bank::require(const char*)’:\n",
      "/work/dump/testtool/Clas12Tool/Hipo/bank.cpp:61:20: warning: comparison between signed and unsigned integer expressions [-Wsign-compare]\n",
      "   for(int i = 0; i < tokens.size(); i++){\n",
      "                  ~~^~~~~~~~~~~~~~~\n"
     ]
    },
    {
     "name": "stdout",
     "output_type": "stream",
     "text": [
      "C12C12C12C12C12C12C12C12C12    header\n"
     ]
    },
    {
     "name": "stderr",
     "output_type": "stream",
     "text": [
      "Info in <TUnixSystem::ACLiC>: creating shared library /work/dump/testtool/Clas12Tool/Banks/header_cpp.so\n",
      "Warning in cling::IncrementalParser::CheckABICompatibility():\n",
      "  Possible C++ standard library mismatch, compiled with __GLIBCXX__ '20180415'\n",
      "  Extraction of runtime standard library version was: '20180720'\n"
     ]
    },
    {
     "name": "stdout",
     "output_type": "stream",
     "text": [
      "C12C12C12C12C12C12C12C12C12    particle\n"
     ]
    },
    {
     "name": "stderr",
     "output_type": "stream",
     "text": [
      "Info in <TUnixSystem::ACLiC>: creating shared library /work/dump/testtool/Clas12Tool/Banks/particle_cpp.so\n",
      "Warning in cling::IncrementalParser::CheckABICompatibility():\n",
      "  Possible C++ standard library mismatch, compiled with __GLIBCXX__ '20180415'\n",
      "  Extraction of runtime standard library version was: '20180720'\n"
     ]
    },
    {
     "name": "stdout",
     "output_type": "stream",
     "text": [
      "C12C12C12C12C12C12C12C12C12    mcparticle\n"
     ]
    },
    {
     "name": "stderr",
     "output_type": "stream",
     "text": [
      "Info in <TUnixSystem::ACLiC>: creating shared library /work/dump/testtool/Clas12Tool/Banks/mcparticle_cpp.so\n",
      "Warning in cling::IncrementalParser::CheckABICompatibility():\n",
      "  Possible C++ standard library mismatch, compiled with __GLIBCXX__ '20180415'\n",
      "  Extraction of runtime standard library version was: '20180720'\n"
     ]
    },
    {
     "name": "stdout",
     "output_type": "stream",
     "text": [
      "C12C12C12C12C12C12C12C12C12    particle_detector\n"
     ]
    },
    {
     "name": "stderr",
     "output_type": "stream",
     "text": [
      "Info in <TUnixSystem::ACLiC>: creating shared library /work/dump/testtool/Clas12Tool/Banks/particle_detector_cpp.so\n",
      "Warning in cling::IncrementalParser::CheckABICompatibility():\n",
      "  Possible C++ standard library mismatch, compiled with __GLIBCXX__ '20180415'\n",
      "  Extraction of runtime standard library version was: '20180720'\n"
     ]
    },
    {
     "name": "stdout",
     "output_type": "stream",
     "text": [
      "C12C12C12C12C12C12C12C12C12    scintillator\n"
     ]
    },
    {
     "name": "stderr",
     "output_type": "stream",
     "text": [
      "Info in <TUnixSystem::ACLiC>: creating shared library /work/dump/testtool/Clas12Tool/Banks/scintillator_cpp.so\n",
      "Warning in cling::IncrementalParser::CheckABICompatibility():\n",
      "  Possible C++ standard library mismatch, compiled with __GLIBCXX__ '20180415'\n",
      "  Extraction of runtime standard library version was: '20180720'\n"
     ]
    },
    {
     "name": "stdout",
     "output_type": "stream",
     "text": [
      "C12C12C12C12C12C12C12C12C12    calorimeter\n"
     ]
    },
    {
     "name": "stderr",
     "output_type": "stream",
     "text": [
      "Info in <TUnixSystem::ACLiC>: creating shared library /work/dump/testtool/Clas12Tool/Banks/calorimeter_cpp.so\n",
      "Warning in cling::IncrementalParser::CheckABICompatibility():\n",
      "  Possible C++ standard library mismatch, compiled with __GLIBCXX__ '20180415'\n",
      "  Extraction of runtime standard library version was: '20180720'\n"
     ]
    },
    {
     "name": "stdout",
     "output_type": "stream",
     "text": [
      "C12C12C12C12C12C12C12C12C12    cherenkov\n"
     ]
    },
    {
     "name": "stderr",
     "output_type": "stream",
     "text": [
      "Info in <TUnixSystem::ACLiC>: creating shared library /work/dump/testtool/Clas12Tool/Banks/cherenkov_cpp.so\n",
      "Warning in cling::IncrementalParser::CheckABICompatibility():\n",
      "  Possible C++ standard library mismatch, compiled with __GLIBCXX__ '20180415'\n",
      "  Extraction of runtime standard library version was: '20180720'\n"
     ]
    },
    {
     "name": "stdout",
     "output_type": "stream",
     "text": [
      "C12C12C12C12C12C12C12C12C12    forwardtagger\n"
     ]
    },
    {
     "name": "stderr",
     "output_type": "stream",
     "text": [
      "Info in <TUnixSystem::ACLiC>: creating shared library /work/dump/testtool/Clas12Tool/Banks/forwardtagger_cpp.so\n",
      "Warning in cling::IncrementalParser::CheckABICompatibility():\n",
      "  Possible C++ standard library mismatch, compiled with __GLIBCXX__ '20180415'\n",
      "  Extraction of runtime standard library version was: '20180720'\n"
     ]
    },
    {
     "name": "stdout",
     "output_type": "stream",
     "text": [
      "C12C12C12C12C12C12C12C12C12    tracker\n"
     ]
    },
    {
     "name": "stderr",
     "output_type": "stream",
     "text": [
      "Info in <TUnixSystem::ACLiC>: creating shared library /work/dump/testtool/Clas12Tool/Banks/tracker_cpp.so\n",
      "Warning in cling::IncrementalParser::CheckABICompatibility():\n",
      "  Possible C++ standard library mismatch, compiled with __GLIBCXX__ '20180415'\n",
      "  Extraction of runtime standard library version was: '20180720'\n"
     ]
    },
    {
     "name": "stdout",
     "output_type": "stream",
     "text": [
      "C12C12C12C12C12C12C12C12C12    covmatrix\n"
     ]
    },
    {
     "name": "stderr",
     "output_type": "stream",
     "text": [
      "Info in <TUnixSystem::ACLiC>: creating shared library /work/dump/testtool/Clas12Tool/Banks/covmatrix_cpp.so\n",
      "Warning in cling::IncrementalParser::CheckABICompatibility():\n",
      "  Possible C++ standard library mismatch, compiled with __GLIBCXX__ '20180415'\n",
      "  Extraction of runtime standard library version was: '20180720'\n"
     ]
    },
    {
     "name": "stdout",
     "output_type": "stream",
     "text": [
      "C12C12C12C12C12C12C12C12C12    region_particle\n"
     ]
    },
    {
     "name": "stderr",
     "output_type": "stream",
     "text": [
      "Info in <TUnixSystem::ACLiC>: creating shared library /work/dump/testtool/Clas12Tool/Banks/region_particle_cpp.so\n",
      "Warning in cling::IncrementalParser::CheckABICompatibility():\n",
      "  Possible C++ standard library mismatch, compiled with __GLIBCXX__ '20180415'\n",
      "  Extraction of runtime standard library version was: '20180720'\n"
     ]
    },
    {
     "name": "stdout",
     "output_type": "stream",
     "text": [
      "C12C12C12C12C12C12C12C12C12    region_ft\n"
     ]
    },
    {
     "name": "stderr",
     "output_type": "stream",
     "text": [
      "Info in <TUnixSystem::ACLiC>: creating shared library /work/dump/testtool/Clas12Tool/Banks/region_ft_cpp.so\n",
      "Warning in cling::IncrementalParser::CheckABICompatibility():\n",
      "  Possible C++ standard library mismatch, compiled with __GLIBCXX__ '20180415'\n",
      "  Extraction of runtime standard library version was: '20180720'\n"
     ]
    },
    {
     "name": "stdout",
     "output_type": "stream",
     "text": [
      "C12C12C12C12C12C12C12C12C12    region_fdet\n"
     ]
    },
    {
     "name": "stderr",
     "output_type": "stream",
     "text": [
      "Info in <TUnixSystem::ACLiC>: creating shared library /work/dump/testtool/Clas12Tool/Banks/region_fdet_cpp.so\n",
      "Warning in cling::IncrementalParser::CheckABICompatibility():\n",
      "  Possible C++ standard library mismatch, compiled with __GLIBCXX__ '20180415'\n",
      "  Extraction of runtime standard library version was: '20180720'\n"
     ]
    },
    {
     "name": "stdout",
     "output_type": "stream",
     "text": [
      "C12C12C12C12C12C12C12C12C12    region_cdet\n"
     ]
    },
    {
     "name": "stderr",
     "output_type": "stream",
     "text": [
      "Info in <TUnixSystem::ACLiC>: creating shared library /work/dump/testtool/Clas12Tool/Banks/region_cdet_cpp.so\n",
      "Warning in cling::IncrementalParser::CheckABICompatibility():\n",
      "  Possible C++ standard library mismatch, compiled with __GLIBCXX__ '20180415'\n",
      "  Extraction of runtime standard library version was: '20180720'\n"
     ]
    },
    {
     "name": "stdout",
     "output_type": "stream",
     "text": [
      "C12C12C12C12C12C12C12C12C12    hallB_event\n"
     ]
    },
    {
     "name": "stderr",
     "output_type": "stream",
     "text": [
      "Info in <TUnixSystem::ACLiC>: creating shared library /work/dump/testtool/Clas12Tool/Banks/hallB_event_cpp.so\n",
      "Warning in cling::IncrementalParser::CheckABICompatibility():\n",
      "  Possible C++ standard library mismatch, compiled with __GLIBCXX__ '20180415'\n",
      "  Extraction of runtime standard library version was: '20180720'\n"
     ]
    },
    {
     "name": "stdout",
     "output_type": "stream",
     "text": [
      "%%%%%%%%%%%%%%%%%%%%%%%%%    FiledTree\n",
      "%%%%%%%%%%%%%%%%%%%%%%%%%    TreeData\n",
      "%%%%%%%%%%%%%%%%%%%%%%%%%    BaseParticleData\n",
      "%%%%%%%%%%%%%%%%%%%%%%%%%    BaseEventInfo\n",
      "%%%%%%%%%%%%%%%%%%%%%%%%%    BaseRunInfo\n",
      "%%%%%%%%%%%%%%%%%%%%%%%%%    Weights\n"
     ]
    },
    {
     "name": "stderr",
     "output_type": "stream",
     "text": [
      "Info in <ACLiC>: unmodified script has already been compiled and loaded\n"
     ]
    },
    {
     "name": "stdout",
     "output_type": "stream",
     "text": [
      "%%%%%%%%%%%%%%%%%%%%%%%%%    Bins\n",
      "%%%%%%%%%%%%%%%%%%%%%%%%%    DataManager\n",
      "%%%%%%%%%%%%%%%%%%%%%%%%%    LundReader\n",
      "12121212121212121212121212 EventInfo\n",
      "12121212121212121212121212 RunInfo\n",
      "12121212121212121212121212 HipoToolsReader\n",
      "12121212121212121212121212 ParticleData\n"
     ]
    },
    {
     "name": "stderr",
     "output_type": "stream",
     "text": [
      "Info in <TUnixSystem::ACLiC>: creating shared library /work/Dropbox/HaSpect/dev/HASPECT6/hsmva/ResultInterface_C.so\n",
      "Warning in cling::IncrementalParser::CheckABICompatibility():\n",
      "  Possible C++ standard library mismatch, compiled with __GLIBCXX__ '20180415'\n",
      "  Extraction of runtime standard library version was: '20180720'\n",
      "In file included from input_line_12:12:\n",
      "/work/Dropbox/HaSpect/dev/HASPECT6/hsmva/ResultInterface.C:129:31: error: no member named 'CopyFull' in 'HS::FiledTree'\n",
      "    SetTreePtr(HS::FiledTree::CopyFull(tree,methodname+\".root\"));\n",
      "               ~~~~~~~~~~~~~~~^\n"
     ]
    },
    {
     "name": "stdout",
     "output_type": "stream",
     "text": [
      "&&&&&&&&&&&&&&&&&&&&&&&&&&&& HSKinematics\n",
      "&&&&&&&&&&&&&&&&&&&&&&&&&&&& Cuts\n",
      "&&&&&&&&&&&&&&&&&&&&&&&&&&&& Combitorial\n",
      "&&&&&&&&&&&&&&&&&&&&&&&&&&&& ParticleIter\n"
     ]
    },
    {
     "name": "stderr",
     "output_type": "stream",
     "text": [
      "Error in <ACLiC>: Dictionary generation failed!\n"
     ]
    },
    {
     "name": "stdout",
     "output_type": "stream",
     "text": [
      "&&&&&&&&&&&&&&&&&&&&&&&&&&&& Topology\n",
      "&&&&&&&&&&&&&&&&&&&&&&&&&&&& FinalState\n",
      "&&&&&&&&&&&&&&&&&&&&&&&&&&&& FiledTree\n",
      "&&&&&&&&&&&&&&&&&&&&&&&&&&&& TopoActionManager\n",
      "&&&&&&&&&&&&&&&&&&&&&&&&&&&& ParticleCuts\n",
      "&&&&&&&&&&&&&&&&&&&&&&&&&&&& TreeParticleData\n",
      "&&&&&&&&&&&&&&&&&&&&&&&&&&&& MVASignalID\n",
      "&&&&&&&&&&&&&&&&&&&&&&&&&&&& ParticleCutsManager\n",
      "&&&&&&&&&&&&&&&&&&&&&&&&&&&& ParticleDataManager\n"
     ]
    },
    {
     "name": "stderr",
     "output_type": "stream",
     "text": [
      "Info in <ACLiC>: unmodified script has already been compiled and loaded\n",
      "cling::DynamicLibraryManager::loadLibrary(): /work/Dropbox/HaSpect/dev/HASPECT6/hsfinalstate/MVASignalID_C.so: undefined symbol: _ZN2HS3MVA15ResultInterface8StreamerER7TBuffer\n"
     ]
    },
    {
     "name": "stdout",
     "output_type": "stream",
     "text": [
      "&&&&&&&&&&&&&&&&&&&&&&&&&&&& MVASignalIDManager\n",
      "12121212121212121212121212 CLAS12Trigger\n",
      "12121212121212121212121212 CLAS12DeltaTime\n"
     ]
    },
    {
     "name": "stderr",
     "output_type": "stream",
     "text": [
      "cling::DynamicLibraryManager::loadLibrary(): /work/Dropbox/HaSpect/dev/HASPECT6/hsfinalstate/MVASignalIDManager_C.so: undefined symbol: _ZN2HS3MVA15ResultInterface8StreamerER7TBuffer\n",
      "Info in <TUnixSystem::ACLiC>: creating shared library /work/Dropbox/HaSpect/dev/HASPECT6/tutorials/FinalStateExamples/jupy/Pi2/./TreeDataPi2_C.so\n",
      "Warning in cling::IncrementalParser::CheckABICompatibility():\n",
      "  Possible C++ standard library mismatch, compiled with __GLIBCXX__ '20180415'\n",
      "  Extraction of runtime standard library version was: '20180720'\n",
      "Info in <TUnixSystem::ACLiC>: creating shared library /work/Dropbox/HaSpect/dev/HASPECT6/tutorials/FinalStateExamples/jupy/Pi2/./Pi2_C.so\n",
      "Warning in cling::IncrementalParser::CheckABICompatibility():\n",
      "  Possible C++ standard library mismatch, compiled with __GLIBCXX__ '20180415'\n",
      "  Extraction of runtime standard library version was: '20180720'\n"
     ]
    }
   ],
   "source": [
    "gROOT->ProcessLine(\".x LoadPi2.C+\");"
   ]
  },
  {
   "cell_type": "code",
   "execution_count": 10,
   "metadata": {},
   "outputs": [
    {
     "name": "stdout",
     "output_type": "stream",
     "text": [
      " WARNING running HS::FinalState::AutoIter() you  should check the topology print output and make sure the displayed iterator is waht you want ..\n",
      " WARNING running HS::FinalState::AutoIter() you  should check the topology print output and make sure the displayed iterator is waht you want ..\n",
      " WARNING running HS::FinalState::AutoIter() you  should check the topology print output and make sure the displayed iterator is waht you want ..\n",
      " WARNING running HS::FinalState::AutoIter() you  should check the topology print output and make sure the displayed iterator is waht you want ..\n",
      " Topology::Print() : 0\n",
      "    particles = -10000 -10000 10000 10000 \n",
      "You can have any number of the following particles : \n",
      " ALL \n",
      "The following particle are identified by pdg code : \n",
      " ALL \n",
      " ParticleIter::Print() \n",
      "     Type : 2 number chosen 1 of id  11 and number used here = 1\n",
      " ParticleIter::Print() \n",
      "     Type : 2 number chosen 1 of id  2212 and number used here = 1\n",
      " ParticleIter::Print() \n",
      "     Type : 2 number chosen 1 of id  -211 and number used here = 1\n",
      " ParticleIter::Print() \n",
      "     Type : 2 number chosen 1 of id  211 and number used here = 1\n",
      "\n",
      " Topology::Print() : 1\n",
      "    particles = -10000 10000 10000 \n",
      "You can have any number of the following particles : \n",
      " ALL \n",
      "The following particle are identified by pdg code : \n",
      " ALL \n",
      " ParticleIter::Print() \n",
      "     Type : 2 number chosen 1 of id  11 and number used here = 1\n",
      " ParticleIter::Print() \n",
      "     Type : 2 number chosen 1 of id  2212 and number used here = 1\n",
      " ParticleIter::Print() \n",
      "     Type : 2 number chosen 1 of id  211 and number used here = 1\n",
      "\n",
      " Topology::Print() : 2\n",
      "    particles = -10000 -10000 10000 \n",
      "You can have any number of the following particles : \n",
      " ALL \n",
      "The following particle are identified by pdg code : \n",
      " ALL \n",
      " ParticleIter::Print() \n",
      "     Type : 2 number chosen 1 of id  11 and number used here = 1\n",
      " ParticleIter::Print() \n",
      "     Type : 2 number chosen 1 of id  2212 and number used here = 1\n",
      " ParticleIter::Print() \n",
      "     Type : 2 number chosen 1 of id  -211 and number used here = 1\n",
      "\n",
      " Topology::Print() : 3\n",
      "    particles = -10000 -10000 10000 \n",
      "You can have any number of the following particles : \n",
      " ALL \n",
      "The following particle are identified by pdg code : \n",
      " ALL \n",
      " ParticleIter::Print() \n",
      "     Type : 2 number chosen 1 of id  11 and number used here = 1\n",
      " ParticleIter::Print() \n",
      "     Type : 2 number chosen 1 of id  211 and number used here = 1\n",
      " ParticleIter::Print() \n",
      "     Type : 2 number chosen 1 of id  -211 and number used here = 1\n",
      "\n"
     ]
    }
   ],
   "source": [
    "Pi2 finalstate;"
   ]
  },
  {
   "cell_type": "markdown",
   "metadata": {},
   "source": [
    "And now you can customise the class further\n",
    "Link to [Final State functions](DevelopMyFinalState.ipynb)"
   ]
  },
  {
   "cell_type": "code",
   "execution_count": null,
   "metadata": {},
   "outputs": [],
   "source": []
  }
 ],
 "metadata": {
  "kernelspec": {
   "display_name": "ROOT C++",
   "language": "c++",
   "name": "root"
  },
  "language_info": {
   "codemirror_mode": "text/x-c++src",
   "file_extension": ".C",
   "mimetype": " text/x-c++src",
   "name": "c++"
  }
 },
 "nbformat": 4,
 "nbformat_minor": 2
}
