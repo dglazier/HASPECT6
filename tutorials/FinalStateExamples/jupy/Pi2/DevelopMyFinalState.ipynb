{
 "cells": [
  {
   "cell_type": "markdown",
   "metadata": {},
   "source": [
    "# Develop the final state class\n",
    "## There are 3 parts of the class the user is primarily responsible for\n",
    "1. Calculations specific to each topology e.g. start time, missing mass,....\n",
    "2. Calculations common to all topologies, typically the Kinematics of the reaction\n",
    "3. The Data to be saved in an output tree"
   ]
  },
  {
   "cell_type": "markdown",
   "metadata": {},
   "source": [
    "## Topology Specific\n",
    "This requires defining the Topo_X functions where C is the number of the topology.\n",
    "These are saved in a seperate file ToposXXX.h. We will edit this directly in this Jupyter notebook.\n",
    "\n",
    "Here you can set the reaction start time to allow calculation of DeltaTime for PID purposes. It may be you want to take this from one particular type of particle such as scattered electron or tagger photon.\n",
    "You should also calculate the missing mass for this topology and other masses specific to a topology.\n",
    "\n",
    "Again you will need to change XXX to your class name and run the %edit cell \n",
    "\n",
    "**Note to save the file you must run the jupyter cell**\n",
    "\n",
    "You will probably want to use the reconstructed missing 4-vector as the atualll missing particle 4-vector. To do this, after calculating HSLorentzVector miss give it to the missing particle in the topology and fix its mass to the PDGMass, you can use the particle FixP4 function for this. For example, if the only particle I did not detect for a particular topology was the proton I can calculate miss and:\n",
    "\n",
    "fProton.FixP4(miss);"
   ]
  },
  {
   "cell_type": "code",
   "execution_count": 1,
   "metadata": {},
   "outputs": [],
   "source": [
    "%edit ToposPi2.h"
   ]
  },
  {
   "cell_type": "code",
   "execution_count": null,
   "metadata": {},
   "outputs": [],
   "source": [
    "%%file ToposPi2.h\n",
    "#include \"Pi2.h\"\n",
    "void Pi2::Topo_0(){\n",
    "  //For topology Electron:Proton:Pip:Pim\n",
    "\n",
    "  //if(fElectron.Detector()>0) {fGoodEvent=kFALSE;return;} //Put some cuts on particle detectors etc...\n",
    "  //Define starttime from electron candidate\n",
    "  fTrigger.StartTime(&fElectron);\n",
    "  //Subtract starttime from all particles\n",
    "  fTrigger.SubtractStartTime(&fElectron,&fProton,&fPip,&fPim);\n",
    "\n",
    "  //Reconstruct missing or combined particles\n",
    "  HSLorentzVector miss= fBeam + fTarget -fElectron.P4() -fProton.P4() -fPip.P4() -fPim.P4();\n",
    "  TD.MissMass2=miss.M2();\n",
    "  TD.MissMass=miss.M();\n",
    "}\n",
    "void Pi2::Topo_1(){\n",
    "  //For topology Electron:Proton:Pip\n",
    "\n",
    "  //if(fElectron.Detector()>0) {fGoodEvent=kFALSE;return;} //Put some cuts on particle detectors etc...\n",
    "  //Define starttime from electron candidate\n",
    "  fTrigger.StartTime(&fElectron);\n",
    "  //Subtract starttime from all particles\n",
    "  fTrigger.SubtractStartTime(&fElectron,&fProton,&fPip);\n",
    "\n",
    "  //Reconstruct missing or combined particles\n",
    "  HSLorentzVector miss= fBeam + fTarget -fElectron.P4() -fProton.P4() -fPip.P4();\n",
    "  TD.MissMass2=miss.M2();\n",
    "  TD.MissMass=miss.M();\n",
    "}\n",
    "void Pi2::Topo_2(){\n",
    "  //For topology Electron:Proton:Pim\n",
    "\n",
    "  //if(fElectron.Detector()>0) {fGoodEvent=kFALSE;return;} //Put some cuts on particle detectors etc...\n",
    "  //Define starttime from electron candidate\n",
    "  fTrigger.StartTime(&fElectron);\n",
    "  //Subtract starttime from all particles\n",
    "  fTrigger.SubtractStartTime(&fElectron,&fProton,&fPim);\n",
    "\n",
    "  //Reconstruct missing or combined particles\n",
    "  HSLorentzVector miss= fBeam + fTarget -fElectron.P4() -fProton.P4() -fPim.P4();\n",
    "  TD.MissMass2=miss.M2();\n",
    "  TD.MissMass=miss.M();\n",
    "}\n",
    "void Pi2::Topo_3(){\n",
    "  //For topology Electron:Pip:Pim\n",
    "\n",
    "  //if(fElectron.Detector()>0) {fGoodEvent=kFALSE;return;} //Put some cuts on particle detectors etc...\n",
    "  //Define starttime from electron candidate\n",
    "  fTrigger.StartTime(&fElectron);\n",
    "  //Subtract starttime from all particles\n",
    "  fTrigger.SubtractStartTime(&fElectron,&fPip,&fPim);\n",
    "\n",
    "  //Reconstruct missing or combined particles\n",
    "  HSLorentzVector miss= fBeam + fTarget -fElectron.P4() -fPip.P4() -fPim.P4();\n",
    "  TD.MissMass2=miss.M2();\n",
    "  TD.MissMass=miss.M();\n",
    "}"
   ]
  },
  {
   "cell_type": "code",
   "execution_count": 2,
   "metadata": {},
   "outputs": [
    {
     "name": "stdout",
     "output_type": "stream",
     "text": [
      "Created file '/work/Dropbox/HaSpect/dev/HASPECT6/tutorials/FinalStateExamples/jupy/Pi2/ToposPi2.h'.\n"
     ]
    }
   ],
   "source": [
    "%%file ToposPi2.h\n",
    "#include \"Pi2.h\"\n",
    "void Pi2::Topo_0(){\n",
    "  //For topology Electron:Proton:Pip:Pim\n",
    "\n",
    "  //if(fElectron.Detector()>0) {fGoodEvent=kFALSE;return;} //Put some cuts on particle detectors etc...\n",
    "  //Define starttime from electron candidate\n",
    "  fTrigger.StartTime(&fElectron);\n",
    "  //Subtract starttime from all particles\n",
    "  fTrigger.SubtractStartTime(&fElectron,&fProton,&fPip,&fPim);\n",
    "\n",
    "  //Reconstruct missing or combined particles\n",
    "  HSLorentzVector miss= fBeam + fTarget -fElectron.P4() -fProton.P4() -fPip.P4() -fPim.P4();\n",
    "  TD.MissMass2=miss.M2();\n",
    "  TD.MissMass=miss.M();\n",
    "}\n",
    "void Pi2::Topo_1(){\n",
    "  //For topology Electron:Proton:Pip\n",
    "\n",
    "  //if(fElectron.Detector()>0) {fGoodEvent=kFALSE;return;} //Put some cuts on particle detectors etc...\n",
    "  //Define starttime from electron candidate\n",
    "  fTrigger.StartTime(&fElectron);\n",
    "  //Subtract starttime from all particles\n",
    "  fTrigger.SubtractStartTime(&fElectron,&fProton,&fPip);\n",
    "\n",
    "  //Reconstruct missing or combined particles\n",
    "  HSLorentzVector miss= fBeam + fTarget -fElectron.P4() -fProton.P4() -fPip.P4();\n",
    "  TD.MissMass2=miss.M2();\n",
    "  TD.MissMass=miss.M();\n",
    "}\n",
    "void Pi2::Topo_2(){\n",
    "  //For topology Electron:Proton:Pim\n",
    "\n",
    "  //if(fElectron.Detector()>0) {fGoodEvent=kFALSE;return;} //Put some cuts on particle detectors etc...\n",
    "  //Define starttime from electron candidate\n",
    "  fTrigger.StartTime(&fElectron);\n",
    "  //Subtract starttime from all particles\n",
    "  fTrigger.SubtractStartTime(&fElectron,&fProton,&fPim);\n",
    "\n",
    "  //Reconstruct missing or combined particles\n",
    "  HSLorentzVector miss= fBeam + fTarget -fElectron.P4() -fProton.P4() -fPim.P4();\n",
    "  TD.MissMass2=miss.M2();\n",
    "  TD.MissMass=miss.M();\n",
    "}\n",
    "void Pi2::Topo_3(){\n",
    "  //For topology Electron:Pip:Pim\n",
    "\n",
    "  //if(fElectron.Detector()>0) {fGoodEvent=kFALSE;return;} //Put some cuts on particle detectors etc...\n",
    "  //Define starttime from electron candidate\n",
    "  fTrigger.StartTime(&fElectron);\n",
    "  //Subtract starttime from all particles\n",
    "  fTrigger.SubtractStartTime(&fElectron,&fPip,&fPim);\n",
    "\n",
    "  //Reconstruct missing or combined particles\n",
    "  HSLorentzVector miss= fBeam + fTarget -fElectron.P4() -fPip.P4() -fPim.P4();\n",
    "  TD.MissMass2=miss.M2();\n",
    "  TD.MissMass=miss.M();\n",
    "}\n"
   ]
  },
  {
   "cell_type": "markdown",
   "metadata": {},
   "source": [
    "## Common Calculations : Kinematics\n",
    "The final state kinematics are common to all topologies so we only need to write one function.\n",
    "We can also make use of the Kinematics calculator HSKinematics (use as fKine) for calculating standard production and decay quantities. Remember to prefix any variable you wish to save with \"TD.\" then add them to the TreeData class in the next step."
   ]
  },
  {
   "cell_type": "code",
   "execution_count": 3,
   "metadata": {},
   "outputs": [],
   "source": [
    "%edit KinematicsPi2.h"
   ]
  },
  {
   "cell_type": "code",
   "execution_count": null,
   "metadata": {},
   "outputs": [],
   "source": [
    "%%file KinematicsPi2.h\n",
    "#include \"Pi2.h\"\n",
    "void Pi2::Kinematics(){\n",
    "    //Calculate possible resonances\n",
    "  HSLorentzVector pMeson=fPip.P4()+fPim.P4();\n",
    "  HSLorentzVector pDpp=fProton.P4()+fPip.P4();\n",
    "  HSLorentzVector pD0=fProton.P4()+fPim.P4();\n",
    "  //invariant masses\n",
    "  TD.MesonMass=pMeson.M();\n",
    "  TD.DppMass=pDpp.M();\n",
    "  TD.D0Mass=pD0.M();\n",
    "  \n",
    "  fKine.SetElecsTarget(fBeam,fElectron.P4(),fTarget);\n",
    "  TD.W=fKine.W(); //photon bem energy\n",
    "  TD.Q2=fKine.Q2();\n",
    "  TD.Pol=fKine.GammaPol();\n",
    "  TD.Egamma=fKine.GammaE();\n",
    "  \n",
    "  //calculate CM production kinematics for meson\n",
    "  fKine.SetMesonBaryon(pMeson,fProton.P4());\n",
    "  fKine.ElectroCMDecay();\n",
    "  TD.MesonCosTh=fKine.CosTheta();//prefix all variables to be saved wiht TM.\n",
    "  TD.MesonPhi=fKine.Phi();\n",
    "\n",
    "}"
   ]
  },
  {
   "cell_type": "code",
   "execution_count": 4,
   "metadata": {},
   "outputs": [
    {
     "name": "stdout",
     "output_type": "stream",
     "text": [
      "Created file '/work/Dropbox/HaSpect/dev/HASPECT6/tutorials/FinalStateExamples/jupy/Pi2/KinematicsPi2.h'.\n"
     ]
    }
   ],
   "source": [
    "%%file KinematicsPi2.h\n",
    "#include \"Pi2.h\"\n",
    "void Pi2::Kinematics(){\n",
    "    //Calculate possible resonances\n",
    "  HSLorentzVector pMeson=fPip.P4()+fPim.P4();\n",
    "  HSLorentzVector pDpp=fProton.P4()+fPip.P4();\n",
    "  HSLorentzVector pD0=fProton.P4()+fPim.P4();\n",
    "  //invariant masses\n",
    "  TD.MesonMass=pMeson.M();\n",
    "  TD.DppMass=pDpp.M();\n",
    "  TD.D0Mass=pD0.M();\n",
    "  \n",
    "  fKine.SetElecsTarget(fBeam,fElectron.P4(),fTarget);\n",
    "  TD.W=fKine.W(); //photon bem energy\n",
    "  TD.Q2=fKine.Q2();\n",
    "  TD.Pol=fKine.GammaPol();\n",
    "  TD.Egamma=fKine.GammaE();\n",
    "  \n",
    "  //calculate CM production kinematics for meson\n",
    "  fKine.SetMesonBaryon(pMeson,fProton.P4());\n",
    "  fKine.ElectroCMDecay();\n",
    "  TD.MesonCosTh=fKine.CosTheta();//prefix all variables to be saved wiht TM.\n",
    "  TD.MesonPhi=fKine.Phi();\n",
    "\n",
    "}\n"
   ]
  },
  {
   "cell_type": "markdown",
   "metadata": {},
   "source": [
    "## Tree Data\n",
    "The data you write in a tree is connected via a TreeData class which has data members which will be the tree leafs i.e. data you can perform further analysis on (e.g. histogram, event fitting). Every variable you add to the class can be accessed in your final state class with TM.var=some number;"
   ]
  },
  {
   "cell_type": "code",
   "execution_count": 5,
   "metadata": {},
   "outputs": [],
   "source": [
    "%edit TreeDataPi2.h"
   ]
  },
  {
   "cell_type": "code",
   "execution_count": null,
   "metadata": {},
   "outputs": [],
   "source": [
    "%%file TreeDataPi2.h\n",
    "#ifndef TREEDATAPi2_h\n",
    "#define TREEDATAPi2_h \n",
    "#include \"TreeData.h\"\n",
    "#include \"FiledTree.h\"\n",
    "\n",
    "class TreeDataPi2: public HS::TreeData{\n",
    " public:\n",
    "  //data member for tree branches below here\n",
    "  Double_t MissMass=0;\n",
    "  Double_t MissMass2=0;\n",
    "\n",
    "  Double_t MesonMass=0;\n",
    "  Double_t DppMass=0;\n",
    "  Double_t D0Mass=0;\n",
    "  \n",
    "  Double_t W=0; \n",
    "  Double_t Q2=0;\n",
    "  Double_t Pol=0;\n",
    "  Double_t Egamma=0;\n",
    "  \n",
    "  Double_t MesonCosTh=0;\n",
    "  Double_t MesonPhi=0;  \n",
    "  \n",
    "  //Function required to set tree branches\n",
    "  void Branches(HS::ttree_ptr tree) final{\n",
    "    TreeData::Branches(tree,Class()->GetListOfDataMembers());\n",
    "  }\n",
    "  ClassDefOverride(TreeDataPi2,1);\n",
    "};\n",
    "#endif"
   ]
  },
  {
   "cell_type": "code",
   "execution_count": 6,
   "metadata": {},
   "outputs": [
    {
     "name": "stdout",
     "output_type": "stream",
     "text": [
      "Created file '/work/Dropbox/HaSpect/dev/HASPECT6/tutorials/FinalStateExamples/jupy/Pi2/TreeDataPi2.h'.\n"
     ]
    }
   ],
   "source": [
    "%%file TreeDataPi2.h\n",
    "#ifndef TREEDATAPi2_h\n",
    "#define TREEDATAPi2_h \n",
    "#include \"TreeData.h\"\n",
    "#include \"FiledTree.h\"\n",
    "\n",
    "class TreeDataPi2: public HS::TreeData{\n",
    " public:\n",
    "  //data member for tree branches below here\n",
    "  Double_t MissMass=0;\n",
    "  Double_t MissMass2=0;\n",
    "\n",
    "  Double_t MesonMass=0;\n",
    "  Double_t DppMass=0;\n",
    "  Double_t D0Mass=0;\n",
    "  \n",
    "  Double_t W=0; \n",
    "  Double_t Q2=0;\n",
    "  Double_t Pol=0;\n",
    "  Double_t Egamma=0;\n",
    "  \n",
    "  Double_t MesonCosTh=0;\n",
    "  Double_t MesonPhi=0;  \n",
    "  \n",
    "  //Function required to set tree branches\n",
    "  void Branches(HS::ttree_ptr tree) final{\n",
    "    TreeData::Branches(tree,Class()->GetListOfDataMembers());\n",
    "  }\n",
    "  ClassDefOverride(TreeDataPi2,1);\n",
    "};\n",
    "#endif\n"
   ]
  },
  {
   "cell_type": "markdown",
   "metadata": {},
   "source": [
    "Compiling Now you can try and compile all of the code together. You may need to go back and fix bugs after. This is best done by removing the %edit cells and doing a restart and run whole notebook. Ore restarting and clicking through all cells apart from %edit"
   ]
  },
  {
   "cell_type": "code",
   "execution_count": 7,
   "metadata": {},
   "outputs": [
    {
     "name": "stdout",
     "output_type": "stream",
     "text": [
      "C12C12C12C12C12C12C12C12C12    utils\n",
      "C12C12C12C12C12C12C12C12C12    dictionary\n",
      "C12C12C12C12C12C12C12C12C12    node\n",
      "C12C12C12C12C12C12C12C12C12    event\n",
      "C12C12C12C12C12C12C12C12C12    record\n",
      "C12C12C12C12C12C12C12C12C12    reader\n",
      "C12C12C12C12C12C12C12C12C12    bank\n",
      "C12C12C12C12C12C12C12C12C12    header\n",
      "C12C12C12C12C12C12C12C12C12    particle\n",
      "C12C12C12C12C12C12C12C12C12    mcparticle\n",
      "C12C12C12C12C12C12C12C12C12    particle_detector\n",
      "C12C12C12C12C12C12C12C12C12    scintillator\n",
      "C12C12C12C12C12C12C12C12C12    calorimeter\n",
      "C12C12C12C12C12C12C12C12C12    cherenkov\n",
      "C12C12C12C12C12C12C12C12C12    forwardtagger\n",
      "C12C12C12C12C12C12C12C12C12    tracker\n",
      "C12C12C12C12C12C12C12C12C12    covmatrix\n",
      "C12C12C12C12C12C12C12C12C12    region_particle\n",
      "C12C12C12C12C12C12C12C12C12    region_ft\n",
      "C12C12C12C12C12C12C12C12C12    region_fdet\n",
      "C12C12C12C12C12C12C12C12C12    region_cdet\n",
      "C12C12C12C12C12C12C12C12C12    hallB_event\n",
      "%%%%%%%%%%%%%%%%%%%%%%%%%    FiledTree\n",
      "%%%%%%%%%%%%%%%%%%%%%%%%%    TreeData\n"
     ]
    },
    {
     "name": "stderr",
     "output_type": "stream",
     "text": [
      "Info in <ACLiC>: unmodified script has already been compiled and loaded\n"
     ]
    },
    {
     "name": "stdout",
     "output_type": "stream",
     "text": [
      "%%%%%%%%%%%%%%%%%%%%%%%%%    BaseParticleData\n",
      "%%%%%%%%%%%%%%%%%%%%%%%%%    BaseEventInfo\n",
      "%%%%%%%%%%%%%%%%%%%%%%%%%    BaseRunInfo\n",
      "%%%%%%%%%%%%%%%%%%%%%%%%%    Weights\n",
      "%%%%%%%%%%%%%%%%%%%%%%%%%    Bins\n",
      "%%%%%%%%%%%%%%%%%%%%%%%%%    DataManager\n",
      "%%%%%%%%%%%%%%%%%%%%%%%%%    LundReader\n",
      "12121212121212121212121212 EventInfo\n",
      "12121212121212121212121212 RunInfo\n",
      "12121212121212121212121212 HipoToolsReader\n",
      "12121212121212121212121212 ParticleData\n"
     ]
    },
    {
     "name": "stderr",
     "output_type": "stream",
     "text": [
      "Info in <TUnixSystem::ACLiC>: creating shared library /work/Dropbox/HaSpect/dev/HASPECT6/hsmva/ResultInterface_C.so\n",
      "Warning in cling::IncrementalParser::CheckABICompatibility():\n",
      "  Possible C++ standard library mismatch, compiled with __GLIBCXX__ '20180415'\n",
      "  Extraction of runtime standard library version was: '20180720'\n"
     ]
    },
    {
     "name": "stdout",
     "output_type": "stream",
     "text": [
      "&&&&&&&&&&&&&&&&&&&&&&&&&&&& HSKinematics\n",
      "&&&&&&&&&&&&&&&&&&&&&&&&&&&& Cuts\n",
      "&&&&&&&&&&&&&&&&&&&&&&&&&&&& Combitorial\n",
      "&&&&&&&&&&&&&&&&&&&&&&&&&&&& ParticleIter\n",
      "&&&&&&&&&&&&&&&&&&&&&&&&&&&& Topology\n",
      "&&&&&&&&&&&&&&&&&&&&&&&&&&&& FinalState\n",
      "&&&&&&&&&&&&&&&&&&&&&&&&&&&& FiledTree\n",
      "&&&&&&&&&&&&&&&&&&&&&&&&&&&& TopoActionManager\n",
      "&&&&&&&&&&&&&&&&&&&&&&&&&&&& ParticleCuts\n"
     ]
    },
    {
     "name": "stderr",
     "output_type": "stream",
     "text": [
      "Info in <ACLiC>: unmodified script has already been compiled and loaded\n"
     ]
    },
    {
     "name": "stdout",
     "output_type": "stream",
     "text": [
      "&&&&&&&&&&&&&&&&&&&&&&&&&&&& TreeParticleData\n",
      "&&&&&&&&&&&&&&&&&&&&&&&&&&&& MVASignalID\n",
      "&&&&&&&&&&&&&&&&&&&&&&&&&&&& ParticleCutsManager\n",
      "&&&&&&&&&&&&&&&&&&&&&&&&&&&& ParticleDataManager\n",
      "&&&&&&&&&&&&&&&&&&&&&&&&&&&& MVASignalIDManager\n",
      "12121212121212121212121212 CLAS12Trigger\n",
      "12121212121212121212121212 CLAS12DeltaTime\n"
     ]
    },
    {
     "name": "stderr",
     "output_type": "stream",
     "text": [
      "Info in <TUnixSystem::ACLiC>: creating shared library /work/Dropbox/HaSpect/dev/HASPECT6/tutorials/FinalStateExamples/jupy/Pi2/./TreeDataPi2_C.so\n",
      "Warning in cling::IncrementalParser::CheckABICompatibility():\n",
      "  Possible C++ standard library mismatch, compiled with __GLIBCXX__ '20180415'\n",
      "  Extraction of runtime standard library version was: '20180720'\n",
      "Info in <TUnixSystem::ACLiC>: creating shared library /work/Dropbox/HaSpect/dev/HASPECT6/tutorials/FinalStateExamples/jupy/Pi2/./Pi2_C.so\n",
      "Warning in cling::IncrementalParser::CheckABICompatibility():\n",
      "  Possible C++ standard library mismatch, compiled with __GLIBCXX__ '20180415'\n",
      "  Extraction of runtime standard library version was: '20180720'\n"
     ]
    }
   ],
   "source": [
    "gROOT->ProcessLine(\".x LoadPi2.C+\");"
   ]
  }
 ],
 "metadata": {
  "kernelspec": {
   "display_name": "ROOT C++",
   "language": "c++",
   "name": "root"
  },
  "language_info": {
   "codemirror_mode": "text/x-c++src",
   "file_extension": ".C",
   "mimetype": " text/x-c++src",
   "name": "c++"
  }
 },
 "nbformat": 4,
 "nbformat_minor": 2
}
