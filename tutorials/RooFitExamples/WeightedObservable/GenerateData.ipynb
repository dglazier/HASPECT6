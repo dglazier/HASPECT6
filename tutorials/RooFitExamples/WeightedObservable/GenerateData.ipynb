{
 "cells": [
  {
   "cell_type": "markdown",
   "metadata": {},
   "source": [
    "# Generate data for fitting\n",
    "\n",
    "The dataset will contain signal events with a sinusiodal azimuthal dependence \n",
    "\n",
    "    f(#phi) = 1 + 0.4 h P cos(2#phi) - 0.6 h P sin(2#phi)   --(1)\n",
    "    \n",
    "where P is an event polarisation and h a polarisation state which will be incorporated into the fit PDF.\n",
    "\n",
    "The signal missing mass distribution Mmiss will be Gaussian with mean 5 and #sigma 0.7. It will have a range 0-10.\n",
    "\n",
    "Background will be generated with a 1:1 ratio with the signal events. It will have a flat azimuthal dependence and linear missing mass distribution.\n",
    "\n",
    "Generate data, signal + background :"
   ]
  },
  {
   "cell_type": "code",
   "execution_count": null,
   "metadata": {},
   "outputs": [],
   "source": [
    "gROOT->ProcessLine(\".x Model1.C( \\\"Data.root\\\" )\")"
   ]
  },
  {
   "cell_type": "markdown",
   "metadata": {},
   "source": [
    "We also mimic an experiment by producing signal only simulated data. This has several uses. First it can be used as a line shape for an sPlot of missing mass, second it can be used to calculated the normalisation integral in the fit of equation (1), third it could be used to generate toy data for systematic studies of the fit."
   ]
  },
  {
   "cell_type": "code",
   "execution_count": null,
   "metadata": {},
   "outputs": [],
   "source": [
    "gROOT->ProcessLine(\".x Model1.C( \\\"MC.root\\\",0 )\")"
   ]
  },
  {
   "cell_type": "markdown",
   "metadata": {},
   "source": [
    "Lets check some distributions using core ROOT.\n",
    "\n",
    "First open file and get ROOT TTree"
   ]
  },
  {
   "cell_type": "code",
   "execution_count": null,
   "metadata": {},
   "outputs": [],
   "source": [
    "auto dfile = TFile::Open(\"Data.root\");\n",
    "auto dtree = dynamic_cast<TTree*> (dfile->Get(\"MyModel\"));"
   ]
  },
  {
   "cell_type": "markdown",
   "metadata": {},
   "source": [
    "Draw missing mass and #phi distributions"
   ]
  },
  {
   "cell_type": "code",
   "execution_count": null,
   "metadata": {},
   "outputs": [],
   "source": [
    "TCanvas* can=new TCanvas();\n",
    "can->Divide(2,1); //create 2 pads\n",
    "can->cd(1); //move to first pad\n",
    "TH1F* histMmiss=new TH1F(\"hMmiss\",\"hMmiss\",100,0,10);\n",
    "dtree->Draw(\"Mmiss>>hMmiss(100,0,10)\"); //draw all data\n",
    "dtree->Draw(\"Mmiss\",\"PolState==-1\",\"same\");//PolState -ve\n",
    "dtree->Draw(\"Mmiss\",\"PolState==1\",\"same\");//draw PolState +ve\n",
    "dtree->Draw(\"Mmiss\",\"Sig==-1\",\"same\");//draw background only\n",
    "histMmiss->SetMinimum(0);\n",
    "\n",
    "can->cd(2); //move to second pad\n",
    "TH1F* histPhi=new TH1F(\"hPhi\",\"hPhi\",100,-180,180);\n",
    "dtree->Draw(\"Phi>>hPhi(100,-180,180)\"); //draw all data\n",
    "dtree->Draw(\"Phi\",\"PolState==-1\",\"same\");//draw PolState -ve\n",
    "dtree->Draw(\"Phi\",\"PolState==1\",\"same\");//draw PolState +ve\n",
    "dtree->Draw(\"Phi\",\"Sig==-1\",\"same\");//draw background only\n",
    "histPhi->SetMinimum(0);\n",
    "\n",
    "can->Draw();"
   ]
  },
  {
   "cell_type": "markdown",
   "metadata": {},
   "source": [
    "From the #phi plots you can see opposite distributions from the 2 different PolStates i.e. h=+-1"
   ]
  },
  {
   "cell_type": "markdown",
   "metadata": {},
   "source": [
    "Next we will fit the missing mass distribution to disentangle the signal and background using sPlots click [here](sPlot.ipynb)"
   ]
  },
  {
   "cell_type": "code",
   "execution_count": null,
   "metadata": {},
   "outputs": [],
   "source": []
  }
 ],
 "metadata": {
  "kernelspec": {
   "display_name": "ROOT C++",
   "language": "c++",
   "name": "root"
  },
  "language_info": {
   "codemirror_mode": "text/x-c++src",
   "file_extension": ".C",
   "mimetype": " text/x-c++src",
   "name": "c++"
  }
 },
 "nbformat": 4,
 "nbformat_minor": 2
}
