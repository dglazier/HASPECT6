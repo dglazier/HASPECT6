{
 "cells": [
  {
   "cell_type": "markdown",
   "metadata": {},
   "source": [
    "## Example sPlot  to create signal weights to be used in subsequent fit\n",
    "\n",
    "The weights will be stored in a ROOT file as part of a HS::Weights object. They can then be combined with the data on the fly when performing subsequent fits. It is also possible to merge with the data tree :\n",
    "    \n",
    "       Weights wgts;\n",
    "       wgts.LoadSaved(\"filename.root\",\"HSsWeights\");\n",
    "       wgts.AddToTree(tree);\n",
    "       \n",
    "If this is attempted in interactive ROOT you will also need to have loaded the classes (next line)\n",
    "\n",
    "First load the hs fit classes"
   ]
  },
  {
   "cell_type": "code",
   "execution_count": 1,
   "metadata": {},
   "outputs": [
    {
     "name": "stdout",
     "output_type": "stream",
     "text": [
      "^^^^^^^^^^^^^^^^^^^^^^^^^^^^^^^ FiledTree\n",
      "^^^^^^^^^^^^^^^^^^^^^^^^^^^^^^^ Bins\n",
      "^^^^^^^^^^^^^^^^^^^^^^^^^^^^^^^ Weights\n"
     ]
    },
    {
     "name": "stderr",
     "output_type": "stream",
     "text": [
      "Info in <TUnixSystem::ACLiC>: creating shared library /work/Dropbox/HaSpect/dev/HASPECT6/hsdata/Weights_C.so\n",
      "Warning in cling::IncrementalParser::CheckABICompatibility():\n",
      "  Possible C++ standard library mismatch, compiled with __GLIBCXX__ '20180415'\n",
      "  Extraction of runtime standard library version was: '20180720'\n"
     ]
    },
    {
     "name": "stdout",
     "output_type": "stream",
     "text": [
      "^^^^^^^^^^^^^^^^^^^^^^^^^^^^^^^ RooHSEventsPDF\n",
      "\n",
      "\u001b[1mRooFit v3.60 -- Developed by Wouter Verkerke and David Kirkby\u001b[0m \n",
      "                Copyright (C) 2000-2013 NIKHEF, University of California & Stanford University\n",
      "                All rights reserved, please read http://roofit.sourceforge.net/license.txt\n",
      "\n",
      "^^^^^^^^^^^^^^^^^^^^^^^^^^^^^^^ RooHSEventsHistPDF\n",
      "^^^^^^^^^^^^^^^^^^^^^^^^^^^^^^^ Setup\n",
      "^^^^^^^^^^^^^^^^^^^^^^^^^^^^^^^ Data\n",
      "^^^^^^^^^^^^^^^^^^^^^^^^^^^^^^^ Binner\n",
      "^^^^^^^^^^^^^^^^^^^^^^^^^^^^^^^ Minimiser\n",
      "^^^^^^^^^^^^^^^^^^^^^^^^^^^^^^^ HSMetropolisHastings\n",
      "^^^^^^^^^^^^^^^^^^^^^^^^^^^^^^^ RooMcmc\n",
      "^^^^^^^^^^^^^^^^^^^^^^^^^^^^^^^ PlotResults\n",
      "^^^^^^^^^^^^^^^^^^^^^^^^^^^^^^^ BootStrapper\n",
      "^^^^^^^^^^^^^^^^^^^^^^^^^^^^^^^ FitManager\n",
      "^^^^^^^^^^^^^^^^^^^^^^^^^^^^^^^ sPlot\n"
     ]
    },
    {
     "name": "stderr",
     "output_type": "stream",
     "text": [
      "Info in <TUnixSystem::ACLiC>: creating shared library /work/Dropbox/HaSpect/dev/HASPECT6/hsfit/sPlot_C.so\n",
      "Warning in cling::IncrementalParser::CheckABICompatibility():\n",
      "  Possible C++ standard library mismatch, compiled with __GLIBCXX__ '20180415'\n",
      "  Extraction of runtime standard library version was: '20180720'\n"
     ]
    },
    {
     "name": "stdout",
     "output_type": "stream",
     "text": [
      "^^^^^^^^^^^^^^^^^^^^^^^^^^^^^^^ FitSelector\n",
      "^^^^^^^^^^^^^^^^^^^^^^^^^^^^^^^ Process\n",
      "(long) 0\n"
     ]
    }
   ],
   "source": [
    "gROOT->ProcessLine(\".x $HSCODE/hsfit/LoadFit.C+\")"
   ]
  },
  {
   "cell_type": "markdown",
   "metadata": {},
   "source": [
    "### Construct an sPlot object for running the fit\n",
    "\n",
    "Set an output directory for saving weights and plots and stdout. It is best to provide the full path as this can then be used with PROOF as well.\n",
    "\n",
    "I use the pwd variable to keep everything in the local directory, while applying the full path for PROOF."
   ]
  },
  {
   "cell_type": "code",
   "execution_count": 2,
   "metadata": {},
   "outputs": [],
   "source": [
    "sPlot RF;\n",
    "TString pwd = TString(gSystem->Getenv(\"PWD\"))+\"/\";\n",
    "RF.SetUp().SetOutDir(pwd+\"sPlotFit\");"
   ]
  },
  {
   "cell_type": "markdown",
   "metadata": {},
   "source": [
    "### Set an observables\n",
    "\n",
    "These are the fit variables. In general you can fit in as many dimensions as you need by supplying more variables. \n",
    "\n",
    "Here we are going to fit the missing mass (Mmiss) between 0-10\n"
   ]
  },
  {
   "cell_type": "code",
   "execution_count": 3,
   "metadata": {},
   "outputs": [],
   "source": [
    "///////////////////////////////Load Variables\n",
    "RF.SetUp().LoadVariable(\"Mmiss[0,10]\");//should be same name as variable in tree"
   ]
  },
  {
   "cell_type": "markdown",
   "metadata": {},
   "source": [
    "IMPORTANT here we set the event ID variable. Each event in your tree should have a unique id with which to synchronise with weights.\n",
    "    This is useful as it allows us to break the data up, perform seperate fits then combine the weights afterwards.\n",
    "    The weights are not written into the input tree, rather they are stored seperately (as HS::Weights) and combined when required. This allows you to use various sets of weights when performing fits or regenerate the weights after some corrections etc."
   ]
  },
  {
   "cell_type": "code",
   "execution_count": 4,
   "metadata": {},
   "outputs": [],
   "source": [
    "RF.SetUp().SetIDBranchName(\"fgID\"); //this is set in Model1.C"
   ]
  },
  {
   "cell_type": "markdown",
   "metadata": {},
   "source": [
    "### Create a signal PDF\n",
    "\n",
    "The LoadSpecies Line adds the PDF Signal to the Extended Maximum Likelihood fit and creates a corresponding yield parameter Yld_Signal which will give the number of signal events in the data after the fit.\n",
    "Note, I did not have to directly load this PDF I could have created more PDFs and combined them to make a more complicated PDF shape first.\n",
    "\n",
    "We are just going to use a signal Gaussain with initial guess of mean 4 (with possible range 2-8), and sigma 1 (range 0.1-5)"
   ]
  },
  {
   "cell_type": "code",
   "execution_count": 5,
   "metadata": {},
   "outputs": [],
   "source": [
    "//////////////////////////////Make signal PDF\n",
    "RF.SetUp().FactoryPDF(\"Gaussian::Signal( Mmiss, mean[4,2,8], sigma[1,0.1,5] )\");\n",
    "RF.SetUp().LoadSpeciesPDF(\"Signal\",1);"
   ]
  },
  {
   "cell_type": "markdown",
   "metadata": {},
   "source": [
    "### Create a background PDF\n",
    "\n",
    "Here we just use a quadratic Chebychev polynomial to describe a smooth background. You can add extra a2,a3,etc. to increase the degree of the polynomial"
   ]
  },
  {
   "cell_type": "code",
   "execution_count": 6,
   "metadata": {},
   "outputs": [],
   "source": [
    "//////////////////////////////Make background PDF\n",
    "RF.SetUp().FactoryPDF(\"Chebychev::BG(Mmiss,{a0[-0.1,-1,1],a1[0.1,-1,1]})\");\n",
    "RF.SetUp().LoadSpeciesPDF(\"BG\",1);"
   ]
  },
  {
   "cell_type": "markdown",
   "metadata": {},
   "source": [
    "### Define Bins/Splits\n",
    "Often you wil want to split the data into distinct bins, in invariant mass or angle for example, and perform seperate fits to each bin. Here we can set as many different variables to split the data on as we like. Here we must use the Binner class accessed via RF.Bins() to propogate the splits into data and simulated events.\n",
    "\n",
    "The function LoadBinVars takes a variable to make bins out of which has to be in the data tree, the number of bins to make and the limits of the variable. Alternatively you can supply the variable name, number of bins and an array of bin edges as for TAxis.\n",
    "\n",
    "In this example we will not use splits, but you can test it by commenting out the line below. In this case after performing the individaul fits all weights will be combined into 1 file OUTDIR/Tweights.root"
   ]
  },
  {
   "cell_type": "code",
   "execution_count": 7,
   "metadata": {},
   "outputs": [],
   "source": [
    "//RF.Bins().LoadBinVar(\"Eg\",5,3,4);"
   ]
  },
  {
   "cell_type": "markdown",
   "metadata": {},
   "source": [
    "### Load Data\n",
    "\n",
    "\n",
    "This just takes the treename \"MyModel\" and data file \"Data.root\" which were created in GenerateData"
   ]
  },
  {
   "cell_type": "code",
   "execution_count": 8,
   "metadata": {},
   "outputs": [
    {
     "name": "stdout",
     "output_type": "stream",
     "text": [
      "DataEvents::Load MyModel 1\n"
     ]
    }
   ],
   "source": [
    "///////////////////////////Load Data\n",
    "RF.LoadData(\"MyModel\",\"Data.root\");"
   ]
  },
  {
   "cell_type": "markdown",
   "metadata": {},
   "source": [
    "Turn on javascript root for interactive plots (even when saved as html file!)"
   ]
  },
  {
   "cell_type": "code",
   "execution_count": 9,
   "metadata": {},
   "outputs": [],
   "source": [
    "%jsroot"
   ]
  },
  {
   "cell_type": "markdown",
   "metadata": {},
   "source": [
    "### Run the fit.\n",
    "The test output will be redirected to your specified output directory (see code cell 2) as file logRooFit.txt. This will give full details of the fit.\n",
    "Here we will just report the final result, the weights and the plots of fit PDF overlayed on the data as well as the fit residuals and pulls.\n",
    "\n",
    "There are different options for running. \n",
    "To just run standard use Here::Go and the fits will just be performed within this interactive session, sequentially in the case of bins.\n",
    "\n",
    "Here::One(&RF,i) will run one singal fit from the different bins produce with LoadBinVars, where i gives the index of the bin\n",
    "\n",
    "Use Proof::Go(&RF,N) and the fits will be run in parallel via PROOF with each split/bin running on a different core, where N = number of cores to use.\n",
    "    "
   ]
  },
  {
   "cell_type": "code",
   "execution_count": 10,
   "metadata": {},
   "outputs": [
    {
     "name": "stdout",
     "output_type": "stream",
     "text": [
      "FitManager::RunOne() 0 /work/Dropbox/HaSpect/dev/HASPECT6/tutorials/RooFitExamples/WeightedObservable/sPlotFit/\n",
      "HS::FIT::sPlot::Do prelimanry fits PyROOT\n",
      "%%%%%%%%%%%%%%%%%%%%%copy setup \n",
      "FitManager::Run 0  \n",
      "OBJ: HS::FIT::Setup\t\t\n",
      " \n",
      " RooAbsData& DataEvents::Get  Data.root MyModel 0 \n",
      "RooArgSet:: = (Mmiss,fgID)\n",
      "cerate weights\n",
      "make data set \n",
      "[#0] WARNING:DataHandling -- RooDataSet::RooDataSet(DataEvents) WARNING: designated weight variable  not found in set of variables, no weighting will be assigned\n",
      " return DATA \n",
      "RooDataSet::DataEvents[Mmiss,fgID] = 100000 entries\n",
      " FitManager::FillEventsPDFs 2\n",
      "0 0 \n",
      "1 0 \n",
      "RooAddPdf::TotalPDF[ Yld_Signal * Signal + Yld_BG * BG ] = 0.753265\n",
      "[#1] INFO:Minization -- RooMinimizer::optimizeConst: activating const optimization\n",
      "[#1] INFO:Minization --  The following expressions will be evaluated in cache-and-track mode: (Signal,BG)\n",
      "Minuit2Minimizer: Minimize with max-calls 3000 convergence for edm < 1 strategy 1\n",
      "MnSeedGenerator: for initial parameters FCN = -829524.9394162\n",
      "MnSeedGenerator: Initial state:   - FCN =  -829524.9394162 Edm =      41561.3 NCalls =     29\n",
      "VariableMetric: start iterating until Edm is < 0.001\n",
      "VariableMetric: Initial state   - FCN =  -829524.9394162 Edm =      41561.3 NCalls =     29\n",
      "VariableMetric: Iteration #   0 - FCN =  -829524.9394162 Edm =      41561.3 NCalls =     29\n",
      "VariableMetric: Iteration #   1 - FCN =  -847713.8243099 Edm =      2294.23 NCalls =     47\n",
      "VariableMetric: Iteration #   2 - FCN =  -850895.6146446 Edm =      1058.11 NCalls =     66\n",
      "VariableMetric: Iteration #   3 - FCN =  -851680.1359427 Edm =      361.866 NCalls =     80\n",
      "VariableMetric: Iteration #   4 - FCN =  -851929.8841279 Edm =      34.2476 NCalls =     94\n",
      "VariableMetric: Iteration #   5 - FCN =  -851948.6575781 Edm =      4.67111 NCalls =    108\n",
      "VariableMetric: Iteration #   6 - FCN =  -851960.1989046 Edm =      4.74621 NCalls =    122\n",
      "VariableMetric: Iteration #   7 - FCN =  -851967.6505482 Edm =     0.236202 NCalls =    136\n",
      "VariableMetric: Iteration #   8 - FCN =  -851967.8692752 Edm =   0.00812536 NCalls =    150\n",
      "VariableMetric: Iteration #   9 - FCN =  -851967.8759638 Edm =  1.43757e-05 NCalls =    164\n",
      "VariableMetric: After Hessian   - FCN =  -851967.8759638 Edm =  1.52089e-05 NCalls =    212\n",
      "VariableMetric: Iteration #  10 - FCN =  -851967.8759638 Edm =  1.52089e-05 NCalls =    212\n",
      "Minuit2Minimizer : Valid minimum - status = 0\n",
      "FVAL  = -851967.87596381153\n",
      "Edm   = 1.52089011207751351e-05\n",
      "Nfcn  = 212\n",
      "Yld_BG\t  = 49959.3\t +/-  357.535\t(limited)\n",
      "Yld_Signal\t  = 50040.4\t +/-  357.659\t(limited)\n",
      "a0\t  = 0.450013\t +/-  0.00755416\t(limited)\n",
      "a1\t  = 0.00465384\t +/-  0.0112767\t(limited)\n",
      "mean\t  = 4.99449\t +/-  0.00421939\t(limited)\n",
      "sigma\t  = 0.704421\t +/-  0.00449676\t(limited)\n",
      "[#1] INFO:Fitting -- RooAbsPdf::fitTo(TotalPDF) Calculating sum-of-weights-squared correction matrix for covariance matrix\n"
     ]
    },
    {
     "name": "stderr",
     "output_type": "stream",
     "text": [
      "Info in <Minuit2>: Minuit2Minimizer::Hesse : Hesse is valid - matrix is accurate\n"
     ]
    },
    {
     "name": "stdout",
     "output_type": "stream",
     "text": [
      "[#1] INFO:Minization -- RooMinimizer::optimizeConst: deactivating const optimization\n",
      "\n",
      "  RooFitResult: minimized FCN value: -851968, estimated distance to minimum: 1.524e-05\n",
      "                covariance matrix quality: Unknown, matrix was externally provided\n",
      "                Status : MINIMIZE=0 HESSE=0 HESSE=0 \n",
      "\n",
      "    Floating Parameter    FinalValue +/-  Error   \n",
      "  --------------------  --------------------------\n",
      "                Yld_BG    4.9959e+04 +/-  3.58e+02\n",
      "            Yld_Signal    5.0040e+04 +/-  3.59e+02\n",
      "                    a0    4.5001e-01 +/-  7.55e-03\n",
      "                    a1    4.6538e-03 +/-  1.13e-02\n",
      "                  mean    4.9945e+00 +/-  4.22e-03\n",
      "                 sigma    7.0442e-01 +/-  4.51e-03\n",
      "\n",
      "PlotResults::PlotResults 0x7f183e8fbb50 0x7f183da2a7c0 \n",
      "model 0x7f183d6ada50\n"
     ]
    },
    {
     "name": "stderr",
     "output_type": "stream",
     "text": [
      "Info in <Minuit2>: Minuit2Minimizer::Hesse : Hesse is valid - matrix is accurate\n"
     ]
    },
    {
     "name": "stdout",
     "output_type": "stream",
     "text": [
      "[#1] INFO:Plotting -- RooAbsPdf::plotOn(TotalPDF) directly selected PDF components: (Signal)\n",
      "[#1] INFO:Plotting -- RooAbsPdf::plotOn(TotalPDF) indirectly selected PDF components: ()\n",
      "[#1] INFO:Plotting -- RooAbsPdf::plotOn(TotalPDF) directly selected PDF components: (BG)\n",
      "[#1] INFO:Plotting -- RooAbsPdf::plotOn(TotalPDF) indirectly selected PDF components: ()\n",
      " splot model y0x7f183d6ada50\n",
      "HS::FIT::sPlot::Run create sWeights \n",
      "[#1] INFO:Minization -- RooMinimizer::optimizeConst: activating const optimization\n",
      "[#0] WARNING:Optimization -- RooAbsOptTestStatistic::optimizeConstantTerms(nll_TotalPDF_DataEvents) WARNING Cache-and-track optimization (Optimize level 2) is only available for datasets implement in terms of RooVectorDataStore - ignoring this option for current dataset\n",
      "[#1] INFO:Minization --  The following expressions have been identified as constant and will be precalculated and cached: (Signal,BG)\n",
      "[#1] INFO:Fitting -- RooAbsPdf::fitTo(TotalPDF) Calculating sum-of-weights-squared correction matrix for covariance matrix\n",
      "[#1] INFO:Minization -- RooMinimizer::optimizeConst: deactivating const optimization\n",
      "[#1] INFO:InputArguments -- Printing Yields\n",
      "RooArgList:: = (Yld_Signal,Yld_BG)\n",
      "[#1] INFO:InputArguments -- yield in pdf: Yld_Signal 50040.3\n",
      "[#1] INFO:InputArguments -- yield in pdf: Yld_BG 49960.1\n",
      "[#1] INFO:Eval -- Checking Likelihood normalization:  \n",
      "[#1] INFO:Eval -- Yield of specie  Sum of Row in Matrix   Norm\n",
      "[#1] INFO:Eval -- 50040.3 50040.6 0.999995\n",
      "[#1] INFO:Eval -- 49960.1 49960 0.999999\n",
      "[#1] INFO:Eval -- Calculating sWeight\n",
      "Weights::SetFile /work/Dropbox/HaSpect/dev/HASPECT6/tutorials/RooFitExamples/WeightedObservable/sPlotFit/Weights.root\n",
      "HSsPlot:ExportWeights \n",
      "Insert species Signal 0 0\n",
      "Insert species BG 1 0\n",
      "Weights::BuildIndex 100000\n",
      "Done\n",
      "Weights::SortWeights() Clone emptry tree to save \n",
      "Weights::SortWeights() Clone tree to save \n",
      "Weights::SortWeights() reordering trees 0x7f183fb5e0f0\n"
     ]
    },
    {
     "name": "stderr",
     "output_type": "stream",
     "text": [
      "Warning in <TTreeFormula::DefinedVariable>: Casting to primary types like \"Long64_t\" is not supported yet\n"
     ]
    },
    {
     "name": "stdout",
     "output_type": "stream",
     "text": [
      "Weights::SortWeights() reordering trees\n",
      "Weights::SortWeights() entries 100000 100000\n",
      "Weights::SortWeights Print new ordering\n",
      "Weights HSsWeights contains 100000 events associated file is /work/Dropbox/HaSpect/dev/HASPECT6/tutorials/RooFitExamples/WeightedObservable/sPlotFit/Weights.root \n",
      "ID branch name : fgID\n",
      "Species are : \n",
      "BG\n",
      "Signal\n",
      "The first ten entries are :\n",
      "0 0.839092 0.160913 \n",
      "1 1.14794 -0.147931 \n",
      "2 -0.151882 1.15188 \n",
      "3 -0.438082 1.43808 \n",
      "4 -0.422561 1.42256 \n",
      "5 1.00834 -0.00833166 \n",
      "6 -0.453222 1.45322 \n",
      "7 -0.447169 1.44717 \n",
      "8 0.600805 0.399199 \n",
      "9 -0.449567 1.44957 \n",
      "FitManager::RunOne() done 0\n",
      "RooArgList:: = (mean,sigma,a0,a1)\n",
      "RooArgList:: = (Yld_Signal,Yld_BG)\n",
      "FiledTree::~FiledTree()  tree name MyModel 100000 Data.root\n",
      "Weights::~Weights()\n"
     ]
    },
    {
     "data": {
      "text/html": [
       "\n",
       "<div id=\"root_plot_1\"\n",
       "     style=\"width: 696px; height: 472px\">\n",
       "</div>\n",
       "\n",
       "<script>\n",
       " requirejs.config({\n",
       "     paths: {\n",
       "       'JSRootCore' : 'https://root.cern.ch/js/notebook//scripts/JSRootCore',\n",
       "     }\n",
       "   });\n",
       " require(['JSRootCore'],\n",
       "     function(Core) {\n",
       "       var obj = Core.JSONR_unref({\"_typename\":\"TCanvas\",\"fUniqueID\":0,\"fBits\":53673992,\"fLineColor\":1,\"fLineStyle\":1,\"fLineWidth\":1,\"fFillColor\":0,\"fFillStyle\":1001,\"fLeftMargin\":0.1,\"fRightMargin\":0.1,\"fBottomMargin\":0.1,\"fTopMargin\":0.1,\"fXfile\":2,\"fYfile\":2,\"fAfile\":1,\"fXstat\":0.99,\"fYstat\":0.99,\"fAstat\":2,\"fFrameFillColor\":0,\"fFrameLineColor\":1,\"fFrameFillStyle\":1001,\"fFrameLineStyle\":1,\"fFrameLineWidth\":1,\"fFrameBorderSize\":1,\"fFrameBorderMode\":0,\"fX1\":0,\"fY1\":0,\"fX2\":1,\"fY2\":1,\"fXtoAbsPixelk\":5e-5,\"fXtoPixelk\":5e-5,\"fXtoPixel\":696,\"fYtoAbsPixelk\":472.00005,\"fYtoPixelk\":472.00005,\"fYtoPixel\":-472,\"fUtoAbsPixelk\":5e-5,\"fUtoPixelk\":5e-5,\"fUtoPixel\":696,\"fVtoAbsPixelk\":472.00005,\"fVtoPixelk\":472,\"fVtoPixel\":-472,\"fAbsPixeltoXk\":0,\"fPixeltoXk\":0,\"fPixeltoX\":0.0014367816091954,\"fAbsPixeltoYk\":1,\"fPixeltoYk\":0,\"fPixeltoY\":-0.00211864406779661,\"fXlowNDC\":0,\"fYlowNDC\":0,\"fXUpNDC\":0,\"fYUpNDC\":0,\"fWNDC\":1,\"fHNDC\":1,\"fAbsXlowNDC\":0,\"fAbsYlowNDC\":0,\"fAbsWNDC\":1,\"fAbsHNDC\":1,\"fUxmin\":0,\"fUymin\":0,\"fUxmax\":1,\"fUymax\":1,\"fTheta\":30,\"fPhi\":30,\"fAspectRatio\":0,\"fNumber\":0,\"fTickx\":0,\"fTicky\":0,\"fLogx\":0,\"fLogy\":0,\"fLogz\":0,\"fPadPaint\":0,\"fCrosshair\":0,\"fCrosshairPos\":0,\"fBorderSize\":2,\"fBorderMode\":0,\"fModified\":false,\"fGridx\":false,\"fGridy\":false,\"fAbsCoord\":false,\"fEditable\":true,\"fFixedAspectRatio\":false,\"fPrimitives\":{\"_typename\":\"TList\",\"name\":\"TList\",\"arr\":[{\"_typename\":\"TPad\",\"fUniqueID\":0,\"fBits\":50331657,\"fLineColor\":1,\"fLineStyle\":1,\"fLineWidth\":1,\"fFillColor\":0,\"fFillStyle\":1001,\"fLeftMargin\":0.1,\"fRightMargin\":0.1,\"fBottomMargin\":0.1,\"fTopMargin\":0.1,\"fXfile\":2,\"fYfile\":2,\"fAfile\":1,\"fXstat\":0.99,\"fYstat\":0.99,\"fAstat\":2,\"fFrameFillColor\":0,\"fFrameLineColor\":1,\"fFrameFillStyle\":1001,\"fFrameLineStyle\":1,\"fFrameLineWidth\":1,\"fFrameBorderSize\":1,\"fFrameBorderMode\":0,\"fX1\":-1.25000009313226,\"fY1\":-455.624025322848,\"fX2\":11.2500000931323,\"fY2\":4100.61595633256,\"fXtoAbsPixelk\":40.3680518668176,\"fXtoPixelk\":33.4080520223857,\"fXtoPixel\":26.7263996266365,\"fYtoAbsPixelk\":421.024047327328,\"fYtoPixelk\":416.304047432828,\"fYtoPixel\":-0.101522308322956,\"fUtoAbsPixelk\":6.96004984443188,\"fUtoPixelk\":5e-5,\"fUtoPixel\":334.080000311136,\"fVtoAbsPixelk\":467.2800501055,\"fVtoPixelk\":462.560000211,\"fVtoPixel\":-462.560000211,\"fAbsPixeltoXk\":-1.51041675761614,\"fPixeltoXk\":-1.25000009313226,\"fPixeltoX\":0.0374161882621617,\"fAbsPixeltoYk\":4147.10819998294,\"fPixeltoYk\":-455.624025322848,\"fPixeltoY\":-9.85005184100882,\"fXlowNDC\":0.00999999977648258,\"fYlowNDC\":0.00999999977648258,\"fXUpNDC\":0,\"fYUpNDC\":0,\"fWNDC\":0.480000000447035,\"fHNDC\":0.980000000447035,\"fAbsXlowNDC\":0.00999999977648258,\"fAbsYlowNDC\":0.00999999977648258,\"fAbsWNDC\":0.480000000447035,\"fAbsHNDC\":0.980000000447035,\"fUxmin\":0,\"fUymin\":0,\"fUxmax\":10,\"fUymax\":3644.99193100971,\"fTheta\":30,\"fPhi\":30,\"fAspectRatio\":0,\"fNumber\":1,\"fTickx\":0,\"fTicky\":0,\"fLogx\":0,\"fLogy\":0,\"fLogz\":0,\"fPadPaint\":0,\"fCrosshair\":0,\"fCrosshairPos\":0,\"fBorderSize\":2,\"fBorderMode\":0,\"fModified\":false,\"fGridx\":false,\"fGridy\":false,\"fAbsCoord\":false,\"fEditable\":true,\"fFixedAspectRatio\":false,\"fPrimitives\":{\"_typename\":\"TList\",\"name\":\"TList\",\"arr\":[{\"_typename\":\"TFrame\",\"fUniqueID\":0,\"fBits\":50331656,\"fLineColor\":1,\"fLineStyle\":1,\"fLineWidth\":1,\"fFillColor\":0,\"fFillStyle\":1001,\"fX1\":0,\"fY1\":0,\"fX2\":10,\"fY2\":3644.99193100971,\"fBorderSize\":1,\"fBorderMode\":0},{\"_typename\":\"TH1D\",\"fUniqueID\":0,\"fBits\":50332168,\"fName\":\"frame_7f183eb5fa70\",\"fTitle\":\"Fit components for Mmiss\",\"fLineColor\":602,\"fLineStyle\":1,\"fLineWidth\":1,\"fFillColor\":0,\"fFillStyle\":1001,\"fMarkerColor\":1,\"fMarkerStyle\":1,\"fMarkerSize\":1,\"fNcells\":102,\"fXaxis\":{\"_typename\":\"TAxis\",\"fUniqueID\":0,\"fBits\":50331648,\"fName\":\"xaxis\",\"fTitle\":\"Mmiss\",\"fNdivisions\":510,\"fAxisColor\":1,\"fLabelColor\":1,\"fLabelFont\":42,\"fLabelOffset\":0.005,\"fLabelSize\":0.035,\"fTickLength\":0.03,\"fTitleOffset\":1,\"fTitleSize\":0.035,\"fTitleColor\":1,\"fTitleFont\":42,\"fNbins\":100,\"fXmin\":0,\"fXmax\":10,\"fXbins\":[],\"fFirst\":0,\"fLast\":0,\"fBits2\":0,\"fTimeDisplay\":false,\"fTimeFormat\":\"\",\"fLabels\":null,\"fModLabs\":null},\"fYaxis\":{\"_typename\":\"TAxis\",\"fUniqueID\":0,\"fBits\":50331648,\"fName\":\"yaxis\",\"fTitle\":\"Events \\/ ( 0.1 )\",\"fNdivisions\":510,\"fAxisColor\":1,\"fLabelColor\":1,\"fLabelFont\":42,\"fLabelOffset\":0.005,\"fLabelSize\":0.035,\"fTickLength\":0.03,\"fTitleOffset\":0,\"fTitleSize\":0.035,\"fTitleColor\":1,\"fTitleFont\":42,\"fNbins\":1,\"fXmin\":0,\"fXmax\":1,\"fXbins\":[],\"fFirst\":0,\"fLast\":0,\"fBits2\":0,\"fTimeDisplay\":false,\"fTimeFormat\":\"\",\"fLabels\":null,\"fModLabs\":null},\"fZaxis\":{\"_typename\":\"TAxis\",\"fUniqueID\":0,\"fBits\":50331648,\"fName\":\"zaxis\",\"fTitle\":\"\",\"fNdivisions\":510,\"fAxisColor\":1,\"fLabelColor\":1,\"fLabelFont\":42,\"fLabelOffset\":0.005,\"fLabelSize\":0.035,\"fTickLength\":0.03,\"fTitleOffset\":1,\"fTitleSize\":0.035,\"fTitleColor\":1,\"fTitleFont\":42,\"fNbins\":1,\"fXmin\":0,\"fXmax\":1,\"fXbins\":[],\"fFirst\":0,\"fLast\":0,\"fBits2\":0,\"fTimeDisplay\":false,\"fTimeFormat\":\"\",\"fLabels\":null,\"fModLabs\":null},\"fBarOffset\":0,\"fBarWidth\":1000,\"fEntries\":1,\"fTsumw\":0,\"fTsumw2\":0,\"fTsumwx\":0,\"fTsumwx2\":0,\"fMaximum\":3644.99193100971,\"fMinimum\":-1111,\"fNormFactor\":0,\"fContour\":[],\"fSumw2\":[],\"fOption\":\"\",\"fFunctions\":{\"_typename\":\"TList\",\"name\":\"TList\",\"arr\":[],\"opt\":[]},\"fBufferSize\":0,\"fBuffer\":[],\"fBinStatErrOpt\":0,\"fStatOverflows\":2,\"fArray\":[0,3644.99193100971,0,0,0,0,0,0,0,0,0,0,0,0,0,0,0,0,0,0,0,0,0,0,0,0,0,0,0,0,0,0,0,0,0,0,0,0,0,0,0,0,0,0,0,0,0,0,0,0,0,0,0,0,0,0,0,0,0,0,0,0,0,0,0,0,0,0,0,0,0,0,0,0,0,0,0,0,0,0,0,0,0,0,0,0,0,0,0,0,0,0,0,0,0,0,0,0,0,0,0,0]},{\"_typename\":\"RooHist\",\"fUniqueID\":0,\"fBits\":50332680,\"fName\":\"h_DataEvents\",\"fTitle\":\"Histogram of DataEvents_plot__Mmiss\",\"fLineColor\":1,\"fLineStyle\":1,\"fLineWidth\":1,\"fFillColor\":0,\"fFillStyle\":1000,\"fMarkerColor\":1,\"fMarkerStyle\":8,\"fMarkerSize\":1,\"fNpoints\":100,\"fX\":[0.05,0.15,0.25,0.35,0.45,0.55,0.65,0.75,0.85,0.95,1.05,1.15,1.25,1.35,1.45,1.55,1.65,1.75,1.85,1.95,2.05,2.15,2.25,2.35,2.45,2.55,2.65,2.75,2.85,2.95,3.05,3.15,3.25,3.35,3.45,3.55,3.65,3.75,3.85,3.95,4.05,4.15,4.25,4.35,4.45,4.55,4.65,4.75,4.85,4.95,5.05,5.15,5.25,5.35,5.45,5.55,5.65,5.75,5.85,5.95,6.05,6.15,6.25,6.35,6.45,6.55,6.65,6.75,6.85,6.95,7.05,7.15,7.25,7.35,7.45,7.55,7.65,7.75,7.85,7.95,8.05,8.15,8.25,8.35,8.45,8.55,8.65,8.75,8.85,8.95,9.05,9.15,9.25,9.35,9.45,9.55,9.65,9.75,9.85,9.95],\"fY\":[262,287,257,318,325,302,313,282,303,318,308,366,356,308,332,338,347,365,364,378,350,369,369,386,394,390,377,414,457,464,474,542,579,626,665,731,925,1076,1207,1425,1620,1792,2092,2343,2502,2737,3032,3110,3262,3413,3322,3264,3085,3041,2806,2609,2462,2160,1870,1710,1458,1227,1085,1015,881,853,732,730,643,678,599,588,618,612,641,635,598,663,608,601,640,622,624,646,659,643,695,685,639,702,677,708,698,691,719,719,753,675,723,736],\"fFunctions\":{\"_typename\":\"TList\",\"name\":\"TList\",\"arr\":[],\"opt\":[]},\"fHistogram\":{\"_typename\":\"TH1F\",\"fUniqueID\":0,\"fBits\":50332168,\"fName\":\"h_DataEvents\",\"fTitle\":\"Histogram of DataEvents_plot__Mmiss\",\"fLineColor\":602,\"fLineStyle\":1,\"fLineWidth\":1,\"fFillColor\":0,\"fFillStyle\":1001,\"fMarkerColor\":1,\"fMarkerStyle\":1,\"fMarkerSize\":1,\"fNcells\":102,\"fXaxis\":{\"_typename\":\"TAxis\",\"fUniqueID\":0,\"fBits\":50331648,\"fName\":\"xaxis\",\"fTitle\":\"\",\"fNdivisions\":510,\"fAxisColor\":1,\"fLabelColor\":1,\"fLabelFont\":42,\"fLabelOffset\":0.005,\"fLabelSize\":0.035,\"fTickLength\":0.03,\"fTitleOffset\":1,\"fTitleSize\":0.035,\"fTitleColor\":1,\"fTitleFont\":42,\"fNbins\":100,\"fXmin\":0,\"fXmax\":11,\"fXbins\":[],\"fFirst\":0,\"fLast\":0,\"fBits2\":0,\"fTimeDisplay\":false,\"fTimeFormat\":\"\",\"fLabels\":null,\"fModLabs\":null},\"fYaxis\":{\"_typename\":\"TAxis\",\"fUniqueID\":0,\"fBits\":50331648,\"fName\":\"yaxis\",\"fTitle\":\"\",\"fNdivisions\":510,\"fAxisColor\":1,\"fLabelColor\":1,\"fLabelFont\":42,\"fLabelOffset\":0.005,\"fLabelSize\":0.035,\"fTickLength\":0.03,\"fTitleOffset\":0,\"fTitleSize\":0.035,\"fTitleColor\":1,\"fTitleFont\":42,\"fNbins\":1,\"fXmin\":216.871902412307,\"fXmax\":3794.46609729769,\"fXbins\":[],\"fFirst\":0,\"fLast\":0,\"fBits2\":0,\"fTimeDisplay\":false,\"fTimeFormat\":\"\",\"fLabels\":null,\"fModLabs\":null},\"fZaxis\":{\"_typename\":\"TAxis\",\"fUniqueID\":0,\"fBits\":50331648,\"fName\":\"zaxis\",\"fTitle\":\"\",\"fNdivisions\":510,\"fAxisColor\":1,\"fLabelColor\":1,\"fLabelFont\":42,\"fLabelOffset\":0.005,\"fLabelSize\":0.035,\"fTickLength\":0.03,\"fTitleOffset\":1,\"fTitleSize\":0.035,\"fTitleColor\":1,\"fTitleFont\":42,\"fNbins\":1,\"fXmin\":0,\"fXmax\":1,\"fXbins\":[],\"fFirst\":0,\"fLast\":0,\"fBits2\":0,\"fTimeDisplay\":false,\"fTimeFormat\":\"\",\"fLabels\":null,\"fModLabs\":null},\"fBarOffset\":0,\"fBarWidth\":1000,\"fEntries\":0,\"fTsumw\":0,\"fTsumw2\":0,\"fTsumwx\":0,\"fTsumwx2\":0,\"fMaximum\":3794.46609729769,\"fMinimum\":216.871902412307,\"fNormFactor\":0,\"fContour\":[],\"fSumw2\":[],\"fOption\":\"\",\"fFunctions\":{\"_typename\":\"TList\",\"name\":\"TList\",\"arr\":[],\"opt\":[]},\"fBufferSize\":0,\"fBuffer\":[],\"fBinStatErrOpt\":0,\"fStatOverflows\":2,\"fArray\":[0,0,0,0,0,0,0,0,0,0,0,0,0,0,0,0,0,0,0,0,0,0,0,0,0,0,0,0,0,0,0,0,0,0,0,0,0,0,0,0,0,0,0,0,0,0,0,0,0,0,0,0,0,0,0,0,0,0,0,0,0,0,0,0,0,0,0,0,0,0,0,0,0,0,0,0,0,0,0,0,0,0,0,0,0,0,0,0,0,0,0,0,0,0,0,0,0,0,0,0,0,0]},\"fMinimum\":-1111,\"fMaximum\":-1111,\"fEXlow\":[0.05,0.05,0.05,0.05,0.05,0.05,0.05,0.05,0.05,0.05,0.05,0.05,0.05,0.05,0.05,0.05,0.05,0.05,0.05,0.05,0.05,0.05,0.05,0.05,0.05,0.05,0.05,0.05,0.05,0.05,0.05,0.05,0.05,0.05,0.05,0.05,0.05,0.05,0.05,0.05,0.05,0.05,0.05,0.05,0.05,0.05,0.05,0.05,0.05,0.05,0.05,0.05,0.05,0.05,0.05,0.05,0.05,0.05,0.05,0.05,0.05,0.05,0.05,0.05,0.05,0.05,0.05,0.05,0.05,0.05,0.05,0.05,0.05,0.05,0.05,0.05,0.05,0.05,0.05,0.05,0.05,0.05,0.05,0.05,0.05,0.05,0.05,0.05,0.05,0.05,0.05,0.05,0.05,0.05,0.05,0.05,0.05,0.05,0.05,0.05],\"fEXhigh\":[0.05,0.05,0.05,0.05,0.05,0.05,0.05,0.05,0.05,0.05,0.05,0.05,0.05,0.05,0.05,0.05,0.05,0.05,0.05,0.05,0.05,0.05,0.05,0.05,0.05,0.05,0.05,0.05,0.05,0.05,0.05,0.05,0.05,0.05,0.05,0.05,0.05,0.05,0.05,0.05,0.05,0.05,0.05,0.05,0.05,0.05,0.05,0.05,0.05,0.05,0.05,0.05,0.05,0.05,0.05,0.05,0.05,0.05,0.05,0.05,0.05,0.05,0.05,0.05,0.05,0.05,0.05,0.05,0.05,0.05,0.05,0.05,0.05,0.05,0.05,0.05,0.05,0.05,0.05,0.05,0.05,0.05,0.05,0.05,0.05,0.05,0.05,0.05,0.05,0.05,0.05,0.05,0.05,0.05,0.05,0.05,0.05,0.05,0.05,0.05],\"fEYlow\":[16.1864140562386,16.9410743460974,16.0312195418814,17.832554500127,18.0277563773199,17.3781471969828,17.6918060129541,16.7928556237467,17.4068951855292,17.832554500127,17.5499287747842,19.131126469709,18.8679622641132,17.5499287747842,18.2208671582886,18.3847763108502,18.6279360101972,19.1049731745428,19.0787840283389,19.4422220952236,18.7082869338697,19.2093727122985,19.2093727122985,19.6468827043885,19.8494332412792,19.7484176581315,19.4164878389476,20.3469899493758,21.377558326432,21.540659228538,21.7715410570772,23.2808934536456,24.062418831032,25.0199920063936,25.7875939164553,27.0370116691916,30.4138126514911,32.8024389337134,34.7419055320804,37.7491721763538,40.2492235949962,42.3320209770335,45.7383865041171,48.4045452411238,50.0199960015992,52.3163454381133,55.0635995917448,55.7673739743947,57.1139212451746,58.4208866759142,57.6367938039583,57.1314274283428,55.5427763079953,55.145262715849,52.9716905525961,51.0783711564885,49.6185449202211,46.4758001544891,43.2434966208793,41.3521462562707,38.1837661840736,35.028559776274,32.9393381840012,31.859064644148,29.6816441593117,29.2061637330205,27.0554985169374,27.0185121722126,25.3574446662119,26.0384331325831,24.4744765010408,24.2487113059643,24.8596057893121,24.738633753706,25.3179778023443,25.1992063367083,24.454038521275,25.7487863791675,24.6576560118759,24.5153013442625,25.298221281347,24.9399278266799,24.9799919935936,25.4165300542777,25.6709953059869,25.3574446662119,26.3628526529282,26.1725046566048,25.2784493195291,26.4952825989836,26.0192236625154,26.6082693913002,26.4196896272458,26.2868788561899,26.8141753555839,26.8141753555839,27.4408454680245,25.9807621135332,26.8886593194975,27.1293199325011],\"fEYhigh\":[16.1864140562386,16.9410743460974,16.0312195418814,17.832554500127,18.0277563773199,17.3781471969828,17.6918060129541,16.7928556237467,17.4068951855292,17.832554500127,17.5499287747842,19.131126469709,18.8679622641132,17.5499287747842,18.2208671582886,18.3847763108502,18.6279360101972,19.1049731745428,19.0787840283389,19.4422220952236,18.7082869338697,19.2093727122985,19.2093727122985,19.6468827043885,19.8494332412792,19.7484176581315,19.4164878389476,20.3469899493758,21.377558326432,21.540659228538,21.7715410570772,23.2808934536456,24.062418831032,25.0199920063936,25.7875939164553,27.0370116691916,30.4138126514911,32.8024389337134,34.7419055320804,37.7491721763538,40.2492235949962,42.3320209770335,45.7383865041171,48.4045452411238,50.0199960015992,52.3163454381133,55.0635995917448,55.7673739743947,57.1139212451746,58.4208866759142,57.6367938039583,57.1314274283428,55.5427763079953,55.145262715849,52.9716905525961,51.0783711564885,49.6185449202211,46.4758001544891,43.2434966208793,41.3521462562707,38.1837661840736,35.028559776274,32.9393381840012,31.859064644148,29.6816441593117,29.2061637330205,27.0554985169374,27.0185121722126,25.3574446662119,26.0384331325831,24.4744765010408,24.2487113059643,24.8596057893121,24.738633753706,25.3179778023443,25.1992063367083,24.454038521275,25.7487863791675,24.6576560118759,24.5153013442625,25.298221281347,24.9399278266799,24.9799919935936,25.4165300542777,25.6709953059869,25.3574446662119,26.3628526529282,26.1725046566048,25.2784493195291,26.4952825989836,26.0192236625154,26.6082693913002,26.4196896272458,26.2868788561899,26.8141753555839,26.8141753555839,27.4408454680245,25.9807621135332,26.8886593194975,27.1293199325011],\"_yAxisLabel\":\"Events \\/ ( 0.1 )\",\"_ymin\":0,\"_ymax\":3471.42088667591,\"_normValue\":0,\"_nominalBinWidth\":0.1,\"_nSigma\":1,\"_entries\":100000,\"_rawEntries\":-1},{\"_typename\":\"RooCurve\",\"fUniqueID\":0,\"fBits\":50332680,\"fName\":\"TotalPDF_Norm[Mmiss]_Comp[Signal]\",\"fTitle\":\"Projection of total model\",\"fLineColor\":1,\"fLineStyle\":2,\"fLineWidth\":3,\"fFillColor\":0,\"fFillStyle\":1000,\"fMarkerColor\":1,\"fMarkerStyle\":1,\"fMarkerSize\":1,\"fNpoints\":106,\"fX\":[-0.1,-0.1,0,0.1,0.2,0.3,0.4,0.5,0.6,0.7,0.8,0.9,1,1.1,1.2,1.3,1.4,1.5,1.6,1.7,1.8,1.9,2,2.1,2.2,2.3,2.4,2.5,2.6,2.7,2.8,2.9,3,3.1,3.2,3.3,3.4,3.5,3.6,3.7,3.8,3.9,4,4.1,4.2,4.3,4.4,4.5,4.6,4.7,4.8,4.9,5,5.1,5.2,5.3,5.4,5.5,5.6,5.7,5.8,5.9,6,6.1,6.2,6.3,6.4,6.5,6.6,6.7,6.8,6.9,7,7.1,7.2,7.3,7.4,7.5,7.6,7.7,7.8,7.9,8,8.1,8.2,8.3,8.4,8.5,8.6,8.7,8.8,8.9,9,9.1,9.2,9.3,9.4,9.5,9.6,9.7,9.8,9.9,10,10,10.1,10.1],\"fY\":[0,3.43710728323176e-8,3.43710728323176e-8,9.30994230073318e-8,2.47143188038942e-7,6.42980872444143e-7,1.63943882770102e-6,4.09675632824614e-6,1.00330460092825e-5,2.40809285033525e-5,5.66449772316659e-5,1.30586216367415e-4,2.95040085157074e-4,6.53299708758237e-4,0.00141772389193831,0.00301521722789911,0.00628482670685133,0.012838543666063,0.0257031275665665,0.0504317379288919,0.0969772024114207,0.182760830186907,0.337554845624418,0.611017044367434,1.08395201574705,1.88457985051094,3.21119577236748,5.36249348039139,8.77636192916732,14.0769972689908,22.1285665358256,34.0913571848985,51.4734234822568,76.1674771464029,110.459695506356,156.995016335227,218.683313050373,298.533571845367,399.409567095372,523.710767870976,672.995712276572,847.580282518423,1046.15767767048,1265.49723940837,1500.28238925612,1743.14122735464,1984.90575813988,2215.108290235,2422.68966810509,2596.85897681889,2728.01464982252,2808.61870912617,2833.91372553638,2802.38770311134,2715.92370985929,2579.6136608981,2401.26186462737,2190.64564802662,1958.63042461248,1716.25024996387,1473.86085533023,1240.45241593067,1023.17869364863,827.123995985139,655.295984721805,508.805909884214,387.181449323219,288.751792639928,211.048656038326,151.17787850537,106.130853310771,73.0201665857908,49.237017347199,32.5378166559424,21.0733137198993,13.3759615392184,8.32079732903351,5.07285712118614,3.03101489623265,1.77488927419213,1.0185965783488,0.572902760467744,0.315796542332585,0.170601003013867,0.0903240793540284,0.0468676589471476,0.0238336595869475,0.0118783456049671,0.00580188259008362,0.00277734396257704,0.00130298121699057,5.9909320755842e-4,2.69959360024231e-4,1.19220280155269e-4,5.15999926803169e-5,2.18875371312188e-5,9.09896313658019e-6,3.70710313850598e-6,1.4802163141844e-6,5.79246552547973e-7,2.2215161908658e-7,8.34993821145649e-8,3.07584746570853e-8,3.07584746570853e-8,3.07584746570853e-8,0],\"fFunctions\":{\"_typename\":\"TList\",\"name\":\"TList\",\"arr\":[],\"opt\":[]},\"fHistogram\":{\"_typename\":\"TH1F\",\"fUniqueID\":0,\"fBits\":50332168,\"fName\":\"TotalPDF_Norm[Mmiss]_Comp[Signal]\",\"fTitle\":\"Projection of total model\",\"fLineColor\":602,\"fLineStyle\":1,\"fLineWidth\":1,\"fFillColor\":0,\"fFillStyle\":1001,\"fMarkerColor\":1,\"fMarkerStyle\":1,\"fMarkerSize\":1,\"fNcells\":108,\"fXaxis\":{\"_typename\":\"TAxis\",\"fUniqueID\":0,\"fBits\":50331648,\"fName\":\"xaxis\",\"fTitle\":\"\",\"fNdivisions\":510,\"fAxisColor\":1,\"fLabelColor\":1,\"fLabelFont\":42,\"fLabelOffset\":0.005,\"fLabelSize\":0.035,\"fTickLength\":0.03,\"fTitleOffset\":1,\"fTitleSize\":0.035,\"fTitleColor\":1,\"fTitleFont\":42,\"fNbins\":106,\"fXmin\":-1.12,\"fXmax\":11.12,\"fXbins\":[],\"fFirst\":0,\"fLast\":0,\"fBits2\":0,\"fTimeDisplay\":false,\"fTimeFormat\":\"\",\"fLabels\":null,\"fModLabs\":null},\"fYaxis\":{\"_typename\":\"TAxis\",\"fUniqueID\":0,\"fBits\":50331648,\"fName\":\"yaxis\",\"fTitle\":\"\",\"fNdivisions\":510,\"fAxisColor\":1,\"fLabelColor\":1,\"fLabelFont\":42,\"fLabelOffset\":0.005,\"fLabelSize\":0.035,\"fTickLength\":0.03,\"fTitleOffset\":0,\"fTitleSize\":0.035,\"fTitleColor\":1,\"fTitleFont\":42,\"fNbins\":1,\"fXmin\":0,\"fXmax\":3117.30509809002,\"fXbins\":[],\"fFirst\":0,\"fLast\":0,\"fBits2\":0,\"fTimeDisplay\":false,\"fTimeFormat\":\"\",\"fLabels\":null,\"fModLabs\":null},\"fZaxis\":{\"_typename\":\"TAxis\",\"fUniqueID\":0,\"fBits\":50331648,\"fName\":\"zaxis\",\"fTitle\":\"\",\"fNdivisions\":510,\"fAxisColor\":1,\"fLabelColor\":1,\"fLabelFont\":42,\"fLabelOffset\":0.005,\"fLabelSize\":0.035,\"fTickLength\":0.03,\"fTitleOffset\":1,\"fTitleSize\":0.035,\"fTitleColor\":1,\"fTitleFont\":42,\"fNbins\":1,\"fXmin\":0,\"fXmax\":1,\"fXbins\":[],\"fFirst\":0,\"fLast\":0,\"fBits2\":0,\"fTimeDisplay\":false,\"fTimeFormat\":\"\",\"fLabels\":null,\"fModLabs\":null},\"fBarOffset\":0,\"fBarWidth\":1000,\"fEntries\":0,\"fTsumw\":0,\"fTsumw2\":0,\"fTsumwx\":0,\"fTsumwx2\":0,\"fMaximum\":3117.30509809002,\"fMinimum\":0,\"fNormFactor\":0,\"fContour\":[],\"fSumw2\":[],\"fOption\":\"\",\"fFunctions\":{\"_typename\":\"TList\",\"name\":\"TList\",\"arr\":[],\"opt\":[]},\"fBufferSize\":0,\"fBuffer\":[],\"fBinStatErrOpt\":0,\"fStatOverflows\":2,\"fArray\":[0,0,0,0,0,0,0,0,0,0,0,0,0,0,0,0,0,0,0,0,0,0,0,0,0,0,0,0,0,0,0,0,0,0,0,0,0,0,0,0,0,0,0,0,0,0,0,0,0,0,0,0,0,0,0,0,0,0,0,0,0,0,0,0,0,0,0,0,0,0,0,0,0,0,0,0,0,0,0,0,0,0,0,0,0,0,0,0,0,0,0,0,0,0,0,0,0,0,0,0,0,0,0,0,0,0,0,0]},\"fMinimum\":-1111,\"fMaximum\":-1111,\"_yAxisLabel\":\"Projection of total model\",\"_ymin\":0,\"_ymax\":2833.91372553638,\"_normValue\":0},{\"_typename\":\"RooCurve\",\"fUniqueID\":0,\"fBits\":50332680,\"fName\":\"TotalPDF_Norm[Mmiss]_Comp[BG]\",\"fTitle\":\"Projection of total model\",\"fLineColor\":2,\"fLineStyle\":2,\"fLineWidth\":3,\"fFillColor\":0,\"fFillStyle\":1000,\"fMarkerColor\":1,\"fMarkerStyle\":1,\"fMarkerSize\":1,\"fNpoints\":106,\"fX\":[-0.1,-0.1,0,0.1,0.2,0.3,0.4,0.5,0.6,0.7,0.8,0.9,1,1.1,1.2,1.3,1.4,1.5,1.6,1.7,1.8,1.9,2,2.1,2.2,2.3,2.4,2.5,2.6,2.7,2.8,2.9,3,3.1,3.2,3.3,3.4,3.5,3.6,3.7,3.8,3.9,4,4.1,4.2,4.3,4.4,4.5,4.6,4.7,4.8,4.9,5,5.1,5.2,5.3,5.4,5.5,5.6,5.7,5.8,5.9,6,6.1,6.2,6.3,6.4,6.5,6.6,6.7,6.8,6.9,7,7.1,7.2,7.3,7.4,7.5,7.6,7.7,7.8,7.9,8,8.1,8.2,8.3,8.4,8.5,8.6,8.7,8.8,8.9,9,9.1,9.2,9.3,9.4,9.5,9.6,9.7,9.8,9.9,10,10,10.1,10.1],\"fY\":[0,277.525931995803,277.525931995803,281.844967981814,286.167729801588,290.494217455126,294.824430942428,299.158370263493,303.496035418322,307.837426406915,312.182543229271,316.531385885391,320.883954375274,325.240248698922,329.600268856332,333.964014847507,338.331486672445,342.702684331147,347.077607823612,351.456257149841,355.838632309834,360.22473330359,364.61456013111,369.008112792394,373.405391287441,377.806395616252,382.211125778827,386.619581775165,391.031763605267,395.447671269133,399.867304766762,404.290664098155,408.717749263311,413.148560262232,417.583097094915,422.021359761363,426.463348261574,430.909062595549,435.358502763287,439.811668764789,444.268560600055,448.729178269085,453.193521771877,457.661591108434,462.133386278754,466.608907282838,471.088154120686,475.571126792297,480.057825297672,484.548249636811,489.042399809713,493.540275816379,498.041877656809,502.547205331002,507.056258838959,511.569038180679,516.085543356163,520.605774365411,525.129731208422,529.657413885198,534.188822395736,538.723956740039,543.262816918105,547.805402929934,552.351714775528,556.901752454885,561.455515968005,566.013005314889,570.574220495538,575.139161509949,579.707828358124,584.280221040063,588.856339555766,593.436183905232,598.019754088462,602.607050105455,607.198071956212,611.792819640733,616.391293159018,620.993492511066,625.599417696877,630.209068716453,634.822445569792,639.439548256894,644.060376777761,648.684931132391,653.313211320785,657.945217342942,662.580949198863,667.220406888547,671.863590411996,676.510499769207,681.161134960183,685.815495984922,690.473582843425,695.135395535691,699.800934061722,704.470198421515,709.143188615073,713.819904642394,718.500346503479,723.184514198327,727.872407726939,727.872407726939,727.872407726939,0],\"fFunctions\":{\"_typename\":\"TList\",\"name\":\"TList\",\"arr\":[],\"opt\":[]},\"fHistogram\":{\"_typename\":\"TH1F\",\"fUniqueID\":0,\"fBits\":50332168,\"fName\":\"TotalPDF_Norm[Mmiss]_Comp[BG]\",\"fTitle\":\"Projection of total model\",\"fLineColor\":602,\"fLineStyle\":1,\"fLineWidth\":1,\"fFillColor\":0,\"fFillStyle\":1001,\"fMarkerColor\":1,\"fMarkerStyle\":1,\"fMarkerSize\":1,\"fNcells\":108,\"fXaxis\":{\"_typename\":\"TAxis\",\"fUniqueID\":0,\"fBits\":50331648,\"fName\":\"xaxis\",\"fTitle\":\"\",\"fNdivisions\":510,\"fAxisColor\":1,\"fLabelColor\":1,\"fLabelFont\":42,\"fLabelOffset\":0.005,\"fLabelSize\":0.035,\"fTickLength\":0.03,\"fTitleOffset\":1,\"fTitleSize\":0.035,\"fTitleColor\":1,\"fTitleFont\":42,\"fNbins\":106,\"fXmin\":-1.12,\"fXmax\":11.12,\"fXbins\":[],\"fFirst\":0,\"fLast\":0,\"fBits2\":0,\"fTimeDisplay\":false,\"fTimeFormat\":\"\",\"fLabels\":null,\"fModLabs\":null},\"fYaxis\":{\"_typename\":\"TAxis\",\"fUniqueID\":0,\"fBits\":50331648,\"fName\":\"yaxis\",\"fTitle\":\"\",\"fNdivisions\":510,\"fAxisColor\":1,\"fLabelColor\":1,\"fLabelFont\":42,\"fLabelOffset\":0.005,\"fLabelSize\":0.035,\"fTickLength\":0.03,\"fTitleOffset\":0,\"fTitleSize\":0.035,\"fTitleColor\":1,\"fTitleFont\":42,\"fNbins\":1,\"fXmin\":0,\"fXmax\":800.659648499633,\"fXbins\":[],\"fFirst\":0,\"fLast\":0,\"fBits2\":0,\"fTimeDisplay\":false,\"fTimeFormat\":\"\",\"fLabels\":null,\"fModLabs\":null},\"fZaxis\":{\"_typename\":\"TAxis\",\"fUniqueID\":0,\"fBits\":50331648,\"fName\":\"zaxis\",\"fTitle\":\"\",\"fNdivisions\":510,\"fAxisColor\":1,\"fLabelColor\":1,\"fLabelFont\":42,\"fLabelOffset\":0.005,\"fLabelSize\":0.035,\"fTickLength\":0.03,\"fTitleOffset\":1,\"fTitleSize\":0.035,\"fTitleColor\":1,\"fTitleFont\":42,\"fNbins\":1,\"fXmin\":0,\"fXmax\":1,\"fXbins\":[],\"fFirst\":0,\"fLast\":0,\"fBits2\":0,\"fTimeDisplay\":false,\"fTimeFormat\":\"\",\"fLabels\":null,\"fModLabs\":null},\"fBarOffset\":0,\"fBarWidth\":1000,\"fEntries\":0,\"fTsumw\":0,\"fTsumw2\":0,\"fTsumwx\":0,\"fTsumwx2\":0,\"fMaximum\":800.659648499633,\"fMinimum\":0,\"fNormFactor\":0,\"fContour\":[],\"fSumw2\":[],\"fOption\":\"\",\"fFunctions\":{\"_typename\":\"TList\",\"name\":\"TList\",\"arr\":[],\"opt\":[]},\"fBufferSize\":0,\"fBuffer\":[],\"fBinStatErrOpt\":0,\"fStatOverflows\":2,\"fArray\":[0,0,0,0,0,0,0,0,0,0,0,0,0,0,0,0,0,0,0,0,0,0,0,0,0,0,0,0,0,0,0,0,0,0,0,0,0,0,0,0,0,0,0,0,0,0,0,0,0,0,0,0,0,0,0,0,0,0,0,0,0,0,0,0,0,0,0,0,0,0,0,0,0,0,0,0,0,0,0,0,0,0,0,0,0,0,0,0,0,0,0,0,0,0,0,0,0,0,0,0,0,0,0,0,0,0,0,0]},\"fMinimum\":-1111,\"fMaximum\":-1111,\"_yAxisLabel\":\"Projection of total model\",\"_ymin\":0,\"_ymax\":727.872407726939,\"_normValue\":0},{\"_typename\":\"RooCurve\",\"fUniqueID\":0,\"fBits\":50332680,\"fName\":\"TotalPDF_Norm[Mmiss]\",\"fTitle\":\"Projection of total model\",\"fLineColor\":632,\"fLineStyle\":1,\"fLineWidth\":3,\"fFillColor\":0,\"fFillStyle\":1000,\"fMarkerColor\":1,\"fMarkerStyle\":1,\"fMarkerSize\":1,\"fNpoints\":106,\"fX\":[-0.1,-0.1,0,0.1,0.2,0.3,0.4,0.5,0.6,0.7,0.8,0.9,1,1.1,1.2,1.3,1.4,1.5,1.6,1.7,1.8,1.9,2,2.1,2.2,2.3,2.4,2.5,2.6,2.7,2.8,2.9,3,3.1,3.2,3.3,3.4,3.5,3.6,3.7,3.8,3.9,4,4.1,4.2,4.3,4.4,4.5,4.6,4.7,4.8,4.9,5,5.1,5.2,5.3,5.4,5.5,5.6,5.7,5.8,5.9,6,6.1,6.2,6.3,6.4,6.5,6.6,6.7,6.8,6.9,7,7.1,7.2,7.3,7.4,7.5,7.6,7.7,7.8,7.9,8,8.1,8.2,8.3,8.4,8.5,8.6,8.7,8.8,8.9,9,9.1,9.2,9.3,9.4,9.5,9.6,9.7,9.8,9.9,10,10,10.1,10.1],\"fY\":[0,277.525932030174,277.525932030174,281.844968074913,286.167730048731,290.494218098107,294.824432581867,299.158374360249,303.496045451368,307.837450487843,312.182599874248,316.531516471607,320.884249415359,325.24090199863,329.601686580224,333.967030064735,338.337771499152,342.715522874813,347.103310951179,351.50668888777,355.935609512245,360.407494133777,364.952114976735,369.619129836762,374.489343303188,379.690975466763,385.422321551194,391.982075255557,399.808125534435,409.524668538124,421.995871302588,438.382021283053,460.191172745568,489.316037408635,528.042792601272,579.01637609659,645.146661311947,729.442634440916,834.768069858659,963.522436635765,1117.26427287663,1296.30946078751,1499.35119944236,1723.1588305168,1962.41577553487,2209.75013463748,2455.99391226057,2690.67941702729,2902.74749340277,3081.4072264557,3217.05704963223,3302.15898494255,3331.95560319319,3304.93490844234,3222.97996869825,3091.18269907878,2917.34740798354,2711.25142239203,2483.7601558209,2245.90766384906,2008.04967772597,1779.1763726707,1566.44151056673,1374.92939891507,1207.64769949733,1065.7076623391,948.636965291224,854.764797954818,781.622876533863,726.31704001532,685.838681668895,657.300387625854,638.093356902965,625.974000561174,619.093067808361,615.983011644674,615.518869285246,616.865676761919,619.42230805525,622.768381785258,626.618014275226,630.781971476921,635.138242112124,639.610149259908,644.150700857115,648.731798791338,653.337044980372,657.957095688547,662.586751081453,667.22318423251,671.864893393213,676.511098862415,681.161404919543,685.815615205202,690.473634443418,695.135417423229,699.800943160685,704.470202128618,709.143190095289,713.81990522164,718.50034672563,723.184514281826,727.872407757697,727.872407757697,727.872407757697,0],\"fFunctions\":{\"_typename\":\"TList\",\"name\":\"TList\",\"arr\":[],\"opt\":[]},\"fHistogram\":{\"_typename\":\"TH1F\",\"fUniqueID\":0,\"fBits\":50332168,\"fName\":\"TotalPDF_Norm[Mmiss]\",\"fTitle\":\"Projection of total model\",\"fLineColor\":602,\"fLineStyle\":1,\"fLineWidth\":1,\"fFillColor\":0,\"fFillStyle\":1001,\"fMarkerColor\":1,\"fMarkerStyle\":1,\"fMarkerSize\":1,\"fNcells\":108,\"fXaxis\":{\"_typename\":\"TAxis\",\"fUniqueID\":0,\"fBits\":50331648,\"fName\":\"xaxis\",\"fTitle\":\"\",\"fNdivisions\":510,\"fAxisColor\":1,\"fLabelColor\":1,\"fLabelFont\":42,\"fLabelOffset\":0.005,\"fLabelSize\":0.035,\"fTickLength\":0.03,\"fTitleOffset\":1,\"fTitleSize\":0.035,\"fTitleColor\":1,\"fTitleFont\":42,\"fNbins\":106,\"fXmin\":-1.12,\"fXmax\":11.12,\"fXbins\":[],\"fFirst\":0,\"fLast\":0,\"fBits2\":0,\"fTimeDisplay\":false,\"fTimeFormat\":\"\",\"fLabels\":null,\"fModLabs\":null},\"fYaxis\":{\"_typename\":\"TAxis\",\"fUniqueID\":0,\"fBits\":50331648,\"fName\":\"yaxis\",\"fTitle\":\"\",\"fNdivisions\":510,\"fAxisColor\":1,\"fLabelColor\":1,\"fLabelFont\":42,\"fLabelOffset\":0.005,\"fLabelSize\":0.035,\"fTickLength\":0.03,\"fTitleOffset\":0,\"fTitleSize\":0.035,\"fTitleColor\":1,\"fTitleFont\":42,\"fNbins\":1,\"fXmin\":0,\"fXmax\":3665.15116351251,\"fXbins\":[],\"fFirst\":0,\"fLast\":0,\"fBits2\":0,\"fTimeDisplay\":false,\"fTimeFormat\":\"\",\"fLabels\":null,\"fModLabs\":null},\"fZaxis\":{\"_typename\":\"TAxis\",\"fUniqueID\":0,\"fBits\":50331648,\"fName\":\"zaxis\",\"fTitle\":\"\",\"fNdivisions\":510,\"fAxisColor\":1,\"fLabelColor\":1,\"fLabelFont\":42,\"fLabelOffset\":0.005,\"fLabelSize\":0.035,\"fTickLength\":0.03,\"fTitleOffset\":1,\"fTitleSize\":0.035,\"fTitleColor\":1,\"fTitleFont\":42,\"fNbins\":1,\"fXmin\":0,\"fXmax\":1,\"fXbins\":[],\"fFirst\":0,\"fLast\":0,\"fBits2\":0,\"fTimeDisplay\":false,\"fTimeFormat\":\"\",\"fLabels\":null,\"fModLabs\":null},\"fBarOffset\":0,\"fBarWidth\":1000,\"fEntries\":0,\"fTsumw\":0,\"fTsumw2\":0,\"fTsumwx\":0,\"fTsumwx2\":0,\"fMaximum\":3665.15116351251,\"fMinimum\":0,\"fNormFactor\":0,\"fContour\":[],\"fSumw2\":[],\"fOption\":\"\",\"fFunctions\":{\"_typename\":\"TList\",\"name\":\"TList\",\"arr\":[],\"opt\":[]},\"fBufferSize\":0,\"fBuffer\":[],\"fBinStatErrOpt\":0,\"fStatOverflows\":2,\"fArray\":[0,0,0,0,0,0,0,0,0,0,0,0,0,0,0,0,0,0,0,0,0,0,0,0,0,0,0,0,0,0,0,0,0,0,0,0,0,0,0,0,0,0,0,0,0,0,0,0,0,0,0,0,0,0,0,0,0,0,0,0,0,0,0,0,0,0,0,0,0,0,0,0,0,0,0,0,0,0,0,0,0,0,0,0,0,0,0,0,0,0,0,0,0,0,0,0,0,0,0,0,0,0,0,0,0,0,0,0]},\"fMinimum\":-1111,\"fMaximum\":-1111,\"_yAxisLabel\":\"Projection of total model\",\"_ymin\":0,\"_ymax\":3331.95560319319,\"_normValue\":0},{\"_typename\":\"TPaveText\",\"fUniqueID\":0,\"fBits\":50331656,\"fLineColor\":1,\"fLineStyle\":1,\"fLineWidth\":1,\"fFillColor\":0,\"fFillStyle\":1001,\"fX1\":-7.45058104101304e-8,\"fY1\":2004.74556477107,\"fX2\":3.74999998137355,\"fY2\":3644.99195816702,\"fX1NDC\":0.1,\"fY1NDC\":0.54,\"fX2NDC\":0.4,\"fY2NDC\":0.9,\"fBorderSize\":1,\"fInit\":1,\"fShadowColor\":1,\"fCornerRadius\":0,\"fOption\":\"BRNDC\",\"fName\":\"TotalPDF_paramBox\",\"fTextAngle\":0,\"fTextSize\":0.04,\"fTextAlign\":12,\"fTextColor\":1,\"fTextFont\":62,\"fLabel\":\"\",\"fLongest\":27,\"fMargin\":0.05,\"fLines\":{\"_typename\":\"TList\",\"name\":\"TList\",\"arr\":[{\"_typename\":\"TLatex\",\"fUniqueID\":0,\"fBits\":50331648,\"fName\":\"\",\"fTitle\":\"Yld_BG =  49959 +\\/- 358\",\"fTextAngle\":0,\"fTextSize\":0,\"fTextAlign\":0,\"fTextColor\":0,\"fTextFont\":0,\"fX\":0,\"fY\":0,\"fLineColor\":1,\"fLineStyle\":1,\"fLineWidth\":2,\"fLimitFactorSize\":3,\"fOriginSize\":0.04},{\"_typename\":\"TLatex\",\"fUniqueID\":0,\"fBits\":50331648,\"fName\":\"\",\"fTitle\":\"Yld_Signal =  50040 +\\/- 359\",\"fTextAngle\":0,\"fTextSize\":0,\"fTextAlign\":0,\"fTextColor\":0,\"fTextFont\":0,\"fX\":0,\"fY\":0,\"fLineColor\":1,\"fLineStyle\":1,\"fLineWidth\":2,\"fLimitFactorSize\":3,\"fOriginSize\":0.04},{\"_typename\":\"TLatex\",\"fUniqueID\":0,\"fBits\":50331648,\"fName\":\"\",\"fTitle\":\"a0 =  0.4500 +\\/- 0.0076\",\"fTextAngle\":0,\"fTextSize\":0,\"fTextAlign\":0,\"fTextColor\":0,\"fTextFont\":0,\"fX\":0,\"fY\":0,\"fLineColor\":1,\"fLineStyle\":1,\"fLineWidth\":2,\"fLimitFactorSize\":3,\"fOriginSize\":0.04},{\"_typename\":\"TLatex\",\"fUniqueID\":0,\"fBits\":50331648,\"fName\":\"\",\"fTitle\":\"a1 =  0.005 +\\/- 0.011\",\"fTextAngle\":0,\"fTextSize\":0,\"fTextAlign\":0,\"fTextColor\":0,\"fTextFont\":0,\"fX\":0,\"fY\":0,\"fLineColor\":1,\"fLineStyle\":1,\"fLineWidth\":2,\"fLimitFactorSize\":3,\"fOriginSize\":0.04},{\"_typename\":\"TLatex\",\"fUniqueID\":0,\"fBits\":50331648,\"fName\":\"\",\"fTitle\":\"mean =  4.9945 +\\/- 0.0042\",\"fTextAngle\":0,\"fTextSize\":0,\"fTextAlign\":0,\"fTextColor\":0,\"fTextFont\":0,\"fX\":0,\"fY\":0,\"fLineColor\":1,\"fLineStyle\":1,\"fLineWidth\":2,\"fLimitFactorSize\":3,\"fOriginSize\":0.04},{\"_typename\":\"TLatex\",\"fUniqueID\":0,\"fBits\":50331648,\"fName\":\"\",\"fTitle\":\"sigma =  0.7044 +\\/- 0.0045\",\"fTextAngle\":0,\"fTextSize\":0,\"fTextAlign\":0,\"fTextColor\":0,\"fTextFont\":0,\"fX\":0,\"fY\":0,\"fLineColor\":1,\"fLineStyle\":1,\"fLineWidth\":2,\"fLimitFactorSize\":3,\"fOriginSize\":0.04}],\"opt\":[\"\",\"\",\"\",\"\",\"\",\"\"]}},{\"$ref\":5},{\"_typename\":\"TPaveText\",\"fUniqueID\":0,\"fBits\":50331657,\"fLineColor\":1,\"fLineStyle\":1,\"fLineWidth\":1,\"fFillColor\":0,\"fFillStyle\":0,\"fX1\":0.927592136479291,\"fY1\":3827.24157542495,\"fX2\":9.07240786352071,\"fY2\":4077.83477815013,\"fX1NDC\":0.174207375773032,\"fY1NDC\":0.940000003948808,\"fX2NDC\":0.825792624226968,\"fY2NDC\":0.995000004768372,\"fBorderSize\":0,\"fInit\":1,\"fShadowColor\":1,\"fCornerRadius\":0,\"fOption\":\"blNDC\",\"fName\":\"title\",\"fTextAngle\":0,\"fTextSize\":0,\"fTextAlign\":22,\"fTextColor\":1,\"fTextFont\":42,\"fLabel\":\"\",\"fLongest\":24,\"fMargin\":0.05,\"fLines\":{\"_typename\":\"TList\",\"name\":\"TList\",\"arr\":[{\"_typename\":\"TLatex\",\"fUniqueID\":0,\"fBits\":50331648,\"fName\":\"\",\"fTitle\":\"Fit components for Mmiss\",\"fTextAngle\":0,\"fTextSize\":0,\"fTextAlign\":0,\"fTextColor\":0,\"fTextFont\":0,\"fX\":0,\"fY\":0,\"fLineColor\":1,\"fLineStyle\":1,\"fLineWidth\":2,\"fLimitFactorSize\":3,\"fOriginSize\":0.0467500016093254}],\"opt\":[\"\"]}}],\"opt\":[\"\",\"FUNC\",\"p\",\"l\",\"l\",\"l\",\"BRNDC\",\"AXISSAME\",\"blNDC\"]},\"fExecs\":{\"_typename\":\"TList\",\"name\":\"TList\",\"arr\":[],\"opt\":[]},\"fName\":\"_Mmiss_1\",\"fTitle\":\"_Mmiss_1\",\"fNumPaletteColor\":0,\"fNextPaletteColor\":0},{\"_typename\":\"TPad\",\"fUniqueID\":0,\"fBits\":50331657,\"fLineColor\":1,\"fLineStyle\":1,\"fLineWidth\":1,\"fFillColor\":0,\"fFillStyle\":1001,\"fLeftMargin\":0.1,\"fRightMargin\":0.1,\"fBottomMargin\":0.1,\"fTopMargin\":0.1,\"fXfile\":2,\"fYfile\":2,\"fAfile\":1,\"fXstat\":0.99,\"fYstat\":0.99,\"fAstat\":2,\"fFrameFillColor\":0,\"fFrameLineColor\":1,\"fFrameFillStyle\":1001,\"fFrameLineStyle\":1,\"fFrameLineWidth\":1,\"fFrameBorderSize\":1,\"fFrameBorderMode\":0,\"fX1\":0,\"fY1\":0,\"fX2\":1,\"fY2\":1,\"fXtoAbsPixelk\":354.960049844432,\"fXtoPixelk\":5e-5,\"fXtoPixel\":334.080000311136,\"fYtoAbsPixelk\":467.2800501055,\"fYtoPixelk\":462.560050211,\"fYtoPixel\":-462.560000211,\"fUtoAbsPixelk\":354.960049844432,\"fUtoPixelk\":5e-5,\"fUtoPixel\":334.080000311136,\"fVtoAbsPixelk\":467.2800501055,\"fVtoPixelk\":462.560000211,\"fVtoPixel\":-462.560000211,\"fAbsPixeltoXk\":-1.06249999854481,\"fPixeltoXk\":0,\"fPixeltoX\":0.00299329501636937,\"fAbsPixeltoYk\":1.01020408139992,\"fPixeltoYk\":0,\"fPixeltoY\":-0.00216188170084712,\"fXlowNDC\":0.509999999776483,\"fYlowNDC\":0.00999999977648258,\"fXUpNDC\":0,\"fYUpNDC\":0,\"fWNDC\":0.480000000447035,\"fHNDC\":0.980000000447035,\"fAbsXlowNDC\":0.509999999776483,\"fAbsYlowNDC\":0.00999999977648258,\"fAbsWNDC\":0.480000000447035,\"fAbsHNDC\":0.980000000447035,\"fUxmin\":0,\"fUymin\":0,\"fUxmax\":1,\"fUymax\":1,\"fTheta\":30,\"fPhi\":30,\"fAspectRatio\":0,\"fNumber\":2,\"fTickx\":0,\"fTicky\":0,\"fLogx\":0,\"fLogy\":0,\"fLogz\":0,\"fPadPaint\":0,\"fCrosshair\":0,\"fCrosshairPos\":0,\"fBorderSize\":2,\"fBorderMode\":0,\"fModified\":false,\"fGridx\":false,\"fGridy\":false,\"fAbsCoord\":false,\"fEditable\":true,\"fFixedAspectRatio\":false,\"fPrimitives\":{\"_typename\":\"TList\",\"name\":\"TList\",\"arr\":[{\"_typename\":\"TPad\",\"fUniqueID\":0,\"fBits\":50331657,\"fLineColor\":1,\"fLineStyle\":1,\"fLineWidth\":1,\"fFillColor\":0,\"fFillStyle\":1001,\"fLeftMargin\":0.1,\"fRightMargin\":0.1,\"fBottomMargin\":0.1,\"fTopMargin\":0.1,\"fXfile\":2,\"fYfile\":2,\"fAfile\":1,\"fXstat\":0.99,\"fYstat\":0.99,\"fAstat\":2,\"fFrameFillColor\":0,\"fFrameLineColor\":1,\"fFrameFillStyle\":1001,\"fFrameLineStyle\":1,\"fFrameLineWidth\":1,\"fFrameBorderSize\":1,\"fFrameBorderMode\":0,\"fX1\":-1.3675001018867,\"fY1\":-198.121039049109,\"fX2\":12.3075001018867,\"fY2\":224.86052146064,\"fXtoAbsPixelk\":391.040691769743,\"fXtoPixelk\":32.7398919968725,\"fXtoPixel\":23.9413817605589,\"fYtoAbsPixelk\":127.378009776912,\"fYtoPixelk\":118.032409983693,\"fYtoPixel\":-0.524913662998658,\"fUtoAbsPixelk\":358.30084977287,\"fUtoPixelk\":5e-5,\"fUtoPixel\":327.398400454259,\"fVtoAbsPixelk\":231.37445010128,\"fVtoPixelk\":222.028800308061,\"fVtoPixel\":-222.028800308061,\"fAbsPixeltoXk\":-16.3332528456626,\"fPixeltoXk\":-1.3675001018867,\"fPixeltoX\":0.0417686836123805,\"fAbsPixeltoYk\":242.664591828767,\"fPixeltoYk\":-198.121039049109,\"fPixeltoY\":-1.90507519710447,\"fXlowNDC\":0.00999999977648258,\"fYlowNDC\":0.509999999776483,\"fXUpNDC\":0,\"fYUpNDC\":0,\"fWNDC\":0.980000000447035,\"fHNDC\":0.480000000447035,\"fAbsXlowNDC\":0.514799999673665,\"fAbsYlowNDC\":0.509799999785423,\"fAbsWNDC\":0.470400000652671,\"fAbsHNDC\":0.470400000652671,\"fUxmin\":0,\"fUymin\":-155.822880476967,\"fUxmax\":10.94,\"fUymax\":182.562362888498,\"fTheta\":30,\"fPhi\":30,\"fAspectRatio\":0,\"fNumber\":1,\"fTickx\":0,\"fTicky\":0,\"fLogx\":0,\"fLogy\":0,\"fLogz\":0,\"fPadPaint\":0,\"fCrosshair\":0,\"fCrosshairPos\":0,\"fBorderSize\":2,\"fBorderMode\":0,\"fModified\":false,\"fGridx\":false,\"fGridy\":false,\"fAbsCoord\":false,\"fEditable\":true,\"fFixedAspectRatio\":false,\"fPrimitives\":{\"_typename\":\"TList\",\"name\":\"TList\",\"arr\":[{\"_typename\":\"TFrame\",\"fUniqueID\":0,\"fBits\":50331656,\"fLineColor\":1,\"fLineStyle\":1,\"fLineWidth\":1,\"fFillColor\":0,\"fFillStyle\":1001,\"fX1\":0,\"fY1\":-155.822880476967,\"fX2\":10.94,\"fY2\":182.562362888498,\"fBorderSize\":1,\"fBorderMode\":0},{\"_typename\":\"RooHist\",\"fUniqueID\":0,\"fBits\":50332680,\"fName\":\"resid_h_DataEvents_TotalPDF_Norm[Mmiss]\",\"fTitle\":\"Residual of Histogram of DataEvents_plot__Mmiss and Projection of total model\",\"fLineColor\":1,\"fLineStyle\":1,\"fLineWidth\":1,\"fFillColor\":0,\"fFillStyle\":1000,\"fMarkerColor\":1,\"fMarkerStyle\":8,\"fMarkerSize\":1,\"fNpoints\":100,\"fX\":[0.05,0.15,0.25,0.35,0.45,0.55,0.65,0.75,0.85,0.95,1.05,1.15,1.25,1.35,1.45,1.55,1.65,1.75,1.85,1.95,2.05,2.15,2.25,2.35,2.45,2.55,2.65,2.75,2.85,2.95,3.05,3.15,3.25,3.35,3.45,3.55,3.65,3.75,3.85,3.95,4.05,4.15,4.25,4.35,4.45,4.55,4.65,4.75,4.85,4.95,5.05,5.15,5.25,5.35,5.45,5.55,5.65,5.75,5.85,5.95,6.05,6.15,6.25,6.35,6.45,6.55,6.65,6.75,6.85,6.95,7.05,7.15,7.25,7.35,7.45,7.55,7.65,7.75,7.85,7.95,8.05,8.15,8.25,8.35,8.45,8.55,8.65,8.75,8.85,8.95,9.05,9.15,9.25,9.35,9.45,9.55,9.65,9.75,9.85,9.95],\"fY\":[-17.6854500525438,2.99365093817755,-31.3309740734193,25.3406746600131,28.0085965289419,0.672790094191157,7.33325203039431,-28.0100251810456,-11.3570581729276,-0.707882943483298,-15.0625757069948,38.5787057105727,24.2156416775205,-28.1524007819432,-8.5266471869823,-6.90941691299577,-2.30499991947443,11.2788507999923,5.82844817698873,15.320195444744,-17.2856224067481,-3.05423656997499,-8.09015938497583,3.44335149102113,5.29780159662442,-5.89510039499561,-27.6663970362791,-1.7602699203556,26.8110537071795,14.7134029856892,-0.753605077101383,33.320584995047,25.4704156510695,13.9184812957318,-22.2946478764316,-51.105352149787,25.8547467527883,35.6066452438042,0.213133167933165,27.1696698850683,8.74498502042047,-50.7873030258377,5.91704491382598,10.127976550978,-71.3366646439308,-59.7134552150283,39.922640070768,-39.2321380439648,2.39198271260921,95.9427059321288,3.55474418223275,0.0425614297050743,-72.0813338885164,36.73494646884,-8.29941518778423,11.4942108935343,97.1660901650193,33.0213292124836,-23.6130251983357,37.1910583812812,-12.6854547409041,-64.288549206203,-51.6776809182161,7.82768618483874,-20.7008816230209,34.8061627556593,-21.9699582745912,23.9221391578924,-28.5695346473747,30.3031277355906,-33.0336787320697,-34.5335341847677,0.461960273482646,-3.75094046495974,24.8077269764174,16.8560075914153,-23.0953449202541,38.306801969758,-20.6999928760733,-31.9601067945225,2.62580431398362,-19.8804250585116,-22.4412498242265,-5.03442188585473,3.35292966554084,-17.2719233849998,30.0950323430186,15.4559611871387,-35.1879961278139,23.1637481090211,-6.4885100623726,19.8553751756901,5.19547406667687,-6.46818029195674,16.8644273553484,12.1933038880461,41.5184523415352,-41.1601259736353,2.15756949627166,10.4715389802381],\"fFunctions\":{\"_typename\":\"TList\",\"name\":\"TList\",\"arr\":[],\"opt\":[]},\"fHistogram\":{\"_typename\":\"TH1F\",\"fUniqueID\":0,\"fBits\":50332168,\"fName\":\"resid_h_DataEvents_TotalPDF_Norm[Mmiss]\",\"fTitle\":\"Residual of Histogram of DataEvents_plot__Mmiss and Projection of total model\",\"fLineColor\":602,\"fLineStyle\":1,\"fLineWidth\":1,\"fFillColor\":0,\"fFillStyle\":1001,\"fMarkerColor\":1,\"fMarkerStyle\":1,\"fMarkerSize\":1,\"fNcells\":102,\"fXaxis\":{\"_typename\":\"TAxis\",\"fUniqueID\":0,\"fBits\":50331648,\"fName\":\"xaxis\",\"fTitle\":\"\",\"fNdivisions\":510,\"fAxisColor\":1,\"fLabelColor\":1,\"fLabelFont\":42,\"fLabelOffset\":0.005,\"fLabelSize\":0.035,\"fTickLength\":0.03,\"fTitleOffset\":1,\"fTitleSize\":0.035,\"fTitleColor\":1,\"fTitleFont\":42,\"fNbins\":100,\"fXmin\":0,\"fXmax\":10.94,\"fXbins\":[],\"fFirst\":0,\"fLast\":0,\"fBits2\":0,\"fTimeDisplay\":false,\"fTimeFormat\":\"\",\"fLabels\":null,\"fModLabs\":null},\"fYaxis\":{\"_typename\":\"TAxis\",\"fUniqueID\":0,\"fBits\":50331648,\"fName\":\"yaxis\",\"fTitle\":\"\",\"fNdivisions\":510,\"fAxisColor\":1,\"fLabelColor\":1,\"fLabelFont\":42,\"fLabelOffset\":0.005,\"fLabelSize\":0.035,\"fTickLength\":0.03,\"fTitleOffset\":0,\"fTitleSize\":0.035,\"fTitleColor\":1,\"fTitleFont\":42,\"fNbins\":1,\"fXmin\":-155.822880476967,\"fXmax\":182.562362888498,\"fXbins\":[],\"fFirst\":0,\"fLast\":0,\"fBits2\":0,\"fTimeDisplay\":false,\"fTimeFormat\":\"\",\"fLabels\":null,\"fModLabs\":null},\"fZaxis\":{\"_typename\":\"TAxis\",\"fUniqueID\":0,\"fBits\":50331648,\"fName\":\"zaxis\",\"fTitle\":\"\",\"fNdivisions\":510,\"fAxisColor\":1,\"fLabelColor\":1,\"fLabelFont\":42,\"fLabelOffset\":0.005,\"fLabelSize\":0.035,\"fTickLength\":0.03,\"fTitleOffset\":1,\"fTitleSize\":0.035,\"fTitleColor\":1,\"fTitleFont\":42,\"fNbins\":1,\"fXmin\":0,\"fXmax\":1,\"fXbins\":[],\"fFirst\":0,\"fLast\":0,\"fBits2\":0,\"fTimeDisplay\":false,\"fTimeFormat\":\"\",\"fLabels\":null,\"fModLabs\":null},\"fBarOffset\":0,\"fBarWidth\":1000,\"fEntries\":0,\"fTsumw\":0,\"fTsumw2\":0,\"fTsumwx\":0,\"fTsumwx2\":0,\"fMaximum\":182.562362888498,\"fMinimum\":-155.822880476967,\"fNormFactor\":0,\"fContour\":[],\"fSumw2\":[],\"fOption\":\"\",\"fFunctions\":{\"_typename\":\"TList\",\"name\":\"TList\",\"arr\":[],\"opt\":[]},\"fBufferSize\":0,\"fBuffer\":[],\"fBinStatErrOpt\":0,\"fStatOverflows\":2,\"fArray\":[0,0,0,0,0,0,0,0,0,0,0,0,0,0,0,0,0,0,0,0,0,0,0,0,0,0,0,0,0,0,0,0,0,0,0,0,0,0,0,0,0,0,0,0,0,0,0,0,0,0,0,0,0,0,0,0,0,0,0,0,0,0,0,0,0,0,0,0,0,0,0,0,0,0,0,0,0,0,0,0,0,0,0,0,0,0,0,0,0,0,0,0,0,0,0,0,0,0,0,0,0,0]},\"fMinimum\":-1111,\"fMaximum\":-1111,\"fEXlow\":[0,0,0,0,0,0,0,0,0,0,0,0,0,0,0,0,0,0,0,0,0,0,0,0,0,0,0,0,0,0,0,0,0,0,0,0,0,0,0,0,0,0,0,0,0,0,0,0,0,0,0,0,0,0,0,0,0,0,0,0,0,0,0,0,0,0,0,0,0,0,0,0,0,0,0,0,0,0,0,0,0,0,0,0,0,0,0,0,0,0,0,0,0,0,0,0,0,0,0,0],\"fEXhigh\":[0,0,0,0,0,0,0,0,0,0,0,0,0,0,0,0,0,0,0,0,0,0,0,0,0,0,0,0,0,0,0,0,0,0,0,0,0,0,0,0,0,0,0,0,0,0,0,0,0,0,0,0,0,0,0,0,0,0,0,0,0,0,0,0,0,0,0,0,0,0,0,0,0,0,0,0,0,0,0,0,0,0,0,0,0,0,0,0,0,0,0,0,0,0,0,0,0,0,0,0],\"fEYlow\":[16.1864140562386,16.9410743460974,16.0312195418814,17.832554500127,18.0277563773199,17.3781471969828,17.6918060129541,16.7928556237467,17.4068951855292,17.832554500127,17.5499287747842,19.131126469709,18.8679622641132,17.5499287747842,18.2208671582886,18.3847763108502,18.6279360101972,19.1049731745428,19.0787840283389,19.4422220952236,18.7082869338697,19.2093727122985,19.2093727122985,19.6468827043885,19.8494332412792,19.7484176581315,19.4164878389476,20.3469899493758,21.377558326432,21.540659228538,21.7715410570772,23.2808934536456,24.062418831032,25.0199920063936,25.7875939164553,27.0370116691916,30.4138126514911,32.8024389337134,34.7419055320804,37.7491721763538,40.2492235949962,42.3320209770335,45.7383865041171,48.4045452411238,50.0199960015992,52.3163454381133,55.0635995917448,55.7673739743947,57.1139212451746,58.4208866759142,57.6367938039583,57.1314274283428,55.5427763079953,55.145262715849,52.9716905525961,51.0783711564885,49.6185449202211,46.4758001544891,43.2434966208793,41.3521462562707,38.1837661840736,35.028559776274,32.9393381840012,31.859064644148,29.6816441593117,29.2061637330205,27.0554985169374,27.0185121722126,25.3574446662119,26.0384331325831,24.4744765010408,24.2487113059643,24.8596057893121,24.738633753706,25.3179778023443,25.1992063367083,24.454038521275,25.7487863791675,24.6576560118759,24.5153013442625,25.298221281347,24.9399278266799,24.9799919935936,25.4165300542777,25.6709953059869,25.3574446662119,26.3628526529282,26.1725046566048,25.2784493195291,26.4952825989836,26.0192236625154,26.6082693913002,26.4196896272458,26.2868788561899,26.8141753555839,26.8141753555839,27.4408454680245,25.9807621135332,26.8886593194975,27.1293199325011],\"fEYhigh\":[16.1864140562386,16.9410743460974,16.0312195418814,17.832554500127,18.0277563773199,17.3781471969828,17.6918060129541,16.7928556237467,17.4068951855292,17.832554500127,17.5499287747842,19.131126469709,18.8679622641132,17.5499287747842,18.2208671582886,18.3847763108502,18.6279360101972,19.1049731745428,19.0787840283389,19.4422220952236,18.7082869338697,19.2093727122985,19.2093727122985,19.6468827043885,19.8494332412792,19.7484176581315,19.4164878389476,20.3469899493758,21.377558326432,21.540659228538,21.7715410570772,23.2808934536456,24.062418831032,25.0199920063936,25.7875939164553,27.0370116691916,30.4138126514911,32.8024389337134,34.7419055320804,37.7491721763538,40.2492235949962,42.3320209770335,45.7383865041171,48.4045452411238,50.0199960015992,52.3163454381133,55.0635995917448,55.7673739743947,57.1139212451746,58.4208866759142,57.6367938039583,57.1314274283428,55.5427763079953,55.145262715849,52.9716905525961,51.0783711564885,49.6185449202211,46.4758001544891,43.2434966208793,41.3521462562707,38.1837661840736,35.028559776274,32.9393381840012,31.859064644148,29.6816441593117,29.2061637330205,27.0554985169374,27.0185121722126,25.3574446662119,26.0384331325831,24.4744765010408,24.2487113059643,24.8596057893121,24.738633753706,25.3179778023443,25.1992063367083,24.454038521275,25.7487863791675,24.6576560118759,24.5153013442625,25.298221281347,24.9399278266799,24.9799919935936,25.4165300542777,25.6709953059869,25.3574446662119,26.3628526529282,26.1725046566048,25.2784493195291,26.4952825989836,26.0192236625154,26.6082693913002,26.4196896272458,26.2868788561899,26.8141753555839,26.8141753555839,27.4408454680245,25.9807621135332,26.8886593194975,27.1293199325011],\"_yAxisLabel\":\"\",\"_ymin\":-127.624110196512,\"_ymax\":154.363592608043,\"_normValue\":0,\"_nominalBinWidth\":0.1,\"_nSigma\":1,\"_entries\":-0.0310486093027293,\"_rawEntries\":-1},{\"_typename\":\"TPaveText\",\"fUniqueID\":0,\"fBits\":50331657,\"fLineColor\":1,\"fLineStyle\":1,\"fLineWidth\":1,\"fFillColor\":0,\"fFillStyle\":0,\"fX1\":0.683749928679313,\"fY1\":195.31253283672,\"fX2\":10.2562500713207,\"fY2\":222.745615675024,\"fX1NDC\":0.15,\"fY1NDC\":0.93014355380336,\"fX2NDC\":0.85,\"fY2NDC\":0.995000004768372,\"fBorderSize\":0,\"fInit\":1,\"fShadowColor\":1,\"fCornerRadius\":0,\"fOption\":\"blNDC\",\"fName\":\"title\",\"fTextAngle\":0,\"fTextSize\":0,\"fTextAlign\":22,\"fTextColor\":1,\"fTextFont\":42,\"fLabel\":\"\",\"fLongest\":77,\"fMargin\":0.05,\"fLines\":{\"_typename\":\"TList\",\"name\":\"TList\",\"arr\":[{\"_typename\":\"TLatex\",\"fUniqueID\":0,\"fBits\":50331648,\"fName\":\"\",\"fTitle\":\"Residual of Histogram of DataEvents_plot__Mmiss and Projection of total model\",\"fTextAngle\":0,\"fTextSize\":0,\"fTextAlign\":0,\"fTextColor\":0,\"fTextFont\":0,\"fX\":0,\"fY\":0,\"fLineColor\":1,\"fLineStyle\":1,\"fLineWidth\":2,\"fLimitFactorSize\":3,\"fOriginSize\":0.0551279820501804}],\"opt\":[\"\"]}}],\"opt\":[\"\",\"alp\",\"blNDC\"]},\"fExecs\":{\"_typename\":\"TList\",\"name\":\"TList\",\"arr\":[],\"opt\":[]},\"fName\":\"_Mmiss_2_1\",\"fTitle\":\"_Mmiss_2_1\",\"fNumPaletteColor\":0,\"fNextPaletteColor\":0},{\"_typename\":\"TPad\",\"fUniqueID\":0,\"fBits\":50331657,\"fLineColor\":1,\"fLineStyle\":1,\"fLineWidth\":1,\"fFillColor\":0,\"fFillStyle\":1001,\"fLeftMargin\":0.1,\"fRightMargin\":0.1,\"fBottomMargin\":0.1,\"fTopMargin\":0.1,\"fXfile\":2,\"fYfile\":2,\"fAfile\":1,\"fXstat\":0.99,\"fYstat\":0.99,\"fAstat\":2,\"fFrameFillColor\":0,\"fFrameLineColor\":1,\"fFrameFillStyle\":1001,\"fFrameLineStyle\":1,\"fFrameLineWidth\":1,\"fFrameBorderSize\":1,\"fFrameBorderMode\":0,\"fX1\":-1.3675001018867,\"fY1\":-4.44710096240294,\"fX2\":12.3075001018867,\"fY2\":4.5092697474603,\"fXtoAbsPixelk\":391.040691769743,\"fXtoPixelk\":32.7398919968725,\"fXtoPixel\":23.9413817605589,\"fYtoAbsPixelk\":352.4106334291,\"fYtoPixelk\":111.78503353038,\"fYtoPixel\":-24.7900413572152,\"fUtoAbsPixelk\":358.30084977287,\"fUtoPixelk\":5e-5,\"fUtoPixel\":327.398400454259,\"fVtoAbsPixelk\":462.65445020678,\"fVtoPixelk\":222.028800308061,\"fVtoPixel\":-222.028800308061,\"fAbsPixeltoXk\":-16.3332528456626,\"fPixeltoXk\":-1.3675001018867,\"fPixeltoX\":0.0417686836123805,\"fAbsPixeltoYk\":14.2158126463363,\"fPixeltoYk\":-4.44710096240294,\"fPixeltoY\":-0.0403387790117158,\"fXlowNDC\":0.00999999977648258,\"fYlowNDC\":0.00999999977648258,\"fXUpNDC\":0,\"fYUpNDC\":0,\"fWNDC\":0.980000000447035,\"fHNDC\":0.480000000447035,\"fAbsXlowNDC\":0.514799999673665,\"fAbsYlowNDC\":0.0197999995619059,\"fAbsWNDC\":0.470400000652671,\"fAbsHNDC\":0.470400000652671,\"fUxmin\":0,\"fUymin\":-3.55146383803248,\"fUxmax\":10.94,\"fUymax\":3.61363262308984,\"fTheta\":30,\"fPhi\":30,\"fAspectRatio\":0,\"fNumber\":2,\"fTickx\":0,\"fTicky\":0,\"fLogx\":0,\"fLogy\":0,\"fLogz\":0,\"fPadPaint\":0,\"fCrosshair\":0,\"fCrosshairPos\":0,\"fBorderSize\":2,\"fBorderMode\":0,\"fModified\":false,\"fGridx\":false,\"fGridy\":false,\"fAbsCoord\":false,\"fEditable\":true,\"fFixedAspectRatio\":false,\"fPrimitives\":{\"_typename\":\"TList\",\"name\":\"TList\",\"arr\":[{\"_typename\":\"TFrame\",\"fUniqueID\":0,\"fBits\":50331656,\"fLineColor\":1,\"fLineStyle\":1,\"fLineWidth\":1,\"fFillColor\":0,\"fFillStyle\":1001,\"fX1\":0,\"fY1\":-3.55146383803248,\"fX2\":10.94,\"fY2\":3.61363262308984,\"fBorderSize\":1,\"fBorderMode\":0},{\"_typename\":\"RooHist\",\"fUniqueID\":0,\"fBits\":50332680,\"fName\":\"pull_h_DataEvents_TotalPDF_Norm[Mmiss]\",\"fTitle\":\"Pull of Histogram of DataEvents_plot__Mmiss and Projection of total model\",\"fLineColor\":1,\"fLineStyle\":1,\"fLineWidth\":1,\"fFillColor\":0,\"fFillStyle\":1000,\"fMarkerColor\":1,\"fMarkerStyle\":8,\"fMarkerSize\":1,\"fNpoints\":100,\"fX\":[0.05,0.15,0.25,0.35,0.45,0.55,0.65,0.75,0.85,0.95,1.05,1.15,1.25,1.35,1.45,1.55,1.65,1.75,1.85,1.95,2.05,2.15,2.25,2.35,2.45,2.55,2.65,2.75,2.85,2.95,3.05,3.15,3.25,3.35,3.45,3.55,3.65,3.75,3.85,3.95,4.05,4.15,4.25,4.35,4.45,4.55,4.65,4.75,4.85,4.95,5.05,5.15,5.25,5.35,5.45,5.55,5.65,5.75,5.85,5.95,6.05,6.15,6.25,6.35,6.45,6.55,6.65,6.75,6.85,6.95,7.05,7.15,7.25,7.35,7.45,7.55,7.65,7.75,7.85,7.95,8.05,8.15,8.25,8.35,8.45,8.55,8.65,8.75,8.85,8.95,9.05,9.15,9.25,9.35,9.45,9.55,9.65,9.75,9.85,9.95],\"fY\":[-1.09261075313512,0.176709627560732,-1.95437246627229,1.42103447152412,1.55363739905973,0.0387147195017412,0.414499911711943,-1.66797272653478,-0.652445944660426,-0.0396961043062146,-0.858269905268035,2.01654125132965,1.28342644205827,-1.60413191091651,-0.467960559336144,-0.37582273486341,-0.123738878972563,0.590362032804172,0.30549369227784,0.787985826399327,-0.923955382331347,-0.158997204943582,-0.421156875143362,0.17526197630589,0.266899388623703,-0.298510012146126,-1.42489194058994,-0.0865125468059514,1.25416819347556,0.683052585790699,-0.0346142275884697,1.4312416772746,1.05851435094388,0.55629439418586,-0.864549362327486,-1.89019972972905,0.850098836638974,1.08548773814525,0.00613475756925191,0.719742137870973,0.217270899643084,-1.19973726398254,0.129367154508027,0.209236064516797,-1.42616294174934,-1.14139194385558,0.72502779271178,-0.703496242480021,0.0418809050483694,1.64226719913315,0.0616749119377391,7.4497402954717e-4,-1.29776252970884,0.666148725378767,-0.15667642661968,0.225030881629321,1.95826157984373,0.710505878386562,-0.546048008220837,0.899374319069147,-0.332221150730679,-1.8353180837811,-1.56887429339173,0.245697300666878,-0.697430422381998,1.1917403146072,-0.812033023928113,0.885398093182025,-1.12667246339071,1.16378460951519,-1.34971952232216,-1.42413894697463,0.0185827674580928,-0.151622781690514,0.979846304080426,0.668910257179834,-0.944438886859574,1.48771291219965,-0.839495565438319,-1.30367994852335,0.103794029026052,-0.797132421419609,-0.89836897585803,-0.198076679826223,0.130611595911082,-0.68113816720713,1.14156964495555,0.590541921376189,-1.39201561310286,0.874259333618495,-0.249373699482059,0.746210694265673,0.19665159356448,-0.24606117475349,0.628937013042862,0.454733502945744,1.51301651364622,-1.58425398738382,0.0802408729507449,0.385986047799638],\"fFunctions\":{\"_typename\":\"TList\",\"name\":\"TList\",\"arr\":[],\"opt\":[]},\"fHistogram\":{\"_typename\":\"TH1F\",\"fUniqueID\":0,\"fBits\":50332168,\"fName\":\"pull_h_DataEvents_TotalPDF_Norm[Mmiss]\",\"fTitle\":\"Pull of Histogram of DataEvents_plot__Mmiss and Projection of total model\",\"fLineColor\":602,\"fLineStyle\":1,\"fLineWidth\":1,\"fFillColor\":0,\"fFillStyle\":1001,\"fMarkerColor\":1,\"fMarkerStyle\":1,\"fMarkerSize\":1,\"fNcells\":102,\"fXaxis\":{\"_typename\":\"TAxis\",\"fUniqueID\":0,\"fBits\":50331648,\"fName\":\"xaxis\",\"fTitle\":\"\",\"fNdivisions\":510,\"fAxisColor\":1,\"fLabelColor\":1,\"fLabelFont\":42,\"fLabelOffset\":0.005,\"fLabelSize\":0.035,\"fTickLength\":0.03,\"fTitleOffset\":1,\"fTitleSize\":0.035,\"fTitleColor\":1,\"fTitleFont\":42,\"fNbins\":100,\"fXmin\":0,\"fXmax\":10.94,\"fXbins\":[],\"fFirst\":0,\"fLast\":0,\"fBits2\":0,\"fTimeDisplay\":false,\"fTimeFormat\":\"\",\"fLabels\":null,\"fModLabs\":null},\"fYaxis\":{\"_typename\":\"TAxis\",\"fUniqueID\":0,\"fBits\":50331648,\"fName\":\"yaxis\",\"fTitle\":\"\",\"fNdivisions\":510,\"fAxisColor\":1,\"fLabelColor\":1,\"fLabelFont\":42,\"fLabelOffset\":0.005,\"fLabelSize\":0.035,\"fTickLength\":0.03,\"fTitleOffset\":0,\"fTitleSize\":0.035,\"fTitleColor\":1,\"fTitleFont\":42,\"fNbins\":1,\"fXmin\":-3.55146383803248,\"fXmax\":3.61363262308984,\"fXbins\":[],\"fFirst\":0,\"fLast\":0,\"fBits2\":0,\"fTimeDisplay\":false,\"fTimeFormat\":\"\",\"fLabels\":null,\"fModLabs\":null},\"fZaxis\":{\"_typename\":\"TAxis\",\"fUniqueID\":0,\"fBits\":50331648,\"fName\":\"zaxis\",\"fTitle\":\"\",\"fNdivisions\":510,\"fAxisColor\":1,\"fLabelColor\":1,\"fLabelFont\":42,\"fLabelOffset\":0.005,\"fLabelSize\":0.035,\"fTickLength\":0.03,\"fTitleOffset\":1,\"fTitleSize\":0.035,\"fTitleColor\":1,\"fTitleFont\":42,\"fNbins\":1,\"fXmin\":0,\"fXmax\":1,\"fXbins\":[],\"fFirst\":0,\"fLast\":0,\"fBits2\":0,\"fTimeDisplay\":false,\"fTimeFormat\":\"\",\"fLabels\":null,\"fModLabs\":null},\"fBarOffset\":0,\"fBarWidth\":1000,\"fEntries\":0,\"fTsumw\":0,\"fTsumw2\":0,\"fTsumwx\":0,\"fTsumwx2\":0,\"fMaximum\":3.61363262308984,\"fMinimum\":-3.55146383803248,\"fNormFactor\":0,\"fContour\":[],\"fSumw2\":[],\"fOption\":\"\",\"fFunctions\":{\"_typename\":\"TList\",\"name\":\"TList\",\"arr\":[],\"opt\":[]},\"fBufferSize\":0,\"fBuffer\":[],\"fBinStatErrOpt\":0,\"fStatOverflows\":2,\"fArray\":[0,0,0,0,0,0,0,0,0,0,0,0,0,0,0,0,0,0,0,0,0,0,0,0,0,0,0,0,0,0,0,0,0,0,0,0,0,0,0,0,0,0,0,0,0,0,0,0,0,0,0,0,0,0,0,0,0,0,0,0,0,0,0,0,0,0,0,0,0,0,0,0,0,0,0,0,0,0,0,0,0,0,0,0,0,0,0,0,0,0,0,0,0,0,0,0,0,0,0,0,0,0]},\"fMinimum\":-1111,\"fMaximum\":-1111,\"fEXlow\":[0,0,0,0,0,0,0,0,0,0,0,0,0,0,0,0,0,0,0,0,0,0,0,0,0,0,0,0,0,0,0,0,0,0,0,0,0,0,0,0,0,0,0,0,0,0,0,0,0,0,0,0,0,0,0,0,0,0,0,0,0,0,0,0,0,0,0,0,0,0,0,0,0,0,0,0,0,0,0,0,0,0,0,0,0,0,0,0,0,0,0,0,0,0,0,0,0,0,0,0],\"fEXhigh\":[0,0,0,0,0,0,0,0,0,0,0,0,0,0,0,0,0,0,0,0,0,0,0,0,0,0,0,0,0,0,0,0,0,0,0,0,0,0,0,0,0,0,0,0,0,0,0,0,0,0,0,0,0,0,0,0,0,0,0,0,0,0,0,0,0,0,0,0,0,0,0,0,0,0,0,0,0,0,0,0,0,0,0,0,0,0,0,0,0,0,0,0,0,0,0,0,0,0,0,0],\"fEYlow\":[1,1,1,1,1,1,1,1,1,1,1,1,1,1,1,1,1,1,1,1,1,1,1,1,1,1,1,1,1,1,1,1,1,1,1,1,1,1,1,1,1,1,1,1,1,1,1,1,1,1,1,1,1,1,1,1,1,1,1,1,1,1,1,1,1,1,1,1,1,1,1,1,1,1,1,1,1,1,1,1,1,1,1,1,1,1,1,1,1,1,1,1,1,1,1,1,1,1,1,1],\"fEYhigh\":[1,1,1,1,1,1,1,1,1,1,1,1,1,1,1,1,1,1,1,1,1,1,1,1,1,1,1,1,1,1,1,1,1,1,1,1,1,1,1,1,1,1,1,1,1,1,1,1,1,1,1,1,1,1,1,1,1,1,1,1,1,1,1,1,1,1,1,1,1,1,1,1,1,1,1,1,1,1,1,1,1,1,1,1,1,1,1,1,1,1,1,1,1,1,1,1,1,1,1,1],\"_yAxisLabel\":\"\",\"_ymin\":-2.95437246627229,\"_ymax\":3.01654125132965,\"_normValue\":0,\"_nominalBinWidth\":0.1,\"_nSigma\":1,\"_entries\":-2.19343241205353,\"_rawEntries\":-1},{\"_typename\":\"TPaveText\",\"fUniqueID\":0,\"fBits\":50331657,\"fLineColor\":1,\"fLineStyle\":1,\"fLineWidth\":1,\"fFillColor\":0,\"fFillStyle\":0,\"fX1\":0.683749928679313,\"fY1\":3.88360951884958,\"fX2\":10.2562500713207,\"fY2\":4.46448793661828,\"fX1NDC\":0.15,\"fY1NDC\":0.93014355380336,\"fX2NDC\":0.85,\"fY2NDC\":0.995000004768372,\"fBorderSize\":0,\"fInit\":1,\"fShadowColor\":1,\"fCornerRadius\":0,\"fOption\":\"blNDC\",\"fName\":\"title\",\"fTextAngle\":0,\"fTextSize\":0,\"fTextAlign\":22,\"fTextColor\":1,\"fTextFont\":42,\"fLabel\":\"\",\"fLongest\":73,\"fMargin\":0.05,\"fLines\":{\"_typename\":\"TList\",\"name\":\"TList\",\"arr\":[{\"_typename\":\"TLatex\",\"fUniqueID\":0,\"fBits\":50331648,\"fName\":\"\",\"fTitle\":\"Pull of Histogram of DataEvents_plot__Mmiss and Projection of total model\",\"fTextAngle\":0,\"fTextSize\":0,\"fTextAlign\":0,\"fTextColor\":0,\"fTextFont\":0,\"fX\":0,\"fY\":0,\"fLineColor\":1,\"fLineStyle\":1,\"fLineWidth\":2,\"fLimitFactorSize\":3,\"fOriginSize\":0.0551279820501804}],\"opt\":[\"\"]}}],\"opt\":[\"\",\"alp\",\"blNDC\"]},\"fExecs\":{\"_typename\":\"TList\",\"name\":\"TList\",\"arr\":[],\"opt\":[]},\"fName\":\"_Mmiss_2_2\",\"fTitle\":\"_Mmiss_2_2\",\"fNumPaletteColor\":0,\"fNextPaletteColor\":0}],\"opt\":[\"\",\"\"]},\"fExecs\":{\"_typename\":\"TList\",\"name\":\"TList\",\"arr\":[],\"opt\":[]},\"fName\":\"_Mmiss_2\",\"fTitle\":\"_Mmiss_2\",\"fNumPaletteColor\":0,\"fNextPaletteColor\":0}],\"opt\":[\"\",\"\"]},\"fExecs\":null,\"fName\":\"_Mmiss\",\"fTitle\":\"_Mmiss\",\"fNumPaletteColor\":0,\"fNextPaletteColor\":0,\"fDISPLAY\":\"$DISPLAY\",\"fDoubleBuffer\":0,\"fRetained\":true,\"fXsizeUser\":0,\"fYsizeUser\":0,\"fXsizeReal\":20,\"fYsizeReal\":14.28571,\"fWindowTopX\":0,\"fWindowTopY\":0,\"fWindowWidth\":0,\"fWindowHeight\":0,\"fCw\":696,\"fCh\":472,\"fCatt\":{\"_typename\":\"TAttCanvas\",\"fXBetween\":2,\"fYBetween\":2,\"fTitleFromTop\":1.2,\"fXdate\":0.2,\"fYdate\":0.3,\"fAdate\":1},\"kMoveOpaque\":true,\"kResizeOpaque\":true,\"fHighLightColor\":2,\"fBatch\":true,\"kShowEventStatus\":false,\"kAutoExec\":true,\"kMenuBar\":true});\n",
       "       Core.draw(\"root_plot_1\", obj, \"\");\n",
       "     }\n",
       " );\n",
       "</script>\n"
      ],
      "text/plain": [
       "<IPython.core.display.HTML object>"
      ]
     },
     "metadata": {},
     "output_type": "display_data"
    },
    {
     "name": "stdout",
     "output_type": "stream",
     "text": [
      "Weights::Save() Saved weights to file\n"
     ]
    }
   ],
   "source": [
    "Here::Go(&RF);\n",
    "//Here::One(&RF,3);\n",
    "//Proof::Go(&RF,1);"
   ]
  },
  {
   "cell_type": "markdown",
   "metadata": {},
   "source": [
    "### Draw some weighted variables\n",
    "\n",
    "I can now use the resulting weights to make sPlots of the other variables in the tree, disentangling signal from background. \n",
    "I use the DrawWeighted function which takes standard TTree::Draw option for first argument and the weight species with the second (i.e. here I could plot Signal or BG) .\n",
    "\n",
    "Additionally you can add cut condition with the third argument and a hist draw option with the fourth.\n",
    "\n",
    "Here we can see the background subtracted \\phi distributions for the 2 different polarisation states.\n",
    "\n",
    "If splits were defined with LoadBinVars, then calling draw weighted automatically calls sPlot::MergeWeights() which combines all the weights into 1 file so they can be used on the full original tree. You may want to call MErgeWeights in the case you do not want to draw anything so at least the merged weights file is produced.\n",
    "\n"
   ]
  },
  {
   "cell_type": "code",
   "execution_count": 11,
   "metadata": {
    "scrolled": false
   },
   "outputs": [
    {
     "name": "stdout",
     "output_type": "stream",
     "text": [
      "Weights::SetFile /work/Dropbox/HaSpect/dev/HASPECT6/tutorials/RooFitExamples/WeightedObservable/sPlotFit//Tweights.root\n",
      "Weights::Merge Merging Weights* in directory /work/Dropbox/HaSpect/dev/HASPECT6/tutorials/RooFitExamples/WeightedObservable/sPlotFit\n",
      "Weights::Merge Adding file Weights.root\n",
      "TFile**\t\t/work/Dropbox/HaSpect/dev/HASPECT6/tutorials/RooFitExamples/WeightedObservable/sPlotFit/Weights.root\t\n",
      " TFile*\t\t/work/Dropbox/HaSpect/dev/HASPECT6/tutorials/RooFitExamples/WeightedObservable/sPlotFit/Weights.root\t\n",
      "  KEY: TTree\tHSsWeights_W;1\tTree weights for each species\n",
      "  KEY: TTree\tHSsWeights_ID;1\tevent ids for each entry\n",
      "  KEY: HS::Weights\tHSsWeights;1\t\n",
      "HSsWeights \n",
      "Weights::~Weights()\n",
      "Weights Add 100000 2 2 0 \n",
      "FILE /work/Dropbox/HaSpect/dev/HASPECT6/tutorials/RooFitExamples/WeightedObservable/sPlotFit//Tweights.root\n",
      "Weights Add new species :BG\n",
      "Insert species BG 0 0\n",
      "Weights Add new species :Signal\n",
      "Insert species Signal 1 0\n",
      "Weights::~Weights()\n",
      "Weights::BuildIndex 100000\n",
      "Done\n",
      "Weights::SortWeights() Clone emptry tree to save \n",
      "Weights::SortWeights() Clone tree to save \n",
      "Weights::SortWeights() reordering trees 0x7f183fb5e0f0\n",
      "Weights::SortWeights() reordering trees\n",
      "Weights::SortWeights() entries 100000 100000\n",
      "Weights::SortWeights Print new ordering\n",
      "Weights HSsWeights contains 100000 events associated file is /work/Dropbox/HaSpect/dev/HASPECT6/tutorials/RooFitExamples/WeightedObservable/sPlotFit//Tweights.root \n",
      "ID branch name : fgID\n",
      "Species are : \n",
      "BG\n",
      "Signal\n",
      "The first ten entries are :\n",
      "0 0.160913 0.839092 \n",
      "1 -0.147931 1.14794 \n",
      "2 1.15188 -0.151882 \n",
      "3 1.43808 -0.438082 \n",
      "4 1.42256 -0.422561 \n",
      "5 -0.00833166 1.00834 \n",
      "6 1.45322 -0.453222 \n",
      "7 1.44717 -0.447169 \n",
      "8 0.399199 0.600805 \n",
      "9 1.44957 -0.449567 \n",
      "These weights are combined from :\n",
      "\n",
      "Weights HSsWeights contains 100000 events associated file is /work/Dropbox/HaSpect/dev/HASPECT6/tutorials/RooFitExamples/WeightedObservable/sPlotFit//Tweights.root \n",
      "ID branch name : fgID\n",
      "Species are : \n",
      "BG\n",
      "Signal\n",
      "The first ten entries are :\n",
      "0 0.160913 0.839092 \n",
      "1 -0.147931 1.14794 \n",
      "2 1.15188 -0.151882 \n",
      "3 1.43808 -0.438082 \n",
      "4 1.42256 -0.422561 \n",
      "5 -0.00833166 1.00834 \n",
      "6 1.45322 -0.453222 \n",
      "7 1.44717 -0.447169 \n",
      "8 0.399199 0.600805 \n",
      "9 1.44957 -0.449567 \n",
      "These weights are combined from :\n",
      "\n",
      "Weights::Merge done \n",
      "Weights::~Weights()\n"
     ]
    },
    {
     "name": "stderr",
     "output_type": "stream",
     "text": [
      "Warning in <TTreeFormula::DefinedVariable>: Casting to primary types like \"Long64_t\" is not supported yet\n"
     ]
    },
    {
     "name": "stdout",
     "output_type": "stream",
     "text": [
      "Weights::Save() Saved weights to file\n",
      "TFile**\t\t/work/Dropbox/HaSpect/dev/HASPECT6/tutorials/RooFitExamples/WeightedObservable/sPlotFit/Tweights.root\t\n",
      " TFile*\t\t/work/Dropbox/HaSpect/dev/HASPECT6/tutorials/RooFitExamples/WeightedObservable/sPlotFit/Tweights.root\t\n",
      "  KEY: TTree\tHSsWeights_W;1\tTree weights for each species\n",
      "  KEY: TTree\tHSsWeights_ID;1\tevent ids for each entry\n",
      "  KEY: HS::Weights\tHSsWeights;1\tHSsWeights\n",
      "HSsWeights HSsWeights\n",
      "Weights::~Weights()\n",
      "Weights::BuildIndex 100000\n",
      "Done\n"
     ]
    },
    {
     "name": "stderr",
     "output_type": "stream",
     "text": [
      "Warning in <TTreeFormula::DefinedVariable>: Casting to primary types like \"Long64_t\" is not supported yet\n"
     ]
    },
    {
     "data": {
      "text/html": [
       "\n",
       "<div id=\"root_plot_2\"\n",
       "     style=\"width: 696px; height: 472px\">\n",
       "</div>\n",
       "\n",
       "<script>\n",
       " requirejs.config({\n",
       "     paths: {\n",
       "       'JSRootCore' : 'https://root.cern.ch/js/notebook//scripts/JSRootCore',\n",
       "     }\n",
       "   });\n",
       " require(['JSRootCore'],\n",
       "     function(Core) {\n",
       "       var obj = Core.JSONR_unref({\"_typename\":\"TCanvas\",\"fUniqueID\":0,\"fBits\":53673992,\"fLineColor\":1,\"fLineStyle\":1,\"fLineWidth\":1,\"fFillColor\":0,\"fFillStyle\":1001,\"fLeftMargin\":0.1,\"fRightMargin\":0.1,\"fBottomMargin\":0.1,\"fTopMargin\":0.1,\"fXfile\":2,\"fYfile\":2,\"fAfile\":1,\"fXstat\":0.99,\"fYstat\":0.99,\"fAstat\":2,\"fFrameFillColor\":0,\"fFrameLineColor\":1,\"fFrameFillStyle\":1001,\"fFrameLineStyle\":1,\"fFrameLineWidth\":1,\"fFrameBorderSize\":1,\"fFrameBorderMode\":0,\"fX1\":0,\"fY1\":0,\"fX2\":1,\"fY2\":1,\"fXtoAbsPixelk\":5e-5,\"fXtoPixelk\":5e-5,\"fXtoPixel\":696,\"fYtoAbsPixelk\":472.00005,\"fYtoPixelk\":472.00005,\"fYtoPixel\":-472,\"fUtoAbsPixelk\":5e-5,\"fUtoPixelk\":5e-5,\"fUtoPixel\":696,\"fVtoAbsPixelk\":472.00005,\"fVtoPixelk\":472,\"fVtoPixel\":-472,\"fAbsPixeltoXk\":0,\"fPixeltoXk\":0,\"fPixeltoX\":0.0014367816091954,\"fAbsPixeltoYk\":1,\"fPixeltoYk\":0,\"fPixeltoY\":-0.00211864406779661,\"fXlowNDC\":0,\"fYlowNDC\":0,\"fXUpNDC\":0,\"fYUpNDC\":0,\"fWNDC\":1,\"fHNDC\":1,\"fAbsXlowNDC\":0,\"fAbsYlowNDC\":0,\"fAbsWNDC\":1,\"fAbsHNDC\":1,\"fUxmin\":0,\"fUymin\":0,\"fUxmax\":1,\"fUymax\":1,\"fTheta\":30,\"fPhi\":30,\"fAspectRatio\":0,\"fNumber\":0,\"fTickx\":0,\"fTicky\":0,\"fLogx\":0,\"fLogy\":0,\"fLogz\":0,\"fPadPaint\":0,\"fCrosshair\":0,\"fCrosshairPos\":0,\"fBorderSize\":2,\"fBorderMode\":0,\"fModified\":false,\"fGridx\":false,\"fGridy\":false,\"fAbsCoord\":false,\"fEditable\":true,\"fFixedAspectRatio\":false,\"fPrimitives\":{\"_typename\":\"TList\",\"name\":\"TList\",\"arr\":[{\"_typename\":\"TPad\",\"fUniqueID\":0,\"fBits\":50331657,\"fLineColor\":1,\"fLineStyle\":1,\"fLineWidth\":1,\"fFillColor\":0,\"fFillStyle\":1001,\"fLeftMargin\":0.1,\"fRightMargin\":0.1,\"fBottomMargin\":0.1,\"fTopMargin\":0.1,\"fXfile\":2,\"fYfile\":2,\"fAfile\":1,\"fXstat\":0.99,\"fYstat\":0.99,\"fAstat\":2,\"fFrameFillColor\":0,\"fFrameLineColor\":1,\"fFrameFillStyle\":1001,\"fFrameLineStyle\":1,\"fFrameLineWidth\":1,\"fFrameBorderSize\":1,\"fFrameBorderMode\":0,\"fX1\":-225.000003352761,\"fY1\":-79.0181931701032,\"fX2\":225.000003352761,\"fY2\":711.163691432416,\"fXtoAbsPixelk\":174.00005,\"fXtoPixelk\":167.040050155568,\"fXtoPixel\":0.742399989628791,\"fYtoAbsPixelk\":421.024047327328,\"fYtoPixelk\":416.304047432828,\"fYtoPixel\":-0.585384212450883,\"fUtoAbsPixelk\":6.96004984443188,\"fUtoPixelk\":5e-5,\"fUtoPixel\":334.080000311136,\"fVtoAbsPixelk\":467.2800501055,\"fVtoPixelk\":462.560000211,\"fVtoPixel\":-462.560000211,\"fAbsPixeltoXk\":-234.375003274181,\"fPixeltoXk\":-225.000003352761,\"fPixeltoX\":1.34698277743782,\"fAbsPixeltoYk\":719.226771703642,\"fPixeltoYk\":-79.0181931701032,\"fPixeltoY\":-1.70827975666307,\"fXlowNDC\":0.00999999977648258,\"fYlowNDC\":0.00999999977648258,\"fXUpNDC\":0,\"fYUpNDC\":0,\"fWNDC\":0.480000000447035,\"fHNDC\":0.980000000447035,\"fAbsXlowNDC\":0.00999999977648258,\"fAbsYlowNDC\":0.00999999977648258,\"fAbsWNDC\":0.480000000447035,\"fAbsHNDC\":0.980000000447035,\"fUxmin\":-180,\"fUymin\":0,\"fUxmax\":180,\"fUymax\":632.145498262313,\"fTheta\":30,\"fPhi\":30,\"fAspectRatio\":0,\"fNumber\":1,\"fTickx\":0,\"fTicky\":0,\"fLogx\":0,\"fLogy\":0,\"fLogz\":0,\"fPadPaint\":0,\"fCrosshair\":0,\"fCrosshairPos\":0,\"fBorderSize\":2,\"fBorderMode\":0,\"fModified\":false,\"fGridx\":false,\"fGridy\":false,\"fAbsCoord\":false,\"fEditable\":true,\"fFixedAspectRatio\":false,\"fPrimitives\":{\"_typename\":\"TList\",\"name\":\"TList\",\"arr\":[{\"_typename\":\"TFrame\",\"fUniqueID\":0,\"fBits\":50331656,\"fLineColor\":1,\"fLineStyle\":1,\"fLineWidth\":1,\"fFillColor\":0,\"fFillStyle\":1001,\"fX1\":-180,\"fY1\":0,\"fX2\":180,\"fY2\":632.145498262313,\"fBorderSize\":1,\"fBorderMode\":0},{\"_typename\":\"TH1F\",\"fUniqueID\":0,\"fBits\":50331656,\"fName\":\"hPhi\",\"fTitle\":\"hPhi\",\"fLineColor\":602,\"fLineStyle\":1,\"fLineWidth\":1,\"fFillColor\":0,\"fFillStyle\":1001,\"fMarkerColor\":1,\"fMarkerStyle\":1,\"fMarkerSize\":1,\"fNcells\":102,\"fXaxis\":{\"_typename\":\"TAxis\",\"fUniqueID\":0,\"fBits\":50331648,\"fName\":\"xaxis\",\"fTitle\":\"\",\"fNdivisions\":510,\"fAxisColor\":1,\"fLabelColor\":1,\"fLabelFont\":42,\"fLabelOffset\":0.005,\"fLabelSize\":0.035,\"fTickLength\":0.03,\"fTitleOffset\":1,\"fTitleSize\":0.035,\"fTitleColor\":1,\"fTitleFont\":42,\"fNbins\":100,\"fXmin\":-180,\"fXmax\":180,\"fXbins\":[],\"fFirst\":0,\"fLast\":0,\"fBits2\":0,\"fTimeDisplay\":false,\"fTimeFormat\":\"\",\"fLabels\":null,\"fModLabs\":null},\"fYaxis\":{\"_typename\":\"TAxis\",\"fUniqueID\":0,\"fBits\":50331648,\"fName\":\"yaxis\",\"fTitle\":\"\",\"fNdivisions\":510,\"fAxisColor\":1,\"fLabelColor\":1,\"fLabelFont\":42,\"fLabelOffset\":0.005,\"fLabelSize\":0.035,\"fTickLength\":0.03,\"fTitleOffset\":0,\"fTitleSize\":0.035,\"fTitleColor\":1,\"fTitleFont\":42,\"fNbins\":1,\"fXmin\":0,\"fXmax\":1,\"fXbins\":[],\"fFirst\":0,\"fLast\":0,\"fBits2\":0,\"fTimeDisplay\":false,\"fTimeFormat\":\"\",\"fLabels\":null,\"fModLabs\":null},\"fZaxis\":{\"_typename\":\"TAxis\",\"fUniqueID\":0,\"fBits\":50331648,\"fName\":\"zaxis\",\"fTitle\":\"\",\"fNdivisions\":510,\"fAxisColor\":1,\"fLabelColor\":1,\"fLabelFont\":42,\"fLabelOffset\":0.005,\"fLabelSize\":0.035,\"fTickLength\":0.03,\"fTitleOffset\":1,\"fTitleSize\":0.035,\"fTitleColor\":1,\"fTitleFont\":42,\"fNbins\":1,\"fXmin\":0,\"fXmax\":1,\"fXbins\":[],\"fFirst\":0,\"fLast\":0,\"fBits2\":0,\"fTimeDisplay\":false,\"fTimeFormat\":\"\",\"fLabels\":null,\"fModLabs\":null},\"fBarOffset\":0,\"fBarWidth\":1000,\"fEntries\":100000,\"fTsumw\":50040.250833346,\"fTsumw2\":72684.9274070006,\"fTsumwx\":41135.5410562068,\"fTsumwx2\":543126466.1495,\"fMaximum\":-1111,\"fMinimum\":0,\"fNormFactor\":0,\"fContour\":[],\"fSumw2\":[0,738.528561469003,722.113322057612,785.168015904729,698.844887070666,753.044465638982,719.207419995953,695.348225894441,739.465448999736,757.63711257377,669.042549856432,722.749756149451,752.274242226409,729.902751747304,679.102612338326,721.194613930223,730.608834432978,706.760162453501,765.410078740257,703.84282318336,696.631925837576,707.353807628728,696.044597114142,736.398297223073,731.496768230075,677.410205822191,724.206525376934,709.573204394706,732.514393659546,687.021031531269,749.582885498533,733.539871498498,731.591357166764,716.952236605954,750.314801358688,723.706006832098,776.495446291215,726.264007116006,711.152319495823,712.835945646169,726.343788018939,724.956079756274,692.296535607326,727.365756514121,725.72562283271,735.350868404364,692.500557319366,756.548550236929,673.775696106108,748.157160373335,738.103372761355,703.908808470403,750.526355899947,756.024886442925,683.480153716733,770.406278951738,744.433822908076,742.077796529422,683.48452680958,766.328063112903,717.198125455302,704.091526371816,750.899076408111,730.120186719887,723.816972121573,756.68098226957,729.84209609608,734.831183982998,716.348289118277,726.549468213159,726.674230774139,713.809976420661,709.979863265268,717.901988408794,744.36802339643,722.701380751468,692.47717580328,721.578811102868,713.496883046654,728.860373024722,742.534476685204,731.215071211182,739.844333166434,749.856198615659,746.664908120813,685.286680223899,690.624910648243,715.39587670788,764.810582768356,698.639006447873,713.642808668509,712.903396194801,740.431364244909,794.40078345797,706.906571035367,753.246408219949,755.983076104722,738.472612232132,731.150673366488,772.71063035748,754.854226007932,0],\"fOption\":\"\",\"fFunctions\":{\"_typename\":\"TList\",\"name\":\"TList\",\"arr\":[{\"_typename\":\"TPaveStats\",\"fUniqueID\":0,\"fBits\":50331657,\"fLineColor\":1,\"fLineStyle\":1,\"fLineWidth\":1,\"fFillColor\":0,\"fFillStyle\":1001,\"fX1\":126.000009119511,\"fY1\":533.3727721067,\"fX2\":216.00001180172,\"fY2\":659.801870817193,\"fX1NDC\":0.780000016093254,\"fY1NDC\":0.775000005960464,\"fX2NDC\":0.980000019073486,\"fY2NDC\":0.935000002384186,\"fBorderSize\":1,\"fInit\":1,\"fShadowColor\":1,\"fCornerRadius\":0,\"fOption\":\"brNDC\",\"fName\":\"stats\",\"fTextAngle\":0,\"fTextSize\":0,\"fTextAlign\":12,\"fTextColor\":1,\"fTextFont\":42,\"fLabel\":\"\",\"fLongest\":18,\"fMargin\":0.05,\"fLines\":{\"_typename\":\"TList\",\"name\":\"TList\",\"arr\":[{\"_typename\":\"TLatex\",\"fUniqueID\":0,\"fBits\":50331648,\"fName\":\"\",\"fTitle\":\"hPhi\",\"fTextAngle\":0,\"fTextSize\":0.0368,\"fTextAlign\":0,\"fTextColor\":0,\"fTextFont\":0,\"fX\":0,\"fY\":0,\"fLineColor\":1,\"fLineStyle\":1,\"fLineWidth\":2,\"fLimitFactorSize\":3,\"fOriginSize\":0.0368000008165836},{\"_typename\":\"TLatex\",\"fUniqueID\":0,\"fBits\":50331648,\"fName\":\"\",\"fTitle\":\"Entries = 100000 \",\"fTextAngle\":0,\"fTextSize\":0,\"fTextAlign\":0,\"fTextColor\":0,\"fTextFont\":0,\"fX\":0,\"fY\":0,\"fLineColor\":1,\"fLineStyle\":1,\"fLineWidth\":2,\"fLimitFactorSize\":3,\"fOriginSize\":0.04},{\"_typename\":\"TLatex\",\"fUniqueID\":0,\"fBits\":50331648,\"fName\":\"\",\"fTitle\":\"Mean  =  0.822\",\"fTextAngle\":0,\"fTextSize\":0,\"fTextAlign\":0,\"fTextColor\":0,\"fTextFont\":0,\"fX\":0,\"fY\":0,\"fLineColor\":1,\"fLineStyle\":1,\"fLineWidth\":2,\"fLimitFactorSize\":3,\"fOriginSize\":0.04},{\"_typename\":\"TLatex\",\"fUniqueID\":0,\"fBits\":50331648,\"fName\":\"\",\"fTitle\":\"Std Dev   =  104.2\",\"fTextAngle\":0,\"fTextSize\":0,\"fTextAlign\":0,\"fTextColor\":0,\"fTextFont\":0,\"fX\":0,\"fY\":0,\"fLineColor\":1,\"fLineStyle\":1,\"fLineWidth\":2,\"fLimitFactorSize\":3,\"fOriginSize\":0.04}],\"opt\":[\"\",\"\",\"\",\"\"]},\"fOptFit\":0,\"fOptStat\":1111,\"fFitFormat\":\"5.4g\",\"fStatFormat\":\"6.4g\",\"fParent\":{\"$ref\":5}}],\"opt\":[\"brNDC\"]},\"fBufferSize\":0,\"fBuffer\":[],\"fBinStatErrOpt\":0,\"fStatOverflows\":2,\"fArray\":[0,487.8288,489.7537,542.9202,483.9406,517.1414,499.5425,468.7728,521.3109,529.3156,445.0661,498.7737,510.9586,508.6086,470.0712,492.3771,498.8919,485.3521,522.7449,483.7846,470.0874,502.0606,469.2679,506.2898,496.8143,453.7621,519.998,485.9236,507.8795,444.1017,533.7418,503.6653,518.5549,473.1315,521.2127,498.2781,568.1808,501.5521,480.1185,498.43,499.602,502.7573,471.5001,504.4892,500.6835,512.3273,457.6622,525.2771,432.9957,514.1476,506.7704,458.949,537.7519,523.0955,466.7567,542.3569,500.8723,512.4702,449.483,548.6423,488.7398,501.2243,526.3129,518.7072,494.261,525.5244,502.0167,496.9243,472.8691,507.4406,493.6582,504.7042,483.5372,497.62,512.3585,523.4092,454.104,490.5549,501.0503,512.3714,493.0198,498.3256,507.3668,501.5922,503.5659,480.1982,457.225,504.1558,514.599,478.7586,503.4704,478.7507,518.7158,573.8582,499.1555,525.6412,510.3602,512.7954,530.9581,553.0223,508.5352,0]},{\"_typename\":\"TH1F\",\"fUniqueID\":0,\"fBits\":50331657,\"fName\":\"htemp\",\"fTitle\":\"Phi {Signal*(PolState==-1)}\",\"fLineColor\":602,\"fLineStyle\":1,\"fLineWidth\":1,\"fFillColor\":0,\"fFillStyle\":1001,\"fMarkerColor\":1,\"fMarkerStyle\":1,\"fMarkerSize\":1,\"fNcells\":102,\"fXaxis\":{\"_typename\":\"TAxis\",\"fUniqueID\":0,\"fBits\":50331648,\"fName\":\"xaxis\",\"fTitle\":\"Phi\",\"fNdivisions\":510,\"fAxisColor\":1,\"fLabelColor\":1,\"fLabelFont\":42,\"fLabelOffset\":0.005,\"fLabelSize\":0.035,\"fTickLength\":0.03,\"fTitleOffset\":1,\"fTitleSize\":0.035,\"fTitleColor\":1,\"fTitleFont\":42,\"fNbins\":100,\"fXmin\":-180,\"fXmax\":180,\"fXbins\":[],\"fFirst\":0,\"fLast\":0,\"fBits2\":0,\"fTimeDisplay\":false,\"fTimeFormat\":\"\",\"fLabels\":null,\"fModLabs\":null},\"fYaxis\":{\"_typename\":\"TAxis\",\"fUniqueID\":0,\"fBits\":50331648,\"fName\":\"yaxis\",\"fTitle\":\"\",\"fNdivisions\":510,\"fAxisColor\":1,\"fLabelColor\":1,\"fLabelFont\":42,\"fLabelOffset\":0.005,\"fLabelSize\":0.035,\"fTickLength\":0.03,\"fTitleOffset\":0,\"fTitleSize\":0.035,\"fTitleColor\":1,\"fTitleFont\":42,\"fNbins\":1,\"fXmin\":0,\"fXmax\":1,\"fXbins\":[],\"fFirst\":0,\"fLast\":0,\"fBits2\":0,\"fTimeDisplay\":false,\"fTimeFormat\":\"\",\"fLabels\":null,\"fModLabs\":null},\"fZaxis\":{\"_typename\":\"TAxis\",\"fUniqueID\":0,\"fBits\":50331648,\"fName\":\"zaxis\",\"fTitle\":\"\",\"fNdivisions\":510,\"fAxisColor\":1,\"fLabelColor\":1,\"fLabelFont\":42,\"fLabelOffset\":0.005,\"fLabelSize\":0.035,\"fTickLength\":0.03,\"fTitleOffset\":1,\"fTitleSize\":0.035,\"fTitleColor\":1,\"fTitleFont\":42,\"fNbins\":1,\"fXmin\":0,\"fXmax\":1,\"fXbins\":[],\"fFirst\":0,\"fLast\":0,\"fBits2\":0,\"fTimeDisplay\":false,\"fTimeFormat\":\"\",\"fLabels\":null,\"fModLabs\":null},\"fBarOffset\":0,\"fBarWidth\":1000,\"fEntries\":50067,\"fTsumw\":25098.0182619077,\"fTsumw2\":36422.2491803474,\"fTsumwx\":-286911.484460827,\"fTsumwx2\":259819447.352178,\"fMaximum\":-1111,\"fMinimum\":-1111,\"fNormFactor\":0,\"fContour\":[],\"fSumw2\":[0,303.457530514159,284.416048314068,355.808024016026,330.917915768298,378.172885493822,381.517656173569,389.593207675976,395.250670995672,470.211463660232,396.401778466548,455.737843802908,484.532561325867,480.392345399657,457.996527740355,491.977494063904,505.012847584993,518.735410653589,513.76073190917,481.914305109288,493.97910907517,490.772197089468,462.3506248209,488.463055824793,467.231389198974,414.936409389531,440.458273997398,402.588132041555,394.056449747418,355.586421688288,392.032991180371,340.514617581936,342.161309782689,300.217997669628,305.550048434004,287.200478811192,288.095743868178,241.904589902217,219.451765395437,225.992168303444,225.78896368775,235.513435096562,212.074696404615,217.364896075881,219.514638031817,232.358724159069,225.589360930872,259.837816757766,237.319220806536,272.001611638085,269.576946287568,269.358800610276,345.906929675865,340.738252226015,310.525048330682,387.259106499865,378.8843017015,394.249774543366,398.061177795077,487.556912279503,445.291150848186,450.534984388202,478.611804949244,486.089736734736,518.900974067829,529.170760536876,486.835333555591,511.684692770842,502.053998589413,505.304279997354,494.880015355791,456.668454888933,482.017078506402,469.308641651077,464.372140941757,463.920137425345,425.633030655,411.492061005002,399.165894203788,418.780497155826,384.916507267302,343.723324174768,345.228387041039,347.951813898756,272.780790799925,277.280267825672,262.941847491935,255.740018560376,264.863505866905,232.04722860682,215.122741624001,199.988027936818,245.894081310692,247.432529691577,201.37328540571,251.265482163983,246.61132629669,243.513297045062,290.865452604063,263.77496432521,279.386996173392,0],\"fOption\":\"\",\"fFunctions\":{\"_typename\":\"TList\",\"name\":\"TList\",\"arr\":[],\"opt\":[]},\"fBufferSize\":0,\"fBuffer\":[],\"fBinStatErrOpt\":0,\"fStatOverflows\":2,\"fArray\":[0,185.2925,169.8623,230.1354,226.793,246.3924,271.3245,275.9234,287.5293,348.4805,278.5794,340.2033,347.2974,374.9417,344.5738,373.9916,385.6295,391.7774,392.8499,363.9238,372.7568,373.3006,342.6137,366.2651,344.3607,301.2901,334.5047,296.9692,283.6568,228.7741,278.8565,226.6055,243.3667,190.118,202.7473,178.5988,185.9208,145.7124,112.4813,119.7351,115.7733,129.8005,105.4477,124.6532,111.3926,124.1377,118.6578,148.5473,127.8339,164.4599,166.7432,162.2105,246.2413,220.6465,204.0699,268.0855,254.942,278.1805,282.2451,360.0001,332.8973,334.5286,367.2297,365.5034,378.8431,393.6649,364.8978,386.5498,370.8721,384.9243,376.7787,344.2966,365.198,346.9738,339.4458,348.3285,297.0746,291.1194,280.6945,309.4143,265.2189,238.3429,220.6644,226.9511,168.6722,190.1035,158.3208,151.8764,147.3138,128.501,122.0594,98.28426,139.3203,146.3148,110.3589,138.6084,116.0548,140.2944,199.3621,162.3109,171.6481,0]},{\"_typename\":\"TH1F\",\"fUniqueID\":0,\"fBits\":50331657,\"fName\":\"htemp\",\"fTitle\":\"Phi {Signal*(PolState==1)}\",\"fLineColor\":602,\"fLineStyle\":1,\"fLineWidth\":1,\"fFillColor\":0,\"fFillStyle\":1001,\"fMarkerColor\":1,\"fMarkerStyle\":1,\"fMarkerSize\":1,\"fNcells\":102,\"fXaxis\":{\"_typename\":\"TAxis\",\"fUniqueID\":0,\"fBits\":50331648,\"fName\":\"xaxis\",\"fTitle\":\"Phi\",\"fNdivisions\":510,\"fAxisColor\":1,\"fLabelColor\":1,\"fLabelFont\":42,\"fLabelOffset\":0.005,\"fLabelSize\":0.035,\"fTickLength\":0.03,\"fTitleOffset\":1,\"fTitleSize\":0.035,\"fTitleColor\":1,\"fTitleFont\":42,\"fNbins\":100,\"fXmin\":-180,\"fXmax\":180,\"fXbins\":[],\"fFirst\":0,\"fLast\":0,\"fBits2\":0,\"fTimeDisplay\":false,\"fTimeFormat\":\"\",\"fLabels\":null,\"fModLabs\":null},\"fYaxis\":{\"_typename\":\"TAxis\",\"fUniqueID\":0,\"fBits\":50331648,\"fName\":\"yaxis\",\"fTitle\":\"\",\"fNdivisions\":510,\"fAxisColor\":1,\"fLabelColor\":1,\"fLabelFont\":42,\"fLabelOffset\":0.005,\"fLabelSize\":0.035,\"fTickLength\":0.03,\"fTitleOffset\":0,\"fTitleSize\":0.035,\"fTitleColor\":1,\"fTitleFont\":42,\"fNbins\":1,\"fXmin\":0,\"fXmax\":1,\"fXbins\":[],\"fFirst\":0,\"fLast\":0,\"fBits2\":0,\"fTimeDisplay\":false,\"fTimeFormat\":\"\",\"fLabels\":null,\"fModLabs\":null},\"fZaxis\":{\"_typename\":\"TAxis\",\"fUniqueID\":0,\"fBits\":50331648,\"fName\":\"zaxis\",\"fTitle\":\"\",\"fNdivisions\":510,\"fAxisColor\":1,\"fLabelColor\":1,\"fLabelFont\":42,\"fLabelOffset\":0.005,\"fLabelSize\":0.035,\"fTickLength\":0.03,\"fTitleOffset\":1,\"fTitleSize\":0.035,\"fTitleColor\":1,\"fTitleFont\":42,\"fNbins\":1,\"fXmin\":0,\"fXmax\":1,\"fXbins\":[],\"fFirst\":0,\"fLast\":0,\"fBits2\":0,\"fTimeDisplay\":false,\"fTimeFormat\":\"\",\"fLabels\":null,\"fModLabs\":null},\"fBarOffset\":0,\"fBarWidth\":1000,\"fEntries\":49933,\"fTsumw\":24942.2325714379,\"fTsumw2\":36262.6782266531,\"fTsumwx\":328047.025517033,\"fTsumwx2\":283307018.797312,\"fMaximum\":-1111,\"fMinimum\":-1111,\"fNormFactor\":0,\"fContour\":[],\"fSumw2\":[0,435.071030954845,437.697273743543,429.359991888705,367.926971302367,374.871580145161,337.689763822385,305.755018218464,344.214778004064,287.425648913539,272.640771389885,267.011912346542,267.741680900542,249.510406347647,221.106084597971,229.21711986632,225.595986847985,188.024751799911,251.649346831087,221.928518074072,202.652816762404,216.58161053926,233.693972293243,247.93524139828,264.2653790311,262.47379643266,283.748251379535,306.985072353151,338.457943912128,331.434609842982,357.54989431816,393.02525391656,389.430047384075,416.734238936325,444.764752924684,436.505528020905,488.399702423037,484.35941721379,491.700554100386,486.843777342725,500.554824331189,489.442644659713,480.221839202712,510.000860438239,506.210984800892,502.992144245295,466.911196388494,496.710733479163,436.456475299572,476.15554873525,468.526426473787,434.550007860127,404.619426224082,415.286634216909,372.955105386052,383.147172451872,365.549521206576,347.828021986057,285.423349014503,278.7711508334,271.906974607115,253.556541983614,272.287271458868,244.030449985151,204.915998053745,227.510221732694,243.00676254049,223.146491212155,214.294290528864,221.245188215804,231.794215418348,257.14152153173,227.962784758866,248.593346757716,279.995882454672,258.781243326123,266.844145148279,310.086750097867,314.330988842866,310.079875868896,357.617969417901,387.491747036413,394.615946125395,401.904384716902,473.884117320887,408.006412398228,427.683063156307,459.655858147503,499.947076901451,466.591777841053,498.520067044508,512.915368257983,494.537282934217,546.968253766394,505.533285629657,501.980926055967,509.371749808032,494.959315187068,440.285220762425,508.935666032269,475.46722983454,0],\"fOption\":\"\",\"fFunctions\":{\"_typename\":\"TList\",\"name\":\"TList\",\"arr\":[],\"opt\":[]},\"fBufferSize\":0,\"fBuffer\":[],\"fBinStatErrOpt\":0,\"fStatOverflows\":2,\"fArray\":[0,302.5368,319.8915,312.7845,257.1477,270.7492,228.2181,192.8497,233.7817,180.8351,166.4871,158.5703,163.6614,133.6671,125.4976,118.386,113.2621,93.57465,129.8948,119.8607,97.33066,128.7599,126.6539,140.0246,152.4533,152.4723,185.4931,188.9542,224.2227,215.3275,254.8849,277.0595,275.1881,283.0132,318.4651,319.6793,382.2599,355.8397,367.6374,378.6948,383.8286,372.9569,366.0528,379.8361,389.2911,388.1893,339.0042,376.7298,305.1617,349.6876,340.0272,296.7385,291.5107,302.4491,262.6867,274.272,245.93,234.2898,167.238,188.6425,155.8426,166.6956,159.0831,153.2036,115.4181,131.8598,137.1188,110.3745,101.9969,122.5164,116.8798,160.4075,118.3394,150.6462,172.9128,175.0808,157.0295,199.4357,220.3561,202.957,227.8009,259.9826,286.7024,274.6409,334.8938,290.0946,298.9041,352.2794,367.2851,350.2575,381.4107,380.4665,379.3956,427.5435,388.797,387.033,394.3052,372.501,331.5961,390.7112,336.8871,0]},{\"_typename\":\"TPaveText\",\"fUniqueID\":0,\"fBits\":50331657,\"fLineColor\":1,\"fLineStyle\":1,\"fLineWidth\":1,\"fFillColor\":0,\"fFillStyle\":0,\"fX1\":-28.745690060936,\"fY1\":663.752781476541,\"fX2\":28.7456900609361,\"fY2\":707.212785777285,\"fX1NDC\":0.436120689705351,\"fY1NDC\":0.940000003948808,\"fX2NDC\":0.563879310294649,\"fY2NDC\":0.995000004768372,\"fBorderSize\":0,\"fInit\":1,\"fShadowColor\":1,\"fCornerRadius\":0,\"fOption\":\"blNDC\",\"fName\":\"title\",\"fTextAngle\":0,\"fTextSize\":0,\"fTextAlign\":22,\"fTextColor\":1,\"fTextFont\":42,\"fLabel\":\"\",\"fLongest\":4,\"fMargin\":0.05,\"fLines\":{\"_typename\":\"TList\",\"name\":\"TList\",\"arr\":[{\"_typename\":\"TLatex\",\"fUniqueID\":0,\"fBits\":50331648,\"fName\":\"\",\"fTitle\":\"hPhi\",\"fTextAngle\":0,\"fTextSize\":0,\"fTextAlign\":0,\"fTextColor\":0,\"fTextFont\":0,\"fX\":0,\"fY\":0,\"fLineColor\":1,\"fLineStyle\":1,\"fLineWidth\":2,\"fLimitFactorSize\":3,\"fOriginSize\":0.0467500016093254}],\"opt\":[\"\"]}}],\"opt\":[\"\",\"\",\"same\",\"same\",\"blNDC\"]},\"fExecs\":{\"_typename\":\"TList\",\"name\":\"TList\",\"arr\":[],\"opt\":[]},\"fName\":\"c1_1\",\"fTitle\":\"c1_1\",\"fNumPaletteColor\":0,\"fNextPaletteColor\":0},{\"_typename\":\"TPad\",\"fUniqueID\":0,\"fBits\":50331657,\"fLineColor\":1,\"fLineStyle\":1,\"fLineWidth\":1,\"fFillColor\":0,\"fFillStyle\":1001,\"fLeftMargin\":0.1,\"fRightMargin\":0.1,\"fBottomMargin\":0.1,\"fTopMargin\":0.1,\"fXfile\":2,\"fYfile\":2,\"fAfile\":1,\"fXstat\":0.99,\"fYstat\":0.99,\"fAstat\":2,\"fFrameFillColor\":0,\"fFrameLineColor\":1,\"fFrameFillStyle\":1001,\"fFrameLineStyle\":1,\"fFrameLineWidth\":1,\"fFrameBorderSize\":1,\"fFrameBorderMode\":0,\"fX1\":-1.25000009313226,\"fY1\":-177.012833006365,\"fX2\":11.2500000931323,\"fY2\":1593.11539154941,\"fXtoAbsPixelk\":388.368051866818,\"fXtoPixelk\":33.4080520223857,\"fXtoPixel\":26.7263996266365,\"fYtoAbsPixelk\":421.024047327328,\"fYtoPixelk\":416.304047432828,\"fYtoPixel\":-0.261314402987434,\"fUtoAbsPixelk\":354.960049844432,\"fUtoPixelk\":5e-5,\"fUtoPixel\":334.080000311136,\"fVtoAbsPixelk\":467.2800501055,\"fVtoPixelk\":462.560000211,\"fVtoPixel\":-462.560000211,\"fAbsPixeltoXk\":-14.5312502728484,\"fPixeltoXk\":-1.25000009313226,\"fPixeltoX\":0.0374161882621617,\"fAbsPixeltoYk\":1611.17792404108,\"fPixeltoYk\":-177.012833006365,\"fPixeltoY\":-3.82680781682013,\"fXlowNDC\":0.509999999776483,\"fYlowNDC\":0.00999999977648258,\"fXUpNDC\":0,\"fYUpNDC\":0,\"fWNDC\":0.480000000447035,\"fHNDC\":0.980000000447035,\"fAbsXlowNDC\":0.509999999776483,\"fAbsYlowNDC\":0.00999999977648258,\"fAbsWNDC\":0.480000000447035,\"fAbsHNDC\":0.980000000447035,\"fUxmin\":0,\"fUymin\":0,\"fUxmax\":10,\"fUymax\":1416.10255854305,\"fTheta\":30,\"fPhi\":30,\"fAspectRatio\":0,\"fNumber\":2,\"fTickx\":0,\"fTicky\":0,\"fLogx\":0,\"fLogy\":0,\"fLogz\":0,\"fPadPaint\":0,\"fCrosshair\":0,\"fCrosshairPos\":0,\"fBorderSize\":2,\"fBorderMode\":0,\"fModified\":false,\"fGridx\":false,\"fGridy\":false,\"fAbsCoord\":false,\"fEditable\":true,\"fFixedAspectRatio\":false,\"fPrimitives\":{\"_typename\":\"TList\",\"name\":\"TList\",\"arr\":[{\"_typename\":\"TFrame\",\"fUniqueID\":0,\"fBits\":50331656,\"fLineColor\":1,\"fLineStyle\":1,\"fLineWidth\":1,\"fFillColor\":0,\"fFillStyle\":1001,\"fX1\":0,\"fY1\":0,\"fX2\":10,\"fY2\":1416.10255854305,\"fBorderSize\":1,\"fBorderMode\":0},{\"_typename\":\"TH1F\",\"fUniqueID\":0,\"fBits\":50331656,\"fName\":\"hM1\",\"fTitle\":\"M1 {Signal*(1)}\",\"fLineColor\":602,\"fLineStyle\":1,\"fLineWidth\":1,\"fFillColor\":0,\"fFillStyle\":1001,\"fMarkerColor\":1,\"fMarkerStyle\":1,\"fMarkerSize\":1,\"fNcells\":102,\"fXaxis\":{\"_typename\":\"TAxis\",\"fUniqueID\":0,\"fBits\":50331648,\"fName\":\"xaxis\",\"fTitle\":\"\",\"fNdivisions\":510,\"fAxisColor\":1,\"fLabelColor\":1,\"fLabelFont\":42,\"fLabelOffset\":0.005,\"fLabelSize\":0.035,\"fTickLength\":0.03,\"fTitleOffset\":1,\"fTitleSize\":0.035,\"fTitleColor\":1,\"fTitleFont\":42,\"fNbins\":100,\"fXmin\":0,\"fXmax\":10,\"fXbins\":[],\"fFirst\":0,\"fLast\":0,\"fBits2\":0,\"fTimeDisplay\":false,\"fTimeFormat\":\"\",\"fLabels\":null,\"fModLabs\":null},\"fYaxis\":{\"_typename\":\"TAxis\",\"fUniqueID\":0,\"fBits\":50331648,\"fName\":\"yaxis\",\"fTitle\":\"\",\"fNdivisions\":510,\"fAxisColor\":1,\"fLabelColor\":1,\"fLabelFont\":42,\"fLabelOffset\":0.005,\"fLabelSize\":0.035,\"fTickLength\":0.03,\"fTitleOffset\":0,\"fTitleSize\":0.035,\"fTitleColor\":1,\"fTitleFont\":42,\"fNbins\":1,\"fXmin\":0,\"fXmax\":1,\"fXbins\":[],\"fFirst\":0,\"fLast\":0,\"fBits2\":0,\"fTimeDisplay\":false,\"fTimeFormat\":\"\",\"fLabels\":null,\"fModLabs\":null},\"fZaxis\":{\"_typename\":\"TAxis\",\"fUniqueID\":0,\"fBits\":50331648,\"fName\":\"zaxis\",\"fTitle\":\"\",\"fNdivisions\":510,\"fAxisColor\":1,\"fLabelColor\":1,\"fLabelFont\":42,\"fLabelOffset\":0.005,\"fLabelSize\":0.035,\"fTickLength\":0.03,\"fTitleOffset\":1,\"fTitleSize\":0.035,\"fTitleColor\":1,\"fTitleFont\":42,\"fNbins\":1,\"fXmin\":0,\"fXmax\":1,\"fXbins\":[],\"fFirst\":0,\"fLast\":0,\"fBits2\":0,\"fTimeDisplay\":false,\"fTimeFormat\":\"\",\"fLabels\":null,\"fModLabs\":null},\"fBarOffset\":0,\"fBarWidth\":1000,\"fEntries\":100000,\"fTsumw\":50040.250833346,\"fTsumw2\":72684.9274070006,\"fTsumwx\":267059.101238058,\"fTsumwx2\":1721835.66432953,\"fMaximum\":-1111,\"fMinimum\":-1111,\"fNormFactor\":0,\"fContour\":[],\"fSumw2\":[0,375.685855320156,381.676269844429,358.608244162591,360.67042039801,399.93721528771,351.10760354973,370.08539290587,354.634865654962,381.690991984551,367.621580861523,377.431602539404,359.857562956278,388.425149744365,387.457811397929,385.138819235137,363.616849306758,386.48539082279,385.97176816959,437.391801268607,462.679796589012,549.95134405462,713.76552127364,714.189342588814,868.751614157414,1026.66627238294,1176.46811918773,1239.8356748991,1421.91107809816,1465.48696664456,1554.2600091436,1618.52916136637,1619.51515058783,1474.86521842821,1317.40372933408,1289.41125377709,1103.88987913204,1023.54235074588,886.489392604733,744.711067561978,608.745646746105,687.437314207861,616.671225384205,606.158987565199,606.747233903711,594.118360752928,574.705257979266,656.449785502326,594.735502135021,639.420885418525,620.269627925026,677.213449346788,686.960482098926,706.976549854958,669.601642165496,739.710593214735,731.316021980006,772.049412548104,730.320715317098,777.799685278136,829.021562896034,788.47699544678,823.846329576684,800.117638323801,814.43148056989,838.166460894098,805.803206553988,860.059364522284,873.780791922617,951.170886245655,874.142512497676,931.641772727199,839.136682045292,882.21682057901,895.720508133692,885.740413432168,853.840535939041,868.220055185023,885.676353598386,794.306562302882,751.406930071702,752.166414648991,767.13446685153,718.668436367052,735.720486205632,669.598119803225,710.18820393965,674.126708288242,663.354206165949,654.382299797351,649.511957602574,602.525648963182,620.675684435479,572.541411385984,509.574074522359,488.852195326423,509.783821793668,451.383750256676,483.708068046004,430.23853571464,430.642536129448,0],\"fOption\":\"\",\"fFunctions\":{\"_typename\":\"TList\",\"name\":\"TList\",\"arr\":[{\"_typename\":\"TPaveStats\",\"fUniqueID\":0,\"fBits\":50331657,\"fLineColor\":1,\"fLineStyle\":1,\"fLineWidth\":1,\"fFillColor\":0,\"fFillStyle\":1001,\"fX1\":8.50000025331975,\"fY1\":1194.83655157515,\"fX2\":11.0000003278256,\"fY2\":1478.0570611736,\"fX1NDC\":0.780000016093254,\"fY1NDC\":0.775000005960464,\"fX2NDC\":0.980000019073486,\"fY2NDC\":0.935000002384186,\"fBorderSize\":1,\"fInit\":1,\"fShadowColor\":1,\"fCornerRadius\":0,\"fOption\":\"brNDC\",\"fName\":\"stats\",\"fTextAngle\":0,\"fTextSize\":0,\"fTextAlign\":12,\"fTextColor\":1,\"fTextFont\":42,\"fLabel\":\"\",\"fLongest\":18,\"fMargin\":0.05,\"fLines\":{\"_typename\":\"TList\",\"name\":\"TList\",\"arr\":[{\"_typename\":\"TLatex\",\"fUniqueID\":0,\"fBits\":50331648,\"fName\":\"\",\"fTitle\":\"hM1\",\"fTextAngle\":0,\"fTextSize\":0.0368,\"fTextAlign\":0,\"fTextColor\":0,\"fTextFont\":0,\"fX\":0,\"fY\":0,\"fLineColor\":1,\"fLineStyle\":1,\"fLineWidth\":2,\"fLimitFactorSize\":3,\"fOriginSize\":0.0368000008165836},{\"_typename\":\"TLatex\",\"fUniqueID\":0,\"fBits\":50331648,\"fName\":\"\",\"fTitle\":\"Entries = 100000 \",\"fTextAngle\":0,\"fTextSize\":0,\"fTextAlign\":0,\"fTextColor\":0,\"fTextFont\":0,\"fX\":0,\"fY\":0,\"fLineColor\":1,\"fLineStyle\":1,\"fLineWidth\":2,\"fLimitFactorSize\":3,\"fOriginSize\":0.04},{\"_typename\":\"TLatex\",\"fUniqueID\":0,\"fBits\":50331648,\"fName\":\"\",\"fTitle\":\"Mean  =  5.337\",\"fTextAngle\":0,\"fTextSize\":0,\"fTextAlign\":0,\"fTextColor\":0,\"fTextFont\":0,\"fX\":0,\"fY\":0,\"fLineColor\":1,\"fLineStyle\":1,\"fLineWidth\":2,\"fLimitFactorSize\":3,\"fOriginSize\":0.04},{\"_typename\":\"TLatex\",\"fUniqueID\":0,\"fBits\":50331648,\"fName\":\"\",\"fTitle\":\"Std Dev   =  2.434\",\"fTextAngle\":0,\"fTextSize\":0,\"fTextAlign\":0,\"fTextColor\":0,\"fTextFont\":0,\"fX\":0,\"fY\":0,\"fLineColor\":1,\"fLineStyle\":1,\"fLineWidth\":2,\"fLimitFactorSize\":3,\"fOriginSize\":0.04}],\"opt\":[\"\",\"\",\"\",\"\"]},\"fOptFit\":0,\"fOptStat\":1111,\"fFitFormat\":\"5.4g\",\"fStatFormat\":\"6.4g\",\"fParent\":{\"$ref\":33}}],\"opt\":[\"brNDC\"]},\"fBufferSize\":0,\"fBuffer\":[],\"fBinStatErrOpt\":0,\"fStatOverflows\":2,\"fArray\":[0,104.5383,127.31,81.3883,92.7572,142.3393,105.1945,121.0423,101.9689,107.0083,138.3392,130.8287,107.5659,160.3032,118.5678,150.8381,116.7101,155.501,128.2321,196.8793,225.0615,281.2605,442.7257,461.1438,621.347,756.7961,898.9602,943.9414,1127.27,1157.653,1250.149,1303.961,1308.426,1175.372,1039.556,997.9714,842.8318,760.3478,618.6699,477.6559,384.9787,450.6152,380.9551,383.0352,352.7506,365.3284,351.3296,394.1593,380.0035,433.7661,413.7527,462.104,476.929,500.7337,457.556,523.9026,516.1356,551.4589,532.8431,555.457,607.0878,565.0814,599.6617,586.9918,601.7298,624.0576,581.8599,658.9731,657.7213,713.4979,656.8991,703.6433,645.4166,671.0197,691.8758,679.8851,640.4529,668.2126,677.8948,612.2789,560.7651,546.1498,577.6227,548.1309,538.7857,494.1376,527.222,490.4614,488.0649,477.2478,467.9271,440.7902,432.7428,416.7495,361.9026,334.6275,342.2626,309.1819,330.9995,289.8479,274.187,0]},{\"_typename\":\"TH1F\",\"fUniqueID\":0,\"fBits\":50331657,\"fName\":\"htemp\",\"fTitle\":\"M1 {BG*(1)}\",\"fLineColor\":602,\"fLineStyle\":1,\"fLineWidth\":1,\"fFillColor\":0,\"fFillStyle\":1001,\"fMarkerColor\":1,\"fMarkerStyle\":1,\"fMarkerSize\":1,\"fNcells\":102,\"fXaxis\":{\"_typename\":\"TAxis\",\"fUniqueID\":0,\"fBits\":50331648,\"fName\":\"xaxis\",\"fTitle\":\"M1\",\"fNdivisions\":510,\"fAxisColor\":1,\"fLabelColor\":1,\"fLabelFont\":42,\"fLabelOffset\":0.005,\"fLabelSize\":0.035,\"fTickLength\":0.03,\"fTitleOffset\":1,\"fTitleSize\":0.035,\"fTitleColor\":1,\"fTitleFont\":42,\"fNbins\":100,\"fXmin\":0,\"fXmax\":10,\"fXbins\":[],\"fFirst\":0,\"fLast\":0,\"fBits2\":0,\"fTimeDisplay\":false,\"fTimeFormat\":\"\",\"fLabels\":null,\"fModLabs\":null},\"fYaxis\":{\"_typename\":\"TAxis\",\"fUniqueID\":0,\"fBits\":50331648,\"fName\":\"yaxis\",\"fTitle\":\"\",\"fNdivisions\":510,\"fAxisColor\":1,\"fLabelColor\":1,\"fLabelFont\":42,\"fLabelOffset\":0.005,\"fLabelSize\":0.035,\"fTickLength\":0.03,\"fTitleOffset\":0,\"fTitleSize\":0.035,\"fTitleColor\":1,\"fTitleFont\":42,\"fNbins\":1,\"fXmin\":0,\"fXmax\":1,\"fXbins\":[],\"fFirst\":0,\"fLast\":0,\"fBits2\":0,\"fTimeDisplay\":false,\"fTimeFormat\":\"\",\"fLabels\":null,\"fModLabs\":null},\"fZaxis\":{\"_typename\":\"TAxis\",\"fUniqueID\":0,\"fBits\":50331648,\"fName\":\"zaxis\",\"fTitle\":\"\",\"fNdivisions\":510,\"fAxisColor\":1,\"fLabelColor\":1,\"fLabelFont\":42,\"fLabelOffset\":0.005,\"fLabelSize\":0.035,\"fTickLength\":0.03,\"fTitleOffset\":1,\"fTitleSize\":0.035,\"fTitleColor\":1,\"fTitleFont\":42,\"fNbins\":1,\"fXmin\":0,\"fXmax\":1,\"fXbins\":[],\"fFirst\":0,\"fLast\":0,\"fBits2\":0,\"fTimeDisplay\":false,\"fTimeFormat\":\"\",\"fLabels\":null,\"fModLabs\":null},\"fBarOffset\":0,\"fBarWidth\":1000,\"fEntries\":100000,\"fTsumw\":49960.0706347227,\"fTsumw2\":72604.3416693918,\"fTsumwx\":222030.094382778,\"fTsumwx2\":1387661.76930166,\"fMaximum\":-1111,\"fMinimum\":-1111,\"fNormFactor\":0,\"fContour\":[],\"fSumw2\":[0,925.608476838545,888.055768595277,990.830956421347,952.155384224185,890.257911011309,878.718119359953,869.00011933936,898.696417369614,962.673760032088,846.94261044434,871.773697394468,908.725204869706,811.818152417069,949.321452139201,799.461986965824,874.196136163479,809.482853359351,897.506823053027,838.632839720307,811.556087411985,906.429164709326,874.313169656563,838.900955407571,799.056413404324,805.072901046632,845.546273338611,859.952277493433,872.368926682709,887.178363728305,889.961849040262,877.602910603115,854.662231442865,871.12137690235,820.2909404579,853.468064437616,798.224542148158,791.846528944732,846.148446789981,854.398518734015,746.787379442655,761.206405842305,762.760641568272,746.088034001105,838.245272876207,739.460368245357,750.045419763537,831.130349759843,698.727367702496,696.888036159133,703.764339131265,712.004869025804,694.101570064873,659.508193029793,701.489317507411,686.904375716506,674.043764823774,725.130421222644,635.634014679253,691.88445994602,685.845665302929,698.312974907167,664.522701154446,650.132159352562,654.971175628189,655.050604583475,693.083649509751,639.11283260901,673.337498924194,712.175213083648,655.343010013019,686.354344489615,607.302955198673,635.177929014974,578.967329643377,633.969006812359,689.934994068206,594.793233946137,616.886052185802,551.748545945357,582.874916794538,630.866023760905,589.887478671194,576.40624472339,594.148640792018,573.32210010479,564.74366836887,584.203615004412,547.223865866421,538.886290857819,547.656739083141,495.944763899756,589.188888483118,498.042278097397,464.768758766091,499.596388668606,543.257976266966,454.019558265847,502.708138338222,462.541948937098,509.268296660156,0],\"fOption\":\"\",\"fFunctions\":{\"_typename\":\"TList\",\"name\":\"TList\",\"arr\":[],\"opt\":[]},\"fBufferSize\":0,\"fBuffer\":[],\"fBinStatErrOpt\":0,\"fStatOverflows\":2,\"fArray\":[0,654.4634,633.6918,713.6129,684.2439,632.6622,632.8071,619.9594,646.0327,687.9936,617.6624,625.1731,656.4353,583.6985,680.4338,565.1636,627.2914,578.5008,639.7694,598.1227,573.9404,637.7419,603.2767,585.8595,551.6569,535.2089,568.0448,564.0643,577.7357,579.3534,585.8594,563.0449,543.5817,571.6361,542.4507,562.0355,537.1725,528.6575,578.3336,587.3477,523.0236,524.3879,527.0475,522.9677,584.2524,510.6739,526.6729,568.8433,483.999,491.2367,497.2503,496.8991,484.0738,453.2697,489.447,471.1005,458.8671,504.5445,438.1603,469.5462,463.916,474.9222,440.3425,437.0115,442.274,440.9464,469.1444,438.0309,457.2828,474.507,438.1045,458.361,413.5873,423.9848,375.128,428.119,476.5515,394.791,409.1096,369.725,392.2378,424.8537,400.3803,405.8727,397.218,397.8656,381.7813,400.5417,371.9379,361.7552,366.0757,334.2126,401.2595,342.2535,317.1,345.3748,375.7397,311.8201,350.0026,322.1539,352.815,0]},{\"_typename\":\"TPaveText\",\"fUniqueID\":0,\"fBits\":50331657,\"fLineColor\":1,\"fLineStyle\":1,\"fLineWidth\":1,\"fFillColor\":0,\"fFillStyle\":0,\"fX1\":2.63002870240765,\"fY1\":1486.90770506596,\"fX2\":7.36997129759235,\"fY2\":1584.26475886726,\"fX1NDC\":0.310402299017838,\"fY1NDC\":0.940000003948808,\"fX2NDC\":0.689597700982162,\"fY2NDC\":0.995000004768372,\"fBorderSize\":0,\"fInit\":1,\"fShadowColor\":1,\"fCornerRadius\":0,\"fOption\":\"blNDC\",\"fName\":\"title\",\"fTextAngle\":0,\"fTextSize\":0,\"fTextAlign\":22,\"fTextColor\":1,\"fTextFont\":42,\"fLabel\":\"\",\"fLongest\":15,\"fMargin\":0.05,\"fLines\":{\"_typename\":\"TList\",\"name\":\"TList\",\"arr\":[{\"_typename\":\"TLatex\",\"fUniqueID\":0,\"fBits\":50331648,\"fName\":\"\",\"fTitle\":\"M1 {Signal*(1)}\",\"fTextAngle\":0,\"fTextSize\":0,\"fTextAlign\":0,\"fTextColor\":0,\"fTextFont\":0,\"fX\":0,\"fY\":0,\"fLineColor\":1,\"fLineStyle\":1,\"fLineWidth\":2,\"fLimitFactorSize\":3,\"fOriginSize\":0.0467500016093254}],\"opt\":[\"\"]}}],\"opt\":[\"\",\"\",\"same\",\"blNDC\"]},\"fExecs\":{\"_typename\":\"TList\",\"name\":\"TList\",\"arr\":[],\"opt\":[]},\"fName\":\"c1_2\",\"fTitle\":\"c1_2\",\"fNumPaletteColor\":0,\"fNextPaletteColor\":0}],\"opt\":[\"\",\"\"]},\"fExecs\":null,\"fName\":\"c1\",\"fTitle\":\"c1\",\"fNumPaletteColor\":0,\"fNextPaletteColor\":0,\"fDISPLAY\":\"$DISPLAY\",\"fDoubleBuffer\":0,\"fRetained\":true,\"fXsizeUser\":0,\"fYsizeUser\":0,\"fXsizeReal\":20,\"fYsizeReal\":14.28571,\"fWindowTopX\":0,\"fWindowTopY\":0,\"fWindowWidth\":0,\"fWindowHeight\":0,\"fCw\":696,\"fCh\":472,\"fCatt\":{\"_typename\":\"TAttCanvas\",\"fXBetween\":2,\"fYBetween\":2,\"fTitleFromTop\":1.2,\"fXdate\":0.2,\"fYdate\":0.3,\"fAdate\":1},\"kMoveOpaque\":true,\"kResizeOpaque\":true,\"fHighLightColor\":2,\"fBatch\":true,\"kShowEventStatus\":false,\"kAutoExec\":true,\"kMenuBar\":true});\n",
       "       Core.draw(\"root_plot_2\", obj, \"\");\n",
       "     }\n",
       " );\n",
       "</script>\n"
      ],
      "text/plain": [
       "<IPython.core.display.HTML object>"
      ]
     },
     "metadata": {},
     "output_type": "display_data"
    },
    {
     "name": "stdout",
     "output_type": "stream",
     "text": [
      "FiledTree::~FiledTree()  tree name MyModel 100000 Data.root\n"
     ]
    }
   ],
   "source": [
    "auto* can=new TCanvas;\n",
    "can->Divide(2,1);\n",
    "can->cd(1);\n",
    "TH1F* hPhi=new TH1F(\"hPhi\",\"hPhi\",100,-180,180);\n",
    "RF.DrawWeighted(\"Phi>>hPhi\",\"Signal\");\n",
    "RF.DrawWeighted(\"Phi\",\"Signal\",\"PolState==-1\",\"same\");\n",
    "RF.DrawWeighted(\"Phi\",\"Signal\",\"PolState==1\",\"same\");\n",
    "hPhi->SetMinimum(0);\n",
    "\n",
    "can->cd(2);\n",
    "RF.DrawWeighted(\"M1>>hM1(100,0,10)\",\"Signal\");\n",
    "RF.DrawWeighted(\"M1\",\"BG\",\"\",\"same\");\n",
    "\n",
    "can->Draw();"
   ]
  },
  {
   "cell_type": "markdown",
   "metadata": {},
   "source": [
    "Now we can proceed to the main fit and use the sWeights  with the [Fit notebook](Fit.ipynb)"
   ]
  },
  {
   "cell_type": "code",
   "execution_count": null,
   "metadata": {},
   "outputs": [],
   "source": []
  }
 ],
 "metadata": {
  "kernelspec": {
   "display_name": "ROOT C++",
   "language": "c++",
   "name": "root"
  },
  "language_info": {
   "codemirror_mode": "text/x-c++src",
   "file_extension": ".C",
   "mimetype": " text/x-c++src",
   "name": "c++"
  }
 },
 "nbformat": 4,
 "nbformat_minor": 2
}
