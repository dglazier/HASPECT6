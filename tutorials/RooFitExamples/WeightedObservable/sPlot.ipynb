{
 "cells": [
  {
   "cell_type": "markdown",
   "metadata": {},
   "source": [
    "## Example sPlot  to create signal weights to be used in subsequent fit\n",
    "\n",
    "The weights will be stored in a ROOT file as part of a HS::Weights object. They can then be combined with the data on the fly when performing subsequent fits. It is also possible to merge with the data tree :\n",
    "    \n",
    "       Weights wgts;\n",
    "       wgts.LoadSaved(\"filename.root\",\"HSsWeights\");\n",
    "       wgts.AddToTree(tree);\n",
    "       \n",
    "If this is attempted in interactive ROOT you will also need to have loaded the classes (next line)\n",
    "\n",
    "First load the hs fit classes"
   ]
  },
  {
   "cell_type": "code",
   "execution_count": null,
   "metadata": {},
   "outputs": [],
   "source": [
    "gROOT->ProcessLine(\".x $HSCODE/hsfit/LoadFit.C+\")"
   ]
  },
  {
   "cell_type": "markdown",
   "metadata": {},
   "source": [
    "### Construct an sPlot object for running the fit\n",
    "\n",
    "Set an output directory for saving weights and plots and stdout. It is best to provide the full path as this can then be used with PROOF as well.\n",
    "\n",
    "I use the pwd variable to keep everything in the local directory, while applying the full path for PROOF."
   ]
  },
  {
   "cell_type": "code",
   "execution_count": null,
   "metadata": {},
   "outputs": [],
   "source": [
    "sPlot RF;\n",
    "TString pwd = TString(gSystem->Getenv(\"PWD\"))+\"/\";\n",
    "RF.SetUp().SetOutDir(pwd+\"sPlotFit\");"
   ]
  },
  {
   "cell_type": "markdown",
   "metadata": {},
   "source": [
    "### Set an observables\n",
    "\n",
    "These are the fit variables. In general you can fit in as many dimensions as you need by supplying more variables. \n",
    "\n",
    "Here we are going to fit the missing mass (Mmiss) between 0-10\n"
   ]
  },
  {
   "cell_type": "code",
   "execution_count": null,
   "metadata": {},
   "outputs": [],
   "source": [
    "///////////////////////////////Load Variables\n",
    "RF.SetUp().LoadVariable(\"Mmiss[0,10]\");//should be same name as variable in tree"
   ]
  },
  {
   "cell_type": "markdown",
   "metadata": {},
   "source": [
    "IMPORTANT here we set the event ID variable. Each event in your tree should have a unique id with which to synchronise with weights.\n",
    "    This is useful as it allows us to break the data up, perform seperate fits then combine the weights afterwards.\n",
    "    The weights are not written into the input tree, rather they are stored seperately (as HS::Weights) and combined when required. This allows you to use various sets of weights when performing fits or regenerate the weights after some corrections etc."
   ]
  },
  {
   "cell_type": "code",
   "execution_count": null,
   "metadata": {},
   "outputs": [],
   "source": [
    "RF.SetUp().SetIDBranchName(\"fgID\"); //this is set in Model1.C"
   ]
  },
  {
   "cell_type": "markdown",
   "metadata": {},
   "source": [
    "### Create a signal PDF\n",
    "\n",
    "The LoadSpecies Line adds the PDF Signal to the Extended Maximum Likelihood fit and creates a corresponding yield parameter Yld_Signal which will give the number of signal events in the data after the fit.\n",
    "Note, I did not have to directly load this PDF I could have created more PDFs and combined them to make a more complicated PDF shape first.\n",
    "\n",
    "We are just going to use a signal Gaussain with initial guess of mean 4 (with possible range 2-8), and sigma 1 (range 0.1-5)"
   ]
  },
  {
   "cell_type": "code",
   "execution_count": null,
   "metadata": {},
   "outputs": [],
   "source": [
    "//////////////////////////////Make signal PDF\n",
    "RF.SetUp().FactoryPDF(\"Gaussian::Signal( Mmiss, mean[4,2,8], sigma[1,0.1,5] )\");\n",
    "RF.SetUp().LoadSpeciesPDF(\"Signal\",1);"
   ]
  },
  {
   "cell_type": "markdown",
   "metadata": {},
   "source": [
    "### Create a background PDF\n",
    "\n",
    "Here we just use a quadratic Chebychev polynomial to describe a smooth background. You can add extra a2,a3,etc. to increase the degree of the polynomial"
   ]
  },
  {
   "cell_type": "code",
   "execution_count": null,
   "metadata": {},
   "outputs": [],
   "source": [
    "//////////////////////////////Make background PDF\n",
    "RF.SetUp().FactoryPDF(\"Chebychev::BG(Mmiss,{a0[-0.1,-1,1],a1[0.1,-1,1]})\");\n",
    "RF.SetUp().LoadSpeciesPDF(\"BG\",1);"
   ]
  },
  {
   "cell_type": "markdown",
   "metadata": {},
   "source": [
    "### Define Bins/Splits\n",
    "Often you wil want to split the data into distinct bins, in invariant mass or angle for example, and perform seperate fits to each bin. Here we can set as many different variables to split the data on as we like. Here we must use the Binner class accessed via RF.Bins() to propogate the splits into data and simulated events.\n",
    "\n",
    "The function LoadBinVars takes a variable to make bins out of which has to be in the data tree, the number of bins to make and the limits of the variable. Alternatively you can supply the variable name, number of bins and an array of bin edges as for TAxis.\n",
    "\n",
    "In this example we will not use splits, but you can test it by commenting out the line below. In this case after performing the individaul fits all weights will be combined into 1 file OUTDIR/Tweights.root"
   ]
  },
  {
   "cell_type": "code",
   "execution_count": null,
   "metadata": {},
   "outputs": [],
   "source": [
    "//RF.Bins().LoadBinVar(\"Eg\",5,3,4);"
   ]
  },
  {
   "cell_type": "markdown",
   "metadata": {},
   "source": [
    "### Load Data\n",
    "\n",
    "\n",
    "This just takes the treename \"MyModel\" and data file \"Data.root\" which were created in GenerateData"
   ]
  },
  {
   "cell_type": "code",
   "execution_count": null,
   "metadata": {},
   "outputs": [],
   "source": [
    "///////////////////////////Load Data\n",
    "RF.LoadData(\"MyModel\",\"Data.root\");"
   ]
  },
  {
   "cell_type": "markdown",
   "metadata": {},
   "source": [
    "Turn on javascript root for interactive plots (even when saved as html file!)"
   ]
  },
  {
   "cell_type": "code",
   "execution_count": null,
   "metadata": {},
   "outputs": [],
   "source": [
    "%jsroot"
   ]
  },
  {
   "cell_type": "markdown",
   "metadata": {},
   "source": [
    "### Run the fit.\n",
    "The test output will be redirected to your specified output directory (see code cell 2) as file logRooFit.txt. This will give full details of the fit.\n",
    "Here we will just report the final result, the weights and the plots of fit PDF overlayed on the data as well as the fit residuals and pulls.\n",
    "\n",
    "There are different options for running. \n",
    "To just run standard use Here::Go and the fits will just be performed within this interactive session, sequentially in the case of bins.\n",
    "\n",
    "Here::One(&RF,i) will run one singal fit from the different bins produce with LoadBinVars, where i gives the index of the bin\n",
    "\n",
    "Use Proof::Go(&RF,N) and the fits will be run in parallel via PROOF with each split/bin running on a different core, where N = number of cores to use.\n",
    "    "
   ]
  },
  {
   "cell_type": "code",
   "execution_count": null,
   "metadata": {},
   "outputs": [],
   "source": [
    "Here::Go(&RF);\n",
    "//Here::One(&RF,3);\n",
    "//Proof::Go(&RF,1);"
   ]
  },
  {
   "cell_type": "markdown",
   "metadata": {},
   "source": [
    "### Draw some weighted variables\n",
    "\n",
    "I can now use the resulting weights to make sPlots of the other variables in the tree, disentangling signal from background. \n",
    "I use the DrawWeighted function which takes standard TTree::Draw option for first argument and the weight species with the second (i.e. here I could plot Signal or BG) .\n",
    "\n",
    "Additionally you can add cut condition with the third argument and a hist draw option with the fourth.\n",
    "\n",
    "Here we can see the background subtracted \\phi distributions for the 2 different polarisation states.\n",
    "\n",
    "If splits were defined with LoadBinVars, then calling draw weighted automatically calls sPlot::MergeWeights() which combines all the weights into 1 file so they can be used on the full original tree. You may want to call MErgeWeights in the case you do not want to draw anything so at least the merged weights file is produced.\n",
    "\n"
   ]
  },
  {
   "cell_type": "code",
   "execution_count": null,
   "metadata": {
    "scrolled": false
   },
   "outputs": [],
   "source": [
    "auto* can=new TCanvas;\n",
    "can->Divide(2,1);\n",
    "can->cd(1);\n",
    "TH1F* hPhi=new TH1F(\"hPhi\",\"hPhi\",100,-180,180);\n",
    "RF.DrawWeighted(\"Phi>>hPhi\",\"Signal\");\n",
    "RF.DrawWeighted(\"Phi\",\"Signal\",\"PolState==-1\",\"same\");\n",
    "RF.DrawWeighted(\"Phi\",\"Signal\",\"PolState==1\",\"same\");\n",
    "hPhi->SetMinimum(0);\n",
    "\n",
    "can->cd(2);\n",
    "RF.DrawWeighted(\"M1>>hM1(100,0,10)\",\"Signal\");\n",
    "RF.DrawWeighted(\"M1\",\"BG\",\"\",\"same\");\n",
    "\n",
    "can->Draw();"
   ]
  },
  {
   "cell_type": "markdown",
   "metadata": {},
   "source": [
    "Now we can proceed to the main fit and use the sWeights  with the [Fit notebook](Fit.ipynb)"
   ]
  },
  {
   "cell_type": "code",
   "execution_count": null,
   "metadata": {},
   "outputs": [],
   "source": []
  }
 ],
 "metadata": {
  "kernelspec": {
   "display_name": "ROOT C++",
   "language": "c++",
   "name": "root"
  },
  "language_info": {
   "codemirror_mode": "text/x-c++src",
   "file_extension": ".C",
   "mimetype": " text/x-c++src",
   "name": "c++"
  }
 },
 "nbformat": 4,
 "nbformat_minor": 2
}
