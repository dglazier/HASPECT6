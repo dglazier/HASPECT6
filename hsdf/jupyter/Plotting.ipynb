{
 "cells": [
  {
   "cell_type": "code",
   "execution_count": null,
   "metadata": {},
   "outputs": [],
   "source": [
    "gROOT->ProcessLine(\".x $HSCODE/hsdf/LoadDF.C+\");"
   ]
  },
  {
   "cell_type": "code",
   "execution_count": null,
   "metadata": {},
   "outputs": [],
   "source": [
    "HistMaker hm2(\"ParticleVars\",\"/work/dump/test5.root\",\"hists.root\");\n",
    "hm2.AddAxis(\"BeamP\",3,0,3);\n",
    "hm2.AddAxis(\"MissMass\",4,-3,3);\n",
    "hm2.AddCut(\"test1\",\"BeamTime>0\");\n"
   ]
  },
  {
   "cell_type": "code",
   "execution_count": null,
   "metadata": {},
   "outputs": [],
   "source": [
    "hm2.ApplyFullSplits();\n",
    "hm2.ApplySingleSplits();\n",
    "hm2.ConfigureFileDirs();\n"
   ]
  },
  {
   "cell_type": "code",
   "execution_count": null,
   "metadata": {},
   "outputs": [],
   "source": [
    "hm2.Histo1D(\"BeamTime\",\"Beam Time\",100,-5,5);\n",
    "hm2.Histo1D(\"ProtonTime\",\"Proton Time\",100,-5,5);\n",
    "hm2.Histo1D(\"KpTime\",\"K+ Time\",100,-5,5);\n",
    "hm2.Histo2D(\"KpTime\",\"KpP\",\"K+ P V Time\",50,-5,5,50,0,2);\n"
   ]
  },
  {
   "cell_type": "code",
   "execution_count": null,
   "metadata": {},
   "outputs": [],
   "source": [
    "hm2.SaveHists();\n",
    "  "
   ]
  },
  {
   "cell_type": "code",
   "execution_count": null,
   "metadata": {},
   "outputs": [],
   "source": [
    "%jsroot"
   ]
  },
  {
   "cell_type": "code",
   "execution_count": null,
   "metadata": {},
   "outputs": [],
   "source": [
    "Canvaser c(\"hists.root\");\n",
    "c.DrawAllDirectories(2,2)\n"
   ]
  }
 ],
 "metadata": {
  "kernelspec": {
   "display_name": "ROOT C++",
   "language": "c++",
   "name": "root"
  },
  "language_info": {
   "codemirror_mode": "text/x-c++src",
   "file_extension": ".C",
   "mimetype": " text/x-c++src",
   "name": "c++"
  }
 },
 "nbformat": 4,
 "nbformat_minor": 2
}
