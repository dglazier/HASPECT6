{
 "cells": [
  {
   "cell_type": "code",
   "execution_count": null,
   "metadata": {},
   "outputs": [],
   "source": [
    "gROOT->ProcessLine(\".x $HSCODE/hsdf/LoadDF.C+\");"
   ]
  },
  {
   "cell_type": "markdown",
   "metadata": {},
   "source": [
    "Once we have loaded the histogram maker classes we can prepare to make histograms\n",
    "\n",
    "We must create a Histmaker giving it the name of the tree in the ROOT file, the root file with the tree, the ouput file for storing histograms."
   ]
  },
  {
   "cell_type": "code",
   "execution_count": null,
   "metadata": {},
   "outputs": [],
   "source": [
    "HistMaker hm0(\"treename\",\"root/file.root\",\"hists.root\");"
   ]
  },
  {
   "cell_type": "markdown",
   "metadata": {},
   "source": [
    "## Make histograms for different splits of a variable\n",
    "\n",
    "e.g. split data in beam energy bins\n",
    "\n",
    "Now you can add an data split axis. This will make a seperate histogram for each region you define, e.g.\n",
    "\n",
    "        hm0.AddAxis(\"ElectronP\",4,0,12);  //will make 4 sets of histograms split in ElectronP between 0 and 12 "
   ]
  },
  {
   "cell_type": "code",
   "execution_count": null,
   "metadata": {},
   "outputs": [],
   "source": [
    "hm0.AddAxis(\"myVariable1\",4,0,12);\n",
    "///or use hm0.AddAxis(\"myVariable2\",5,edges); //where edges is an array, as for TAxis "
   ]
  },
  {
   "cell_type": "markdown",
   "metadata": {},
   "source": [
    "## Apply different cuts to the histograms\n",
    "\n",
    "e.g. exclusivity cuts, cut on different electron detectors, etc...\n",
    "\n",
    "You need to give the cut a name and a condition based on one or more variables from the tree\n",
    "\n",
    "        hm0.AddCut(\"CutName\",\"Cut condition\")"
   ]
  },
  {
   "cell_type": "code",
   "execution_count": null,
   "metadata": {},
   "outputs": [],
   "source": [
    "hm2.AddCut(\"ExcCut\",\"TMath::Abs(myExclusiveVariable)<0.1\");"
   ]
  },
  {
   "cell_type": "markdown",
   "metadata": {},
   "source": [
    "If we have several split axis we can choose to nest the splits into ever smaller regions : ApplyFullSplits ; and/or just project along one axis at a time :ApplySingleSplits"
   ]
  },
  {
   "cell_type": "code",
   "execution_count": null,
   "metadata": {},
   "outputs": [],
   "source": [
    "hm0.ApplyFullSplits();\n",
    "hm0.ApplySingleSplits();"
   ]
  },
  {
   "cell_type": "markdown",
   "metadata": {},
   "source": [
    "## Define your histograms\n",
    "\n",
    "Define your histograms. These will be cloned for each data split region and cut you have defined.\n",
    "You can make 1D histogram of myHistVar1 :\n",
    "        \n",
    "        hm0.Histo1D(\"myHistVar1\",\"title for var1 histogram \",100,-5,5);\n",
    "\n",
    "Where Nbins=100; min=-5, max=5\n",
    "\n",
    "Or 2D histogram \n",
    "\n",
    "        hm0.Histo2D(\"myHistVar1\",\"myHistVar2\",\"title for the 2D histogram\",50,-10,10,50,0,10);\n",
    "        \n",
    "And nbinsX=50; minX=-50, macX=50; nbinsY=50, minY=0; maxY=10"
   ]
  },
  {
   "cell_type": "code",
   "execution_count": null,
   "metadata": {},
   "outputs": [],
   "source": [
    "hm0.Histo1D(\"ElectronTime\",\"Electron Time\",100,-5,5);\n",
    "hm0.Histo2D(\"ProtonTime\",\"ProtonP\",\"Proton P V Time\",50,-10,10,50,0,10);\n"
   ]
  },
  {
   "cell_type": "markdown",
   "metadata": {},
   "source": [
    "Save the histograms to a file for plotting at your leisure"
   ]
  },
  {
   "cell_type": "code",
   "execution_count": null,
   "metadata": {},
   "outputs": [],
   "source": [
    "hm0.SaveHists();"
   ]
  },
  {
   "cell_type": "markdown",
   "metadata": {},
   "source": [
    "Turn on javascript ROOT (its very good!)"
   ]
  },
  {
   "cell_type": "code",
   "execution_count": null,
   "metadata": {},
   "outputs": [],
   "source": [
    "%jsroot"
   ]
  },
  {
   "cell_type": "markdown",
   "metadata": {},
   "source": [
    "## Draw Histograms on notebook\n",
    "The canvaser just loops through the histograms in the saved file and plots them here. You only need to give it the output file name from the HistMaker.\n",
    "\n",
    "When drawing you can choose how many pads to create in the canvas, e.g. DrawAllDirectories(2,2); Gives 2x2 canvas. This only applies to defined histograms, so if you oly defined 3 one pad would be blank and it will amke a new canvas for the next split or cut.  "
   ]
  },
  {
   "cell_type": "code",
   "execution_count": null,
   "metadata": {
    "scrolled": false
   },
   "outputs": [],
   "source": [
    "Canvaser c(\"hists.root\");\n",
    "c.DrawAllDirectories(2,2)"
   ]
  },
  {
   "cell_type": "markdown",
   "metadata": {},
   "source": [
    "If you had sereral topologies and you wanted to make the same plots you can just clone the HistMaker with different file names."
   ]
  },
  {
   "cell_type": "code",
   "execution_count": null,
   "metadata": {},
   "outputs": [],
   "source": [
    "auto hm1=hm0.CloneWithNewFile(\"files/file1.root\",\"hists1.root\");"
   ]
  },
  {
   "cell_type": "code",
   "execution_count": null,
   "metadata": {},
   "outputs": [],
   "source": [
    "Canvaser c1(\"hists1.root\");\n",
    "c1.DrawAllDirectories(2,2)"
   ]
  },
  {
   "cell_type": "code",
   "execution_count": null,
   "metadata": {},
   "outputs": [],
   "source": []
  }
 ],
 "metadata": {
  "kernelspec": {
   "display_name": "ROOT C++",
   "language": "c++",
   "name": "root"
  },
  "language_info": {
   "codemirror_mode": "text/x-c++src",
   "file_extension": ".C",
   "mimetype": " text/x-c++src",
   "name": "c++"
  }
 },
 "nbformat": 4,
 "nbformat_minor": 2
}
