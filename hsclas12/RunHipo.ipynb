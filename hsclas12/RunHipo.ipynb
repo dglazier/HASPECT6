{
 "cells": [
  {
   "cell_type": "markdown",
   "metadata": {},
   "source": [
    "# Run the final state algorithm on a ROOT HSDATA file"
   ]
  },
  {
   "cell_type": "markdown",
   "metadata": {},
   "source": [
    "First create an object of your final state class. You may configure it if you want to limit the number of particles in an event or set to just run on generated simulation data.\n",
    "This notebook is equivalent to the RunFSRootXXX.C macro which will be in the code directory.\n",
    "Again just change XXX for your class name.\n",
    "The string arguements set which particles you would like to use their pre-determined PID for and which you would like to be inclusive (i.e. any number of thse particles).\n",
    "**Example**, \n",
    "1. for tagged photon experiment I might want fs(\"Beam\",\"Beam\")\n",
    "This means use predetermined photon ID (i.e. I know it came from the tagger) and I will analyse events with any number of tagger photons.\n",
    "2. fs(\"e-\",\"proton:pi+:pi-\")  i.e. use predetemined electron PID and just determine hadron species based on charge and try all combinations in events with any number of proton,pi+,pi-, but with the number of electrons defined for the topology\n",
    "3. fs(\"NONE\",\"ALL\") => do not use any PID info other than charge, analyse events with any number of particles (this can be limited by SetMaxParticles)"
   ]
  },
  {
   "cell_type": "code",
   "execution_count": null,
   "metadata": {
    "scrolled": true
   },
   "outputs": [],
   "source": [
    "gROOT->ProcessLine(\".x LoadPi2.C+\"); //Load the classes"
   ]
  },
  {
   "cell_type": "code",
   "execution_count": null,
   "metadata": {},
   "outputs": [],
   "source": [
    " Pi2 fs(\"NONE\",\"ALL\"); //string arguments => PID, INCLUSIVE\n",
    "  // fs.SetGenerated(); //just analyse generated branch\n",
    "  // fs.SetMaxParticles(10); //max number of particles of any 1 type\n",
    " "
   ]
  },
  {
   "cell_type": "markdown",
   "metadata": {},
   "source": [
    "Create an output tree. Here we will use a FiledTree object which is a wrapper class to a tree in a file. We will also create this as a smart pointer so we can delete it at the end by calling reset(), this will save the tree to disk. The Filed tree needs 2 strings ,1 a treename and the other the file name. You should give the full path for where you would like the files saved. It will overwrite any existing files. "
   ]
  },
  {
   "cell_type": "code",
   "execution_count": null,
   "metadata": {},
   "outputs": [],
   "source": [
    "  //strings = treename and filename (give full path)\n",
    "  auto output = new FiledTree(\"FinalTree\",\"OutPUT.root\");\n",
    "  fs.FinalStateOutTree(output->Tree()); //connect ouput tree to final state branches"
   ]
  },
  {
   "cell_type": "markdown",
   "metadata": {},
   "source": [
    "Here we add the cuts for each particle. This is done via a HS::Cuts object which gets propogated to each particle in each topology. To specify any type of cut behaviour you need to generate your own Cuts Method. Here we just use a predefined delta time cut but you could make your won class which has momentum dependence as well."
   ]
  },
  {
   "cell_type": "markdown",
   "metadata": {},
   "source": [
    "Here I use a predefined CLAS12DeltaTime cuts class for PID. It takes 4 arguments which are cuts centred on zero for FT, FD, CD, FDCAL (for neutra) respectively.\n",
    "\n",
    "I define specific cuts for proton and electron, while restrict other particles (here just pions) to only be in CD."
   ]
  },
  {
   "cell_type": "code",
   "execution_count": null,
   "metadata": {},
   "outputs": [],
   "source": [
    "ParticleCutsManager cutsman;\n",
    "auto eCut=make_shared<CLAS12DeltaTime>(4,4,0,0); //4ns FT,FD\n",
    "auto protCut=make_shared<CLAS12DeltaTime>(0,5,5,0); //5ns FD,CD\n",
    "auto otherCut=make_shared<CLAS12DeltaTime>(0,5,0,0); //5ns FD\n",
    "cutsman.AddParticleCut(\"e-\",eCut); //assign to manager\n",
    "cutsman.AddParticleCut(\"proton\",protCut); //assign to manager\n",
    "cutsman.SetDefaultCut(otherCut); //assign to manager\n",
    "cutsman.ConfigureCuts(&fs);   "
   ]
  },
  {
   "cell_type": "markdown",
   "metadata": {},
   "source": [
    "Now register the cuts manager as a post topology function action. This will be applied after the Topo_0 etc functions when start times etc have been determined."
   ]
  },
  {
   "cell_type": "code",
   "execution_count": null,
   "metadata": {},
   "outputs": [],
   "source": [
    "fs.RegisterPostTopoAction(&cutsman);"
   ]
  },
  {
   "cell_type": "markdown",
   "metadata": {},
   "source": [
    "Now we configure the input data. Here we use a ROOT file presaved in HSDATA format. It is possible to analyse other dataformats via the DataManager class."
   ]
  },
  {
   "cell_type": "markdown",
   "metadata": {},
   "source": [
    "**Particle Monitoring** here we are going to make seperate trees for each topology and only keep the detected particle information in each one. The string given to TreePrepManager should be the full path to the output file directory. \n",
    "Note as this is registered as a post work action all cuts, including any in Pi2::Kinematics, will be applied."
   ]
  },
  {
   "cell_type": "code",
   "execution_count": null,
   "metadata": {},
   "outputs": [],
   "source": [
    "auto treeman=new TreePrepManager(\"particleTrees\");\n",
    "treeman->ConfigureTreeParticles(&fs); //propogate through topologies\n",
    "fs.RegisterPostWorkAction(treeman); //register post-work i.e. after kinematics is called and all calculations"
   ]
  },
  {
   "cell_type": "markdown",
   "metadata": {},
   "source": [
    "Now I want to analyse a hipo file so I am going to use the datamanager HipoTrigger which is for full banks files. If I want to analyse just DSTs I should use HipoDST instead of HipoTrigger"
   ]
  },
  {
   "cell_type": "code",
   "execution_count": null,
   "metadata": {},
   "outputs": [],
   "source": [
    " //create datamanager\n",
    "  auto dm=std::make_shared<HipoTrigger>();\n",
    "\n",
    "  //And make a chain of data files\n",
    "  TChain chain(\"HSParticles\");\n",
    "  chain.Add(\"/work/dump/out_clas_pin_004909.evio.00228.hipo\");\n",
    "  dm->InitChain(&chain);\n",
    "\n",
    "  //connect FinalState to Data by moving the pointer\n",
    "  fs.SetDataManager(dm);"
   ]
  },
  {
   "cell_type": "markdown",
   "metadata": {},
   "source": [
    "Analyse all the events. Not you may prefer just looping over the data manager directly via while(dm->ReadEvent()) fs->Process();\n",
    "You can also supply a number of events to analyse e.g. fs.ProcessData(100);"
   ]
  },
  {
   "cell_type": "code",
   "execution_count": null,
   "metadata": {},
   "outputs": [],
   "source": [
    "fs.ProcessData(1E5); //No number given, analyse all events in chain"
   ]
  },
  {
   "cell_type": "code",
   "execution_count": null,
   "metadata": {},
   "outputs": [],
   "source": [
    "%jsroot"
   ]
  },
  {
   "cell_type": "markdown",
   "metadata": {},
   "source": [
    "Draw some variables from your tree."
   ]
  },
  {
   "cell_type": "code",
   "execution_count": null,
   "metadata": {},
   "outputs": [],
   "source": [
    "TCanvas c1;\n",
    "output->Tree()->Draw(\"MissMass2>>h1(100,-0.5,0.5)\",\"Topo==1\");\n",
    "output->Tree()->Draw(\"MissMass2\",\"Topo==0\",\"same\");\n",
    "output->Tree()->Draw(\"MissMass2\",\"Topo==2\",\"same\");\n",
    "output->Tree()->Draw(\"MissMass2\",\"Topo==3\",\"same\");\n",
    "h1->SetMinimum(0);\n",
    "c1.Draw();"
   ]
  },
  {
   "cell_type": "code",
   "execution_count": null,
   "metadata": {},
   "outputs": [],
   "source": [
    "TCanvas c3;\n",
    "c3.Divide(2,2);\n",
    "c3.cd(1);\n",
    "treeman->GetPrep(0)->Tree()->Draw(\"ElectronP:ElectronTime>>h1(100,-10,10,100,0,12)\",\"\");\n",
    "c3.cd(2);\n",
    "treeman->GetPrep(0)->Tree()->Draw(\"ProtonP:ProtonTime>>h2(100,-10,10,100,0,10)\",\"\",\"col1\");\n",
    "c3.cd(3);\n",
    "treeman->GetPrep(0)->Tree()->Draw(\"PipP:PipTime>>h3(100,-10,10,100,0,10)\",\"\",\"col1\");\n",
    "c3.cd(4);\n",
    "treeman->GetPrep(0)->Tree()->Draw(\"PimP:PimTime>>h4(100,-10,10,100,0,10)\",\"\",\"col1\");\n",
    "c3.Draw();"
   ]
  },
  {
   "cell_type": "markdown",
   "metadata": {},
   "source": [
    "And remember to save the tree!"
   ]
  },
  {
   "cell_type": "code",
   "execution_count": null,
   "metadata": {},
   "outputs": [],
   "source": [
    "delete output;\n",
    "delete treeman;"
   ]
  }
 ],
 "metadata": {
  "kernelspec": {
   "display_name": "ROOT C++",
   "language": "c++",
   "name": "root"
  },
  "language_info": {
   "codemirror_mode": "text/x-c++src",
   "file_extension": ".C",
   "mimetype": " text/x-c++src",
   "name": "c++"
  }
 },
 "nbformat": 4,
 "nbformat_minor": 2
}
