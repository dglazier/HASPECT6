{
 "cells": [
  {
   "cell_type": "markdown",
   "metadata": {},
   "source": [
    "# Develop the final state class\n",
    "## There are 3 parts of the class the user is primarily responsible for\n",
    "1. Calculations specific to each topology e.g. start time, missing mass,....\n",
    "2. Calculations common to all topologies, typically the Kinematics of the reaction\n",
    "3. The Data to be saved in an output tree"
   ]
  },
  {
   "cell_type": "markdown",
   "metadata": {},
   "source": [
    "## Topology Specific\n",
    "This requires defining the Topo_X functions where C is the number of the topology.\n",
    "These are saved in a seperate file ToposXXX.h. We will edit this directly in this Jupyter notebook.\n",
    "\n",
    "Here you can set the reaction start time to allow calculation of DeltaTime for PID purposes. It may be you want to take this from one particular type of particle such as scattered electron or tagger photon.\n",
    "You should also calculate the missing mass for this topology and other masses specific to a topology.\n",
    "\n",
    "Again you will need to change XXX to your class name\n",
    "\n",
    "**Note to save the file you must run the jupyter cell**\n",
    "\n",
    "You will probably want to use the reconstructed missing 4-vector as the atualll missing particle 4-vector. To do this, after calculating HSLorentzVector miss give it to the missing particle in the topology and fix its mass to the PDGMass, you can use the particle FixP4 function for this. For example, if the only particle I did not detect for a particular topology was the proton I can calculate miss and:\n",
    "\n",
    "fProton.FixP4(miss);"
   ]
  },
  {
   "cell_type": "code",
   "execution_count": null,
   "metadata": {},
   "outputs": [],
   "source": [
    "%edit ToposPi2.h"
   ]
  },
  {
   "cell_type": "code",
   "execution_count": 1,
   "metadata": {},
   "outputs": [
    {
     "name": "stdout",
     "output_type": "stream",
     "text": [
      "Created file '/work/Dropbox/HaSpect/dev/HASPECT6/hsclas12/ToposPi2.h'.\n"
     ]
    }
   ],
   "source": [
    "%%file ToposPi2.h\n",
    "#include \"Pi2.h\"\n",
    "void Pi2::Topo_0(){\n",
    "  //For topology Electron:Proton:Pip:Pim\n",
    "\n",
    "  //if(fElectron.Detector()>0) {fGoodEvent=kFALSE;return;} //Put some cuts on particle detectors etc...\n",
    "  //Define starttime from electron candidate\n",
    "  fTrigger.StartTime(&fElectron);\n",
    "  //Subtract starttime from all particles\n",
    "  fTrigger.SubtractStartTime(&fElectron,&fProton,&fPip,&fPim);\n",
    "\n",
    "  //Reconstruct missing or combined particles\n",
    "  HSLorentzVector miss= fBeam + fTarget -fElectron.P4() -fProton.P4() -fPip.P4() -fPim.P4();\n",
    "  TD.MissMass2=miss.M2();\n",
    "  TD.MissMass=miss.M();\n",
    "}\n",
    "void Pi2::Topo_1(){\n",
    "  //For topology Electron:Proton:Pip\n",
    "\n",
    "  //if(fElectron.Detector()>0) {fGoodEvent=kFALSE;return;} //Put some cuts on particle detectors etc...\n",
    "  //Define starttime from electron candidate\n",
    "  fTrigger.StartTime(&fElectron);\n",
    "  //Subtract starttime from all particles\n",
    "  fTrigger.SubtractStartTime(&fElectron,&fProton,&fPip);\n",
    "\n",
    "  //Reconstruct missing or combined particles\n",
    "  HSLorentzVector miss= fBeam + fTarget -fElectron.P4() -fProton.P4() -fPip.P4();\n",
    "  TD.MissMass2=miss.M2();\n",
    "  TD.MissMass=miss.M();\n",
    "  fPim.FixP4(miss);\n",
    "}\n",
    "void Pi2::Topo_2(){\n",
    "  //For topology Electron:Proton:Pim\n",
    "\n",
    "  //if(fElectron.Detector()>0) {fGoodEvent=kFALSE;return;} //Put some cuts on particle detectors etc...\n",
    "  //Define starttime from electron candidate\n",
    "  fTrigger.StartTime(&fElectron);\n",
    "  //Subtract starttime from all particles\n",
    "  fTrigger.SubtractStartTime(&fElectron,&fProton,&fPim);\n",
    "\n",
    "  //Reconstruct missing or combined particles\n",
    "  HSLorentzVector miss= fBeam + fTarget -fElectron.P4() -fProton.P4() -fPim.P4();\n",
    "  TD.MissMass2=miss.M2();\n",
    "  TD.MissMass=miss.M();\n",
    "  fPip.FixP4(miss);\n",
    "}\n",
    "void Pi2::Topo_3(){\n",
    "  //For topology Electron:Pip:Pim\n",
    "\n",
    "  //if(fElectron.Detector()>0) {fGoodEvent=kFALSE;return;} //Put some cuts on particle detectors etc...\n",
    "  //Define starttime from electron candidate\n",
    "  fTrigger.StartTime(&fElectron);\n",
    "  //Subtract starttime from all particles\n",
    "  fTrigger.SubtractStartTime(&fElectron,&fPip,&fPim);\n",
    "\n",
    "  //Reconstruct missing or combined particles\n",
    "  HSLorentzVector miss= fBeam + fTarget -fElectron.P4() -fPip.P4() -fPim.P4();\n",
    "  TD.MissMass2=miss.M2();\n",
    "  TD.MissMass=miss.M();\n",
    "  \n",
    "  fProton.FixP4(miss);\n",
    "}\n"
   ]
  },
  {
   "cell_type": "markdown",
   "metadata": {},
   "source": [
    "## Common Calculations : Kinematics\n",
    "The final state kinematics are common to all topologies so we only need to write one function.\n",
    "We can also make use of the Kinematics calculator HSKinematics (use as fKine) for calculating standard production and decay quantities. Remember to prefix any variable you wish to save with \"TM.\" then add them to the TreeData class in the next step."
   ]
  },
  {
   "cell_type": "code",
   "execution_count": 2,
   "metadata": {},
   "outputs": [],
   "source": [
    "%edit KinematicsPi2.h"
   ]
  },
  {
   "cell_type": "code",
   "execution_count": 3,
   "metadata": {},
   "outputs": [
    {
     "name": "stdout",
     "output_type": "stream",
     "text": [
      "Created file '/work/Dropbox/HaSpect/dev/HASPECT6/hsclas12/KinematicsPi2.h'.\n"
     ]
    }
   ],
   "source": [
    "%%file KinematicsPi2.h\n",
    "#include \"Pi2.h\"\n",
    "void Pi2::Kinematics(){\n",
    "  TD.TrigNSector=fTrigger.TrigNSectors();\n",
    "  TD.TrigNSectorRoads=fTrigger.TrigNSectorsRoads();\n",
    "\n",
    "   //Calculate possible resonances\n",
    "  HSLorentzVector pMeson=fPip.P4()+fPim.P4();\n",
    "  HSLorentzVector pDpp=fProton.P4()+fPip.P4();\n",
    "  HSLorentzVector pD0=fProton.P4()+fPim.P4();\n",
    "  //invariant masses\n",
    "  TD.MesonMass=pMeson.M();\n",
    "  TD.DppMass=pDpp.M();\n",
    "  TD.D0Mass=pD0.M();\n",
    "  \n",
    "  fKine.SetElecsTarget(fBeam,fElectron.P4(),fTarget);\n",
    "  TD.W=fKine.W(); //photon bem energy\n",
    "  TD.Q2=fKine.Q2();\n",
    "  TD.Pol=fKine.GammaPol();\n",
    "  TD.Egamma=fKine.GammaE();\n",
    "  \n",
    "  //calculate CM production kinematics for meson\n",
    "  fKine.SetMesonBaryon(pMeson,fProton.P4());\n",
    "  fKine.ElectroCMDecay();\n",
    "  TD.MesonCosTh=fKine.CosTheta();//prefix all variables to be saved wiht TM.\n",
    "  TD.MesonPhi=fKine.Phi();\n",
    "  \n",
    "  TD.ElTh=fElectron.P4p()->Theta()*TMath::RadToDeg();\n",
    "  TD.ElP=fElectron.P4p()->P();\n",
    "  TD.ElTime=fElectron.DeltaTime();\n",
    "  TD.ProtTh=fProton.P4p()->Theta()*TMath::RadToDeg();\n",
    "  TD.ProtP=fProton.P4p()->P();\n",
    "  TD.ProtTime=fProton.DeltaTime();\n",
    "  TD.PipTh=fPip.P4p()->Theta()*TMath::RadToDeg();\n",
    "  TD.PipP=fPip.P4p()->P();\n",
    "  TD.PipTime=fPip.DeltaTime();\n",
    "  TD.PimTh=fPim.P4p()->Theta()*TMath::RadToDeg();\n",
    "  TD.PimP=fPim.P4p()->P();\n",
    "  TD.PimTime=fPim.DeltaTime();\n",
    "\n",
    "  \n",
    "}"
   ]
  },
  {
   "cell_type": "markdown",
   "metadata": {},
   "source": [
    "## Tree Data\n",
    "The data you write in a tree is connected via a TreeData class which has data members which will be the tree leafs i.e. data you can perform further analysis on (e.g. histogram, event fitting). Every variable you add to the class can be accessed in your final state class with TM.var=some number;"
   ]
  },
  {
   "cell_type": "code",
   "execution_count": null,
   "metadata": {},
   "outputs": [],
   "source": [
    "%edit TreeDataPi2.h"
   ]
  },
  {
   "cell_type": "code",
   "execution_count": 2,
   "metadata": {},
   "outputs": [
    {
     "name": "stdout",
     "output_type": "stream",
     "text": [
      "Created file '/scratch/dglazier/testg8/HASPECT6/hsclas12/TreeDataPi2.h'.\n"
     ]
    }
   ],
   "source": [
    "%%file TreeDataPi2.h\n",
    "#ifndef TREEDATAPi2_h\n",
    "#define TREEDATAPi2_h \n",
    "#include \"TreeData.h\"\n",
    "\n",
    "class TreeDataPi2: public HS::TreeData{\n",
    " public:\n",
    "  //data member for tree branches below here\n",
    "  Double_t MissMass=0;\n",
    "  Double_t MissMass2=0;\n",
    "  \n",
    "  Short_t TrigNSector=0;\n",
    "  Short_t TrigNSectorRoads=0;\n",
    "\n",
    "  Double_t MesonMass=0;\n",
    "  Double_t DppMass=0;\n",
    "  Double_t D0Mass=0;\n",
    "  \n",
    "  Double_t W=0; \n",
    "  Double_t Q2=0;\n",
    "  Double_t Pol=0;\n",
    "  Double_t Egamma=0;\n",
    "  \n",
    "  Double_t MesonCosTh=0;\n",
    "  Double_t MesonPhi=0;  \n",
    "  \n",
    "  Double_t ElTh=0;\n",
    "  Double_t ElP=0;\n",
    "  Double_t ElTime=0;\n",
    "  Double_t ProtTh=0;\n",
    "  Double_t ProtP=0;\n",
    "  Double_t ProtTime=0;\n",
    "  Double_t PipTh=0;\n",
    "  Double_t PipP=0;\n",
    "  Double_t PipTime=0;\n",
    "  Double_t PimTh=0;\n",
    "  Double_t PimP=0;\n",
    "  Double_t PimTime=0;\n",
    "\n",
    "\n",
    "  ClassDef(TreeDataPi2,1);\n",
    "};\n",
    "#endif\n"
   ]
  },
  {
   "cell_type": "markdown",
   "metadata": {},
   "source": [
    "**Compiling**\n",
    "Now you can try and compile all of the code together. You may need to go back and fix bugs after. This is best done by removing the %edit cells and doing a restart and run whole notebook. Ore restarting and clicking through all cells apart from %edit"
   ]
  },
  {
   "cell_type": "code",
   "execution_count": 3,
   "metadata": {},
   "outputs": [
    {
     "name": "stdout",
     "output_type": "stream",
     "text": [
      "%%%%%%%%%%%%%%%%%%%%%%%%%    THSParticle\n"
     ]
    },
    {
     "name": "stderr",
     "output_type": "stream",
     "text": [
      "In file included from LoadFinalState_C_ACLiC_dict dictionary payload:10:\n",
      "\u001b[1m/scratch/dglazier/testg8/HASPECT6/hsfinalstate/LoadFinalState.C:11:6: \u001b[0m\u001b[0;1;31merror: \u001b[0m\u001b[1mredefinition of 'LoadFinalState'\u001b[0m\n",
      "void LoadFinalState(){\n",
      "\u001b[0;1;32m     ^\n",
      "\u001b[0m\u001b[1m/scratch/dglazier/tesths/HASPECT6/hsfinalstate/LoadFinalState.C:11:6: \u001b[0m\u001b[0;1;30mnote: \u001b[0mprevious definition is here\u001b[0m\n",
      "void LoadFinalState(){\n",
      "\u001b[0;1;32m     ^\n",
      "\u001b[0mWarning in <TInterpreter::TCling::RegisterModule>: Problems declaring payload for module LoadFinalState_C_ACLiC_dict.\n"
     ]
    },
    {
     "name": "stdout",
     "output_type": "stream",
     "text": [
      "%%%%%%%%%%%%%%%%%%%%%%%%%    EventInfo\n",
      "%%%%%%%%%%%%%%%%%%%%%%%%%    RunInfo\n",
      "%%%%%%%%%%%%%%%%%%%%%%%%%    THSWeights\n",
      "%%%%%%%%%%%%%%%%%%%%%%%%%    DataManager\n",
      "%%%%%%%%%%%%%%%%%%%%%%%%%    LundReader\n",
      "&&&&&&&&&&&&&&&&&&&&&&&&&&&& HSKinematics\n",
      "&&&&&&&&&&&&&&&&&&&&&&&&&&&& Cuts\n",
      "&&&&&&&&&&&&&&&&&&&&&&&&&&&& Combitorial\n",
      "&&&&&&&&&&&&&&&&&&&&&&&&&&&& ParticleIter\n",
      "&&&&&&&&&&&&&&&&&&&&&&&&&&&& Topology\n",
      "&&&&&&&&&&&&&&&&&&&&&&&&&&&& FinalState\n",
      "&&&&&&&&&&&&&&&&&&&&&&&&&&&& FiledTree\n",
      "&&&&&&&&&&&&&&&&&&&&&&&&&&&& TreeData\n",
      "&&&&&&&&&&&&&&&&&&&&&&&&&&&& TopoActionManager\n",
      "&&&&&&&&&&&&&&&&&&&&&&&&&&&& ParticleCuts\n",
      "&&&&&&&&&&&&&&&&&&&&&&&&&&&& VarsParticle\n",
      "&&&&&&&&&&&&&&&&&&&&&&&&&&&& TreePrepParticle\n",
      "&&&&&&&&&&&&&&&&&&&&&&&&&&&& MVASignalID\n",
      "&&&&&&&&&&&&&&&&&&&&&&&&&&&& ParticleCutsManager\n",
      "&&&&&&&&&&&&&&&&&&&&&&&&&&&& TreePrepManager\n",
      "&&&&&&&&&&&&&&&&&&&&&&&&&&&& MVASignalIDManager\n",
      "&&&&&&&&&&&&&&&&&&&&&&&&&&&& CLAS/CLASTrigger\n",
      "&&&&&&&&&&&&&&&&&&&&&&&&&&&& CLAS12/CLAS12Trigger\n",
      "&&&&&&&&&&&&&&&&&&&&&&&&&&&& CLAS12/CLAS12DeltaTime\n"
     ]
    },
    {
     "name": "stderr",
     "output_type": "stream",
     "text": [
      "Info in <TUnixSystem::ACLiC>: creating shared library /scratch/dglazier/testg8/HASPECT6/hsclas12/./TreeDataPi2_C.so\n",
      "Info in <TUnixSystem::ACLiC>: creating shared library /scratch/dglazier/testg8/HASPECT6/hsclas12/./Pi2_C.so\n"
     ]
    }
   ],
   "source": [
    "gROOT->ProcessLine(\".x LoadPi2.C+\");"
   ]
  },
  {
   "cell_type": "markdown",
   "metadata": {},
   "source": [
    "Now you can try running on some data, here is an example of how to run on a [ROOT file](RunROOT.ipynb)"
   ]
  },
  {
   "cell_type": "code",
   "execution_count": null,
   "metadata": {},
   "outputs": [],
   "source": []
  }
 ],
 "metadata": {
  "kernelspec": {
   "display_name": "ROOT C++",
   "language": "c++",
   "name": "root"
  },
  "language_info": {
   "codemirror_mode": "text/x-c++src",
   "file_extension": ".C",
   "mimetype": " text/x-c++src",
   "name": "c++"
  }
 },
 "nbformat": 4,
 "nbformat_minor": 2
}
